{
 "cells": [
  {
   "cell_type": "markdown",
   "id": "c17d066c",
   "metadata": {},
   "source": [
    "# Notebook 3 - Plots and analysis\n",
    "\n",
    "***"
   ]
  },
  {
   "cell_type": "markdown",
   "id": "5a155616",
   "metadata": {},
   "source": [
    "In this notebook we will showcase most of the functions that will be useful for analysis of steering: \n",
    "1. [Ranking Shifts](#ranking-shifts)\n",
    "2. [Convergence Check](#convergence-check)\n",
    "3. [Neuron Activations for Categories](#neuron-activations-for-categories)\n",
    "4. [Neuron Activations for Tokens and Texts](#neuron-activations-for-tokens-and-texts)"
   ]
  },
  {
   "cell_type": "code",
   "execution_count": 1,
   "id": "b2daf815",
   "metadata": {},
   "outputs": [],
   "source": [
    "# Append the path to the Functions directory\n",
    "\n",
    "import sys\n",
    "sys.path.append('../Functions')\n",
    "sys.path.append('../Features')"
   ]
  },
  {
   "cell_type": "markdown",
   "id": "ea364972",
   "metadata": {},
   "source": [
    "## Functions used in this notebook:\n",
    "### From \"Ranking_shifts.py\":\n",
    "- [calculate_specific_differences](#calculate-specific-differences) - Calculate distance differences between original and steered embeddings\n",
    "- [title_ranking_difference](#title-ranking-difference) - Compare top movie rankings before and after steering\n",
    "- [rank_categories_by_difference](#rank-categories-by-difference) - Rank movie categories by mean steering effects\n",
    "- [get_most_shifted_categories](#get-most-shifted-categories) - Identify categories most affected by steering\n",
    "- [experimentation_function](#experimentation-function) - Export category shifts for single node steering for a layer\n",
    "- [plot_change_in_top_shift](#plot-change-in-top-shift) - Plot category changes across steering coefficients\n",
    "- [plot_rank_plot](#plot-rank-plot) - Visualize category ranking shifts\n",
    "\n",
    "### From \"Convergence_check.py\":\n",
    "- [convergence_check_with_vector](#steering-with-a-vector) - Plots the mean of the distance between the steered embeddings and the steering vector for a range of coefficients\n",
    "- [convergence_check_with_neuron](#steering-with-a-neuron) - plots the mean of the distance between the steered embeddings and a comparison vector (feature embedding) for a range of coefficients.\n",
    "- [convergence_by_category](#convergence-by-category) - plots the mean distances from the steered embeddings to the steering vector, for each of the categories given\n",
    "\n",
    "### From \"Activations_tokens_and_texts.py\".\n",
    "- [get_text_activations_per_layer](#get-text-activations) - Calculates the activations for all neurons in a layer\n",
    "- [plot_text_activations_per_layer](#plot-text-activations) - Plots the activation values and neuron index for all neurons in a layer\n",
    "- [compare_text_activations](#compare-text-activations) - Plots two differet texts' activations for comparison\n",
    "- [find_extreme_nodes_for_all_texts](#find-extreme-nodes) - Finds the most and least activated neurons for the texts\n",
    "- [plot_extreme_nodes_for_all_texts](#plot-extreme-nodes) - Plots the most and least activated neurons for the texts (text_index, neuron_index)\n",
    "\n",
    "### From \"Activations_categories.py\":\n",
    "- [get_category_activations](#get-category-activations) - Extract neuron activations for a category in a layer\n",
    "- [plot_category_activations](#plot-category-activations) - Plot the activations\n",
    "- [find_activation_shift](#find-activation-shift) - Find the most shifted neurons before vs. after steering\n",
    "- [create_neuron_shift_heatmap](#create-heatmap) - Create a heatmap of the most shifted neurons across categories\n",
    "- [plot_change_in_top_shifted_neurons](#plot-change-in-top-shifted-neurons) - Plot how most shifted / activated neurons are steered with varying coefficient\n",
    "\n",
    "### Other functions\n",
    "- \"Embeddings.py\": import_embedding_data_from_pkl - Loads embeddings and model data from file\n",
    "- \"Steering_vector.py\": import_steering_vector_from_pkl - Loads steering vector from file\n",
    "- \"Steering.py\": get_steered_embeddings_vector - Applies steering using a steering vector and returns the steered embeddings"
   ]
  },
  {
   "cell_type": "markdown",
   "id": "87e97e28",
   "metadata": {},
   "source": [
    "## Import Python Functions"
   ]
  },
  {
   "cell_type": "code",
   "execution_count": 2,
   "id": "1d02e043",
   "metadata": {},
   "outputs": [],
   "source": [
    "# Import needed functions\n",
    "from Embeddings import import_embedding_data_from_pkl\n",
    "from Steering_vector import import_steering_vector_from_pkl\n",
    "from Steering import get_steered_embeddings_vector, create_steered_model_output"
   ]
  },
  {
   "cell_type": "code",
   "execution_count": 3,
   "id": "f9c9acdf",
   "metadata": {},
   "outputs": [],
   "source": [
    "from Ranking_shifts import calculate_specific_differences, title_ranking_difference, rank_categories_by_difference, get_most_shifted_categories, experimentation_function, plot_change_in_top_shift, plot_rank_plot\n",
    "from Convergence_check import convergence_check_with_vector, convergence_check_with_neuron, convergence_by_category\n",
    "from Activations_categories import get_category_activations, plot_category_activations, find_activation_shift, create_neuron_shift_heatmap, plot_change_in_top_shifted_neurons\n",
    "from Activations_tokens_and_texts import get_text_activations_per_layer, plot_text_activations_per_layer, compare_text_activations, find_extreme_nodes_for_all_texts, plot_extreme_nodes_for_all_texts\n"
   ]
  },
  {
   "cell_type": "markdown",
   "id": "20835eed",
   "metadata": {},
   "source": [
    "***\n",
    "\n",
    "# Ranking Shifts"
   ]
  },
  {
   "cell_type": "markdown",
   "id": "329da966",
   "metadata": {},
   "source": [
    "The following functions are imported from the file `\"Ranking_shifts.py\"`. They are used to create a number of outputs that can be used to analyze the effect of steering on the dataset.\n"
   ]
  },
  {
   "cell_type": "code",
   "execution_count": 4,
   "id": "365e7121",
   "metadata": {},
   "outputs": [],
   "source": [
    "#from Ranking_shifts import calculate_specific_differences, title_ranking_difference, rank_categories_by_difference, get_most_shifted_categories, experimentation_function, plot_change_in_top_shift, plot_rank_plot"
   ]
  },
  {
   "cell_type": "markdown",
   "id": "06d4c7b7",
   "metadata": {},
   "source": [
    "## Setup"
   ]
  },
  {
   "cell_type": "markdown",
   "id": "1f13afa8",
   "metadata": {},
   "source": [
    "Before we start analyzing we need to import the embedding data we created in `Notebook 1`, as well as a steering vector."
   ]
  },
  {
   "cell_type": "code",
   "execution_count": 5,
   "id": "9dc41dc0",
   "metadata": {},
   "outputs": [
    {
     "name": "stdout",
     "output_type": "stream",
     "text": [
      "Importing 1.36 GB data from file Test_export_embeddings.pkl...\n",
      "Data imported from Test_export_embeddings.pkl\n",
      "Model loaded successfully.\n",
      "Embeddings loaded successfully.\n",
      "Encoded input loaded successfully.\n",
      "All texts data loaded successfully.\n",
      "Steering vectors imported from steering_vector.pkl\n",
      "Available steering vectors: 'War' (layers: [10, 11]), 'Norway' (layers: [11]), 'Love' (layers: [11])\n",
      "Returning steering vector for 'War' layer 11\n",
      "Created steered model output with shape: torch.Size([1000, 66, 384])\n",
      "Created steered embeddings with shape: torch.Size([1000, 384])\n"
     ]
    }
   ],
   "source": [
    "# Checkpoint 1: Import the necessary data\n",
    "data = import_embedding_data_from_pkl('Test_export_embeddings.pkl', model=True, embeddings=True, encoded_input=True, all_texts_data=True)\n",
    "model, original_embeddings, encoded_input, all_texts_data = data\n",
    "\n",
    "feature = \"War\"\n",
    "type = \"l2\" # Chose what distance measure to use: l1, l2 or cosine\n",
    "layer_to_steer = 11  # Change this to the layer you want to analyze\n",
    "steering_coefficient = 0.5  # Adjust steering coefficient as needed\n",
    "\n",
    "\n",
    "steering_vector = import_steering_vector_from_pkl('steering_vector.pkl', feature_name=feature, layer_to_steer=layer_to_steer)\n",
    "\n",
    "# We will now create the steered embeddings. For demonstration purposes, we will steer using our steering vector and the l2 distance measure.\n",
    "steered_embeddings = get_steered_embeddings_vector(\n",
    "    model, \n",
    "    encoded_input, \n",
    "    layer_to_steer=layer_to_steer, \n",
    "    steering_coefficient=steering_coefficient, \n",
    "    steering_vector=steering_vector, \n",
    "    normalize=True\n",
    "    )"
   ]
  },
  {
   "cell_type": "markdown",
   "id": "ec25c0d4",
   "metadata": {},
   "source": [
    "After the setup we have the following:\n",
    "- `model:` the loaded Transformer (e.g. `AutoModel`) configured for inference\n",
    "- `original_embeddings:`\n",
    "- `encoded_input:`\n",
    "- `all_texts_data:`\n",
    "- `feature:` Decides what steering vector to use (e.g. War, Love)\n",
    "- `type:` Decides what difference measure to use (i.e. \"l1\", \"l2\", \"cosine\")\n",
    "- `layer_to_steer:` The layer to perform steering on\n",
    "- `steering_coefficient:` How strong the steering should be\n",
    "- `steering_vector:` The embedding of the selected feature vector\n",
    "- `steered_embeddings:` The embeddings of the steered titles\n"
   ]
  },
  {
   "cell_type": "markdown",
   "id": "496529aa",
   "metadata": {},
   "source": [
    "## Analysis"
   ]
  },
  {
   "cell_type": "code",
   "execution_count": 6,
   "id": "54ec43da",
   "metadata": {},
   "outputs": [
    {
     "name": "stdout",
     "output_type": "stream",
     "text": [
      "\n",
      "Steering | Feature: War | Coefficient: 0.5 | Layer: 11 | Type: l2\n",
      "\n"
     ]
    }
   ],
   "source": [
    "print(f\"\\nSteering | Feature: {feature} | Coefficient: {steering_coefficient} | Layer: {layer_to_steer} | Type: {type}\\n\")"
   ]
  },
  {
   "cell_type": "code",
   "execution_count": 7,
   "id": "cf9c1c65",
   "metadata": {},
   "outputs": [
    {
     "name": "stdout",
     "output_type": "stream",
     "text": [
      "============================================================\n",
      "📋 RANKING SHIFTS SETUP CHECKPOINT\n",
      "============================================================\n",
      "✅ Original embeddings loaded: torch.Size([1000, 384])\n",
      "✅ Model and encoded input available\n",
      "✅ Text data loaded: 1000 items\n",
      "✅ Feature: War\n",
      "✅ Distance type: l2\n",
      "✅ Layer to steer: 11\n",
      "✅ Steering coefficient: 0.5\n",
      "✅ Steering vector shape: torch.Size([384])\n",
      "✅ Steered embeddings created: torch.Size([1000, 384])\n",
      "✅ Original sample: [-0.06406020373106003, 0.055750492960214615, -0.051509786397218704]\n",
      "✅ Steered sample: [-0.06847507506608963, 0.05591105297207832, -0.06437089294195175]\n",
      "✅ Steering effect magnitude: 0.0136\n",
      "============================================================\n",
      "🎯 CHECKPOINT PASSED - Ready for ranking shift analysis!\n",
      "📊 Available analyses: Title ranking, category differences, most shifted categories\n",
      "============================================================\n"
     ]
    }
   ],
   "source": [
    "# 🎯 CHECKPOINT: Data and Steering Setup\n",
    "print(\"=\"*60)\n",
    "print(\"📋 RANKING SHIFTS SETUP CHECKPOINT\")\n",
    "print(\"=\"*60)\n",
    "\n",
    "try:\n",
    "    # Verify data import\n",
    "    print(f\"✅ Original embeddings loaded: {original_embeddings.shape}\")\n",
    "    if model is not None and encoded_input is not None:\n",
    "        print(f\"✅ Model and encoded input available\")\n",
    "    print(f\"✅ Text data loaded: {len(all_texts_data)} items\")\n",
    "\n",
    "    # Verify steering parameters\n",
    "    print(f\"✅ Feature: {feature}\")\n",
    "    print(f\"✅ Distance type: {type}\")\n",
    "    print(f\"✅ Layer to steer: {layer_to_steer}\")\n",
    "    print(f\"✅ Steering coefficient: {steering_coefficient}\")\n",
    "    \n",
    "    # Verify steering vector\n",
    "    print(f\"✅ Steering vector shape: {steering_vector.shape}\")\n",
    "    \n",
    "    # Verify steered embeddings\n",
    "    print(f\"✅ Steered embeddings created: {steered_embeddings.shape}\")\n",
    "\n",
    "    # Compare original vs steered (sample)\n",
    "    import torch\n",
    "    original_sample = original_embeddings[0][:3]\n",
    "    steered_sample = steered_embeddings[0][:3]\n",
    "    difference = torch.norm(steered_sample - original_sample)\n",
    "\n",
    "    print(f\"✅ Original sample: {original_sample.tolist()}\")\n",
    "    print(f\"✅ Steered sample: {steered_sample.tolist()}\")\n",
    "    print(f\"✅ Steering effect magnitude: {difference:.4f}\")\n",
    "\n",
    "    print(\"=\"*60)\n",
    "    print(\"🎯 CHECKPOINT PASSED - Ready for ranking shift analysis!\")\n",
    "    print(\"📊 Available analyses: Title ranking, category differences, most shifted categories\")\n",
    "    print(\"=\"*60)\n",
    "\n",
    "except Exception as e:\n",
    "    print(\"❌ CHECKPOINT FAILED\")\n",
    "    print(f\"💥 Error: {str(e)}\")\n",
    "    print(\"🔧 Please check previous cells and ensure all necessary data is loaded\")\n",
    "    print(\"💡 Tip: Make sure that the embeddings data and steering vector are properly loaded\")"
   ]
  },
  {
   "cell_type": "markdown",
   "id": "eb52a53b",
   "metadata": {},
   "source": [
    "We can now analyze the effect of steering on the dataset.\n"
   ]
  },
  {
   "cell_type": "markdown",
   "id": "49c0fc67",
   "metadata": {},
   "source": [
    "### <a id=\"title-ranking-difference\"></a>Title Ranking Difference\n",
    "\n",
    "`title_ranking_difference` creates a ranking of the top 10 movies closest to our steering vector before and after steering with that vector.\n",
    "- `type` decides what distance measure to use. Is a `string`, and can be either `\"l1\"`, `\"l2\"` or `\"cosine\"`.\n"
   ]
  },
  {
   "cell_type": "markdown",
   "id": "c0a9a154",
   "metadata": {},
   "source": [
    "We have reversed the order of the cosine similarity, so that the top 10 results are the ones with the smallest distance to the steering vector.\n",
    "A lower value indicates a closer match to the steering vector, to match with the L1 and L2 distance measures."
   ]
  },
  {
   "cell_type": "code",
   "execution_count": 8,
   "id": "2efa493a",
   "metadata": {},
   "outputs": [
    {
     "name": "stdout",
     "output_type": "stream",
     "text": [
      "\n",
      "Original Ranking: Top 10 texts with closest l2 distance to steering vector:\n",
      "\n",
      "Text  Title                                    Genre                   L2\n",
      "---------------------------------------------------------------------------\n",
      "81    Paths of Glory                           War                 1.0850\n",
      "358   The Avengers                             Adventure           1.1041\n",
      "747   Star Trek Into Darkness                  Sci-Fi              1.1075\n",
      "61    Avengers: Infinity War                   Adventure           1.1284\n",
      "25    Saving Private Ryan                      War                 1.1323\n",
      "857   The Dirty Dozen                          War                 1.1360\n",
      "130   Uri: The Surgical Strike                 War                 1.1489\n",
      "110   Star Wars: Episode VI - Return of the... Action              1.1600\n",
      "841   First Blood                              Adventure           1.1607\n",
      "511   Cowboy Bebop: Tengoku no tobira          Crime               1.1636\n",
      "\n",
      "Top result\n",
      "Title: Paths of Glory\n",
      "Description: After refusing to attack an enemy position, a general accuses the soldiers of cowardice and their commanding officer must defend them.\n",
      "\n",
      "Steered Ranking: Top 10 texts with closest l2 distance to steering vector:\n",
      "\n",
      "Text  Title                                    Genre                   L2\n",
      "---------------------------------------------------------------------------\n",
      "81    Paths of Glory                           War                 0.9977\n",
      "747   Star Trek Into Darkness                  Sci-Fi              1.0023\n",
      "358   The Avengers                             Adventure           1.0031\n",
      "61    Avengers: Infinity War                   Adventure           1.0359\n",
      "25    Saving Private Ryan                      War                 1.0370\n",
      "857   The Dirty Dozen                          War                 1.0396\n",
      "110   Star Wars: Episode VI - Return of the... Action              1.0550\n",
      "130   Uri: The Surgical Strike                 War                 1.0607\n",
      "511   Cowboy Bebop: Tengoku no tobira          Crime               1.0618\n",
      "841   First Blood                              Adventure           1.0631\n",
      "\n",
      "Top result\n",
      "Title: Paths of Glory\n",
      "Description: After refusing to attack an enemy position, a general accuses the soldiers of cowardice and their commanding officer must defend them.\n"
     ]
    }
   ],
   "source": [
    "# Calculate the distance between the embeddings and the steering vector and rank top 10 before and after steering\n",
    "original_top_10_indices, steered_top_10_indices = title_ranking_difference(\n",
    "    original_embeddings, \n",
    "    steered_embeddings, \n",
    "    steering_vector, \n",
    "    all_texts_data, \n",
    "    type=type\n",
    "    )"
   ]
  },
  {
   "cell_type": "markdown",
   "id": "5ba17b40",
   "metadata": {},
   "source": [
    "### <a id=\"calculate-specific-differences\"></a>Calculate differences for categories\n",
    "\n",
    "`calculate_specific_differences` will calculate the difference between the embeddings and steering vector before and after steering, using the chosen distance measure.\n",
    "- `type` decides what distance measure to use. Is a `string`, and can be either `\"l1\"`, `\"l2\"` or `\"cosine\"`.\n"
   ]
  },
  {
   "cell_type": "markdown",
   "id": "46a835f7",
   "metadata": {},
   "source": [
    "The category values for difference are calculated as a mean of the difference for all the titles labeled with that category."
   ]
  },
  {
   "cell_type": "code",
   "execution_count": 9,
   "id": "c1601991",
   "metadata": {},
   "outputs": [
    {
     "name": "stdout",
     "output_type": "stream",
     "text": [
      "Calculating differences between original and steered embeddings...\n",
      "Differences calculated.\n"
     ]
    }
   ],
   "source": [
    "# Calculate the specific differences between the original and steered embeddings\n",
    "print(\"Calculating differences between original and steered embeddings...\")\n",
    "\n",
    "# Note: For cosine, this function will flip the cosine similarity to match the orientation of L1 and L2 distances.\n",
    "original_differences, steered_differences = calculate_specific_differences(original_embeddings, steered_embeddings, steering_vector, type=type)\n",
    "\n",
    "print(\"Differences calculated.\")\n",
    "# We will now use these differences to rank the categories using different plots."
   ]
  },
  {
   "cell_type": "markdown",
   "id": "57aaebd1",
   "metadata": {},
   "source": [
    "### <a id=\"rank-categories-by-difference\"></a>Rank Categories by Difference"
   ]
  },
  {
   "cell_type": "markdown",
   "id": "7721ebd6",
   "metadata": {},
   "source": [
    "`rank_categories_by_difference` will rank the categories based on the mean difference in distance to the steering vector, and print out the ranking before and after steering. It will also plot a bar graph of the mean differences for each category.\n",
    "- `original_differences` are the differences calculated by `calculate_specific_differences` from the original embeddings\n",
    "- `steered_differences` are the differences calculated by `calculate_specific_differences` from the steered embeddings\n",
    "- `type` decides what distance measure to use. Is a `string`, and can be either `\"l1\"`, `\"l2\"` or `\"cosine\"`. Note that if you change the type here, you will need to calculate the differences using `calculate_specific_differences` again with this new type.\n",
    "- `info_string` is used as title for the bar plots to keep track of the parameters used to return the result\n",
    "- `print_results=True` will print the results in text format, `=False` will not print the results\n",
    "- `remove_low_count` will only use categories that have more than 25 titles, as the mean embedding may not be as representative for \"smaller category\"\n",
    "- `plot_graph=True` will plot the bar graph of the mean differences for each category, `=False` will not plot the graph\n"
   ]
  },
  {
   "cell_type": "code",
   "execution_count": 10,
   "id": "ee087f86",
   "metadata": {},
   "outputs": [
    {
     "name": "stdout",
     "output_type": "stream",
     "text": [
      "\n",
      "Original Category Ranking by l2 difference:\n",
      "==================================================\n",
      "Genre                Mean diff       Count     \n",
      "--------------------------------------------------\n",
      "Romance              1.4393          65        \n",
      "Comedy               1.4261          82        \n",
      "Biography            1.4156          70        \n",
      "Drama                1.4153          198       \n",
      "Mystery              1.3954          34        \n",
      "Adventure            1.3760          102       \n",
      "Thriller             1.3363          50        \n",
      "Crime                1.3356          158       \n",
      "Sci-Fi               1.3307          51        \n",
      "War                  1.2742          43        \n",
      "\n",
      "Steered Category Ranking by l2 difference:\n",
      "==================================================\n",
      "Genre                Mean diff       Count     \n",
      "--------------------------------------------------\n",
      "Romance              1.3438          65        \n",
      "Comedy               1.3335          82        \n",
      "Biography            1.3227          70        \n",
      "Drama                1.3219          198       \n",
      "Mystery              1.3031          34        \n",
      "Adventure            1.2788          102       \n",
      "Thriller             1.2415          50        \n",
      "Crime                1.2408          158       \n",
      "Sci-Fi               1.2347          51        \n",
      "War                  1.1784          43        \n"
     ]
    },
    {
     "data": {
      "application/vnd.plotly.v1+json": {
       "config": {
        "plotlyServerURL": "https://plot.ly"
       },
       "data": [
        {
         "hovertemplate": "%{hovertext}<extra></extra>",
         "hovertext": [
          "Genre: Romance<br>Original Mean Difference: 1.4393<br>Count: 65"
         ],
         "marker": {
          "color": "grey"
         },
         "name": "Original",
         "opacity": 1,
         "showlegend": true,
         "type": "bar",
         "x": [
          "Romance"
         ],
         "y": [
          1.4393234197910016
         ]
        },
        {
         "hovertemplate": "%{hovertext}<extra></extra>",
         "hovertext": [
          "Genre: Romance<br>Steered Mean Difference: 1.3438<br>Count: 65"
         ],
         "marker": {
          "color": "blue"
         },
         "name": "Steered",
         "opacity": 1,
         "showlegend": true,
         "type": "bar",
         "x": [
          "Romance"
         ],
         "y": [
          1.3437921707446758
         ]
        },
        {
         "hovertemplate": "%{hovertext}<extra></extra>",
         "hovertext": [
          "Genre: Comedy<br>Original Mean Difference: 1.4261<br>Count: 82"
         ],
         "marker": {
          "color": "grey"
         },
         "name": "Original",
         "opacity": 1,
         "showlegend": false,
         "type": "bar",
         "x": [
          "Comedy"
         ],
         "y": [
          1.426068926729807
         ]
        },
        {
         "hovertemplate": "%{hovertext}<extra></extra>",
         "hovertext": [
          "Genre: Comedy<br>Steered Mean Difference: 1.3335<br>Count: 82"
         ],
         "marker": {
          "color": "blue"
         },
         "name": "Steered",
         "opacity": 1,
         "showlegend": false,
         "type": "bar",
         "x": [
          "Comedy"
         ],
         "y": [
          1.3335237037844774
         ]
        },
        {
         "hovertemplate": "%{hovertext}<extra></extra>",
         "hovertext": [
          "Genre: Biography<br>Original Mean Difference: 1.4156<br>Count: 70"
         ],
         "marker": {
          "color": "grey"
         },
         "name": "Original",
         "opacity": 1,
         "showlegend": false,
         "type": "bar",
         "x": [
          "Biography"
         ],
         "y": [
          1.415554417882647
         ]
        },
        {
         "hovertemplate": "%{hovertext}<extra></extra>",
         "hovertext": [
          "Genre: Biography<br>Steered Mean Difference: 1.3227<br>Count: 70"
         ],
         "marker": {
          "color": "blue"
         },
         "name": "Steered",
         "opacity": 1,
         "showlegend": false,
         "type": "bar",
         "x": [
          "Biography"
         ],
         "y": [
          1.3227470108440944
         ]
        },
        {
         "hovertemplate": "%{hovertext}<extra></extra>",
         "hovertext": [
          "Genre: Drama<br>Original Mean Difference: 1.4153<br>Count: 198"
         ],
         "marker": {
          "color": "grey"
         },
         "name": "Original",
         "opacity": 1,
         "showlegend": false,
         "type": "bar",
         "x": [
          "Drama"
         ],
         "y": [
          1.4152573919055438
         ]
        },
        {
         "hovertemplate": "%{hovertext}<extra></extra>",
         "hovertext": [
          "Genre: Drama<br>Steered Mean Difference: 1.3219<br>Count: 198"
         ],
         "marker": {
          "color": "blue"
         },
         "name": "Steered",
         "opacity": 1,
         "showlegend": false,
         "type": "bar",
         "x": [
          "Drama"
         ],
         "y": [
          1.3219469346181312
         ]
        },
        {
         "hovertemplate": "%{hovertext}<extra></extra>",
         "hovertext": [
          "Genre: Mystery<br>Original Mean Difference: 1.3954<br>Count: 34"
         ],
         "marker": {
          "color": "grey"
         },
         "name": "Original",
         "opacity": 1,
         "showlegend": false,
         "type": "bar",
         "x": [
          "Mystery"
         ],
         "y": [
          1.395369925919701
         ]
        },
        {
         "hovertemplate": "%{hovertext}<extra></extra>",
         "hovertext": [
          "Genre: Mystery<br>Steered Mean Difference: 1.3031<br>Count: 34"
         ],
         "marker": {
          "color": "blue"
         },
         "name": "Steered",
         "opacity": 1,
         "showlegend": false,
         "type": "bar",
         "x": [
          "Mystery"
         ],
         "y": [
          1.3030546447810005
         ]
        },
        {
         "hovertemplate": "%{hovertext}<extra></extra>",
         "hovertext": [
          "Genre: Adventure<br>Original Mean Difference: 1.3760<br>Count: 102"
         ],
         "marker": {
          "color": "grey"
         },
         "name": "Original",
         "opacity": 1,
         "showlegend": false,
         "type": "bar",
         "x": [
          "Adventure"
         ],
         "y": [
          1.3760033588783414
         ]
        },
        {
         "hovertemplate": "%{hovertext}<extra></extra>",
         "hovertext": [
          "Genre: Adventure<br>Steered Mean Difference: 1.2788<br>Count: 102"
         ],
         "marker": {
          "color": "blue"
         },
         "name": "Steered",
         "opacity": 1,
         "showlegend": false,
         "type": "bar",
         "x": [
          "Adventure"
         ],
         "y": [
          1.2788258229984957
         ]
        },
        {
         "hovertemplate": "%{hovertext}<extra></extra>",
         "hovertext": [
          "Genre: Thriller<br>Original Mean Difference: 1.3363<br>Count: 50"
         ],
         "marker": {
          "color": "grey"
         },
         "name": "Original",
         "opacity": 1,
         "showlegend": false,
         "type": "bar",
         "x": [
          "Thriller"
         ],
         "y": [
          1.3363084506988525
         ]
        },
        {
         "hovertemplate": "%{hovertext}<extra></extra>",
         "hovertext": [
          "Genre: Thriller<br>Steered Mean Difference: 1.2415<br>Count: 50"
         ],
         "marker": {
          "color": "blue"
         },
         "name": "Steered",
         "opacity": 1,
         "showlegend": false,
         "type": "bar",
         "x": [
          "Thriller"
         ],
         "y": [
          1.2414911079406739
         ]
        },
        {
         "hovertemplate": "%{hovertext}<extra></extra>",
         "hovertext": [
          "Genre: Crime<br>Original Mean Difference: 1.3356<br>Count: 158"
         ],
         "marker": {
          "color": "grey"
         },
         "name": "Original",
         "opacity": 1,
         "showlegend": false,
         "type": "bar",
         "x": [
          "Crime"
         ],
         "y": [
          1.3355820661858668
         ]
        },
        {
         "hovertemplate": "%{hovertext}<extra></extra>",
         "hovertext": [
          "Genre: Crime<br>Steered Mean Difference: 1.2408<br>Count: 158"
         ],
         "marker": {
          "color": "blue"
         },
         "name": "Steered",
         "opacity": 1,
         "showlegend": false,
         "type": "bar",
         "x": [
          "Crime"
         ],
         "y": [
          1.2408208960219274
         ]
        },
        {
         "hovertemplate": "%{hovertext}<extra></extra>",
         "hovertext": [
          "Genre: Sci-Fi<br>Original Mean Difference: 1.3307<br>Count: 51"
         ],
         "marker": {
          "color": "grey"
         },
         "name": "Original",
         "opacity": 1,
         "showlegend": false,
         "type": "bar",
         "x": [
          "Sci-Fi"
         ],
         "y": [
          1.3307360831428976
         ]
        },
        {
         "hovertemplate": "%{hovertext}<extra></extra>",
         "hovertext": [
          "Genre: Sci-Fi<br>Steered Mean Difference: 1.2347<br>Count: 51"
         ],
         "marker": {
          "color": "blue"
         },
         "name": "Steered",
         "opacity": 1,
         "showlegend": false,
         "type": "bar",
         "x": [
          "Sci-Fi"
         ],
         "y": [
          1.2346744864594703
         ]
        },
        {
         "hovertemplate": "%{hovertext}<extra></extra>",
         "hovertext": [
          "Genre: War<br>Original Mean Difference: 1.2742<br>Count: 43"
         ],
         "marker": {
          "color": "grey"
         },
         "name": "Original",
         "opacity": 1,
         "showlegend": false,
         "type": "bar",
         "x": [
          "War"
         ],
         "y": [
          1.274210250654886
         ]
        },
        {
         "hovertemplate": "%{hovertext}<extra></extra>",
         "hovertext": [
          "Genre: War<br>Steered Mean Difference: 1.1784<br>Count: 43"
         ],
         "marker": {
          "color": "blue"
         },
         "name": "Steered",
         "opacity": 1,
         "showlegend": false,
         "type": "bar",
         "x": [
          "War"
         ],
         "y": [
          1.1784015727597614
         ]
        }
       ],
       "layout": {
        "barmode": "overlay",
        "height": 500,
        "showlegend": true,
        "template": {
         "data": {
          "bar": [
           {
            "error_x": {
             "color": "#2a3f5f"
            },
            "error_y": {
             "color": "#2a3f5f"
            },
            "marker": {
             "line": {
              "color": "#E5ECF6",
              "width": 0.5
             },
             "pattern": {
              "fillmode": "overlay",
              "size": 10,
              "solidity": 0.2
             }
            },
            "type": "bar"
           }
          ],
          "barpolar": [
           {
            "marker": {
             "line": {
              "color": "#E5ECF6",
              "width": 0.5
             },
             "pattern": {
              "fillmode": "overlay",
              "size": 10,
              "solidity": 0.2
             }
            },
            "type": "barpolar"
           }
          ],
          "carpet": [
           {
            "aaxis": {
             "endlinecolor": "#2a3f5f",
             "gridcolor": "white",
             "linecolor": "white",
             "minorgridcolor": "white",
             "startlinecolor": "#2a3f5f"
            },
            "baxis": {
             "endlinecolor": "#2a3f5f",
             "gridcolor": "white",
             "linecolor": "white",
             "minorgridcolor": "white",
             "startlinecolor": "#2a3f5f"
            },
            "type": "carpet"
           }
          ],
          "choropleth": [
           {
            "colorbar": {
             "outlinewidth": 0,
             "ticks": ""
            },
            "type": "choropleth"
           }
          ],
          "contour": [
           {
            "colorbar": {
             "outlinewidth": 0,
             "ticks": ""
            },
            "colorscale": [
             [
              0,
              "#0d0887"
             ],
             [
              0.1111111111111111,
              "#46039f"
             ],
             [
              0.2222222222222222,
              "#7201a8"
             ],
             [
              0.3333333333333333,
              "#9c179e"
             ],
             [
              0.4444444444444444,
              "#bd3786"
             ],
             [
              0.5555555555555556,
              "#d8576b"
             ],
             [
              0.6666666666666666,
              "#ed7953"
             ],
             [
              0.7777777777777778,
              "#fb9f3a"
             ],
             [
              0.8888888888888888,
              "#fdca26"
             ],
             [
              1,
              "#f0f921"
             ]
            ],
            "type": "contour"
           }
          ],
          "contourcarpet": [
           {
            "colorbar": {
             "outlinewidth": 0,
             "ticks": ""
            },
            "type": "contourcarpet"
           }
          ],
          "heatmap": [
           {
            "colorbar": {
             "outlinewidth": 0,
             "ticks": ""
            },
            "colorscale": [
             [
              0,
              "#0d0887"
             ],
             [
              0.1111111111111111,
              "#46039f"
             ],
             [
              0.2222222222222222,
              "#7201a8"
             ],
             [
              0.3333333333333333,
              "#9c179e"
             ],
             [
              0.4444444444444444,
              "#bd3786"
             ],
             [
              0.5555555555555556,
              "#d8576b"
             ],
             [
              0.6666666666666666,
              "#ed7953"
             ],
             [
              0.7777777777777778,
              "#fb9f3a"
             ],
             [
              0.8888888888888888,
              "#fdca26"
             ],
             [
              1,
              "#f0f921"
             ]
            ],
            "type": "heatmap"
           }
          ],
          "histogram": [
           {
            "marker": {
             "pattern": {
              "fillmode": "overlay",
              "size": 10,
              "solidity": 0.2
             }
            },
            "type": "histogram"
           }
          ],
          "histogram2d": [
           {
            "colorbar": {
             "outlinewidth": 0,
             "ticks": ""
            },
            "colorscale": [
             [
              0,
              "#0d0887"
             ],
             [
              0.1111111111111111,
              "#46039f"
             ],
             [
              0.2222222222222222,
              "#7201a8"
             ],
             [
              0.3333333333333333,
              "#9c179e"
             ],
             [
              0.4444444444444444,
              "#bd3786"
             ],
             [
              0.5555555555555556,
              "#d8576b"
             ],
             [
              0.6666666666666666,
              "#ed7953"
             ],
             [
              0.7777777777777778,
              "#fb9f3a"
             ],
             [
              0.8888888888888888,
              "#fdca26"
             ],
             [
              1,
              "#f0f921"
             ]
            ],
            "type": "histogram2d"
           }
          ],
          "histogram2dcontour": [
           {
            "colorbar": {
             "outlinewidth": 0,
             "ticks": ""
            },
            "colorscale": [
             [
              0,
              "#0d0887"
             ],
             [
              0.1111111111111111,
              "#46039f"
             ],
             [
              0.2222222222222222,
              "#7201a8"
             ],
             [
              0.3333333333333333,
              "#9c179e"
             ],
             [
              0.4444444444444444,
              "#bd3786"
             ],
             [
              0.5555555555555556,
              "#d8576b"
             ],
             [
              0.6666666666666666,
              "#ed7953"
             ],
             [
              0.7777777777777778,
              "#fb9f3a"
             ],
             [
              0.8888888888888888,
              "#fdca26"
             ],
             [
              1,
              "#f0f921"
             ]
            ],
            "type": "histogram2dcontour"
           }
          ],
          "mesh3d": [
           {
            "colorbar": {
             "outlinewidth": 0,
             "ticks": ""
            },
            "type": "mesh3d"
           }
          ],
          "parcoords": [
           {
            "line": {
             "colorbar": {
              "outlinewidth": 0,
              "ticks": ""
             }
            },
            "type": "parcoords"
           }
          ],
          "pie": [
           {
            "automargin": true,
            "type": "pie"
           }
          ],
          "scatter": [
           {
            "fillpattern": {
             "fillmode": "overlay",
             "size": 10,
             "solidity": 0.2
            },
            "type": "scatter"
           }
          ],
          "scatter3d": [
           {
            "line": {
             "colorbar": {
              "outlinewidth": 0,
              "ticks": ""
             }
            },
            "marker": {
             "colorbar": {
              "outlinewidth": 0,
              "ticks": ""
             }
            },
            "type": "scatter3d"
           }
          ],
          "scattercarpet": [
           {
            "marker": {
             "colorbar": {
              "outlinewidth": 0,
              "ticks": ""
             }
            },
            "type": "scattercarpet"
           }
          ],
          "scattergeo": [
           {
            "marker": {
             "colorbar": {
              "outlinewidth": 0,
              "ticks": ""
             }
            },
            "type": "scattergeo"
           }
          ],
          "scattergl": [
           {
            "marker": {
             "colorbar": {
              "outlinewidth": 0,
              "ticks": ""
             }
            },
            "type": "scattergl"
           }
          ],
          "scattermap": [
           {
            "marker": {
             "colorbar": {
              "outlinewidth": 0,
              "ticks": ""
             }
            },
            "type": "scattermap"
           }
          ],
          "scattermapbox": [
           {
            "marker": {
             "colorbar": {
              "outlinewidth": 0,
              "ticks": ""
             }
            },
            "type": "scattermapbox"
           }
          ],
          "scatterpolar": [
           {
            "marker": {
             "colorbar": {
              "outlinewidth": 0,
              "ticks": ""
             }
            },
            "type": "scatterpolar"
           }
          ],
          "scatterpolargl": [
           {
            "marker": {
             "colorbar": {
              "outlinewidth": 0,
              "ticks": ""
             }
            },
            "type": "scatterpolargl"
           }
          ],
          "scatterternary": [
           {
            "marker": {
             "colorbar": {
              "outlinewidth": 0,
              "ticks": ""
             }
            },
            "type": "scatterternary"
           }
          ],
          "surface": [
           {
            "colorbar": {
             "outlinewidth": 0,
             "ticks": ""
            },
            "colorscale": [
             [
              0,
              "#0d0887"
             ],
             [
              0.1111111111111111,
              "#46039f"
             ],
             [
              0.2222222222222222,
              "#7201a8"
             ],
             [
              0.3333333333333333,
              "#9c179e"
             ],
             [
              0.4444444444444444,
              "#bd3786"
             ],
             [
              0.5555555555555556,
              "#d8576b"
             ],
             [
              0.6666666666666666,
              "#ed7953"
             ],
             [
              0.7777777777777778,
              "#fb9f3a"
             ],
             [
              0.8888888888888888,
              "#fdca26"
             ],
             [
              1,
              "#f0f921"
             ]
            ],
            "type": "surface"
           }
          ],
          "table": [
           {
            "cells": {
             "fill": {
              "color": "#EBF0F8"
             },
             "line": {
              "color": "white"
             }
            },
            "header": {
             "fill": {
              "color": "#C8D4E3"
             },
             "line": {
              "color": "white"
             }
            },
            "type": "table"
           }
          ]
         },
         "layout": {
          "annotationdefaults": {
           "arrowcolor": "#2a3f5f",
           "arrowhead": 0,
           "arrowwidth": 1
          },
          "autotypenumbers": "strict",
          "coloraxis": {
           "colorbar": {
            "outlinewidth": 0,
            "ticks": ""
           }
          },
          "colorscale": {
           "diverging": [
            [
             0,
             "#8e0152"
            ],
            [
             0.1,
             "#c51b7d"
            ],
            [
             0.2,
             "#de77ae"
            ],
            [
             0.3,
             "#f1b6da"
            ],
            [
             0.4,
             "#fde0ef"
            ],
            [
             0.5,
             "#f7f7f7"
            ],
            [
             0.6,
             "#e6f5d0"
            ],
            [
             0.7,
             "#b8e186"
            ],
            [
             0.8,
             "#7fbc41"
            ],
            [
             0.9,
             "#4d9221"
            ],
            [
             1,
             "#276419"
            ]
           ],
           "sequential": [
            [
             0,
             "#0d0887"
            ],
            [
             0.1111111111111111,
             "#46039f"
            ],
            [
             0.2222222222222222,
             "#7201a8"
            ],
            [
             0.3333333333333333,
             "#9c179e"
            ],
            [
             0.4444444444444444,
             "#bd3786"
            ],
            [
             0.5555555555555556,
             "#d8576b"
            ],
            [
             0.6666666666666666,
             "#ed7953"
            ],
            [
             0.7777777777777778,
             "#fb9f3a"
            ],
            [
             0.8888888888888888,
             "#fdca26"
            ],
            [
             1,
             "#f0f921"
            ]
           ],
           "sequentialminus": [
            [
             0,
             "#0d0887"
            ],
            [
             0.1111111111111111,
             "#46039f"
            ],
            [
             0.2222222222222222,
             "#7201a8"
            ],
            [
             0.3333333333333333,
             "#9c179e"
            ],
            [
             0.4444444444444444,
             "#bd3786"
            ],
            [
             0.5555555555555556,
             "#d8576b"
            ],
            [
             0.6666666666666666,
             "#ed7953"
            ],
            [
             0.7777777777777778,
             "#fb9f3a"
            ],
            [
             0.8888888888888888,
             "#fdca26"
            ],
            [
             1,
             "#f0f921"
            ]
           ]
          },
          "colorway": [
           "#636efa",
           "#EF553B",
           "#00cc96",
           "#ab63fa",
           "#FFA15A",
           "#19d3f3",
           "#FF6692",
           "#B6E880",
           "#FF97FF",
           "#FECB52"
          ],
          "font": {
           "color": "#2a3f5f"
          },
          "geo": {
           "bgcolor": "white",
           "lakecolor": "white",
           "landcolor": "#E5ECF6",
           "showlakes": true,
           "showland": true,
           "subunitcolor": "white"
          },
          "hoverlabel": {
           "align": "left"
          },
          "hovermode": "closest",
          "mapbox": {
           "style": "light"
          },
          "paper_bgcolor": "white",
          "plot_bgcolor": "#E5ECF6",
          "polar": {
           "angularaxis": {
            "gridcolor": "white",
            "linecolor": "white",
            "ticks": ""
           },
           "bgcolor": "#E5ECF6",
           "radialaxis": {
            "gridcolor": "white",
            "linecolor": "white",
            "ticks": ""
           }
          },
          "scene": {
           "xaxis": {
            "backgroundcolor": "#E5ECF6",
            "gridcolor": "white",
            "gridwidth": 2,
            "linecolor": "white",
            "showbackground": true,
            "ticks": "",
            "zerolinecolor": "white"
           },
           "yaxis": {
            "backgroundcolor": "#E5ECF6",
            "gridcolor": "white",
            "gridwidth": 2,
            "linecolor": "white",
            "showbackground": true,
            "ticks": "",
            "zerolinecolor": "white"
           },
           "zaxis": {
            "backgroundcolor": "#E5ECF6",
            "gridcolor": "white",
            "gridwidth": 2,
            "linecolor": "white",
            "showbackground": true,
            "ticks": "",
            "zerolinecolor": "white"
           }
          },
          "shapedefaults": {
           "line": {
            "color": "#2a3f5f"
           }
          },
          "ternary": {
           "aaxis": {
            "gridcolor": "white",
            "linecolor": "white",
            "ticks": ""
           },
           "baxis": {
            "gridcolor": "white",
            "linecolor": "white",
            "ticks": ""
           },
           "bgcolor": "#E5ECF6",
           "caxis": {
            "gridcolor": "white",
            "linecolor": "white",
            "ticks": ""
           }
          },
          "title": {
           "x": 0.05
          },
          "xaxis": {
           "automargin": true,
           "gridcolor": "white",
           "linecolor": "white",
           "ticks": "",
           "title": {
            "standoff": 15
           },
           "zerolinecolor": "white",
           "zerolinewidth": 2
          },
          "yaxis": {
           "automargin": true,
           "gridcolor": "white",
           "linecolor": "white",
           "ticks": "",
           "title": {
            "standoff": 15
           },
           "zerolinecolor": "white",
           "zerolinewidth": 2
          }
         }
        },
        "title": {
         "text": "Category Ranking by Mean Difference (25+ Movies) | Steered layer: 11 | Coeff: 0.5 | Feature: War"
        },
        "width": 900,
        "xaxis": {
         "tickangle": -45,
         "title": {
          "text": "Genre"
         }
        },
        "yaxis": {
         "title": {
          "text": "Absolute Mean Difference (l2)"
         }
        }
       }
      }
     },
     "metadata": {},
     "output_type": "display_data"
    }
   ],
   "source": [
    "info_string = f'Steered layer: {layer_to_steer} | Coeff: {steering_coefficient} | Feature: {feature}' # Information string to use in the title of the plots\n",
    "\n",
    "filtered_genres, original_filtered_genres, genre_differences, original_genre_differences, genre_means = rank_categories_by_difference(\n",
    "    all_texts_data, \n",
    "    original_differences, \n",
    "    steered_differences, \n",
    "    type, # If you change the type you need to calculate the differences again\n",
    "    info_string,\n",
    "    print_results=True, # Print the results to the console\n",
    "    remove_low_count=True, # Remove categories with fewer than 25 titles\n",
    "    plot_graph=True # Plot the bar graph of the mean differences for each category\n",
    "    )\n",
    "\n",
    "# Higher difference means further away from the steering vector"
   ]
  },
  {
   "cell_type": "code",
   "execution_count": 11,
   "id": "2fd9f9bd",
   "metadata": {},
   "outputs": [
    {
     "name": "stdout",
     "output_type": "stream",
     "text": [
      "============================================================\n",
      "📋 DIFFERENCES ANALYSIS CHECKPOINT\n",
      "============================================================\n",
      "✅ Original differences calculated: 1000 items\n",
      "✅ Steered differences calculated: 1000 items\n",
      "✅ Original top 10 indices identified\n",
      "✅ Steered top 10 indices identified\n",
      "✅ Average original l2 distance: 1.3821\n",
      "✅ Average steered l2 distance: 1.2881\n",
      "✅ Average difference: -0.0940\n",
      "============================================================\n",
      "🎯 CHECKPOINT PASSED - Ready for category ranking!\n",
      "📈 Next step: Ranking categories by differences\n",
      "============================================================\n"
     ]
    }
   ],
   "source": [
    "# 🎯 CHECKPOINT: Differences Analysis\n",
    "print(\"=\"*60)\n",
    "print(\"📋 DIFFERENCES ANALYSIS CHECKPOINT\")\n",
    "print(\"=\"*60)\n",
    "\n",
    "try:\n",
    "    # Verify differences calculation\n",
    "    print(f\"✅ Original differences calculated: {len(original_differences)} items\")\n",
    "    print(f\"✅ Steered differences calculated: {len(steered_differences)} items\")\n",
    "    \n",
    "    # Verify top 10 indices\n",
    "    if 'original_top_10_indices' in locals() and 'steered_top_10_indices' in locals():\n",
    "        print(f\"✅ Original top 10 indices identified\")\n",
    "        print(f\"✅ Steered top 10 indices identified\")\n",
    "    \n",
    "    # Calculate average differences\n",
    "    avg_original = sum(original_differences) / len(original_differences)\n",
    "    avg_steered = sum(steered_differences) / len(steered_differences)\n",
    "    \n",
    "    print(f\"✅ Average original {type} distance: {avg_original:.4f}\")\n",
    "    print(f\"✅ Average steered {type} distance: {avg_steered:.4f}\")\n",
    "    print(f\"✅ Average difference: {avg_steered - avg_original:.4f}\")\n",
    "    \n",
    "    print(\"=\"*60)\n",
    "    print(\"🎯 CHECKPOINT PASSED - Ready for category ranking!\")\n",
    "    print(\"📈 Next step: Ranking categories by differences\")\n",
    "    print(\"=\"*60)\n",
    "\n",
    "except Exception as e:\n",
    "    print(\"❌ CHECKPOINT FAILED\")\n",
    "    print(f\"💥 Error: {str(e)}\")\n",
    "    print(\"🔧 Please check previous cells and ensure differences were calculated\")\n",
    "    print(\"💡 Tip: Make sure to run the calculate_specific_differences function\")"
   ]
  },
  {
   "cell_type": "markdown",
   "id": "43c986fa",
   "metadata": {},
   "source": [
    "### <a id=\"get-most-shifted-categories\"></a>Most Shifted Categories"
   ]
  },
  {
   "cell_type": "markdown",
   "id": "71ae20fd",
   "metadata": {},
   "source": [
    "`get_most_shifted_categories` will print the categories that has the largest difference between the original and steered distance to the steering vector\n",
    "- `original_differences` are the differences calculated by `calculate_specific_differences` from the original embeddings\n",
    "- `steered_differences` are the differences calculated by `calculate_specific_differences` from the steered embeddings\n",
    "- `remove_low_count` will only use categories that have more than 25 titles, as the mean embedding may not be as representative for \"smaller category\"\n",
    "- `top_n` is the number of categories to print the results for\n",
    "- `print_results=True` will print the ranking of most shifted categories, `=False` will not print the ranking"
   ]
  },
  {
   "cell_type": "code",
   "execution_count": 12,
   "id": "ebd11eb4",
   "metadata": {},
   "outputs": [
    {
     "name": "stdout",
     "output_type": "stream",
     "text": [
      "\n",
      "Top 10 Most Shifted Categories (25+ Movies):\n",
      "======================================================================\n",
      "Genre                Shift      Original   Steered    Count   \n",
      "----------------------------------------------------------------------\n",
      "Adventure            -0.0972    1.3760     1.2788     102     \n",
      "Sci-Fi               -0.0961    1.3307     1.2347     51      \n",
      "War                  -0.0958    1.2742     1.1784     43      \n",
      "Romance              -0.0955    1.4393     1.3438     65      \n",
      "Thriller             -0.0948    1.3363     1.2415     50      \n",
      "Crime                -0.0948    1.3356     1.2408     158     \n",
      "Drama                -0.0933    1.4153     1.3219     198     \n",
      "Biography            -0.0928    1.4156     1.3227     70      \n",
      "Comedy               -0.0925    1.4261     1.3335     82      \n",
      "Mystery              -0.0923    1.3954     1.3031     34      \n"
     ]
    }
   ],
   "source": [
    "# Prints the most shifted categories based on the differences calculated above. Again, lower distance means closer to the steering vector.\n",
    "get_most_shifted_categories(\n",
    "    all_texts_data, \n",
    "    original_differences, \n",
    "    steered_differences, \n",
    "    remove_low_count=True, \n",
    "    top_n=10, \n",
    "    print_results=True\n",
    ");\n"
   ]
  },
  {
   "cell_type": "markdown",
   "id": "43b6f6d3",
   "metadata": {},
   "source": [
    "### <a id=\"experimentation-function\"></a>Experimentation Function\n",
    "\n",
    "The `experimentation_function` allows you to choose a layer and a steering coefficient, and will then steer each node in that layer one at a time. The results are exported to a file and look like the table above. This allows for easier analysis of the nodes by a LLM such as ChatGPT, which can look for patterns and outliers in how steering on the different nodes affect the ranking and shifts.\n"
   ]
  },
  {
   "cell_type": "code",
   "execution_count": 13,
   "id": "1a1841d1",
   "metadata": {},
   "outputs": [
    {
     "data": {
      "text/plain": [
       "'\\nexperimentation_function(\\n    all_texts_data, \\n    type, \\n    layer_to_steer, \\n    steering_coefficient,\\n    steering_vector, \\n    print_results=True, \\n    remove_low_count=True, \\n    plot_graph=False\\n)\\n'"
      ]
     },
     "execution_count": 13,
     "metadata": {},
     "output_type": "execute_result"
    }
   ],
   "source": [
    "# This is how you can call the experimentation function\n",
    "# Note that it will take some time to run as it runs through all nodes in a layer one at a time.\n",
    "\n",
    "'''\n",
    "experimentation_function(\n",
    "    all_texts_data, \n",
    "    type, \n",
    "    layer_to_steer, \n",
    "    steering_coefficient,\n",
    "    steering_vector, \n",
    "    print_results=True, \n",
    "    remove_low_count=True, \n",
    "    plot_graph=False\n",
    ")\n",
    "'''\n",
    "# This will export to a file called \"ranked_categories_layer_{layer_to_steer}_coeff_{steering_coefficient}_feature_{feature}.txt\""
   ]
  },
  {
   "cell_type": "markdown",
   "id": "f01b2664",
   "metadata": {},
   "source": [
    "### <a id=\"plot-change-in-top-shift\"></a>Plot Change in Top Shift"
   ]
  },
  {
   "cell_type": "markdown",
   "id": "0370de26",
   "metadata": {},
   "source": [
    "To further analyze the steering effect, we can plot the change in top shifts across steering coefficients using the `plot_change_in_top_shift` function.\n",
    "The plot shows how the categories change in distance to the steering vector as we vary the steering coefficient.\n",
    "\n",
    "`plot_change_in_top_shift` will plot the shift for each category at different steering coefficients. The plot shows how the categories change in shift to the steering vector as we vary the steering coefficient. Note that this is not the derivative, but simply a measure of how far the distance is between the categories and the steering vector at a specific coefficient.\n",
    "- `steering_coefficient_start` is the first steering coefficient (i.e. the beginning of the x-axis)\n",
    "- `steering_coefficient_end` is the last steering coefficient (i.e. the end of the x-axis)\n",
    "- `number_of_steps` are the number of points for which to do the analysis (i.e. the number of steering coefficients to analyze from start to end)"
   ]
  },
  {
   "cell_type": "code",
   "execution_count": 14,
   "id": "811f9ed8",
   "metadata": {},
   "outputs": [
    {
     "name": "stdout",
     "output_type": "stream",
     "text": [
      "Analyzing shifts across 10 steering coefficients from 0.0 to 15\n",
      "\n",
      "Processing steering coefficient 1/10: 0.000\n",
      "Created steered model output with shape: torch.Size([1000, 66, 384])\n",
      "Created steered embeddings with shape: torch.Size([1000, 384])\n",
      "\n",
      "Processing steering coefficient 2/10: 1.667\n",
      "Created steered model output with shape: torch.Size([1000, 66, 384])\n",
      "Created steered embeddings with shape: torch.Size([1000, 384])\n",
      "\n",
      "Processing steering coefficient 3/10: 3.333\n",
      "Created steered model output with shape: torch.Size([1000, 66, 384])\n",
      "Created steered embeddings with shape: torch.Size([1000, 384])\n",
      "\n",
      "Processing steering coefficient 4/10: 5.000\n",
      "Created steered model output with shape: torch.Size([1000, 66, 384])\n",
      "Created steered embeddings with shape: torch.Size([1000, 384])\n",
      "\n",
      "Processing steering coefficient 5/10: 6.667\n",
      "Created steered model output with shape: torch.Size([1000, 66, 384])\n",
      "Created steered embeddings with shape: torch.Size([1000, 384])\n",
      "\n",
      "Processing steering coefficient 6/10: 8.333\n",
      "Created steered model output with shape: torch.Size([1000, 66, 384])\n",
      "Created steered embeddings with shape: torch.Size([1000, 384])\n",
      "\n",
      "Processing steering coefficient 7/10: 10.000\n",
      "Created steered model output with shape: torch.Size([1000, 66, 384])\n",
      "Created steered embeddings with shape: torch.Size([1000, 384])\n",
      "\n",
      "Processing steering coefficient 8/10: 11.667\n",
      "Created steered model output with shape: torch.Size([1000, 66, 384])\n",
      "Created steered embeddings with shape: torch.Size([1000, 384])\n",
      "\n",
      "Processing steering coefficient 9/10: 13.333\n",
      "Created steered model output with shape: torch.Size([1000, 66, 384])\n",
      "Created steered embeddings with shape: torch.Size([1000, 384])\n",
      "\n",
      "Processing steering coefficient 10/10: 15.000\n",
      "Created steered model output with shape: torch.Size([1000, 66, 384])\n",
      "Created steered embeddings with shape: torch.Size([1000, 384])\n"
     ]
    },
    {
     "data": {
      "application/vnd.plotly.v1+json": {
       "config": {
        "plotlyServerURL": "https://plot.ly"
       },
       "data": [
        {
         "line": {
          "width": 2
         },
         "marker": {
          "size": 6
         },
         "mode": "lines+markers",
         "name": "War",
         "type": "scatter",
         "x": {
          "bdata": "AAAAAFVV1T9VVVVAAACgQFVV1UBWVQVBAAAgQauqOkFVVVVBAABwQQ==",
          "dtype": "f4"
         },
         "y": [
          0,
          -0.30341713650282043,
          -0.5331262890682665,
          -0.6899967450042105,
          -0.7975399189217147,
          -0.873863882796709,
          -0.9301204424957897,
          -0.9730106242174327,
          -1.0066591140835786,
          -1.0336966978949171
         ]
        },
        {
         "line": {
          "width": 2
         },
         "marker": {
          "size": 6
         },
         "mode": "lines+markers",
         "name": "Sci-Fi",
         "type": "scatter",
         "x": {
          "bdata": "AAAAAFVV1T9VVVVAAACgQFVV1UBWVQVBAAAgQauqOkFVVVVBAABwQQ==",
          "dtype": "f4"
         },
         "y": [
          0,
          -0.31097395162956376,
          -0.5560783533489002,
          -0.7246826589107512,
          -0.8395805890653647,
          -0.9204344866322536,
          -0.9795638410484089,
          -1.024347119471606,
          -1.0592898069059147,
          -1.0872413936783285
         ]
        },
        {
         "line": {
          "width": 2
         },
         "marker": {
          "size": 6
         },
         "mode": "lines+markers",
         "name": "Crime",
         "type": "scatter",
         "x": {
          "bdata": "AAAAAFVV1T9VVVVAAACgQFVV1UBWVQVBAAAgQauqOkFVVVVBAABwQQ==",
          "dtype": "f4"
         },
         "y": [
          0,
          -0.3076131739948371,
          -0.5516994444629815,
          -0.7205941367752945,
          -0.8362663167564176,
          -0.9179661992607239,
          -0.9778688653737685,
          -1.0233197268805927,
          -1.0588287021729013,
          -1.0872596549459652
         ]
        },
        {
         "line": {
          "width": 2
         },
         "marker": {
          "size": 6
         },
         "mode": "lines+markers",
         "name": "Thriller",
         "type": "scatter",
         "x": {
          "bdata": "AAAAAFVV1T9VVVVAAACgQFVV1UBWVQVBAAAgQauqOkFVVVVBAABwQQ==",
          "dtype": "f4"
         },
         "y": [
          0,
          -0.30811571240425106,
          -0.5533292138576508,
          -0.722991247177124,
          -0.838963748216629,
          -0.9207091808319092,
          -0.9805465704202652,
          -1.0258909946680068,
          -1.0612832286953926,
          -1.0896001881361008
         ]
        },
        {
         "line": {
          "width": 2
         },
         "marker": {
          "size": 6
         },
         "mode": "lines+markers",
         "name": "Adventure",
         "type": "scatter",
         "x": {
          "bdata": "AAAAAFVV1T9VVVVAAACgQFVV1UBWVQVBAAAgQauqOkFVVVVBAABwQQ==",
          "dtype": "f4"
         },
         "y": [
          0,
          -0.3208887226441326,
          -0.5811387282960555,
          -0.7596325032851275,
          -0.8799466870579065,
          -0.9637381063372481,
          -1.0245053549023235,
          -1.0702286296907593,
          -1.105721260110537,
          -1.1339960632955326
         ]
        },
        {
         "line": {
          "width": 2
         },
         "marker": {
          "size": 6
         },
         "mode": "lines+markers",
         "name": "Mystery",
         "type": "scatter",
         "x": {
          "bdata": "AAAAAFVV1T9VVVVAAACgQFVV1UBWVQVBAAAgQauqOkFVVVVBAABwQQ==",
          "dtype": "f4"
         },
         "y": [
          0,
          -0.3073783797376295,
          -0.5647469127879422,
          -0.7466597592129426,
          -0.8715546674588146,
          -0.9593999403364517,
          -1.0234422000015482,
          -1.0717659811763203,
          -1.1093347024391678,
          -1.1392878166892948
         ]
        },
        {
         "line": {
          "width": 2
         },
         "marker": {
          "size": 6
         },
         "mode": "lines+markers",
         "name": "Biography",
         "type": "scatter",
         "x": {
          "bdata": "AAAAAFVV1T9VVVVAAACgQFVV1UBWVQVBAAAgQauqOkFVVVVBAABwQQ==",
          "dtype": "f4"
         },
         "y": [
          0,
          -0.3120338644300189,
          -0.5769085560526167,
          -0.7637027663843973,
          -0.8911571315356664,
          -0.9802922606468201,
          -1.0449808367661069,
          -1.093621253328664,
          -1.1313328268272538,
          -1.1613347915666445
         ]
        },
        {
         "line": {
          "width": 2
         },
         "marker": {
          "size": 6
         },
         "mode": "lines+markers",
         "name": "Drama",
         "type": "scatter",
         "x": {
          "bdata": "AAAAAFVV1T9VVVVAAACgQFVV1UBWVQVBAAAgQauqOkFVVVVBAABwQQ==",
          "dtype": "f4"
         },
         "y": [
          0,
          -0.3134658041626517,
          -0.5784664822347236,
          -0.7648352643456122,
          -0.8919093080542304,
          -0.9807844393783145,
          -1.0453003467333437,
          -1.0938231291042433,
          -1.1314515591119276,
          -1.16139259249574
         ]
        },
        {
         "line": {
          "width": 2
         },
         "marker": {
          "size": 6
         },
         "mode": "lines+markers",
         "name": "Comedy",
         "type": "scatter",
         "x": {
          "bdata": "AAAAAFVV1T9VVVVAAACgQFVV1UBWVQVBAAAgQauqOkFVVVVBAABwQQ==",
          "dtype": "f4"
         },
         "y": [
          0,
          -0.31264211419152055,
          -0.5802435569646881,
          -0.769389321891273,
          -0.8983906929085894,
          -0.9884971838171889,
          -1.0538078473835457,
          -1.1028613475401228,
          -1.140857606035907,
          -1.171062500738516
         ]
        },
        {
         "line": {
          "width": 2
         },
         "marker": {
          "size": 6
         },
         "mode": "lines+markers",
         "name": "Romance",
         "type": "scatter",
         "x": {
          "bdata": "AAAAAFVV1T9VVVVAAACgQFVV1UBWVQVBAAAgQauqOkFVVVVBAABwQQ==",
          "dtype": "f4"
         },
         "y": [
          0,
          -0.3246198058128358,
          -0.6015400143770072,
          -0.793853233410762,
          -0.9231224381006682,
          -1.0125560843027557,
          -1.076976998952719,
          -1.1251597629143641,
          -1.1623716732630365,
          -1.1918893364759593
         ]
        }
       ],
       "layout": {
        "height": 600,
        "showlegend": true,
        "template": {
         "data": {
          "bar": [
           {
            "error_x": {
             "color": "#2a3f5f"
            },
            "error_y": {
             "color": "#2a3f5f"
            },
            "marker": {
             "line": {
              "color": "#E5ECF6",
              "width": 0.5
             },
             "pattern": {
              "fillmode": "overlay",
              "size": 10,
              "solidity": 0.2
             }
            },
            "type": "bar"
           }
          ],
          "barpolar": [
           {
            "marker": {
             "line": {
              "color": "#E5ECF6",
              "width": 0.5
             },
             "pattern": {
              "fillmode": "overlay",
              "size": 10,
              "solidity": 0.2
             }
            },
            "type": "barpolar"
           }
          ],
          "carpet": [
           {
            "aaxis": {
             "endlinecolor": "#2a3f5f",
             "gridcolor": "white",
             "linecolor": "white",
             "minorgridcolor": "white",
             "startlinecolor": "#2a3f5f"
            },
            "baxis": {
             "endlinecolor": "#2a3f5f",
             "gridcolor": "white",
             "linecolor": "white",
             "minorgridcolor": "white",
             "startlinecolor": "#2a3f5f"
            },
            "type": "carpet"
           }
          ],
          "choropleth": [
           {
            "colorbar": {
             "outlinewidth": 0,
             "ticks": ""
            },
            "type": "choropleth"
           }
          ],
          "contour": [
           {
            "colorbar": {
             "outlinewidth": 0,
             "ticks": ""
            },
            "colorscale": [
             [
              0,
              "#0d0887"
             ],
             [
              0.1111111111111111,
              "#46039f"
             ],
             [
              0.2222222222222222,
              "#7201a8"
             ],
             [
              0.3333333333333333,
              "#9c179e"
             ],
             [
              0.4444444444444444,
              "#bd3786"
             ],
             [
              0.5555555555555556,
              "#d8576b"
             ],
             [
              0.6666666666666666,
              "#ed7953"
             ],
             [
              0.7777777777777778,
              "#fb9f3a"
             ],
             [
              0.8888888888888888,
              "#fdca26"
             ],
             [
              1,
              "#f0f921"
             ]
            ],
            "type": "contour"
           }
          ],
          "contourcarpet": [
           {
            "colorbar": {
             "outlinewidth": 0,
             "ticks": ""
            },
            "type": "contourcarpet"
           }
          ],
          "heatmap": [
           {
            "colorbar": {
             "outlinewidth": 0,
             "ticks": ""
            },
            "colorscale": [
             [
              0,
              "#0d0887"
             ],
             [
              0.1111111111111111,
              "#46039f"
             ],
             [
              0.2222222222222222,
              "#7201a8"
             ],
             [
              0.3333333333333333,
              "#9c179e"
             ],
             [
              0.4444444444444444,
              "#bd3786"
             ],
             [
              0.5555555555555556,
              "#d8576b"
             ],
             [
              0.6666666666666666,
              "#ed7953"
             ],
             [
              0.7777777777777778,
              "#fb9f3a"
             ],
             [
              0.8888888888888888,
              "#fdca26"
             ],
             [
              1,
              "#f0f921"
             ]
            ],
            "type": "heatmap"
           }
          ],
          "histogram": [
           {
            "marker": {
             "pattern": {
              "fillmode": "overlay",
              "size": 10,
              "solidity": 0.2
             }
            },
            "type": "histogram"
           }
          ],
          "histogram2d": [
           {
            "colorbar": {
             "outlinewidth": 0,
             "ticks": ""
            },
            "colorscale": [
             [
              0,
              "#0d0887"
             ],
             [
              0.1111111111111111,
              "#46039f"
             ],
             [
              0.2222222222222222,
              "#7201a8"
             ],
             [
              0.3333333333333333,
              "#9c179e"
             ],
             [
              0.4444444444444444,
              "#bd3786"
             ],
             [
              0.5555555555555556,
              "#d8576b"
             ],
             [
              0.6666666666666666,
              "#ed7953"
             ],
             [
              0.7777777777777778,
              "#fb9f3a"
             ],
             [
              0.8888888888888888,
              "#fdca26"
             ],
             [
              1,
              "#f0f921"
             ]
            ],
            "type": "histogram2d"
           }
          ],
          "histogram2dcontour": [
           {
            "colorbar": {
             "outlinewidth": 0,
             "ticks": ""
            },
            "colorscale": [
             [
              0,
              "#0d0887"
             ],
             [
              0.1111111111111111,
              "#46039f"
             ],
             [
              0.2222222222222222,
              "#7201a8"
             ],
             [
              0.3333333333333333,
              "#9c179e"
             ],
             [
              0.4444444444444444,
              "#bd3786"
             ],
             [
              0.5555555555555556,
              "#d8576b"
             ],
             [
              0.6666666666666666,
              "#ed7953"
             ],
             [
              0.7777777777777778,
              "#fb9f3a"
             ],
             [
              0.8888888888888888,
              "#fdca26"
             ],
             [
              1,
              "#f0f921"
             ]
            ],
            "type": "histogram2dcontour"
           }
          ],
          "mesh3d": [
           {
            "colorbar": {
             "outlinewidth": 0,
             "ticks": ""
            },
            "type": "mesh3d"
           }
          ],
          "parcoords": [
           {
            "line": {
             "colorbar": {
              "outlinewidth": 0,
              "ticks": ""
             }
            },
            "type": "parcoords"
           }
          ],
          "pie": [
           {
            "automargin": true,
            "type": "pie"
           }
          ],
          "scatter": [
           {
            "fillpattern": {
             "fillmode": "overlay",
             "size": 10,
             "solidity": 0.2
            },
            "type": "scatter"
           }
          ],
          "scatter3d": [
           {
            "line": {
             "colorbar": {
              "outlinewidth": 0,
              "ticks": ""
             }
            },
            "marker": {
             "colorbar": {
              "outlinewidth": 0,
              "ticks": ""
             }
            },
            "type": "scatter3d"
           }
          ],
          "scattercarpet": [
           {
            "marker": {
             "colorbar": {
              "outlinewidth": 0,
              "ticks": ""
             }
            },
            "type": "scattercarpet"
           }
          ],
          "scattergeo": [
           {
            "marker": {
             "colorbar": {
              "outlinewidth": 0,
              "ticks": ""
             }
            },
            "type": "scattergeo"
           }
          ],
          "scattergl": [
           {
            "marker": {
             "colorbar": {
              "outlinewidth": 0,
              "ticks": ""
             }
            },
            "type": "scattergl"
           }
          ],
          "scattermap": [
           {
            "marker": {
             "colorbar": {
              "outlinewidth": 0,
              "ticks": ""
             }
            },
            "type": "scattermap"
           }
          ],
          "scattermapbox": [
           {
            "marker": {
             "colorbar": {
              "outlinewidth": 0,
              "ticks": ""
             }
            },
            "type": "scattermapbox"
           }
          ],
          "scatterpolar": [
           {
            "marker": {
             "colorbar": {
              "outlinewidth": 0,
              "ticks": ""
             }
            },
            "type": "scatterpolar"
           }
          ],
          "scatterpolargl": [
           {
            "marker": {
             "colorbar": {
              "outlinewidth": 0,
              "ticks": ""
             }
            },
            "type": "scatterpolargl"
           }
          ],
          "scatterternary": [
           {
            "marker": {
             "colorbar": {
              "outlinewidth": 0,
              "ticks": ""
             }
            },
            "type": "scatterternary"
           }
          ],
          "surface": [
           {
            "colorbar": {
             "outlinewidth": 0,
             "ticks": ""
            },
            "colorscale": [
             [
              0,
              "#0d0887"
             ],
             [
              0.1111111111111111,
              "#46039f"
             ],
             [
              0.2222222222222222,
              "#7201a8"
             ],
             [
              0.3333333333333333,
              "#9c179e"
             ],
             [
              0.4444444444444444,
              "#bd3786"
             ],
             [
              0.5555555555555556,
              "#d8576b"
             ],
             [
              0.6666666666666666,
              "#ed7953"
             ],
             [
              0.7777777777777778,
              "#fb9f3a"
             ],
             [
              0.8888888888888888,
              "#fdca26"
             ],
             [
              1,
              "#f0f921"
             ]
            ],
            "type": "surface"
           }
          ],
          "table": [
           {
            "cells": {
             "fill": {
              "color": "#EBF0F8"
             },
             "line": {
              "color": "white"
             }
            },
            "header": {
             "fill": {
              "color": "#C8D4E3"
             },
             "line": {
              "color": "white"
             }
            },
            "type": "table"
           }
          ]
         },
         "layout": {
          "annotationdefaults": {
           "arrowcolor": "#2a3f5f",
           "arrowhead": 0,
           "arrowwidth": 1
          },
          "autotypenumbers": "strict",
          "coloraxis": {
           "colorbar": {
            "outlinewidth": 0,
            "ticks": ""
           }
          },
          "colorscale": {
           "diverging": [
            [
             0,
             "#8e0152"
            ],
            [
             0.1,
             "#c51b7d"
            ],
            [
             0.2,
             "#de77ae"
            ],
            [
             0.3,
             "#f1b6da"
            ],
            [
             0.4,
             "#fde0ef"
            ],
            [
             0.5,
             "#f7f7f7"
            ],
            [
             0.6,
             "#e6f5d0"
            ],
            [
             0.7,
             "#b8e186"
            ],
            [
             0.8,
             "#7fbc41"
            ],
            [
             0.9,
             "#4d9221"
            ],
            [
             1,
             "#276419"
            ]
           ],
           "sequential": [
            [
             0,
             "#0d0887"
            ],
            [
             0.1111111111111111,
             "#46039f"
            ],
            [
             0.2222222222222222,
             "#7201a8"
            ],
            [
             0.3333333333333333,
             "#9c179e"
            ],
            [
             0.4444444444444444,
             "#bd3786"
            ],
            [
             0.5555555555555556,
             "#d8576b"
            ],
            [
             0.6666666666666666,
             "#ed7953"
            ],
            [
             0.7777777777777778,
             "#fb9f3a"
            ],
            [
             0.8888888888888888,
             "#fdca26"
            ],
            [
             1,
             "#f0f921"
            ]
           ],
           "sequentialminus": [
            [
             0,
             "#0d0887"
            ],
            [
             0.1111111111111111,
             "#46039f"
            ],
            [
             0.2222222222222222,
             "#7201a8"
            ],
            [
             0.3333333333333333,
             "#9c179e"
            ],
            [
             0.4444444444444444,
             "#bd3786"
            ],
            [
             0.5555555555555556,
             "#d8576b"
            ],
            [
             0.6666666666666666,
             "#ed7953"
            ],
            [
             0.7777777777777778,
             "#fb9f3a"
            ],
            [
             0.8888888888888888,
             "#fdca26"
            ],
            [
             1,
             "#f0f921"
            ]
           ]
          },
          "colorway": [
           "#636efa",
           "#EF553B",
           "#00cc96",
           "#ab63fa",
           "#FFA15A",
           "#19d3f3",
           "#FF6692",
           "#B6E880",
           "#FF97FF",
           "#FECB52"
          ],
          "font": {
           "color": "#2a3f5f"
          },
          "geo": {
           "bgcolor": "white",
           "lakecolor": "white",
           "landcolor": "#E5ECF6",
           "showlakes": true,
           "showland": true,
           "subunitcolor": "white"
          },
          "hoverlabel": {
           "align": "left"
          },
          "hovermode": "closest",
          "mapbox": {
           "style": "light"
          },
          "paper_bgcolor": "white",
          "plot_bgcolor": "#E5ECF6",
          "polar": {
           "angularaxis": {
            "gridcolor": "white",
            "linecolor": "white",
            "ticks": ""
           },
           "bgcolor": "#E5ECF6",
           "radialaxis": {
            "gridcolor": "white",
            "linecolor": "white",
            "ticks": ""
           }
          },
          "scene": {
           "xaxis": {
            "backgroundcolor": "#E5ECF6",
            "gridcolor": "white",
            "gridwidth": 2,
            "linecolor": "white",
            "showbackground": true,
            "ticks": "",
            "zerolinecolor": "white"
           },
           "yaxis": {
            "backgroundcolor": "#E5ECF6",
            "gridcolor": "white",
            "gridwidth": 2,
            "linecolor": "white",
            "showbackground": true,
            "ticks": "",
            "zerolinecolor": "white"
           },
           "zaxis": {
            "backgroundcolor": "#E5ECF6",
            "gridcolor": "white",
            "gridwidth": 2,
            "linecolor": "white",
            "showbackground": true,
            "ticks": "",
            "zerolinecolor": "white"
           }
          },
          "shapedefaults": {
           "line": {
            "color": "#2a3f5f"
           }
          },
          "ternary": {
           "aaxis": {
            "gridcolor": "white",
            "linecolor": "white",
            "ticks": ""
           },
           "baxis": {
            "gridcolor": "white",
            "linecolor": "white",
            "ticks": ""
           },
           "bgcolor": "#E5ECF6",
           "caxis": {
            "gridcolor": "white",
            "linecolor": "white",
            "ticks": ""
           }
          },
          "title": {
           "x": 0.05
          },
          "xaxis": {
           "automargin": true,
           "gridcolor": "white",
           "linecolor": "white",
           "ticks": "",
           "title": {
            "standoff": 15
           },
           "zerolinecolor": "white",
           "zerolinewidth": 2
          },
          "yaxis": {
           "automargin": true,
           "gridcolor": "white",
           "linecolor": "white",
           "ticks": "",
           "title": {
            "standoff": 15
           },
           "zerolinecolor": "white",
           "zerolinewidth": 2
          }
         }
        },
        "title": {
         "text": "Change in Genre Shift vs Steering Coefficient | Layer: 11 | Feature: War | Diff: l2"
        },
        "width": 900,
        "xaxis": {
         "title": {
          "text": "Steering Coefficient"
         }
        },
        "yaxis": {
         "title": {
          "text": "Shift in Mean l2 Distance"
         }
        }
       }
      }
     },
     "metadata": {},
     "output_type": "display_data"
    }
   ],
   "source": [
    "category_shifts, steering_coefficients = plot_change_in_top_shift(\n",
    "    model, \n",
    "    encoded_input, \n",
    "    all_texts_data, \n",
    "    original_embeddings, \n",
    "    layer_to_steer, \n",
    "    steering_vector, \n",
    "    type, \n",
    "    feature, \n",
    "    steering_coefficient_start=0.0, # Start steering coefficient (x-axis)\n",
    "    steering_coefficient_end=15, # End steering coefficient (x-axis)\n",
    "    number_of_steps=10 # Number of steps to take between start and end steering coefficient (iterations)\n",
    "    )"
   ]
  },
  {
   "cell_type": "code",
   "execution_count": 15,
   "id": "f7e73f84",
   "metadata": {},
   "outputs": [
    {
     "name": "stdout",
     "output_type": "stream",
     "text": [
      "============================================================\n",
      "📋 CATEGORY RANKING CHECKPOINT\n",
      "============================================================\n",
      "✅ Filtered genres: 10 categories\n",
      "✅ Original filtered genres: 10 categories\n",
      "✅ Genre differences data available: 21 categories\n",
      "✅ Original genre differences data available: 21 categories\n",
      "✅ Most affected genre: Family (1.3670)\n",
      "✅ Least affected genre: Action (1.1667)\n",
      "✅ Category shifts across coefficients: 10 categories\n",
      "✅ Coefficient range: 0.00 to 15.00\n",
      "============================================================\n",
      "🎯 CHECKPOINT PASSED - Category ranking analysis complete!\n",
      "📊 Next sections: Convergence check, neuron activations\n",
      "============================================================\n"
     ]
    }
   ],
   "source": [
    "# 🎯 CHECKPOINT: Category Ranking Results\n",
    "print(\"=\"*60)\n",
    "print(\"📋 CATEGORY RANKING CHECKPOINT\")\n",
    "print(\"=\"*60)\n",
    "\n",
    "try:\n",
    "    # Verify filtered genres\n",
    "    print(f\"✅ Filtered genres: {len(filtered_genres)} categories\")\n",
    "    \n",
    "    if 'original_filtered_genres' in locals() and original_filtered_genres is not None:\n",
    "        print(f\"✅ Original filtered genres: {len(original_filtered_genres)} categories\")\n",
    "    \n",
    "    # Verify genre differences\n",
    "    print(f\"✅ Genre differences data available: {len(genre_differences.keys())} categories\")\n",
    "    \n",
    "    if 'original_genre_differences' in locals() and original_genre_differences is not None:\n",
    "        print(f\"✅ Original genre differences data available: {len(original_genre_differences.keys())} categories\")\n",
    "    \n",
    "    # Get most and least affected genres\n",
    "    sorted_genres = sorted([(k, v) for k, v in genre_means.items()], key=lambda x: x[1], reverse=True)\n",
    "    \n",
    "    if len(sorted_genres) > 0:\n",
    "        most_affected = sorted_genres[0]\n",
    "        least_affected = sorted_genres[-1]\n",
    "        print(f\"✅ Most affected genre: {most_affected[0]} ({most_affected[1]:.4f})\")\n",
    "        print(f\"✅ Least affected genre: {least_affected[0]} ({least_affected[1]:.4f})\")\n",
    "    \n",
    "    # Check if shift analysis was done\n",
    "    if 'category_shifts' in locals() and category_shifts is not None:\n",
    "        print(f\"✅ Category shifts across coefficients: {len(category_shifts.keys())} categories\")\n",
    "        print(f\"✅ Coefficient range: {min(steering_coefficients):.2f} to {max(steering_coefficients):.2f}\")\n",
    "    \n",
    "    print(\"=\"*60)\n",
    "    print(\"🎯 CHECKPOINT PASSED - Category ranking analysis complete!\")\n",
    "    print(\"📊 Next sections: Convergence check, neuron activations\")\n",
    "    print(\"=\"*60)\n",
    "\n",
    "except Exception as e:\n",
    "    print(\"❌ CHECKPOINT FAILED\")\n",
    "    print(f\"💥 Error: {str(e)}\")\n",
    "    print(\"🔧 Please check previous cells and ensure category analysis was performed\")\n",
    "    print(\"💡 Tip: Check that rank_categories_by_difference function ran successfully\")"
   ]
  },
  {
   "cell_type": "markdown",
   "id": "0f682eb3",
   "metadata": {},
   "source": [
    "### <a id=\"plot-rank-plot\"></a>Plot Rank Plot"
   ]
  },
  {
   "cell_type": "markdown",
   "id": "9fcbe4ad",
   "metadata": {},
   "source": [
    "`plot_rank_plot` visualizes the change in category shifts across different steering vectors. Rank 1 indicates the category with the highest shift (i.e. the category thats distance to the steering vector changed the most after vs. before steering).\n",
    "- `category_shifts` is a dictionary with all the shifts for each category across the steering coefficients. This is calculated from `plot_change_in_top_shift`.\n",
    "- `steering_coefficients` is the list of steering_coefficients for which we calculated the `category_shifts``\n",
    "- `info_string` is what will be displayed in the title of the plot to keep track of the selected parameters for that plot."
   ]
  },
  {
   "cell_type": "code",
   "execution_count": 16,
   "id": "7daf280b",
   "metadata": {},
   "outputs": [
    {
     "data": {
      "application/vnd.plotly.v1+json": {
       "config": {
        "plotlyServerURL": "https://plot.ly"
       },
       "data": [
        {
         "line": {
          "width": 2
         },
         "marker": {
          "size": 6
         },
         "mode": "lines+markers",
         "name": "Romance",
         "type": "scatter",
         "x": {
          "bdata": "AAAAAFVV1T9VVVVAAACgQFVV1UBWVQVBAAAgQauqOkFVVVVBAABwQQ==",
          "dtype": "f4"
         },
         "y": {
          "bdata": "BQEBAQEBAQEBAQ==",
          "dtype": "i1"
         }
        },
        {
         "line": {
          "width": 2
         },
         "marker": {
          "size": 6
         },
         "mode": "lines+markers",
         "name": "Comedy",
         "type": "scatter",
         "x": {
          "bdata": "AAAAAFVV1T9VVVVAAACgQFVV1UBWVQVBAAAgQauqOkFVVVVBAABwQQ==",
          "dtype": "f4"
         },
         "y": {
          "bdata": "CAQDAgICAgICAg==",
          "dtype": "i1"
         }
        },
        {
         "line": {
          "width": 2
         },
         "marker": {
          "size": 6
         },
         "mode": "lines+markers",
         "name": "Drama",
         "type": "scatter",
         "x": {
          "bdata": "AAAAAFVV1T9VVVVAAACgQFVV1UBWVQVBAAAgQauqOkFVVVVBAABwQQ==",
          "dtype": "f4"
         },
         "y": {
          "bdata": "AQMEAwMDAwMDAw==",
          "dtype": "i1"
         }
        },
        {
         "line": {
          "width": 2
         },
         "marker": {
          "size": 6
         },
         "mode": "lines+markers",
         "name": "Biography",
         "type": "scatter",
         "x": {
          "bdata": "AAAAAFVV1T9VVVVAAACgQFVV1UBWVQVBAAAgQauqOkFVVVVBAABwQQ==",
          "dtype": "f4"
         },
         "y": {
          "bdata": "BgUFBAQEBAQEBA==",
          "dtype": "i1"
         }
        },
        {
         "line": {
          "width": 2
         },
         "marker": {
          "size": 6
         },
         "mode": "lines+markers",
         "name": "Mystery",
         "type": "scatter",
         "x": {
          "bdata": "AAAAAFVV1T9VVVVAAACgQFVV1UBWVQVBAAAgQauqOkFVVVVBAABwQQ==",
          "dtype": "f4"
         },
         "y": {
          "bdata": "CQkGBgYGBgUFBQ==",
          "dtype": "i1"
         }
        },
        {
         "line": {
          "width": 2
         },
         "marker": {
          "size": 6
         },
         "mode": "lines+markers",
         "name": "Adventure",
         "type": "scatter",
         "x": {
          "bdata": "AAAAAFVV1T9VVVVAAACgQFVV1UBWVQVBAAAgQauqOkFVVVVBAABwQQ==",
          "dtype": "f4"
         },
         "y": {
          "bdata": "AwICBQUFBQYGBg==",
          "dtype": "i1"
         }
        },
        {
         "line": {
          "width": 2
         },
         "marker": {
          "size": 6
         },
         "mode": "lines+markers",
         "name": "Thriller",
         "type": "scatter",
         "x": {
          "bdata": "AAAAAFVV1T9VVVVAAACgQFVV1UBWVQVBAAAgQauqOkFVVVVBAABwQQ==",
          "dtype": "f4"
         },
         "y": {
          "bdata": "CgcICAgHBwcHBw==",
          "dtype": "i1"
         }
        },
        {
         "line": {
          "width": 2
         },
         "marker": {
          "size": 6
         },
         "mode": "lines+markers",
         "name": "Crime",
         "type": "scatter",
         "x": {
          "bdata": "AAAAAFVV1T9VVVVAAACgQFVV1UBWVQVBAAAgQauqOkFVVVVBAABwQQ==",
          "dtype": "f4"
         },
         "y": {
          "bdata": "AggJCQkJCQkJCA==",
          "dtype": "i1"
         }
        },
        {
         "line": {
          "width": 2
         },
         "marker": {
          "size": 6
         },
         "mode": "lines+markers",
         "name": "Sci-Fi",
         "type": "scatter",
         "x": {
          "bdata": "AAAAAFVV1T9VVVVAAACgQFVV1UBWVQVBAAAgQauqOkFVVVVBAABwQQ==",
          "dtype": "f4"
         },
         "y": {
          "bdata": "BAYHBwcICAgICQ==",
          "dtype": "i1"
         }
        },
        {
         "line": {
          "width": 2
         },
         "marker": {
          "size": 6
         },
         "mode": "lines+markers",
         "name": "War",
         "type": "scatter",
         "x": {
          "bdata": "AAAAAFVV1T9VVVVAAACgQFVV1UBWVQVBAAAgQauqOkFVVVVBAABwQQ==",
          "dtype": "f4"
         },
         "y": {
          "bdata": "BwoKCgoKCgoKCg==",
          "dtype": "i1"
         }
        }
       ],
       "layout": {
        "height": 600,
        "showlegend": true,
        "template": {
         "data": {
          "bar": [
           {
            "error_x": {
             "color": "#2a3f5f"
            },
            "error_y": {
             "color": "#2a3f5f"
            },
            "marker": {
             "line": {
              "color": "#E5ECF6",
              "width": 0.5
             },
             "pattern": {
              "fillmode": "overlay",
              "size": 10,
              "solidity": 0.2
             }
            },
            "type": "bar"
           }
          ],
          "barpolar": [
           {
            "marker": {
             "line": {
              "color": "#E5ECF6",
              "width": 0.5
             },
             "pattern": {
              "fillmode": "overlay",
              "size": 10,
              "solidity": 0.2
             }
            },
            "type": "barpolar"
           }
          ],
          "carpet": [
           {
            "aaxis": {
             "endlinecolor": "#2a3f5f",
             "gridcolor": "white",
             "linecolor": "white",
             "minorgridcolor": "white",
             "startlinecolor": "#2a3f5f"
            },
            "baxis": {
             "endlinecolor": "#2a3f5f",
             "gridcolor": "white",
             "linecolor": "white",
             "minorgridcolor": "white",
             "startlinecolor": "#2a3f5f"
            },
            "type": "carpet"
           }
          ],
          "choropleth": [
           {
            "colorbar": {
             "outlinewidth": 0,
             "ticks": ""
            },
            "type": "choropleth"
           }
          ],
          "contour": [
           {
            "colorbar": {
             "outlinewidth": 0,
             "ticks": ""
            },
            "colorscale": [
             [
              0,
              "#0d0887"
             ],
             [
              0.1111111111111111,
              "#46039f"
             ],
             [
              0.2222222222222222,
              "#7201a8"
             ],
             [
              0.3333333333333333,
              "#9c179e"
             ],
             [
              0.4444444444444444,
              "#bd3786"
             ],
             [
              0.5555555555555556,
              "#d8576b"
             ],
             [
              0.6666666666666666,
              "#ed7953"
             ],
             [
              0.7777777777777778,
              "#fb9f3a"
             ],
             [
              0.8888888888888888,
              "#fdca26"
             ],
             [
              1,
              "#f0f921"
             ]
            ],
            "type": "contour"
           }
          ],
          "contourcarpet": [
           {
            "colorbar": {
             "outlinewidth": 0,
             "ticks": ""
            },
            "type": "contourcarpet"
           }
          ],
          "heatmap": [
           {
            "colorbar": {
             "outlinewidth": 0,
             "ticks": ""
            },
            "colorscale": [
             [
              0,
              "#0d0887"
             ],
             [
              0.1111111111111111,
              "#46039f"
             ],
             [
              0.2222222222222222,
              "#7201a8"
             ],
             [
              0.3333333333333333,
              "#9c179e"
             ],
             [
              0.4444444444444444,
              "#bd3786"
             ],
             [
              0.5555555555555556,
              "#d8576b"
             ],
             [
              0.6666666666666666,
              "#ed7953"
             ],
             [
              0.7777777777777778,
              "#fb9f3a"
             ],
             [
              0.8888888888888888,
              "#fdca26"
             ],
             [
              1,
              "#f0f921"
             ]
            ],
            "type": "heatmap"
           }
          ],
          "histogram": [
           {
            "marker": {
             "pattern": {
              "fillmode": "overlay",
              "size": 10,
              "solidity": 0.2
             }
            },
            "type": "histogram"
           }
          ],
          "histogram2d": [
           {
            "colorbar": {
             "outlinewidth": 0,
             "ticks": ""
            },
            "colorscale": [
             [
              0,
              "#0d0887"
             ],
             [
              0.1111111111111111,
              "#46039f"
             ],
             [
              0.2222222222222222,
              "#7201a8"
             ],
             [
              0.3333333333333333,
              "#9c179e"
             ],
             [
              0.4444444444444444,
              "#bd3786"
             ],
             [
              0.5555555555555556,
              "#d8576b"
             ],
             [
              0.6666666666666666,
              "#ed7953"
             ],
             [
              0.7777777777777778,
              "#fb9f3a"
             ],
             [
              0.8888888888888888,
              "#fdca26"
             ],
             [
              1,
              "#f0f921"
             ]
            ],
            "type": "histogram2d"
           }
          ],
          "histogram2dcontour": [
           {
            "colorbar": {
             "outlinewidth": 0,
             "ticks": ""
            },
            "colorscale": [
             [
              0,
              "#0d0887"
             ],
             [
              0.1111111111111111,
              "#46039f"
             ],
             [
              0.2222222222222222,
              "#7201a8"
             ],
             [
              0.3333333333333333,
              "#9c179e"
             ],
             [
              0.4444444444444444,
              "#bd3786"
             ],
             [
              0.5555555555555556,
              "#d8576b"
             ],
             [
              0.6666666666666666,
              "#ed7953"
             ],
             [
              0.7777777777777778,
              "#fb9f3a"
             ],
             [
              0.8888888888888888,
              "#fdca26"
             ],
             [
              1,
              "#f0f921"
             ]
            ],
            "type": "histogram2dcontour"
           }
          ],
          "mesh3d": [
           {
            "colorbar": {
             "outlinewidth": 0,
             "ticks": ""
            },
            "type": "mesh3d"
           }
          ],
          "parcoords": [
           {
            "line": {
             "colorbar": {
              "outlinewidth": 0,
              "ticks": ""
             }
            },
            "type": "parcoords"
           }
          ],
          "pie": [
           {
            "automargin": true,
            "type": "pie"
           }
          ],
          "scatter": [
           {
            "fillpattern": {
             "fillmode": "overlay",
             "size": 10,
             "solidity": 0.2
            },
            "type": "scatter"
           }
          ],
          "scatter3d": [
           {
            "line": {
             "colorbar": {
              "outlinewidth": 0,
              "ticks": ""
             }
            },
            "marker": {
             "colorbar": {
              "outlinewidth": 0,
              "ticks": ""
             }
            },
            "type": "scatter3d"
           }
          ],
          "scattercarpet": [
           {
            "marker": {
             "colorbar": {
              "outlinewidth": 0,
              "ticks": ""
             }
            },
            "type": "scattercarpet"
           }
          ],
          "scattergeo": [
           {
            "marker": {
             "colorbar": {
              "outlinewidth": 0,
              "ticks": ""
             }
            },
            "type": "scattergeo"
           }
          ],
          "scattergl": [
           {
            "marker": {
             "colorbar": {
              "outlinewidth": 0,
              "ticks": ""
             }
            },
            "type": "scattergl"
           }
          ],
          "scattermap": [
           {
            "marker": {
             "colorbar": {
              "outlinewidth": 0,
              "ticks": ""
             }
            },
            "type": "scattermap"
           }
          ],
          "scattermapbox": [
           {
            "marker": {
             "colorbar": {
              "outlinewidth": 0,
              "ticks": ""
             }
            },
            "type": "scattermapbox"
           }
          ],
          "scatterpolar": [
           {
            "marker": {
             "colorbar": {
              "outlinewidth": 0,
              "ticks": ""
             }
            },
            "type": "scatterpolar"
           }
          ],
          "scatterpolargl": [
           {
            "marker": {
             "colorbar": {
              "outlinewidth": 0,
              "ticks": ""
             }
            },
            "type": "scatterpolargl"
           }
          ],
          "scatterternary": [
           {
            "marker": {
             "colorbar": {
              "outlinewidth": 0,
              "ticks": ""
             }
            },
            "type": "scatterternary"
           }
          ],
          "surface": [
           {
            "colorbar": {
             "outlinewidth": 0,
             "ticks": ""
            },
            "colorscale": [
             [
              0,
              "#0d0887"
             ],
             [
              0.1111111111111111,
              "#46039f"
             ],
             [
              0.2222222222222222,
              "#7201a8"
             ],
             [
              0.3333333333333333,
              "#9c179e"
             ],
             [
              0.4444444444444444,
              "#bd3786"
             ],
             [
              0.5555555555555556,
              "#d8576b"
             ],
             [
              0.6666666666666666,
              "#ed7953"
             ],
             [
              0.7777777777777778,
              "#fb9f3a"
             ],
             [
              0.8888888888888888,
              "#fdca26"
             ],
             [
              1,
              "#f0f921"
             ]
            ],
            "type": "surface"
           }
          ],
          "table": [
           {
            "cells": {
             "fill": {
              "color": "#EBF0F8"
             },
             "line": {
              "color": "white"
             }
            },
            "header": {
             "fill": {
              "color": "#C8D4E3"
             },
             "line": {
              "color": "white"
             }
            },
            "type": "table"
           }
          ]
         },
         "layout": {
          "annotationdefaults": {
           "arrowcolor": "#2a3f5f",
           "arrowhead": 0,
           "arrowwidth": 1
          },
          "autotypenumbers": "strict",
          "coloraxis": {
           "colorbar": {
            "outlinewidth": 0,
            "ticks": ""
           }
          },
          "colorscale": {
           "diverging": [
            [
             0,
             "#8e0152"
            ],
            [
             0.1,
             "#c51b7d"
            ],
            [
             0.2,
             "#de77ae"
            ],
            [
             0.3,
             "#f1b6da"
            ],
            [
             0.4,
             "#fde0ef"
            ],
            [
             0.5,
             "#f7f7f7"
            ],
            [
             0.6,
             "#e6f5d0"
            ],
            [
             0.7,
             "#b8e186"
            ],
            [
             0.8,
             "#7fbc41"
            ],
            [
             0.9,
             "#4d9221"
            ],
            [
             1,
             "#276419"
            ]
           ],
           "sequential": [
            [
             0,
             "#0d0887"
            ],
            [
             0.1111111111111111,
             "#46039f"
            ],
            [
             0.2222222222222222,
             "#7201a8"
            ],
            [
             0.3333333333333333,
             "#9c179e"
            ],
            [
             0.4444444444444444,
             "#bd3786"
            ],
            [
             0.5555555555555556,
             "#d8576b"
            ],
            [
             0.6666666666666666,
             "#ed7953"
            ],
            [
             0.7777777777777778,
             "#fb9f3a"
            ],
            [
             0.8888888888888888,
             "#fdca26"
            ],
            [
             1,
             "#f0f921"
            ]
           ],
           "sequentialminus": [
            [
             0,
             "#0d0887"
            ],
            [
             0.1111111111111111,
             "#46039f"
            ],
            [
             0.2222222222222222,
             "#7201a8"
            ],
            [
             0.3333333333333333,
             "#9c179e"
            ],
            [
             0.4444444444444444,
             "#bd3786"
            ],
            [
             0.5555555555555556,
             "#d8576b"
            ],
            [
             0.6666666666666666,
             "#ed7953"
            ],
            [
             0.7777777777777778,
             "#fb9f3a"
            ],
            [
             0.8888888888888888,
             "#fdca26"
            ],
            [
             1,
             "#f0f921"
            ]
           ]
          },
          "colorway": [
           "#636efa",
           "#EF553B",
           "#00cc96",
           "#ab63fa",
           "#FFA15A",
           "#19d3f3",
           "#FF6692",
           "#B6E880",
           "#FF97FF",
           "#FECB52"
          ],
          "font": {
           "color": "#2a3f5f"
          },
          "geo": {
           "bgcolor": "white",
           "lakecolor": "white",
           "landcolor": "#E5ECF6",
           "showlakes": true,
           "showland": true,
           "subunitcolor": "white"
          },
          "hoverlabel": {
           "align": "left"
          },
          "hovermode": "closest",
          "mapbox": {
           "style": "light"
          },
          "paper_bgcolor": "white",
          "plot_bgcolor": "#E5ECF6",
          "polar": {
           "angularaxis": {
            "gridcolor": "white",
            "linecolor": "white",
            "ticks": ""
           },
           "bgcolor": "#E5ECF6",
           "radialaxis": {
            "gridcolor": "white",
            "linecolor": "white",
            "ticks": ""
           }
          },
          "scene": {
           "xaxis": {
            "backgroundcolor": "#E5ECF6",
            "gridcolor": "white",
            "gridwidth": 2,
            "linecolor": "white",
            "showbackground": true,
            "ticks": "",
            "zerolinecolor": "white"
           },
           "yaxis": {
            "backgroundcolor": "#E5ECF6",
            "gridcolor": "white",
            "gridwidth": 2,
            "linecolor": "white",
            "showbackground": true,
            "ticks": "",
            "zerolinecolor": "white"
           },
           "zaxis": {
            "backgroundcolor": "#E5ECF6",
            "gridcolor": "white",
            "gridwidth": 2,
            "linecolor": "white",
            "showbackground": true,
            "ticks": "",
            "zerolinecolor": "white"
           }
          },
          "shapedefaults": {
           "line": {
            "color": "#2a3f5f"
           }
          },
          "ternary": {
           "aaxis": {
            "gridcolor": "white",
            "linecolor": "white",
            "ticks": ""
           },
           "baxis": {
            "gridcolor": "white",
            "linecolor": "white",
            "ticks": ""
           },
           "bgcolor": "#E5ECF6",
           "caxis": {
            "gridcolor": "white",
            "linecolor": "white",
            "ticks": ""
           }
          },
          "title": {
           "x": 0.05
          },
          "xaxis": {
           "automargin": true,
           "gridcolor": "white",
           "linecolor": "white",
           "ticks": "",
           "title": {
            "standoff": 15
           },
           "zerolinecolor": "white",
           "zerolinewidth": 2
          },
          "yaxis": {
           "automargin": true,
           "gridcolor": "white",
           "linecolor": "white",
           "ticks": "",
           "title": {
            "standoff": 15
           },
           "zerolinecolor": "white",
           "zerolinewidth": 2
          }
         }
        },
        "title": {
         "text": "Rank Plot: Category rank vs Steering Coefficient | Layer: 11 | Feature: War | Diff: l2"
        },
        "width": 900,
        "xaxis": {
         "title": {
          "text": "Steering Coefficient"
         }
        },
        "yaxis": {
         "autorange": "reversed",
         "title": {
          "text": "Rank (1=highest shift)"
         }
        }
       }
      }
     },
     "metadata": {},
     "output_type": "display_data"
    }
   ],
   "source": [
    "info_string = f'Layer: {layer_to_steer} | Feature: {feature} | Diff: {type}'\n",
    "plot_rank_plot(category_shifts, steering_coefficients, info_string)\n"
   ]
  },
  {
   "cell_type": "markdown",
   "id": "ee156d6a",
   "metadata": {},
   "source": [
    "***\n",
    "\n",
    "# Convergence check\n",
    "\n",
    "The following functions are imported from the file `\"Convergence_check.py\"`. They are used to analyze how the steered embeddings' distance to the steering vector is affected by increasing the steering coefficient. "
   ]
  },
  {
   "cell_type": "code",
   "execution_count": 17,
   "id": "07f96028",
   "metadata": {},
   "outputs": [],
   "source": [
    "#from Convergence_check import convergence_check_with_vector, convergence_check_with_neuron, convergence_by_category"
   ]
  },
  {
   "cell_type": "markdown",
   "id": "e84f0d40",
   "metadata": {},
   "source": [
    "## Setup\n",
    "\n",
    "Import necessary data"
   ]
  },
  {
   "cell_type": "code",
   "execution_count": 18,
   "id": "37cee01e",
   "metadata": {},
   "outputs": [
    {
     "name": "stdout",
     "output_type": "stream",
     "text": [
      "Importing 1.36 GB data from file Test_export_embeddings.pkl...\n",
      "Data imported from Test_export_embeddings.pkl\n",
      "Model loaded successfully.\n",
      "Embeddings loaded successfully.\n",
      "Encoded input loaded successfully.\n",
      "All texts data loaded successfully.\n"
     ]
    }
   ],
   "source": [
    "data = import_embedding_data_from_pkl('Test_export_embeddings.pkl', model=True, embeddings=True, encoded_input=True, all_texts_data=True)\n",
    "model, original_embeddings, encoded_input, all_texts_data = data"
   ]
  },
  {
   "cell_type": "markdown",
   "id": "a2b16ff8",
   "metadata": {},
   "source": [
    "## Convergence check - Mean distance, all embeddings"
   ]
  },
  {
   "cell_type": "markdown",
   "id": "e7c7026d",
   "metadata": {},
   "source": [
    "### Steering with a vector"
   ]
  },
  {
   "cell_type": "markdown",
   "id": "782aaa21",
   "metadata": {},
   "source": [
    "`convergence_check_with_vector` plots the mean of the distance between the steered embeddings and the steering vector for a range of coefficients.\n",
    "\n",
    "- `start_coeff` and `end_coeff` can be negative or positive integers, but it is crutial that **start_coeff < end_coeff**\n",
    "\n",
    "- `normalize (True/False)` normalizes the steered embeddings (difference is only visible when using l1 or l2)\n",
    "\n",
    "- `mode` refers to the method used to calculate the distance or similarity between the embeddings and the steering vector, they can be chosen from:\n",
    "    - `\"l1\"` = Manhattan distance - measures the sum of absolute distances between components  \n",
    "    - `\"l2\"` = Euclidian distance - measures the straight line distance between points\n",
    "    - `\"cosine\"` = (1 - Cosine similarity) – measures the cosine angle between two vectors (here, 0 = same direction, 2 = opposite direction)  \n",
    "  <br>\n",
    "\n",
    "- `derivative (True/False)` creates another plot with the derivative of the values in the first plot, to visualize *how* the distance changes \n",
    "\n",
    "- `step_size (int)` chooses the size of the steps between the coefficients, allowing for a zoomed in look on a specific area\n",
    "\n",
    "- `text_range (int, int)` selects the given slice of texts from the input, writing `None` here means that **all** texts are plotted, which can be **very** time consuming considering the fact that every single text needs to be steered\n",
    "\n",
    "**‼️ Warning: These convergence plots *may* take a long time to run if the text_range or range of coefficients are wide.   \n",
    "Test before running multiple at a time. The function prints percentages (%) while running to see how far along you are.**"
   ]
  },
  {
   "cell_type": "markdown",
   "id": "ba25ec58",
   "metadata": {},
   "source": [
    "In addition, every time a plot is created, these are printed:\n",
    "- Distance at coefficient 0 (if in the range)\n",
    "- Minimum distance (and the corresponding coefficient)\n",
    "- Maximum distance (and the corresponding coefficient)\n",
    "- Estimated convergence point on positive and negative sides (coefficient and distance), calculated using a slope threshold\n",
    "- Final distance and coefficient"
   ]
  },
  {
   "cell_type": "code",
   "execution_count": 19,
   "id": "daf06b34",
   "metadata": {},
   "outputs": [
    {
     "name": "stdout",
     "output_type": "stream",
     "text": [
      "Steering vectors imported from steering_vector.pkl\n",
      "Available steering vectors: 'War' (layers: [10, 11]), 'Norway' (layers: [11]), 'Love' (layers: [11])\n",
      "Returning steering vector for 'War' layer 11\n",
      "Processing convergence check...\n",
      "100% done\r"
     ]
    },
    {
     "data": {
      "image/png": "[encoded data removed]",
      "text/plain": [
       "<Figure size 640x480 with 1 Axes>"
      ]
     },
     "metadata": {},
     "output_type": "display_data"
    },
    {
     "name": "stdout",
     "output_type": "stream",
     "text": [
      "Distance at coefficient 0: 1.3538\n",
      "Minimum distance: 0.0379 at coefficient ≈ 100.000\n",
      "Maximum distance: 1.9996 at coefficient ≈ -100.000\n",
      "Converged (negative side) around coefficient ≈ -19.000 | Distance: 1.9898\n",
      "Converged (positive side) around coefficient ≈ 64.000 | Distance: 0.0591\n",
      "Final distance: 0.0379 at coefficient = 100.000\n"
     ]
    },
    {
     "data": {
      "image/png": "[encoded data removed]",
      "text/plain": [
       "<Figure size 640x480 with 1 Axes>"
      ]
     },
     "metadata": {},
     "output_type": "display_data"
    },
    {
     "name": "stdout",
     "output_type": "stream",
     "text": [
      "Effective region: coefficients ≈ [-15, 43]\n",
      "Total change in effective region: 1.8961\n",
      "90% of total change reached by coefficient ≈ 15\n"
     ]
    }
   ],
   "source": [
    "layer_to_steer = 11\n",
    "feature = \"War\"\n",
    "\n",
    "steering_vector = import_steering_vector_from_pkl('steering_vector.pkl', layer_to_steer=layer_to_steer, feature_name=feature)\n",
    "\n",
    "convergence_check_with_vector(model, \n",
    "                              encoded_input,\n",
    "                              layer_to_steer, \n",
    "                              steering_vector, \n",
    "                              feature, \n",
    "                              start_coeff=-100, \n",
    "                              end_coeff=100, \n",
    "                              normalize=True,\n",
    "                              mode='l2', \n",
    "                              derivative=True, \n",
    "                              step_size=1,\n",
    "                              grid=True, \n",
    "                              text_range=(0,100))"
   ]
  },
  {
   "cell_type": "markdown",
   "id": "d9e524a5",
   "metadata": {},
   "source": [
    "### Steering with a neuron"
   ]
  },
  {
   "cell_type": "markdown",
   "id": "9ca9dda9",
   "metadata": {},
   "source": [
    "`convergence_check_with_neuron` plots the mean of the distance between the steered embeddings and a comparison vector (feature embedding) for a range of coefficients."
   ]
  },
  {
   "cell_type": "code",
   "execution_count": 20,
   "id": "0cdb1c59",
   "metadata": {},
   "outputs": [
    {
     "name": "stdout",
     "output_type": "stream",
     "text": [
      "Steering vectors imported from steering_vector.pkl\n",
      "Available steering vectors: 'War' (layers: [10, 11]), 'Norway' (layers: [11]), 'Love' (layers: [11])\n",
      "Returning steering vector for 'War' layer 11\n",
      "Processing convergence check...\n",
      "100% done\r"
     ]
    },
    {
     "data": {
      "image/png": "[encoded data removed]",
      "text/plain": [
       "<Figure size 640x480 with 1 Axes>"
      ]
     },
     "metadata": {},
     "output_type": "display_data"
    },
    {
     "name": "stdout",
     "output_type": "stream",
     "text": [
      "Distance at coefficient 0: 1.3538\n",
      "Minimum distance: 1.3007 at coefficient ≈ 6.000\n",
      "Maximum distance: 1.5016 at coefficient ≈ -100.000\n",
      "Converged (negative side) around coefficient ≈ -16.000 | Distance: 1.4884\n",
      "Converged (positive side) around coefficient ≈ 8.000 | Distance: 1.3015\n",
      "Final distance: 1.3164 at coefficient = 100.000\n"
     ]
    },
    {
     "data": {
      "image/png": "[encoded data removed]",
      "text/plain": [
       "<Figure size 640x480 with 1 Axes>"
      ]
     },
     "metadata": {},
     "output_type": "display_data"
    },
    {
     "name": "stdout",
     "output_type": "stream",
     "text": [
      "Effective region: coefficients ≈ [-12, 4]\n",
      "Total change in effective region: 0.1797\n",
      "90% of total change reached by coefficient ≈ 3\n"
     ]
    }
   ],
   "source": [
    "neuron = 69\n",
    "layer_to_steer = 11\n",
    "feature = \"War\"\n",
    "\n",
    "comparison_vector = import_steering_vector_from_pkl('steering_vector.pkl', layer_to_steer=layer_to_steer, feature_name=feature)\n",
    "\n",
    "convergence_check_with_neuron(model, \n",
    "                              encoded_input,\n",
    "                              neuron,\n",
    "                              layer_to_steer, \n",
    "                              comparison_vector, \n",
    "                              feature, \n",
    "                              start_coeff=-100, \n",
    "                              end_coeff=100, \n",
    "                              normalize=True,\n",
    "                              mode='l2', \n",
    "                              derivative=True, \n",
    "                              step_size=1,\n",
    "                              grid=True, \n",
    "                              text_range=(0,100))"
   ]
  },
  {
   "cell_type": "markdown",
   "id": "7b720e9f",
   "metadata": {},
   "source": [
    "## Convergence by category"
   ]
  },
  {
   "cell_type": "markdown",
   "id": "d440bfbf",
   "metadata": {},
   "source": [
    "`convergence_by_category` plots the mean distances from the steered embeddings to the steering vector, for each of the categories given, to see how they change individually. (Steering is done using a steering vector)\n",
    "\n",
    "- `category_column (String)` chooses the column in the data frame to categorize by \n",
    "- `min_count (int)` removed the categories that don't have at least that amount of data points\n",
    "\n",
    "The rest of the parameters are the same as the other convergence plots.  \n",
    " \n",
    "The analysis printed at the end, are given for each category (min, max, positive and negative convergence point)"
   ]
  },
  {
   "cell_type": "code",
   "execution_count": 21,
   "id": "f7cf57c5",
   "metadata": {},
   "outputs": [
    {
     "name": "stdout",
     "output_type": "stream",
     "text": [
      "Steering vectors imported from steering_vector.pkl\n",
      "Available steering vectors: 'War' (layers: [10, 11]), 'Norway' (layers: [11]), 'Love' (layers: [11])\n",
      "Returning steering vector for 'War' layer 11\n",
      "Processing convergence by category...\n",
      "100% done\r"
     ]
    },
    {
     "data": {
      "image/png": "[encoded data removed]",
      "text/plain": [
       "<Figure size 640x480 with 1 Axes>"
      ]
     },
     "metadata": {},
     "output_type": "display_data"
    },
    {
     "name": "stdout",
     "output_type": "stream",
     "text": [
      "\n",
      "Convergence analysis by category (slope-based):\n",
      "==================================================\n",
      "\n",
      "Drama:\n",
      " Minimum distance: 0.0383 at coefficient ≈ 100\n",
      " Maximum distance: 1.9996 at coefficient ≈ -100\n",
      " Converged (negative side) around coefficient ≈ -19 | Distance: 1.9898\n",
      " Converged (positive side) around coefficient ≈ 65 | Distance: 0.0588\n",
      "\n",
      "Crime:\n",
      " Minimum distance: 0.0376 at coefficient ≈ 100\n",
      " Maximum distance: 1.9996 at coefficient ≈ -100\n",
      " Converged (negative side) around coefficient ≈ -20 | Distance: 1.9907\n",
      " Converged (positive side) around coefficient ≈ 64 | Distance: 0.0585\n",
      "\n",
      "Adventure:\n",
      " Minimum distance: 0.0380 at coefficient ≈ 100\n",
      " Maximum distance: 1.9996 at coefficient ≈ -100\n",
      " Converged (negative side) around coefficient ≈ -20 | Distance: 1.9905\n",
      " Converged (positive side) around coefficient ≈ 64 | Distance: 0.0592\n",
      "\n",
      "Sci-Fi:\n",
      " Minimum distance: 0.0390 at coefficient ≈ 100\n",
      " Maximum distance: 1.9996 at coefficient ≈ -100\n",
      " Converged (negative side) around coefficient ≈ -20 | Distance: 1.9902\n",
      " Converged (positive side) around coefficient ≈ 65 | Distance: 0.0599\n",
      "\n",
      "Romance:\n",
      " Minimum distance: 0.0358 at coefficient ≈ 100\n",
      " Maximum distance: 1.9997 at coefficient ≈ -100\n",
      " Converged (negative side) around coefficient ≈ -18 | Distance: 1.9906\n",
      " Converged (positive side) around coefficient ≈ 63 | Distance: 0.0568\n",
      "\n",
      "Biography:\n",
      " Minimum distance: 0.0365 at coefficient ≈ 100\n",
      " Maximum distance: 1.9997 at coefficient ≈ -100\n",
      " Converged (negative side) around coefficient ≈ -19 | Distance: 1.9908\n",
      " Converged (positive side) around coefficient ≈ 63 | Distance: 0.0579\n",
      "\n",
      "War:\n",
      " Minimum distance: 0.0381 at coefficient ≈ 100\n",
      " Maximum distance: 1.9996 at coefficient ≈ -100\n",
      " Converged (negative side) around coefficient ≈ -20 | Distance: 1.9899\n",
      " Converged (positive side) around coefficient ≈ 64 | Distance: 0.0592\n"
     ]
    },
    {
     "data": {
      "image/png": "[encoded data removed]",
      "text/plain": [
       "<Figure size 1000x600 with 1 Axes>"
      ]
     },
     "metadata": {},
     "output_type": "display_data"
    }
   ],
   "source": [
    "layer_to_steer = 11\n",
    "feature = \"War\"\n",
    "\n",
    "steering_vector = import_steering_vector_from_pkl('steering_vector.pkl', layer_to_steer=layer_to_steer, feature_name=feature)\n",
    "\n",
    "convergence_by_category(model, \n",
    "                        encoded_input, \n",
    "                        all_texts_data, \n",
    "                        layer_to_steer, \n",
    "                        steering_vector, \n",
    "                        feature, \n",
    "                        category_column='genre', \n",
    "                        start_coeff=-100, \n",
    "                        end_coeff=100, \n",
    "                        normalize=True, \n",
    "                        mode='l2', \n",
    "                        derivative=True, \n",
    "                        step_size=1, \n",
    "                        grid=True, \n",
    "                        text_range=(0,100), \n",
    "                        min_count=5) "
   ]
  },
  {
   "cell_type": "code",
   "execution_count": 22,
   "id": "d531190f",
   "metadata": {},
   "outputs": [
    {
     "name": "stdout",
     "output_type": "stream",
     "text": [
      "============================================================\n",
      "📋 CONVERGENCE ANALYSIS CHECKPOINT\n",
      "============================================================\n",
      "✅ Layer used for convergence: 11\n",
      "✅ Feature used: War\n",
      "✅ Distance mode used: l2\n",
      "✅ Convergence plots generated successfully\n",
      "============================================================\n",
      "🎯 CHECKPOINT PASSED - Convergence analysis complete!\n",
      "🧠 Next section: Neuron activations analysis\n",
      "============================================================\n"
     ]
    }
   ],
   "source": [
    "# 🎯 CHECKPOINT: Convergence Analysis\n",
    "print(\"=\"*60)\n",
    "print(\"📋 CONVERGENCE ANALYSIS CHECKPOINT\")\n",
    "print(\"=\"*60)\n",
    "\n",
    "try:\n",
    "    # Verify convergence parameters\n",
    "    print(f\"✅ Layer used for convergence: {layer_to_steer}\")\n",
    "    print(f\"✅ Feature used: {feature}\")\n",
    "    print(f\"✅ Distance mode used: {locals().get('mode', 'l2')}\")\n",
    "    \n",
    "    # Check if we have category-specific convergence\n",
    "    if 'category_column' in locals() and locals()['category_column'] is not None:\n",
    "        print(f\"✅ Category-specific convergence using: {locals()['category_column']}\")\n",
    "    \n",
    "    # Check coefficient range\n",
    "    if 'start_coeff' in locals() and 'end_coeff' in locals():\n",
    "        start = locals()['start_coeff']\n",
    "        end = locals()['end_coeff']\n",
    "        print(f\"✅ Coefficient range: {start} to {end}\")\n",
    "    \n",
    "    # Check convergence results - these may not be available if the plot is still rendering\n",
    "    # or if the result isn't stored in a variable\n",
    "    print(\"✅ Convergence plots generated successfully\")\n",
    "    \n",
    "    print(\"=\"*60)\n",
    "    print(\"🎯 CHECKPOINT PASSED - Convergence analysis complete!\")\n",
    "    print(\"🧠 Next section: Neuron activations analysis\")\n",
    "    print(\"=\"*60)\n",
    "\n",
    "except Exception as e:\n",
    "    print(\"❌ CHECKPOINT FAILED\")\n",
    "    print(f\"💥 Error: {str(e)}\")\n",
    "    print(\"🔧 Please check previous cells and ensure convergence analysis ran\")\n",
    "    print(\"💡 Tip: Make sure all required parameters for convergence analysis were provided\")"
   ]
  },
  {
   "cell_type": "markdown",
   "id": "4529531f",
   "metadata": {},
   "source": [
    "***\n",
    "\n",
    "# Neuron Activations for Categories\n",
    "\n",
    "The following functions are imported from the file `\"Activations_categories.py\"`. They are necessary to analyze how individual neurons are activated in the model when performing steering using a steering vector."
   ]
  },
  {
   "cell_type": "code",
   "execution_count": 23,
   "id": "7a4dde74",
   "metadata": {},
   "outputs": [],
   "source": [
    "#from Activations_categories import get_category_activations, plot_category_activations, find_activation_shift, create_neuron_shift_heatmap, plot_change_in_top_shifted_neurons"
   ]
  },
  {
   "cell_type": "markdown",
   "id": "a463bef2",
   "metadata": {},
   "source": [
    "## Setup\n",
    "\n",
    "Before we start analyzing we must prepare everything we need"
   ]
  },
  {
   "cell_type": "code",
   "execution_count": 24,
   "id": "4688fd35",
   "metadata": {},
   "outputs": [
    {
     "name": "stdout",
     "output_type": "stream",
     "text": [
      "Importing 1.36 GB data from file Test_export_embeddings.pkl...\n",
      "Data imported from Test_export_embeddings.pkl\n",
      "Model loaded successfully.\n",
      "Model output loaded successfully.\n",
      "Encoded input loaded successfully.\n",
      "All texts data loaded successfully.\n",
      "Steering vectors imported from steering_vector.pkl\n",
      "Available steering vectors: 'War' (layers: [10, 11]), 'Norway' (layers: [11]), 'Love' (layers: [11])\n",
      "Returning steering vector for 'War' layer 10\n"
     ]
    }
   ],
   "source": [
    "# Import the necessasry data\n",
    "data = import_embedding_data_from_pkl(\"Test_export_embeddings.pkl\", model=True, model_output=True, encoded_input=True, all_texts_data=True)\n",
    "model, model_output, encoded_input, all_texts_data = data\n",
    "\n",
    "feature = \"War\"\n",
    "category = \"Action\" # Choose what category to analyze, can be any category in the dataset\n",
    "type = \"cosine\" # Chose what distance measure to use: l1, l2 or cosine\n",
    "layer_to_steer = 10  # Change this to the layer you want to analyze, can not be the last layer. Steering in the next to last layer\n",
    "# will affect the activations of neurons in the last layer.\n",
    "layer_to_plot = 11  # Choose what layer to plot the category activations from\n",
    "\n",
    "steering_coefficient = 10  # Adjust steering coefficient as needed\n",
    "\n",
    "steering_vector = import_steering_vector_from_pkl('steering_vector.pkl', feature_name=feature, layer_to_steer=layer_to_steer)"
   ]
  },
  {
   "cell_type": "markdown",
   "id": "c6ad3fc3",
   "metadata": {},
   "source": [
    "After the Setup we have:\n",
    "- model, model_output, original_embeddings, encoded_input, all_texts_data\n",
    "- feature\n",
    "- category\n",
    "- type\n",
    "- layer_to_steer, layer_to_plot\n",
    "- steering_coefficient\n",
    "- steering_vector"
   ]
  },
  {
   "cell_type": "markdown",
   "id": "ff89e4e5",
   "metadata": {},
   "source": [
    "## Analysis"
   ]
  },
  {
   "cell_type": "markdown",
   "id": "6c1c3a77",
   "metadata": {},
   "source": [
    "### <a id=\"get-category-activations\"></a>Get Category Activations\n",
    "\n",
    "`get_category_activations` calculates the activations for each neuron in a specific layer for a category.\n",
    "- `layer_to_plot` is a layer that comes after the layer that was steered. This is because you will not see the effect on the activations of the neurons in the same layer that you apply the steering."
   ]
  },
  {
   "cell_type": "code",
   "execution_count": 25,
   "id": "e58a6995",
   "metadata": {},
   "outputs": [
    {
     "name": "stdout",
     "output_type": "stream",
     "text": [
      "Created steered model output with shape: torch.Size([1000, 66, 384])\n"
     ]
    }
   ],
   "source": [
    "# Get the category activations for the original model output\n",
    "original_category_activations = get_category_activations(model_output, encoded_input, all_texts_data, layer_index=layer_to_plot)\n",
    "\n",
    "# Create the steered model output\n",
    "steered_model_output = create_steered_model_output(\n",
    "    model, \n",
    "    encoded_input, \n",
    "    layer_to_steer=layer_to_steer, \n",
    "    steering_coefficient=steering_coefficient, \n",
    "    steering_vector=steering_vector\n",
    "    )\n",
    "# Get the category activations for the steered model output\n",
    "steered_category_activations = get_category_activations(steered_model_output, encoded_input, all_texts_data, layer_index=layer_to_plot)"
   ]
  },
  {
   "cell_type": "markdown",
   "id": "2181e4a7",
   "metadata": {},
   "source": [
    "### <a id=\"plot-category-activations\"></a>Plot Category Activations\n",
    "\n",
    "`plot_category_activations` plots the activation values (y-axis) and the neuron index (x-axis) that was calculated from `get_category_activations`\n",
    "- `original_category_activations` are the original activation values for the neurons retrieved from `get_category_activations`\n",
    "- `steered_category_activations` are the steered acitvation values for the neurons retrieved from `get_category_activations`\n",
    "- `category` is what category to retrive the activations for.\n",
    "- `info_string` is what will be displayed in the title of the plot to keep track of the selected parameters for that plot."
   ]
  },
  {
   "cell_type": "code",
   "execution_count": 26,
   "id": "fc0211b6",
   "metadata": {},
   "outputs": [
    {
     "data": {
      "application/vnd.plotly.v1+json": {
       "config": {
        "plotlyServerURL": "https://plot.ly"
       },
       "data": [
        {
         "name": "Action",
         "type": "bar",
         "width": 0.8,
         "x": [
          0,
          1,
          2,
          3,
          4,
          5,
          6,
          7,
          8,
          9,
          10,
          11,
          12,
          13,
          14,
          15,
          16,
          17,
          18,
          19,
          20,
          21,
          22,
          23,
          24,
          25,
          26,
          27,
          28,
          29,
          30,
          31,
          32,
          33,
          34,
          35,
          36,
          37,
          38,
          39,
          40,
          41,
          42,
          43,
          44,
          45,
          46,
          47,
          48,
          49,
          50,
          51,
          52,
          53,
          54,
          55,
          56,
          57,
          58,
          59,
          60,
          61,
          62,
          63,
          64,
          65,
          66,
          67,
          68,
          69,
          70,
          71,
          72,
          73,
          74,
          75,
          76,
          77,
          78,
          79,
          80,
          81,
          82,
          83,
          84,
          85,
          86,
          87,
          88,
          89,
          90,
          91,
          92,
          93,
          94,
          95,
          96,
          97,
          98,
          99,
          100,
          101,
          102,
          103,
          104,
          105,
          106,
          107,
          108,
          109,
          110,
          111,
          112,
          113,
          114,
          115,
          116,
          117,
          118,
          119,
          120,
          121,
          122,
          123,
          124,
          125,
          126,
          127,
          128,
          129,
          130,
          131,
          132,
          133,
          134,
          135,
          136,
          137,
          138,
          139,
          140,
          141,
          142,
          143,
          144,
          145,
          146,
          147,
          148,
          149,
          150,
          151,
          152,
          153,
          154,
          155,
          156,
          157,
          158,
          159,
          160,
          161,
          162,
          163,
          164,
          165,
          166,
          167,
          168,
          169,
          170,
          171,
          172,
          173,
          174,
          175,
          176,
          177,
          178,
          179,
          180,
          181,
          182,
          183,
          184,
          185,
          186,
          187,
          188,
          189,
          190,
          191,
          192,
          193,
          194,
          195,
          196,
          197,
          198,
          199,
          200,
          201,
          202,
          203,
          204,
          205,
          206,
          207,
          208,
          209,
          210,
          211,
          212,
          213,
          214,
          215,
          216,
          217,
          218,
          219,
          220,
          221,
          222,
          223,
          224,
          225,
          226,
          227,
          228,
          229,
          230,
          231,
          232,
          233,
          234,
          235,
          236,
          237,
          238,
          239,
          240,
          241,
          242,
          243,
          244,
          245,
          246,
          247,
          248,
          249,
          250,
          251,
          252,
          253,
          254,
          255,
          256,
          257,
          258,
          259,
          260,
          261,
          262,
          263,
          264,
          265,
          266,
          267,
          268,
          269,
          270,
          271,
          272,
          273,
          274,
          275,
          276,
          277,
          278,
          279,
          280,
          281,
          282,
          283,
          284,
          285,
          286,
          287,
          288,
          289,
          290,
          291,
          292,
          293,
          294,
          295,
          296,
          297,
          298,
          299,
          300,
          301,
          302,
          303,
          304,
          305,
          306,
          307,
          308,
          309,
          310,
          311,
          312,
          313,
          314,
          315,
          316,
          317,
          318,
          319,
          320,
          321,
          322,
          323,
          324,
          325,
          326,
          327,
          328,
          329,
          330,
          331,
          332,
          333,
          334,
          335,
          336,
          337,
          338,
          339,
          340,
          341,
          342,
          343,
          344,
          345,
          346,
          347,
          348,
          349,
          350,
          351,
          352,
          353,
          354,
          355,
          356,
          357,
          358,
          359,
          360,
          361,
          362,
          363,
          364,
          365,
          366,
          367,
          368,
          369,
          370,
          371,
          372,
          373,
          374,
          375,
          376,
          377,
          378,
          379,
          380,
          381,
          382,
          383
         ],
         "y": {
          "bdata": "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",
          "dtype": "f4"
         }
        }
       ],
       "layout": {
        "template": {
         "data": {
          "bar": [
           {
            "error_x": {
             "color": "#2a3f5f"
            },
            "error_y": {
             "color": "#2a3f5f"
            },
            "marker": {
             "line": {
              "color": "#E5ECF6",
              "width": 0.5
             },
             "pattern": {
              "fillmode": "overlay",
              "size": 10,
              "solidity": 0.2
             }
            },
            "type": "bar"
           }
          ],
          "barpolar": [
           {
            "marker": {
             "line": {
              "color": "#E5ECF6",
              "width": 0.5
             },
             "pattern": {
              "fillmode": "overlay",
              "size": 10,
              "solidity": 0.2
             }
            },
            "type": "barpolar"
           }
          ],
          "carpet": [
           {
            "aaxis": {
             "endlinecolor": "#2a3f5f",
             "gridcolor": "white",
             "linecolor": "white",
             "minorgridcolor": "white",
             "startlinecolor": "#2a3f5f"
            },
            "baxis": {
             "endlinecolor": "#2a3f5f",
             "gridcolor": "white",
             "linecolor": "white",
             "minorgridcolor": "white",
             "startlinecolor": "#2a3f5f"
            },
            "type": "carpet"
           }
          ],
          "choropleth": [
           {
            "colorbar": {
             "outlinewidth": 0,
             "ticks": ""
            },
            "type": "choropleth"
           }
          ],
          "contour": [
           {
            "colorbar": {
             "outlinewidth": 0,
             "ticks": ""
            },
            "colorscale": [
             [
              0,
              "#0d0887"
             ],
             [
              0.1111111111111111,
              "#46039f"
             ],
             [
              0.2222222222222222,
              "#7201a8"
             ],
             [
              0.3333333333333333,
              "#9c179e"
             ],
             [
              0.4444444444444444,
              "#bd3786"
             ],
             [
              0.5555555555555556,
              "#d8576b"
             ],
             [
              0.6666666666666666,
              "#ed7953"
             ],
             [
              0.7777777777777778,
              "#fb9f3a"
             ],
             [
              0.8888888888888888,
              "#fdca26"
             ],
             [
              1,
              "#f0f921"
             ]
            ],
            "type": "contour"
           }
          ],
          "contourcarpet": [
           {
            "colorbar": {
             "outlinewidth": 0,
             "ticks": ""
            },
            "type": "contourcarpet"
           }
          ],
          "heatmap": [
           {
            "colorbar": {
             "outlinewidth": 0,
             "ticks": ""
            },
            "colorscale": [
             [
              0,
              "#0d0887"
             ],
             [
              0.1111111111111111,
              "#46039f"
             ],
             [
              0.2222222222222222,
              "#7201a8"
             ],
             [
              0.3333333333333333,
              "#9c179e"
             ],
             [
              0.4444444444444444,
              "#bd3786"
             ],
             [
              0.5555555555555556,
              "#d8576b"
             ],
             [
              0.6666666666666666,
              "#ed7953"
             ],
             [
              0.7777777777777778,
              "#fb9f3a"
             ],
             [
              0.8888888888888888,
              "#fdca26"
             ],
             [
              1,
              "#f0f921"
             ]
            ],
            "type": "heatmap"
           }
          ],
          "histogram": [
           {
            "marker": {
             "pattern": {
              "fillmode": "overlay",
              "size": 10,
              "solidity": 0.2
             }
            },
            "type": "histogram"
           }
          ],
          "histogram2d": [
           {
            "colorbar": {
             "outlinewidth": 0,
             "ticks": ""
            },
            "colorscale": [
             [
              0,
              "#0d0887"
             ],
             [
              0.1111111111111111,
              "#46039f"
             ],
             [
              0.2222222222222222,
              "#7201a8"
             ],
             [
              0.3333333333333333,
              "#9c179e"
             ],
             [
              0.4444444444444444,
              "#bd3786"
             ],
             [
              0.5555555555555556,
              "#d8576b"
             ],
             [
              0.6666666666666666,
              "#ed7953"
             ],
             [
              0.7777777777777778,
              "#fb9f3a"
             ],
             [
              0.8888888888888888,
              "#fdca26"
             ],
             [
              1,
              "#f0f921"
             ]
            ],
            "type": "histogram2d"
           }
          ],
          "histogram2dcontour": [
           {
            "colorbar": {
             "outlinewidth": 0,
             "ticks": ""
            },
            "colorscale": [
             [
              0,
              "#0d0887"
             ],
             [
              0.1111111111111111,
              "#46039f"
             ],
             [
              0.2222222222222222,
              "#7201a8"
             ],
             [
              0.3333333333333333,
              "#9c179e"
             ],
             [
              0.4444444444444444,
              "#bd3786"
             ],
             [
              0.5555555555555556,
              "#d8576b"
             ],
             [
              0.6666666666666666,
              "#ed7953"
             ],
             [
              0.7777777777777778,
              "#fb9f3a"
             ],
             [
              0.8888888888888888,
              "#fdca26"
             ],
             [
              1,
              "#f0f921"
             ]
            ],
            "type": "histogram2dcontour"
           }
          ],
          "mesh3d": [
           {
            "colorbar": {
             "outlinewidth": 0,
             "ticks": ""
            },
            "type": "mesh3d"
           }
          ],
          "parcoords": [
           {
            "line": {
             "colorbar": {
              "outlinewidth": 0,
              "ticks": ""
             }
            },
            "type": "parcoords"
           }
          ],
          "pie": [
           {
            "automargin": true,
            "type": "pie"
           }
          ],
          "scatter": [
           {
            "fillpattern": {
             "fillmode": "overlay",
             "size": 10,
             "solidity": 0.2
            },
            "type": "scatter"
           }
          ],
          "scatter3d": [
           {
            "line": {
             "colorbar": {
              "outlinewidth": 0,
              "ticks": ""
             }
            },
            "marker": {
             "colorbar": {
              "outlinewidth": 0,
              "ticks": ""
             }
            },
            "type": "scatter3d"
           }
          ],
          "scattercarpet": [
           {
            "marker": {
             "colorbar": {
              "outlinewidth": 0,
              "ticks": ""
             }
            },
            "type": "scattercarpet"
           }
          ],
          "scattergeo": [
           {
            "marker": {
             "colorbar": {
              "outlinewidth": 0,
              "ticks": ""
             }
            },
            "type": "scattergeo"
           }
          ],
          "scattergl": [
           {
            "marker": {
             "colorbar": {
              "outlinewidth": 0,
              "ticks": ""
             }
            },
            "type": "scattergl"
           }
          ],
          "scattermap": [
           {
            "marker": {
             "colorbar": {
              "outlinewidth": 0,
              "ticks": ""
             }
            },
            "type": "scattermap"
           }
          ],
          "scattermapbox": [
           {
            "marker": {
             "colorbar": {
              "outlinewidth": 0,
              "ticks": ""
             }
            },
            "type": "scattermapbox"
           }
          ],
          "scatterpolar": [
           {
            "marker": {
             "colorbar": {
              "outlinewidth": 0,
              "ticks": ""
             }
            },
            "type": "scatterpolar"
           }
          ],
          "scatterpolargl": [
           {
            "marker": {
             "colorbar": {
              "outlinewidth": 0,
              "ticks": ""
             }
            },
            "type": "scatterpolargl"
           }
          ],
          "scatterternary": [
           {
            "marker": {
             "colorbar": {
              "outlinewidth": 0,
              "ticks": ""
             }
            },
            "type": "scatterternary"
           }
          ],
          "surface": [
           {
            "colorbar": {
             "outlinewidth": 0,
             "ticks": ""
            },
            "colorscale": [
             [
              0,
              "#0d0887"
             ],
             [
              0.1111111111111111,
              "#46039f"
             ],
             [
              0.2222222222222222,
              "#7201a8"
             ],
             [
              0.3333333333333333,
              "#9c179e"
             ],
             [
              0.4444444444444444,
              "#bd3786"
             ],
             [
              0.5555555555555556,
              "#d8576b"
             ],
             [
              0.6666666666666666,
              "#ed7953"
             ],
             [
              0.7777777777777778,
              "#fb9f3a"
             ],
             [
              0.8888888888888888,
              "#fdca26"
             ],
             [
              1,
              "#f0f921"
             ]
            ],
            "type": "surface"
           }
          ],
          "table": [
           {
            "cells": {
             "fill": {
              "color": "#EBF0F8"
             },
             "line": {
              "color": "white"
             }
            },
            "header": {
             "fill": {
              "color": "#C8D4E3"
             },
             "line": {
              "color": "white"
             }
            },
            "type": "table"
           }
          ]
         },
         "layout": {
          "annotationdefaults": {
           "arrowcolor": "#2a3f5f",
           "arrowhead": 0,
           "arrowwidth": 1
          },
          "autotypenumbers": "strict",
          "coloraxis": {
           "colorbar": {
            "outlinewidth": 0,
            "ticks": ""
           }
          },
          "colorscale": {
           "diverging": [
            [
             0,
             "#8e0152"
            ],
            [
             0.1,
             "#c51b7d"
            ],
            [
             0.2,
             "#de77ae"
            ],
            [
             0.3,
             "#f1b6da"
            ],
            [
             0.4,
             "#fde0ef"
            ],
            [
             0.5,
             "#f7f7f7"
            ],
            [
             0.6,
             "#e6f5d0"
            ],
            [
             0.7,
             "#b8e186"
            ],
            [
             0.8,
             "#7fbc41"
            ],
            [
             0.9,
             "#4d9221"
            ],
            [
             1,
             "#276419"
            ]
           ],
           "sequential": [
            [
             0,
             "#0d0887"
            ],
            [
             0.1111111111111111,
             "#46039f"
            ],
            [
             0.2222222222222222,
             "#7201a8"
            ],
            [
             0.3333333333333333,
             "#9c179e"
            ],
            [
             0.4444444444444444,
             "#bd3786"
            ],
            [
             0.5555555555555556,
             "#d8576b"
            ],
            [
             0.6666666666666666,
             "#ed7953"
            ],
            [
             0.7777777777777778,
             "#fb9f3a"
            ],
            [
             0.8888888888888888,
             "#fdca26"
            ],
            [
             1,
             "#f0f921"
            ]
           ],
           "sequentialminus": [
            [
             0,
             "#0d0887"
            ],
            [
             0.1111111111111111,
             "#46039f"
            ],
            [
             0.2222222222222222,
             "#7201a8"
            ],
            [
             0.3333333333333333,
             "#9c179e"
            ],
            [
             0.4444444444444444,
             "#bd3786"
            ],
            [
             0.5555555555555556,
             "#d8576b"
            ],
            [
             0.6666666666666666,
             "#ed7953"
            ],
            [
             0.7777777777777778,
             "#fb9f3a"
            ],
            [
             0.8888888888888888,
             "#fdca26"
            ],
            [
             1,
             "#f0f921"
            ]
           ]
          },
          "colorway": [
           "#636efa",
           "#EF553B",
           "#00cc96",
           "#ab63fa",
           "#FFA15A",
           "#19d3f3",
           "#FF6692",
           "#B6E880",
           "#FF97FF",
           "#FECB52"
          ],
          "font": {
           "color": "#2a3f5f"
          },
          "geo": {
           "bgcolor": "white",
           "lakecolor": "white",
           "landcolor": "#E5ECF6",
           "showlakes": true,
           "showland": true,
           "subunitcolor": "white"
          },
          "hoverlabel": {
           "align": "left"
          },
          "hovermode": "closest",
          "mapbox": {
           "style": "light"
          },
          "paper_bgcolor": "white",
          "plot_bgcolor": "#E5ECF6",
          "polar": {
           "angularaxis": {
            "gridcolor": "white",
            "linecolor": "white",
            "ticks": ""
           },
           "bgcolor": "#E5ECF6",
           "radialaxis": {
            "gridcolor": "white",
            "linecolor": "white",
            "ticks": ""
           }
          },
          "scene": {
           "xaxis": {
            "backgroundcolor": "#E5ECF6",
            "gridcolor": "white",
            "gridwidth": 2,
            "linecolor": "white",
            "showbackground": true,
            "ticks": "",
            "zerolinecolor": "white"
           },
           "yaxis": {
            "backgroundcolor": "#E5ECF6",
            "gridcolor": "white",
            "gridwidth": 2,
            "linecolor": "white",
            "showbackground": true,
            "ticks": "",
            "zerolinecolor": "white"
           },
           "zaxis": {
            "backgroundcolor": "#E5ECF6",
            "gridcolor": "white",
            "gridwidth": 2,
            "linecolor": "white",
            "showbackground": true,
            "ticks": "",
            "zerolinecolor": "white"
           }
          },
          "shapedefaults": {
           "line": {
            "color": "#2a3f5f"
           }
          },
          "ternary": {
           "aaxis": {
            "gridcolor": "white",
            "linecolor": "white",
            "ticks": ""
           },
           "baxis": {
            "gridcolor": "white",
            "linecolor": "white",
            "ticks": ""
           },
           "bgcolor": "#E5ECF6",
           "caxis": {
            "gridcolor": "white",
            "linecolor": "white",
            "ticks": ""
           }
          },
          "title": {
           "x": 0.05
          },
          "xaxis": {
           "automargin": true,
           "gridcolor": "white",
           "linecolor": "white",
           "ticks": "",
           "title": {
            "standoff": 15
           },
           "zerolinecolor": "white",
           "zerolinewidth": 2
          },
          "yaxis": {
           "automargin": true,
           "gridcolor": "white",
           "linecolor": "white",
           "ticks": "",
           "title": {
            "standoff": 15
           },
           "zerolinecolor": "white",
           "zerolinewidth": 2
          }
         }
        },
        "title": {
         "text": "Category Activations for Action | Count: 16 | Layer: 11"
        },
        "xaxis": {
         "title": {
          "text": "Neuron Index"
         }
        },
        "yaxis": {
         "title": {
          "text": "Activation Value"
         }
        }
       }
      }
     },
     "metadata": {},
     "output_type": "display_data"
    }
   ],
   "source": [
    "# Plot the category activations for the original model output\n",
    "info_string = f'Category Activations for {category} | Count: {len(all_texts_data[all_texts_data[\"genre\"] == category])} | Layer: {layer_to_plot}'\n",
    "plot_category_activations(original_category_activations, category, info_string)"
   ]
  },
  {
   "cell_type": "code",
   "execution_count": 27,
   "id": "94db8b31",
   "metadata": {},
   "outputs": [
    {
     "data": {
      "application/vnd.plotly.v1+json": {
       "config": {
        "plotlyServerURL": "https://plot.ly"
       },
       "data": [
        {
         "name": "Action",
         "type": "bar",
         "width": 0.8,
         "x": [
          0,
          1,
          2,
          3,
          4,
          5,
          6,
          7,
          8,
          9,
          10,
          11,
          12,
          13,
          14,
          15,
          16,
          17,
          18,
          19,
          20,
          21,
          22,
          23,
          24,
          25,
          26,
          27,
          28,
          29,
          30,
          31,
          32,
          33,
          34,
          35,
          36,
          37,
          38,
          39,
          40,
          41,
          42,
          43,
          44,
          45,
          46,
          47,
          48,
          49,
          50,
          51,
          52,
          53,
          54,
          55,
          56,
          57,
          58,
          59,
          60,
          61,
          62,
          63,
          64,
          65,
          66,
          67,
          68,
          69,
          70,
          71,
          72,
          73,
          74,
          75,
          76,
          77,
          78,
          79,
          80,
          81,
          82,
          83,
          84,
          85,
          86,
          87,
          88,
          89,
          90,
          91,
          92,
          93,
          94,
          95,
          96,
          97,
          98,
          99,
          100,
          101,
          102,
          103,
          104,
          105,
          106,
          107,
          108,
          109,
          110,
          111,
          112,
          113,
          114,
          115,
          116,
          117,
          118,
          119,
          120,
          121,
          122,
          123,
          124,
          125,
          126,
          127,
          128,
          129,
          130,
          131,
          132,
          133,
          134,
          135,
          136,
          137,
          138,
          139,
          140,
          141,
          142,
          143,
          144,
          145,
          146,
          147,
          148,
          149,
          150,
          151,
          152,
          153,
          154,
          155,
          156,
          157,
          158,
          159,
          160,
          161,
          162,
          163,
          164,
          165,
          166,
          167,
          168,
          169,
          170,
          171,
          172,
          173,
          174,
          175,
          176,
          177,
          178,
          179,
          180,
          181,
          182,
          183,
          184,
          185,
          186,
          187,
          188,
          189,
          190,
          191,
          192,
          193,
          194,
          195,
          196,
          197,
          198,
          199,
          200,
          201,
          202,
          203,
          204,
          205,
          206,
          207,
          208,
          209,
          210,
          211,
          212,
          213,
          214,
          215,
          216,
          217,
          218,
          219,
          220,
          221,
          222,
          223,
          224,
          225,
          226,
          227,
          228,
          229,
          230,
          231,
          232,
          233,
          234,
          235,
          236,
          237,
          238,
          239,
          240,
          241,
          242,
          243,
          244,
          245,
          246,
          247,
          248,
          249,
          250,
          251,
          252,
          253,
          254,
          255,
          256,
          257,
          258,
          259,
          260,
          261,
          262,
          263,
          264,
          265,
          266,
          267,
          268,
          269,
          270,
          271,
          272,
          273,
          274,
          275,
          276,
          277,
          278,
          279,
          280,
          281,
          282,
          283,
          284,
          285,
          286,
          287,
          288,
          289,
          290,
          291,
          292,
          293,
          294,
          295,
          296,
          297,
          298,
          299,
          300,
          301,
          302,
          303,
          304,
          305,
          306,
          307,
          308,
          309,
          310,
          311,
          312,
          313,
          314,
          315,
          316,
          317,
          318,
          319,
          320,
          321,
          322,
          323,
          324,
          325,
          326,
          327,
          328,
          329,
          330,
          331,
          332,
          333,
          334,
          335,
          336,
          337,
          338,
          339,
          340,
          341,
          342,
          343,
          344,
          345,
          346,
          347,
          348,
          349,
          350,
          351,
          352,
          353,
          354,
          355,
          356,
          357,
          358,
          359,
          360,
          361,
          362,
          363,
          364,
          365,
          366,
          367,
          368,
          369,
          370,
          371,
          372,
          373,
          374,
          375,
          376,
          377,
          378,
          379,
          380,
          381,
          382,
          383
         ],
         "y": {
          "bdata": "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",
          "dtype": "f4"
         }
        }
       ],
       "layout": {
        "template": {
         "data": {
          "bar": [
           {
            "error_x": {
             "color": "#2a3f5f"
            },
            "error_y": {
             "color": "#2a3f5f"
            },
            "marker": {
             "line": {
              "color": "#E5ECF6",
              "width": 0.5
             },
             "pattern": {
              "fillmode": "overlay",
              "size": 10,
              "solidity": 0.2
             }
            },
            "type": "bar"
           }
          ],
          "barpolar": [
           {
            "marker": {
             "line": {
              "color": "#E5ECF6",
              "width": 0.5
             },
             "pattern": {
              "fillmode": "overlay",
              "size": 10,
              "solidity": 0.2
             }
            },
            "type": "barpolar"
           }
          ],
          "carpet": [
           {
            "aaxis": {
             "endlinecolor": "#2a3f5f",
             "gridcolor": "white",
             "linecolor": "white",
             "minorgridcolor": "white",
             "startlinecolor": "#2a3f5f"
            },
            "baxis": {
             "endlinecolor": "#2a3f5f",
             "gridcolor": "white",
             "linecolor": "white",
             "minorgridcolor": "white",
             "startlinecolor": "#2a3f5f"
            },
            "type": "carpet"
           }
          ],
          "choropleth": [
           {
            "colorbar": {
             "outlinewidth": 0,
             "ticks": ""
            },
            "type": "choropleth"
           }
          ],
          "contour": [
           {
            "colorbar": {
             "outlinewidth": 0,
             "ticks": ""
            },
            "colorscale": [
             [
              0,
              "#0d0887"
             ],
             [
              0.1111111111111111,
              "#46039f"
             ],
             [
              0.2222222222222222,
              "#7201a8"
             ],
             [
              0.3333333333333333,
              "#9c179e"
             ],
             [
              0.4444444444444444,
              "#bd3786"
             ],
             [
              0.5555555555555556,
              "#d8576b"
             ],
             [
              0.6666666666666666,
              "#ed7953"
             ],
             [
              0.7777777777777778,
              "#fb9f3a"
             ],
             [
              0.8888888888888888,
              "#fdca26"
             ],
             [
              1,
              "#f0f921"
             ]
            ],
            "type": "contour"
           }
          ],
          "contourcarpet": [
           {
            "colorbar": {
             "outlinewidth": 0,
             "ticks": ""
            },
            "type": "contourcarpet"
           }
          ],
          "heatmap": [
           {
            "colorbar": {
             "outlinewidth": 0,
             "ticks": ""
            },
            "colorscale": [
             [
              0,
              "#0d0887"
             ],
             [
              0.1111111111111111,
              "#46039f"
             ],
             [
              0.2222222222222222,
              "#7201a8"
             ],
             [
              0.3333333333333333,
              "#9c179e"
             ],
             [
              0.4444444444444444,
              "#bd3786"
             ],
             [
              0.5555555555555556,
              "#d8576b"
             ],
             [
              0.6666666666666666,
              "#ed7953"
             ],
             [
              0.7777777777777778,
              "#fb9f3a"
             ],
             [
              0.8888888888888888,
              "#fdca26"
             ],
             [
              1,
              "#f0f921"
             ]
            ],
            "type": "heatmap"
           }
          ],
          "histogram": [
           {
            "marker": {
             "pattern": {
              "fillmode": "overlay",
              "size": 10,
              "solidity": 0.2
             }
            },
            "type": "histogram"
           }
          ],
          "histogram2d": [
           {
            "colorbar": {
             "outlinewidth": 0,
             "ticks": ""
            },
            "colorscale": [
             [
              0,
              "#0d0887"
             ],
             [
              0.1111111111111111,
              "#46039f"
             ],
             [
              0.2222222222222222,
              "#7201a8"
             ],
             [
              0.3333333333333333,
              "#9c179e"
             ],
             [
              0.4444444444444444,
              "#bd3786"
             ],
             [
              0.5555555555555556,
              "#d8576b"
             ],
             [
              0.6666666666666666,
              "#ed7953"
             ],
             [
              0.7777777777777778,
              "#fb9f3a"
             ],
             [
              0.8888888888888888,
              "#fdca26"
             ],
             [
              1,
              "#f0f921"
             ]
            ],
            "type": "histogram2d"
           }
          ],
          "histogram2dcontour": [
           {
            "colorbar": {
             "outlinewidth": 0,
             "ticks": ""
            },
            "colorscale": [
             [
              0,
              "#0d0887"
             ],
             [
              0.1111111111111111,
              "#46039f"
             ],
             [
              0.2222222222222222,
              "#7201a8"
             ],
             [
              0.3333333333333333,
              "#9c179e"
             ],
             [
              0.4444444444444444,
              "#bd3786"
             ],
             [
              0.5555555555555556,
              "#d8576b"
             ],
             [
              0.6666666666666666,
              "#ed7953"
             ],
             [
              0.7777777777777778,
              "#fb9f3a"
             ],
             [
              0.8888888888888888,
              "#fdca26"
             ],
             [
              1,
              "#f0f921"
             ]
            ],
            "type": "histogram2dcontour"
           }
          ],
          "mesh3d": [
           {
            "colorbar": {
             "outlinewidth": 0,
             "ticks": ""
            },
            "type": "mesh3d"
           }
          ],
          "parcoords": [
           {
            "line": {
             "colorbar": {
              "outlinewidth": 0,
              "ticks": ""
             }
            },
            "type": "parcoords"
           }
          ],
          "pie": [
           {
            "automargin": true,
            "type": "pie"
           }
          ],
          "scatter": [
           {
            "fillpattern": {
             "fillmode": "overlay",
             "size": 10,
             "solidity": 0.2
            },
            "type": "scatter"
           }
          ],
          "scatter3d": [
           {
            "line": {
             "colorbar": {
              "outlinewidth": 0,
              "ticks": ""
             }
            },
            "marker": {
             "colorbar": {
              "outlinewidth": 0,
              "ticks": ""
             }
            },
            "type": "scatter3d"
           }
          ],
          "scattercarpet": [
           {
            "marker": {
             "colorbar": {
              "outlinewidth": 0,
              "ticks": ""
             }
            },
            "type": "scattercarpet"
           }
          ],
          "scattergeo": [
           {
            "marker": {
             "colorbar": {
              "outlinewidth": 0,
              "ticks": ""
             }
            },
            "type": "scattergeo"
           }
          ],
          "scattergl": [
           {
            "marker": {
             "colorbar": {
              "outlinewidth": 0,
              "ticks": ""
             }
            },
            "type": "scattergl"
           }
          ],
          "scattermap": [
           {
            "marker": {
             "colorbar": {
              "outlinewidth": 0,
              "ticks": ""
             }
            },
            "type": "scattermap"
           }
          ],
          "scattermapbox": [
           {
            "marker": {
             "colorbar": {
              "outlinewidth": 0,
              "ticks": ""
             }
            },
            "type": "scattermapbox"
           }
          ],
          "scatterpolar": [
           {
            "marker": {
             "colorbar": {
              "outlinewidth": 0,
              "ticks": ""
             }
            },
            "type": "scatterpolar"
           }
          ],
          "scatterpolargl": [
           {
            "marker": {
             "colorbar": {
              "outlinewidth": 0,
              "ticks": ""
             }
            },
            "type": "scatterpolargl"
           }
          ],
          "scatterternary": [
           {
            "marker": {
             "colorbar": {
              "outlinewidth": 0,
              "ticks": ""
             }
            },
            "type": "scatterternary"
           }
          ],
          "surface": [
           {
            "colorbar": {
             "outlinewidth": 0,
             "ticks": ""
            },
            "colorscale": [
             [
              0,
              "#0d0887"
             ],
             [
              0.1111111111111111,
              "#46039f"
             ],
             [
              0.2222222222222222,
              "#7201a8"
             ],
             [
              0.3333333333333333,
              "#9c179e"
             ],
             [
              0.4444444444444444,
              "#bd3786"
             ],
             [
              0.5555555555555556,
              "#d8576b"
             ],
             [
              0.6666666666666666,
              "#ed7953"
             ],
             [
              0.7777777777777778,
              "#fb9f3a"
             ],
             [
              0.8888888888888888,
              "#fdca26"
             ],
             [
              1,
              "#f0f921"
             ]
            ],
            "type": "surface"
           }
          ],
          "table": [
           {
            "cells": {
             "fill": {
              "color": "#EBF0F8"
             },
             "line": {
              "color": "white"
             }
            },
            "header": {
             "fill": {
              "color": "#C8D4E3"
             },
             "line": {
              "color": "white"
             }
            },
            "type": "table"
           }
          ]
         },
         "layout": {
          "annotationdefaults": {
           "arrowcolor": "#2a3f5f",
           "arrowhead": 0,
           "arrowwidth": 1
          },
          "autotypenumbers": "strict",
          "coloraxis": {
           "colorbar": {
            "outlinewidth": 0,
            "ticks": ""
           }
          },
          "colorscale": {
           "diverging": [
            [
             0,
             "#8e0152"
            ],
            [
             0.1,
             "#c51b7d"
            ],
            [
             0.2,
             "#de77ae"
            ],
            [
             0.3,
             "#f1b6da"
            ],
            [
             0.4,
             "#fde0ef"
            ],
            [
             0.5,
             "#f7f7f7"
            ],
            [
             0.6,
             "#e6f5d0"
            ],
            [
             0.7,
             "#b8e186"
            ],
            [
             0.8,
             "#7fbc41"
            ],
            [
             0.9,
             "#4d9221"
            ],
            [
             1,
             "#276419"
            ]
           ],
           "sequential": [
            [
             0,
             "#0d0887"
            ],
            [
             0.1111111111111111,
             "#46039f"
            ],
            [
             0.2222222222222222,
             "#7201a8"
            ],
            [
             0.3333333333333333,
             "#9c179e"
            ],
            [
             0.4444444444444444,
             "#bd3786"
            ],
            [
             0.5555555555555556,
             "#d8576b"
            ],
            [
             0.6666666666666666,
             "#ed7953"
            ],
            [
             0.7777777777777778,
             "#fb9f3a"
            ],
            [
             0.8888888888888888,
             "#fdca26"
            ],
            [
             1,
             "#f0f921"
            ]
           ],
           "sequentialminus": [
            [
             0,
             "#0d0887"
            ],
            [
             0.1111111111111111,
             "#46039f"
            ],
            [
             0.2222222222222222,
             "#7201a8"
            ],
            [
             0.3333333333333333,
             "#9c179e"
            ],
            [
             0.4444444444444444,
             "#bd3786"
            ],
            [
             0.5555555555555556,
             "#d8576b"
            ],
            [
             0.6666666666666666,
             "#ed7953"
            ],
            [
             0.7777777777777778,
             "#fb9f3a"
            ],
            [
             0.8888888888888888,
             "#fdca26"
            ],
            [
             1,
             "#f0f921"
            ]
           ]
          },
          "colorway": [
           "#636efa",
           "#EF553B",
           "#00cc96",
           "#ab63fa",
           "#FFA15A",
           "#19d3f3",
           "#FF6692",
           "#B6E880",
           "#FF97FF",
           "#FECB52"
          ],
          "font": {
           "color": "#2a3f5f"
          },
          "geo": {
           "bgcolor": "white",
           "lakecolor": "white",
           "landcolor": "#E5ECF6",
           "showlakes": true,
           "showland": true,
           "subunitcolor": "white"
          },
          "hoverlabel": {
           "align": "left"
          },
          "hovermode": "closest",
          "mapbox": {
           "style": "light"
          },
          "paper_bgcolor": "white",
          "plot_bgcolor": "#E5ECF6",
          "polar": {
           "angularaxis": {
            "gridcolor": "white",
            "linecolor": "white",
            "ticks": ""
           },
           "bgcolor": "#E5ECF6",
           "radialaxis": {
            "gridcolor": "white",
            "linecolor": "white",
            "ticks": ""
           }
          },
          "scene": {
           "xaxis": {
            "backgroundcolor": "#E5ECF6",
            "gridcolor": "white",
            "gridwidth": 2,
            "linecolor": "white",
            "showbackground": true,
            "ticks": "",
            "zerolinecolor": "white"
           },
           "yaxis": {
            "backgroundcolor": "#E5ECF6",
            "gridcolor": "white",
            "gridwidth": 2,
            "linecolor": "white",
            "showbackground": true,
            "ticks": "",
            "zerolinecolor": "white"
           },
           "zaxis": {
            "backgroundcolor": "#E5ECF6",
            "gridcolor": "white",
            "gridwidth": 2,
            "linecolor": "white",
            "showbackground": true,
            "ticks": "",
            "zerolinecolor": "white"
           }
          },
          "shapedefaults": {
           "line": {
            "color": "#2a3f5f"
           }
          },
          "ternary": {
           "aaxis": {
            "gridcolor": "white",
            "linecolor": "white",
            "ticks": ""
           },
           "baxis": {
            "gridcolor": "white",
            "linecolor": "white",
            "ticks": ""
           },
           "bgcolor": "#E5ECF6",
           "caxis": {
            "gridcolor": "white",
            "linecolor": "white",
            "ticks": ""
           }
          },
          "title": {
           "x": 0.05
          },
          "xaxis": {
           "automargin": true,
           "gridcolor": "white",
           "linecolor": "white",
           "ticks": "",
           "title": {
            "standoff": 15
           },
           "zerolinecolor": "white",
           "zerolinewidth": 2
          },
          "yaxis": {
           "automargin": true,
           "gridcolor": "white",
           "linecolor": "white",
           "ticks": "",
           "title": {
            "standoff": 15
           },
           "zerolinecolor": "white",
           "zerolinewidth": 2
          }
         }
        },
        "title": {
         "text": "Category Activations for Action | Count: 16 | Layer: 11 | Steering Coefficient: 10 | Steered layer: 10"
        },
        "xaxis": {
         "title": {
          "text": "Neuron Index"
         }
        },
        "yaxis": {
         "title": {
          "text": "Activation Value"
         }
        }
       }
      }
     },
     "metadata": {},
     "output_type": "display_data"
    }
   ],
   "source": [
    "# Plot the category activations for the steered model output\n",
    "info_string = f'Category Activations for {category} | Count: {len(all_texts_data[all_texts_data[\"genre\"] == category])} | Layer: {layer_to_plot} | Steering Coefficient: {steering_coefficient} | Steered layer: {layer_to_steer}'\n",
    "plot_category_activations(steered_category_activations, category, info_string)"
   ]
  },
  {
   "cell_type": "markdown",
   "id": "8e7b4de3",
   "metadata": {},
   "source": [
    "### <a id=\"find-activation-shift\"></a>Find Activation Shift\n",
    "\n",
    "Now, we will look at how the activations of neurons shift from the original to the steered acitvations using the \"find_activation_shift\" function. The function can also create a heatmap of the top shifted neurons across categories, if the categories parameter is None\n",
    "\n",
    "`find_activation_shift` creates a printed table of the top shifted neurons (i.e. the neurons that changed the most in activatino value between the steered and original activation).\n",
    "- `original_category_activations` are the original activation values for the neurons retrieved from `get_category_activations`\n",
    "- `steered_category_activations` are the steered acitvation values for the neurons retrieved from `get_category_activations`"
   ]
  },
  {
   "cell_type": "code",
   "execution_count": 28,
   "id": "3436d34a",
   "metadata": {},
   "outputs": [
    {
     "name": "stdout",
     "output_type": "stream",
     "text": [
      "\n",
      "Printing top 5 most shifted neurons for category: Action\n",
      "\n",
      "Category: Action\n",
      "Neuron   Original    Steered      Shift\n",
      "----------------------------------------\n",
      "   223    -2.2563    -9.6796    -7.4234\n",
      "   338    -0.5345    -2.9198    -2.3853\n",
      "   157     0.6488     2.4531    +1.8043\n",
      "   363     0.6942     2.4864    +1.7921\n",
      "    99     0.7897     2.4098    +1.6201\n"
     ]
    }
   ],
   "source": [
    "# Example of usage without heatmap for a single category\n",
    "find_activation_shift(original_category_activations, steered_category_activations, category=category, top_n=5);"
   ]
  },
  {
   "cell_type": "markdown",
   "id": "4c38477e",
   "metadata": {},
   "source": [
    "### <a id=\"create-neuron-shift-heatmap\"></a>Create Heatmap\n",
    "\n",
    "`create_neuron_shift_heatmap` will create a heatmap of the neurons that shifted the most across all categories. This helps identify both global and local activations, the heatmap only includes categories with more than 25 titles.\n",
    "- `neuron_shifts` are the shifts calculated from `find_activation_shift`\n",
    "- `all_texts_data` is the dataframe containing all information about the titles, but at least `title`, `genre` and `ovweview`.\n",
    "- `info_string` is what will be displayed in the title of the plot to keep track of the selected parameters for that plot.\n",
    "- `top_n` is how many neurons to have in the heatmap"
   ]
  },
  {
   "cell_type": "code",
   "execution_count": 29,
   "id": "3d8adac6",
   "metadata": {},
   "outputs": [
    {
     "name": "stdout",
     "output_type": "stream",
     "text": [
      "\n",
      "Printing top 5 most shifted neurons for each category:\n",
      "\n",
      "Category: Drama\n",
      "Neuron   Original    Steered      Shift\n",
      "----------------------------------------\n",
      "   223    -2.2547    -9.6780    -7.4234\n",
      "   338    -0.4924    -2.8777    -2.3853\n",
      "   157     0.5638     2.3680    +1.8043\n",
      "   363     0.7041     2.4963    +1.7921\n",
      "    99     0.6360     2.2561    +1.6201\n",
      "\n",
      "Category: Crime\n",
      "Neuron   Original    Steered      Shift\n",
      "----------------------------------------\n",
      "   223    -2.2114    -9.6348    -7.4234\n",
      "   338    -0.5092    -2.8945    -2.3853\n",
      "   157     0.6305     2.4348    +1.8043\n",
      "   363     0.6953     2.4875    +1.7921\n",
      "    99     0.7036     2.3236    +1.6201\n",
      "\n",
      "Category: Adventure\n",
      "Neuron   Original    Steered      Shift\n",
      "----------------------------------------\n",
      "   223    -2.2653    -9.6887    -7.4234\n",
      "   338    -0.4999    -2.8852    -2.3853\n",
      "   157     0.6957     2.5000    +1.8043\n",
      "   363     0.6861     2.4782    +1.7921\n",
      "    99     0.6529     2.2730    +1.6201\n",
      "\n",
      "Category: History\n",
      "Neuron   Original    Steered      Shift\n",
      "----------------------------------------\n",
      "   223    -2.2131    -9.6365    -7.4234\n",
      "   338    -0.3432    -2.7285    -2.3853\n",
      "   157     0.6579     2.4622    +1.8043\n",
      "   363     0.7469     2.5391    +1.7921\n",
      "    99     0.7402     2.3603    +1.6201\n",
      "\n",
      "Category: Sci-Fi\n",
      "Neuron   Original    Steered      Shift\n",
      "----------------------------------------\n",
      "   223    -2.2379    -9.6612    -7.4234\n",
      "   338    -0.5599    -2.9452    -2.3853\n",
      "   157     0.5297     2.3340    +1.8043\n",
      "   363     0.7936     2.5858    +1.7921\n",
      "    99     0.6615     2.2816    +1.6201\n",
      "\n",
      "Category: Romance\n",
      "Neuron   Original    Steered      Shift\n",
      "----------------------------------------\n",
      "   223    -2.2186    -9.6419    -7.4234\n",
      "   338    -0.4712    -2.8565    -2.3853\n",
      "   157     0.5474     2.3517    +1.8043\n",
      "   363     0.7765     2.5687    +1.7921\n",
      "    99     0.6480     2.2681    +1.6201\n",
      "\n",
      "Category: Western\n",
      "Neuron   Original    Steered      Shift\n",
      "----------------------------------------\n",
      "   223    -2.2706    -9.6940    -7.4234\n",
      "   338    -0.5658    -2.9511    -2.3853\n",
      "   157     0.6484     2.4527    +1.8043\n",
      "   363     0.6089     2.4011    +1.7921\n",
      "    99     0.7886     2.4087    +1.6201\n",
      "\n",
      "Category: Biography\n",
      "Neuron   Original    Steered      Shift\n",
      "----------------------------------------\n",
      "   223    -2.1689    -9.5922    -7.4234\n",
      "   338    -0.4149    -2.8003    -2.3853\n",
      "   157     0.6561     2.4604    +1.8043\n",
      "   363     0.7230     2.5151    +1.7921\n",
      "    99     0.8076     2.4277    +1.6201\n",
      "\n",
      "Category: War\n",
      "Neuron   Original    Steered      Shift\n",
      "----------------------------------------\n",
      "   223    -2.1931    -9.6165    -7.4234\n",
      "   338    -0.4292    -2.8145    -2.3853\n",
      "   157     0.6225     2.4268    +1.8043\n",
      "   363     0.7368     2.5289    +1.7921\n",
      "    99     0.7907     2.4108    +1.6201\n",
      "\n",
      "Category: Comedy\n",
      "Neuron   Original    Steered      Shift\n",
      "----------------------------------------\n",
      "   223    -2.2526    -9.6760    -7.4234\n",
      "   338    -0.5335    -2.9188    -2.3853\n",
      "   157     0.5763     2.3806    +1.8043\n",
      "   363     0.6634     2.4556    +1.7921\n",
      "    99     0.7514     2.3715    +1.6201\n",
      "\n",
      "Category: Action\n",
      "Neuron   Original    Steered      Shift\n",
      "----------------------------------------\n",
      "   223    -2.2563    -9.6796    -7.4234\n",
      "   338    -0.5345    -2.9198    -2.3853\n",
      "   157     0.6488     2.4531    +1.8043\n",
      "   363     0.6942     2.4864    +1.7921\n",
      "    99     0.7897     2.4098    +1.6201\n",
      "\n",
      "Category: Mystery\n",
      "Neuron   Original    Steered      Shift\n",
      "----------------------------------------\n",
      "   223    -2.2781    -9.7014    -7.4234\n",
      "   338    -0.5082    -2.8935    -2.3853\n",
      "   157     0.5997     2.4040    +1.8043\n",
      "   363     0.7572     2.5493    +1.7921\n",
      "    99     0.7327     2.3528    +1.6201\n",
      "\n",
      "Category: Fantasy\n",
      "Neuron   Original    Steered      Shift\n",
      "----------------------------------------\n",
      "   223    -2.3996    -9.8230    -7.4234\n",
      "   338    -0.5482    -2.9335    -2.3853\n",
      "   157     0.6669     2.4711    +1.8043\n",
      "   363     0.6543     2.4464    +1.7921\n",
      "    99     0.7429     2.3629    +1.6201\n",
      "\n",
      "Category: Music\n",
      "Neuron   Original    Steered      Shift\n",
      "----------------------------------------\n",
      "   223    -2.2839    -9.7073    -7.4234\n",
      "   338    -0.5620    -2.9474    -2.3853\n",
      "   157     0.4925     2.2968    +1.8043\n",
      "   363     0.7248     2.5170    +1.7921\n",
      "    99     0.7767     2.3968    +1.6201\n",
      "\n",
      "Category: Thriller\n",
      "Neuron   Original    Steered      Shift\n",
      "----------------------------------------\n",
      "   223    -2.2587    -9.6821    -7.4234\n",
      "   338    -0.4853    -2.8706    -2.3853\n",
      "   157     0.5972     2.4015    +1.8043\n",
      "   363     0.6787     2.4708    +1.7921\n",
      "    99     0.6536     2.2737    +1.6201\n",
      "\n",
      "Category: Family\n",
      "Neuron   Original    Steered      Shift\n",
      "----------------------------------------\n",
      "   223    -2.2844    -9.7078    -7.4234\n",
      "   338    -0.5353    -2.9206    -2.3853\n",
      "   157     0.6272     2.4315    +1.8043\n",
      "   363     0.6699     2.4620    +1.7921\n",
      "    99     0.6883     2.3084    +1.6201\n",
      "\n",
      "Category: Horror\n",
      "Neuron   Original    Steered      Shift\n",
      "----------------------------------------\n",
      "   223    -2.2457    -9.6691    -7.4234\n",
      "   338    -0.5876    -2.9730    -2.3853\n",
      "   157     0.6031     2.4074    +1.8043\n",
      "   363     0.6143     2.4064    +1.7921\n",
      "    99     0.5992     2.2193    +1.6201\n",
      "\n",
      "Category: Film-Noir\n",
      "Neuron   Original    Steered      Shift\n",
      "----------------------------------------\n",
      "   223    -2.2381    -9.6615    -7.4234\n",
      "   338    -0.5452    -2.9306    -2.3853\n",
      "   157     0.5786     2.3828    +1.8043\n",
      "   363     0.7405     2.5327    +1.7921\n",
      "    99     0.8825     2.5026    +1.6201\n",
      "\n",
      "Category: Animation\n",
      "Neuron   Original    Steered      Shift\n",
      "----------------------------------------\n",
      "   223    -2.0974    -9.5208    -7.4234\n",
      "   338    -0.4032    -2.7886    -2.3853\n",
      "   157     0.5942     2.3985    +1.8043\n",
      "   363     0.7276     2.5197    +1.7921\n",
      "    99     0.7940     2.4141    +1.6201\n",
      "\n",
      "Category: Musical\n",
      "Neuron   Original    Steered      Shift\n",
      "----------------------------------------\n",
      "   223    -2.2530    -9.6764    -7.4234\n",
      "   338    -0.5250    -2.9103    -2.3853\n",
      "   157     0.6409     2.4452    +1.8043\n",
      "   363     0.7048     2.4970    +1.7921\n",
      "    99     0.8300     2.4501    +1.6201\n",
      "\n",
      "Category: Sport\n",
      "Neuron   Original    Steered      Shift\n",
      "----------------------------------------\n",
      "   223    -2.1482    -9.5716    -7.4234\n",
      "   338    -0.5323    -2.9176    -2.3853\n",
      "   157     0.4693     2.2736    +1.8043\n",
      "   363     0.6228     2.4149    +1.7921\n",
      "    99     0.6893     2.3094    +1.6201\n",
      "Skipping 'History' (only 22 movies, need 25+)\n",
      "Skipping 'Western' (only 15 movies, need 25+)\n",
      "Skipping 'Action' (only 16 movies, need 25+)\n",
      "Skipping 'Fantasy' (only 18 movies, need 25+)\n",
      "Skipping 'Music' (only 18 movies, need 25+)\n",
      "Skipping 'Family' (only 15 movies, need 25+)\n",
      "Skipping 'Horror' (only 12 movies, need 25+)\n",
      "Skipping 'Film-Noir' (only 6 movies, need 25+)\n",
      "Skipping 'Animation' (only 8 movies, need 25+)\n",
      "Skipping 'Musical' (only 9 movies, need 25+)\n",
      "Skipping 'Sport' (only 8 movies, need 25+)\n"
     ]
    },
    {
     "data": {
      "image/png": "[encoded data removed]",
      "text/plain": [
       "<Figure size 1200x1000 with 2 Axes>"
      ]
     },
     "metadata": {},
     "output_type": "display_data"
    }
   ],
   "source": [
    "# Example of usage with heatmap for all categories\n",
    "# Get the neuron_shifts for all categories\n",
    "neuron_shifts = find_activation_shift(original_category_activations, steered_category_activations, top_n=5)\n",
    "# Create a heatmap of the top shifted neurons across categories\n",
    "info_string = f\"Neuron Shift Values Across Genres (25+ Movies) | Layer: {layer_to_plot} | Coefficient: {steering_coefficient} | Steered Layer: {layer_to_steer} | Feature: {feature}\"\n",
    "create_neuron_shift_heatmap(neuron_shifts, all_texts_data, info_string=info_string, top_n=20)"
   ]
  },
  {
   "cell_type": "code",
   "execution_count": 30,
   "id": "b585d373",
   "metadata": {},
   "outputs": [
    {
     "name": "stdout",
     "output_type": "stream",
     "text": [
      "============================================================\n",
      "📋 NEURON ACTIVATION CHECKPOINT\n",
      "============================================================\n",
      "✅ Feature used: War\n",
      "✅ Category analyzed: Action\n",
      "✅ Layer to steer: 10\n",
      "✅ Layer to plot: 11\n",
      "✅ Steering coefficient: 10\n",
      "✅ Original category activations available\n",
      "✅ Steered category activations available\n",
      "✅ Neuron shifts analyzed for 21 categories\n",
      "✅ Total shifts detected: 8064\n",
      "============================================================\n",
      "🎯 CHECKPOINT PASSED - Neuron activation analysis complete!\n",
      "🔬 Next: Text-level activation analysis\n",
      "============================================================\n"
     ]
    }
   ],
   "source": [
    "# 🎯 CHECKPOINT: Neuron Activation Analysis\n",
    "print(\"=\"*60)\n",
    "print(\"📋 NEURON ACTIVATION CHECKPOINT\")\n",
    "print(\"=\"*60)\n",
    "\n",
    "try:\n",
    "    # Verify activation parameters\n",
    "    print(f\"✅ Feature used: {feature}\")\n",
    "    print(f\"✅ Category analyzed: {category}\")\n",
    "    print(f\"✅ Layer to steer: {layer_to_steer}\")\n",
    "    print(f\"✅ Layer to plot: {layer_to_plot}\")\n",
    "    print(f\"✅ Steering coefficient: {steering_coefficient}\")\n",
    "    \n",
    "    # Verify activation data\n",
    "    if 'original_category_activations' in locals() and original_category_activations is not None:\n",
    "        print(f\"✅ Original category activations available\")\n",
    "    if 'steered_category_activations' in locals() and steered_category_activations is not None:\n",
    "        print(f\"✅ Steered category activations available\")\n",
    "    \n",
    "    # Verify neuron shifts\n",
    "    if 'neuron_shifts' in locals() and neuron_shifts is not None:\n",
    "        num_categories = len(neuron_shifts)\n",
    "        total_shifts = sum(len(shifts) for shifts in neuron_shifts.values())\n",
    "        print(f\"✅ Neuron shifts analyzed for {num_categories} categories\")\n",
    "        print(f\"✅ Total shifts detected: {total_shifts}\")\n",
    "    \n",
    "    print(\"=\"*60)\n",
    "    print(\"🎯 CHECKPOINT PASSED - Neuron activation analysis complete!\")\n",
    "    print(\"🔬 Next: Text-level activation analysis\")\n",
    "    print(\"=\"*60)\n",
    "\n",
    "except Exception as e:\n",
    "    print(\"❌ CHECKPOINT FAILED\")\n",
    "    print(f\"💥 Error: {str(e)}\")\n",
    "    print(\"🔧 Please check previous cells and ensure activation analysis was run\")\n",
    "    print(\"💡 Tip: Make sure get_category_activations was called and returned results\")"
   ]
  },
  {
   "cell_type": "markdown",
   "id": "246ca92d",
   "metadata": {},
   "source": [
    "### <a id=\"plot-change-in-top-shifted-neurons\"></a>Plot Change in Top Shifted Neurons\n",
    "\n",
    "The following function allows us to plot the change in activation for the neurons that were most activated to begin with, as well as those that had the highest shift after the steering was completed.\n",
    "\n",
    "`plot_change_in_top_shifted_neurons` plots the activation for the neurons that were the most activated to begin with, as well as those that had the highest shift after the steering was completed (steering_coefficient, activation_value)\n",
    "- `all_texts_data` is the dataframe containing all information about the titles, but at least `title`, `genre` and `ovweview`.\n",
    "- `layer_to_plot` is a layer that comes after the layer that was steered. This is because you will not see the effect on the activations of the neurons in the same layer that you apply the steering.\n",
    "- `layer_to_steer` is what layer to perform steering on\n",
    "- `category` is what category to analyze activations for\n",
    "- `steering_coefficient_start` is the first steering coefficient (i.e. the beginning of the x-axis)\n",
    "- `steering_coefficient_end` is the last steering coefficient (i.e. the end of the x-axis)\n",
    "- `info_string` is what will be displayed in the title of the plot to keep track of the selected parameters for that plot.\n",
    "- `number_of_steps` are the number of points for which to do the analysis (i.e. the number of steering coefficients to analyze from start to end)\n",
    "- `number_of_neurons` is the maximum amount of neurons to analyze (if there is an overlap between most shifted and most activated there will be fewer neurons)"
   ]
  },
  {
   "cell_type": "code",
   "execution_count": 31,
   "id": "b1d9fbde",
   "metadata": {},
   "outputs": [
    {
     "name": "stdout",
     "output_type": "stream",
     "text": [
      "Analyzing category: Action\n",
      "Identifying neurons to track...\n",
      "Created steered model output with shape: torch.Size([1000, 66, 384])\n",
      "Reference coefficient for shift calculation: 6.000\n",
      "Most activated neurons identified from original (unsteered) activations\n",
      "\n",
      "Tracking 6 neurons in category 'Action':\n",
      "1. Most Shifted: Neuron 223 (Shift: 4.4540, Original: -2.2563)\n",
      "2. Most Shifted: Neuron 338 (Shift: 1.4312, Original: -0.5345)\n",
      "3. Most Shifted: Neuron 157 (Shift: 1.0826, Original: 0.6488)\n",
      "4. Most Shifted: Neuron 363 (Shift: 1.0753, Original: 0.6942)\n",
      "5. Most Shifted: Neuron 99 (Shift: 0.9720, Original: 0.7897)\n",
      "6. Most Activated: Neuron 249 (Shift: 0.9392, Original: 0.6164)\n",
      "\n",
      "Analyzing trajectories across 10 steering coefficients from 0.0 to 6\n",
      "Processing steering coefficient 1/10: 0.000\n",
      "Created steered model output with shape: torch.Size([1000, 66, 384])\n",
      "Processing steering coefficient 2/10: 0.667\n",
      "Created steered model output with shape: torch.Size([1000, 66, 384])\n",
      "Processing steering coefficient 3/10: 1.333\n",
      "Created steered model output with shape: torch.Size([1000, 66, 384])\n",
      "Processing steering coefficient 4/10: 2.000\n",
      "Created steered model output with shape: torch.Size([1000, 66, 384])\n",
      "Processing steering coefficient 5/10: 2.667\n",
      "Created steered model output with shape: torch.Size([1000, 66, 384])\n",
      "Processing steering coefficient 6/10: 3.333\n",
      "Created steered model output with shape: torch.Size([1000, 66, 384])\n",
      "Processing steering coefficient 7/10: 4.000\n",
      "Created steered model output with shape: torch.Size([1000, 66, 384])\n",
      "Processing steering coefficient 8/10: 4.667\n",
      "Created steered model output with shape: torch.Size([1000, 66, 384])\n",
      "Processing steering coefficient 9/10: 5.333\n",
      "Created steered model output with shape: torch.Size([1000, 66, 384])\n",
      "Processing steering coefficient 10/10: 6.000\n",
      "Created steered model output with shape: torch.Size([1000, 66, 384])\n"
     ]
    },
    {
     "data": {
      "application/vnd.plotly.v1+json": {
       "config": {
        "plotlyServerURL": "https://plot.ly"
       },
       "data": [
        {
         "line": {
          "color": "red",
          "dash": "solid",
          "width": 2
         },
         "marker": {
          "size": 6
         },
         "mode": "lines+markers",
         "name": "N363 (Top Shifted)",
         "type": "scatter",
         "x": {
          "bdata": "AAAAAKuqKj+rqqo/AAAAQKuqKkBVVVVAAACAQFVVlUCrqqpAAADAQA==",
          "dtype": "f4"
         },
         "y": [
          0.6942194104194641,
          0.813696026802063,
          0.9331725835800171,
          1.0526490211486816,
          1.1721255779266357,
          1.2916020154953003,
          1.4110783338546753,
          1.5305548906326294,
          1.6500316858291626,
          1.7695083618164062
         ]
        },
        {
         "line": {
          "color": "red",
          "dash": "solid",
          "width": 2
         },
         "marker": {
          "size": 6
         },
         "mode": "lines+markers",
         "name": "N99 (Top Shifted)",
         "type": "scatter",
         "x": {
          "bdata": "AAAAAKuqKj+rqqo/AAAAQKuqKkBVVVVAAACAQFVVlUCrqqpAAADAQA==",
          "dtype": "f4"
         },
         "y": [
          0.7896742820739746,
          0.8976798057556152,
          1.0056854486465454,
          1.1136908531188965,
          1.2216964960098267,
          1.3297017812728882,
          1.4377073049545288,
          1.5457128286361694,
          1.65371835231781,
          1.7617238759994507
         ]
        },
        {
         "line": {
          "color": "red",
          "dash": "solid",
          "width": 2
         },
         "marker": {
          "size": 6
         },
         "mode": "lines+markers",
         "name": "N157 (Top Shifted)",
         "type": "scatter",
         "x": {
          "bdata": "AAAAAKuqKj+rqqo/AAAAQKuqKkBVVVVAAACAQFVVlUCrqqpAAADAQA==",
          "dtype": "f4"
         },
         "y": [
          0.6487653255462646,
          0.7690517902374268,
          0.8893381357192993,
          1.0096246004104614,
          1.129910945892334,
          1.2501975297927856,
          1.3704838752746582,
          1.4907702207565308,
          1.6110566854476929,
          1.7313432693481445
         ]
        },
        {
         "line": {
          "color": "blue",
          "dash": "solid",
          "width": 2
         },
         "marker": {
          "size": 6
         },
         "mode": "lines+markers",
         "name": "N249 (Top Activated)",
         "type": "scatter",
         "x": {
          "bdata": "AAAAAKuqKj+rqqo/AAAAQKuqKkBVVVVAAACAQFVVlUCrqqpAAADAQA==",
          "dtype": "f4"
         },
         "y": [
          0.6163669228553772,
          0.7207235097885132,
          0.8250802159309387,
          0.9294367432594299,
          1.033793330192566,
          1.1381498575210571,
          1.242506504058838,
          1.3468629121780396,
          1.4512196779251099,
          1.5555763244628906
         ]
        },
        {
         "line": {
          "color": "red",
          "dash": "solid",
          "width": 2
         },
         "marker": {
          "size": 6
         },
         "mode": "lines+markers",
         "name": "N338 (Top Shifted)",
         "type": "scatter",
         "x": {
          "bdata": "AAAAAKuqKj+rqqo/AAAAQKuqKkBVVVVAAACAQFVVlUCrqqpAAADAQA==",
          "dtype": "f4"
         },
         "y": [
          -0.5344710946083069,
          -0.6934925317764282,
          -0.8525140285491943,
          -1.011535406112671,
          -1.1705567836761475,
          -1.3295782804489136,
          -1.4885998964309692,
          -1.6476212739944458,
          -1.8066428899765015,
          -1.9656641483306885
         ]
        },
        {
         "line": {
          "color": "red",
          "dash": "solid",
          "width": 2
         },
         "marker": {
          "size": 6
         },
         "mode": "lines+markers",
         "name": "N223 (Top Shifted)",
         "type": "scatter",
         "x": {
          "bdata": "AAAAAKuqKj+rqqo/AAAAQKuqKkBVVVVAAACAQFVVlUCrqqpAAADAQA==",
          "dtype": "f4"
         },
         "y": [
          -2.256260633468628,
          -2.7511520385742188,
          -3.2460436820983887,
          -3.7409353256225586,
          -4.235827445983887,
          -4.730719566345215,
          -5.22560977935791,
          -5.720502853393555,
          -6.215393543243408,
          -6.710285186767578
         ]
        }
       ],
       "layout": {
        "height": 600,
        "showlegend": true,
        "template": {
         "data": {
          "bar": [
           {
            "error_x": {
             "color": "#2a3f5f"
            },
            "error_y": {
             "color": "#2a3f5f"
            },
            "marker": {
             "line": {
              "color": "#E5ECF6",
              "width": 0.5
             },
             "pattern": {
              "fillmode": "overlay",
              "size": 10,
              "solidity": 0.2
             }
            },
            "type": "bar"
           }
          ],
          "barpolar": [
           {
            "marker": {
             "line": {
              "color": "#E5ECF6",
              "width": 0.5
             },
             "pattern": {
              "fillmode": "overlay",
              "size": 10,
              "solidity": 0.2
             }
            },
            "type": "barpolar"
           }
          ],
          "carpet": [
           {
            "aaxis": {
             "endlinecolor": "#2a3f5f",
             "gridcolor": "white",
             "linecolor": "white",
             "minorgridcolor": "white",
             "startlinecolor": "#2a3f5f"
            },
            "baxis": {
             "endlinecolor": "#2a3f5f",
             "gridcolor": "white",
             "linecolor": "white",
             "minorgridcolor": "white",
             "startlinecolor": "#2a3f5f"
            },
            "type": "carpet"
           }
          ],
          "choropleth": [
           {
            "colorbar": {
             "outlinewidth": 0,
             "ticks": ""
            },
            "type": "choropleth"
           }
          ],
          "contour": [
           {
            "colorbar": {
             "outlinewidth": 0,
             "ticks": ""
            },
            "colorscale": [
             [
              0,
              "#0d0887"
             ],
             [
              0.1111111111111111,
              "#46039f"
             ],
             [
              0.2222222222222222,
              "#7201a8"
             ],
             [
              0.3333333333333333,
              "#9c179e"
             ],
             [
              0.4444444444444444,
              "#bd3786"
             ],
             [
              0.5555555555555556,
              "#d8576b"
             ],
             [
              0.6666666666666666,
              "#ed7953"
             ],
             [
              0.7777777777777778,
              "#fb9f3a"
             ],
             [
              0.8888888888888888,
              "#fdca26"
             ],
             [
              1,
              "#f0f921"
             ]
            ],
            "type": "contour"
           }
          ],
          "contourcarpet": [
           {
            "colorbar": {
             "outlinewidth": 0,
             "ticks": ""
            },
            "type": "contourcarpet"
           }
          ],
          "heatmap": [
           {
            "colorbar": {
             "outlinewidth": 0,
             "ticks": ""
            },
            "colorscale": [
             [
              0,
              "#0d0887"
             ],
             [
              0.1111111111111111,
              "#46039f"
             ],
             [
              0.2222222222222222,
              "#7201a8"
             ],
             [
              0.3333333333333333,
              "#9c179e"
             ],
             [
              0.4444444444444444,
              "#bd3786"
             ],
             [
              0.5555555555555556,
              "#d8576b"
             ],
             [
              0.6666666666666666,
              "#ed7953"
             ],
             [
              0.7777777777777778,
              "#fb9f3a"
             ],
             [
              0.8888888888888888,
              "#fdca26"
             ],
             [
              1,
              "#f0f921"
             ]
            ],
            "type": "heatmap"
           }
          ],
          "histogram": [
           {
            "marker": {
             "pattern": {
              "fillmode": "overlay",
              "size": 10,
              "solidity": 0.2
             }
            },
            "type": "histogram"
           }
          ],
          "histogram2d": [
           {
            "colorbar": {
             "outlinewidth": 0,
             "ticks": ""
            },
            "colorscale": [
             [
              0,
              "#0d0887"
             ],
             [
              0.1111111111111111,
              "#46039f"
             ],
             [
              0.2222222222222222,
              "#7201a8"
             ],
             [
              0.3333333333333333,
              "#9c179e"
             ],
             [
              0.4444444444444444,
              "#bd3786"
             ],
             [
              0.5555555555555556,
              "#d8576b"
             ],
             [
              0.6666666666666666,
              "#ed7953"
             ],
             [
              0.7777777777777778,
              "#fb9f3a"
             ],
             [
              0.8888888888888888,
              "#fdca26"
             ],
             [
              1,
              "#f0f921"
             ]
            ],
            "type": "histogram2d"
           }
          ],
          "histogram2dcontour": [
           {
            "colorbar": {
             "outlinewidth": 0,
             "ticks": ""
            },
            "colorscale": [
             [
              0,
              "#0d0887"
             ],
             [
              0.1111111111111111,
              "#46039f"
             ],
             [
              0.2222222222222222,
              "#7201a8"
             ],
             [
              0.3333333333333333,
              "#9c179e"
             ],
             [
              0.4444444444444444,
              "#bd3786"
             ],
             [
              0.5555555555555556,
              "#d8576b"
             ],
             [
              0.6666666666666666,
              "#ed7953"
             ],
             [
              0.7777777777777778,
              "#fb9f3a"
             ],
             [
              0.8888888888888888,
              "#fdca26"
             ],
             [
              1,
              "#f0f921"
             ]
            ],
            "type": "histogram2dcontour"
           }
          ],
          "mesh3d": [
           {
            "colorbar": {
             "outlinewidth": 0,
             "ticks": ""
            },
            "type": "mesh3d"
           }
          ],
          "parcoords": [
           {
            "line": {
             "colorbar": {
              "outlinewidth": 0,
              "ticks": ""
             }
            },
            "type": "parcoords"
           }
          ],
          "pie": [
           {
            "automargin": true,
            "type": "pie"
           }
          ],
          "scatter": [
           {
            "fillpattern": {
             "fillmode": "overlay",
             "size": 10,
             "solidity": 0.2
            },
            "type": "scatter"
           }
          ],
          "scatter3d": [
           {
            "line": {
             "colorbar": {
              "outlinewidth": 0,
              "ticks": ""
             }
            },
            "marker": {
             "colorbar": {
              "outlinewidth": 0,
              "ticks": ""
             }
            },
            "type": "scatter3d"
           }
          ],
          "scattercarpet": [
           {
            "marker": {
             "colorbar": {
              "outlinewidth": 0,
              "ticks": ""
             }
            },
            "type": "scattercarpet"
           }
          ],
          "scattergeo": [
           {
            "marker": {
             "colorbar": {
              "outlinewidth": 0,
              "ticks": ""
             }
            },
            "type": "scattergeo"
           }
          ],
          "scattergl": [
           {
            "marker": {
             "colorbar": {
              "outlinewidth": 0,
              "ticks": ""
             }
            },
            "type": "scattergl"
           }
          ],
          "scattermap": [
           {
            "marker": {
             "colorbar": {
              "outlinewidth": 0,
              "ticks": ""
             }
            },
            "type": "scattermap"
           }
          ],
          "scattermapbox": [
           {
            "marker": {
             "colorbar": {
              "outlinewidth": 0,
              "ticks": ""
             }
            },
            "type": "scattermapbox"
           }
          ],
          "scatterpolar": [
           {
            "marker": {
             "colorbar": {
              "outlinewidth": 0,
              "ticks": ""
             }
            },
            "type": "scatterpolar"
           }
          ],
          "scatterpolargl": [
           {
            "marker": {
             "colorbar": {
              "outlinewidth": 0,
              "ticks": ""
             }
            },
            "type": "scatterpolargl"
           }
          ],
          "scatterternary": [
           {
            "marker": {
             "colorbar": {
              "outlinewidth": 0,
              "ticks": ""
             }
            },
            "type": "scatterternary"
           }
          ],
          "surface": [
           {
            "colorbar": {
             "outlinewidth": 0,
             "ticks": ""
            },
            "colorscale": [
             [
              0,
              "#0d0887"
             ],
             [
              0.1111111111111111,
              "#46039f"
             ],
             [
              0.2222222222222222,
              "#7201a8"
             ],
             [
              0.3333333333333333,
              "#9c179e"
             ],
             [
              0.4444444444444444,
              "#bd3786"
             ],
             [
              0.5555555555555556,
              "#d8576b"
             ],
             [
              0.6666666666666666,
              "#ed7953"
             ],
             [
              0.7777777777777778,
              "#fb9f3a"
             ],
             [
              0.8888888888888888,
              "#fdca26"
             ],
             [
              1,
              "#f0f921"
             ]
            ],
            "type": "surface"
           }
          ],
          "table": [
           {
            "cells": {
             "fill": {
              "color": "#EBF0F8"
             },
             "line": {
              "color": "white"
             }
            },
            "header": {
             "fill": {
              "color": "#C8D4E3"
             },
             "line": {
              "color": "white"
             }
            },
            "type": "table"
           }
          ]
         },
         "layout": {
          "annotationdefaults": {
           "arrowcolor": "#2a3f5f",
           "arrowhead": 0,
           "arrowwidth": 1
          },
          "autotypenumbers": "strict",
          "coloraxis": {
           "colorbar": {
            "outlinewidth": 0,
            "ticks": ""
           }
          },
          "colorscale": {
           "diverging": [
            [
             0,
             "#8e0152"
            ],
            [
             0.1,
             "#c51b7d"
            ],
            [
             0.2,
             "#de77ae"
            ],
            [
             0.3,
             "#f1b6da"
            ],
            [
             0.4,
             "#fde0ef"
            ],
            [
             0.5,
             "#f7f7f7"
            ],
            [
             0.6,
             "#e6f5d0"
            ],
            [
             0.7,
             "#b8e186"
            ],
            [
             0.8,
             "#7fbc41"
            ],
            [
             0.9,
             "#4d9221"
            ],
            [
             1,
             "#276419"
            ]
           ],
           "sequential": [
            [
             0,
             "#0d0887"
            ],
            [
             0.1111111111111111,
             "#46039f"
            ],
            [
             0.2222222222222222,
             "#7201a8"
            ],
            [
             0.3333333333333333,
             "#9c179e"
            ],
            [
             0.4444444444444444,
             "#bd3786"
            ],
            [
             0.5555555555555556,
             "#d8576b"
            ],
            [
             0.6666666666666666,
             "#ed7953"
            ],
            [
             0.7777777777777778,
             "#fb9f3a"
            ],
            [
             0.8888888888888888,
             "#fdca26"
            ],
            [
             1,
             "#f0f921"
            ]
           ],
           "sequentialminus": [
            [
             0,
             "#0d0887"
            ],
            [
             0.1111111111111111,
             "#46039f"
            ],
            [
             0.2222222222222222,
             "#7201a8"
            ],
            [
             0.3333333333333333,
             "#9c179e"
            ],
            [
             0.4444444444444444,
             "#bd3786"
            ],
            [
             0.5555555555555556,
             "#d8576b"
            ],
            [
             0.6666666666666666,
             "#ed7953"
            ],
            [
             0.7777777777777778,
             "#fb9f3a"
            ],
            [
             0.8888888888888888,
             "#fdca26"
            ],
            [
             1,
             "#f0f921"
            ]
           ]
          },
          "colorway": [
           "#636efa",
           "#EF553B",
           "#00cc96",
           "#ab63fa",
           "#FFA15A",
           "#19d3f3",
           "#FF6692",
           "#B6E880",
           "#FF97FF",
           "#FECB52"
          ],
          "font": {
           "color": "#2a3f5f"
          },
          "geo": {
           "bgcolor": "white",
           "lakecolor": "white",
           "landcolor": "#E5ECF6",
           "showlakes": true,
           "showland": true,
           "subunitcolor": "white"
          },
          "hoverlabel": {
           "align": "left"
          },
          "hovermode": "closest",
          "mapbox": {
           "style": "light"
          },
          "paper_bgcolor": "white",
          "plot_bgcolor": "#E5ECF6",
          "polar": {
           "angularaxis": {
            "gridcolor": "white",
            "linecolor": "white",
            "ticks": ""
           },
           "bgcolor": "#E5ECF6",
           "radialaxis": {
            "gridcolor": "white",
            "linecolor": "white",
            "ticks": ""
           }
          },
          "scene": {
           "xaxis": {
            "backgroundcolor": "#E5ECF6",
            "gridcolor": "white",
            "gridwidth": 2,
            "linecolor": "white",
            "showbackground": true,
            "ticks": "",
            "zerolinecolor": "white"
           },
           "yaxis": {
            "backgroundcolor": "#E5ECF6",
            "gridcolor": "white",
            "gridwidth": 2,
            "linecolor": "white",
            "showbackground": true,
            "ticks": "",
            "zerolinecolor": "white"
           },
           "zaxis": {
            "backgroundcolor": "#E5ECF6",
            "gridcolor": "white",
            "gridwidth": 2,
            "linecolor": "white",
            "showbackground": true,
            "ticks": "",
            "zerolinecolor": "white"
           }
          },
          "shapedefaults": {
           "line": {
            "color": "#2a3f5f"
           }
          },
          "ternary": {
           "aaxis": {
            "gridcolor": "white",
            "linecolor": "white",
            "ticks": ""
           },
           "baxis": {
            "gridcolor": "white",
            "linecolor": "white",
            "ticks": ""
           },
           "bgcolor": "#E5ECF6",
           "caxis": {
            "gridcolor": "white",
            "linecolor": "white",
            "ticks": ""
           }
          },
          "title": {
           "x": 0.05
          },
          "xaxis": {
           "automargin": true,
           "gridcolor": "white",
           "linecolor": "white",
           "ticks": "",
           "title": {
            "standoff": 15
           },
           "zerolinecolor": "white",
           "zerolinewidth": 2
          },
          "yaxis": {
           "automargin": true,
           "gridcolor": "white",
           "linecolor": "white",
           "ticks": "",
           "title": {
            "standoff": 15
           },
           "zerolinecolor": "white",
           "zerolinewidth": 2
          }
         }
        },
        "title": {
         "text": "Individual Neuron Trajectories | Action | Displayed Layer: 11 | Feature: War | Steered Layer: 10"
        },
        "width": 900,
        "xaxis": {
         "title": {
          "text": "Steering Coefficient"
         }
        },
        "yaxis": {
         "title": {
          "text": "Neuron Activation Value"
         }
        }
       }
      }
     },
     "metadata": {},
     "output_type": "display_data"
    }
   ],
   "source": [
    "info_string = f'Individual Neuron Trajectories | {category} | Displayed Layer: {layer_to_plot} | Feature: {feature} | Steered Layer: {layer_to_steer}'\n",
    "plot_change_in_top_shifted_neurons(\n",
    "    model,\n",
    "    model_output,\n",
    "    encoded_input, \n",
    "    all_texts_data,\n",
    "    layer_to_plot,\n",
    "    layer_to_steer, \n",
    "    category, \n",
    "    steering_coefficient_start=0.0, \n",
    "    steering_coefficient_end=6,\n",
    "    steering_vector=steering_vector,\n",
    "    info_string=info_string,\n",
    "    number_of_steps=10, \n",
    "    number_of_neurons=10);\n"
   ]
  },
  {
   "cell_type": "markdown",
   "id": "a0e6abd6",
   "metadata": {},
   "source": [
    "***\n",
    "\n",
    "# Neuron Activations for Tokens and Texts\n",
    "\n",
    "The following functions are imported from the file `\"Activations_tokens_and_texts.py\"`. They are necessary to analyze how individual neurons are activated in the model when performing steering using a steering vector for individual tokens and texts."
   ]
  },
  {
   "cell_type": "code",
   "execution_count": 32,
   "id": "b1299601",
   "metadata": {},
   "outputs": [],
   "source": [
    "#from Activations_tokens_and_texts import get_text_activations_per_layer, plot_text_activations_per_layer, compare_text_activations, find_extreme_nodes_for_all_texts, plot_extreme_nodes_for_all_texts"
   ]
  },
  {
   "cell_type": "markdown",
   "id": "cc7ff351",
   "metadata": {},
   "source": [
    "## Setup\n",
    "\n",
    "Before we start analyzing we must prepare everything we need"
   ]
  },
  {
   "cell_type": "code",
   "execution_count": 33,
   "id": "c159c2f7",
   "metadata": {},
   "outputs": [
    {
     "name": "stdout",
     "output_type": "stream",
     "text": [
      "Importing 1.36 GB data from file Test_export_embeddings.pkl...\n",
      "Data imported from Test_export_embeddings.pkl\n",
      "Model loaded successfully.\n",
      "Tokenizer loaded successfully.\n",
      "Encoded input loaded successfully.\n",
      "Hidden states loaded successfully.\n",
      "All texts data loaded successfully.\n",
      "Steering vectors imported from steering_vector.pkl\n",
      "Available steering vectors: 'War' (layers: [10, 11]), 'Norway' (layers: [11]), 'Love' (layers: [11])\n",
      "Returning steering vector for 'War' layer 10\n"
     ]
    }
   ],
   "source": [
    "# Import data from pkl file\n",
    "data = import_embedding_data_from_pkl(\n",
    "    \"Test_export_embeddings.pkl\",\n",
    "    model=True, \n",
    "    tokenizer=True, \n",
    "    encoded_input=True, \n",
    "    hidden_states=True, \n",
    "    all_texts_data=True)\n",
    "\n",
    "model, tokenizer, encoded_input, hidden_states, all_texts_data = data  # Unpack in the order they were requested\n",
    "texts = all_texts_data['overview'].tolist()[:100]  # Use the overview column for text data and choose how many texts to analyze\n",
    "\n",
    "feature = \"War\"\n",
    "layer_to_steer = 10 # Can not be last layer, should be next to last layer\n",
    "steering_coefficient = 10\n",
    "steering_vector = import_steering_vector_from_pkl('steering_vector.pkl', feature, layer_to_steer=layer_to_steer)\n",
    "\n",
    "steered_model_output = create_steered_model_output(model, encoded_input, layer_to_steer, steering_coefficient, steering_vector, verbose=False)\n",
    "steered_hidden_states = steered_model_output.hidden_states"
   ]
  },
  {
   "cell_type": "markdown",
   "id": "3a01b7a8",
   "metadata": {},
   "source": [
    "After the Setup we have:\n",
    "- tokenizer, encoded_input, hidden_states, all_texts_data\n",
    "- texst\n",
    "- feature\n",
    "- layer_to_steer\n",
    "- steering_coefficient\n",
    "- steering_vector\n",
    "- steered_model_output\n",
    "- steered_hidden_states"
   ]
  },
  {
   "cell_type": "markdown",
   "id": "89e158a2",
   "metadata": {},
   "source": [
    "### Get Text Activations\n",
    "\n",
    "`get_text_activations_per_layer` retrives the neuron activations for all texts for all layers and returns them as a list"
   ]
  },
  {
   "cell_type": "code",
   "execution_count": 34,
   "id": "02fc2be2",
   "metadata": {},
   "outputs": [],
   "source": [
    "text_activations = get_text_activations_per_layer(hidden_states, encoded_input['attention_mask'])\n",
    "\n",
    "# Also create steered text activations\n",
    "steered_text_activations = get_text_activations_per_layer(steered_hidden_states, encoded_input['attention_mask'])"
   ]
  },
  {
   "cell_type": "markdown",
   "id": "21e25c06",
   "metadata": {},
   "source": [
    "### Plot Text Activations\n",
    "\n",
    "`plot_text_activations_per_layer` creates a plot of the activatinos from `get_text_activations_per_layer`\n",
    "-  `text_activations` is the list of activation values from `get_text_activations_per_layer`\n",
    "- `layers` are what layers do display. Can be either `None`, `int`, `tuple` or `list` for all, one or multiple layers to be displayed\n",
    "- `text_index` is what text index to plot the activation values for"
   ]
  },
  {
   "cell_type": "code",
   "execution_count": 35,
   "id": "3f24c750",
   "metadata": {},
   "outputs": [
    {
     "data": {
      "image/png": "[encoded data removed]",
      "text/plain": [
       "<Figure size 1000x600 with 2 Axes>"
      ]
     },
     "metadata": {},
     "output_type": "display_data"
    },
    {
     "name": "stdout",
     "output_type": "stream",
     "text": [
      "\n",
      "Extreme nodes for text (0) The Shawshank Redemption across selected layers:\n",
      " Layer   Min Node   Max Node\n",
      "----------------------------\n",
      "     0        303         63\n",
      "    11        223        363\n",
      "\n"
     ]
    },
    {
     "data": {
      "image/png": "[encoded data removed]",
      "text/plain": [
       "<Figure size 1000x600 with 2 Axes>"
      ]
     },
     "metadata": {},
     "output_type": "display_data"
    },
    {
     "name": "stdout",
     "output_type": "stream",
     "text": [
      "\n",
      "Extreme nodes for text (0) The Shawshank Redemption across selected layers:\n",
      " Layer   Min Node   Max Node\n",
      "----------------------------\n",
      "     0        303         63\n",
      "    11        223        363\n",
      "\n"
     ]
    }
   ],
   "source": [
    "text_index = 0  # Index of the text to plot activations for\n",
    "info_string = f'Text Activations for \"{texts[text_index]}\"'\n",
    "\n",
    "plot_text_activations_per_layer(text_activations, all_texts_data, layers=(0, 11), text_index=text_index)\n",
    "\n",
    "plot_text_activations_per_layer(steered_text_activations, all_texts_data, layers=(0, 11), text_index=text_index)"
   ]
  },
  {
   "cell_type": "markdown",
   "id": "4b8936de",
   "metadata": {},
   "source": [
    "### Compare Text Activations\n",
    "\n",
    "`compare_text_activations` plots two text activation plots on top of each other for comparison\n",
    "- `text_activations` is the list of activation values from `get_text_activations_per_layer`\n",
    "- `text_indices` are the indexes of the two texts you want to compare (text_index_1, text_index_2)\n",
    "- `layers` are what layers do display. Can be either `None`, `int`, `tuple` or `list` for all, one or multiple layers to be displaye"
   ]
  },
  {
   "cell_type": "code",
   "execution_count": 36,
   "id": "287a17b5",
   "metadata": {},
   "outputs": [
    {
     "data": {
      "image/png": "[encoded data removed]",
      "text/plain": [
       "<Figure size 1000x300 with 1 Axes>"
      ]
     },
     "metadata": {},
     "output_type": "display_data"
    },
    {
     "name": "stdout",
     "output_type": "stream",
     "text": [
      "\n",
      "Extreme nodes comparison for texts (0) The Shawshank Redemption and (1) The Godfather:\n",
      " Layer T0 Min T0 Max T1 Min T1 Max\n",
      "----------------------------------------\n",
      "    11      223      363      223      191\n",
      "\n"
     ]
    },
    {
     "data": {
      "image/png": "[encoded data removed]",
      "text/plain": [
       "<Figure size 1000x300 with 1 Axes>"
      ]
     },
     "metadata": {},
     "output_type": "display_data"
    },
    {
     "name": "stdout",
     "output_type": "stream",
     "text": [
      "\n",
      "Extreme nodes comparison for texts (0) The Shawshank Redemption and (1) The Godfather:\n",
      " Layer T0 Min T0 Max T1 Min T1 Max\n",
      "----------------------------------------\n",
      "    11      223      363      223      157\n",
      "\n"
     ]
    }
   ],
   "source": [
    "compare_text_activations(text_activations, all_texts_data, text_indices=(0, 1), layers=11)  # Compare activations for the first two texts\n",
    "\n",
    "# Also compare the steered text activations\n",
    "compare_text_activations(steered_text_activations, all_texts_data, text_indices=(0, 1), layers=11)"
   ]
  },
  {
   "cell_type": "markdown",
   "id": "f18f73b0",
   "metadata": {},
   "source": [
    "### Find Extreme Nodes\n",
    "\n",
    "`find_extreme_nodes` returns the most and least activated neurons for all texts\n",
    "- `layer` is what layer to find the extreme neurons for"
   ]
  },
  {
   "cell_type": "code",
   "execution_count": 37,
   "id": "37f74a5f",
   "metadata": {},
   "outputs": [
    {
     "name": "stdout",
     "output_type": "stream",
     "text": [
      "\n",
      "Extreme nodes for all texts in Layer 11:\n",
      "                                              Text   Min Node   Max Node\n",
      "------------------------------------------------------------------------\n",
      "                      (0) The Shawshank Redemption        223        363\n",
      "                                 (1) The Godfather        223        191\n",
      "                               (2) The Dark Knight        223        319\n",
      "                        (3) The Godfather: Part II        223        319\n",
      "                                  (4) 12 Angry Men        223        363\n",
      "        (5) The Lord of the Rings: The Return o...        223         99\n",
      "                                  (6) Pulp Fiction        223        329\n",
      "                              (7) Schindler's List        223         99\n",
      "                                     (8) Inception        223         99\n",
      "                                    (9) Fight Club        223         99\n",
      "       (10) The Lord of the Rings: The Fellowsh...        223         99\n",
      "                                 (11) Forrest Gump        223        319\n",
      "              (12) Il buono, il brutto, il cattivo        223         99\n",
      "        (13) The Lord of the Rings: The Two Towers        223        157\n",
      "                                   (14) The Matrix        223        363\n",
      "                                   (15) Goodfellas        223         99\n",
      "       (16) Star Wars: Episode V - The Empire S...        223         99\n",
      "              (17) One Flew Over the Cuckoo's Nest        223        157\n",
      "                                     (18) Hamilton        223         99\n",
      "                                 (19) Gisaengchung        223         99\n",
      "                              (20) Soorarai Pottru        223         99\n",
      "                                 (21) Interstellar        223        163\n",
      "                               (22) Cidade de Deus        223        249\n",
      "                (23) Sen to Chihiro no kamikakushi        223        249\n",
      "                          (24) Saving Private Ryan        223        363\n",
      "                               (25) The Green Mile        223        163\n",
      "                              (26) La vita è bella        223        363\n",
      "                                        (27) Se7en        223        163\n",
      "                     (28) The Silence of the Lambs        223        249\n",
      "                                    (29) Star Wars        223        363\n",
      "                                      (30) Seppuku        223        363\n",
      "                         (31) Shichinin no samurai        223         99\n",
      "                        (32) It's a Wonderful Life        223        319\n",
      "                                        (33) Joker        223        319\n",
      "                                     (34) Whiplash        223        363\n",
      "                             (35) The Intouchables        223        363\n",
      "                                 (36) The Prestige        223        363\n",
      "                                 (37) The Departed        223         99\n",
      "                                  (38) The Pianist        223         99\n",
      "                                    (39) Gladiator        223         99\n",
      "                           (40) American History X        223        363\n",
      "                           (41) The Usual Suspects        223        363\n",
      "                                         (42) Léon        223         99\n",
      "                                (43) The Lion King        223        157\n",
      "                   (44) Terminator 2: Judgment Day        223        363\n",
      "                        (45) Nuovo Cinema Paradiso        223         99\n",
      "                               (46) Hotaru no haka        223        249\n",
      "                           (47) Back to the Future        223         99\n",
      "                 (48) Once Upon a Time in the West        223         99\n",
      "                                       (49) Psycho        223        157\n",
      "                                   (50) Casablanca        223         99\n",
      "                                 (51) Modern Times        223         99\n",
      "                                  (52) City Lights        223         99\n",
      "                                   (53) Capharnaüm        223        351\n",
      "                    (54) Ayla: The Daughter of War        223        363\n",
      "                                 (55) Vikram Vedha        223        363\n",
      "                               (56) Kimi no na wa.        223        363\n",
      "                                       (57) Dangal        223         99\n",
      "            (58) Spider-Man: Into the Spider-Verse        223        363\n",
      "                            (59) Avengers: Endgame        223        363\n",
      "                       (60) Avengers: Infinity War        223        363\n",
      "                                         (61) Coco        223        163\n",
      "                             (62) Django Unchained        223         99\n",
      "                        (63) The Dark Knight Rises        223        157\n",
      "                                     (64) 3 Idiots        223        363\n",
      "                             (65) Taare Zameen Par        223        363\n",
      "                                       (66) WALL·E        223        363\n",
      "                          (67) The Lives of Others        223        363\n",
      "                                     (68) Oldeuboi        223        231\n",
      "                                      (69) Memento        223        347\n",
      "                                (70) Mononoke-hime        223        157\n",
      "                  (71) Once Upon a Time in America        223        319\n",
      "                      (72) Raiders of the Lost Ark        223        157\n",
      "                                  (73) The Shining        223        363\n",
      "                               (74) Apocalypse Now        223        267\n",
      "                                        (75) Alien        223        163\n",
      "                                        (76) Anand        223        363\n",
      "                            (77) Tengoku to jigoku        223         99\n",
      "       (78) Dr. Strangelove or: How I Learned t...        223         99\n",
      "                  (79) Witness for the Prosecution        223         99\n",
      "                               (80) Paths of Glory        223        363\n",
      "                                  (81) Rear Window        223        363\n",
      "                                 (82) Sunset Blvd.        223         99\n",
      "                           (83) The Great Dictator        223         99\n",
      "                                         (84) 1917        223         99\n",
      "                                      (85) Tumbbad        223        363\n",
      "                                    (86) Andhadhun        223         99\n",
      "                                     (87) Drishyam        223        363\n",
      "                                       (88) Jagten        223        363\n",
      "                      (89) Jodaeiye Nader az Simin        223        319\n",
      "                                    (90) Incendies        223        163\n",
      "                         (91) Miracle in cell NO.7        223        363\n",
      "                               (92) Babam ve Oglum        223         99\n",
      "                         (93) Inglourious Basterds        223        363\n",
      "        (94) Eternal Sunshine of the Spotless Mind        223        363\n",
      "                                       (95) Amélie        223        319\n",
      "                                       (96) Snatch        223         99\n",
      "                          (97) Requiem for a Dream        223        249\n",
      "                              (98) American Beauty        223        363\n",
      "                            (99) Good Will Hunting        223        232\n",
      "\n",
      "\n",
      "Extreme nodes for all texts in Layer 11:\n",
      "                                              Text   Min Node   Max Node\n",
      "------------------------------------------------------------------------\n",
      "                      (0) The Shawshank Redemption        223        363\n",
      "                                 (1) The Godfather        223        157\n",
      "                               (2) The Dark Knight        223        363\n",
      "                        (3) The Godfather: Part II        223        157\n",
      "                                  (4) 12 Angry Men        223        363\n",
      "        (5) The Lord of the Rings: The Return o...        223        157\n",
      "                                  (6) Pulp Fiction        223        157\n",
      "                              (7) Schindler's List        223         99\n",
      "                                     (8) Inception        223        363\n",
      "                                    (9) Fight Club        223         99\n",
      "       (10) The Lord of the Rings: The Fellowsh...        223        157\n",
      "                                 (11) Forrest Gump        223        363\n",
      "              (12) Il buono, il brutto, il cattivo        223        157\n",
      "        (13) The Lord of the Rings: The Two Towers        223        157\n",
      "                                   (14) The Matrix        223        363\n",
      "                                   (15) Goodfellas        223        157\n",
      "       (16) Star Wars: Episode V - The Empire S...        223        157\n",
      "              (17) One Flew Over the Cuckoo's Nest        223        157\n",
      "                                     (18) Hamilton        223        363\n",
      "                                 (19) Gisaengchung        223        363\n",
      "                              (20) Soorarai Pottru        223        363\n",
      "                                 (21) Interstellar        223        163\n",
      "                               (22) Cidade de Deus        223        157\n",
      "                (23) Sen to Chihiro no kamikakushi        223        157\n",
      "                          (24) Saving Private Ryan        223        363\n",
      "                               (25) The Green Mile        223        363\n",
      "                              (26) La vita è bella        223        363\n",
      "                                        (27) Se7en        223        363\n",
      "                     (28) The Silence of the Lambs        223        157\n",
      "                                    (29) Star Wars        223        363\n",
      "                                      (30) Seppuku        223        363\n",
      "                         (31) Shichinin no samurai        223         99\n",
      "                        (32) It's a Wonderful Life        223        363\n",
      "                                        (33) Joker        223        157\n",
      "                                     (34) Whiplash        223        363\n",
      "                             (35) The Intouchables        223        363\n",
      "                                 (36) The Prestige        223        363\n",
      "                                 (37) The Departed        223        157\n",
      "                                  (38) The Pianist        223         99\n",
      "                                    (39) Gladiator        223        363\n",
      "                           (40) American History X        223        363\n",
      "                           (41) The Usual Suspects        223        363\n",
      "                                         (42) Léon        223         99\n",
      "                                (43) The Lion King        223        157\n",
      "                   (44) Terminator 2: Judgment Day        223        363\n",
      "                        (45) Nuovo Cinema Paradiso        223         99\n",
      "                               (46) Hotaru no haka        223        363\n",
      "                           (47) Back to the Future        223         99\n",
      "                 (48) Once Upon a Time in the West        223         99\n",
      "                                       (49) Psycho        223        157\n",
      "                                   (50) Casablanca        223         99\n",
      "                                 (51) Modern Times        223        157\n",
      "                                  (52) City Lights        223        363\n",
      "                                   (53) Capharnaüm        223        363\n",
      "                    (54) Ayla: The Daughter of War        223        363\n",
      "                                 (55) Vikram Vedha        223        363\n",
      "                               (56) Kimi no na wa.        223        363\n",
      "                                       (57) Dangal        223         99\n",
      "            (58) Spider-Man: Into the Spider-Verse        223        363\n",
      "                            (59) Avengers: Endgame        223        363\n",
      "                       (60) Avengers: Infinity War        223        363\n",
      "                                         (61) Coco        223        363\n",
      "                             (62) Django Unchained        223        157\n",
      "                        (63) The Dark Knight Rises        223        157\n",
      "                                     (64) 3 Idiots        223        363\n",
      "                             (65) Taare Zameen Par        223        363\n",
      "                                       (66) WALL·E        223        363\n",
      "                          (67) The Lives of Others        223        363\n",
      "                                     (68) Oldeuboi        223        363\n",
      "                                      (69) Memento        223        363\n",
      "                                (70) Mononoke-hime        223        157\n",
      "                  (71) Once Upon a Time in America        223        363\n",
      "                      (72) Raiders of the Lost Ark        223        157\n",
      "                                  (73) The Shining        223        363\n",
      "                               (74) Apocalypse Now        223        363\n",
      "                                        (75) Alien        223        363\n",
      "                                        (76) Anand        223        363\n",
      "                            (77) Tengoku to jigoku        223        157\n",
      "       (78) Dr. Strangelove or: How I Learned t...        223        363\n",
      "                  (79) Witness for the Prosecution        223         99\n",
      "                               (80) Paths of Glory        223        363\n",
      "                                  (81) Rear Window        223        363\n",
      "                                 (82) Sunset Blvd.        223        363\n",
      "                           (83) The Great Dictator        223        157\n",
      "                                         (84) 1917        223         99\n",
      "                                      (85) Tumbbad        223        363\n",
      "                                    (86) Andhadhun        223        363\n",
      "                                     (87) Drishyam        223        363\n",
      "                                       (88) Jagten        223        363\n",
      "                      (89) Jodaeiye Nader az Simin        223        363\n",
      "                                    (90) Incendies        223        363\n",
      "                         (91) Miracle in cell NO.7        223        363\n",
      "                               (92) Babam ve Oglum        223         99\n",
      "                         (93) Inglourious Basterds        223        363\n",
      "        (94) Eternal Sunshine of the Spotless Mind        223        363\n",
      "                                       (95) Amélie        223        363\n",
      "                                       (96) Snatch        223         99\n",
      "                          (97) Requiem for a Dream        223        249\n",
      "                              (98) American Beauty        223        363\n",
      "                            (99) Good Will Hunting        223        363\n",
      "\n"
     ]
    }
   ],
   "source": [
    "min_nodes, max_nodes = find_extreme_nodes_for_all_texts(texts, text_activations, all_texts_data, layer=11)  # Find extreme nodes for all texts in layer 11\n",
    "steered_min_nodes, steered_max_nodes = find_extreme_nodes_for_all_texts(texts, steered_text_activations, all_texts_data, layer=11);  # Find extreme nodes for all texts in steered layer 11"
   ]
  },
  {
   "cell_type": "markdown",
   "id": "a564912c",
   "metadata": {},
   "source": [
    "### Plot Extreme Nodes\n",
    "\n",
    "`plot_extreme_nodes_for_all_texts` plots the neurons we found in `find_extreme_nodes_for_all_texts` with (neuron index, text index)\n",
    "- `min_nodes` is a list of the indexes of the least activated neurons, retrieved from `find_extreme_nodes_for_all_texts`\n",
    "- `max_nodes` is a list of the indexes of the most activated neurons, retrieved from `find_extreme_nodes_for_all_texts`"
   ]
  },
  {
   "cell_type": "code",
   "execution_count": 38,
   "id": "51469d4f",
   "metadata": {},
   "outputs": [
    {
     "data": {
      "image/png": "[encoded data removed]",
      "text/plain": [
       "<Figure size 640x480 with 1 Axes>"
      ]
     },
     "metadata": {},
     "output_type": "display_data"
    },
    {
     "data": {
      "image/png": "[encoded data removed]",
      "text/plain": [
       "<Figure size 640x480 with 1 Axes>"
      ]
     },
     "metadata": {},
     "output_type": "display_data"
    }
   ],
   "source": [
    "plot_extreme_nodes_for_all_texts(min_nodes, max_nodes, layer=11)  # Plot extreme nodes for all texts in layer 11\n",
    "plot_extreme_nodes_for_all_texts(steered_min_nodes, steered_max_nodes, layer=11)  # Plot extreme nodes for all texts in steered layer 11"
   ]
  },
  {
   "cell_type": "code",
   "execution_count": 39,
   "id": "8e2d83c8",
   "metadata": {},
   "outputs": [
    {
     "name": "stdout",
     "output_type": "stream",
     "text": [
      "============================================================\n",
      "📋 TEXT ACTIVATION ANALYSIS CHECKPOINT\n",
      "============================================================\n",
      "✅ Text activations available for 13 layers\n",
      "✅ Steered text activations available for 13 layers\n",
      "✅ Minimum activation nodes identified: 100\n",
      "✅ Maximum activation nodes identified: 100\n",
      "✅ Steered minimum activation nodes identified: 100\n",
      "✅ Steered maximum activation nodes identified: 100\n",
      "============================================================\n",
      "🎯 CHECKPOINT PASSED - Text activation analysis complete!\n",
      "🎉 All analysis sections complete!\n",
      "============================================================\n"
     ]
    }
   ],
   "source": [
    "# 🎯 CHECKPOINT: Text Activation Analysis\n",
    "print(\"=\"*60)\n",
    "print(\"📋 TEXT ACTIVATION ANALYSIS CHECKPOINT\")\n",
    "print(\"=\"*60)\n",
    "\n",
    "try:\n",
    "    # Verify text activations\n",
    "    if 'text_activations' in locals() and text_activations is not None:\n",
    "        print(f\"✅ Text activations available for {len(text_activations)} layers\")\n",
    "    if 'steered_text_activations' in locals() and steered_text_activations is not None:\n",
    "        print(f\"✅ Steered text activations available for {len(steered_text_activations)} layers\")\n",
    "    \n",
    "    # Verify extreme nodes\n",
    "    if 'min_nodes' in locals() and min_nodes is not None:\n",
    "        print(f\"✅ Minimum activation nodes identified: {len(min_nodes)}\")\n",
    "    if 'max_nodes' in locals() and max_nodes is not None:\n",
    "        print(f\"✅ Maximum activation nodes identified: {len(max_nodes)}\")\n",
    "    \n",
    "    # Verify steered extreme nodes\n",
    "    if 'steered_min_nodes' in locals() and steered_min_nodes is not None:\n",
    "        print(f\"✅ Steered minimum activation nodes identified: {len(steered_min_nodes)}\")\n",
    "    if 'steered_max_nodes' in locals() and steered_max_nodes is not None:\n",
    "        print(f\"✅ Steered maximum activation nodes identified: {len(steered_max_nodes)}\")\n",
    "    \n",
    "    # Sample stats if available\n",
    "    if all(var in locals() for var in ['min_nodes', 'max_nodes', 'steered_min_nodes', 'steered_max_nodes']):\n",
    "        # Calculate how many min/max nodes changed after steering\n",
    "        min_changes = sum(1 for i, node in enumerate(min_nodes) if node != steered_min_nodes[i])\n",
    "        max_changes = sum(1 for i, node in enumerate(max_nodes) if node != steered_max_nodes[i])\n",
    "        print(f\"✅ Min activation nodes that changed after steering: {min_changes} ({(min_changes/len(min_nodes))*100:.1f}%)\")\n",
    "        print(f\"✅ Max activation nodes that changed after steering: {max_changes} ({(max_changes/len(max_nodes))*100:.1f}%)\")\n",
    "        \n",
    "    print(\"=\"*60)\n",
    "    print(\"🎯 CHECKPOINT PASSED - Text activation analysis complete!\")\n",
    "    print(\"🎉 All analysis sections complete!\")\n",
    "    print(\"=\"*60)\n",
    "\n",
    "except Exception as e:\n",
    "    print(\"❌ CHECKPOINT FAILED\")\n",
    "    print(f\"💥 Error: {str(e)}\")\n",
    "    print(\"🔧 Please check previous cells and ensure text activation analysis was run\")\n",
    "    print(\"💡 Tip: Make sure get_text_activations_per_layer ran successfully\")"
   ]
  }
 ],
 "metadata": {
  "kernelspec": {
   "display_name": "embed",
   "language": "python",
   "name": "python3"
  },
  "language_info": {
   "codemirror_mode": {
    "name": "ipython",
    "version": 3
   },
   "file_extension": ".py",
   "mimetype": "text/x-python",
   "name": "python",
   "nbconvert_exporter": "python",
   "pygments_lexer": "ipython3",
   "version": "3.12.11"
  }
 },
 "nbformat": 4,
 "nbformat_minor": 5
}
