{
 "cells": [
  {
   "cell_type": "markdown",
   "id": "c17d066c",
   "metadata": {},
   "source": [
    "# Notebook 3 - Plots and analysis\n",
    "\n",
    "***"
   ]
  },
  {
   "cell_type": "markdown",
   "id": "5a155616",
   "metadata": {},
   "source": [
    "In this notebook we will showcase most of the functions that will be useful for analysis of steering: \n",
    "1. [Ranking Shifts](#ranking-shifts)\n",
    "2. [Convergence Check](#convergence-check)\n",
    "3. [Neuron Activations for Categories](#neuron-activations-for-categories)\n",
    "4. [Neuron Activations for Tokens and Texts](#neuron-activations-for-tokens-and-texts)"
   ]
  },
  {
   "cell_type": "code",
   "execution_count": null,
   "id": "b2daf815",
   "metadata": {},
   "outputs": [],
   "source": [
    "# Append the path to the Functions directory\n",
    "\n",
    "import sys\n",
    "sys.path.append('../Functions')"
   ]
  },
  {
   "cell_type": "markdown",
   "id": "ea364972",
   "metadata": {},
   "source": [
    "## Functions used in this notebook:\n",
    "### From \"Ranking_shifts.py\":\n",
    "- [calculate_specific_differences](#calculate-specific-differences) - Calculate distance differences between original and steered embeddings\n",
    "- [title_ranking_difference](#title-ranking-difference) - Compare top movie rankings before and after steering\n",
    "- [rank_categories_by_difference](#rank-categories-by-difference) - Rank movie categories by mean steering effects\n",
    "- [get_most_shifted_categories](#get-most-shifted-categories) - Identify categories most affected by steering\n",
    "- [experimentation_function](#experimentation-function) - Export category shifts for single node steering for a layer\n",
    "- [plot_change_in_top_shift](#plot-change-in-top-shift) - Plot category changes across steering coefficients\n",
    "- [plot_rank_plot](#plot-rank-plot) - Visualize category ranking shifts\n",
    "\n",
    "### From \"Convergence_check.py\":\n",
    "- [convergence_check_with_vector](#steering-with-a-vector) - Plots the mean of the distance between the steered embeddings and the steering vector for a range of coefficients\n",
    "- [convergence_check_with_neuron](#steering-with-a-neuron) - plots the mean of the distance between the steered embeddings and a comparison vector (feature embedding) for a range of coefficients.\n",
    "- [convergence_by_category](#convergence-by-category) - plots the mean distances from the steered embeddings to the steering vector, for each of the categories given\n",
    "\n",
    "### From \"Activations_tokens_and_texts.py\".\n",
    "- [get_text_activations_per_layer](#get-text-activations) - Calculates the activations for all neurons in a layer\n",
    "- [plot_text_activations_per_layer](#plot-text-activations) - Plots the activation values and neuron index for all neurons in a layer\n",
    "- [compare_text_activations](#compare-text-activations) - Plots two differet texts' activations for comparison\n",
    "- [find_extreme_nodes_for_all_texts](#find-extreme-nodes) - Finds the most and least activated neurons for the texts\n",
    "- [plot_extreme_nodes_for_all_texts](#plot-extreme-nodes) - Plots the most and least activated neurons for the texts (text_index, neuron_index)\n",
    "\n",
    "### From \"Activations_categories.py\":\n",
    "- [get_category_activations](#get-category-activations) - Extract neuron activations for a category in a layer\n",
    "- [plot_category_activations](#plot-category-activations) - Plot the activations\n",
    "- [find_activation_shift](#find-activation-shift) - Find the most shifted neurons before vs. after steering\n",
    "- [create_neuron_shift_heatmap](#create-heatmap) - Create a heatmap of the most shifted neurons across categories\n",
    "- [plot_change_in_top_shifted_neurons](#plot-change-in-top-shifted-neurons) - Plot how most shifted / activated neurons are steered with varying coefficient\n",
    "\n",
    "### Other functions\n",
    "- \"Embeddings.py\": import_embedding_data_from_pkl - Loads embeddings and model data from file\n",
    "- \"Steering_vector.py\": import_steering_vector_from_pkl - Loads steering vector from file\n",
    "- \"Steering.py\": get_steered_embeddings_vector - Applies steering using a steering vector and returns the steered embeddings"
   ]
  },
  {
   "cell_type": "markdown",
   "id": "87e97e28",
   "metadata": {},
   "source": [
    "## Import Python Functions"
   ]
  },
  {
   "cell_type": "code",
   "execution_count": null,
   "id": "1d02e043",
   "metadata": {},
   "outputs": [],
   "source": [
    "# Import needed functions\n",
    "from Embeddings import import_embedding_data_from_pkl\n",
    "from Steering_vector import import_steering_vector_from_pkl\n",
    "from Steering import get_steered_embeddings_vector, create_steered_model_output"
   ]
  },
  {
   "cell_type": "code",
   "execution_count": null,
   "id": "f9c9acdf",
   "metadata": {},
   "outputs": [],
   "source": [
    "from Ranking_shifts import calculate_specific_differences, title_ranking_difference, rank_categories_by_difference, get_most_shifted_categories, experimentation_function, plot_change_in_top_shift, plot_rank_plot\n",
    "from Convergence_check import convergence_check_with_vector, convergence_check_with_neuron, convergence_by_category\n",
    "from Activations_categories import get_category_activations, plot_category_activations, find_activation_shift, create_neuron_shift_heatmap, plot_change_in_top_shifted_neurons\n",
    "from Activations_tokens_and_texts import get_text_activations_per_layer, plot_text_activations_per_layer, compare_text_activations, find_extreme_nodes_for_all_texts, plot_extreme_nodes_for_all_texts\n"
   ]
  },
  {
   "cell_type": "markdown",
   "id": "20835eed",
   "metadata": {},
   "source": [
    "***\n",
    "\n",
    "# Ranking Shifts"
   ]
  },
  {
   "cell_type": "markdown",
   "id": "329da966",
   "metadata": {},
   "source": [
    "The following functions are imported from the file `\"Ranking_shifts.py\"`. They are used to create a number of outputs that can be used to analyze the effect of steering on the dataset.\n"
   ]
  },
  {
   "cell_type": "code",
   "execution_count": null,
   "id": "365e7121",
   "metadata": {},
   "outputs": [],
   "source": [
    "#from Ranking_shifts import calculate_specific_differences, title_ranking_difference, rank_categories_by_difference, get_most_shifted_categories, experimentation_function, plot_change_in_top_shift, plot_rank_plot"
   ]
  },
  {
   "cell_type": "markdown",
   "id": "06d4c7b7",
   "metadata": {},
   "source": [
    "## Setup"
   ]
  },
  {
   "cell_type": "markdown",
   "id": "1f13afa8",
   "metadata": {},
   "source": [
    "Before we start analyzing we need to import the embedding data we created in `Notebook 1`, as well as a steering vector."
   ]
  },
  {
   "cell_type": "code",
   "execution_count": null,
   "id": "9dc41dc0",
   "metadata": {},
   "outputs": [],
   "source": [
    "# Import the necessasry data\n",
    "data = import_embedding_data_from_pkl('Test_export_embeddings.pkl', model=True, embeddings=True, encoded_input=True, all_texts_data=True)\n",
    "model, original_embeddings, encoded_input, all_texts_data = data\n",
    "\n",
    "feature = \"War\"\n",
    "type = \"cosine\" # Chose what distance measure to use: l1, l2 or cosine\n",
    "layer_to_steer = 11  # Change this to the layer you want to analyze\n",
    "steering_coefficient = 1  # Adjust steering coefficient as needed\n",
    "\n",
    "steering_vector = import_steering_vector_from_pkl('steering_vector.pkl', feature_name=feature, layer_to_steer=layer_to_steer)\n",
    "\n",
    "# We will now create the steered embeddings. For demonstration purposes, we will steer using our steering vector and the l2 distance measure.\n",
    "steered_embeddings = get_steered_embeddings_vector(\n",
    "    model, \n",
    "    encoded_input, \n",
    "    layer_to_steer=layer_to_steer, \n",
    "    steering_coefficient=steering_coefficient, \n",
    "    steering_vector=steering_vector, \n",
    "    normalize=True\n",
    "    )"
   ]
  },
  {
   "cell_type": "markdown",
   "id": "ec25c0d4",
   "metadata": {},
   "source": [
    "After the setup we have the following:\n",
    "- `model:` the loaded Transformer (e.g. `AutoModel`) configured for inference\n",
    "- `original_embeddings:`\n",
    "- `encoded_input:`\n",
    "- `all_texts_data:`\n",
    "- `feature:` Decides what steering vector to use (e.g. War, Love)\n",
    "- `type:` Decides what difference measure to use (i.e. \"l1\", \"l2\", \"cosine\")\n",
    "- `layer_to_steer:` The layer to perform steering on\n",
    "- `steering_coefficient:` How strong the steering should be\n",
    "- `steering_vector:` The embedding of the selected feature vector\n",
    "- `steered_embeddings:` The embeddings of the steered titles\n"
   ]
  },
  {
   "cell_type": "markdown",
   "id": "496529aa",
   "metadata": {},
   "source": [
    "## Analysis"
   ]
  },
  {
   "cell_type": "code",
   "execution_count": null,
   "id": "54ec43da",
   "metadata": {},
   "outputs": [],
   "source": [
    "print(f\"\\nSteering | Feature: {feature} | Coefficient: {steering_coefficient} | Layer: {layer_to_steer} | Type: {type}\\n\")"
   ]
  },
  {
   "cell_type": "markdown",
   "id": "eb52a53b",
   "metadata": {},
   "source": [
    "We can now analyze the effect of steering on the dataset.\n"
   ]
  },
  {
   "cell_type": "markdown",
   "id": "49c0fc67",
   "metadata": {},
   "source": [
    "### <a id=\"title-ranking-difference\"></a>Title Ranking Difference\n",
    "\n",
    "`title_ranking_difference` creates a ranking of the top 10 movies closest to our steering vector before and after steering with that vector.\n",
    "- `type` decides what distance measure to use. Is a `string`, and can be either `\"l1\"`, `\"l2\"` or `\"cosine\"`.\n"
   ]
  },
  {
   "cell_type": "markdown",
   "id": "c0a9a154",
   "metadata": {},
   "source": [
    "We have reversed the order of the cosine similarity, so that the top 10 results are the ones with the smallest distance to the steering vector.\n",
    "A lower value indicates a closer match to the steering vector, to match with the L1 and L2 distance measures."
   ]
  },
  {
   "cell_type": "code",
   "execution_count": null,
   "id": "2efa493a",
   "metadata": {},
   "outputs": [],
   "source": [
    "# Calculate the distance between the embeddings and the steering vector and rank top 10 before and after steering\n",
    "original_top_10_indices, steered_top_10_indices = title_ranking_difference(\n",
    "    original_embeddings, \n",
    "    steered_embeddings, \n",
    "    steering_vector, \n",
    "    all_texts_data, \n",
    "    type=type\n",
    "    )"
   ]
  },
  {
   "cell_type": "markdown",
   "id": "5ba17b40",
   "metadata": {},
   "source": [
    "### <a id=\"calculate-specific-differences\"></a>Calculate differences for categories\n",
    "\n",
    "`calculate_specific_differences` will calculate the difference between the embeddings and steering vector before and after steering, using the chosen distance measure.\n",
    "- `type` decides what distance measure to use. Is a `string`, and can be either `\"l1\"`, `\"l2\"` or `\"cosine\"`.\n"
   ]
  },
  {
   "cell_type": "markdown",
   "id": "46a835f7",
   "metadata": {},
   "source": [
    "The category values for difference are calculated as a mean of the difference for all the titles labeled with that category."
   ]
  },
  {
   "cell_type": "code",
   "execution_count": null,
   "id": "c1601991",
   "metadata": {},
   "outputs": [],
   "source": [
    "# Calculate the specific differences between the original and steered embeddings\n",
    "print(\"Calculating differences between original and steered embeddings...\")\n",
    "\n",
    "# Note: For cosine, this function will flip the cosine similarity to match the orientation of L1 and L2 distances.\n",
    "original_differences, steered_differences = calculate_specific_differences(original_embeddings, steered_embeddings, steering_vector, type=type)\n",
    "\n",
    "print(\"Differences calculated.\")\n",
    "# We will now use these differences to rank the categories using different plots."
   ]
  },
  {
   "cell_type": "markdown",
   "id": "57aaebd1",
   "metadata": {},
   "source": [
    "### <a id=\"rank-categories-by-difference\"></a>Rank Categories by Difference"
   ]
  },
  {
   "cell_type": "markdown",
   "id": "7721ebd6",
   "metadata": {},
   "source": [
    "`rank_categories_by_difference` will rank the categories based on the mean difference in distance to the steering vector, and print out the ranking before and after steering. It will also plot a bar graph of the mean differences for each category.\n",
    "- `original_differences` are the differences calculated by `calculate_specific_differences` from the original embeddings\n",
    "- `steered_differences` are the differences calculated by `calculate_specific_differences` from the steered embeddings\n",
    "- `type` decides what distance measure to use. Is a `string`, and can be either `\"l1\"`, `\"l2\"` or `\"cosine\"`. Note that if you change the type here, you will need to calculate the differences using `calculate_specific_differences` again with this new type.\n",
    "- `info_string` is used as title for the bar plots to keep track of the parameters used to return the result\n",
    "- `print_results=True` will print the results in text format, `=False` will not print the results\n",
    "- `remove_low_count` will only use categories that have more than 25 titles, as the mean embedding may not be as representative for \"smaller category\"\n",
    "- `plot_graph=True` will plot the bar graph of the mean differences for each category, `=False` will not plot the graph\n"
   ]
  },
  {
   "cell_type": "code",
   "execution_count": null,
   "id": "ee087f86",
   "metadata": {},
   "outputs": [],
   "source": [
    "info_string = f'Steered layer: {layer_to_steer} | Coeff: {steering_coefficient} | Feature: {feature}' # Information string to use in the title of the plots\n",
    "\n",
    "filtered_genres, original_filtered_genres, genre_differences, original_genre_differences, genre_means = rank_categories_by_difference(\n",
    "    all_texts_data, \n",
    "    original_differences, \n",
    "    steered_differences, \n",
    "    type, # If you change the type you need to calculate the differences again\n",
    "    info_string,\n",
    "    print_results=True, # Print the results to the console\n",
    "    remove_low_count=True, # Remove categories with fewer than 25 titles\n",
    "    plot_graph=True # Plot the bar graph of the mean differences for each category\n",
    "    )\n",
    "\n",
    "# Higher difference means further away from the steering vector"
   ]
  },
  {
   "cell_type": "markdown",
   "id": "43c986fa",
   "metadata": {},
   "source": [
    "### <a id=\"get-most-shifted-categories\"></a>Most Shifted Categories"
   ]
  },
  {
   "cell_type": "markdown",
   "id": "71ae20fd",
   "metadata": {},
   "source": [
    "`get_most_shifted_categories` will print the categories that has the largest difference between the original and steered distance to the steering vector\n",
    "- `original_differences` are the differences calculated by `calculate_specific_differences` from the original embeddings\n",
    "- `steered_differences` are the differences calculated by `calculate_specific_differences` from the steered embeddings\n",
    "- `remove_low_count` will only use categories that have more than 25 titles, as the mean embedding may not be as representative for \"smaller category\"\n",
    "- `top_n` is the number of categories to print the results for\n",
    "- `print_results=True` will print the ranking of most shifted categories, `=False` will not print the ranking"
   ]
  },
  {
   "cell_type": "code",
   "execution_count": null,
   "id": "ebd11eb4",
   "metadata": {},
   "outputs": [],
   "source": [
    "# Prints the most shifted categories based on the differences calculated above. Again, lower distance means closer to the steering vector.\n",
    "get_most_shifted_categories(\n",
    "    all_texts_data, \n",
    "    original_differences, \n",
    "    steered_differences, \n",
    "    remove_low_count=True, \n",
    "    top_n=10, \n",
    "    print_results=True\n",
    ");\n"
   ]
  },
  {
   "cell_type": "markdown",
   "id": "43b6f6d3",
   "metadata": {},
   "source": [
    "### <a id=\"experimentation-function\"></a>Experimentation Function\n",
    "\n",
    "The `experimentation_function` allows you to choose a layer and a steering coefficient, and will then steer each node in that layer one at a time. The results are exported to a file and look like the table above. This allows for easier analysis of the nodes by a LLM such as ChatGPT, which can look for patterns and outliers in how steering on the different nodes affect the ranking and shifts.\n"
   ]
  },
  {
   "cell_type": "code",
   "execution_count": null,
   "id": "1a1841d1",
   "metadata": {},
   "outputs": [],
   "source": [
    "# This is how you can call the experimentation function\n",
    "# Note that it will take some time to run as it runs through all nodes in a layer one at a time.\n",
    "\n",
    "'''\n",
    "experimentation_function(\n",
    "    all_texts_data, \n",
    "    type, \n",
    "    layer_to_steer, \n",
    "    steering_coefficient,\n",
    "    steering_vector, \n",
    "    print_results=True, \n",
    "    remove_low_count=True, \n",
    "    plot_graph=False\n",
    ")\n",
    "'''\n",
    "# This will export to a file called \"ranked_categories_layer_{layer_to_steer}_coeff_{steering_coefficient}_feature_{feature}.txt\""
   ]
  },
  {
   "cell_type": "markdown",
   "id": "f01b2664",
   "metadata": {},
   "source": [
    "### <a id=\"plot-change-in-top-shift\"></a>Plot Change in Top Shift"
   ]
  },
  {
   "cell_type": "markdown",
   "id": "0370de26",
   "metadata": {},
   "source": [
    "To further analyze the steering effect, we can plot the change in top shifts across steering coefficients using the `plot_change_in_top_shift` function.\n",
    "The plot shows how the categories change in distance to the steering vector as we vary the steering coefficient.\n",
    "\n",
    "`plot_change_in_top_shift` will plot the shift for each category at different steering coefficients. The plot shows how the categories change in shift to the steering vector as we vary the steering coefficient. Note that this is not the derivative, but simply a measure of how far the distance is between the categories and the steering vector at a specific coefficient.\n",
    "- `steering_coefficient_start` is the first steering coefficient (i.e. the beginning of the x-axis)\n",
    "- `steering_coefficient_end` is the last steering coefficient (i.e. the end of the x-axis)\n",
    "- `number_of_steps` are the number of points for which to do the analysis (i.e. the number of steering coefficients to analyze from start to end)"
   ]
  },
  {
   "cell_type": "code",
   "execution_count": null,
   "id": "811f9ed8",
   "metadata": {},
   "outputs": [],
   "source": [
    "category_shifts, steering_coefficients = plot_change_in_top_shift(\n",
    "    model, \n",
    "    encoded_input, \n",
    "    all_texts_data, \n",
    "    original_embeddings, \n",
    "    layer_to_steer, \n",
    "    steering_vector, \n",
    "    type, \n",
    "    feature, \n",
    "    steering_coefficient_start=0.0, # Start steering coefficient (x-axis)\n",
    "    steering_coefficient_end=15, # End steering coefficient (x-axis)\n",
    "    number_of_steps=10 # Number of steps to take between start and end steering coefficient (iterations)\n",
    "    )"
   ]
  },
  {
   "cell_type": "markdown",
   "id": "0f682eb3",
   "metadata": {},
   "source": [
    "### <a id=\"plot-rank-plot\"></a>Plot Rank Plot"
   ]
  },
  {
   "cell_type": "markdown",
   "id": "9fcbe4ad",
   "metadata": {},
   "source": [
    "`plot_rank_plot` visualizes the change in category shifts across different steering vectors. Rank 1 indicates the category with the highest shift (i.e. the category thats distance to the steering vector changed the most after vs. before steering).\n",
    "- `category_shifts` is a dictionary with all the shifts for each category across the steering coefficients. This is calculated from `plot_change_in_top_shift`.\n",
    "- `steering_coefficients` is the list of steering_coefficients for which we calculated the `category_shifts``\n",
    "- `info_string` is what will be displayed in the title of the plot to keep track of the selected parameters for that plot."
   ]
  },
  {
   "cell_type": "code",
   "execution_count": null,
   "id": "7daf280b",
   "metadata": {},
   "outputs": [],
   "source": [
    "info_string = f'Layer: {layer_to_steer} | Feature: {feature} | Diff: {type}'\n",
    "plot_rank_plot(category_shifts, steering_coefficients, info_string)\n"
   ]
  },
  {
   "cell_type": "markdown",
   "id": "ee156d6a",
   "metadata": {},
   "source": [
    "***\n",
    "\n",
    "# Convergence check\n",
    "\n",
    "The following functions are imported from the file `\"Convergence_check.py\"`. They are used to analyze how the steered embeddings' distance to the steering vector is affected by increasing the steering coefficient. "
   ]
  },
  {
   "cell_type": "code",
   "execution_count": null,
   "id": "07f96028",
   "metadata": {},
   "outputs": [],
   "source": [
    "#from Convergence_check import convergence_check_with_vector, convergence_check_with_neuron, convergence_by_category"
   ]
  },
  {
   "cell_type": "markdown",
   "id": "e84f0d40",
   "metadata": {},
   "source": [
    "## Setup\n",
    "\n",
    "Import necessary data"
   ]
  },
  {
   "cell_type": "code",
   "execution_count": null,
   "id": "37cee01e",
   "metadata": {},
   "outputs": [],
   "source": [
    "data = import_embedding_data_from_pkl('Test_export_embeddings.pkl', model=True, embeddings=True, encoded_input=True, all_texts_data=True)\n",
    "model, original_embeddings, encoded_input, all_texts_data = data"
   ]
  },
  {
   "cell_type": "markdown",
   "id": "a2b16ff8",
   "metadata": {},
   "source": [
    "## Convergence check - Mean distance, all embeddings"
   ]
  },
  {
   "cell_type": "markdown",
   "id": "e7c7026d",
   "metadata": {},
   "source": [
    "### Steering with a vector"
   ]
  },
  {
   "cell_type": "markdown",
   "id": "782aaa21",
   "metadata": {},
   "source": [
    "`convergence_check_with_vector` plots the mean of the distance between the steered embeddings and the steering vector for a range of coefficients.\n",
    "\n",
    "- `start_coeff` and `end_coeff` can be negative or positive integers, but it is crutial that **start_coeff < end_coeff**\n",
    "\n",
    "- `normalize (True/False)` normalizes the steered embeddings (difference is only visible when using l1 or l2)\n",
    "\n",
    "- `mode` refers to the method used to calculate the distance or similarity between the embeddings and the steering vector, they can be chosen from:\n",
    "    - `\"l1\"` = Manhattan distance - measures the sum of absolute distances between components  \n",
    "    - `\"l2\"` = Euclidian distance - measures the straight line distance between points\n",
    "    - `\"cosine\"` = (1 - Cosine similarity) – measures the cosine angle between two vectors (here, 0 = same direction, 2 = opposite direction)  \n",
    "  <br>\n",
    "\n",
    "- `derivative (True/False)` creates another plot with the derivative of the values in the first plot, to visualize *how* the distance changes \n",
    "\n",
    "- `step_size (int)` chooses the size of the steps between the coefficients, allowing for a zoomed in look on a specific area\n",
    "\n",
    "- `text_range (int, int)` selects the given slice of texts from the input, writing `None` here means that **all** texts are plotted, which can be **very** time consuming considering the fact that every single text needs to be steered\n",
    "\n",
    "**‼️ Warning: These convergence plots *may* take a long time to run if the text_range or range of coefficients are wide.   \n",
    "Test before running multiple at a time. The function prints percentages (%) while running to see how far along you are.**"
   ]
  },
  {
   "cell_type": "markdown",
   "id": "ba25ec58",
   "metadata": {},
   "source": [
    "In addition, every time a plot is created, these are printed:\n",
    "- Distance at coefficient 0 (if in the range)\n",
    "- Minimum distance (and the corresponding coefficient)\n",
    "- Maximum distance (and the corresponding coefficient)\n",
    "- Estimated convergence point on positive and negative sides (coefficient and distance), calculated using a slope threshold\n",
    "- Final distance and coefficient"
   ]
  },
  {
   "cell_type": "code",
   "execution_count": null,
   "id": "daf06b34",
   "metadata": {},
   "outputs": [],
   "source": [
    "layer_to_steer = 11\n",
    "feature = \"War\"\n",
    "\n",
    "steering_vector = import_steering_vector_from_pkl('steering_vector.pkl', layer_to_steer=layer_to_steer, feature_name=feature)\n",
    "\n",
    "convergence_check_with_vector(model, \n",
    "                              encoded_input,\n",
    "                              layer_to_steer, \n",
    "                              steering_vector, \n",
    "                              feature, \n",
    "                              start_coeff=-100, \n",
    "                              end_coeff=100, \n",
    "                              normalize=True,\n",
    "                              mode='l2', \n",
    "                              derivative=True, \n",
    "                              step_size=1,\n",
    "                              grid=True, \n",
    "                              text_range=(0,100))"
   ]
  },
  {
   "cell_type": "markdown",
   "id": "d9e524a5",
   "metadata": {},
   "source": [
    "### Steering with a neuron"
   ]
  },
  {
   "cell_type": "markdown",
   "id": "9ca9dda9",
   "metadata": {},
   "source": [
    "`convergence_check_with_neuron` plots the mean of the distance between the steered embeddings and a comparison vector (feature embedding) for a range of coefficients."
   ]
  },
  {
   "cell_type": "code",
   "execution_count": null,
   "id": "0cdb1c59",
   "metadata": {},
   "outputs": [],
   "source": [
    "neuron = 69\n",
    "layer_to_steer = 11\n",
    "feature = \"War\"\n",
    "\n",
    "comparison_vector = import_steering_vector_from_pkl('steering_vector.pkl', layer_to_steer=layer_to_steer, feature_name=feature)\n",
    "\n",
    "convergence_check_with_neuron(model, \n",
    "                              encoded_input,\n",
    "                              neuron,\n",
    "                              layer_to_steer, \n",
    "                              comparison_vector, \n",
    "                              feature, \n",
    "                              start_coeff=-100, \n",
    "                              end_coeff=100, \n",
    "                              normalize=True,\n",
    "                              mode='l2', \n",
    "                              derivative=True, \n",
    "                              step_size=1,\n",
    "                              grid=True, \n",
    "                              text_range=(0,100))"
   ]
  },
  {
   "cell_type": "markdown",
   "id": "7b720e9f",
   "metadata": {},
   "source": [
    "## Convergence by category"
   ]
  },
  {
   "cell_type": "markdown",
   "id": "d440bfbf",
   "metadata": {},
   "source": [
    "`convergence_by_category` plots the mean distances from the steered embeddings to the steering vector, for each of the categories given, to see how they change individually. (Steering is done using a steering vector)\n",
    "\n",
    "- `category_column (String)` chooses the column in the data frame to categorize by \n",
    "- `min_count (int)` removed the categories that don't have at least that amount of data points\n",
    "\n",
    "The rest of the parameters are the same as the other convergence plots.  \n",
    " \n",
    "The analysis printed at the end, are given for each category (min, max, positive and negative convergence point)"
   ]
  },
  {
   "cell_type": "code",
   "execution_count": null,
   "id": "f7cf57c5",
   "metadata": {},
   "outputs": [],
   "source": [
    "layer_to_steer = 11\n",
    "feature = \"War\"\n",
    "\n",
    "steering_vector = import_steering_vector_from_pkl('steering_vector.pkl', layer_to_steer=layer_to_steer, feature_name=feature)\n",
    "\n",
    "convergence_by_category(model, \n",
    "                        encoded_input, \n",
    "                        all_texts_data, \n",
    "                        layer_to_steer, \n",
    "                        steering_vector, \n",
    "                        feature, \n",
    "                        category_column='genre', \n",
    "                        start_coeff=-100, \n",
    "                        end_coeff=100, \n",
    "                        normalize=True, \n",
    "                        mode='l2', \n",
    "                        derivative=True, \n",
    "                        step_size=1, \n",
    "                        grid=True, \n",
    "                        text_range=(0,100), \n",
    "                        min_count=5) "
   ]
  },
  {
   "cell_type": "markdown",
   "id": "4529531f",
   "metadata": {},
   "source": [
    "***\n",
    "\n",
    "# Neuron Activations for Categories\n",
    "\n",
    "The following functions are imported from the file `\"Activations_categories.py\"`. They are necessary to analyze how individual neurons are activated in the model when performing steering using a steering vector."
   ]
  },
  {
   "cell_type": "code",
   "execution_count": null,
   "id": "7a4dde74",
   "metadata": {},
   "outputs": [],
   "source": [
    "#from Activations_categories import get_category_activations, plot_category_activations, find_activation_shift, create_neuron_shift_heatmap, plot_change_in_top_shifted_neurons"
   ]
  },
  {
   "cell_type": "markdown",
   "id": "a463bef2",
   "metadata": {},
   "source": [
    "## Setup\n",
    "\n",
    "Before we start analyzing we must prepare everything we need"
   ]
  },
  {
   "cell_type": "code",
   "execution_count": null,
   "id": "4688fd35",
   "metadata": {},
   "outputs": [],
   "source": [
    "# Import the necessasry data\n",
    "data = import_embedding_data_from_pkl(\"Test_export_embeddings.pkl\", model=True, model_output=True, encoded_input=True, all_texts_data=True)\n",
    "model, model_output, encoded_input, all_texts_data = data\n",
    "\n",
    "feature = \"War\"\n",
    "category = \"Action\" # Choose what category to analyze, can be any category in the dataset\n",
    "type = \"cosine\" # Chose what distance measure to use: l1, l2 or cosine\n",
    "layer_to_steer = 10  # Change this to the layer you want to analyze, can not be the last layer. Steering in the next to last layer\n",
    "# will affect the activations of neurons in the last layer.\n",
    "layer_to_plot = 11  # Choose what layer to plot the category activations from\n",
    "\n",
    "steering_coefficient = 10  # Adjust steering coefficient as needed\n",
    "\n",
    "steering_vector = import_steering_vector_from_pkl('steering_vector.pkl', feature_name=feature, layer_to_steer=layer_to_steer)"
   ]
  },
  {
   "cell_type": "markdown",
   "id": "c6ad3fc3",
   "metadata": {},
   "source": [
    "After the Setup we have:\n",
    "- model, model_output, original_embeddings, encoded_input, all_texts_data\n",
    "- feature\n",
    "- category\n",
    "- type\n",
    "- layer_to_steer, layer_to_plot\n",
    "- steering_coefficient\n",
    "- steering_vector"
   ]
  },
  {
   "cell_type": "markdown",
   "id": "ff89e4e5",
   "metadata": {},
   "source": [
    "## Analysis"
   ]
  },
  {
   "cell_type": "markdown",
   "id": "6c1c3a77",
   "metadata": {},
   "source": [
    "### <a id=\"get-category-activations\"></a>Get Category Activations\n",
    "\n",
    "`get_category_activations` calculates the activations for each neuron in a specific layer for a category.\n",
    "- `layer_to_plot` is a layer that comes after the layer that was steered. This is because you will not see the effect on the activations of the neurons in the same layer that you apply the steering."
   ]
  },
  {
   "cell_type": "code",
   "execution_count": null,
   "id": "e58a6995",
   "metadata": {},
   "outputs": [],
   "source": [
    "# Get the category activations for the original model output\n",
    "original_category_activations = get_category_activations(model_output, encoded_input, all_texts_data, layer_index=layer_to_plot)\n",
    "\n",
    "# Create the steered model output\n",
    "steered_model_output = create_steered_model_output(\n",
    "    model, \n",
    "    encoded_input, \n",
    "    layer_to_steer=layer_to_steer, \n",
    "    steering_coefficient=steering_coefficient, \n",
    "    steering_vector=steering_vector\n",
    "    )\n",
    "# Get the category activations for the steered model output\n",
    "steered_category_activations = get_category_activations(steered_model_output, encoded_input, all_texts_data, layer_index=layer_to_plot)"
   ]
  },
  {
   "cell_type": "markdown",
   "id": "2181e4a7",
   "metadata": {},
   "source": [
    "### <a id=\"plot-category-activations\"></a>Plot Category Activations\n",
    "\n",
    "`plot_category_activations` plots the activation values (y-axis) and the neuron index (x-axis) that was calculated from `get_category_activations`\n",
    "- `original_category_activations` are the original activation values for the neurons retrieved from `get_category_activations`\n",
    "- `steered_category_activations` are the steered acitvation values for the neurons retrieved from `get_category_activations`\n",
    "- `category` is what category to retrive the activations for.\n",
    "- `info_string` is what will be displayed in the title of the plot to keep track of the selected parameters for that plot."
   ]
  },
  {
   "cell_type": "code",
   "execution_count": null,
   "id": "fc0211b6",
   "metadata": {},
   "outputs": [],
   "source": [
    "# Plot the category activations for the original model output\n",
    "info_string = f'Category Activations for {category} | Count: {len(all_texts_data[all_texts_data[\"genre\"] == category])} | Layer: {layer_to_plot}'\n",
    "plot_category_activations(original_category_activations, category, info_string)"
   ]
  },
  {
   "cell_type": "code",
   "execution_count": null,
   "id": "94db8b31",
   "metadata": {},
   "outputs": [],
   "source": [
    "# Plot the category activations for the steered model output\n",
    "info_string = f'Category Activations for {category} | Count: {len(all_texts_data[all_texts_data[\"genre\"] == category])} | Layer: {layer_to_plot} | Steering Coefficient: {steering_coefficient} | Steered layer: {layer_to_steer}'\n",
    "plot_category_activations(steered_category_activations, category, info_string)"
   ]
  },
  {
   "cell_type": "markdown",
   "id": "8e7b4de3",
   "metadata": {},
   "source": [
    "### <a id=\"find-activation-shift\"></a>Find Activation Shift\n",
    "\n",
    "Now, we will look at how the activations of neurons shift from the original to the steered acitvations using the \"find_activation_shift\" function. The function can also create a heatmap of the top shifted neurons across categories, if the categories parameter is None\n",
    "\n",
    "`find_activation_shift` creates a printed table of the top shifted neurons (i.e. the neurons that changed the most in activatino value between the steered and original activation).\n",
    "- `original_category_activations` are the original activation values for the neurons retrieved from `get_category_activations`\n",
    "- `steered_category_activations` are the steered acitvation values for the neurons retrieved from `get_category_activations`"
   ]
  },
  {
   "cell_type": "code",
   "execution_count": null,
   "id": "3436d34a",
   "metadata": {},
   "outputs": [],
   "source": [
    "# Example of usage without heatmap for a single category\n",
    "find_activation_shift(original_category_activations, steered_category_activations, category=category, top_n=5);"
   ]
  },
  {
   "cell_type": "markdown",
   "id": "4c38477e",
   "metadata": {},
   "source": [
    "### <a id=\"create-neuron-shift-heatmap\"></a>Create Heatmap\n",
    "\n",
    "`create_neuron_shift_heatmap` will create a heatmap of the neurons that shifted the most across all categories. This helps identify both global and local activations, the heatmap only includes categories with more than 25 titles.\n",
    "- `neuron_shifts` are the shifts calculated from `find_activation_shift`\n",
    "- `all_texts_data` is the dataframe containing all information about the titles, but at least `title`, `genre` and `ovweview`.\n",
    "- `info_string` is what will be displayed in the title of the plot to keep track of the selected parameters for that plot.\n",
    "- `top_n` is how many neurons to have in the heatmap"
   ]
  },
  {
   "cell_type": "code",
   "execution_count": null,
   "id": "3d8adac6",
   "metadata": {},
   "outputs": [],
   "source": [
    "# Example of usage with heatmap for all categories\n",
    "# Get the neuron_shifts for all categories\n",
    "neuron_shifts = find_activation_shift(original_category_activations, steered_category_activations, top_n=5)\n",
    "# Create a heatmap of the top shifted neurons across categories\n",
    "info_string = f\"Neuron Shift Values Across Genres (25+ Movies) | Layer: {layer_to_plot} | Coefficient: {steering_coefficient} | Steered Layer: {layer_to_steer} | Feature: {feature}\"\n",
    "create_neuron_shift_heatmap(neuron_shifts, all_texts_data, info_string=info_string, top_n=20)"
   ]
  },
  {
   "cell_type": "markdown",
   "id": "246ca92d",
   "metadata": {},
   "source": [
    "### <a id=\"plot-change-in-top-shifted-neurons\"></a>Plot Change in Top Shifted Neurons\n",
    "\n",
    "The following function allows us to plot the change in activation for the neurons that were most activated to begin with, as well as those that had the highest shift after the steering was completed.\n",
    "\n",
    "`plot_change_in_top_shifted_neurons` plots the activation for the neurons that were the most activated to begin with, as well as those that had the highest shift after the steering was completed (steering_coefficient, activation_value)\n",
    "- `all_texts_data` is the dataframe containing all information about the titles, but at least `title`, `genre` and `ovweview`.\n",
    "- `layer_to_plot` is a layer that comes after the layer that was steered. This is because you will not see the effect on the activations of the neurons in the same layer that you apply the steering.\n",
    "- `layer_to_steer` is what layer to perform steering on\n",
    "- `category` is what category to analyze activations for\n",
    "- `steering_coefficient_start` is the first steering coefficient (i.e. the beginning of the x-axis)\n",
    "- `steering_coefficient_end` is the last steering coefficient (i.e. the end of the x-axis)\n",
    "- `info_string` is what will be displayed in the title of the plot to keep track of the selected parameters for that plot.\n",
    "- `number_of_steps` are the number of points for which to do the analysis (i.e. the number of steering coefficients to analyze from start to end)\n",
    "- `number_of_neurons` is the maximum amount of neurons to analyze (if there is an overlap between most shifted and most activated there will be fewer neurons)"
   ]
  },
  {
   "cell_type": "code",
   "execution_count": null,
   "id": "b1d9fbde",
   "metadata": {},
   "outputs": [],
   "source": [
    "info_string = f'Individual Neuron Trajectories | {category} | Displayed Layer: {layer_to_plot} | Feature: {feature} | Steered Layer: {layer_to_steer}'\n",
    "plot_change_in_top_shifted_neurons(\n",
    "    model,\n",
    "    model_output,\n",
    "    encoded_input, \n",
    "    all_texts_data,\n",
    "    layer_to_plot,\n",
    "    layer_to_steer, \n",
    "    category, \n",
    "    steering_coefficient_start=0.0, \n",
    "    steering_coefficient_end=6,\n",
    "    steering_vector=steering_vector,\n",
    "    info_string=info_string,\n",
    "    number_of_steps=10, \n",
    "    number_of_neurons=10);\n"
   ]
  },
  {
   "cell_type": "markdown",
   "id": "a0e6abd6",
   "metadata": {},
   "source": [
    "***\n",
    "\n",
    "# Neuron Activations for Tokens and Texts\n",
    "\n",
    "The following functions are imported from the file `\"Activations_tokens_and_texts.py\"`. They are necessary to analyze how individual neurons are activated in the model when performing steering using a steering vector for individual tokens and texts."
   ]
  },
  {
   "cell_type": "code",
   "execution_count": null,
   "id": "b1299601",
   "metadata": {},
   "outputs": [],
   "source": [
    "#from Activations_tokens_and_texts import get_text_activations_per_layer, plot_text_activations_per_layer, compare_text_activations, find_extreme_nodes_for_all_texts, plot_extreme_nodes_for_all_texts"
   ]
  },
  {
   "cell_type": "markdown",
   "id": "cc7ff351",
   "metadata": {},
   "source": [
    "## Setup\n",
    "\n",
    "Before we start analyzing we must prepare everything we need"
   ]
  },
  {
   "cell_type": "code",
   "execution_count": null,
   "id": "c159c2f7",
   "metadata": {},
   "outputs": [],
   "source": [
    "# Import data from pkl file\n",
    "data = import_embedding_data_from_pkl(\n",
    "    \"Test_export_embeddings.pkl\",\n",
    "    model=True, \n",
    "    tokenizer=True, \n",
    "    encoded_input=True, \n",
    "    hidden_states=True, \n",
    "    all_texts_data=True)\n",
    "\n",
    "model, tokenizer, encoded_input, hidden_states, all_texts_data = data  # Unpack in the order they were requested\n",
    "texts = all_texts_data['overview'].tolist()[:100]  # Use the overview column for text data and choose how many texts to analyze\n",
    "\n",
    "feature = \"War\"\n",
    "layer_to_steer = 10 # Can not be last layer, should be next to last layer\n",
    "steering_coefficient = 10\n",
    "steering_vector = import_steering_vector_from_pkl('steering_vector.pkl', feature, layer_to_steer=layer_to_steer)\n",
    "\n",
    "steered_model_output = create_steered_model_output(model, encoded_input, layer_to_steer, steering_coefficient, steering_vector, verbose=False)\n",
    "steered_hidden_states = steered_model_output.hidden_states"
   ]
  },
  {
   "cell_type": "markdown",
   "id": "3a01b7a8",
   "metadata": {},
   "source": [
    "After the Setup we have:\n",
    "- tokenizer, encoded_input, hidden_states, all_texts_data\n",
    "- texst\n",
    "- feature\n",
    "- layer_to_steer\n",
    "- steering_coefficient\n",
    "- steering_vector\n",
    "- steered_model_output\n",
    "- steered_hidden_states"
   ]
  },
  {
   "cell_type": "markdown",
   "id": "89e158a2",
   "metadata": {},
   "source": [
    "### Get Text Activations\n",
    "\n",
    "`get_text_activations_per_layer` retrives the neuron activations for all texts for all layers and returns them as a list"
   ]
  },
  {
   "cell_type": "code",
   "execution_count": null,
   "id": "02fc2be2",
   "metadata": {},
   "outputs": [],
   "source": [
    "text_activations = get_text_activations_per_layer(hidden_states, encoded_input['attention_mask'])\n",
    "\n",
    "# Also create steered text activations\n",
    "steered_text_activations = get_text_activations_per_layer(steered_hidden_states, encoded_input['attention_mask'])"
   ]
  },
  {
   "cell_type": "markdown",
   "id": "21e25c06",
   "metadata": {},
   "source": [
    "### Plot Text Activations\n",
    "\n",
    "`plot_text_activations_per_layer` creates a plot of the activatinos from `get_text_activations_per_layer`\n",
    "-  `text_activations` is the list of activation values from `get_text_activations_per_layer`\n",
    "- `layers` are what layers do display. Can be either `None`, `int`, `tuple` or `list` for all, one or multiple layers to be displayed\n",
    "- `text_index` is what text index to plot the activation values for"
   ]
  },
  {
   "cell_type": "code",
   "execution_count": null,
   "id": "3f24c750",
   "metadata": {},
   "outputs": [],
   "source": [
    "text_index = 0  # Index of the text to plot activations for\n",
    "info_string = f'Text Activations for \"{texts[text_index]}\"'\n",
    "\n",
    "plot_text_activations_per_layer(text_activations, all_texts_data, layers=(0, 11), text_index=text_index)\n",
    "\n",
    "plot_text_activations_per_layer(steered_text_activations, all_texts_data, layers=(0, 11), text_index=text_index)"
   ]
  },
  {
   "cell_type": "markdown",
   "id": "4b8936de",
   "metadata": {},
   "source": [
    "### Compare Text Activations\n",
    "\n",
    "`compare_text_activations` plots two text activation plots on top of each other for comparison\n",
    "- `text_activations` is the list of activation values from `get_text_activations_per_layer`\n",
    "- `text_indices` are the indexes of the two texts you want to compare (text_index_1, text_index_2)\n",
    "- `layers` are what layers do display. Can be either `None`, `int`, `tuple` or `list` for all, one or multiple layers to be displaye"
   ]
  },
  {
   "cell_type": "code",
   "execution_count": null,
   "id": "287a17b5",
   "metadata": {},
   "outputs": [],
   "source": [
    "compare_text_activations(text_activations, all_texts_data, text_indices=(0, 1), layers=(0, 11))  # Compare activations for the first two texts\n",
    "\n",
    "# Also compare the steered text activations\n",
    "compare_text_activations(steered_text_activations, all_texts_data, text_indices=(0, 1), layers=(0, 11))"
   ]
  },
  {
   "cell_type": "markdown",
   "id": "f18f73b0",
   "metadata": {},
   "source": [
    "### Find Extreme Nodes\n",
    "\n",
    "`find_extreme_nodes` returns the most and least activated neurons for all texts\n",
    "- `layer` is what layer to find the extreme neurons for"
   ]
  },
  {
   "cell_type": "code",
   "execution_count": null,
   "id": "37f74a5f",
   "metadata": {},
   "outputs": [],
   "source": [
    "min_nodes, max_nodes = find_extreme_nodes_for_all_texts(texts, text_activations, all_texts_data, layer=11)  # Find extreme nodes for all texts in layer 11\n",
    "steered_min_nodes, steered_max_nodes = find_extreme_nodes_for_all_texts(texts, steered_text_activations, all_texts_data, layer=11);  # Find extreme nodes for all texts in steered layer 11"
   ]
  },
  {
   "cell_type": "markdown",
   "id": "a564912c",
   "metadata": {},
   "source": [
    "### Plot Extreme Nodes\n",
    "\n",
    "`plot_extreme_nodes_for_all_texts` plots the neurons we found in `find_extreme_nodes_for_all_texts` with (neuron index, text index)\n",
    "- `min_nodes` is a list of the indexes of the least activated neurons, retrieved from `find_extreme_nodes_for_all_texts`\n",
    "- `max_nodes` is a list of the indexes of the most activated neurons, retrieved from `find_extreme_nodes_for_all_texts`"
   ]
  },
  {
   "cell_type": "code",
   "execution_count": null,
   "id": "51469d4f",
   "metadata": {},
   "outputs": [],
   "source": [
    "plot_extreme_nodes_for_all_texts(min_nodes, max_nodes, layer=11)  # Plot extreme nodes for all texts in layer 11\n",
    "plot_extreme_nodes_for_all_texts(steered_min_nodes, steered_max_nodes, layer=11)  # Plot extreme nodes for all texts in steered layer 11"
   ]
  }
 ],
 "metadata": {
  "kernelspec": {
   "display_name": "embed",
   "language": "python",
   "name": "python3"
  },
  "language_info": {
   "codemirror_mode": {
    "name": "ipython",
    "version": 3
   },
   "file_extension": ".py",
   "mimetype": "text/x-python",
   "name": "python",
   "nbconvert_exporter": "python",
   "pygments_lexer": "ipython3",
   "version": "3.12.11"
  }
 },
 "nbformat": 4,
 "nbformat_minor": 5
}
