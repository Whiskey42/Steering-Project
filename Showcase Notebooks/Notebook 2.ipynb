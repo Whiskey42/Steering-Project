{
 "cells": [
  {
   "cell_type": "markdown",
   "metadata": {
    "id": "95wuBDQVrPuc"
   },
   "source": [
    "# Notebook 2 – Plotting the steered embeddings\n",
    "\n",
    "***"
   ]
  },
  {
   "cell_type": "markdown",
   "metadata": {
    "id": "frmLvBVDrPuf"
   },
   "source": [
    "In this notebook we will showcase how to plot the steered embeddings in different ways:\n",
    "\n",
    "1. [PCA projections](#pca)\n",
    "2. [t-SNE projections](#t-sne)\n",
    "3. [Plot with steering vector as x-axis](#plot-with-steering-vector-as-x-axis)\n",
    "4. [Plot with two vectors as axes](#plot-with-two-vectors-as-axes)"
   ]
  },
  {
   "cell_type": "code",
   "execution_count": 1,
   "metadata": {
    "id": "bRt87ufyrPug"
   },
   "outputs": [],
   "source": [
    "# Append the path to the Functions directory\n",
    "\n",
    "import sys\n",
    "sys.path.append('../Functions')\n",
    "sys.path.append('../Features')"
   ]
  },
  {
   "cell_type": "markdown",
   "metadata": {
    "id": "8LAjdO25rPuh"
   },
   "source": [
    "## Functions used in this Notebook:\n",
    "\n",
    "### From \"PCA\":\n",
    "- [plot_pca_fixed_kmeans](#pca) - Plot steered embeddings using PCA and K-Means\n",
    "- [plot_pca_labeled_projection](#pca) - Plot steered embeddings only using PCA\n",
    "\n",
    "### From \"tsne\":\n",
    "- [plot_tsne_fixed_kmeans](#t-sne) - Plot steered embeddings using t-SNE and K-Means\n",
    "\n",
    "### From \"Plot_with_vector\":\n",
    "- [plot_distance_projection](#plot-with-steering-vector-as-x-axis) - Plot with steering vector as x-axis\n",
    "- [plot_2D_distance_projection ](#plot-with-two-vectors-as-axes) - Plot with two vectors as axes\n",
    "\n",
    "### Other functions:\n",
    "- [import_embedding_data_from_pkl](#importing-python-functions-and-data) - Import embedding data from pickle file\n",
    "- [get_steered_embeddings_vector](#get-steering-vector-and-steered-embeddings) - Apply steering using semantic vector\n",
    "- [get_steered_embeddings_neuron](#get-steering-vector-and-steered-embeddings) - Apply steering using specific neurons\n",
    "- [import_steering_vector_from_pkl](#get-steering-vector-and-steered-embeddings) - Load steering vector from file"
   ]
  },
  {
   "cell_type": "markdown",
   "metadata": {
    "id": "TYyC4yp7rPuh"
   },
   "source": [
    "***\n",
    "\n",
    "## Importing python functions and data\n",
    "\n",
    "This first cell imports all the necessary functions and data from other python files"
   ]
  },
  {
   "cell_type": "code",
   "execution_count": 2,
   "metadata": {
    "id": "DfQUoXGlrPui"
   },
   "outputs": [],
   "source": [
    "from Embeddings import import_embedding_data_from_pkl\n",
    "from Steering import get_steered_embeddings_vector, get_steered_embeddings_neuron\n",
    "from Steering_vector import import_steering_vector_from_pkl\n",
    "from PCA import plot_pca_fixed_kmeans, plot_pca_labeled_projection\n",
    "from tsne import plot_tsne_fixed_kmeans\n",
    "from Plot_with_vector import plot_distance_projection, plot_2D_distance_projection"
   ]
  },
  {
   "cell_type": "code",
   "execution_count": 3,
   "metadata": {
    "id": "f05pm81GrPui",
    "outputId": "68044eec-de64-4569-c879-6960dc3314dd"
   },
   "outputs": [
    {
     "name": "stdout",
     "output_type": "stream",
     "text": [
      "Importing 1.36 GB data from file Test_export_embeddings.pkl...\n",
      "Data imported from Test_export_embeddings.pkl\n",
      "Model loaded successfully.\n",
      "Embeddings loaded successfully.\n",
      "Encoded input loaded successfully.\n",
      "All texts data loaded successfully.\n"
     ]
    }
   ],
   "source": [
    "data = import_embedding_data_from_pkl('Test_export_embeddings.pkl', model=True, embeddings=True, encoded_input=True, all_texts_data=True)\n",
    "model, original_embeddings, encoded_input, all_texts_data = data"
   ]
  },
  {
   "cell_type": "markdown",
   "metadata": {
    "id": "65HEgvMNrPuj"
   },
   "source": [
    "## Set the layer, coefficient, feature, and neuron\n",
    "\n",
    "This sets the layer, steering coefficient, feature, neuron and normalization for the PCA and t-SNE plots  \n",
    "  \n",
    "If you want to steer using a *steering vector*, you need to set:\n",
    "- feature\n",
    "  \n",
    "To steer using a specific *neuron*, you need to set:\n",
    "- neuron"
   ]
  },
  {
   "cell_type": "code",
   "execution_count": 4,
   "metadata": {
    "id": "arwemzD_rPuj"
   },
   "outputs": [],
   "source": [
    "layer_to_steer = 11\n",
    "steering_coefficient = 2\n",
    "feature = \"War\"\n",
    "neuron = 250\n",
    "normalize = True"
   ]
  },
  {
   "cell_type": "markdown",
   "metadata": {
    "id": "Hd4xPmLUrPuj"
   },
   "source": [
    "## Get steering vector and steered embeddings\n",
    "\n",
    "Run the cell below depending on the desired steering method (*vector* or *neuron*)"
   ]
  },
  {
   "cell_type": "code",
   "execution_count": 5,
   "metadata": {
    "id": "nqipyyv4rPuj",
    "outputId": "b667e5f8-565f-4505-d5e0-aaf76b267941"
   },
   "outputs": [
    {
     "name": "stdout",
     "output_type": "stream",
     "text": [
      "Steering vectors imported from steering_vector.pkl\n",
      "Available steering vectors: 'War' (layers: [10, 11]), 'Norway' (layers: [11]), 'Love' (layers: [11])\n",
      "Returning steering vector for 'War' layer 11\n",
      "Created steered model output with shape: torch.Size([1000, 66, 384])\n",
      "Created steered embeddings with shape: torch.Size([1000, 384])\n"
     ]
    }
   ],
   "source": [
    "# STEERING WITH VECTOR\n",
    "\n",
    "info_string = f\"| Layer: {layer_to_steer} | Feature: {feature} | Steering: {steering_coefficient}\" # Vector steering\n",
    "\n",
    "steering_vector = import_steering_vector_from_pkl('steering_vector.pkl', layer_to_steer=layer_to_steer, feature_name=feature)\n",
    "\n",
    "steered_embeddings = get_steered_embeddings_vector(model, encoded_input, layer_to_steer, steering_coefficient, steering_vector, normalize=normalize)\n"
   ]
  },
  {
   "cell_type": "code",
   "execution_count": 6,
   "metadata": {
    "id": "69XONwyBrPuk",
    "outputId": "f71aeda1-4e8c-4769-aac2-03e054635062"
   },
   "outputs": [
    {
     "data": {
      "text/plain": [
       "'\\n# STEERING WITH NEURON\\n\\ninfo_string = f\"| Layer: {layer_to_steer} | Neuron: {neuron} | Steering: {steering_coefficient}\" # Neuron steering\\n\\nsteering_vector = None\\n\\nsteered_embeddings = get_steered_embeddings_neuron(model, encoded_input, layer_to_steer, neuron, steering_coefficient, normalize=normalize)\\n'"
      ]
     },
     "execution_count": 6,
     "metadata": {},
     "output_type": "execute_result"
    }
   ],
   "source": [
    "'''\n",
    "# STEERING WITH NEURON\n",
    "\n",
    "info_string = f\"| Layer: {layer_to_steer} | Neuron: {neuron} | Steering: {steering_coefficient}\" # Neuron steering\n",
    "\n",
    "steering_vector = None\n",
    "\n",
    "steered_embeddings = get_steered_embeddings_neuron(model, encoded_input, layer_to_steer, neuron, steering_coefficient, normalize=normalize)\n",
    "'''"
   ]
  },
  {
   "cell_type": "markdown",
   "metadata": {
    "id": "KTZg1IM0rPuk"
   },
   "source": [
    "## Checkpoint\n",
    "This cell will verify that everything has gone accodring to plan"
   ]
  },
  {
   "cell_type": "code",
   "execution_count": 7,
   "metadata": {
    "id": "o1yR_p2CrPuk",
    "outputId": "6c8d854c-929b-49f7-ac9a-4c6f53cc1dd3"
   },
   "outputs": [
    {
     "name": "stdout",
     "output_type": "stream",
     "text": [
      "============================================================\n",
      "📋 PLOTTING DATA CHECKPOINT\n",
      "============================================================\n",
      "✅ Original embeddings loaded: torch.Size([1000, 384])\n",
      "✅ Model and encoded input available\n",
      "✅ Text data loaded: 1000 items\n",
      "✅ Layer to steer: 11\n",
      "✅ Steering coefficient: 2\n",
      "✅ Normalization: True\n",
      "✅ Steering method: Vector-based (feature: War)\n",
      "✅ Steering vector shape: torch.Size([384])\n",
      "✅ Info string: | Layer: 11 | Feature: War | Steering: 2\n",
      "✅ Steered embeddings created: torch.Size([1000, 384])\n",
      "✅ Original sample: [-0.06406020373106003, 0.055750492960214615, -0.051509786397218704]\n",
      "✅ Steered sample: [-0.07531613111495972, 0.05252855271100998, -0.09348367899656296]\n",
      "✅ Steering effect magnitude: 0.0436\n",
      "\n",
      "💡 Next Steps:\n",
      "1. Try steering with a different steering vector\n",
      "2. Experiment with different steering coefficients\n",
      "3. Experiment with different layers or neurons\n",
      "4. Experiment with normalization options\n",
      "============================================================\n",
      "🎯 CHECKPOINT PASSED - Ready for plotting!\n",
      "📊 Available plots: PCA, t-SNE, Distance projections\n",
      "============================================================\n"
     ]
    }
   ],
   "source": [
    "# 🎯 CHECKPOINT: Data Preparation for Plotting\n",
    "print(\"=\"*60)\n",
    "print(\"📋 PLOTTING DATA CHECKPOINT\")\n",
    "print(\"=\"*60)\n",
    "\n",
    "try:\n",
    "    # Verify data import\n",
    "    print(f\"✅ Original embeddings loaded: {original_embeddings.shape}\")\n",
    "    if model is not None and encoded_input is not None:\n",
    "        print(f\"✅ Model and encoded input available\")\n",
    "    print(f\"✅ Text data loaded: {len(all_texts_data)} items\")\n",
    "\n",
    "    # Verify steering parameters\n",
    "    print(f\"✅ Layer to steer: {layer_to_steer}\")\n",
    "    print(f\"✅ Steering coefficient: {steering_coefficient}\")\n",
    "    print(f\"✅ Normalization: {normalize}\")\n",
    "\n",
    "    # Check which steering method was used\n",
    "    if 'steering_vector' in locals() and steering_vector is not None:\n",
    "        print(f\"✅ Steering method: Vector-based (feature: {feature})\")\n",
    "        print(f\"✅ Steering vector shape: {steering_vector.shape}\")\n",
    "        print(f\"✅ Info string: {info_string}\")\n",
    "    else:\n",
    "        print(f\"✅ Steering method: Neuron-based (neuron: {neuron})\")\n",
    "        print(f\"✅ Info string: {info_string}\")\n",
    "\n",
    "    # Verify steered embeddings\n",
    "    print(f\"✅ Steered embeddings created: {steered_embeddings.shape}\")\n",
    "\n",
    "    # Compare original vs steered (sample)\n",
    "    import torch\n",
    "    original_sample = original_embeddings[0][:3]\n",
    "    steered_sample = steered_embeddings[0][:3]\n",
    "    difference = torch.norm(steered_sample - original_sample)\n",
    "\n",
    "    print(f\"✅ Original sample: {original_sample.tolist()}\")\n",
    "    print(f\"✅ Steered sample: {steered_sample.tolist()}\")\n",
    "    print(f\"✅ Steering effect magnitude: {difference:.4f}\")\n",
    "\n",
    "    print(\"\\n💡 Next Steps:\")\n",
    "    print(\"1. Try steering with a different steering vector\")\n",
    "    print(\"2. Experiment with different steering coefficients\")\n",
    "    print(\"3. Experiment with different layers or neurons\")\n",
    "    print(\"4. Experiment with normalization options\")\n",
    "    \n",
    "    print(\"=\"*60)\n",
    "    print(\"🎯 CHECKPOINT PASSED - Ready for plotting!\")\n",
    "    print(\"📊 Available plots: PCA, t-SNE, Distance projections\")\n",
    "    print(\"=\"*60)\n",
    "\n",
    "except Exception as e:\n",
    "    print(\"❌ CHECKPOINT FAILED\")\n",
    "    print(f\"💥 Error: {str(e)}\")\n",
    "    print(\"🔧 Please check previous cells and ensure either vector or neuron steering was run\")\n",
    "    print(\"💡 Tip: Make sure to run either the vector steering cell OR the neuron steering cell\")"
   ]
  },
  {
   "cell_type": "markdown",
   "metadata": {
    "id": "BzWPwBDErPuk"
   },
   "source": [
    "***\n",
    "\n",
    "## PCA"
   ]
  },
  {
   "cell_type": "markdown",
   "metadata": {
    "id": "FP-51WacrPuk"
   },
   "source": [
    "**PCA (Principle Component Analysis):** A statistical method of dimentionality reduction that aims to retain the most important information. The data is transformed onto a new coordinate system, where the the directions (principal components) capture the largest variations within the data points."
   ]
  },
  {
   "cell_type": "markdown",
   "metadata": {
    "id": "R2nvkCdYrPul"
   },
   "source": [
    "`plot_pca_fixed_kmeans` plots the original and steered embeddings in the same plot, and uses K-Means to find clusters unsupervised.  \n",
    "\n",
    "- `text_range` selects the given slice of texts from the input, writing `None` here means that **all** texts are plotted, which can be time consuming, can appear messy on the plot, and the hover data can disappear\n",
    "- `projected=True` fits PCA only on original embeddings and transforms the steered embeddings onto the same principal components, `=False` plots the combined embeddings onto shared principal components\n",
    "- `Write=True` creates a .html file with the plot, including the hover data"
   ]
  },
  {
   "cell_type": "code",
   "execution_count": 8,
   "metadata": {
    "id": "SH4nkc4JrPul",
    "outputId": "8ba71d0c-2b5d-473a-bd41-9f0e6ea9a0dd"
   },
   "outputs": [
    {
     "name": "stdout",
     "output_type": "stream",
     "text": [
      "Did kmeans clustering with 5 clusters\n"
     ]
    },
    {
     "data": {
      "application/vnd.plotly.v1+json": {
       "config": {
        "plotlyServerURL": "https://plot.ly"
       },
       "data": [
        {
         "customdata": [
          [
           "4",
           "Original"
          ],
          [
           "4",
           "Original"
          ],
          [
           "4",
           "Original"
          ],
          [
           "4",
           "Original"
          ],
          [
           "4",
           "Original"
          ],
          [
           "4",
           "Original"
          ],
          [
           "4",
           "Original"
          ],
          [
           "4",
           "Original"
          ],
          [
           "4",
           "Original"
          ],
          [
           "4",
           "Original"
          ],
          [
           "4",
           "Original"
          ],
          [
           "4",
           "Original"
          ],
          [
           "4",
           "Original"
          ],
          [
           "4",
           "Original"
          ],
          [
           "4",
           "Original"
          ],
          [
           "4",
           "Original"
          ],
          [
           "4",
           "Original"
          ],
          [
           "4",
           "Original"
          ],
          [
           "4",
           "Original"
          ],
          [
           "4",
           "Original"
          ],
          [
           "4",
           "Original"
          ],
          [
           "4",
           "Original"
          ],
          [
           "4",
           "Original"
          ],
          [
           "4",
           "Original"
          ],
          [
           "4",
           "Original"
          ],
          [
           "4",
           "Original"
          ],
          [
           "4",
           "Original"
          ],
          [
           "4",
           "Original"
          ],
          [
           "4",
           "Original"
          ],
          [
           "4",
           "Original"
          ]
         ],
         "hovertemplate": "<b>%{hovertext}</b><br><br>Cluster=%{customdata[0]}<br>Type=%{customdata[1]}<br>PCA 1=%{x:.3f}<br>PCA 2=%{y:.3f}<extra></extra>",
         "hovertext": [
          "Original | The Shawshank Redemption | Drama",
          "Original | The Godfather | Crime",
          "Original | The Godfather: Part II | Drama",
          "Original | Pulp Fiction | Crime",
          "Original | Forrest Gump | Romance",
          "Original | Goodfellas | Biography",
          "Original | Hamilton | Biography",
          "Original | Gisaengchung | Drama",
          "Original | Saving Private Ryan | War",
          "Original | The Silence of the Lambs | Crime",
          "Original | Shichinin no samurai | Adventure",
          "Original | The Intouchables | Biography",
          "Original | Gladiator | Drama",
          "Original | American History X | Drama",
          "Original | Léon | Crime",
          "Original | The Lion King | Drama",
          "Original | Hotaru no haka | War",
          "Original | Psycho | Thriller",
          "Original | Modern Times | Drama",
          "Original | Dangal | Biography",
          "Original | Coco | Family",
          "Original | Django Unchained | Western",
          "Original | The Dark Knight Rises | Adventure",
          "Original | Oldeuboi | Mystery",
          "Original | Once Upon a Time in America | Crime",
          "Original | Raiders of the Lost Ark | Adventure",
          "Original | Apocalypse Now | War",
          "Original | Tengoku to jigoku | Crime",
          "Original | The Great Dictator | War",
          "Original | Drishyam | Crime"
         ],
         "legendgroup": "4, Original",
         "marker": {
          "color": "rgb(228,26,28)",
          "symbol": "circle"
         },
         "mode": "markers",
         "name": "4, Original",
         "opacity": 0.3,
         "orientation": "v",
         "showlegend": true,
         "type": "scatter",
         "x": {
          "bdata": "IQrsPBK0Rb0B0mS+a8pJvJhWJL544Su+qdmovAAvpL3kTtI+sWQFPX3Dgj6e9WW+860BPpbp8r2f75e8kFQGPeAhTj3CneC8OnDTvSpnoD0bJyO+fdMgvTbdMz0/d9k9gqigvta5+T3wMVA+IAHLvWLfPT2HtBi+",
          "dtype": "f4"
         },
         "xaxis": "x",
         "y": {
          "bdata": "CD8Kvp2DDL5wK9y9KQCMvrOUDj37ogW+5B2DvTQDSj7rqTu+yIvIvsfIv731tqw9QZ2CvuAg7r2muMg9dNvFPQuvOj67zxG+rQz4PTDRrD08JEM+tqRovpxD0b2/S6m9FZoEvqPOET1uN5S+lJhTvkZSuruRM0u+",
          "dtype": "f4"
         },
         "yaxis": "y"
        },
        {
         "customdata": [
          [
           "4",
           "Steered"
          ],
          [
           "4",
           "Steered"
          ],
          [
           "4",
           "Steered"
          ],
          [
           "4",
           "Steered"
          ],
          [
           "4",
           "Steered"
          ],
          [
           "4",
           "Steered"
          ],
          [
           "4",
           "Steered"
          ],
          [
           "4",
           "Steered"
          ],
          [
           "4",
           "Steered"
          ],
          [
           "4",
           "Steered"
          ],
          [
           "4",
           "Steered"
          ],
          [
           "4",
           "Steered"
          ],
          [
           "4",
           "Steered"
          ],
          [
           "4",
           "Steered"
          ],
          [
           "4",
           "Steered"
          ],
          [
           "4",
           "Steered"
          ],
          [
           "4",
           "Steered"
          ],
          [
           "4",
           "Steered"
          ],
          [
           "4",
           "Steered"
          ],
          [
           "4",
           "Steered"
          ],
          [
           "4",
           "Steered"
          ],
          [
           "4",
           "Steered"
          ],
          [
           "4",
           "Steered"
          ],
          [
           "4",
           "Steered"
          ],
          [
           "4",
           "Steered"
          ],
          [
           "4",
           "Steered"
          ],
          [
           "4",
           "Steered"
          ],
          [
           "4",
           "Steered"
          ],
          [
           "4",
           "Steered"
          ],
          [
           "4",
           "Steered"
          ]
         ],
         "hovertemplate": "<b>%{hovertext}</b><br><br>Cluster=%{customdata[0]}<br>Type=%{customdata[1]}<br>PCA 1=%{x:.3f}<br>PCA 2=%{y:.3f}<extra></extra>",
         "hovertext": [
          "Steered | The Shawshank Redemption | Drama",
          "Steered | The Godfather | Crime",
          "Steered | The Godfather: Part II | Drama",
          "Steered | Pulp Fiction | Crime",
          "Steered | Forrest Gump | Romance",
          "Steered | Goodfellas | Biography",
          "Steered | Hamilton | Biography",
          "Steered | Gisaengchung | Drama",
          "Steered | Saving Private Ryan | War",
          "Steered | The Silence of the Lambs | Crime",
          "Steered | Shichinin no samurai | Adventure",
          "Steered | The Intouchables | Biography",
          "Steered | Gladiator | Drama",
          "Steered | American History X | Drama",
          "Steered | Léon | Crime",
          "Steered | The Lion King | Drama",
          "Steered | Hotaru no haka | War",
          "Steered | Psycho | Thriller",
          "Steered | Modern Times | Drama",
          "Steered | Dangal | Biography",
          "Steered | Coco | Family",
          "Steered | Django Unchained | Western",
          "Steered | The Dark Knight Rises | Adventure",
          "Steered | Oldeuboi | Mystery",
          "Steered | Once Upon a Time in America | Crime",
          "Steered | Raiders of the Lost Ark | Adventure",
          "Steered | Apocalypse Now | War",
          "Steered | Tengoku to jigoku | Crime",
          "Steered | The Great Dictator | War",
          "Steered | Drishyam | Crime"
         ],
         "legendgroup": "4, Steered",
         "marker": {
          "color": "rgb(228,26,28)",
          "symbol": "diamond"
         },
         "mode": "markers",
         "name": "4, Steered",
         "opacity": 1,
         "orientation": "v",
         "showlegend": true,
         "type": "scatter",
         "x": {
          "bdata": "Y3JOPgSF5z0gWre7Cys3PrXjmT3CU+88KNYyPiAy2T2Vr/0+qK5ZPs2RvT74kwE8rkCKPjojtD0NPUM+sHJIPrDwTT62njw+xa6oPWJbhT6kKiU9QVYJPgQwYD7Zy4Y+bMOdvWgtmT6T8Kc++5m8PcQgYj50iPw8",
          "dtype": "f4"
         },
         "xaxis": "x",
         "y": {
          "bdata": "b6KJvqaShL7CL4q+eXrHvgFaH77L0Y6+0r9qvnoUoTzg14++MrrovuLeUr6AuNi9MGe1vqzpe770PMK93PRwvXLq2jyqgpm+asFDvaasv70gwOc7vRCyvnwmdL6Mblq++eOWvqC6C74Qkru+YAapvjrGJL5bHJ6+",
          "dtype": "f4"
         },
         "yaxis": "y"
        },
        {
         "customdata": [
          [
           "1",
           "Original"
          ],
          [
           "1",
           "Original"
          ],
          [
           "1",
           "Original"
          ],
          [
           "1",
           "Original"
          ],
          [
           "1",
           "Original"
          ],
          [
           "1",
           "Original"
          ],
          [
           "1",
           "Original"
          ],
          [
           "1",
           "Original"
          ],
          [
           "1",
           "Original"
          ],
          [
           "1",
           "Original"
          ],
          [
           "1",
           "Original"
          ],
          [
           "1",
           "Original"
          ],
          [
           "1",
           "Original"
          ],
          [
           "1",
           "Original"
          ],
          [
           "1",
           "Original"
          ],
          [
           "1",
           "Original"
          ],
          [
           "1",
           "Original"
          ],
          [
           "1",
           "Original"
          ],
          [
           "1",
           "Original"
          ],
          [
           "1",
           "Original"
          ],
          [
           "1",
           "Original"
          ],
          [
           "1",
           "Original"
          ],
          [
           "1",
           "Original"
          ],
          [
           "1",
           "Original"
          ]
         ],
         "hovertemplate": "<b>%{hovertext}</b><br><br>Cluster=%{customdata[0]}<br>Type=%{customdata[1]}<br>PCA 1=%{x:.3f}<br>PCA 2=%{y:.3f}<extra></extra>",
         "hovertext": [
          "Original | The Dark Knight | Crime",
          "Original | One Flew Over the Cuckoo's Nest | Drama",
          "Original | Cidade de Deus | Crime",
          "Original | Sen to Chihiro no kamikakushi | Adventure",
          "Original | La vita è bella | Comedy",
          "Original | Seppuku | Mystery",
          "Original | Joker | Crime",
          "Original | Terminator 2: Judgment Day | Sci-Fi",
          "Original | Nuovo Cinema Paradiso | Romance",
          "Original | Casablanca | Romance",
          "Original | Capharnaüm | Drama",
          "Original | Ayla: The Daughter of War | Biography",
          "Original | 3 Idiots | Comedy",
          "Original | The Shining | Horror",
          "Original | Dr. Strangelove or: How I Learned to Stop Worrying and Love the Bomb | Comedy",
          "Original | Sunset Blvd. | Film-Noir",
          "Original | Jagten | Drama",
          "Original | Jodaeiye Nader az Simin | Drama",
          "Original | Incendies | Mystery",
          "Original | Miracle in cell NO.7 | Drama",
          "Original | Babam ve Oglum | Family",
          "Original | Eternal Sunshine of the Spotless Mind | Romance",
          "Original | Requiem for a Dream | Drama",
          "Original | American Beauty | Drama"
         ],
         "legendgroup": "1, Original",
         "marker": {
          "color": "rgb(55,126,184)",
          "symbol": "circle"
         },
         "mode": "markers",
         "name": "1, Original",
         "opacity": 0.3,
         "orientation": "v",
         "showlegend": true,
         "type": "scatter",
         "x": {
          "bdata": "zhRGPcEuMb60HC29VdmivP/+cb6iLAg8sDinvaoVgLxGFJq+1PA5vmzIZb78Jra8vxgGvipiKb6yxS0+/VVevsB1oL5QJZe+27qFvLKKVr6XtJW9Kdkmvminqbsnaai+",
          "dtype": "f4"
         },
         "xaxis": "x",
         "y": {
          "bdata": "H+A8vj/Fbb5DXVM+9Ka2PrpD2zz1a/M9AI4LvjRJuztq0pU+UF8bOmQA4b1Jupu8bB5zPiLgoj0CpvK9C2onPtMoGD7nBdI+sbvLPkt/ij0bfBM9sm9QPuYyTj49Wn8+",
          "dtype": "f4"
         },
         "yaxis": "y"
        },
        {
         "customdata": [
          [
           "1",
           "Steered"
          ],
          [
           "1",
           "Steered"
          ],
          [
           "1",
           "Steered"
          ],
          [
           "1",
           "Steered"
          ],
          [
           "1",
           "Steered"
          ],
          [
           "1",
           "Steered"
          ],
          [
           "1",
           "Steered"
          ],
          [
           "1",
           "Steered"
          ],
          [
           "1",
           "Steered"
          ],
          [
           "1",
           "Steered"
          ],
          [
           "1",
           "Steered"
          ],
          [
           "1",
           "Steered"
          ],
          [
           "1",
           "Steered"
          ],
          [
           "1",
           "Steered"
          ],
          [
           "1",
           "Steered"
          ],
          [
           "1",
           "Steered"
          ],
          [
           "1",
           "Steered"
          ],
          [
           "1",
           "Steered"
          ],
          [
           "1",
           "Steered"
          ],
          [
           "1",
           "Steered"
          ],
          [
           "1",
           "Steered"
          ],
          [
           "1",
           "Steered"
          ],
          [
           "1",
           "Steered"
          ],
          [
           "1",
           "Steered"
          ]
         ],
         "hovertemplate": "<b>%{hovertext}</b><br><br>Cluster=%{customdata[0]}<br>Type=%{customdata[1]}<br>PCA 1=%{x:.3f}<br>PCA 2=%{y:.3f}<extra></extra>",
         "hovertext": [
          "Steered | The Dark Knight | Crime",
          "Steered | One Flew Over the Cuckoo's Nest | Drama",
          "Steered | Cidade de Deus | Crime",
          "Steered | Sen to Chihiro no kamikakushi | Adventure",
          "Steered | La vita è bella | Comedy",
          "Steered | Seppuku | Mystery",
          "Steered | Joker | Crime",
          "Steered | Terminator 2: Judgment Day | Sci-Fi",
          "Steered | Nuovo Cinema Paradiso | Romance",
          "Steered | Casablanca | Romance",
          "Steered | Capharnaüm | Drama",
          "Steered | Ayla: The Daughter of War | Biography",
          "Steered | 3 Idiots | Comedy",
          "Steered | The Shining | Horror",
          "Steered | Dr. Strangelove or: How I Learned to Stop Worrying and Love the Bomb | Comedy",
          "Steered | Sunset Blvd. | Film-Noir",
          "Steered | Jagten | Drama",
          "Steered | Jodaeiye Nader az Simin | Drama",
          "Steered | Incendies | Mystery",
          "Steered | Miracle in cell NO.7 | Drama",
          "Steered | Babam ve Oglum | Family",
          "Steered | Eternal Sunshine of the Spotless Mind | Romance",
          "Steered | Requiem for a Dream | Drama",
          "Steered | American Beauty | Drama"
         ],
         "legendgroup": "1, Steered",
         "marker": {
          "color": "rgb(55,126,184)",
          "symbol": "diamond"
         },
         "mode": "markers",
         "name": "1, Steered",
         "opacity": 1,
         "orientation": "v",
         "showlegend": true,
         "type": "scatter",
         "x": {
          "bdata": "06trPlRc/Ty83h0+ktxFPgADxDqGbV4+AwkWPpY9IT4Woa+9vopjPeDhT7xY2kc+xokHPqOdhD2yoaA+mH0SvExo8bxQlVi9+J8ZPt4fhzxJNr89yHbYPPdvJj7aCL69",
          "dtype": "f4"
         },
         "xaxis": "x",
         "y": {
          "bdata": "slCbvlRetr4QDXc8F2wNPsMIIr6y66O98WOWvrXeC76QYbQ9WvQ8vvnOhL4mHkK+EFU5vCyA4b2KvHO+NIqFvMLIpL2WijY+iSdiPpra6b28gdu9AJ35PIe2Ez3wJy49",
          "dtype": "f4"
         },
         "yaxis": "y"
        },
        {
         "customdata": [
          [
           "3",
           "Original"
          ],
          [
           "3",
           "Original"
          ],
          [
           "3",
           "Original"
          ],
          [
           "3",
           "Original"
          ],
          [
           "3",
           "Original"
          ],
          [
           "3",
           "Original"
          ],
          [
           "3",
           "Original"
          ],
          [
           "3",
           "Original"
          ],
          [
           "3",
           "Original"
          ],
          [
           "3",
           "Original"
          ],
          [
           "3",
           "Original"
          ],
          [
           "3",
           "Original"
          ],
          [
           "3",
           "Original"
          ],
          [
           "3",
           "Original"
          ],
          [
           "3",
           "Original"
          ],
          [
           "3",
           "Original"
          ],
          [
           "3",
           "Original"
          ],
          [
           "3",
           "Original"
          ],
          [
           "3",
           "Original"
          ]
         ],
         "hovertemplate": "<b>%{hovertext}</b><br><br>Cluster=%{customdata[0]}<br>Type=%{customdata[1]}<br>PCA 1=%{x:.3f}<br>PCA 2=%{y:.3f}<extra></extra>",
         "hovertext": [
          "Original | 12 Angry Men | Drama",
          "Original | Schindler's List | History",
          "Original | Inception | Sci-Fi",
          "Original | The Matrix | Sci-Fi",
          "Original | The Green Mile | Crime",
          "Original | It's a Wonderful Life | Fantasy",
          "Original | Whiplash | Music",
          "Original | The Pianist | Music",
          "Original | Back to the Future | Sci-Fi",
          "Original | City Lights | Comedy",
          "Original | Taare Zameen Par | Drama",
          "Original | WALL·E | Adventure",
          "Original | Memento | Thriller",
          "Original | Alien | Sci-Fi",
          "Original | Anand | Drama",
          "Original | Witness for the Prosecution | Crime",
          "Original | Andhadhun | Crime",
          "Original | Amélie | Romance",
          "Original | Good Will Hunting | Romance"
         ],
         "legendgroup": "3, Original",
         "marker": {
          "color": "rgb(77,175,74)",
          "symbol": "circle"
         },
         "mode": "markers",
         "name": "3, Original",
         "opacity": 0.3,
         "orientation": "v",
         "showlegend": true,
         "type": "scatter",
         "x": {
          "bdata": "Yr9GvUQEQr6/MeC98VZevWn8Wr5MNpu9e0EJvmaBLr75HkO+VRCLvU9ZEb6WMmE+1becvi3Pcz4MLiG+7R6FvdGFqL4E9iO+Lroyvg==",
          "dtype": "f4"
         },
         "xaxis": "x",
         "y": {
          "bdata": "26JuvsU4zb306hi9hGOLvLNEtb4ZpjA+Ib1JPp0oo7uBeVo+imJFPhFXgD5PKYI+oRRvvs1wAz7bSg4+4plovs7Ni72C0r490QY7PQ==",
          "dtype": "f4"
         },
         "yaxis": "y"
        },
        {
         "customdata": [
          [
           "3",
           "Steered"
          ],
          [
           "3",
           "Steered"
          ],
          [
           "3",
           "Steered"
          ],
          [
           "3",
           "Steered"
          ],
          [
           "3",
           "Steered"
          ],
          [
           "3",
           "Steered"
          ],
          [
           "3",
           "Steered"
          ],
          [
           "3",
           "Steered"
          ],
          [
           "3",
           "Steered"
          ],
          [
           "3",
           "Steered"
          ],
          [
           "3",
           "Steered"
          ],
          [
           "3",
           "Steered"
          ],
          [
           "3",
           "Steered"
          ],
          [
           "3",
           "Steered"
          ],
          [
           "3",
           "Steered"
          ],
          [
           "3",
           "Steered"
          ],
          [
           "3",
           "Steered"
          ],
          [
           "3",
           "Steered"
          ],
          [
           "3",
           "Steered"
          ]
         ],
         "hovertemplate": "<b>%{hovertext}</b><br><br>Cluster=%{customdata[0]}<br>Type=%{customdata[1]}<br>PCA 1=%{x:.3f}<br>PCA 2=%{y:.3f}<extra></extra>",
         "hovertext": [
          "Steered | 12 Angry Men | Drama",
          "Steered | Schindler's List | History",
          "Steered | Inception | Sci-Fi",
          "Steered | The Matrix | Sci-Fi",
          "Steered | The Green Mile | Crime",
          "Steered | It's a Wonderful Life | Fantasy",
          "Steered | Whiplash | Music",
          "Steered | The Pianist | Music",
          "Steered | Back to the Future | Sci-Fi",
          "Steered | City Lights | Comedy",
          "Steered | Taare Zameen Par | Drama",
          "Steered | WALL·E | Adventure",
          "Steered | Memento | Thriller",
          "Steered | Alien | Sci-Fi",
          "Steered | Anand | Drama",
          "Steered | Witness for the Prosecution | Crime",
          "Steered | Andhadhun | Crime",
          "Steered | Amélie | Romance",
          "Steered | Good Will Hunting | Romance"
         ],
         "legendgroup": "3, Steered",
         "marker": {
          "color": "rgb(77,175,74)",
          "symbol": "diamond"
         },
         "mode": "markers",
         "name": "3, Steered",
         "opacity": 1,
         "orientation": "v",
         "showlegend": true,
         "type": "scatter",
         "x": {
          "bdata": "eCAEPuiqODxq/cc9MukOPnAoCzyWXu09mi6+PYCD3TtotPI8ZFArPsthqj2Eib8+1EnsvXMOxj5Y4lU9qDzwPSodyb1ED3s9PwmNPQ==",
          "dtype": "f4"
         },
         "xaxis": "x",
         "y": {
          "bdata": "5xuwvi/0gL58AlO+mGUvvpQY5L5gUfS7aIJavO9cFr5Q3wo86LYDvYVLFT1cLmk9V+KyvmS7bL2yXCy943itvrQObr7Smsa9QTQkvg==",
          "dtype": "f4"
         },
         "yaxis": "y"
        },
        {
         "customdata": [
          [
           "2",
           "Original"
          ],
          [
           "2",
           "Original"
          ],
          [
           "2",
           "Original"
          ],
          [
           "2",
           "Original"
          ],
          [
           "2",
           "Original"
          ],
          [
           "2",
           "Original"
          ],
          [
           "2",
           "Original"
          ],
          [
           "2",
           "Original"
          ],
          [
           "2",
           "Original"
          ],
          [
           "2",
           "Original"
          ],
          [
           "2",
           "Original"
          ],
          [
           "2",
           "Original"
          ]
         ],
         "hovertemplate": "<b>%{hovertext}</b><br><br>Cluster=%{customdata[0]}<br>Type=%{customdata[1]}<br>PCA 1=%{x:.3f}<br>PCA 2=%{y:.3f}<extra></extra>",
         "hovertext": [
          "Original | The Lord of the Rings: The Return of the King | Adventure",
          "Original | The Lord of the Rings: The Fellowship of the Ring | Adventure",
          "Original | The Lord of the Rings: The Two Towers | Adventure",
          "Original | Star Wars: Episode V - The Empire Strikes Back | Adventure",
          "Original | Soorarai Pottru | Drama",
          "Original | Star Wars | Action",
          "Original | The Prestige | Mystery",
          "Original | Avengers: Endgame | Drama",
          "Original | Avengers: Infinity War | Adventure",
          "Original | Mononoke-hime | Adventure",
          "Original | 1917 | War",
          "Original | Tumbbad | Drama"
         ],
         "legendgroup": "2, Original",
         "marker": {
          "color": "rgb(152,78,163)",
          "symbol": "circle"
         },
         "mode": "markers",
         "name": "2, Original",
         "opacity": 0.3,
         "orientation": "v",
         "showlegend": true,
         "type": "scatter",
         "x": {
          "bdata": "3EQHPzdh2j4oAAE/1CLuPqH8gT5ArQc/1WFMPqup4j7SFQo/iEz6PX7twD5Iuus8",
          "dtype": "f4"
         },
         "xaxis": "x",
         "y": {
          "bdata": "AeQgPrChhj4Q3l0+ufstPdIVqT0DgYI9ZesRPCXXLD6ptJk9EUmAPqvSQr7Lu9U+",
          "dtype": "f4"
         },
         "yaxis": "y"
        },
        {
         "customdata": [
          [
           "2",
           "Steered"
          ],
          [
           "2",
           "Steered"
          ],
          [
           "2",
           "Steered"
          ],
          [
           "2",
           "Steered"
          ],
          [
           "2",
           "Steered"
          ],
          [
           "2",
           "Steered"
          ],
          [
           "2",
           "Steered"
          ],
          [
           "2",
           "Steered"
          ],
          [
           "2",
           "Steered"
          ],
          [
           "2",
           "Steered"
          ],
          [
           "2",
           "Steered"
          ],
          [
           "2",
           "Steered"
          ]
         ],
         "hovertemplate": "<b>%{hovertext}</b><br><br>Cluster=%{customdata[0]}<br>Type=%{customdata[1]}<br>PCA 1=%{x:.3f}<br>PCA 2=%{y:.3f}<extra></extra>",
         "hovertext": [
          "Steered | The Lord of the Rings: The Return of the King | Adventure",
          "Steered | The Lord of the Rings: The Fellowship of the Ring | Adventure",
          "Steered | The Lord of the Rings: The Two Towers | Adventure",
          "Steered | Star Wars: Episode V - The Empire Strikes Back | Adventure",
          "Steered | Soorarai Pottru | Drama",
          "Steered | Star Wars | Action",
          "Steered | The Prestige | Mystery",
          "Steered | Avengers: Endgame | Drama",
          "Steered | Avengers: Infinity War | Adventure",
          "Steered | Mononoke-hime | Adventure",
          "Steered | 1917 | War",
          "Steered | Tumbbad | Drama"
         ],
         "legendgroup": "2, Steered",
         "marker": {
          "color": "rgb(152,78,163)",
          "symbol": "diamond"
         },
         "mode": "markers",
         "name": "2, Steered",
         "opacity": 1,
         "orientation": "v",
         "showlegend": true,
         "type": "scatter",
         "x": {
          "bdata": "QjYfP6zNCz+fYBo/9PAPP6yR1D4+Xx0/jZS7PigrCz+8WBg/1tOePv/J+j5iU1g+",
          "dtype": "f4"
         },
         "xaxis": "x",
         "y": {
          "bdata": "TBCfvJPGlj0MVXQ8eEf+vUB8271aW969Ow4nvqBiuLzOTZm9DeMgPf8unb7izG0+",
          "dtype": "f4"
         },
         "yaxis": "y"
        },
        {
         "customdata": [
          [
           "0",
           "Original"
          ],
          [
           "0",
           "Original"
          ],
          [
           "0",
           "Original"
          ],
          [
           "0",
           "Original"
          ],
          [
           "0",
           "Original"
          ],
          [
           "0",
           "Original"
          ],
          [
           "0",
           "Original"
          ],
          [
           "0",
           "Original"
          ],
          [
           "0",
           "Original"
          ],
          [
           "0",
           "Original"
          ],
          [
           "0",
           "Original"
          ],
          [
           "0",
           "Original"
          ],
          [
           "0",
           "Original"
          ],
          [
           "0",
           "Original"
          ],
          [
           "0",
           "Original"
          ]
         ],
         "hovertemplate": "<b>%{hovertext}</b><br><br>Cluster=%{customdata[0]}<br>Type=%{customdata[1]}<br>PCA 1=%{x:.3f}<br>PCA 2=%{y:.3f}<extra></extra>",
         "hovertext": [
          "Original | Fight Club | Drama",
          "Original | Il buono, il brutto, il cattivo | Western",
          "Original | Interstellar | Sci-Fi",
          "Original | Se7en | Crime",
          "Original | The Departed | Crime",
          "Original | The Usual Suspects | Crime",
          "Original | Once Upon a Time in the West | Western",
          "Original | Vikram Vedha | Crime",
          "Original | Kimi no na wa. | Drama",
          "Original | Spider-Man: Into the Spider-Verse | Adventure",
          "Original | The Lives of Others | Thriller",
          "Original | Paths of Glory | War",
          "Original | Rear Window | Thriller",
          "Original | Inglourious Basterds | War",
          "Original | Snatch | Crime"
         ],
         "legendgroup": "0, Original",
         "marker": {
          "color": "rgb(255,127,0)",
          "symbol": "circle"
         },
         "mode": "markers",
         "name": "0, Original",
         "opacity": 0.3,
         "orientation": "v",
         "showlegend": true,
         "type": "scatter",
         "x": {
          "bdata": "5mtzPOyHVD4lu8E+0sCiPEDBGD2lv3I9mYULOjuU+j1u4gq8/tNxPjmxa74np5s+7QBWvgo4bD2dyxA+",
          "dtype": "f4"
         },
         "xaxis": "x",
         "y": {
          "bdata": "s/zRvI3INL4A800+KjXMvil/zL7XfYG+PpVSvmS6J77xJEY++VGJPdwcJb7AxXq+ZjVBvsw8mb42nSu+",
          "dtype": "f4"
         },
         "yaxis": "y"
        },
        {
         "customdata": [
          [
           "0",
           "Steered"
          ],
          [
           "0",
           "Steered"
          ],
          [
           "0",
           "Steered"
          ],
          [
           "0",
           "Steered"
          ],
          [
           "0",
           "Steered"
          ],
          [
           "0",
           "Steered"
          ],
          [
           "0",
           "Steered"
          ],
          [
           "0",
           "Steered"
          ],
          [
           "0",
           "Steered"
          ],
          [
           "0",
           "Steered"
          ],
          [
           "0",
           "Steered"
          ],
          [
           "0",
           "Steered"
          ],
          [
           "0",
           "Steered"
          ],
          [
           "0",
           "Steered"
          ],
          [
           "0",
           "Steered"
          ]
         ],
         "hovertemplate": "<b>%{hovertext}</b><br><br>Cluster=%{customdata[0]}<br>Type=%{customdata[1]}<br>PCA 1=%{x:.3f}<br>PCA 2=%{y:.3f}<extra></extra>",
         "hovertext": [
          "Steered | Fight Club | Drama",
          "Steered | Il buono, il brutto, il cattivo | Western",
          "Steered | Interstellar | Sci-Fi",
          "Steered | Se7en | Crime",
          "Steered | The Departed | Crime",
          "Steered | The Usual Suspects | Crime",
          "Steered | Once Upon a Time in the West | Western",
          "Steered | Vikram Vedha | Crime",
          "Steered | Kimi no na wa. | Drama",
          "Steered | Spider-Man: Into the Spider-Verse | Adventure",
          "Steered | The Lives of Others | Thriller",
          "Steered | Paths of Glory | War",
          "Steered | Rear Window | Thriller",
          "Steered | Inglourious Basterds | War",
          "Steered | Snatch | Crime"
         ],
         "legendgroup": "0, Steered",
         "marker": {
          "color": "rgb(255,127,0)",
          "symbol": "diamond"
         },
         "mode": "markers",
         "name": "0, Steered",
         "opacity": 1,
         "orientation": "v",
         "showlegend": true,
         "type": "scatter",
         "x": {
          "bdata": "1GliPhZauz52avo+1os1PhQNVj7JnH4+KUM5Pursjj425TA+6728Pgzj0Lx5h80+ICmcu2AhdD7KCKE+",
          "dtype": "f4"
         },
         "xaxis": "x",
         "y": {
          "bdata": "vm9KvqANoL48+Uc9dD7yvkAT9r4SQba+UOenvultjr4QuWI8OC2yvQvvl760p6O+En+nvoaiyr5IPJu+",
          "dtype": "f4"
         },
         "yaxis": "y"
        },
        {
         "hoverinfo": "none",
         "line": {
          "color": "gray",
          "dash": "dot",
          "width": 1
         },
         "mode": "lines",
         "showlegend": false,
         "type": "scatter",
         "x": [
          0.028813423588871956,
          0.20160822570323944
         ],
         "y": [
          -0.13500607013702393,
          -0.26881739497184753
         ]
        },
        {
         "hoverinfo": "none",
         "line": {
          "color": "gray",
          "dash": "dot",
          "width": 1
         },
         "mode": "lines",
         "showlegend": false,
         "type": "scatter",
         "x": [
          -0.0482674315571785,
          0.11304667592048645
         ],
         "y": [
          -0.1372208148241043,
          -0.25893133878707886
         ]
        },
        {
         "hoverinfo": "none",
         "line": {
          "color": "gray",
          "dash": "dot",
          "width": 1
         },
         "mode": "lines",
         "showlegend": false,
         "type": "scatter",
         "x": [
          0.04835968464612961,
          0.23014764487743378
         ],
         "y": [
          -0.184448704123497,
          -0.303350031375885
         ]
        },
        {
         "hoverinfo": "none",
         "line": {
          "color": "gray",
          "dash": "dot",
          "width": 1
         },
         "mode": "lines",
         "showlegend": false,
         "type": "scatter",
         "x": [
          -0.22345735132694244,
          -0.005595460534095764
         ],
         "y": [
          -0.10750472545623779,
          -0.26989561319351196
         ]
        },
        {
         "hoverinfo": "none",
         "line": {
          "color": "gray",
          "dash": "dot",
          "width": 1
         },
         "mode": "lines",
         "showlegend": false,
         "type": "scatter",
         "x": [
          -0.04852236062288284,
          0.12903010845184326
         ],
         "y": [
          -0.2330431193113327,
          -0.3439628779888153
         ]
        },
        {
         "hoverinfo": "none",
         "line": {
          "color": "gray",
          "dash": "dot",
          "width": 1
         },
         "mode": "lines",
         "showlegend": false,
         "type": "scatter",
         "x": [
          0.5283944606781006,
          0.6219216585159302
         ],
         "y": [
          0.1571197658777237,
          -0.01941695064306259
         ]
        },
        {
         "hoverinfo": "none",
         "line": {
          "color": "gray",
          "dash": "dot",
          "width": 1
         },
         "mode": "lines",
         "showlegend": false,
         "type": "scatter",
         "x": [
          -0.012316326610744,
          0.178875133395195
         ],
         "y": [
          -0.2734387218952179,
          -0.3896062672138214
         ]
        },
        {
         "hoverinfo": "none",
         "line": {
          "color": "gray",
          "dash": "dot",
          "width": 1
         },
         "mode": "lines",
         "showlegend": false,
         "type": "scatter",
         "x": [
          -0.18946939706802368,
          0.011271215975284576
         ],
         "y": [
          -0.1002059355378151,
          -0.2518629729747772
         ]
        },
        {
         "hoverinfo": "none",
         "line": {
          "color": "gray",
          "dash": "dot",
          "width": 1
         },
         "mode": "lines",
         "showlegend": false,
         "type": "scatter",
         "x": [
          -0.10946988314390182,
          0.09765131771564484
         ],
         "y": [
          -0.03733344376087189,
          -0.2060641646385193
         ]
        },
        {
         "hoverinfo": "none",
         "line": {
          "color": "gray",
          "dash": "dot",
          "width": 1
         },
         "mode": "lines",
         "showlegend": false,
         "type": "scatter",
         "x": [
          0.014857267960906029,
          0.22110682725906372
         ],
         "y": [
          -0.0256331916898489,
          -0.1976918876171112
         ]
        },
        {
         "hoverinfo": "none",
         "line": {
          "color": "gray",
          "dash": "dot",
          "width": 1
         },
         "mode": "lines",
         "showlegend": false,
         "type": "scatter",
         "x": [
          0.4265229403972626,
          0.5461070537567139
         ],
         "y": [
          0.2629523277282715,
          0.07362093776464462
         ]
        },
        {
         "hoverinfo": "none",
         "line": {
          "color": "gray",
          "dash": "dot",
          "width": 1
         },
         "mode": "lines",
         "showlegend": false,
         "type": "scatter",
         "x": [
          -0.16048657894134521,
          0.07514134794473648
         ],
         "y": [
          0.03480977937579155,
          -0.15561677515506744
         ]
        },
        {
         "hoverinfo": "none",
         "line": {
          "color": "gray",
          "dash": "dot",
          "width": 1
         },
         "mode": "lines",
         "showlegend": false,
         "type": "scatter",
         "x": [
          0.20754975080490112,
          0.36592167615890503
         ],
         "y": [
          -0.17654629051685333,
          -0.3126039505004883
         ]
        },
        {
         "hoverinfo": "none",
         "line": {
          "color": "gray",
          "dash": "dot",
          "width": 1
         },
         "mode": "lines",
         "showlegend": false,
         "type": "scatter",
         "x": [
          0.503908634185791,
          0.6030368208885193
         ],
         "y": [
          0.21666741371154785,
          0.014912854880094528
         ]
        },
        {
         "hoverinfo": "none",
         "line": {
          "color": "gray",
          "dash": "dot",
          "width": 1
         },
         "mode": "lines",
         "showlegend": false,
         "type": "scatter",
         "x": [
          -0.05428213253617287,
          0.13956144452095032
         ],
         "y": [
          -0.017015226185321808,
          -0.1712859869003296
         ]
        },
        {
         "hoverinfo": "none",
         "line": {
          "color": "gray",
          "dash": "dot",
          "width": 1
         },
         "mode": "lines",
         "showlegend": false,
         "type": "scatter",
         "x": [
          -0.1678522825241089,
          0.02921474352478981
         ],
         "y": [
          -0.1305045336484909,
          -0.27894434332847595
         ]
        },
        {
         "hoverinfo": "none",
         "line": {
          "color": "gray",
          "dash": "dot",
          "width": 1
         },
         "mode": "lines",
         "showlegend": false,
         "type": "scatter",
         "x": [
          0.4651094675064087,
          0.5622704029083252
         ],
         "y": [
          0.042476389557123184,
          -0.12415975332260132
         ]
        },
        {
         "hoverinfo": "none",
         "line": {
          "color": "gray",
          "dash": "dot",
          "width": 1
         },
         "mode": "lines",
         "showlegend": false,
         "type": "scatter",
         "x": [
          -0.17302991449832916,
          0.030927814543247223
         ],
         "y": [
          -0.23219774663448334,
          -0.35618841648101807
         ]
        },
        {
         "hoverinfo": "none",
         "line": {
          "color": "gray",
          "dash": "dot",
          "width": 1
         },
         "mode": "lines",
         "showlegend": false,
         "type": "scatter",
         "x": [
          -0.020611600950360298,
          0.1746450662612915
         ],
         "y": [
          -0.06402185559272766,
          -0.22924736142158508
         ]
        },
        {
         "hoverinfo": "none",
         "line": {
          "color": "gray",
          "dash": "dot",
          "width": 1
         },
         "mode": "lines",
         "showlegend": false,
         "type": "scatter",
         "x": [
          -0.08016777038574219,
          0.10605263710021973
         ],
         "y": [
          0.19727784395217896,
          0.01966308429837227
         ]
        },
        {
         "hoverinfo": "none",
         "line": {
          "color": "gray",
          "dash": "dot",
          "width": 1
         },
         "mode": "lines",
         "showlegend": false,
         "type": "scatter",
         "x": [
          0.2538805305957794,
          0.41517388820648193
         ],
         "y": [
          0.08256115019321442,
          -0.10717058181762695
         ]
        },
        {
         "hoverinfo": "none",
         "line": {
          "color": "gray",
          "dash": "dot",
          "width": 1
         },
         "mode": "lines",
         "showlegend": false,
         "type": "scatter",
         "x": [
          0.3783809244632721,
          0.48909348249435425
         ],
         "y": [
          0.20112228393554688,
          0.048821672797203064
         ]
        },
        {
         "hoverinfo": "none",
         "line": {
          "color": "gray",
          "dash": "dot",
          "width": 1
         },
         "mode": "lines",
         "showlegend": false,
         "type": "scatter",
         "x": [
          -0.0422637015581131,
          0.1541699767112732
         ],
         "y": [
          0.2064104527235031,
          0.015078797936439514
         ]
        },
        {
         "hoverinfo": "none",
         "line": {
          "color": "gray",
          "dash": "dot",
          "width": 1
         },
         "mode": "lines",
         "showlegend": false,
         "type": "scatter",
         "x": [
          -0.019879022613167763,
          0.1932242214679718
         ],
         "y": [
          0.3567425012588501,
          0.13810764253139496
         ]
        },
        {
         "hoverinfo": "none",
         "line": {
          "color": "gray",
          "dash": "dot",
          "width": 1
         },
         "mode": "lines",
         "showlegend": false,
         "type": "scatter",
         "x": [
          0.4107581377029419,
          0.4954802095890045
         ],
         "y": [
          -0.18326537311077118,
          -0.2809438705444336
         ]
        },
        {
         "hoverinfo": "none",
         "line": {
          "color": "gray",
          "dash": "dot",
          "width": 1
         },
         "mode": "lines",
         "showlegend": false,
         "type": "scatter",
         "x": [
          -0.21385349333286285,
          0.00849352777004242
         ],
         "y": [
          -0.3540397584438324,
          -0.4455000162124634
         ]
        },
        {
         "hoverinfo": "none",
         "line": {
          "color": "gray",
          "dash": "dot",
          "width": 1
         },
         "mode": "lines",
         "showlegend": false,
         "type": "scatter",
         "x": [
          -0.23632429540157318,
          0.001495450735092163
         ],
         "y": [
          0.026765692979097366,
          -0.1582365483045578
         ]
        },
        {
         "hoverinfo": "none",
         "line": {
          "color": "gray",
          "dash": "dot",
          "width": 1
         },
         "mode": "lines",
         "showlegend": false,
         "type": "scatter",
         "x": [
          0.01986733451485634,
          0.17729124426841736
         ],
         "y": [
          -0.39884310960769653,
          -0.4731327295303345
         ]
        },
        {
         "hoverinfo": "none",
         "line": {
          "color": "gray",
          "dash": "dot",
          "width": 1
         },
         "mode": "lines",
         "showlegend": false,
         "type": "scatter",
         "x": [
          0.03256672993302345,
          0.21258032321929932
         ],
         "y": [
          -0.3916914463043213,
          -0.4545455574989319
         ]
        },
        {
         "hoverinfo": "none",
         "line": {
          "color": "gray",
          "dash": "dot",
          "width": 1
         },
         "mode": "lines",
         "showlegend": false,
         "type": "scatter",
         "x": [
          0.5299873352050781,
          0.6147345304489136
         ],
         "y": [
          0.0637226328253746,
          -0.10857267677783966
         ]
        },
        {
         "hoverinfo": "none",
         "line": {
          "color": "gray",
          "dash": "dot",
          "width": 1
         },
         "mode": "lines",
         "showlegend": false,
         "type": "scatter",
         "x": [
          0.008311422541737556,
          0.2172146737575531
         ],
         "y": [
          0.11885825544595718,
          -0.08003939688205719
         ]
        },
        {
         "hoverinfo": "none",
         "line": {
          "color": "gray",
          "dash": "dot",
          "width": 1
         },
         "mode": "lines",
         "showlegend": false,
         "type": "scatter",
         "x": [
          0.2553977072238922,
          0.3702529966831207
         ],
         "y": [
          -0.09364467114210129,
          -0.20592835545539856
         ]
        },
        {
         "hoverinfo": "none",
         "line": {
          "color": "gray",
          "dash": "dot",
          "width": 1
         },
         "mode": "lines",
         "showlegend": false,
         "type": "scatter",
         "x": [
          -0.07578715682029724,
          0.11590306460857391
         ],
         "y": [
          0.1725086122751236,
          -0.007455989718437195
         ]
        },
        {
         "hoverinfo": "none",
         "line": {
          "color": "gray",
          "dash": "dot",
          "width": 1
         },
         "mode": "lines",
         "showlegend": false,
         "type": "scatter",
         "x": [
          -0.08165109157562256,
          0.1465187519788742
         ],
         "y": [
          -0.13628387451171875,
          -0.2937312424182892
         ]
        },
        {
         "hoverinfo": "none",
         "line": {
          "color": "gray",
          "dash": "dot",
          "width": 1
         },
         "mode": "lines",
         "showlegend": false,
         "type": "scatter",
         "x": [
          -0.13403885066509247,
          0.0928623229265213
         ],
         "y": [
          0.19701053202152252,
          -0.013336755335330963
         ]
        },
        {
         "hoverinfo": "none",
         "line": {
          "color": "gray",
          "dash": "dot",
          "width": 1
         },
         "mode": "lines",
         "showlegend": false,
         "type": "scatter",
         "x": [
          -0.22456976771354675,
          0.007908813655376434
         ],
         "y": [
          0.08433333784341812,
          -0.1058206558227539
         ]
        },
        {
         "hoverinfo": "none",
         "line": {
          "color": "gray",
          "dash": "dot",
          "width": 1
         },
         "mode": "lines",
         "showlegend": false,
         "type": "scatter",
         "x": [
          0.19959194958209991,
          0.36636772751808167
         ],
         "y": [
          0.008906220085918903,
          -0.1631402224302292
         ]
        },
        {
         "hoverinfo": "none",
         "line": {
          "color": "gray",
          "dash": "dot",
          "width": 1
         },
         "mode": "lines",
         "showlegend": false,
         "type": "scatter",
         "x": [
          0.03729367256164551,
          0.209034264087677
         ],
         "y": [
          -0.39940765500068665,
          -0.48061561584472656
         ]
        },
        {
         "hoverinfo": "none",
         "line": {
          "color": "gray",
          "dash": "dot",
          "width": 1
         },
         "mode": "lines",
         "showlegend": false,
         "type": "scatter",
         "x": [
          -0.1704154908657074,
          0.006760060787200928
         ],
         "y": [
          -0.0049792067147791386,
          -0.14683888852596283
         ]
        },
        {
         "hoverinfo": "none",
         "line": {
          "color": "gray",
          "dash": "dot",
          "width": 1
         },
         "mode": "lines",
         "showlegend": false,
         "type": "scatter",
         "x": [
          0.12664012610912323,
          0.27002471685409546
         ],
         "y": [
          -0.25510600209236145,
          -0.35430288314819336
         ]
        },
        {
         "hoverinfo": "none",
         "line": {
          "color": "gray",
          "dash": "dot",
          "width": 1
         },
         "mode": "lines",
         "showlegend": false,
         "type": "scatter",
         "x": [
          -0.11860959231853485,
          0.08795781433582306
         ],
         "y": [
          -0.11627364158630371,
          -0.24600857496261597
         ]
        },
        {
         "hoverinfo": "none",
         "line": {
          "color": "gray",
          "dash": "dot",
          "width": 1
         },
         "mode": "lines",
         "showlegend": false,
         "type": "scatter",
         "x": [
          0.05926479771733284,
          0.24864496290683746
         ],
         "y": [
          -0.2529132068157196,
          -0.35596519708633423
         ]
        },
        {
         "hoverinfo": "none",
         "line": {
          "color": "gray",
          "dash": "dot",
          "width": 1
         },
         "mode": "lines",
         "showlegend": false,
         "type": "scatter",
         "x": [
          -0.018546877428889275,
          0.19066257774829865
         ],
         "y": [
          0.09800843894481659,
          -0.0948428213596344
         ]
        },
        {
         "hoverinfo": "none",
         "line": {
          "color": "gray",
          "dash": "dot",
          "width": 1
         },
         "mode": "lines",
         "showlegend": false,
         "type": "scatter",
         "x": [
          0.032795488834381104,
          0.19574999809265137
         ],
         "y": [
          0.09660997986793518,
          -0.05882726609706879
         ]
        },
        {
         "hoverinfo": "none",
         "line": {
          "color": "gray",
          "dash": "dot",
          "width": 1
         },
         "mode": "lines",
         "showlegend": false,
         "type": "scatter",
         "x": [
          -0.015635330229997635,
          0.1574614942073822
         ],
         "y": [
          0.005715513601899147,
          -0.13659174740314484
         ]
        },
        {
         "hoverinfo": "none",
         "line": {
          "color": "gray",
          "dash": "dot",
          "width": 1
         },
         "mode": "lines",
         "showlegend": false,
         "type": "scatter",
         "x": [
          -0.30093592405319214,
          -0.08575646579265594
         ],
         "y": [
          0.2926209568977356,
          0.08807671070098877
         ]
        },
        {
         "hoverinfo": "none",
         "line": {
          "color": "gray",
          "dash": "dot",
          "width": 1
         },
         "mode": "lines",
         "showlegend": false,
         "type": "scatter",
         "x": [
          0.05032527446746826,
          0.20111346244812012
         ],
         "y": [
          0.1823083609342575,
          0.026723120361566544
         ]
        },
        {
         "hoverinfo": "none",
         "line": {
          "color": "gray",
          "dash": "dot",
          "width": 1
         },
         "mode": "lines",
         "showlegend": false,
         "type": "scatter",
         "x": [
          -0.19054783880710602,
          0.029627040028572083
         ],
         "y": [
          0.21335412561893463,
          0.008476093411445618
         ]
        },
        {
         "hoverinfo": "none",
         "line": {
          "color": "gray",
          "dash": "dot",
          "width": 1
         },
         "mode": "lines",
         "showlegend": false,
         "type": "scatter",
         "x": [
          0.0005322336801327765,
          0.18092025816440582
         ],
         "y": [
          -0.20564743876457214,
          -0.32793664932250977
         ]
        },
        {
         "hoverinfo": "none",
         "line": {
          "color": "gray",
          "dash": "dot",
          "width": 1
         },
         "mode": "lines",
         "showlegend": false,
         "type": "scatter",
         "x": [
          -0.02741897478699684,
          0.18419918417930603
         ],
         "y": [
          -0.14239399135112762,
          -0.2998250126838684
         ]
        },
        {
         "hoverinfo": "none",
         "line": {
          "color": "gray",
          "dash": "dot",
          "width": 1
         },
         "mode": "lines",
         "showlegend": false,
         "type": "scatter",
         "x": [
          -0.1815827488899231,
          0.05555223673582077
         ],
         "y": [
          0.0005926983430981636,
          -0.18452587723731995
         ]
        },
        {
         "hoverinfo": "none",
         "line": {
          "color": "gray",
          "dash": "dot",
          "width": 1
         },
         "mode": "lines",
         "showlegend": false,
         "type": "scatter",
         "x": [
          -0.10324139893054962,
          0.08236459642648697
         ],
         "y": [
          0.12111792713403702,
          -0.04779187589883804
         ]
        },
        {
         "hoverinfo": "none",
         "line": {
          "color": "gray",
          "dash": "dot",
          "width": 1
         },
         "mode": "lines",
         "showlegend": false,
         "type": "scatter",
         "x": [
          -0.06790224462747574,
          0.16729885339736938
         ],
         "y": [
          0.192758709192276,
          -0.03215685486793518
         ]
        },
        {
         "hoverinfo": "none",
         "line": {
          "color": "gray",
          "dash": "dot",
          "width": 1
         },
         "mode": "lines",
         "showlegend": false,
         "type": "scatter",
         "x": [
          -0.22439736127853394,
          -0.012688130140304565
         ],
         "y": [
          -0.10986402630805969,
          -0.25939157605171204
         ]
        },
        {
         "hoverinfo": "none",
         "line": {
          "color": "gray",
          "dash": "dot",
          "width": 1
         },
         "mode": "lines",
         "showlegend": false,
         "type": "scatter",
         "x": [
          -0.022235386073589325,
          0.1951688528060913
         ],
         "y": [
          -0.019009726122021675,
          -0.18956813216209412
         ]
        },
        {
         "hoverinfo": "none",
         "line": {
          "color": "gray",
          "dash": "dot",
          "width": 1
         },
         "mode": "lines",
         "showlegend": false,
         "type": "scatter",
         "x": [
          0.12235303968191147,
          0.2791512608528137
         ],
         "y": [
          -0.16379696130752563,
          -0.2781822979450226
         ]
        },
        {
         "hoverinfo": "none",
         "line": {
          "color": "gray",
          "dash": "dot",
          "width": 1
         },
         "mode": "lines",
         "showlegend": false,
         "type": "scatter",
         "x": [
          -0.00847683660686016,
          0.1727493703365326
         ],
         "y": [
          0.19350029528141022,
          0.013838067650794983
         ]
        },
        {
         "hoverinfo": "none",
         "line": {
          "color": "gray",
          "dash": "dot",
          "width": 1
         },
         "mode": "lines",
         "showlegend": false,
         "type": "scatter",
         "x": [
          0.07832176983356476,
          0.26046282052993774
         ],
         "y": [
          0.08438336849212646,
          -0.09359101951122284
         ]
        },
        {
         "hoverinfo": "none",
         "line": {
          "color": "gray",
          "dash": "dot",
          "width": 1
         },
         "mode": "lines",
         "showlegend": false,
         "type": "scatter",
         "x": [
          0.2361602485179901,
          0.36863645911216736
         ],
         "y": [
          0.06705088168382645,
          -0.08700031042098999
         ]
        },
        {
         "hoverinfo": "none",
         "line": {
          "color": "gray",
          "dash": "dot",
          "width": 1
         },
         "mode": "lines",
         "showlegend": false,
         "type": "scatter",
         "x": [
          0.44270071387290955,
          0.5436272621154785
         ],
         "y": [
          0.16878946125507355,
          -0.022507965564727783
         ]
        },
        {
         "hoverinfo": "none",
         "line": {
          "color": "gray",
          "dash": "dot",
          "width": 1
         },
         "mode": "lines",
         "showlegend": false,
         "type": "scatter",
         "x": [
          0.5393954515457153,
          0.5951039791107178
         ],
         "y": [
          0.07505161315202713,
          -0.07485543191432953
         ]
        },
        {
         "hoverinfo": "none",
         "line": {
          "color": "gray",
          "dash": "dot",
          "width": 1
         },
         "mode": "lines",
         "showlegend": false,
         "type": "scatter",
         "x": [
          -0.1593288630247116,
          0.04032386839389801
         ],
         "y": [
          0.19056791067123413,
          0.007072463631629944
         ]
        },
        {
         "hoverinfo": "none",
         "line": {
          "color": "gray",
          "dash": "dot",
          "width": 1
         },
         "mode": "lines",
         "showlegend": false,
         "type": "scatter",
         "x": [
          -0.039264190942049026,
          0.13411809504032135
         ],
         "y": [
          -0.22719082236289978,
          -0.3477839529514313
         ]
        },
        {
         "hoverinfo": "none",
         "line": {
          "color": "gray",
          "dash": "dot",
          "width": 1
         },
         "mode": "lines",
         "showlegend": false,
         "type": "scatter",
         "x": [
          0.0439121350646019,
          0.21893316507339478
         ],
         "y": [
          -0.10217973589897156,
          -0.2384280562400818
         ]
        },
        {
         "hoverinfo": "none",
         "line": {
          "color": "gray",
          "dash": "dot",
          "width": 1
         },
         "mode": "lines",
         "showlegend": false,
         "type": "scatter",
         "x": [
          -0.13095377385616302,
          0.132361501455307
         ],
         "y": [
          0.23742073774337769,
          -0.011311784386634827
         ]
        },
        {
         "hoverinfo": "none",
         "line": {
          "color": "gray",
          "dash": "dot",
          "width": 1
         },
         "mode": "lines",
         "showlegend": false,
         "type": "scatter",
         "x": [
          -0.14194224774837494,
          0.08319433778524399
         ],
         "y": [
          0.25066426396369934,
          0.036448974162340164
         ]
        },
        {
         "hoverinfo": "none",
         "line": {
          "color": "gray",
          "dash": "dot",
          "width": 1
         },
         "mode": "lines",
         "showlegend": false,
         "type": "scatter",
         "x": [
          0.21991953253746033,
          0.3740960359573364
         ],
         "y": [
          0.2542214095592499,
          0.056928977370262146
         ]
        },
        {
         "hoverinfo": "none",
         "line": {
          "color": "gray",
          "dash": "dot",
          "width": 1
         },
         "mode": "lines",
         "showlegend": false,
         "type": "scatter",
         "x": [
          -0.23016823828220367,
          -0.0254988893866539
         ],
         "y": [
          -0.16124290227890015,
          -0.296745628118515
         ]
        },
        {
         "hoverinfo": "none",
         "line": {
          "color": "gray",
          "dash": "dot",
          "width": 1
         },
         "mode": "lines",
         "showlegend": false,
         "type": "scatter",
         "x": [
          0.1061844751238823,
          0.2632739841938019
         ],
         "y": [
          -0.08266400545835495,
          -0.2133123278617859
         ]
        },
        {
         "hoverinfo": "none",
         "line": {
          "color": "gray",
          "dash": "dot",
          "width": 1
         },
         "mode": "lines",
         "showlegend": false,
         "type": "scatter",
         "x": [
          -0.30609002709388733,
          -0.11537519097328186
         ],
         "y": [
          -0.2334771305322647,
          -0.34938308596611023
         ]
        },
        {
         "hoverinfo": "none",
         "line": {
          "color": "gray",
          "dash": "dot",
          "width": 1
         },
         "mode": "lines",
         "showlegend": false,
         "type": "scatter",
         "x": [
          0.12221628427505493,
          0.3102099299430847
         ],
         "y": [
          0.25055745244026184,
          0.0392790324985981
         ]
        },
        {
         "hoverinfo": "none",
         "line": {
          "color": "gray",
          "dash": "dot",
          "width": 1
         },
         "mode": "lines",
         "showlegend": false,
         "type": "scatter",
         "x": [
          -0.3137856125831604,
          -0.0770328938961029
         ],
         "y": [
          -0.12949402630329132,
          -0.2947080433368683
         ]
        },
        {
         "hoverinfo": "none",
         "line": {
          "color": "gray",
          "dash": "dot",
          "width": 1
         },
         "mode": "lines",
         "showlegend": false,
         "type": "scatter",
         "x": [
          0.12193648517131805,
          0.29917454719543457
         ],
         "y": [
          0.03559745475649834,
          -0.13645410537719727
         ]
        },
        {
         "hoverinfo": "none",
         "line": {
          "color": "gray",
          "dash": "dot",
          "width": 1
         },
         "mode": "lines",
         "showlegend": false,
         "type": "scatter",
         "x": [
          -0.1654135286808014,
          0.06475379317998886
         ],
         "y": [
          0.0795290619134903,
          -0.11010774970054626
         ]
        },
        {
         "hoverinfo": "none",
         "line": {
          "color": "gray",
          "dash": "dot",
          "width": 1
         },
         "mode": "lines",
         "showlegend": false,
         "type": "scatter",
         "x": [
          0.20331549644470215,
          0.328007310628891
         ],
         "y": [
          -0.2894853949546814,
          -0.3663487434387207
         ]
        },
        {
         "hoverinfo": "none",
         "line": {
          "color": "gray",
          "dash": "dot",
          "width": 1
         },
         "mode": "lines",
         "showlegend": false,
         "type": "scatter",
         "x": [
          0.2380950003862381,
          0.3868289887905121
         ],
         "y": [
          0.12835998833179474,
          -0.057795897126197815
         ]
        },
        {
         "hoverinfo": "none",
         "line": {
          "color": "gray",
          "dash": "dot",
          "width": 1
         },
         "mode": "lines",
         "showlegend": false,
         "type": "scatter",
         "x": [
          -0.15740221738815308,
          0.05221781134605408
         ],
         "y": [
          0.1389574259519577,
          -0.0420805886387825
         ]
        },
        {
         "hoverinfo": "none",
         "line": {
          "color": "gray",
          "dash": "dot",
          "width": 1
         },
         "mode": "lines",
         "showlegend": false,
         "type": "scatter",
         "x": [
          -0.09912323951721191,
          0.09209056943655014
         ],
         "y": [
          -0.2066367268562317,
          -0.3301267623901367
         ]
        },
        {
         "hoverinfo": "none",
         "line": {
          "color": "gray",
          "dash": "dot",
          "width": 1
         },
         "mode": "lines",
         "showlegend": false,
         "type": "scatter",
         "x": [
          0.16969946026802063,
          0.31373363733291626
         ],
         "y": [
          -0.11848069727420807,
          -0.23802390694618225
         ]
        },
        {
         "hoverinfo": "none",
         "line": {
          "color": "gray",
          "dash": "dot",
          "width": 1
         },
         "mode": "lines",
         "showlegend": false,
         "type": "scatter",
         "x": [
          -0.06500039249658585,
          0.11730319261550903
         ],
         "y": [
          -0.22714951634407043,
          -0.338812917470932
         ]
        },
        {
         "hoverinfo": "none",
         "line": {
          "color": "gray",
          "dash": "dot",
          "width": 1
         },
         "mode": "lines",
         "showlegend": false,
         "type": "scatter",
         "x": [
          0.30400964617729187,
          0.40142419934272766
         ],
         "y": [
          -0.24489498138427734,
          -0.31963884830474854
         ]
        },
        {
         "hoverinfo": "none",
         "line": {
          "color": "gray",
          "dash": "dot",
          "width": 1
         },
         "mode": "lines",
         "showlegend": false,
         "type": "scatter",
         "x": [
          -0.20898790657520294,
          -0.004765644669532776
         ],
         "y": [
          -0.1886802613735199,
          -0.32714134454727173
         ]
        },
        {
         "hoverinfo": "none",
         "line": {
          "color": "gray",
          "dash": "dot",
          "width": 1
         },
         "mode": "lines",
         "showlegend": false,
         "type": "scatter",
         "x": [
          -0.21712489426136017,
          -0.008941076695919037
         ],
         "y": [
          0.16349045932292938,
          -0.01630125194787979
         ]
        },
        {
         "hoverinfo": "none",
         "line": {
          "color": "gray",
          "dash": "dot",
          "width": 1
         },
         "mode": "lines",
         "showlegend": false,
         "type": "scatter",
         "x": [
          0.04635561257600784,
          0.220828115940094
         ],
         "y": [
          -0.005686077289283276,
          -0.160912424325943
         ]
        },
        {
         "hoverinfo": "none",
         "line": {
          "color": "gray",
          "dash": "dot",
          "width": 1
         },
         "mode": "lines",
         "showlegend": false,
         "type": "scatter",
         "x": [
          0.3768119215965271,
          0.4898223578929901
         ],
         "y": [
          -0.1902567595243454,
          -0.30699917674064636
         ]
        },
        {
         "hoverinfo": "none",
         "line": {
          "color": "gray",
          "dash": "dot",
          "width": 1
         },
         "mode": "lines",
         "showlegend": false,
         "type": "scatter",
         "x": [
          0.028775349259376526,
          0.21125558018684387
         ],
         "y": [
          0.41744837164878845,
          0.2322268784046173
         ]
        },
        {
         "hoverinfo": "none",
         "line": {
          "color": "gray",
          "dash": "dot",
          "width": 1
         },
         "mode": "lines",
         "showlegend": false,
         "type": "scatter",
         "x": [
          -0.3291459381580353,
          -0.09820015728473663
         ],
         "y": [
          -0.06826363503932953,
          -0.23247796297073364
         ]
        },
        {
         "hoverinfo": "none",
         "line": {
          "color": "gray",
          "dash": "dot",
          "width": 1
         },
         "mode": "lines",
         "showlegend": false,
         "type": "scatter",
         "x": [
          -0.14912615716457367,
          0.030826784670352936
         ],
         "y": [
          -0.19843889772891998,
          -0.3088100850582123
         ]
        },
        {
         "hoverinfo": "none",
         "line": {
          "color": "gray",
          "dash": "dot",
          "width": 1
         },
         "mode": "lines",
         "showlegend": false,
         "type": "scatter",
         "x": [
          -0.3133983612060547,
          -0.029468677937984467
         ],
         "y": [
          0.1485932320356369,
          -0.0804610401391983
         ]
        },
        {
         "hoverinfo": "none",
         "line": {
          "color": "gray",
          "dash": "dot",
          "width": 1
         },
         "mode": "lines",
         "showlegend": false,
         "type": "scatter",
         "x": [
          -0.29520654678344727,
          -0.05287677049636841
         ],
         "y": [
          0.4102012813091278,
          0.17826303839683533
         ]
        },
        {
         "hoverinfo": "none",
         "line": {
          "color": "gray",
          "dash": "dot",
          "width": 1
         },
         "mode": "lines",
         "showlegend": false,
         "type": "scatter",
         "x": [
          -0.016324451193213463,
          0.15002429485321045
         ],
         "y": [
          0.39791634678840637,
          0.22085393965244293
         ]
        },
        {
         "hoverinfo": "none",
         "line": {
          "color": "gray",
          "dash": "dot",
          "width": 1
         },
         "mode": "lines",
         "showlegend": false,
         "type": "scatter",
         "x": [
          -0.20951345562934875,
          0.016494687646627426
         ],
         "y": [
          0.06762560456991196,
          -0.11418648064136505
         ]
        },
        {
         "hoverinfo": "none",
         "line": {
          "color": "gray",
          "dash": "dot",
          "width": 1
         },
         "mode": "lines",
         "showlegend": false,
         "type": "scatter",
         "x": [
          -0.07309835404157639,
          0.09336525946855545
         ],
         "y": [
          0.036007028073072433,
          -0.10718104243278503
         ]
        },
        {
         "hoverinfo": "none",
         "line": {
          "color": "gray",
          "dash": "dot",
          "width": 1
         },
         "mode": "lines",
         "showlegend": false,
         "type": "scatter",
         "x": [
          0.057670630514621735,
          0.23840856552124023
         ],
         "y": [
          -0.2992919683456421,
          -0.39577120542526245
         ]
        },
        {
         "hoverinfo": "none",
         "line": {
          "color": "gray",
          "dash": "dot",
          "width": 1
         },
         "mode": "lines",
         "showlegend": false,
         "type": "scatter",
         "x": [
          -0.16293777525424957,
          0.026423826813697815
         ],
         "y": [
          0.20355108380317688,
          0.03047037124633789
         ]
        },
        {
         "hoverinfo": "none",
         "line": {
          "color": "gray",
          "dash": "dot",
          "width": 1
         },
         "mode": "lines",
         "showlegend": false,
         "type": "scatter",
         "x": [
          -0.16011816263198853,
          0.06129385530948639
         ],
         "y": [
          0.09317494928836823,
          -0.09697498381137848
         ]
        },
        {
         "hoverinfo": "none",
         "line": {
          "color": "gray",
          "dash": "dot",
          "width": 1
         },
         "mode": "lines",
         "showlegend": false,
         "type": "scatter",
         "x": [
          0.1414017230272293,
          0.3145201802253723
         ],
         "y": [
          -0.1675918996334076,
          -0.3031942844390869
         ]
        },
        {
         "hoverinfo": "none",
         "line": {
          "color": "gray",
          "dash": "dot",
          "width": 1
         },
         "mode": "lines",
         "showlegend": false,
         "type": "scatter",
         "x": [
          -0.0051774270832538605,
          0.16253648698329926
         ],
         "y": [
          0.20136603713035583,
          0.03606274351477623
         ]
        },
        {
         "hoverinfo": "none",
         "line": {
          "color": "gray",
          "dash": "dot",
          "width": 1
         },
         "mode": "lines",
         "showlegend": false,
         "type": "scatter",
         "x": [
          -0.32892724871635437,
          -0.09279032051563263
         ],
         "y": [
          0.24936766922473907,
          0.042518556118011475
         ]
        },
        {
         "hoverinfo": "none",
         "line": {
          "color": "gray",
          "dash": "dot",
          "width": 1
         },
         "mode": "lines",
         "showlegend": false,
         "type": "scatter",
         "x": [
          -0.17453834414482117,
          0.06886529177427292
         ],
         "y": [
          0.045660797506570816,
          -0.1603555828332901
         ]
        }
       ],
       "layout": {
        "height": 700,
        "legend": {
         "title": {
          "text": "Cluster, Type"
         },
         "tracegroupgap": 0
        },
        "margin": {
         "t": 60
        },
        "template": {
         "data": {
          "bar": [
           {
            "error_x": {
             "color": "#2a3f5f"
            },
            "error_y": {
             "color": "#2a3f5f"
            },
            "marker": {
             "line": {
              "color": "#E5ECF6",
              "width": 0.5
             },
             "pattern": {
              "fillmode": "overlay",
              "size": 10,
              "solidity": 0.2
             }
            },
            "type": "bar"
           }
          ],
          "barpolar": [
           {
            "marker": {
             "line": {
              "color": "#E5ECF6",
              "width": 0.5
             },
             "pattern": {
              "fillmode": "overlay",
              "size": 10,
              "solidity": 0.2
             }
            },
            "type": "barpolar"
           }
          ],
          "carpet": [
           {
            "aaxis": {
             "endlinecolor": "#2a3f5f",
             "gridcolor": "white",
             "linecolor": "white",
             "minorgridcolor": "white",
             "startlinecolor": "#2a3f5f"
            },
            "baxis": {
             "endlinecolor": "#2a3f5f",
             "gridcolor": "white",
             "linecolor": "white",
             "minorgridcolor": "white",
             "startlinecolor": "#2a3f5f"
            },
            "type": "carpet"
           }
          ],
          "choropleth": [
           {
            "colorbar": {
             "outlinewidth": 0,
             "ticks": ""
            },
            "type": "choropleth"
           }
          ],
          "contour": [
           {
            "colorbar": {
             "outlinewidth": 0,
             "ticks": ""
            },
            "colorscale": [
             [
              0,
              "#0d0887"
             ],
             [
              0.1111111111111111,
              "#46039f"
             ],
             [
              0.2222222222222222,
              "#7201a8"
             ],
             [
              0.3333333333333333,
              "#9c179e"
             ],
             [
              0.4444444444444444,
              "#bd3786"
             ],
             [
              0.5555555555555556,
              "#d8576b"
             ],
             [
              0.6666666666666666,
              "#ed7953"
             ],
             [
              0.7777777777777778,
              "#fb9f3a"
             ],
             [
              0.8888888888888888,
              "#fdca26"
             ],
             [
              1,
              "#f0f921"
             ]
            ],
            "type": "contour"
           }
          ],
          "contourcarpet": [
           {
            "colorbar": {
             "outlinewidth": 0,
             "ticks": ""
            },
            "type": "contourcarpet"
           }
          ],
          "heatmap": [
           {
            "colorbar": {
             "outlinewidth": 0,
             "ticks": ""
            },
            "colorscale": [
             [
              0,
              "#0d0887"
             ],
             [
              0.1111111111111111,
              "#46039f"
             ],
             [
              0.2222222222222222,
              "#7201a8"
             ],
             [
              0.3333333333333333,
              "#9c179e"
             ],
             [
              0.4444444444444444,
              "#bd3786"
             ],
             [
              0.5555555555555556,
              "#d8576b"
             ],
             [
              0.6666666666666666,
              "#ed7953"
             ],
             [
              0.7777777777777778,
              "#fb9f3a"
             ],
             [
              0.8888888888888888,
              "#fdca26"
             ],
             [
              1,
              "#f0f921"
             ]
            ],
            "type": "heatmap"
           }
          ],
          "histogram": [
           {
            "marker": {
             "pattern": {
              "fillmode": "overlay",
              "size": 10,
              "solidity": 0.2
             }
            },
            "type": "histogram"
           }
          ],
          "histogram2d": [
           {
            "colorbar": {
             "outlinewidth": 0,
             "ticks": ""
            },
            "colorscale": [
             [
              0,
              "#0d0887"
             ],
             [
              0.1111111111111111,
              "#46039f"
             ],
             [
              0.2222222222222222,
              "#7201a8"
             ],
             [
              0.3333333333333333,
              "#9c179e"
             ],
             [
              0.4444444444444444,
              "#bd3786"
             ],
             [
              0.5555555555555556,
              "#d8576b"
             ],
             [
              0.6666666666666666,
              "#ed7953"
             ],
             [
              0.7777777777777778,
              "#fb9f3a"
             ],
             [
              0.8888888888888888,
              "#fdca26"
             ],
             [
              1,
              "#f0f921"
             ]
            ],
            "type": "histogram2d"
           }
          ],
          "histogram2dcontour": [
           {
            "colorbar": {
             "outlinewidth": 0,
             "ticks": ""
            },
            "colorscale": [
             [
              0,
              "#0d0887"
             ],
             [
              0.1111111111111111,
              "#46039f"
             ],
             [
              0.2222222222222222,
              "#7201a8"
             ],
             [
              0.3333333333333333,
              "#9c179e"
             ],
             [
              0.4444444444444444,
              "#bd3786"
             ],
             [
              0.5555555555555556,
              "#d8576b"
             ],
             [
              0.6666666666666666,
              "#ed7953"
             ],
             [
              0.7777777777777778,
              "#fb9f3a"
             ],
             [
              0.8888888888888888,
              "#fdca26"
             ],
             [
              1,
              "#f0f921"
             ]
            ],
            "type": "histogram2dcontour"
           }
          ],
          "mesh3d": [
           {
            "colorbar": {
             "outlinewidth": 0,
             "ticks": ""
            },
            "type": "mesh3d"
           }
          ],
          "parcoords": [
           {
            "line": {
             "colorbar": {
              "outlinewidth": 0,
              "ticks": ""
             }
            },
            "type": "parcoords"
           }
          ],
          "pie": [
           {
            "automargin": true,
            "type": "pie"
           }
          ],
          "scatter": [
           {
            "fillpattern": {
             "fillmode": "overlay",
             "size": 10,
             "solidity": 0.2
            },
            "type": "scatter"
           }
          ],
          "scatter3d": [
           {
            "line": {
             "colorbar": {
              "outlinewidth": 0,
              "ticks": ""
             }
            },
            "marker": {
             "colorbar": {
              "outlinewidth": 0,
              "ticks": ""
             }
            },
            "type": "scatter3d"
           }
          ],
          "scattercarpet": [
           {
            "marker": {
             "colorbar": {
              "outlinewidth": 0,
              "ticks": ""
             }
            },
            "type": "scattercarpet"
           }
          ],
          "scattergeo": [
           {
            "marker": {
             "colorbar": {
              "outlinewidth": 0,
              "ticks": ""
             }
            },
            "type": "scattergeo"
           }
          ],
          "scattergl": [
           {
            "marker": {
             "colorbar": {
              "outlinewidth": 0,
              "ticks": ""
             }
            },
            "type": "scattergl"
           }
          ],
          "scattermap": [
           {
            "marker": {
             "colorbar": {
              "outlinewidth": 0,
              "ticks": ""
             }
            },
            "type": "scattermap"
           }
          ],
          "scattermapbox": [
           {
            "marker": {
             "colorbar": {
              "outlinewidth": 0,
              "ticks": ""
             }
            },
            "type": "scattermapbox"
           }
          ],
          "scatterpolar": [
           {
            "marker": {
             "colorbar": {
              "outlinewidth": 0,
              "ticks": ""
             }
            },
            "type": "scatterpolar"
           }
          ],
          "scatterpolargl": [
           {
            "marker": {
             "colorbar": {
              "outlinewidth": 0,
              "ticks": ""
             }
            },
            "type": "scatterpolargl"
           }
          ],
          "scatterternary": [
           {
            "marker": {
             "colorbar": {
              "outlinewidth": 0,
              "ticks": ""
             }
            },
            "type": "scatterternary"
           }
          ],
          "surface": [
           {
            "colorbar": {
             "outlinewidth": 0,
             "ticks": ""
            },
            "colorscale": [
             [
              0,
              "#0d0887"
             ],
             [
              0.1111111111111111,
              "#46039f"
             ],
             [
              0.2222222222222222,
              "#7201a8"
             ],
             [
              0.3333333333333333,
              "#9c179e"
             ],
             [
              0.4444444444444444,
              "#bd3786"
             ],
             [
              0.5555555555555556,
              "#d8576b"
             ],
             [
              0.6666666666666666,
              "#ed7953"
             ],
             [
              0.7777777777777778,
              "#fb9f3a"
             ],
             [
              0.8888888888888888,
              "#fdca26"
             ],
             [
              1,
              "#f0f921"
             ]
            ],
            "type": "surface"
           }
          ],
          "table": [
           {
            "cells": {
             "fill": {
              "color": "#EBF0F8"
             },
             "line": {
              "color": "white"
             }
            },
            "header": {
             "fill": {
              "color": "#C8D4E3"
             },
             "line": {
              "color": "white"
             }
            },
            "type": "table"
           }
          ]
         },
         "layout": {
          "annotationdefaults": {
           "arrowcolor": "#2a3f5f",
           "arrowhead": 0,
           "arrowwidth": 1
          },
          "autotypenumbers": "strict",
          "coloraxis": {
           "colorbar": {
            "outlinewidth": 0,
            "ticks": ""
           }
          },
          "colorscale": {
           "diverging": [
            [
             0,
             "#8e0152"
            ],
            [
             0.1,
             "#c51b7d"
            ],
            [
             0.2,
             "#de77ae"
            ],
            [
             0.3,
             "#f1b6da"
            ],
            [
             0.4,
             "#fde0ef"
            ],
            [
             0.5,
             "#f7f7f7"
            ],
            [
             0.6,
             "#e6f5d0"
            ],
            [
             0.7,
             "#b8e186"
            ],
            [
             0.8,
             "#7fbc41"
            ],
            [
             0.9,
             "#4d9221"
            ],
            [
             1,
             "#276419"
            ]
           ],
           "sequential": [
            [
             0,
             "#0d0887"
            ],
            [
             0.1111111111111111,
             "#46039f"
            ],
            [
             0.2222222222222222,
             "#7201a8"
            ],
            [
             0.3333333333333333,
             "#9c179e"
            ],
            [
             0.4444444444444444,
             "#bd3786"
            ],
            [
             0.5555555555555556,
             "#d8576b"
            ],
            [
             0.6666666666666666,
             "#ed7953"
            ],
            [
             0.7777777777777778,
             "#fb9f3a"
            ],
            [
             0.8888888888888888,
             "#fdca26"
            ],
            [
             1,
             "#f0f921"
            ]
           ],
           "sequentialminus": [
            [
             0,
             "#0d0887"
            ],
            [
             0.1111111111111111,
             "#46039f"
            ],
            [
             0.2222222222222222,
             "#7201a8"
            ],
            [
             0.3333333333333333,
             "#9c179e"
            ],
            [
             0.4444444444444444,
             "#bd3786"
            ],
            [
             0.5555555555555556,
             "#d8576b"
            ],
            [
             0.6666666666666666,
             "#ed7953"
            ],
            [
             0.7777777777777778,
             "#fb9f3a"
            ],
            [
             0.8888888888888888,
             "#fdca26"
            ],
            [
             1,
             "#f0f921"
            ]
           ]
          },
          "colorway": [
           "#636efa",
           "#EF553B",
           "#00cc96",
           "#ab63fa",
           "#FFA15A",
           "#19d3f3",
           "#FF6692",
           "#B6E880",
           "#FF97FF",
           "#FECB52"
          ],
          "font": {
           "color": "#2a3f5f"
          },
          "geo": {
           "bgcolor": "white",
           "lakecolor": "white",
           "landcolor": "#E5ECF6",
           "showlakes": true,
           "showland": true,
           "subunitcolor": "white"
          },
          "hoverlabel": {
           "align": "left"
          },
          "hovermode": "closest",
          "mapbox": {
           "style": "light"
          },
          "paper_bgcolor": "white",
          "plot_bgcolor": "#E5ECF6",
          "polar": {
           "angularaxis": {
            "gridcolor": "white",
            "linecolor": "white",
            "ticks": ""
           },
           "bgcolor": "#E5ECF6",
           "radialaxis": {
            "gridcolor": "white",
            "linecolor": "white",
            "ticks": ""
           }
          },
          "scene": {
           "xaxis": {
            "backgroundcolor": "#E5ECF6",
            "gridcolor": "white",
            "gridwidth": 2,
            "linecolor": "white",
            "showbackground": true,
            "ticks": "",
            "zerolinecolor": "white"
           },
           "yaxis": {
            "backgroundcolor": "#E5ECF6",
            "gridcolor": "white",
            "gridwidth": 2,
            "linecolor": "white",
            "showbackground": true,
            "ticks": "",
            "zerolinecolor": "white"
           },
           "zaxis": {
            "backgroundcolor": "#E5ECF6",
            "gridcolor": "white",
            "gridwidth": 2,
            "linecolor": "white",
            "showbackground": true,
            "ticks": "",
            "zerolinecolor": "white"
           }
          },
          "shapedefaults": {
           "line": {
            "color": "#2a3f5f"
           }
          },
          "ternary": {
           "aaxis": {
            "gridcolor": "white",
            "linecolor": "white",
            "ticks": ""
           },
           "baxis": {
            "gridcolor": "white",
            "linecolor": "white",
            "ticks": ""
           },
           "bgcolor": "#E5ECF6",
           "caxis": {
            "gridcolor": "white",
            "linecolor": "white",
            "ticks": ""
           }
          },
          "title": {
           "x": 0.05
          },
          "xaxis": {
           "automargin": true,
           "gridcolor": "white",
           "linecolor": "white",
           "ticks": "",
           "title": {
            "standoff": 15
           },
           "zerolinecolor": "white",
           "zerolinewidth": 2
          },
          "yaxis": {
           "automargin": true,
           "gridcolor": "white",
           "linecolor": "white",
           "ticks": "",
           "title": {
            "standoff": 15
           },
           "zerolinecolor": "white",
           "zerolinewidth": 2
          }
         }
        },
        "title": {
         "text": "PCA Projection: Original vs. Steered Embeddings | Layer: 11 | Feature: War | Steering: 2"
        },
        "width": 900,
        "xaxis": {
         "anchor": "y",
         "domain": [
          0,
          1
         ],
         "title": {
          "text": "PCA 1"
         }
        },
        "yaxis": {
         "anchor": "x",
         "domain": [
          0,
          1
         ],
         "title": {
          "text": "PCA 2"
         }
        }
       }
      }
     },
     "metadata": {},
     "output_type": "display_data"
    }
   ],
   "source": [
    "plot_pca_fixed_kmeans(\n",
    "    original_embeddings,\n",
    "    steered_embeddings,\n",
    "    all_texts_data,\n",
    "    info_string,\n",
    "    text_range=(0,100),\n",
    "    projected=True,\n",
    "    n_clusters=5,\n",
    "    Write=False\n",
    ")"
   ]
  },
  {
   "cell_type": "markdown",
   "metadata": {
    "id": "zhy6-IjSrPul"
   },
   "source": [
    "`plot_pca_labeled_projection` does the same as the other PCA plotting function, but **without K-Means**, and colors the data points based on the category labels given (note: in this given example, the movie genres are the categories)\n",
    "\n",
    "- `steering_vector` allows the function to plot the embedded point for the steering vector as well, marking its position on the same plane as the text embeddings (if the steering method chosen is *steering with vector*)"
   ]
  },
  {
   "cell_type": "code",
   "execution_count": 9,
   "metadata": {
    "id": "kLl2rc5HrPul",
    "outputId": "4cffd145-417a-4482-cf9a-c67194b81c72"
   },
   "outputs": [
    {
     "data": {
      "application/vnd.plotly.v1+json": {
       "config": {
        "plotlyServerURL": "https://plot.ly"
       },
       "data": [
        {
         "customdata": [
          [
           "Drama",
           "Original"
          ],
          [
           "Drama",
           "Original"
          ],
          [
           "Drama",
           "Original"
          ],
          [
           "Drama",
           "Original"
          ],
          [
           "Drama",
           "Original"
          ],
          [
           "Drama",
           "Original"
          ],
          [
           "Drama",
           "Original"
          ],
          [
           "Drama",
           "Original"
          ],
          [
           "Drama",
           "Original"
          ],
          [
           "Drama",
           "Original"
          ],
          [
           "Drama",
           "Original"
          ],
          [
           "Drama",
           "Original"
          ],
          [
           "Drama",
           "Original"
          ],
          [
           "Drama",
           "Original"
          ],
          [
           "Drama",
           "Original"
          ],
          [
           "Drama",
           "Original"
          ],
          [
           "Drama",
           "Original"
          ],
          [
           "Drama",
           "Original"
          ],
          [
           "Drama",
           "Original"
          ],
          [
           "Drama",
           "Original"
          ],
          [
           "Drama",
           "Original"
          ],
          [
           "Drama",
           "Original"
          ]
         ],
         "hovertemplate": "<b>%{hovertext}</b><br><br>Cluster=%{customdata[0]}<br>Type=%{customdata[1]}<br>PCA 1=%{x:.3f}<br>PCA 2=%{y:.3f}<extra></extra>",
         "hovertext": [
          "Original | The Shawshank Redemption | Drama",
          "Original | The Godfather: Part II | Drama",
          "Original | 12 Angry Men | Drama",
          "Original | Fight Club | Drama",
          "Original | One Flew Over the Cuckoo's Nest | Drama",
          "Original | Gisaengchung | Drama",
          "Original | Soorarai Pottru | Drama",
          "Original | Gladiator | Drama",
          "Original | American History X | Drama",
          "Original | The Lion King | Drama",
          "Original | Modern Times | Drama",
          "Original | Capharnaüm | Drama",
          "Original | Kimi no na wa. | Drama",
          "Original | Avengers: Endgame | Drama",
          "Original | Taare Zameen Par | Drama",
          "Original | Anand | Drama",
          "Original | Tumbbad | Drama",
          "Original | Jagten | Drama",
          "Original | Jodaeiye Nader az Simin | Drama",
          "Original | Miracle in cell NO.7 | Drama",
          "Original | Requiem for a Dream | Drama",
          "Original | American Beauty | Drama"
         ],
         "legendgroup": "Drama, Original",
         "marker": {
          "color": "rgb(228,26,28)",
          "symbol": "circle"
         },
         "mode": "markers",
         "name": "Drama, Original",
         "opacity": 0.3,
         "orientation": "v",
         "showlegend": false,
         "type": "scatter",
         "x": {
          "bdata": "IQrsPAHSZL5iv0a95mtzPMEuMb4AL6S9ofyBPvOtAT6W6fK9kFQGPTpw071syGW+buIKvKup4j5PWRG+DC4hvki66zzAdaC+UCWXvrKKVr5op6m7J2movg==",
          "dtype": "f4"
         },
         "xaxis": "x",
         "y": {
          "bdata": "CD8KvnAr3L3bom6+s/zRvD/Fbb40A0o+0hWpPUGdgr7gIO69dNvFPa0M+D1kAOG98SRGPiXXLD4RV4A+20oOPsu71T7TKBg+5wXSPkt/ij3mMk4+PVp/Pg==",
          "dtype": "f4"
         },
         "yaxis": "y"
        },
        {
         "customdata": [
          [
           "Drama",
           "Steered"
          ],
          [
           "Drama",
           "Steered"
          ],
          [
           "Drama",
           "Steered"
          ],
          [
           "Drama",
           "Steered"
          ],
          [
           "Drama",
           "Steered"
          ],
          [
           "Drama",
           "Steered"
          ],
          [
           "Drama",
           "Steered"
          ],
          [
           "Drama",
           "Steered"
          ],
          [
           "Drama",
           "Steered"
          ],
          [
           "Drama",
           "Steered"
          ],
          [
           "Drama",
           "Steered"
          ],
          [
           "Drama",
           "Steered"
          ],
          [
           "Drama",
           "Steered"
          ],
          [
           "Drama",
           "Steered"
          ],
          [
           "Drama",
           "Steered"
          ],
          [
           "Drama",
           "Steered"
          ],
          [
           "Drama",
           "Steered"
          ],
          [
           "Drama",
           "Steered"
          ],
          [
           "Drama",
           "Steered"
          ],
          [
           "Drama",
           "Steered"
          ],
          [
           "Drama",
           "Steered"
          ],
          [
           "Drama",
           "Steered"
          ]
         ],
         "hovertemplate": "<b>%{hovertext}</b><br><br>Cluster=%{customdata[0]}<br>Type=%{customdata[1]}<br>PCA 1=%{x:.3f}<br>PCA 2=%{y:.3f}<extra></extra>",
         "hovertext": [
          "Steered | The Shawshank Redemption | Drama",
          "Steered | The Godfather: Part II | Drama",
          "Steered | 12 Angry Men | Drama",
          "Steered | Fight Club | Drama",
          "Steered | One Flew Over the Cuckoo's Nest | Drama",
          "Steered | Gisaengchung | Drama",
          "Steered | Soorarai Pottru | Drama",
          "Steered | Gladiator | Drama",
          "Steered | American History X | Drama",
          "Steered | The Lion King | Drama",
          "Steered | Modern Times | Drama",
          "Steered | Capharnaüm | Drama",
          "Steered | Kimi no na wa. | Drama",
          "Steered | Avengers: Endgame | Drama",
          "Steered | Taare Zameen Par | Drama",
          "Steered | Anand | Drama",
          "Steered | Tumbbad | Drama",
          "Steered | Jagten | Drama",
          "Steered | Jodaeiye Nader az Simin | Drama",
          "Steered | Miracle in cell NO.7 | Drama",
          "Steered | Requiem for a Dream | Drama",
          "Steered | American Beauty | Drama"
         ],
         "legendgroup": "Drama, Steered",
         "marker": {
          "color": "rgb(228,26,28)",
          "symbol": "diamond"
         },
         "mode": "markers",
         "name": "Drama, Steered",
         "opacity": 1,
         "orientation": "v",
         "showlegend": true,
         "type": "scatter",
         "x": {
          "bdata": "Y3JOPiBat7t4IAQ+1GliPlRc/TwgMtk9rJHUPq5Aij46I7Q9sHJIPsWuqD3g4U+8NuUwPigrCz/LYao9WOJVPWJTWD5MaPG8UJVYvd4fhzz3byY+2gi+vQ==",
          "dtype": "f4"
         },
         "xaxis": "x",
         "y": {
          "bdata": "b6KJvsIvir7nG7C+vm9KvlRetr56FKE8QHzbvTBntb6s6Xu+3PRwvWrBQ735zoS+ELliPKBiuLyFSxU9slwsveLMbT7CyKS9loo2Ppra6b2HthM98CcuPQ==",
          "dtype": "f4"
         },
         "yaxis": "y"
        },
        {
         "customdata": [
          [
           "Crime",
           "Original"
          ],
          [
           "Crime",
           "Original"
          ],
          [
           "Crime",
           "Original"
          ],
          [
           "Crime",
           "Original"
          ],
          [
           "Crime",
           "Original"
          ],
          [
           "Crime",
           "Original"
          ],
          [
           "Crime",
           "Original"
          ],
          [
           "Crime",
           "Original"
          ],
          [
           "Crime",
           "Original"
          ],
          [
           "Crime",
           "Original"
          ],
          [
           "Crime",
           "Original"
          ],
          [
           "Crime",
           "Original"
          ],
          [
           "Crime",
           "Original"
          ],
          [
           "Crime",
           "Original"
          ],
          [
           "Crime",
           "Original"
          ],
          [
           "Crime",
           "Original"
          ],
          [
           "Crime",
           "Original"
          ],
          [
           "Crime",
           "Original"
          ]
         ],
         "hovertemplate": "<b>%{hovertext}</b><br><br>Cluster=%{customdata[0]}<br>Type=%{customdata[1]}<br>PCA 1=%{x:.3f}<br>PCA 2=%{y:.3f}<extra></extra>",
         "hovertext": [
          "Original | The Godfather | Crime",
          "Original | The Dark Knight | Crime",
          "Original | Pulp Fiction | Crime",
          "Original | Cidade de Deus | Crime",
          "Original | The Green Mile | Crime",
          "Original | Se7en | Crime",
          "Original | The Silence of the Lambs | Crime",
          "Original | Joker | Crime",
          "Original | The Departed | Crime",
          "Original | The Usual Suspects | Crime",
          "Original | Léon | Crime",
          "Original | Vikram Vedha | Crime",
          "Original | Once Upon a Time in America | Crime",
          "Original | Tengoku to jigoku | Crime",
          "Original | Witness for the Prosecution | Crime",
          "Original | Andhadhun | Crime",
          "Original | Drishyam | Crime",
          "Original | Snatch | Crime"
         ],
         "legendgroup": "Crime, Original",
         "marker": {
          "color": "rgb(55,126,184)",
          "symbol": "circle"
         },
         "mode": "markers",
         "name": "Crime, Original",
         "opacity": 0.3,
         "orientation": "v",
         "showlegend": false,
         "type": "scatter",
         "x": {
          "bdata": "ErRFvc4URj1rykm8tBwtvWn8Wr7SwKI8sWQFPbA4p71AwRg9pb9yPZ/vl7w7lPo9gqigviABy73tHoW90YWovoe0GL6dyxA+",
          "dtype": "f4"
         },
         "xaxis": "x",
         "y": {
          "bdata": "nYMMvh/gPL4pAIy+Q11TPrNEtb4qNcy+yIvIvgCOC74pf8y+132Bvqa4yD1kuie+FZoEvpSYU77imWi+zs2LvZEzS742nSu+",
          "dtype": "f4"
         },
         "yaxis": "y"
        },
        {
         "customdata": [
          [
           "Crime",
           "Steered"
          ],
          [
           "Crime",
           "Steered"
          ],
          [
           "Crime",
           "Steered"
          ],
          [
           "Crime",
           "Steered"
          ],
          [
           "Crime",
           "Steered"
          ],
          [
           "Crime",
           "Steered"
          ],
          [
           "Crime",
           "Steered"
          ],
          [
           "Crime",
           "Steered"
          ],
          [
           "Crime",
           "Steered"
          ],
          [
           "Crime",
           "Steered"
          ],
          [
           "Crime",
           "Steered"
          ],
          [
           "Crime",
           "Steered"
          ],
          [
           "Crime",
           "Steered"
          ],
          [
           "Crime",
           "Steered"
          ],
          [
           "Crime",
           "Steered"
          ],
          [
           "Crime",
           "Steered"
          ],
          [
           "Crime",
           "Steered"
          ],
          [
           "Crime",
           "Steered"
          ]
         ],
         "hovertemplate": "<b>%{hovertext}</b><br><br>Cluster=%{customdata[0]}<br>Type=%{customdata[1]}<br>PCA 1=%{x:.3f}<br>PCA 2=%{y:.3f}<extra></extra>",
         "hovertext": [
          "Steered | The Godfather | Crime",
          "Steered | The Dark Knight | Crime",
          "Steered | Pulp Fiction | Crime",
          "Steered | Cidade de Deus | Crime",
          "Steered | The Green Mile | Crime",
          "Steered | Se7en | Crime",
          "Steered | The Silence of the Lambs | Crime",
          "Steered | Joker | Crime",
          "Steered | The Departed | Crime",
          "Steered | The Usual Suspects | Crime",
          "Steered | Léon | Crime",
          "Steered | Vikram Vedha | Crime",
          "Steered | Once Upon a Time in America | Crime",
          "Steered | Tengoku to jigoku | Crime",
          "Steered | Witness for the Prosecution | Crime",
          "Steered | Andhadhun | Crime",
          "Steered | Drishyam | Crime",
          "Steered | Snatch | Crime"
         ],
         "legendgroup": "Crime, Steered",
         "marker": {
          "color": "rgb(55,126,184)",
          "symbol": "diamond"
         },
         "mode": "markers",
         "name": "Crime, Steered",
         "opacity": 1,
         "orientation": "v",
         "showlegend": true,
         "type": "scatter",
         "x": {
          "bdata": "BIXnPdOraz4LKzc+vN4dPnAoCzzWizU+qK5ZPgMJFj4UDVY+yZx+Pg09Qz7q7I4+bMOdvfuZvD2oPPA9Kh3JvXSI/DzKCKE+",
          "dtype": "f4"
         },
         "xaxis": "x",
         "y": {
          "bdata": "ppKEvrJQm755ese+EA13PJQY5L50PvK+MrrovvFjlr5AE/a+EkG2vvQ8wr3pbY6++eOWvmAGqb7jeK2+tA5uvlscnr5IPJu+",
          "dtype": "f4"
         },
         "yaxis": "y"
        },
        {
         "customdata": [
          [
           "Adventure",
           "Original"
          ],
          [
           "Adventure",
           "Original"
          ],
          [
           "Adventure",
           "Original"
          ],
          [
           "Adventure",
           "Original"
          ],
          [
           "Adventure",
           "Original"
          ],
          [
           "Adventure",
           "Original"
          ],
          [
           "Adventure",
           "Original"
          ],
          [
           "Adventure",
           "Original"
          ],
          [
           "Adventure",
           "Original"
          ],
          [
           "Adventure",
           "Original"
          ],
          [
           "Adventure",
           "Original"
          ],
          [
           "Adventure",
           "Original"
          ]
         ],
         "hovertemplate": "<b>%{hovertext}</b><br><br>Cluster=%{customdata[0]}<br>Type=%{customdata[1]}<br>PCA 1=%{x:.3f}<br>PCA 2=%{y:.3f}<extra></extra>",
         "hovertext": [
          "Original | The Lord of the Rings: The Return of the King | Adventure",
          "Original | The Lord of the Rings: The Fellowship of the Ring | Adventure",
          "Original | The Lord of the Rings: The Two Towers | Adventure",
          "Original | Star Wars: Episode V - The Empire Strikes Back | Adventure",
          "Original | Sen to Chihiro no kamikakushi | Adventure",
          "Original | Shichinin no samurai | Adventure",
          "Original | Spider-Man: Into the Spider-Verse | Adventure",
          "Original | Avengers: Infinity War | Adventure",
          "Original | The Dark Knight Rises | Adventure",
          "Original | WALL·E | Adventure",
          "Original | Mononoke-hime | Adventure",
          "Original | Raiders of the Lost Ark | Adventure"
         ],
         "legendgroup": "Adventure, Original",
         "marker": {
          "color": "rgb(77,175,74)",
          "symbol": "circle"
         },
         "mode": "markers",
         "name": "Adventure, Original",
         "opacity": 0.3,
         "orientation": "v",
         "showlegend": false,
         "type": "scatter",
         "x": {
          "bdata": "3EQHPzdh2j4oAAE/1CLuPlXZorx9w4I+/tNxPtIVCj823TM9ljJhPohM+j3Wufk9",
          "dtype": "f4"
         },
         "xaxis": "x",
         "y": {
          "bdata": "AeQgPrChhj4Q3l0+ufstPfSmtj7HyL+9+VGJPam0mT2cQ9G9TymCPhFJgD6jzhE9",
          "dtype": "f4"
         },
         "yaxis": "y"
        },
        {
         "customdata": [
          [
           "Adventure",
           "Steered"
          ],
          [
           "Adventure",
           "Steered"
          ],
          [
           "Adventure",
           "Steered"
          ],
          [
           "Adventure",
           "Steered"
          ],
          [
           "Adventure",
           "Steered"
          ],
          [
           "Adventure",
           "Steered"
          ],
          [
           "Adventure",
           "Steered"
          ],
          [
           "Adventure",
           "Steered"
          ],
          [
           "Adventure",
           "Steered"
          ],
          [
           "Adventure",
           "Steered"
          ],
          [
           "Adventure",
           "Steered"
          ],
          [
           "Adventure",
           "Steered"
          ]
         ],
         "hovertemplate": "<b>%{hovertext}</b><br><br>Cluster=%{customdata[0]}<br>Type=%{customdata[1]}<br>PCA 1=%{x:.3f}<br>PCA 2=%{y:.3f}<extra></extra>",
         "hovertext": [
          "Steered | The Lord of the Rings: The Return of the King | Adventure",
          "Steered | The Lord of the Rings: The Fellowship of the Ring | Adventure",
          "Steered | The Lord of the Rings: The Two Towers | Adventure",
          "Steered | Star Wars: Episode V - The Empire Strikes Back | Adventure",
          "Steered | Sen to Chihiro no kamikakushi | Adventure",
          "Steered | Shichinin no samurai | Adventure",
          "Steered | Spider-Man: Into the Spider-Verse | Adventure",
          "Steered | Avengers: Infinity War | Adventure",
          "Steered | The Dark Knight Rises | Adventure",
          "Steered | WALL·E | Adventure",
          "Steered | Mononoke-hime | Adventure",
          "Steered | Raiders of the Lost Ark | Adventure"
         ],
         "legendgroup": "Adventure, Steered",
         "marker": {
          "color": "rgb(77,175,74)",
          "symbol": "diamond"
         },
         "mode": "markers",
         "name": "Adventure, Steered",
         "opacity": 1,
         "orientation": "v",
         "showlegend": true,
         "type": "scatter",
         "x": {
          "bdata": "QjYfP6zNCz+fYBo/9PAPP5LcRT7Nkb0+6728PrxYGD8EMGA+hIm/PtbTnj5oLZk+",
          "dtype": "f4"
         },
         "xaxis": "x",
         "y": {
          "bdata": "TBCfvJPGlj0MVXQ8eEf+vRdsDT7i3lK+OC2yvc5Nmb18JnS+XC5pPQ3jID2gugu+",
          "dtype": "f4"
         },
         "yaxis": "y"
        },
        {
         "customdata": [
          [
           "History",
           "Original"
          ]
         ],
         "hovertemplate": "<b>%{hovertext}</b><br><br>Cluster=%{customdata[0]}<br>Type=%{customdata[1]}<br>PCA 1=%{x:.3f}<br>PCA 2=%{y:.3f}<extra></extra>",
         "hovertext": [
          "Original | Schindler's List | History"
         ],
         "legendgroup": "History, Original",
         "marker": {
          "color": "rgb(152,78,163)",
          "symbol": "circle"
         },
         "mode": "markers",
         "name": "History, Original",
         "opacity": 0.3,
         "orientation": "v",
         "showlegend": false,
         "type": "scatter",
         "x": {
          "bdata": "RARCvg==",
          "dtype": "f4"
         },
         "xaxis": "x",
         "y": {
          "bdata": "xTjNvQ==",
          "dtype": "f4"
         },
         "yaxis": "y"
        },
        {
         "customdata": [
          [
           "History",
           "Steered"
          ]
         ],
         "hovertemplate": "<b>%{hovertext}</b><br><br>Cluster=%{customdata[0]}<br>Type=%{customdata[1]}<br>PCA 1=%{x:.3f}<br>PCA 2=%{y:.3f}<extra></extra>",
         "hovertext": [
          "Steered | Schindler's List | History"
         ],
         "legendgroup": "History, Steered",
         "marker": {
          "color": "rgb(152,78,163)",
          "symbol": "diamond"
         },
         "mode": "markers",
         "name": "History, Steered",
         "opacity": 1,
         "orientation": "v",
         "showlegend": true,
         "type": "scatter",
         "x": {
          "bdata": "6Ko4PA==",
          "dtype": "f4"
         },
         "xaxis": "x",
         "y": {
          "bdata": "L/SAvg==",
          "dtype": "f4"
         },
         "yaxis": "y"
        },
        {
         "customdata": [
          [
           "Sci-Fi",
           "Original"
          ],
          [
           "Sci-Fi",
           "Original"
          ],
          [
           "Sci-Fi",
           "Original"
          ],
          [
           "Sci-Fi",
           "Original"
          ],
          [
           "Sci-Fi",
           "Original"
          ],
          [
           "Sci-Fi",
           "Original"
          ]
         ],
         "hovertemplate": "<b>%{hovertext}</b><br><br>Cluster=%{customdata[0]}<br>Type=%{customdata[1]}<br>PCA 1=%{x:.3f}<br>PCA 2=%{y:.3f}<extra></extra>",
         "hovertext": [
          "Original | Inception | Sci-Fi",
          "Original | The Matrix | Sci-Fi",
          "Original | Interstellar | Sci-Fi",
          "Original | Terminator 2: Judgment Day | Sci-Fi",
          "Original | Back to the Future | Sci-Fi",
          "Original | Alien | Sci-Fi"
         ],
         "legendgroup": "Sci-Fi, Original",
         "marker": {
          "color": "rgb(255,127,0)",
          "symbol": "circle"
         },
         "mode": "markers",
         "name": "Sci-Fi, Original",
         "opacity": 0.3,
         "orientation": "v",
         "showlegend": false,
         "type": "scatter",
         "x": {
          "bdata": "vzHgvfFWXr0lu8E+qhWAvPkeQ74tz3M+",
          "dtype": "f4"
         },
         "xaxis": "x",
         "y": {
          "bdata": "9OoYvYRji7wA800+NEm7O4F5Wj7NcAM+",
          "dtype": "f4"
         },
         "yaxis": "y"
        },
        {
         "customdata": [
          [
           "Sci-Fi",
           "Steered"
          ],
          [
           "Sci-Fi",
           "Steered"
          ],
          [
           "Sci-Fi",
           "Steered"
          ],
          [
           "Sci-Fi",
           "Steered"
          ],
          [
           "Sci-Fi",
           "Steered"
          ],
          [
           "Sci-Fi",
           "Steered"
          ]
         ],
         "hovertemplate": "<b>%{hovertext}</b><br><br>Cluster=%{customdata[0]}<br>Type=%{customdata[1]}<br>PCA 1=%{x:.3f}<br>PCA 2=%{y:.3f}<extra></extra>",
         "hovertext": [
          "Steered | Inception | Sci-Fi",
          "Steered | The Matrix | Sci-Fi",
          "Steered | Interstellar | Sci-Fi",
          "Steered | Terminator 2: Judgment Day | Sci-Fi",
          "Steered | Back to the Future | Sci-Fi",
          "Steered | Alien | Sci-Fi"
         ],
         "legendgroup": "Sci-Fi, Steered",
         "marker": {
          "color": "rgb(255,127,0)",
          "symbol": "diamond"
         },
         "mode": "markers",
         "name": "Sci-Fi, Steered",
         "opacity": 1,
         "orientation": "v",
         "showlegend": true,
         "type": "scatter",
         "x": {
          "bdata": "av3HPTLpDj52avo+lj0hPmi08jxzDsY+",
          "dtype": "f4"
         },
         "xaxis": "x",
         "y": {
          "bdata": "fAJTvphlL748+Uc9td4LvlDfCjxku2y9",
          "dtype": "f4"
         },
         "yaxis": "y"
        },
        {
         "customdata": [
          [
           "Romance",
           "Original"
          ],
          [
           "Romance",
           "Original"
          ],
          [
           "Romance",
           "Original"
          ],
          [
           "Romance",
           "Original"
          ],
          [
           "Romance",
           "Original"
          ],
          [
           "Romance",
           "Original"
          ]
         ],
         "hovertemplate": "<b>%{hovertext}</b><br><br>Cluster=%{customdata[0]}<br>Type=%{customdata[1]}<br>PCA 1=%{x:.3f}<br>PCA 2=%{y:.3f}<extra></extra>",
         "hovertext": [
          "Original | Forrest Gump | Romance",
          "Original | Nuovo Cinema Paradiso | Romance",
          "Original | Casablanca | Romance",
          "Original | Eternal Sunshine of the Spotless Mind | Romance",
          "Original | Amélie | Romance",
          "Original | Good Will Hunting | Romance"
         ],
         "legendgroup": "Romance, Original",
         "marker": {
          "color": "rgb(255,255,51)",
          "symbol": "circle"
         },
         "mode": "markers",
         "name": "Romance, Original",
         "opacity": 0.3,
         "orientation": "v",
         "showlegend": false,
         "type": "scatter",
         "x": {
          "bdata": "mFYkvkYUmr7U8Dm+KdkmvgT2I74uujK+",
          "dtype": "f4"
         },
         "xaxis": "x",
         "y": {
          "bdata": "s5QOPWrSlT5QXxs6sm9QPoLSvj3RBjs9",
          "dtype": "f4"
         },
         "yaxis": "y"
        },
        {
         "customdata": [
          [
           "Romance",
           "Steered"
          ],
          [
           "Romance",
           "Steered"
          ],
          [
           "Romance",
           "Steered"
          ],
          [
           "Romance",
           "Steered"
          ],
          [
           "Romance",
           "Steered"
          ],
          [
           "Romance",
           "Steered"
          ]
         ],
         "hovertemplate": "<b>%{hovertext}</b><br><br>Cluster=%{customdata[0]}<br>Type=%{customdata[1]}<br>PCA 1=%{x:.3f}<br>PCA 2=%{y:.3f}<extra></extra>",
         "hovertext": [
          "Steered | Forrest Gump | Romance",
          "Steered | Nuovo Cinema Paradiso | Romance",
          "Steered | Casablanca | Romance",
          "Steered | Eternal Sunshine of the Spotless Mind | Romance",
          "Steered | Amélie | Romance",
          "Steered | Good Will Hunting | Romance"
         ],
         "legendgroup": "Romance, Steered",
         "marker": {
          "color": "rgb(255,255,51)",
          "symbol": "diamond"
         },
         "mode": "markers",
         "name": "Romance, Steered",
         "opacity": 1,
         "orientation": "v",
         "showlegend": true,
         "type": "scatter",
         "x": {
          "bdata": "teOZPRahr72+imM9yHbYPEQPez0/CY09",
          "dtype": "f4"
         },
         "xaxis": "x",
         "y": {
          "bdata": "AVofvpBhtD1a9Dy+AJ35PNKaxr1BNCS+",
          "dtype": "f4"
         },
         "yaxis": "y"
        },
        {
         "customdata": [
          [
           "Western",
           "Original"
          ],
          [
           "Western",
           "Original"
          ],
          [
           "Western",
           "Original"
          ]
         ],
         "hovertemplate": "<b>%{hovertext}</b><br><br>Cluster=%{customdata[0]}<br>Type=%{customdata[1]}<br>PCA 1=%{x:.3f}<br>PCA 2=%{y:.3f}<extra></extra>",
         "hovertext": [
          "Original | Il buono, il brutto, il cattivo | Western",
          "Original | Once Upon a Time in the West | Western",
          "Original | Django Unchained | Western"
         ],
         "legendgroup": "Western, Original",
         "marker": {
          "color": "rgb(166,86,40)",
          "symbol": "circle"
         },
         "mode": "markers",
         "name": "Western, Original",
         "opacity": 0.3,
         "orientation": "v",
         "showlegend": false,
         "type": "scatter",
         "x": {
          "bdata": "7IdUPpmFCzp90yC9",
          "dtype": "f4"
         },
         "xaxis": "x",
         "y": {
          "bdata": "jcg0vj6VUr62pGi+",
          "dtype": "f4"
         },
         "yaxis": "y"
        },
        {
         "customdata": [
          [
           "Western",
           "Steered"
          ],
          [
           "Western",
           "Steered"
          ],
          [
           "Western",
           "Steered"
          ]
         ],
         "hovertemplate": "<b>%{hovertext}</b><br><br>Cluster=%{customdata[0]}<br>Type=%{customdata[1]}<br>PCA 1=%{x:.3f}<br>PCA 2=%{y:.3f}<extra></extra>",
         "hovertext": [
          "Steered | Il buono, il brutto, il cattivo | Western",
          "Steered | Once Upon a Time in the West | Western",
          "Steered | Django Unchained | Western"
         ],
         "legendgroup": "Western, Steered",
         "marker": {
          "color": "rgb(166,86,40)",
          "symbol": "diamond"
         },
         "mode": "markers",
         "name": "Western, Steered",
         "opacity": 1,
         "orientation": "v",
         "showlegend": true,
         "type": "scatter",
         "x": {
          "bdata": "Flq7PilDOT5BVgk+",
          "dtype": "f4"
         },
         "xaxis": "x",
         "y": {
          "bdata": "oA2gvlDnp769ELK+",
          "dtype": "f4"
         },
         "yaxis": "y"
        },
        {
         "customdata": [
          [
           "Biography",
           "Original"
          ],
          [
           "Biography",
           "Original"
          ],
          [
           "Biography",
           "Original"
          ],
          [
           "Biography",
           "Original"
          ],
          [
           "Biography",
           "Original"
          ]
         ],
         "hovertemplate": "<b>%{hovertext}</b><br><br>Cluster=%{customdata[0]}<br>Type=%{customdata[1]}<br>PCA 1=%{x:.3f}<br>PCA 2=%{y:.3f}<extra></extra>",
         "hovertext": [
          "Original | Goodfellas | Biography",
          "Original | Hamilton | Biography",
          "Original | The Intouchables | Biography",
          "Original | Ayla: The Daughter of War | Biography",
          "Original | Dangal | Biography"
         ],
         "legendgroup": "Biography, Original",
         "marker": {
          "color": "rgb(247,129,191)",
          "symbol": "circle"
         },
         "mode": "markers",
         "name": "Biography, Original",
         "opacity": 0.3,
         "orientation": "v",
         "showlegend": false,
         "type": "scatter",
         "x": {
          "bdata": "eOErvqnZqLye9WW+/Ca2vCpnoD0=",
          "dtype": "f4"
         },
         "xaxis": "x",
         "y": {
          "bdata": "+6IFvuQdg731tqw9SbqbvDDRrD0=",
          "dtype": "f4"
         },
         "yaxis": "y"
        },
        {
         "customdata": [
          [
           "Biography",
           "Steered"
          ],
          [
           "Biography",
           "Steered"
          ],
          [
           "Biography",
           "Steered"
          ],
          [
           "Biography",
           "Steered"
          ],
          [
           "Biography",
           "Steered"
          ]
         ],
         "hovertemplate": "<b>%{hovertext}</b><br><br>Cluster=%{customdata[0]}<br>Type=%{customdata[1]}<br>PCA 1=%{x:.3f}<br>PCA 2=%{y:.3f}<extra></extra>",
         "hovertext": [
          "Steered | Goodfellas | Biography",
          "Steered | Hamilton | Biography",
          "Steered | The Intouchables | Biography",
          "Steered | Ayla: The Daughter of War | Biography",
          "Steered | Dangal | Biography"
         ],
         "legendgroup": "Biography, Steered",
         "marker": {
          "color": "rgb(247,129,191)",
          "symbol": "diamond"
         },
         "mode": "markers",
         "name": "Biography, Steered",
         "opacity": 1,
         "orientation": "v",
         "showlegend": true,
         "type": "scatter",
         "x": {
          "bdata": "wlPvPCjWMj74kwE8WNpHPmJbhT4=",
          "dtype": "f4"
         },
         "xaxis": "x",
         "y": {
          "bdata": "y9GOvtK/ar6AuNi9Jh5Cvqasv70=",
          "dtype": "f4"
         },
         "yaxis": "y"
        },
        {
         "customdata": [
          [
           "War",
           "Original"
          ],
          [
           "War",
           "Original"
          ],
          [
           "War",
           "Original"
          ],
          [
           "War",
           "Original"
          ],
          [
           "War",
           "Original"
          ],
          [
           "War",
           "Original"
          ],
          [
           "War",
           "Original"
          ]
         ],
         "hovertemplate": "<b>%{hovertext}</b><br><br>Cluster=%{customdata[0]}<br>Type=%{customdata[1]}<br>PCA 1=%{x:.3f}<br>PCA 2=%{y:.3f}<extra></extra>",
         "hovertext": [
          "Original | Saving Private Ryan | War",
          "Original | Hotaru no haka | War",
          "Original | Apocalypse Now | War",
          "Original | Paths of Glory | War",
          "Original | The Great Dictator | War",
          "Original | 1917 | War",
          "Original | Inglourious Basterds | War"
         ],
         "legendgroup": "War, Original",
         "marker": {
          "color": "rgb(153,153,153)",
          "symbol": "circle"
         },
         "mode": "markers",
         "name": "War, Original",
         "opacity": 0.3,
         "orientation": "v",
         "showlegend": false,
         "type": "scatter",
         "x": {
          "bdata": "5E7SPuAhTj3wMVA+J6ebPmLfPT1+7cA+CjhsPQ==",
          "dtype": "f4"
         },
         "xaxis": "x",
         "y": {
          "bdata": "66k7vguvOj5uN5S+wMV6vkZSurur0kK+zDyZvg==",
          "dtype": "f4"
         },
         "yaxis": "y"
        },
        {
         "customdata": [
          [
           "War",
           "Steered"
          ],
          [
           "War",
           "Steered"
          ],
          [
           "War",
           "Steered"
          ],
          [
           "War",
           "Steered"
          ],
          [
           "War",
           "Steered"
          ],
          [
           "War",
           "Steered"
          ],
          [
           "War",
           "Steered"
          ]
         ],
         "hovertemplate": "<b>%{hovertext}</b><br><br>Cluster=%{customdata[0]}<br>Type=%{customdata[1]}<br>PCA 1=%{x:.3f}<br>PCA 2=%{y:.3f}<extra></extra>",
         "hovertext": [
          "Steered | Saving Private Ryan | War",
          "Steered | Hotaru no haka | War",
          "Steered | Apocalypse Now | War",
          "Steered | Paths of Glory | War",
          "Steered | The Great Dictator | War",
          "Steered | 1917 | War",
          "Steered | Inglourious Basterds | War"
         ],
         "legendgroup": "War, Steered",
         "marker": {
          "color": "rgb(153,153,153)",
          "symbol": "diamond"
         },
         "mode": "markers",
         "name": "War, Steered",
         "opacity": 1,
         "orientation": "v",
         "showlegend": true,
         "type": "scatter",
         "x": {
          "bdata": "la/9PrDwTT6T8Kc+eYfNPsQgYj7/yfo+YCF0Pg==",
          "dtype": "f4"
         },
         "xaxis": "x",
         "y": {
          "bdata": "4NePvnLq2jwQkru+tKejvjrGJL7/Lp2+hqLKvg==",
          "dtype": "f4"
         },
         "yaxis": "y"
        },
        {
         "customdata": [
          [
           "Comedy",
           "Original"
          ],
          [
           "Comedy",
           "Original"
          ],
          [
           "Comedy",
           "Original"
          ],
          [
           "Comedy",
           "Original"
          ]
         ],
         "hovertemplate": "<b>%{hovertext}</b><br><br>Cluster=%{customdata[0]}<br>Type=%{customdata[1]}<br>PCA 1=%{x:.3f}<br>PCA 2=%{y:.3f}<extra></extra>",
         "hovertext": [
          "Original | La vita è bella | Comedy",
          "Original | City Lights | Comedy",
          "Original | 3 Idiots | Comedy",
          "Original | Dr. Strangelove or: How I Learned to Stop Worrying and Love the Bomb | Comedy"
         ],
         "legendgroup": "Comedy, Original",
         "marker": {
          "color": "rgb(228,26,28)",
          "symbol": "circle"
         },
         "mode": "markers",
         "name": "Comedy, Original",
         "opacity": 0.3,
         "orientation": "v",
         "showlegend": false,
         "type": "scatter",
         "x": {
          "bdata": "//5xvlUQi72/GAa+ssUtPg==",
          "dtype": "f4"
         },
         "xaxis": "x",
         "y": {
          "bdata": "ukPbPIpiRT5sHnM+AqbyvQ==",
          "dtype": "f4"
         },
         "yaxis": "y"
        },
        {
         "customdata": [
          [
           "Comedy",
           "Steered"
          ],
          [
           "Comedy",
           "Steered"
          ],
          [
           "Comedy",
           "Steered"
          ],
          [
           "Comedy",
           "Steered"
          ]
         ],
         "hovertemplate": "<b>%{hovertext}</b><br><br>Cluster=%{customdata[0]}<br>Type=%{customdata[1]}<br>PCA 1=%{x:.3f}<br>PCA 2=%{y:.3f}<extra></extra>",
         "hovertext": [
          "Steered | La vita è bella | Comedy",
          "Steered | City Lights | Comedy",
          "Steered | 3 Idiots | Comedy",
          "Steered | Dr. Strangelove or: How I Learned to Stop Worrying and Love the Bomb | Comedy"
         ],
         "legendgroup": "Comedy, Steered",
         "marker": {
          "color": "rgb(228,26,28)",
          "symbol": "diamond"
         },
         "mode": "markers",
         "name": "Comedy, Steered",
         "opacity": 1,
         "orientation": "v",
         "showlegend": true,
         "type": "scatter",
         "x": {
          "bdata": "AAPEOmRQKz7GiQc+sqGgPg==",
          "dtype": "f4"
         },
         "xaxis": "x",
         "y": {
          "bdata": "wwgivui2A70QVTm8irxzvg==",
          "dtype": "f4"
         },
         "yaxis": "y"
        },
        {
         "customdata": [
          [
           "Action",
           "Original"
          ]
         ],
         "hovertemplate": "<b>%{hovertext}</b><br><br>Cluster=%{customdata[0]}<br>Type=%{customdata[1]}<br>PCA 1=%{x:.3f}<br>PCA 2=%{y:.3f}<extra></extra>",
         "hovertext": [
          "Original | Star Wars | Action"
         ],
         "legendgroup": "Action, Original",
         "marker": {
          "color": "rgb(55,126,184)",
          "symbol": "circle"
         },
         "mode": "markers",
         "name": "Action, Original",
         "opacity": 0.3,
         "orientation": "v",
         "showlegend": false,
         "type": "scatter",
         "x": {
          "bdata": "QK0HPw==",
          "dtype": "f4"
         },
         "xaxis": "x",
         "y": {
          "bdata": "A4GCPQ==",
          "dtype": "f4"
         },
         "yaxis": "y"
        },
        {
         "customdata": [
          [
           "Action",
           "Steered"
          ]
         ],
         "hovertemplate": "<b>%{hovertext}</b><br><br>Cluster=%{customdata[0]}<br>Type=%{customdata[1]}<br>PCA 1=%{x:.3f}<br>PCA 2=%{y:.3f}<extra></extra>",
         "hovertext": [
          "Steered | Star Wars | Action"
         ],
         "legendgroup": "Action, Steered",
         "marker": {
          "color": "rgb(55,126,184)",
          "symbol": "diamond"
         },
         "mode": "markers",
         "name": "Action, Steered",
         "opacity": 1,
         "orientation": "v",
         "showlegend": true,
         "type": "scatter",
         "x": {
          "bdata": "Pl8dPw==",
          "dtype": "f4"
         },
         "xaxis": "x",
         "y": {
          "bdata": "WlvevQ==",
          "dtype": "f4"
         },
         "yaxis": "y"
        },
        {
         "customdata": [
          [
           "Mystery",
           "Original"
          ],
          [
           "Mystery",
           "Original"
          ],
          [
           "Mystery",
           "Original"
          ],
          [
           "Mystery",
           "Original"
          ]
         ],
         "hovertemplate": "<b>%{hovertext}</b><br><br>Cluster=%{customdata[0]}<br>Type=%{customdata[1]}<br>PCA 1=%{x:.3f}<br>PCA 2=%{y:.3f}<extra></extra>",
         "hovertext": [
          "Original | Seppuku | Mystery",
          "Original | The Prestige | Mystery",
          "Original | Oldeuboi | Mystery",
          "Original | Incendies | Mystery"
         ],
         "legendgroup": "Mystery, Original",
         "marker": {
          "color": "rgb(77,175,74)",
          "symbol": "circle"
         },
         "mode": "markers",
         "name": "Mystery, Original",
         "opacity": 0.3,
         "orientation": "v",
         "showlegend": false,
         "type": "scatter",
         "x": {
          "bdata": "oiwIPNVhTD4/d9k927qFvA==",
          "dtype": "f4"
         },
         "xaxis": "x",
         "y": {
          "bdata": "9WvzPWXrETy/S6m9sbvLPg==",
          "dtype": "f4"
         },
         "yaxis": "y"
        },
        {
         "customdata": [
          [
           "Mystery",
           "Steered"
          ],
          [
           "Mystery",
           "Steered"
          ],
          [
           "Mystery",
           "Steered"
          ],
          [
           "Mystery",
           "Steered"
          ]
         ],
         "hovertemplate": "<b>%{hovertext}</b><br><br>Cluster=%{customdata[0]}<br>Type=%{customdata[1]}<br>PCA 1=%{x:.3f}<br>PCA 2=%{y:.3f}<extra></extra>",
         "hovertext": [
          "Steered | Seppuku | Mystery",
          "Steered | The Prestige | Mystery",
          "Steered | Oldeuboi | Mystery",
          "Steered | Incendies | Mystery"
         ],
         "legendgroup": "Mystery, Steered",
         "marker": {
          "color": "rgb(77,175,74)",
          "symbol": "diamond"
         },
         "mode": "markers",
         "name": "Mystery, Steered",
         "opacity": 1,
         "orientation": "v",
         "showlegend": true,
         "type": "scatter",
         "x": {
          "bdata": "hm1ePo2Uuz7Zy4Y++J8ZPg==",
          "dtype": "f4"
         },
         "xaxis": "x",
         "y": {
          "bdata": "suujvTsOJ76Mblq+iSdiPg==",
          "dtype": "f4"
         },
         "yaxis": "y"
        },
        {
         "customdata": [
          [
           "Fantasy",
           "Original"
          ]
         ],
         "hovertemplate": "<b>%{hovertext}</b><br><br>Cluster=%{customdata[0]}<br>Type=%{customdata[1]}<br>PCA 1=%{x:.3f}<br>PCA 2=%{y:.3f}<extra></extra>",
         "hovertext": [
          "Original | It's a Wonderful Life | Fantasy"
         ],
         "legendgroup": "Fantasy, Original",
         "marker": {
          "color": "rgb(152,78,163)",
          "symbol": "circle"
         },
         "mode": "markers",
         "name": "Fantasy, Original",
         "opacity": 0.3,
         "orientation": "v",
         "showlegend": false,
         "type": "scatter",
         "x": {
          "bdata": "TDabvQ==",
          "dtype": "f4"
         },
         "xaxis": "x",
         "y": {
          "bdata": "GaYwPg==",
          "dtype": "f4"
         },
         "yaxis": "y"
        },
        {
         "customdata": [
          [
           "Fantasy",
           "Steered"
          ]
         ],
         "hovertemplate": "<b>%{hovertext}</b><br><br>Cluster=%{customdata[0]}<br>Type=%{customdata[1]}<br>PCA 1=%{x:.3f}<br>PCA 2=%{y:.3f}<extra></extra>",
         "hovertext": [
          "Steered | It's a Wonderful Life | Fantasy"
         ],
         "legendgroup": "Fantasy, Steered",
         "marker": {
          "color": "rgb(152,78,163)",
          "symbol": "diamond"
         },
         "mode": "markers",
         "name": "Fantasy, Steered",
         "opacity": 1,
         "orientation": "v",
         "showlegend": true,
         "type": "scatter",
         "x": {
          "bdata": "ll7tPQ==",
          "dtype": "f4"
         },
         "xaxis": "x",
         "y": {
          "bdata": "YFH0uw==",
          "dtype": "f4"
         },
         "yaxis": "y"
        },
        {
         "customdata": [
          [
           "Music",
           "Original"
          ],
          [
           "Music",
           "Original"
          ]
         ],
         "hovertemplate": "<b>%{hovertext}</b><br><br>Cluster=%{customdata[0]}<br>Type=%{customdata[1]}<br>PCA 1=%{x:.3f}<br>PCA 2=%{y:.3f}<extra></extra>",
         "hovertext": [
          "Original | Whiplash | Music",
          "Original | The Pianist | Music"
         ],
         "legendgroup": "Music, Original",
         "marker": {
          "color": "rgb(255,127,0)",
          "symbol": "circle"
         },
         "mode": "markers",
         "name": "Music, Original",
         "opacity": 0.3,
         "orientation": "v",
         "showlegend": false,
         "type": "scatter",
         "x": {
          "bdata": "e0EJvmaBLr4=",
          "dtype": "f4"
         },
         "xaxis": "x",
         "y": {
          "bdata": "Ib1JPp0oo7s=",
          "dtype": "f4"
         },
         "yaxis": "y"
        },
        {
         "customdata": [
          [
           "Music",
           "Steered"
          ],
          [
           "Music",
           "Steered"
          ]
         ],
         "hovertemplate": "<b>%{hovertext}</b><br><br>Cluster=%{customdata[0]}<br>Type=%{customdata[1]}<br>PCA 1=%{x:.3f}<br>PCA 2=%{y:.3f}<extra></extra>",
         "hovertext": [
          "Steered | Whiplash | Music",
          "Steered | The Pianist | Music"
         ],
         "legendgroup": "Music, Steered",
         "marker": {
          "color": "rgb(255,127,0)",
          "symbol": "diamond"
         },
         "mode": "markers",
         "name": "Music, Steered",
         "opacity": 1,
         "orientation": "v",
         "showlegend": true,
         "type": "scatter",
         "x": {
          "bdata": "mi6+PYCD3Ts=",
          "dtype": "f4"
         },
         "xaxis": "x",
         "y": {
          "bdata": "aIJavO9cFr4=",
          "dtype": "f4"
         },
         "yaxis": "y"
        },
        {
         "customdata": [
          [
           "Thriller",
           "Original"
          ],
          [
           "Thriller",
           "Original"
          ],
          [
           "Thriller",
           "Original"
          ],
          [
           "Thriller",
           "Original"
          ]
         ],
         "hovertemplate": "<b>%{hovertext}</b><br><br>Cluster=%{customdata[0]}<br>Type=%{customdata[1]}<br>PCA 1=%{x:.3f}<br>PCA 2=%{y:.3f}<extra></extra>",
         "hovertext": [
          "Original | Psycho | Thriller",
          "Original | The Lives of Others | Thriller",
          "Original | Memento | Thriller",
          "Original | Rear Window | Thriller"
         ],
         "legendgroup": "Thriller, Original",
         "marker": {
          "color": "rgb(255,255,51)",
          "symbol": "circle"
         },
         "mode": "markers",
         "name": "Thriller, Original",
         "opacity": 0.3,
         "orientation": "v",
         "showlegend": false,
         "type": "scatter",
         "x": {
          "bdata": "wp3gvDmxa77Vt5y+7QBWvg==",
          "dtype": "f4"
         },
         "xaxis": "x",
         "y": {
          "bdata": "u88RvtwcJb6hFG++ZjVBvg==",
          "dtype": "f4"
         },
         "yaxis": "y"
        },
        {
         "customdata": [
          [
           "Thriller",
           "Steered"
          ],
          [
           "Thriller",
           "Steered"
          ],
          [
           "Thriller",
           "Steered"
          ],
          [
           "Thriller",
           "Steered"
          ]
         ],
         "hovertemplate": "<b>%{hovertext}</b><br><br>Cluster=%{customdata[0]}<br>Type=%{customdata[1]}<br>PCA 1=%{x:.3f}<br>PCA 2=%{y:.3f}<extra></extra>",
         "hovertext": [
          "Steered | Psycho | Thriller",
          "Steered | The Lives of Others | Thriller",
          "Steered | Memento | Thriller",
          "Steered | Rear Window | Thriller"
         ],
         "legendgroup": "Thriller, Steered",
         "marker": {
          "color": "rgb(255,255,51)",
          "symbol": "diamond"
         },
         "mode": "markers",
         "name": "Thriller, Steered",
         "opacity": 1,
         "orientation": "v",
         "showlegend": true,
         "type": "scatter",
         "x": {
          "bdata": "tp48Pgzj0LzUSey9ICmcuw==",
          "dtype": "f4"
         },
         "xaxis": "x",
         "y": {
          "bdata": "qoKZvgvvl75X4rK+En+nvg==",
          "dtype": "f4"
         },
         "yaxis": "y"
        },
        {
         "customdata": [
          [
           "Family",
           "Original"
          ],
          [
           "Family",
           "Original"
          ]
         ],
         "hovertemplate": "<b>%{hovertext}</b><br><br>Cluster=%{customdata[0]}<br>Type=%{customdata[1]}<br>PCA 1=%{x:.3f}<br>PCA 2=%{y:.3f}<extra></extra>",
         "hovertext": [
          "Original | Coco | Family",
          "Original | Babam ve Oglum | Family"
         ],
         "legendgroup": "Family, Original",
         "marker": {
          "color": "rgb(166,86,40)",
          "symbol": "circle"
         },
         "mode": "markers",
         "name": "Family, Original",
         "opacity": 0.3,
         "orientation": "v",
         "showlegend": false,
         "type": "scatter",
         "x": {
          "bdata": "Gycjvpe0lb0=",
          "dtype": "f4"
         },
         "xaxis": "x",
         "y": {
          "bdata": "PCRDPht8Ez0=",
          "dtype": "f4"
         },
         "yaxis": "y"
        },
        {
         "customdata": [
          [
           "Family",
           "Steered"
          ],
          [
           "Family",
           "Steered"
          ]
         ],
         "hovertemplate": "<b>%{hovertext}</b><br><br>Cluster=%{customdata[0]}<br>Type=%{customdata[1]}<br>PCA 1=%{x:.3f}<br>PCA 2=%{y:.3f}<extra></extra>",
         "hovertext": [
          "Steered | Coco | Family",
          "Steered | Babam ve Oglum | Family"
         ],
         "legendgroup": "Family, Steered",
         "marker": {
          "color": "rgb(166,86,40)",
          "symbol": "diamond"
         },
         "mode": "markers",
         "name": "Family, Steered",
         "opacity": 1,
         "orientation": "v",
         "showlegend": true,
         "type": "scatter",
         "x": {
          "bdata": "pColPUk2vz0=",
          "dtype": "f4"
         },
         "xaxis": "x",
         "y": {
          "bdata": "IMDnO7yB270=",
          "dtype": "f4"
         },
         "yaxis": "y"
        },
        {
         "customdata": [
          [
           "Horror",
           "Original"
          ]
         ],
         "hovertemplate": "<b>%{hovertext}</b><br><br>Cluster=%{customdata[0]}<br>Type=%{customdata[1]}<br>PCA 1=%{x:.3f}<br>PCA 2=%{y:.3f}<extra></extra>",
         "hovertext": [
          "Original | The Shining | Horror"
         ],
         "legendgroup": "Horror, Original",
         "marker": {
          "color": "rgb(247,129,191)",
          "symbol": "circle"
         },
         "mode": "markers",
         "name": "Horror, Original",
         "opacity": 0.3,
         "orientation": "v",
         "showlegend": false,
         "type": "scatter",
         "x": {
          "bdata": "KmIpvg==",
          "dtype": "f4"
         },
         "xaxis": "x",
         "y": {
          "bdata": "IuCiPQ==",
          "dtype": "f4"
         },
         "yaxis": "y"
        },
        {
         "customdata": [
          [
           "Horror",
           "Steered"
          ]
         ],
         "hovertemplate": "<b>%{hovertext}</b><br><br>Cluster=%{customdata[0]}<br>Type=%{customdata[1]}<br>PCA 1=%{x:.3f}<br>PCA 2=%{y:.3f}<extra></extra>",
         "hovertext": [
          "Steered | The Shining | Horror"
         ],
         "legendgroup": "Horror, Steered",
         "marker": {
          "color": "rgb(247,129,191)",
          "symbol": "diamond"
         },
         "mode": "markers",
         "name": "Horror, Steered",
         "opacity": 1,
         "orientation": "v",
         "showlegend": true,
         "type": "scatter",
         "x": {
          "bdata": "o52EPQ==",
          "dtype": "f4"
         },
         "xaxis": "x",
         "y": {
          "bdata": "LIDhvQ==",
          "dtype": "f4"
         },
         "yaxis": "y"
        },
        {
         "customdata": [
          [
           "Film-Noir",
           "Original"
          ]
         ],
         "hovertemplate": "<b>%{hovertext}</b><br><br>Cluster=%{customdata[0]}<br>Type=%{customdata[1]}<br>PCA 1=%{x:.3f}<br>PCA 2=%{y:.3f}<extra></extra>",
         "hovertext": [
          "Original | Sunset Blvd. | Film-Noir"
         ],
         "legendgroup": "Film-Noir, Original",
         "marker": {
          "color": "rgb(153,153,153)",
          "symbol": "circle"
         },
         "mode": "markers",
         "name": "Film-Noir, Original",
         "opacity": 0.3,
         "orientation": "v",
         "showlegend": false,
         "type": "scatter",
         "x": {
          "bdata": "/VVevg==",
          "dtype": "f4"
         },
         "xaxis": "x",
         "y": {
          "bdata": "C2onPg==",
          "dtype": "f4"
         },
         "yaxis": "y"
        },
        {
         "customdata": [
          [
           "Film-Noir",
           "Steered"
          ]
         ],
         "hovertemplate": "<b>%{hovertext}</b><br><br>Cluster=%{customdata[0]}<br>Type=%{customdata[1]}<br>PCA 1=%{x:.3f}<br>PCA 2=%{y:.3f}<extra></extra>",
         "hovertext": [
          "Steered | Sunset Blvd. | Film-Noir"
         ],
         "legendgroup": "Film-Noir, Steered",
         "marker": {
          "color": "rgb(153,153,153)",
          "symbol": "diamond"
         },
         "mode": "markers",
         "name": "Film-Noir, Steered",
         "opacity": 1,
         "orientation": "v",
         "showlegend": true,
         "type": "scatter",
         "x": {
          "bdata": "mH0SvA==",
          "dtype": "f4"
         },
         "xaxis": "x",
         "y": {
          "bdata": "NIqFvA==",
          "dtype": "f4"
         },
         "yaxis": "y"
        },
        {
         "marker": {
          "color": "black",
          "size": 12,
          "symbol": "x"
         },
         "mode": "markers+text",
         "name": "Steering Vector",
         "opacity": 1,
         "text": [
          "Mean point"
         ],
         "textposition": "top center",
         "type": "scatter",
         "x": [
          0.4659431278705597
         ],
         "y": [
          -0.31186872720718384
         ]
        },
        {
         "hoverinfo": "none",
         "line": {
          "color": "gray",
          "dash": "dot",
          "width": 1
         },
         "mode": "lines",
         "showlegend": false,
         "type": "scatter",
         "x": [
          0.028813423588871956,
          0.20160822570323944
         ],
         "y": [
          -0.13500607013702393,
          -0.26881739497184753
         ]
        },
        {
         "hoverinfo": "none",
         "line": {
          "color": "gray",
          "dash": "dot",
          "width": 1
         },
         "mode": "lines",
         "showlegend": false,
         "type": "scatter",
         "x": [
          -0.0482674315571785,
          0.11304667592048645
         ],
         "y": [
          -0.1372208148241043,
          -0.25893133878707886
         ]
        },
        {
         "hoverinfo": "none",
         "line": {
          "color": "gray",
          "dash": "dot",
          "width": 1
         },
         "mode": "lines",
         "showlegend": false,
         "type": "scatter",
         "x": [
          0.04835968464612961,
          0.23014764487743378
         ],
         "y": [
          -0.184448704123497,
          -0.303350031375885
         ]
        },
        {
         "hoverinfo": "none",
         "line": {
          "color": "gray",
          "dash": "dot",
          "width": 1
         },
         "mode": "lines",
         "showlegend": false,
         "type": "scatter",
         "x": [
          -0.22345735132694244,
          -0.005595460534095764
         ],
         "y": [
          -0.10750472545623779,
          -0.26989561319351196
         ]
        },
        {
         "hoverinfo": "none",
         "line": {
          "color": "gray",
          "dash": "dot",
          "width": 1
         },
         "mode": "lines",
         "showlegend": false,
         "type": "scatter",
         "x": [
          -0.04852236062288284,
          0.12903010845184326
         ],
         "y": [
          -0.2330431193113327,
          -0.3439628779888153
         ]
        },
        {
         "hoverinfo": "none",
         "line": {
          "color": "gray",
          "dash": "dot",
          "width": 1
         },
         "mode": "lines",
         "showlegend": false,
         "type": "scatter",
         "x": [
          0.5283944606781006,
          0.6219216585159302
         ],
         "y": [
          0.1571197658777237,
          -0.01941695064306259
         ]
        },
        {
         "hoverinfo": "none",
         "line": {
          "color": "gray",
          "dash": "dot",
          "width": 1
         },
         "mode": "lines",
         "showlegend": false,
         "type": "scatter",
         "x": [
          -0.012316326610744,
          0.178875133395195
         ],
         "y": [
          -0.2734387218952179,
          -0.3896062672138214
         ]
        },
        {
         "hoverinfo": "none",
         "line": {
          "color": "gray",
          "dash": "dot",
          "width": 1
         },
         "mode": "lines",
         "showlegend": false,
         "type": "scatter",
         "x": [
          -0.18946939706802368,
          0.011271215975284576
         ],
         "y": [
          -0.1002059355378151,
          -0.2518629729747772
         ]
        },
        {
         "hoverinfo": "none",
         "line": {
          "color": "gray",
          "dash": "dot",
          "width": 1
         },
         "mode": "lines",
         "showlegend": false,
         "type": "scatter",
         "x": [
          -0.10946988314390182,
          0.09765131771564484
         ],
         "y": [
          -0.03733344376087189,
          -0.2060641646385193
         ]
        },
        {
         "hoverinfo": "none",
         "line": {
          "color": "gray",
          "dash": "dot",
          "width": 1
         },
         "mode": "lines",
         "showlegend": false,
         "type": "scatter",
         "x": [
          0.014857267960906029,
          0.22110682725906372
         ],
         "y": [
          -0.0256331916898489,
          -0.1976918876171112
         ]
        },
        {
         "hoverinfo": "none",
         "line": {
          "color": "gray",
          "dash": "dot",
          "width": 1
         },
         "mode": "lines",
         "showlegend": false,
         "type": "scatter",
         "x": [
          0.4265229403972626,
          0.5461070537567139
         ],
         "y": [
          0.2629523277282715,
          0.07362093776464462
         ]
        },
        {
         "hoverinfo": "none",
         "line": {
          "color": "gray",
          "dash": "dot",
          "width": 1
         },
         "mode": "lines",
         "showlegend": false,
         "type": "scatter",
         "x": [
          -0.16048657894134521,
          0.07514134794473648
         ],
         "y": [
          0.03480977937579155,
          -0.15561677515506744
         ]
        },
        {
         "hoverinfo": "none",
         "line": {
          "color": "gray",
          "dash": "dot",
          "width": 1
         },
         "mode": "lines",
         "showlegend": false,
         "type": "scatter",
         "x": [
          0.20754975080490112,
          0.36592167615890503
         ],
         "y": [
          -0.17654629051685333,
          -0.3126039505004883
         ]
        },
        {
         "hoverinfo": "none",
         "line": {
          "color": "gray",
          "dash": "dot",
          "width": 1
         },
         "mode": "lines",
         "showlegend": false,
         "type": "scatter",
         "x": [
          0.503908634185791,
          0.6030368208885193
         ],
         "y": [
          0.21666741371154785,
          0.014912854880094528
         ]
        },
        {
         "hoverinfo": "none",
         "line": {
          "color": "gray",
          "dash": "dot",
          "width": 1
         },
         "mode": "lines",
         "showlegend": false,
         "type": "scatter",
         "x": [
          -0.05428213253617287,
          0.13956144452095032
         ],
         "y": [
          -0.017015226185321808,
          -0.1712859869003296
         ]
        },
        {
         "hoverinfo": "none",
         "line": {
          "color": "gray",
          "dash": "dot",
          "width": 1
         },
         "mode": "lines",
         "showlegend": false,
         "type": "scatter",
         "x": [
          -0.1678522825241089,
          0.02921474352478981
         ],
         "y": [
          -0.1305045336484909,
          -0.27894434332847595
         ]
        },
        {
         "hoverinfo": "none",
         "line": {
          "color": "gray",
          "dash": "dot",
          "width": 1
         },
         "mode": "lines",
         "showlegend": false,
         "type": "scatter",
         "x": [
          0.4651094675064087,
          0.5622704029083252
         ],
         "y": [
          0.042476389557123184,
          -0.12415975332260132
         ]
        },
        {
         "hoverinfo": "none",
         "line": {
          "color": "gray",
          "dash": "dot",
          "width": 1
         },
         "mode": "lines",
         "showlegend": false,
         "type": "scatter",
         "x": [
          -0.17302991449832916,
          0.030927814543247223
         ],
         "y": [
          -0.23219774663448334,
          -0.35618841648101807
         ]
        },
        {
         "hoverinfo": "none",
         "line": {
          "color": "gray",
          "dash": "dot",
          "width": 1
         },
         "mode": "lines",
         "showlegend": false,
         "type": "scatter",
         "x": [
          -0.020611600950360298,
          0.1746450662612915
         ],
         "y": [
          -0.06402185559272766,
          -0.22924736142158508
         ]
        },
        {
         "hoverinfo": "none",
         "line": {
          "color": "gray",
          "dash": "dot",
          "width": 1
         },
         "mode": "lines",
         "showlegend": false,
         "type": "scatter",
         "x": [
          -0.08016777038574219,
          0.10605263710021973
         ],
         "y": [
          0.19727784395217896,
          0.01966308429837227
         ]
        },
        {
         "hoverinfo": "none",
         "line": {
          "color": "gray",
          "dash": "dot",
          "width": 1
         },
         "mode": "lines",
         "showlegend": false,
         "type": "scatter",
         "x": [
          0.2538805305957794,
          0.41517388820648193
         ],
         "y": [
          0.08256115019321442,
          -0.10717058181762695
         ]
        },
        {
         "hoverinfo": "none",
         "line": {
          "color": "gray",
          "dash": "dot",
          "width": 1
         },
         "mode": "lines",
         "showlegend": false,
         "type": "scatter",
         "x": [
          0.3783809244632721,
          0.48909348249435425
         ],
         "y": [
          0.20112228393554688,
          0.048821672797203064
         ]
        },
        {
         "hoverinfo": "none",
         "line": {
          "color": "gray",
          "dash": "dot",
          "width": 1
         },
         "mode": "lines",
         "showlegend": false,
         "type": "scatter",
         "x": [
          -0.0422637015581131,
          0.1541699767112732
         ],
         "y": [
          0.2064104527235031,
          0.015078797936439514
         ]
        },
        {
         "hoverinfo": "none",
         "line": {
          "color": "gray",
          "dash": "dot",
          "width": 1
         },
         "mode": "lines",
         "showlegend": false,
         "type": "scatter",
         "x": [
          -0.019879022613167763,
          0.1932242214679718
         ],
         "y": [
          0.3567425012588501,
          0.13810764253139496
         ]
        },
        {
         "hoverinfo": "none",
         "line": {
          "color": "gray",
          "dash": "dot",
          "width": 1
         },
         "mode": "lines",
         "showlegend": false,
         "type": "scatter",
         "x": [
          0.4107581377029419,
          0.4954802095890045
         ],
         "y": [
          -0.18326537311077118,
          -0.2809438705444336
         ]
        },
        {
         "hoverinfo": "none",
         "line": {
          "color": "gray",
          "dash": "dot",
          "width": 1
         },
         "mode": "lines",
         "showlegend": false,
         "type": "scatter",
         "x": [
          -0.21385349333286285,
          0.00849352777004242
         ],
         "y": [
          -0.3540397584438324,
          -0.4455000162124634
         ]
        },
        {
         "hoverinfo": "none",
         "line": {
          "color": "gray",
          "dash": "dot",
          "width": 1
         },
         "mode": "lines",
         "showlegend": false,
         "type": "scatter",
         "x": [
          -0.23632429540157318,
          0.001495450735092163
         ],
         "y": [
          0.026765692979097366,
          -0.1582365483045578
         ]
        },
        {
         "hoverinfo": "none",
         "line": {
          "color": "gray",
          "dash": "dot",
          "width": 1
         },
         "mode": "lines",
         "showlegend": false,
         "type": "scatter",
         "x": [
          0.01986733451485634,
          0.17729124426841736
         ],
         "y": [
          -0.39884310960769653,
          -0.4731327295303345
         ]
        },
        {
         "hoverinfo": "none",
         "line": {
          "color": "gray",
          "dash": "dot",
          "width": 1
         },
         "mode": "lines",
         "showlegend": false,
         "type": "scatter",
         "x": [
          0.03256672993302345,
          0.21258032321929932
         ],
         "y": [
          -0.3916914463043213,
          -0.4545455574989319
         ]
        },
        {
         "hoverinfo": "none",
         "line": {
          "color": "gray",
          "dash": "dot",
          "width": 1
         },
         "mode": "lines",
         "showlegend": false,
         "type": "scatter",
         "x": [
          0.5299873352050781,
          0.6147345304489136
         ],
         "y": [
          0.0637226328253746,
          -0.10857267677783966
         ]
        },
        {
         "hoverinfo": "none",
         "line": {
          "color": "gray",
          "dash": "dot",
          "width": 1
         },
         "mode": "lines",
         "showlegend": false,
         "type": "scatter",
         "x": [
          0.008311422541737556,
          0.2172146737575531
         ],
         "y": [
          0.11885825544595718,
          -0.08003939688205719
         ]
        },
        {
         "hoverinfo": "none",
         "line": {
          "color": "gray",
          "dash": "dot",
          "width": 1
         },
         "mode": "lines",
         "showlegend": false,
         "type": "scatter",
         "x": [
          0.2553977072238922,
          0.3702529966831207
         ],
         "y": [
          -0.09364467114210129,
          -0.20592835545539856
         ]
        },
        {
         "hoverinfo": "none",
         "line": {
          "color": "gray",
          "dash": "dot",
          "width": 1
         },
         "mode": "lines",
         "showlegend": false,
         "type": "scatter",
         "x": [
          -0.07578715682029724,
          0.11590306460857391
         ],
         "y": [
          0.1725086122751236,
          -0.007455989718437195
         ]
        },
        {
         "hoverinfo": "none",
         "line": {
          "color": "gray",
          "dash": "dot",
          "width": 1
         },
         "mode": "lines",
         "showlegend": false,
         "type": "scatter",
         "x": [
          -0.08165109157562256,
          0.1465187519788742
         ],
         "y": [
          -0.13628387451171875,
          -0.2937312424182892
         ]
        },
        {
         "hoverinfo": "none",
         "line": {
          "color": "gray",
          "dash": "dot",
          "width": 1
         },
         "mode": "lines",
         "showlegend": false,
         "type": "scatter",
         "x": [
          -0.13403885066509247,
          0.0928623229265213
         ],
         "y": [
          0.19701053202152252,
          -0.013336755335330963
         ]
        },
        {
         "hoverinfo": "none",
         "line": {
          "color": "gray",
          "dash": "dot",
          "width": 1
         },
         "mode": "lines",
         "showlegend": false,
         "type": "scatter",
         "x": [
          -0.22456976771354675,
          0.007908813655376434
         ],
         "y": [
          0.08433333784341812,
          -0.1058206558227539
         ]
        },
        {
         "hoverinfo": "none",
         "line": {
          "color": "gray",
          "dash": "dot",
          "width": 1
         },
         "mode": "lines",
         "showlegend": false,
         "type": "scatter",
         "x": [
          0.19959194958209991,
          0.36636772751808167
         ],
         "y": [
          0.008906220085918903,
          -0.1631402224302292
         ]
        },
        {
         "hoverinfo": "none",
         "line": {
          "color": "gray",
          "dash": "dot",
          "width": 1
         },
         "mode": "lines",
         "showlegend": false,
         "type": "scatter",
         "x": [
          0.03729367256164551,
          0.209034264087677
         ],
         "y": [
          -0.39940765500068665,
          -0.48061561584472656
         ]
        },
        {
         "hoverinfo": "none",
         "line": {
          "color": "gray",
          "dash": "dot",
          "width": 1
         },
         "mode": "lines",
         "showlegend": false,
         "type": "scatter",
         "x": [
          -0.1704154908657074,
          0.006760060787200928
         ],
         "y": [
          -0.0049792067147791386,
          -0.14683888852596283
         ]
        },
        {
         "hoverinfo": "none",
         "line": {
          "color": "gray",
          "dash": "dot",
          "width": 1
         },
         "mode": "lines",
         "showlegend": false,
         "type": "scatter",
         "x": [
          0.12664012610912323,
          0.27002471685409546
         ],
         "y": [
          -0.25510600209236145,
          -0.35430288314819336
         ]
        },
        {
         "hoverinfo": "none",
         "line": {
          "color": "gray",
          "dash": "dot",
          "width": 1
         },
         "mode": "lines",
         "showlegend": false,
         "type": "scatter",
         "x": [
          -0.11860959231853485,
          0.08795781433582306
         ],
         "y": [
          -0.11627364158630371,
          -0.24600857496261597
         ]
        },
        {
         "hoverinfo": "none",
         "line": {
          "color": "gray",
          "dash": "dot",
          "width": 1
         },
         "mode": "lines",
         "showlegend": false,
         "type": "scatter",
         "x": [
          0.05926479771733284,
          0.24864496290683746
         ],
         "y": [
          -0.2529132068157196,
          -0.35596519708633423
         ]
        },
        {
         "hoverinfo": "none",
         "line": {
          "color": "gray",
          "dash": "dot",
          "width": 1
         },
         "mode": "lines",
         "showlegend": false,
         "type": "scatter",
         "x": [
          -0.018546877428889275,
          0.19066257774829865
         ],
         "y": [
          0.09800843894481659,
          -0.0948428213596344
         ]
        },
        {
         "hoverinfo": "none",
         "line": {
          "color": "gray",
          "dash": "dot",
          "width": 1
         },
         "mode": "lines",
         "showlegend": false,
         "type": "scatter",
         "x": [
          0.032795488834381104,
          0.19574999809265137
         ],
         "y": [
          0.09660997986793518,
          -0.05882726609706879
         ]
        },
        {
         "hoverinfo": "none",
         "line": {
          "color": "gray",
          "dash": "dot",
          "width": 1
         },
         "mode": "lines",
         "showlegend": false,
         "type": "scatter",
         "x": [
          -0.015635330229997635,
          0.1574614942073822
         ],
         "y": [
          0.005715513601899147,
          -0.13659174740314484
         ]
        },
        {
         "hoverinfo": "none",
         "line": {
          "color": "gray",
          "dash": "dot",
          "width": 1
         },
         "mode": "lines",
         "showlegend": false,
         "type": "scatter",
         "x": [
          -0.30093592405319214,
          -0.08575646579265594
         ],
         "y": [
          0.2926209568977356,
          0.08807671070098877
         ]
        },
        {
         "hoverinfo": "none",
         "line": {
          "color": "gray",
          "dash": "dot",
          "width": 1
         },
         "mode": "lines",
         "showlegend": false,
         "type": "scatter",
         "x": [
          0.05032527446746826,
          0.20111346244812012
         ],
         "y": [
          0.1823083609342575,
          0.026723120361566544
         ]
        },
        {
         "hoverinfo": "none",
         "line": {
          "color": "gray",
          "dash": "dot",
          "width": 1
         },
         "mode": "lines",
         "showlegend": false,
         "type": "scatter",
         "x": [
          -0.19054783880710602,
          0.029627040028572083
         ],
         "y": [
          0.21335412561893463,
          0.008476093411445618
         ]
        },
        {
         "hoverinfo": "none",
         "line": {
          "color": "gray",
          "dash": "dot",
          "width": 1
         },
         "mode": "lines",
         "showlegend": false,
         "type": "scatter",
         "x": [
          0.0005322336801327765,
          0.18092025816440582
         ],
         "y": [
          -0.20564743876457214,
          -0.32793664932250977
         ]
        },
        {
         "hoverinfo": "none",
         "line": {
          "color": "gray",
          "dash": "dot",
          "width": 1
         },
         "mode": "lines",
         "showlegend": false,
         "type": "scatter",
         "x": [
          -0.02741897478699684,
          0.18419918417930603
         ],
         "y": [
          -0.14239399135112762,
          -0.2998250126838684
         ]
        },
        {
         "hoverinfo": "none",
         "line": {
          "color": "gray",
          "dash": "dot",
          "width": 1
         },
         "mode": "lines",
         "showlegend": false,
         "type": "scatter",
         "x": [
          -0.1815827488899231,
          0.05555223673582077
         ],
         "y": [
          0.0005926983430981636,
          -0.18452587723731995
         ]
        },
        {
         "hoverinfo": "none",
         "line": {
          "color": "gray",
          "dash": "dot",
          "width": 1
         },
         "mode": "lines",
         "showlegend": false,
         "type": "scatter",
         "x": [
          -0.10324139893054962,
          0.08236459642648697
         ],
         "y": [
          0.12111792713403702,
          -0.04779187589883804
         ]
        },
        {
         "hoverinfo": "none",
         "line": {
          "color": "gray",
          "dash": "dot",
          "width": 1
         },
         "mode": "lines",
         "showlegend": false,
         "type": "scatter",
         "x": [
          -0.06790224462747574,
          0.16729885339736938
         ],
         "y": [
          0.192758709192276,
          -0.03215685486793518
         ]
        },
        {
         "hoverinfo": "none",
         "line": {
          "color": "gray",
          "dash": "dot",
          "width": 1
         },
         "mode": "lines",
         "showlegend": false,
         "type": "scatter",
         "x": [
          -0.22439736127853394,
          -0.012688130140304565
         ],
         "y": [
          -0.10986402630805969,
          -0.25939157605171204
         ]
        },
        {
         "hoverinfo": "none",
         "line": {
          "color": "gray",
          "dash": "dot",
          "width": 1
         },
         "mode": "lines",
         "showlegend": false,
         "type": "scatter",
         "x": [
          -0.022235386073589325,
          0.1951688528060913
         ],
         "y": [
          -0.019009726122021675,
          -0.18956813216209412
         ]
        },
        {
         "hoverinfo": "none",
         "line": {
          "color": "gray",
          "dash": "dot",
          "width": 1
         },
         "mode": "lines",
         "showlegend": false,
         "type": "scatter",
         "x": [
          0.12235303968191147,
          0.2791512608528137
         ],
         "y": [
          -0.16379696130752563,
          -0.2781822979450226
         ]
        },
        {
         "hoverinfo": "none",
         "line": {
          "color": "gray",
          "dash": "dot",
          "width": 1
         },
         "mode": "lines",
         "showlegend": false,
         "type": "scatter",
         "x": [
          -0.00847683660686016,
          0.1727493703365326
         ],
         "y": [
          0.19350029528141022,
          0.013838067650794983
         ]
        },
        {
         "hoverinfo": "none",
         "line": {
          "color": "gray",
          "dash": "dot",
          "width": 1
         },
         "mode": "lines",
         "showlegend": false,
         "type": "scatter",
         "x": [
          0.07832176983356476,
          0.26046282052993774
         ],
         "y": [
          0.08438336849212646,
          -0.09359101951122284
         ]
        },
        {
         "hoverinfo": "none",
         "line": {
          "color": "gray",
          "dash": "dot",
          "width": 1
         },
         "mode": "lines",
         "showlegend": false,
         "type": "scatter",
         "x": [
          0.2361602485179901,
          0.36863645911216736
         ],
         "y": [
          0.06705088168382645,
          -0.08700031042098999
         ]
        },
        {
         "hoverinfo": "none",
         "line": {
          "color": "gray",
          "dash": "dot",
          "width": 1
         },
         "mode": "lines",
         "showlegend": false,
         "type": "scatter",
         "x": [
          0.44270071387290955,
          0.5436272621154785
         ],
         "y": [
          0.16878946125507355,
          -0.022507965564727783
         ]
        },
        {
         "hoverinfo": "none",
         "line": {
          "color": "gray",
          "dash": "dot",
          "width": 1
         },
         "mode": "lines",
         "showlegend": false,
         "type": "scatter",
         "x": [
          0.5393954515457153,
          0.5951039791107178
         ],
         "y": [
          0.07505161315202713,
          -0.07485543191432953
         ]
        },
        {
         "hoverinfo": "none",
         "line": {
          "color": "gray",
          "dash": "dot",
          "width": 1
         },
         "mode": "lines",
         "showlegend": false,
         "type": "scatter",
         "x": [
          -0.1593288630247116,
          0.04032386839389801
         ],
         "y": [
          0.19056791067123413,
          0.007072463631629944
         ]
        },
        {
         "hoverinfo": "none",
         "line": {
          "color": "gray",
          "dash": "dot",
          "width": 1
         },
         "mode": "lines",
         "showlegend": false,
         "type": "scatter",
         "x": [
          -0.039264190942049026,
          0.13411809504032135
         ],
         "y": [
          -0.22719082236289978,
          -0.3477839529514313
         ]
        },
        {
         "hoverinfo": "none",
         "line": {
          "color": "gray",
          "dash": "dot",
          "width": 1
         },
         "mode": "lines",
         "showlegend": false,
         "type": "scatter",
         "x": [
          0.0439121350646019,
          0.21893316507339478
         ],
         "y": [
          -0.10217973589897156,
          -0.2384280562400818
         ]
        },
        {
         "hoverinfo": "none",
         "line": {
          "color": "gray",
          "dash": "dot",
          "width": 1
         },
         "mode": "lines",
         "showlegend": false,
         "type": "scatter",
         "x": [
          -0.13095377385616302,
          0.132361501455307
         ],
         "y": [
          0.23742073774337769,
          -0.011311784386634827
         ]
        },
        {
         "hoverinfo": "none",
         "line": {
          "color": "gray",
          "dash": "dot",
          "width": 1
         },
         "mode": "lines",
         "showlegend": false,
         "type": "scatter",
         "x": [
          -0.14194224774837494,
          0.08319433778524399
         ],
         "y": [
          0.25066426396369934,
          0.036448974162340164
         ]
        },
        {
         "hoverinfo": "none",
         "line": {
          "color": "gray",
          "dash": "dot",
          "width": 1
         },
         "mode": "lines",
         "showlegend": false,
         "type": "scatter",
         "x": [
          0.21991953253746033,
          0.3740960359573364
         ],
         "y": [
          0.2542214095592499,
          0.056928977370262146
         ]
        },
        {
         "hoverinfo": "none",
         "line": {
          "color": "gray",
          "dash": "dot",
          "width": 1
         },
         "mode": "lines",
         "showlegend": false,
         "type": "scatter",
         "x": [
          -0.23016823828220367,
          -0.0254988893866539
         ],
         "y": [
          -0.16124290227890015,
          -0.296745628118515
         ]
        },
        {
         "hoverinfo": "none",
         "line": {
          "color": "gray",
          "dash": "dot",
          "width": 1
         },
         "mode": "lines",
         "showlegend": false,
         "type": "scatter",
         "x": [
          0.1061844751238823,
          0.2632739841938019
         ],
         "y": [
          -0.08266400545835495,
          -0.2133123278617859
         ]
        },
        {
         "hoverinfo": "none",
         "line": {
          "color": "gray",
          "dash": "dot",
          "width": 1
         },
         "mode": "lines",
         "showlegend": false,
         "type": "scatter",
         "x": [
          -0.30609002709388733,
          -0.11537519097328186
         ],
         "y": [
          -0.2334771305322647,
          -0.34938308596611023
         ]
        },
        {
         "hoverinfo": "none",
         "line": {
          "color": "gray",
          "dash": "dot",
          "width": 1
         },
         "mode": "lines",
         "showlegend": false,
         "type": "scatter",
         "x": [
          0.12221628427505493,
          0.3102099299430847
         ],
         "y": [
          0.25055745244026184,
          0.0392790324985981
         ]
        },
        {
         "hoverinfo": "none",
         "line": {
          "color": "gray",
          "dash": "dot",
          "width": 1
         },
         "mode": "lines",
         "showlegend": false,
         "type": "scatter",
         "x": [
          -0.3137856125831604,
          -0.0770328938961029
         ],
         "y": [
          -0.12949402630329132,
          -0.2947080433368683
         ]
        },
        {
         "hoverinfo": "none",
         "line": {
          "color": "gray",
          "dash": "dot",
          "width": 1
         },
         "mode": "lines",
         "showlegend": false,
         "type": "scatter",
         "x": [
          0.12193648517131805,
          0.29917454719543457
         ],
         "y": [
          0.03559745475649834,
          -0.13645410537719727
         ]
        },
        {
         "hoverinfo": "none",
         "line": {
          "color": "gray",
          "dash": "dot",
          "width": 1
         },
         "mode": "lines",
         "showlegend": false,
         "type": "scatter",
         "x": [
          -0.1654135286808014,
          0.06475379317998886
         ],
         "y": [
          0.0795290619134903,
          -0.11010774970054626
         ]
        },
        {
         "hoverinfo": "none",
         "line": {
          "color": "gray",
          "dash": "dot",
          "width": 1
         },
         "mode": "lines",
         "showlegend": false,
         "type": "scatter",
         "x": [
          0.20331549644470215,
          0.328007310628891
         ],
         "y": [
          -0.2894853949546814,
          -0.3663487434387207
         ]
        },
        {
         "hoverinfo": "none",
         "line": {
          "color": "gray",
          "dash": "dot",
          "width": 1
         },
         "mode": "lines",
         "showlegend": false,
         "type": "scatter",
         "x": [
          0.2380950003862381,
          0.3868289887905121
         ],
         "y": [
          0.12835998833179474,
          -0.057795897126197815
         ]
        },
        {
         "hoverinfo": "none",
         "line": {
          "color": "gray",
          "dash": "dot",
          "width": 1
         },
         "mode": "lines",
         "showlegend": false,
         "type": "scatter",
         "x": [
          -0.15740221738815308,
          0.05221781134605408
         ],
         "y": [
          0.1389574259519577,
          -0.0420805886387825
         ]
        },
        {
         "hoverinfo": "none",
         "line": {
          "color": "gray",
          "dash": "dot",
          "width": 1
         },
         "mode": "lines",
         "showlegend": false,
         "type": "scatter",
         "x": [
          -0.09912323951721191,
          0.09209056943655014
         ],
         "y": [
          -0.2066367268562317,
          -0.3301267623901367
         ]
        },
        {
         "hoverinfo": "none",
         "line": {
          "color": "gray",
          "dash": "dot",
          "width": 1
         },
         "mode": "lines",
         "showlegend": false,
         "type": "scatter",
         "x": [
          0.16969946026802063,
          0.31373363733291626
         ],
         "y": [
          -0.11848069727420807,
          -0.23802390694618225
         ]
        },
        {
         "hoverinfo": "none",
         "line": {
          "color": "gray",
          "dash": "dot",
          "width": 1
         },
         "mode": "lines",
         "showlegend": false,
         "type": "scatter",
         "x": [
          -0.06500039249658585,
          0.11730319261550903
         ],
         "y": [
          -0.22714951634407043,
          -0.338812917470932
         ]
        },
        {
         "hoverinfo": "none",
         "line": {
          "color": "gray",
          "dash": "dot",
          "width": 1
         },
         "mode": "lines",
         "showlegend": false,
         "type": "scatter",
         "x": [
          0.30400964617729187,
          0.40142419934272766
         ],
         "y": [
          -0.24489498138427734,
          -0.31963884830474854
         ]
        },
        {
         "hoverinfo": "none",
         "line": {
          "color": "gray",
          "dash": "dot",
          "width": 1
         },
         "mode": "lines",
         "showlegend": false,
         "type": "scatter",
         "x": [
          -0.20898790657520294,
          -0.004765644669532776
         ],
         "y": [
          -0.1886802613735199,
          -0.32714134454727173
         ]
        },
        {
         "hoverinfo": "none",
         "line": {
          "color": "gray",
          "dash": "dot",
          "width": 1
         },
         "mode": "lines",
         "showlegend": false,
         "type": "scatter",
         "x": [
          -0.21712489426136017,
          -0.008941076695919037
         ],
         "y": [
          0.16349045932292938,
          -0.01630125194787979
         ]
        },
        {
         "hoverinfo": "none",
         "line": {
          "color": "gray",
          "dash": "dot",
          "width": 1
         },
         "mode": "lines",
         "showlegend": false,
         "type": "scatter",
         "x": [
          0.04635561257600784,
          0.220828115940094
         ],
         "y": [
          -0.005686077289283276,
          -0.160912424325943
         ]
        },
        {
         "hoverinfo": "none",
         "line": {
          "color": "gray",
          "dash": "dot",
          "width": 1
         },
         "mode": "lines",
         "showlegend": false,
         "type": "scatter",
         "x": [
          0.3768119215965271,
          0.4898223578929901
         ],
         "y": [
          -0.1902567595243454,
          -0.30699917674064636
         ]
        },
        {
         "hoverinfo": "none",
         "line": {
          "color": "gray",
          "dash": "dot",
          "width": 1
         },
         "mode": "lines",
         "showlegend": false,
         "type": "scatter",
         "x": [
          0.028775349259376526,
          0.21125558018684387
         ],
         "y": [
          0.41744837164878845,
          0.2322268784046173
         ]
        },
        {
         "hoverinfo": "none",
         "line": {
          "color": "gray",
          "dash": "dot",
          "width": 1
         },
         "mode": "lines",
         "showlegend": false,
         "type": "scatter",
         "x": [
          -0.3291459381580353,
          -0.09820015728473663
         ],
         "y": [
          -0.06826363503932953,
          -0.23247796297073364
         ]
        },
        {
         "hoverinfo": "none",
         "line": {
          "color": "gray",
          "dash": "dot",
          "width": 1
         },
         "mode": "lines",
         "showlegend": false,
         "type": "scatter",
         "x": [
          -0.14912615716457367,
          0.030826784670352936
         ],
         "y": [
          -0.19843889772891998,
          -0.3088100850582123
         ]
        },
        {
         "hoverinfo": "none",
         "line": {
          "color": "gray",
          "dash": "dot",
          "width": 1
         },
         "mode": "lines",
         "showlegend": false,
         "type": "scatter",
         "x": [
          -0.3133983612060547,
          -0.029468677937984467
         ],
         "y": [
          0.1485932320356369,
          -0.0804610401391983
         ]
        },
        {
         "hoverinfo": "none",
         "line": {
          "color": "gray",
          "dash": "dot",
          "width": 1
         },
         "mode": "lines",
         "showlegend": false,
         "type": "scatter",
         "x": [
          -0.29520654678344727,
          -0.05287677049636841
         ],
         "y": [
          0.4102012813091278,
          0.17826303839683533
         ]
        },
        {
         "hoverinfo": "none",
         "line": {
          "color": "gray",
          "dash": "dot",
          "width": 1
         },
         "mode": "lines",
         "showlegend": false,
         "type": "scatter",
         "x": [
          -0.016324451193213463,
          0.15002429485321045
         ],
         "y": [
          0.39791634678840637,
          0.22085393965244293
         ]
        },
        {
         "hoverinfo": "none",
         "line": {
          "color": "gray",
          "dash": "dot",
          "width": 1
         },
         "mode": "lines",
         "showlegend": false,
         "type": "scatter",
         "x": [
          -0.20951345562934875,
          0.016494687646627426
         ],
         "y": [
          0.06762560456991196,
          -0.11418648064136505
         ]
        },
        {
         "hoverinfo": "none",
         "line": {
          "color": "gray",
          "dash": "dot",
          "width": 1
         },
         "mode": "lines",
         "showlegend": false,
         "type": "scatter",
         "x": [
          -0.07309835404157639,
          0.09336525946855545
         ],
         "y": [
          0.036007028073072433,
          -0.10718104243278503
         ]
        },
        {
         "hoverinfo": "none",
         "line": {
          "color": "gray",
          "dash": "dot",
          "width": 1
         },
         "mode": "lines",
         "showlegend": false,
         "type": "scatter",
         "x": [
          0.057670630514621735,
          0.23840856552124023
         ],
         "y": [
          -0.2992919683456421,
          -0.39577120542526245
         ]
        },
        {
         "hoverinfo": "none",
         "line": {
          "color": "gray",
          "dash": "dot",
          "width": 1
         },
         "mode": "lines",
         "showlegend": false,
         "type": "scatter",
         "x": [
          -0.16293777525424957,
          0.026423826813697815
         ],
         "y": [
          0.20355108380317688,
          0.03047037124633789
         ]
        },
        {
         "hoverinfo": "none",
         "line": {
          "color": "gray",
          "dash": "dot",
          "width": 1
         },
         "mode": "lines",
         "showlegend": false,
         "type": "scatter",
         "x": [
          -0.16011816263198853,
          0.06129385530948639
         ],
         "y": [
          0.09317494928836823,
          -0.09697498381137848
         ]
        },
        {
         "hoverinfo": "none",
         "line": {
          "color": "gray",
          "dash": "dot",
          "width": 1
         },
         "mode": "lines",
         "showlegend": false,
         "type": "scatter",
         "x": [
          0.1414017230272293,
          0.3145201802253723
         ],
         "y": [
          -0.1675918996334076,
          -0.3031942844390869
         ]
        },
        {
         "hoverinfo": "none",
         "line": {
          "color": "gray",
          "dash": "dot",
          "width": 1
         },
         "mode": "lines",
         "showlegend": false,
         "type": "scatter",
         "x": [
          -0.0051774270832538605,
          0.16253648698329926
         ],
         "y": [
          0.20136603713035583,
          0.03606274351477623
         ]
        },
        {
         "hoverinfo": "none",
         "line": {
          "color": "gray",
          "dash": "dot",
          "width": 1
         },
         "mode": "lines",
         "showlegend": false,
         "type": "scatter",
         "x": [
          -0.32892724871635437,
          -0.09279032051563263
         ],
         "y": [
          0.24936766922473907,
          0.042518556118011475
         ]
        },
        {
         "hoverinfo": "none",
         "line": {
          "color": "gray",
          "dash": "dot",
          "width": 1
         },
         "mode": "lines",
         "showlegend": false,
         "type": "scatter",
         "x": [
          -0.17453834414482117,
          0.06886529177427292
         ],
         "y": [
          0.045660797506570816,
          -0.1603555828332901
         ]
        }
       ],
       "layout": {
        "height": 700,
        "legend": {
         "title": {
          "text": "Cluster, Type"
         },
         "tracegroupgap": 0
        },
        "margin": {
         "t": 60
        },
        "template": {
         "data": {
          "bar": [
           {
            "error_x": {
             "color": "#2a3f5f"
            },
            "error_y": {
             "color": "#2a3f5f"
            },
            "marker": {
             "line": {
              "color": "#E5ECF6",
              "width": 0.5
             },
             "pattern": {
              "fillmode": "overlay",
              "size": 10,
              "solidity": 0.2
             }
            },
            "type": "bar"
           }
          ],
          "barpolar": [
           {
            "marker": {
             "line": {
              "color": "#E5ECF6",
              "width": 0.5
             },
             "pattern": {
              "fillmode": "overlay",
              "size": 10,
              "solidity": 0.2
             }
            },
            "type": "barpolar"
           }
          ],
          "carpet": [
           {
            "aaxis": {
             "endlinecolor": "#2a3f5f",
             "gridcolor": "white",
             "linecolor": "white",
             "minorgridcolor": "white",
             "startlinecolor": "#2a3f5f"
            },
            "baxis": {
             "endlinecolor": "#2a3f5f",
             "gridcolor": "white",
             "linecolor": "white",
             "minorgridcolor": "white",
             "startlinecolor": "#2a3f5f"
            },
            "type": "carpet"
           }
          ],
          "choropleth": [
           {
            "colorbar": {
             "outlinewidth": 0,
             "ticks": ""
            },
            "type": "choropleth"
           }
          ],
          "contour": [
           {
            "colorbar": {
             "outlinewidth": 0,
             "ticks": ""
            },
            "colorscale": [
             [
              0,
              "#0d0887"
             ],
             [
              0.1111111111111111,
              "#46039f"
             ],
             [
              0.2222222222222222,
              "#7201a8"
             ],
             [
              0.3333333333333333,
              "#9c179e"
             ],
             [
              0.4444444444444444,
              "#bd3786"
             ],
             [
              0.5555555555555556,
              "#d8576b"
             ],
             [
              0.6666666666666666,
              "#ed7953"
             ],
             [
              0.7777777777777778,
              "#fb9f3a"
             ],
             [
              0.8888888888888888,
              "#fdca26"
             ],
             [
              1,
              "#f0f921"
             ]
            ],
            "type": "contour"
           }
          ],
          "contourcarpet": [
           {
            "colorbar": {
             "outlinewidth": 0,
             "ticks": ""
            },
            "type": "contourcarpet"
           }
          ],
          "heatmap": [
           {
            "colorbar": {
             "outlinewidth": 0,
             "ticks": ""
            },
            "colorscale": [
             [
              0,
              "#0d0887"
             ],
             [
              0.1111111111111111,
              "#46039f"
             ],
             [
              0.2222222222222222,
              "#7201a8"
             ],
             [
              0.3333333333333333,
              "#9c179e"
             ],
             [
              0.4444444444444444,
              "#bd3786"
             ],
             [
              0.5555555555555556,
              "#d8576b"
             ],
             [
              0.6666666666666666,
              "#ed7953"
             ],
             [
              0.7777777777777778,
              "#fb9f3a"
             ],
             [
              0.8888888888888888,
              "#fdca26"
             ],
             [
              1,
              "#f0f921"
             ]
            ],
            "type": "heatmap"
           }
          ],
          "histogram": [
           {
            "marker": {
             "pattern": {
              "fillmode": "overlay",
              "size": 10,
              "solidity": 0.2
             }
            },
            "type": "histogram"
           }
          ],
          "histogram2d": [
           {
            "colorbar": {
             "outlinewidth": 0,
             "ticks": ""
            },
            "colorscale": [
             [
              0,
              "#0d0887"
             ],
             [
              0.1111111111111111,
              "#46039f"
             ],
             [
              0.2222222222222222,
              "#7201a8"
             ],
             [
              0.3333333333333333,
              "#9c179e"
             ],
             [
              0.4444444444444444,
              "#bd3786"
             ],
             [
              0.5555555555555556,
              "#d8576b"
             ],
             [
              0.6666666666666666,
              "#ed7953"
             ],
             [
              0.7777777777777778,
              "#fb9f3a"
             ],
             [
              0.8888888888888888,
              "#fdca26"
             ],
             [
              1,
              "#f0f921"
             ]
            ],
            "type": "histogram2d"
           }
          ],
          "histogram2dcontour": [
           {
            "colorbar": {
             "outlinewidth": 0,
             "ticks": ""
            },
            "colorscale": [
             [
              0,
              "#0d0887"
             ],
             [
              0.1111111111111111,
              "#46039f"
             ],
             [
              0.2222222222222222,
              "#7201a8"
             ],
             [
              0.3333333333333333,
              "#9c179e"
             ],
             [
              0.4444444444444444,
              "#bd3786"
             ],
             [
              0.5555555555555556,
              "#d8576b"
             ],
             [
              0.6666666666666666,
              "#ed7953"
             ],
             [
              0.7777777777777778,
              "#fb9f3a"
             ],
             [
              0.8888888888888888,
              "#fdca26"
             ],
             [
              1,
              "#f0f921"
             ]
            ],
            "type": "histogram2dcontour"
           }
          ],
          "mesh3d": [
           {
            "colorbar": {
             "outlinewidth": 0,
             "ticks": ""
            },
            "type": "mesh3d"
           }
          ],
          "parcoords": [
           {
            "line": {
             "colorbar": {
              "outlinewidth": 0,
              "ticks": ""
             }
            },
            "type": "parcoords"
           }
          ],
          "pie": [
           {
            "automargin": true,
            "type": "pie"
           }
          ],
          "scatter": [
           {
            "fillpattern": {
             "fillmode": "overlay",
             "size": 10,
             "solidity": 0.2
            },
            "type": "scatter"
           }
          ],
          "scatter3d": [
           {
            "line": {
             "colorbar": {
              "outlinewidth": 0,
              "ticks": ""
             }
            },
            "marker": {
             "colorbar": {
              "outlinewidth": 0,
              "ticks": ""
             }
            },
            "type": "scatter3d"
           }
          ],
          "scattercarpet": [
           {
            "marker": {
             "colorbar": {
              "outlinewidth": 0,
              "ticks": ""
             }
            },
            "type": "scattercarpet"
           }
          ],
          "scattergeo": [
           {
            "marker": {
             "colorbar": {
              "outlinewidth": 0,
              "ticks": ""
             }
            },
            "type": "scattergeo"
           }
          ],
          "scattergl": [
           {
            "marker": {
             "colorbar": {
              "outlinewidth": 0,
              "ticks": ""
             }
            },
            "type": "scattergl"
           }
          ],
          "scattermap": [
           {
            "marker": {
             "colorbar": {
              "outlinewidth": 0,
              "ticks": ""
             }
            },
            "type": "scattermap"
           }
          ],
          "scattermapbox": [
           {
            "marker": {
             "colorbar": {
              "outlinewidth": 0,
              "ticks": ""
             }
            },
            "type": "scattermapbox"
           }
          ],
          "scatterpolar": [
           {
            "marker": {
             "colorbar": {
              "outlinewidth": 0,
              "ticks": ""
             }
            },
            "type": "scatterpolar"
           }
          ],
          "scatterpolargl": [
           {
            "marker": {
             "colorbar": {
              "outlinewidth": 0,
              "ticks": ""
             }
            },
            "type": "scatterpolargl"
           }
          ],
          "scatterternary": [
           {
            "marker": {
             "colorbar": {
              "outlinewidth": 0,
              "ticks": ""
             }
            },
            "type": "scatterternary"
           }
          ],
          "surface": [
           {
            "colorbar": {
             "outlinewidth": 0,
             "ticks": ""
            },
            "colorscale": [
             [
              0,
              "#0d0887"
             ],
             [
              0.1111111111111111,
              "#46039f"
             ],
             [
              0.2222222222222222,
              "#7201a8"
             ],
             [
              0.3333333333333333,
              "#9c179e"
             ],
             [
              0.4444444444444444,
              "#bd3786"
             ],
             [
              0.5555555555555556,
              "#d8576b"
             ],
             [
              0.6666666666666666,
              "#ed7953"
             ],
             [
              0.7777777777777778,
              "#fb9f3a"
             ],
             [
              0.8888888888888888,
              "#fdca26"
             ],
             [
              1,
              "#f0f921"
             ]
            ],
            "type": "surface"
           }
          ],
          "table": [
           {
            "cells": {
             "fill": {
              "color": "#EBF0F8"
             },
             "line": {
              "color": "white"
             }
            },
            "header": {
             "fill": {
              "color": "#C8D4E3"
             },
             "line": {
              "color": "white"
             }
            },
            "type": "table"
           }
          ]
         },
         "layout": {
          "annotationdefaults": {
           "arrowcolor": "#2a3f5f",
           "arrowhead": 0,
           "arrowwidth": 1
          },
          "autotypenumbers": "strict",
          "coloraxis": {
           "colorbar": {
            "outlinewidth": 0,
            "ticks": ""
           }
          },
          "colorscale": {
           "diverging": [
            [
             0,
             "#8e0152"
            ],
            [
             0.1,
             "#c51b7d"
            ],
            [
             0.2,
             "#de77ae"
            ],
            [
             0.3,
             "#f1b6da"
            ],
            [
             0.4,
             "#fde0ef"
            ],
            [
             0.5,
             "#f7f7f7"
            ],
            [
             0.6,
             "#e6f5d0"
            ],
            [
             0.7,
             "#b8e186"
            ],
            [
             0.8,
             "#7fbc41"
            ],
            [
             0.9,
             "#4d9221"
            ],
            [
             1,
             "#276419"
            ]
           ],
           "sequential": [
            [
             0,
             "#0d0887"
            ],
            [
             0.1111111111111111,
             "#46039f"
            ],
            [
             0.2222222222222222,
             "#7201a8"
            ],
            [
             0.3333333333333333,
             "#9c179e"
            ],
            [
             0.4444444444444444,
             "#bd3786"
            ],
            [
             0.5555555555555556,
             "#d8576b"
            ],
            [
             0.6666666666666666,
             "#ed7953"
            ],
            [
             0.7777777777777778,
             "#fb9f3a"
            ],
            [
             0.8888888888888888,
             "#fdca26"
            ],
            [
             1,
             "#f0f921"
            ]
           ],
           "sequentialminus": [
            [
             0,
             "#0d0887"
            ],
            [
             0.1111111111111111,
             "#46039f"
            ],
            [
             0.2222222222222222,
             "#7201a8"
            ],
            [
             0.3333333333333333,
             "#9c179e"
            ],
            [
             0.4444444444444444,
             "#bd3786"
            ],
            [
             0.5555555555555556,
             "#d8576b"
            ],
            [
             0.6666666666666666,
             "#ed7953"
            ],
            [
             0.7777777777777778,
             "#fb9f3a"
            ],
            [
             0.8888888888888888,
             "#fdca26"
            ],
            [
             1,
             "#f0f921"
            ]
           ]
          },
          "colorway": [
           "#636efa",
           "#EF553B",
           "#00cc96",
           "#ab63fa",
           "#FFA15A",
           "#19d3f3",
           "#FF6692",
           "#B6E880",
           "#FF97FF",
           "#FECB52"
          ],
          "font": {
           "color": "#2a3f5f"
          },
          "geo": {
           "bgcolor": "white",
           "lakecolor": "white",
           "landcolor": "#E5ECF6",
           "showlakes": true,
           "showland": true,
           "subunitcolor": "white"
          },
          "hoverlabel": {
           "align": "left"
          },
          "hovermode": "closest",
          "mapbox": {
           "style": "light"
          },
          "paper_bgcolor": "white",
          "plot_bgcolor": "#E5ECF6",
          "polar": {
           "angularaxis": {
            "gridcolor": "white",
            "linecolor": "white",
            "ticks": ""
           },
           "bgcolor": "#E5ECF6",
           "radialaxis": {
            "gridcolor": "white",
            "linecolor": "white",
            "ticks": ""
           }
          },
          "scene": {
           "xaxis": {
            "backgroundcolor": "#E5ECF6",
            "gridcolor": "white",
            "gridwidth": 2,
            "linecolor": "white",
            "showbackground": true,
            "ticks": "",
            "zerolinecolor": "white"
           },
           "yaxis": {
            "backgroundcolor": "#E5ECF6",
            "gridcolor": "white",
            "gridwidth": 2,
            "linecolor": "white",
            "showbackground": true,
            "ticks": "",
            "zerolinecolor": "white"
           },
           "zaxis": {
            "backgroundcolor": "#E5ECF6",
            "gridcolor": "white",
            "gridwidth": 2,
            "linecolor": "white",
            "showbackground": true,
            "ticks": "",
            "zerolinecolor": "white"
           }
          },
          "shapedefaults": {
           "line": {
            "color": "#2a3f5f"
           }
          },
          "ternary": {
           "aaxis": {
            "gridcolor": "white",
            "linecolor": "white",
            "ticks": ""
           },
           "baxis": {
            "gridcolor": "white",
            "linecolor": "white",
            "ticks": ""
           },
           "bgcolor": "#E5ECF6",
           "caxis": {
            "gridcolor": "white",
            "linecolor": "white",
            "ticks": ""
           }
          },
          "title": {
           "x": 0.05
          },
          "xaxis": {
           "automargin": true,
           "gridcolor": "white",
           "linecolor": "white",
           "ticks": "",
           "title": {
            "standoff": 15
           },
           "zerolinecolor": "white",
           "zerolinewidth": 2
          },
          "yaxis": {
           "automargin": true,
           "gridcolor": "white",
           "linecolor": "white",
           "ticks": "",
           "title": {
            "standoff": 15
           },
           "zerolinecolor": "white",
           "zerolinewidth": 2
          }
         }
        },
        "title": {
         "text": "PCA Projection: Original vs. Steered Embeddings | Layer: 11 | Feature: War | Steering: 2"
        },
        "width": 900,
        "xaxis": {
         "anchor": "y",
         "domain": [
          0,
          1
         ],
         "title": {
          "text": "PCA 1"
         }
        },
        "yaxis": {
         "anchor": "x",
         "domain": [
          0,
          1
         ],
         "title": {
          "text": "PCA 2"
         }
        }
       }
      }
     },
     "metadata": {},
     "output_type": "display_data"
    }
   ],
   "source": [
    "plot_pca_labeled_projection(\n",
    "    original_embeddings,\n",
    "    steered_embeddings,\n",
    "    all_texts_data,\n",
    "    info_string,\n",
    "    steering_vector=steering_vector,\n",
    "    text_range=(0,100),\n",
    "    Write=False\n",
    ")"
   ]
  },
  {
   "cell_type": "markdown",
   "metadata": {
    "id": "pvsIK8GrrPul"
   },
   "source": [
    "***\n",
    "\n",
    "## t-SNE"
   ]
  },
  {
   "cell_type": "markdown",
   "metadata": {
    "id": "vuMRcRgLrPul"
   },
   "source": [
    "**t-SNE (t-distributed Stochastic Neighbor Embedding):** A nonlinear dimensionality reduction technique that focuses on preserving the local structure and similarities between the data points."
   ]
  },
  {
   "cell_type": "markdown",
   "metadata": {
    "id": "sab6kkAPrPul"
   },
   "source": [
    "`plot_tsne_fixed_kmeans` plots the original and steered embeddings using t-SNE and K-Means with any number of clusters (*n_clusters*) and texts (*text_range*) wanted."
   ]
  },
  {
   "cell_type": "code",
   "execution_count": 10,
   "metadata": {
    "id": "P17jhu79rPul",
    "outputId": "2f0ac8a5-4e94-40f0-839e-79c0b63912cc"
   },
   "outputs": [
    {
     "name": "stdout",
     "output_type": "stream",
     "text": [
      "Did kmeans clustering with 5 clusters\n"
     ]
    },
    {
     "data": {
      "application/vnd.plotly.v1+json": {
       "config": {
        "plotlyServerURL": "https://plot.ly"
       },
       "data": [
        {
         "customdata": [
          [
           "4",
           "Original"
          ],
          [
           "4",
           "Original"
          ],
          [
           "4",
           "Original"
          ],
          [
           "4",
           "Original"
          ],
          [
           "4",
           "Original"
          ],
          [
           "4",
           "Original"
          ],
          [
           "4",
           "Original"
          ],
          [
           "4",
           "Original"
          ],
          [
           "4",
           "Original"
          ],
          [
           "4",
           "Original"
          ],
          [
           "4",
           "Original"
          ],
          [
           "4",
           "Original"
          ],
          [
           "4",
           "Original"
          ],
          [
           "4",
           "Original"
          ],
          [
           "4",
           "Original"
          ],
          [
           "4",
           "Original"
          ],
          [
           "4",
           "Original"
          ],
          [
           "4",
           "Original"
          ],
          [
           "4",
           "Original"
          ],
          [
           "4",
           "Original"
          ],
          [
           "4",
           "Original"
          ],
          [
           "4",
           "Original"
          ],
          [
           "4",
           "Original"
          ],
          [
           "4",
           "Original"
          ],
          [
           "4",
           "Original"
          ],
          [
           "4",
           "Original"
          ],
          [
           "4",
           "Original"
          ],
          [
           "4",
           "Original"
          ],
          [
           "4",
           "Original"
          ],
          [
           "4",
           "Original"
          ]
         ],
         "hovertemplate": "<b>%{hovertext}</b><br><br>Cluster=%{customdata[0]}<br>Type=%{customdata[1]}<br>t-SNE 1=%{x:.3f}<br>t-SNE 2=%{y:.3f}<extra></extra>",
         "hovertext": [
          "Original | The Shawshank Redemption | Drama",
          "Original | The Godfather | Crime",
          "Original | The Godfather: Part II | Drama",
          "Original | Pulp Fiction | Crime",
          "Original | Forrest Gump | Romance",
          "Original | Goodfellas | Biography",
          "Original | Hamilton | Biography",
          "Original | Gisaengchung | Drama",
          "Original | Saving Private Ryan | War",
          "Original | The Silence of the Lambs | Crime",
          "Original | Shichinin no samurai | Adventure",
          "Original | The Intouchables | Biography",
          "Original | Gladiator | Drama",
          "Original | American History X | Drama",
          "Original | Léon | Crime",
          "Original | The Lion King | Drama",
          "Original | Hotaru no haka | War",
          "Original | Psycho | Thriller",
          "Original | Modern Times | Drama",
          "Original | Dangal | Biography",
          "Original | Coco | Family",
          "Original | Django Unchained | Western",
          "Original | The Dark Knight Rises | Adventure",
          "Original | Oldeuboi | Mystery",
          "Original | Once Upon a Time in America | Crime",
          "Original | Raiders of the Lost Ark | Adventure",
          "Original | Apocalypse Now | War",
          "Original | Tengoku to jigoku | Crime",
          "Original | The Great Dictator | War",
          "Original | Drishyam | Crime"
         ],
         "legendgroup": "4, Original",
         "marker": {
          "color": "rgb(228,26,28)",
          "symbol": "circle"
         },
         "mode": "markers",
         "name": "4, Original",
         "opacity": 0.3,
         "orientation": "v",
         "showlegend": true,
         "type": "scatter",
         "x": {
          "bdata": "pEctwQL//EANiipBo3asQEXPqUDChPNAFB9+QfmMZcHEkbHAdSYIQANrqb8cwfbANj7YQOh0BkG1nJ/A2vY0wbxLj8GaaT5BEoIwwRiZlkEZkpxAkWvsQI/ni0GUYxLByCYOQUYiN0Fr2l1AXcMsQb/teUF/U++/",
          "dtype": "f4"
         },
         "xaxis": "x",
         "y": {
          "bdata": "wdonQOwgbz0lziHAHoX8vzZ9c8FWEGLAaRcjQUBtWsEWCChByfSZvxg/PUEIlOHAZiE1QO6h3sDW/6O+9hKyvxCQj79cZ/RAva82wfYHHkACmJ3B+tO5QCg3McDQ3P1ARg5MwXe7WEHDiMNAxFeZPxTw2sBmYtTA",
          "dtype": "f4"
         },
         "yaxis": "y"
        },
        {
         "customdata": [
          [
           "4",
           "Steered"
          ],
          [
           "4",
           "Steered"
          ],
          [
           "4",
           "Steered"
          ],
          [
           "4",
           "Steered"
          ],
          [
           "4",
           "Steered"
          ],
          [
           "4",
           "Steered"
          ],
          [
           "4",
           "Steered"
          ],
          [
           "4",
           "Steered"
          ],
          [
           "4",
           "Steered"
          ],
          [
           "4",
           "Steered"
          ],
          [
           "4",
           "Steered"
          ],
          [
           "4",
           "Steered"
          ],
          [
           "4",
           "Steered"
          ],
          [
           "4",
           "Steered"
          ],
          [
           "4",
           "Steered"
          ],
          [
           "4",
           "Steered"
          ],
          [
           "4",
           "Steered"
          ],
          [
           "4",
           "Steered"
          ],
          [
           "4",
           "Steered"
          ],
          [
           "4",
           "Steered"
          ],
          [
           "4",
           "Steered"
          ],
          [
           "4",
           "Steered"
          ],
          [
           "4",
           "Steered"
          ],
          [
           "4",
           "Steered"
          ],
          [
           "4",
           "Steered"
          ],
          [
           "4",
           "Steered"
          ],
          [
           "4",
           "Steered"
          ],
          [
           "4",
           "Steered"
          ],
          [
           "4",
           "Steered"
          ],
          [
           "4",
           "Steered"
          ]
         ],
         "hovertemplate": "<b>%{hovertext}</b><br><br>Cluster=%{customdata[0]}<br>Type=%{customdata[1]}<br>t-SNE 1=%{x:.3f}<br>t-SNE 2=%{y:.3f}<extra></extra>",
         "hovertext": [
          "Steered | The Shawshank Redemption | Drama",
          "Steered | The Godfather | Crime",
          "Steered | The Godfather: Part II | Drama",
          "Steered | Pulp Fiction | Crime",
          "Steered | Forrest Gump | Romance",
          "Steered | Goodfellas | Biography",
          "Steered | Hamilton | Biography",
          "Steered | Gisaengchung | Drama",
          "Steered | Saving Private Ryan | War",
          "Steered | The Silence of the Lambs | Crime",
          "Steered | Shichinin no samurai | Adventure",
          "Steered | The Intouchables | Biography",
          "Steered | Gladiator | Drama",
          "Steered | American History X | Drama",
          "Steered | Léon | Crime",
          "Steered | The Lion King | Drama",
          "Steered | Hotaru no haka | War",
          "Steered | Psycho | Thriller",
          "Steered | Modern Times | Drama",
          "Steered | Dangal | Biography",
          "Steered | Coco | Family",
          "Steered | Django Unchained | Western",
          "Steered | The Dark Knight Rises | Adventure",
          "Steered | Oldeuboi | Mystery",
          "Steered | Once Upon a Time in America | Crime",
          "Steered | Raiders of the Lost Ark | Adventure",
          "Steered | Apocalypse Now | War",
          "Steered | Tengoku to jigoku | Crime",
          "Steered | The Great Dictator | War",
          "Steered | Drishyam | Crime"
         ],
         "legendgroup": "4, Steered",
         "marker": {
          "color": "rgb(228,26,28)",
          "symbol": "diamond"
         },
         "mode": "markers",
         "name": "4, Steered",
         "opacity": 1,
         "orientation": "v",
         "showlegend": true,
         "type": "scatter",
         "x": {
          "bdata": "O/Apwdqv90AYlihBHQClQGIlqEDtRu5ABfd7QT0UZMGt5arAInX/P3pqpb+0dvLACFLRQEHRBEExgJjAMtoxwY0AjsEeVjtBxzQvwfD6lEHjH51AAIfmQJrNiEF77w7B6YgMQZtjNEGuyVFAGnApQYxndkErquq/",
          "dtype": "f4"
         },
         "xaxis": "x",
         "y": {
          "bdata": "qbcpQAhdOz5AcxvA0dvtv4GIcMEzK1rAQbciQRXcWMFEFyZB/WmAv2v9OkGIDdzAj5o3QPeH2MCvEhO+SEuov7obhL9CcPJApwY1wZfxHUA1n5zBEw63QG94J8Ab6/xAshxJwe39VkHYx8NAkWOfP+3N1cCYmc3A",
          "dtype": "f4"
         },
         "yaxis": "y"
        },
        {
         "customdata": [
          [
           "1",
           "Original"
          ],
          [
           "1",
           "Original"
          ],
          [
           "1",
           "Original"
          ],
          [
           "1",
           "Original"
          ],
          [
           "1",
           "Original"
          ],
          [
           "1",
           "Original"
          ],
          [
           "1",
           "Original"
          ],
          [
           "1",
           "Original"
          ],
          [
           "1",
           "Original"
          ],
          [
           "1",
           "Original"
          ],
          [
           "1",
           "Original"
          ],
          [
           "1",
           "Original"
          ],
          [
           "1",
           "Original"
          ],
          [
           "1",
           "Original"
          ],
          [
           "1",
           "Original"
          ],
          [
           "1",
           "Original"
          ],
          [
           "1",
           "Original"
          ],
          [
           "1",
           "Original"
          ],
          [
           "1",
           "Original"
          ],
          [
           "1",
           "Original"
          ],
          [
           "1",
           "Original"
          ],
          [
           "1",
           "Original"
          ],
          [
           "1",
           "Original"
          ],
          [
           "1",
           "Original"
          ]
         ],
         "hovertemplate": "<b>%{hovertext}</b><br><br>Cluster=%{customdata[0]}<br>Type=%{customdata[1]}<br>t-SNE 1=%{x:.3f}<br>t-SNE 2=%{y:.3f}<extra></extra>",
         "hovertext": [
          "Original | The Dark Knight | Crime",
          "Original | One Flew Over the Cuckoo's Nest | Drama",
          "Original | Cidade de Deus | Crime",
          "Original | Sen to Chihiro no kamikakushi | Adventure",
          "Original | La vita è bella | Comedy",
          "Original | Seppuku | Mystery",
          "Original | Joker | Crime",
          "Original | Terminator 2: Judgment Day | Sci-Fi",
          "Original | Nuovo Cinema Paradiso | Romance",
          "Original | Casablanca | Romance",
          "Original | Capharnaüm | Drama",
          "Original | Ayla: The Daughter of War | Biography",
          "Original | 3 Idiots | Comedy",
          "Original | The Shining | Horror",
          "Original | Dr. Strangelove or: How I Learned to Stop Worrying and Love the Bomb | Comedy",
          "Original | Sunset Blvd. | Film-Noir",
          "Original | Jagten | Drama",
          "Original | Jodaeiye Nader az Simin | Drama",
          "Original | Incendies | Mystery",
          "Original | Miracle in cell NO.7 | Drama",
          "Original | Babam ve Oglum | Family",
          "Original | Eternal Sunshine of the Spotless Mind | Romance",
          "Original | Requiem for a Dream | Drama",
          "Original | American Beauty | Drama"
         ],
         "legendgroup": "1, Original",
         "marker": {
          "color": "rgb(55,126,184)",
          "symbol": "circle"
         },
         "mode": "markers",
         "name": "1, Original",
         "opacity": 0.3,
         "orientation": "v",
         "showlegend": true,
         "type": "scatter",
         "x": {
          "bdata": "CxmAQSwifb7Qf2PB5EJQwWBEIUEVfgTBYOVkQantkMFhN1/AuYnNQGhRQcGFqrPA/uQpwTR1iT8r551A2zaowPCnlcCs7mjBWxttwSySVMCoXyhBjOIPweO6gcFDpGvB",
          "dtype": "f4"
         },
         "xaxis": "x",
         "y": {
          "bdata": "vI5Qv1eScsDv0J8/PZ3DQLp2GMESgB4+HAgdwC5uekD+2oLB39UfwTNhkcGx0CBA/piZwEBZ18Bs8w9BMo5mwTuFCMHtO8PACqQtwIChM8Cur4bB9D1wwdI3EUEiyRrB",
          "dtype": "f4"
         },
         "yaxis": "y"
        },
        {
         "customdata": [
          [
           "1",
           "Steered"
          ],
          [
           "1",
           "Steered"
          ],
          [
           "1",
           "Steered"
          ],
          [
           "1",
           "Steered"
          ],
          [
           "1",
           "Steered"
          ],
          [
           "1",
           "Steered"
          ],
          [
           "1",
           "Steered"
          ],
          [
           "1",
           "Steered"
          ],
          [
           "1",
           "Steered"
          ],
          [
           "1",
           "Steered"
          ],
          [
           "1",
           "Steered"
          ],
          [
           "1",
           "Steered"
          ],
          [
           "1",
           "Steered"
          ],
          [
           "1",
           "Steered"
          ],
          [
           "1",
           "Steered"
          ],
          [
           "1",
           "Steered"
          ],
          [
           "1",
           "Steered"
          ],
          [
           "1",
           "Steered"
          ],
          [
           "1",
           "Steered"
          ],
          [
           "1",
           "Steered"
          ],
          [
           "1",
           "Steered"
          ],
          [
           "1",
           "Steered"
          ],
          [
           "1",
           "Steered"
          ],
          [
           "1",
           "Steered"
          ]
         ],
         "hovertemplate": "<b>%{hovertext}</b><br><br>Cluster=%{customdata[0]}<br>Type=%{customdata[1]}<br>t-SNE 1=%{x:.3f}<br>t-SNE 2=%{y:.3f}<extra></extra>",
         "hovertext": [
          "Steered | The Dark Knight | Crime",
          "Steered | One Flew Over the Cuckoo's Nest | Drama",
          "Steered | Cidade de Deus | Crime",
          "Steered | Sen to Chihiro no kamikakushi | Adventure",
          "Steered | La vita è bella | Comedy",
          "Steered | Seppuku | Mystery",
          "Steered | Joker | Crime",
          "Steered | Terminator 2: Judgment Day | Sci-Fi",
          "Steered | Nuovo Cinema Paradiso | Romance",
          "Steered | Casablanca | Romance",
          "Steered | Capharnaüm | Drama",
          "Steered | Ayla: The Daughter of War | Biography",
          "Steered | 3 Idiots | Comedy",
          "Steered | The Shining | Horror",
          "Steered | Dr. Strangelove or: How I Learned to Stop Worrying and Love the Bomb | Comedy",
          "Steered | Sunset Blvd. | Film-Noir",
          "Steered | Jagten | Drama",
          "Steered | Jodaeiye Nader az Simin | Drama",
          "Steered | Incendies | Mystery",
          "Steered | Miracle in cell NO.7 | Drama",
          "Steered | Babam ve Oglum | Family",
          "Steered | Eternal Sunshine of the Spotless Mind | Romance",
          "Steered | Requiem for a Dream | Drama",
          "Steered | American Beauty | Drama"
         ],
         "legendgroup": "1, Steered",
         "marker": {
          "color": "rgb(55,126,184)",
          "symbol": "diamond"
         },
         "mode": "markers",
         "name": "1, Steered",
         "opacity": 1,
         "orientation": "v",
         "showlegend": true,
         "type": "scatter",
         "x": {
          "bdata": "bm94QZtrHL5N22DBvfBMwdnqHkG5QwHBxgBlQV1Fj8Hvj2HAlaHMQCBeP8HYWqzAkkYmwRP1ij+HTpZAU42nwEutkMBeiWbB5mVrwXsMTsDxkSdBCvAOwdGRgMGjl2nB",
          "dtype": "f4"
         },
         "xaxis": "x",
         "y": {
          "bdata": "VftRv6q8Z8CWMqg/x07FQL/eE8HbMIU+b4P1vyrXekDKBoHBn9sbweJ7kMFtCCZA2i+UwN1K0MBIUg1BuYhiwXQHBMFkw7/AgD8kwG1kKMAPtoXBStFuwfmZEUELIhnB",
          "dtype": "f4"
         },
         "yaxis": "y"
        },
        {
         "customdata": [
          [
           "3",
           "Original"
          ],
          [
           "3",
           "Original"
          ],
          [
           "3",
           "Original"
          ],
          [
           "3",
           "Original"
          ],
          [
           "3",
           "Original"
          ],
          [
           "3",
           "Original"
          ],
          [
           "3",
           "Original"
          ],
          [
           "3",
           "Original"
          ],
          [
           "3",
           "Original"
          ],
          [
           "3",
           "Original"
          ],
          [
           "3",
           "Original"
          ],
          [
           "3",
           "Original"
          ],
          [
           "3",
           "Original"
          ],
          [
           "3",
           "Original"
          ],
          [
           "3",
           "Original"
          ],
          [
           "3",
           "Original"
          ],
          [
           "3",
           "Original"
          ],
          [
           "3",
           "Original"
          ],
          [
           "3",
           "Original"
          ]
         ],
         "hovertemplate": "<b>%{hovertext}</b><br><br>Cluster=%{customdata[0]}<br>Type=%{customdata[1]}<br>t-SNE 1=%{x:.3f}<br>t-SNE 2=%{y:.3f}<extra></extra>",
         "hovertext": [
          "Original | 12 Angry Men | Drama",
          "Original | Schindler's List | History",
          "Original | Inception | Sci-Fi",
          "Original | The Matrix | Sci-Fi",
          "Original | The Green Mile | Crime",
          "Original | It's a Wonderful Life | Fantasy",
          "Original | Whiplash | Music",
          "Original | The Pianist | Music",
          "Original | Back to the Future | Sci-Fi",
          "Original | City Lights | Comedy",
          "Original | Taare Zameen Par | Drama",
          "Original | WALL·E | Adventure",
          "Original | Memento | Thriller",
          "Original | Alien | Sci-Fi",
          "Original | Anand | Drama",
          "Original | Witness for the Prosecution | Crime",
          "Original | Andhadhun | Crime",
          "Original | Amélie | Romance",
          "Original | Good Will Hunting | Romance"
         ],
         "legendgroup": "3, Original",
         "marker": {
          "color": "rgb(77,175,74)",
          "symbol": "circle"
         },
         "mode": "markers",
         "name": "3, Original",
         "opacity": 0.3,
         "orientation": "v",
         "showlegend": true,
         "type": "scatter",
         "x": {
          "bdata": "O3XawPyAUkHShiZB3cUtwDhhNkCwXurAZ4bsPn9FWkGygZrB98sswRjP5MDpqU7BPXYnQK94HsFsoKDAIttDwG1elL5GI1LAqjISPQ==",
          "dtype": "f4"
         },
         "xaxis": "x",
         "y": {
          "bdata": "29udwc3OFcEkvINARlySQBbEg8DMzVPAt8+SweT5RMEQ1kTBJE0Iwcr2K8FK6FtB6XRBwTpaQkG62KvAzT6uwVcRIcGNkDfBdH1jwQ==",
          "dtype": "f4"
         },
         "yaxis": "y"
        },
        {
         "customdata": [
          [
           "3",
           "Steered"
          ],
          [
           "3",
           "Steered"
          ],
          [
           "3",
           "Steered"
          ],
          [
           "3",
           "Steered"
          ],
          [
           "3",
           "Steered"
          ],
          [
           "3",
           "Steered"
          ],
          [
           "3",
           "Steered"
          ],
          [
           "3",
           "Steered"
          ],
          [
           "3",
           "Steered"
          ],
          [
           "3",
           "Steered"
          ],
          [
           "3",
           "Steered"
          ],
          [
           "3",
           "Steered"
          ],
          [
           "3",
           "Steered"
          ],
          [
           "3",
           "Steered"
          ],
          [
           "3",
           "Steered"
          ],
          [
           "3",
           "Steered"
          ],
          [
           "3",
           "Steered"
          ],
          [
           "3",
           "Steered"
          ],
          [
           "3",
           "Steered"
          ]
         ],
         "hovertemplate": "<b>%{hovertext}</b><br><br>Cluster=%{customdata[0]}<br>Type=%{customdata[1]}<br>t-SNE 1=%{x:.3f}<br>t-SNE 2=%{y:.3f}<extra></extra>",
         "hovertext": [
          "Steered | 12 Angry Men | Drama",
          "Steered | Schindler's List | History",
          "Steered | Inception | Sci-Fi",
          "Steered | The Matrix | Sci-Fi",
          "Steered | The Green Mile | Crime",
          "Steered | It's a Wonderful Life | Fantasy",
          "Steered | Whiplash | Music",
          "Steered | The Pianist | Music",
          "Steered | Back to the Future | Sci-Fi",
          "Steered | City Lights | Comedy",
          "Steered | Taare Zameen Par | Drama",
          "Steered | WALL·E | Adventure",
          "Steered | Memento | Thriller",
          "Steered | Alien | Sci-Fi",
          "Steered | Anand | Drama",
          "Steered | Witness for the Prosecution | Crime",
          "Steered | Andhadhun | Crime",
          "Steered | Amélie | Romance",
          "Steered | Good Will Hunting | Romance"
         ],
         "legendgroup": "3, Steered",
         "marker": {
          "color": "rgb(77,175,74)",
          "symbol": "diamond"
         },
         "mode": "markers",
         "name": "3, Steered",
         "opacity": 1,
         "orientation": "v",
         "showlegend": true,
         "type": "scatter",
         "x": {
          "bdata": "Y6rXwDOiTkFhYSNBIwYowMnkL0DdkObAp735Ph/JV0HFIZrBd+8qwT/I4cAzOUvBZ+YjQLfGGsGVQ53A0fpBwB4Dib7abk7A+0CWPQ==",
          "dtype": "f4"
         },
         "xaxis": "x",
         "y": {
          "bdata": "456cwb/UEMH3BIJA4J2QQOS9ecBq+0vAdr6RwQuxQsHWTkPBMMYFwcDRKMHLB1pBqcU+wYsnQEGCi6bAcgWtwQboHcGqWjXBg8ZgwQ==",
          "dtype": "f4"
         },
         "yaxis": "y"
        },
        {
         "customdata": [
          [
           "2",
           "Original"
          ],
          [
           "2",
           "Original"
          ],
          [
           "2",
           "Original"
          ],
          [
           "2",
           "Original"
          ],
          [
           "2",
           "Original"
          ],
          [
           "2",
           "Original"
          ],
          [
           "2",
           "Original"
          ],
          [
           "2",
           "Original"
          ],
          [
           "2",
           "Original"
          ],
          [
           "2",
           "Original"
          ],
          [
           "2",
           "Original"
          ],
          [
           "2",
           "Original"
          ]
         ],
         "hovertemplate": "<b>%{hovertext}</b><br><br>Cluster=%{customdata[0]}<br>Type=%{customdata[1]}<br>t-SNE 1=%{x:.3f}<br>t-SNE 2=%{y:.3f}<extra></extra>",
         "hovertext": [
          "Original | The Lord of the Rings: The Return of the King | Adventure",
          "Original | The Lord of the Rings: The Fellowship of the Ring | Adventure",
          "Original | The Lord of the Rings: The Two Towers | Adventure",
          "Original | Star Wars: Episode V - The Empire Strikes Back | Adventure",
          "Original | Soorarai Pottru | Drama",
          "Original | Star Wars | Action",
          "Original | The Prestige | Mystery",
          "Original | Avengers: Endgame | Drama",
          "Original | Avengers: Infinity War | Adventure",
          "Original | Mononoke-hime | Adventure",
          "Original | 1917 | War",
          "Original | Tumbbad | Drama"
         ],
         "legendgroup": "2, Original",
         "marker": {
          "color": "rgb(152,78,163)",
          "symbol": "circle"
         },
         "mode": "markers",
         "name": "2, Original",
         "opacity": 0.3,
         "orientation": "v",
         "showlegend": true,
         "type": "scatter",
         "x": {
          "bdata": "QSPgv50moMBaJBbADcx/wPQ1GsD4xb/A19kCwevlX0Dnguk/Y3aywPsEDUBV6QdB",
          "dtype": "f4"
         },
         "xaxis": "x",
         "y": {
          "bdata": "9UmPQXjylkE6TKJBrS1mQQfmBkEXl2RBJraOQJkGikHoKIRBuo7UQFKCPUHWzZZB",
          "dtype": "f4"
         },
         "yaxis": "y"
        },
        {
         "customdata": [
          [
           "2",
           "Steered"
          ],
          [
           "2",
           "Steered"
          ],
          [
           "2",
           "Steered"
          ],
          [
           "2",
           "Steered"
          ],
          [
           "2",
           "Steered"
          ],
          [
           "2",
           "Steered"
          ],
          [
           "2",
           "Steered"
          ],
          [
           "2",
           "Steered"
          ],
          [
           "2",
           "Steered"
          ],
          [
           "2",
           "Steered"
          ],
          [
           "2",
           "Steered"
          ],
          [
           "2",
           "Steered"
          ]
         ],
         "hovertemplate": "<b>%{hovertext}</b><br><br>Cluster=%{customdata[0]}<br>Type=%{customdata[1]}<br>t-SNE 1=%{x:.3f}<br>t-SNE 2=%{y:.3f}<extra></extra>",
         "hovertext": [
          "Steered | The Lord of the Rings: The Return of the King | Adventure",
          "Steered | The Lord of the Rings: The Fellowship of the Ring | Adventure",
          "Steered | The Lord of the Rings: The Two Towers | Adventure",
          "Steered | Star Wars: Episode V - The Empire Strikes Back | Adventure",
          "Steered | Soorarai Pottru | Drama",
          "Steered | Star Wars | Action",
          "Steered | The Prestige | Mystery",
          "Steered | Avengers: Endgame | Drama",
          "Steered | Avengers: Infinity War | Adventure",
          "Steered | Mononoke-hime | Adventure",
          "Steered | 1917 | War",
          "Steered | Tumbbad | Drama"
         ],
         "legendgroup": "2, Steered",
         "marker": {
          "color": "rgb(152,78,163)",
          "symbol": "diamond"
         },
         "mode": "markers",
         "name": "2, Steered",
         "opacity": 1,
         "orientation": "v",
         "showlegend": true,
         "type": "scatter",
         "x": {
          "bdata": "SF0BwKHzl8DRSBXAaduDwAYREsBRfbbADPX+wFiRVUC4VgBAB0itwNEoBkAY1gVB",
          "dtype": "f4"
         },
         "xaxis": "x",
         "y": {
          "bdata": "chuOQc38lEHc9p5BVW5eQfQMBkFmRF1Bi4aPQFowhUFNJoBBo/jTQFKfOUEyLZZB",
          "dtype": "f4"
         },
         "yaxis": "y"
        },
        {
         "customdata": [
          [
           "0",
           "Original"
          ],
          [
           "0",
           "Original"
          ],
          [
           "0",
           "Original"
          ],
          [
           "0",
           "Original"
          ],
          [
           "0",
           "Original"
          ],
          [
           "0",
           "Original"
          ],
          [
           "0",
           "Original"
          ],
          [
           "0",
           "Original"
          ],
          [
           "0",
           "Original"
          ],
          [
           "0",
           "Original"
          ],
          [
           "0",
           "Original"
          ],
          [
           "0",
           "Original"
          ],
          [
           "0",
           "Original"
          ],
          [
           "0",
           "Original"
          ],
          [
           "0",
           "Original"
          ]
         ],
         "hovertemplate": "<b>%{hovertext}</b><br><br>Cluster=%{customdata[0]}<br>Type=%{customdata[1]}<br>t-SNE 1=%{x:.3f}<br>t-SNE 2=%{y:.3f}<extra></extra>",
         "hovertext": [
          "Original | Fight Club | Drama",
          "Original | Il buono, il brutto, il cattivo | Western",
          "Original | Interstellar | Sci-Fi",
          "Original | Se7en | Crime",
          "Original | The Departed | Crime",
          "Original | The Usual Suspects | Crime",
          "Original | Once Upon a Time in the West | Western",
          "Original | Vikram Vedha | Crime",
          "Original | Kimi no na wa. | Drama",
          "Original | Spider-Man: Into the Spider-Verse | Adventure",
          "Original | The Lives of Others | Thriller",
          "Original | Paths of Glory | War",
          "Original | Rear Window | Thriller",
          "Original | Inglourious Basterds | War",
          "Original | Snatch | Crime"
         ],
         "legendgroup": "0, Original",
         "marker": {
          "color": "rgb(255,127,0)",
          "symbol": "circle"
         },
         "mode": "markers",
         "name": "0, Original",
         "opacity": 0.3,
         "orientation": "v",
         "showlegend": true,
         "type": "scatter",
         "x": {
          "bdata": "M7kpPmWVDkGJQyXBoZaAQCRiUkA2uy2/Db0eP/s+IMDNDZrBYR66QGcxpEBJ+5k/DBJGQMAhPkFuiWNB",
          "dtype": "f4"
         },
         "xaxis": "x",
         "y": {
          "bdata": "IkWhQM6THUGTWIRBQQMUPy9gTECoYle/z2jvP7kCwz+QMMfAQqpZQTuyzcCAtAxBH4IQwVJszcDTqYtA",
          "dtype": "f4"
         },
         "yaxis": "y"
        },
        {
         "customdata": [
          [
           "0",
           "Steered"
          ],
          [
           "0",
           "Steered"
          ],
          [
           "0",
           "Steered"
          ],
          [
           "0",
           "Steered"
          ],
          [
           "0",
           "Steered"
          ],
          [
           "0",
           "Steered"
          ],
          [
           "0",
           "Steered"
          ],
          [
           "0",
           "Steered"
          ],
          [
           "0",
           "Steered"
          ],
          [
           "0",
           "Steered"
          ],
          [
           "0",
           "Steered"
          ],
          [
           "0",
           "Steered"
          ],
          [
           "0",
           "Steered"
          ],
          [
           "0",
           "Steered"
          ],
          [
           "0",
           "Steered"
          ]
         ],
         "hovertemplate": "<b>%{hovertext}</b><br><br>Cluster=%{customdata[0]}<br>Type=%{customdata[1]}<br>t-SNE 1=%{x:.3f}<br>t-SNE 2=%{y:.3f}<extra></extra>",
         "hovertext": [
          "Steered | Fight Club | Drama",
          "Steered | Il buono, il brutto, il cattivo | Western",
          "Steered | Interstellar | Sci-Fi",
          "Steered | Se7en | Crime",
          "Steered | The Departed | Crime",
          "Steered | The Usual Suspects | Crime",
          "Steered | Once Upon a Time in the West | Western",
          "Steered | Vikram Vedha | Crime",
          "Steered | Kimi no na wa. | Drama",
          "Steered | Spider-Man: Into the Spider-Verse | Adventure",
          "Steered | The Lives of Others | Thriller",
          "Steered | Paths of Glory | War",
          "Steered | Rear Window | Thriller",
          "Steered | Inglourious Basterds | War",
          "Steered | Snatch | Crime"
         ],
         "legendgroup": "0, Steered",
         "marker": {
          "color": "rgb(255,127,0)",
          "symbol": "diamond"
         },
         "mode": "markers",
         "name": "0, Steered",
         "opacity": 1,
         "orientation": "v",
         "showlegend": true,
         "type": "scatter",
         "x": {
          "bdata": "6N8vPrCtC0GcNSPBRu5xQH+4R0D1zQ6/tJ0jPwKbGcAjSpnBhdmzQKPdoUBM8Jc/32lEQOboOUFwB2BB",
          "dtype": "f4"
         },
         "xaxis": "x",
         "y": {
          "bdata": "l9qhQMj7G0FvLINBsqUPP8lmSkCnwCq/alHoP4/lzz/pzsPA5ilXQVgMyMBD7ApB0rsNwakIxcCN34lA",
          "dtype": "f4"
         },
         "yaxis": "y"
        },
        {
         "hoverinfo": "none",
         "line": {
          "color": "gray",
          "dash": "dot",
          "width": 1
         },
         "mode": "lines",
         "showlegend": false,
         "type": "scatter",
         "x": [
          -10.82999038696289,
          -10.621150016784668
         ],
         "y": [
          2.6227266788482666,
          2.651834726333618
         ]
        },
        {
         "hoverinfo": "none",
         "line": {
          "color": "gray",
          "dash": "dot",
          "width": 1
         },
         "mode": "lines",
         "showlegend": false,
         "type": "scatter",
         "x": [
          7.906128883361816,
          7.740216255187988
         ],
         "y": [
          0.05838100612163544,
          0.18297207355499268
         ]
        },
        {
         "hoverinfo": "none",
         "line": {
          "color": "gray",
          "dash": "dot",
          "width": 1
         },
         "mode": "lines",
         "showlegend": false,
         "type": "scatter",
         "x": [
          16.01222801208496,
          15.527204513549805
         ],
         "y": [
          -0.8146779537200928,
          -0.8202412724494934
         ]
        },
        {
         "hoverinfo": "none",
         "line": {
          "color": "gray",
          "dash": "dot",
          "width": 1
         },
         "mode": "lines",
         "showlegend": false,
         "type": "scatter",
         "x": [
          10.658703804016113,
          10.536643981933594
         ],
         "y": [
          -2.5282070636749268,
          -2.4289093017578125
         ]
        },
        {
         "hoverinfo": "none",
         "line": {
          "color": "gray",
          "dash": "dot",
          "width": 1
         },
         "mode": "lines",
         "showlegend": false,
         "type": "scatter",
         "x": [
          -6.826810359954834,
          -6.739549160003662
         ],
         "y": [
          -19.732351303100586,
          -19.57758140563965
         ]
        },
        {
         "hoverinfo": "none",
         "line": {
          "color": "gray",
          "dash": "dot",
          "width": 1
         },
         "mode": "lines",
         "showlegend": false,
         "type": "scatter",
         "x": [
          -1.7510758638381958,
          -2.0213184356689453
         ],
         "y": [
          17.91111183166504,
          17.76340103149414
         ]
        },
        {
         "hoverinfo": "none",
         "line": {
          "color": "gray",
          "dash": "dot",
          "width": 1
         },
         "mode": "lines",
         "showlegend": false,
         "type": "scatter",
         "x": [
          5.389482021331787,
          5.156263828277588
         ],
         "y": [
          -1.9728124141693115,
          -1.8582707643508911
         ]
        },
        {
         "hoverinfo": "none",
         "line": {
          "color": "gray",
          "dash": "dot",
          "width": 1
         },
         "mode": "lines",
         "showlegend": false,
         "type": "scatter",
         "x": [
          13.156490325927734,
          12.914599418640137
         ],
         "y": [
          -9.362988471984863,
          -9.051939964294434
         ]
        },
        {
         "hoverinfo": "none",
         "line": {
          "color": "gray",
          "dash": "dot",
          "width": 1
         },
         "mode": "lines",
         "showlegend": false,
         "type": "scatter",
         "x": [
          10.407915115356445,
          10.211274147033691
         ],
         "y": [
          4.116716384887695,
          4.063106060028076
         ]
        },
        {
         "hoverinfo": "none",
         "line": {
          "color": "gray",
          "dash": "dot",
          "width": 1
         },
         "mode": "lines",
         "showlegend": false,
         "type": "scatter",
         "x": [
          0.1657455414533615,
          0.17175257205963135
         ],
         "y": [
          5.039689064025879,
          5.057933330535889
         ]
        },
        {
         "hoverinfo": "none",
         "line": {
          "color": "gray",
          "dash": "dot",
          "width": 1
         },
         "mode": "lines",
         "showlegend": false,
         "type": "scatter",
         "x": [
          -5.004713535308838,
          -4.748489856719971
         ],
         "y": [
          18.868392944335938,
          18.623437881469727
         ]
        },
        {
         "hoverinfo": "none",
         "line": {
          "color": "gray",
          "dash": "dot",
          "width": 1
         },
         "mode": "lines",
         "showlegend": false,
         "type": "scatter",
         "x": [
          5.306551456451416,
          5.254563331604004
         ],
         "y": [
          -15.218069076538086,
          -15.033326148986816
         ]
        },
        {
         "hoverinfo": "none",
         "line": {
          "color": "gray",
          "dash": "dot",
          "width": 1
         },
         "mode": "lines",
         "showlegend": false,
         "type": "scatter",
         "x": [
          8.911473274230957,
          8.729904174804688
         ],
         "y": [
          9.84858512878418,
          9.748970031738281
         ]
        },
        {
         "hoverinfo": "none",
         "line": {
          "color": "gray",
          "dash": "dot",
          "width": 1
         },
         "mode": "lines",
         "showlegend": false,
         "type": "scatter",
         "x": [
          -2.345968723297119,
          -2.3325693607330322
         ],
         "y": [
          20.287220001220703,
          19.87053680419922
         ]
        },
        {
         "hoverinfo": "none",
         "line": {
          "color": "gray",
          "dash": "dot",
          "width": 1
         },
         "mode": "lines",
         "showlegend": false,
         "type": "scatter",
         "x": [
          -2.7152016162872314,
          -2.6253745555877686
         ],
         "y": [
          4.573763847351074,
          4.5192718505859375
         ]
        },
        {
         "hoverinfo": "none",
         "line": {
          "color": "gray",
          "dash": "dot",
          "width": 1
         },
         "mode": "lines",
         "showlegend": false,
         "type": "scatter",
         "x": [
          7.609955787658691,
          7.446157932281494
         ],
         "y": [
          -3.5322470664978027,
          -3.408886671066284
         ]
        },
        {
         "hoverinfo": "none",
         "line": {
          "color": "gray",
          "dash": "dot",
          "width": 1
         },
         "mode": "lines",
         "showlegend": false,
         "type": "scatter",
         "x": [
          -3.9968292713165283,
          -4.120533466339111
         ],
         "y": [
          14.386151313781738,
          13.901936531066895
         ]
        },
        {
         "hoverinfo": "none",
         "line": {
          "color": "gray",
          "dash": "dot",
          "width": 1
         },
         "mode": "lines",
         "showlegend": false,
         "type": "scatter",
         "x": [
          -0.24720066785812378,
          -0.15275423228740692
         ],
         "y": [
          -3.790181875228882,
          -3.6208901405334473
         ]
        },
        {
         "hoverinfo": "none",
         "line": {
          "color": "gray",
          "dash": "dot",
          "width": 1
         },
         "mode": "lines",
         "showlegend": false,
         "type": "scatter",
         "x": [
          15.882587432861328,
          15.747807502746582
         ],
         "y": [
          10.193215370178223,
          10.169739723205566
         ]
        },
        {
         "hoverinfo": "none",
         "line": {
          "color": "gray",
          "dash": "dot",
          "width": 1
         },
         "mode": "lines",
         "showlegend": false,
         "type": "scatter",
         "x": [
          -14.346917152404785,
          -14.2549409866333
         ],
         "y": [
          -13.65167236328125,
          -13.553730964660645
         ]
        },
        {
         "hoverinfo": "none",
         "line": {
          "color": "gray",
          "dash": "dot",
          "width": 1
         },
         "mode": "lines",
         "showlegend": false,
         "type": "scatter",
         "x": [
          -2.409543037414551,
          -2.2822890281677246
         ],
         "y": [
          8.431159019470215,
          8.378162384033203
         ]
        },
        {
         "hoverinfo": "none",
         "line": {
          "color": "gray",
          "dash": "dot",
          "width": 1
         },
         "mode": "lines",
         "showlegend": false,
         "type": "scatter",
         "x": [
          -10.328988075256348,
          -10.20058822631836
         ],
         "y": [
          16.543249130249023,
          16.396696090698242
         ]
        },
        {
         "hoverinfo": "none",
         "line": {
          "color": "gray",
          "dash": "dot",
          "width": 1
         },
         "mode": "lines",
         "showlegend": false,
         "type": "scatter",
         "x": [
          -14.218704223632812,
          -14.053540229797363
         ],
         "y": [
          1.2485636472702026,
          1.3140437602996826
         ]
        },
        {
         "hoverinfo": "none",
         "line": {
          "color": "gray",
          "dash": "dot",
          "width": 1
         },
         "mode": "lines",
         "showlegend": false,
         "type": "scatter",
         "x": [
          -13.01633071899414,
          -12.8087739944458
         ],
         "y": [
          6.11294412612915,
          6.165866374969482
         ]
        },
        {
         "hoverinfo": "none",
         "line": {
          "color": "gray",
          "dash": "dot",
          "width": 1
         },
         "mode": "lines",
         "showlegend": false,
         "type": "scatter",
         "x": [
          -5.549043655395508,
          -5.340536594390869
         ],
         "y": [
          10.501974105834961,
          10.380680084228516
         ]
        },
        {
         "hoverinfo": "none",
         "line": {
          "color": "gray",
          "dash": "dot",
          "width": 1
         },
         "mode": "lines",
         "showlegend": false,
         "type": "scatter",
         "x": [
          2.8496837615966797,
          2.7483389377593994
         ],
         "y": [
          -4.1176862716674805,
          -3.902215003967285
         ]
        },
        {
         "hoverinfo": "none",
         "line": {
          "color": "gray",
          "dash": "dot",
          "width": 1
         },
         "mode": "lines",
         "showlegend": false,
         "type": "scatter",
         "x": [
          10.079193115234375,
          9.93233585357666
         ],
         "y": [
          -9.528985977172852,
          -9.241881370544434
         ]
        },
        {
         "hoverinfo": "none",
         "line": {
          "color": "gray",
          "dash": "dot",
          "width": 1
         },
         "mode": "lines",
         "showlegend": false,
         "type": "scatter",
         "x": [
          4.018387317657471,
          3.780168056488037
         ],
         "y": [
          0.5781746506690979,
          0.5611220598220825
         ]
        },
        {
         "hoverinfo": "none",
         "line": {
          "color": "gray",
          "dash": "dot",
          "width": 1
         },
         "mode": "lines",
         "showlegend": false,
         "type": "scatter",
         "x": [
          2.127347230911255,
          1.9957621097564697
         ],
         "y": [
          -1.2027827501296997,
          -1.0032345056533813
         ]
        },
        {
         "hoverinfo": "none",
         "line": {
          "color": "gray",
          "dash": "dot",
          "width": 1
         },
         "mode": "lines",
         "showlegend": false,
         "type": "scatter",
         "x": [
          -5.992916107177734,
          -5.7027974128723145
         ],
         "y": [
          14.286887168884277,
          13.829198837280273
         ]
        },
        {
         "hoverinfo": "none",
         "line": {
          "color": "gray",
          "dash": "dot",
          "width": 1
         },
         "mode": "lines",
         "showlegend": false,
         "type": "scatter",
         "x": [
          -8.280781745910645,
          -8.079033851623535
         ],
         "y": [
          0.1547854244709015,
          0.2601383626461029
         ]
        },
        {
         "hoverinfo": "none",
         "line": {
          "color": "gray",
          "dash": "dot",
          "width": 1
         },
         "mode": "lines",
         "showlegend": false,
         "type": "scatter",
         "x": [
          -1.3235782384872437,
          -1.2923119068145752
         ],
         "y": [
          11.827903747558594,
          11.686869621276855
         ]
        },
        {
         "hoverinfo": "none",
         "line": {
          "color": "gray",
          "dash": "dot",
          "width": 1
         },
         "mode": "lines",
         "showlegend": false,
         "type": "scatter",
         "x": [
          -7.324058532714844,
          -7.205183506011963
         ],
         "y": [
          -3.3094358444213867,
          -3.1872200965881348
         ]
        },
        {
         "hoverinfo": "none",
         "line": {
          "color": "gray",
          "dash": "dot",
          "width": 1
         },
         "mode": "lines",
         "showlegend": false,
         "type": "scatter",
         "x": [
          14.305999755859375,
          14.312688827514648
         ],
         "y": [
          -2.453619956970215,
          -1.9180735349655151
         ]
        },
        {
         "hoverinfo": "none",
         "line": {
          "color": "gray",
          "dash": "dot",
          "width": 1
         },
         "mode": "lines",
         "showlegend": false,
         "type": "scatter",
         "x": [
          0.46196290850639343,
          0.487775057554245
         ],
         "y": [
          -18.351423263549805,
          -18.217998504638672
         ]
        },
        {
         "hoverinfo": "none",
         "line": {
          "color": "gray",
          "dash": "dot",
          "width": 1
         },
         "mode": "lines",
         "showlegend": false,
         "type": "scatter",
         "x": [
          -7.71107292175293,
          -7.576990127563477
         ],
         "y": [
          -7.049320220947266,
          -6.876651763916016
         ]
        },
        {
         "hoverinfo": "none",
         "line": {
          "color": "gray",
          "dash": "dot",
          "width": 1
         },
         "mode": "lines",
         "showlegend": false,
         "type": "scatter",
         "x": [
          -8.178183555603027,
          -7.967412948608398
         ],
         "y": [
          4.459734916687012,
          4.48517370223999
         ]
        },
        {
         "hoverinfo": "none",
         "line": {
          "color": "gray",
          "dash": "dot",
          "width": 1
         },
         "mode": "lines",
         "showlegend": false,
         "type": "scatter",
         "x": [
          3.2872400283813477,
          3.120635747909546
         ],
         "y": [
          3.1933705806732178,
          3.1625235080718994
         ]
        },
        {
         "hoverinfo": "none",
         "line": {
          "color": "gray",
          "dash": "dot",
          "width": 1
         },
         "mode": "lines",
         "showlegend": false,
         "type": "scatter",
         "x": [
          13.641966819763184,
          13.486601829528809
         ],
         "y": [
          -12.31100845336914,
          -12.16822338104248
         ]
        },
        {
         "hoverinfo": "none",
         "line": {
          "color": "gray",
          "dash": "dot",
          "width": 1
         },
         "mode": "lines",
         "showlegend": false,
         "type": "scatter",
         "x": [
          6.757594108581543,
          6.541263580322266
         ],
         "y": [
          2.8301634788513184,
          2.8688085079193115
         ]
        },
        {
         "hoverinfo": "none",
         "line": {
          "color": "gray",
          "dash": "dot",
          "width": 1
         },
         "mode": "lines",
         "showlegend": false,
         "type": "scatter",
         "x": [
          8.403541564941406,
          8.301087379455566
         ],
         "y": [
          -6.957266807556152,
          -6.766597270965576
         ]
        },
        {
         "hoverinfo": "none",
         "line": {
          "color": "gray",
          "dash": "dot",
          "width": 1
         },
         "mode": "lines",
         "showlegend": false,
         "type": "scatter",
         "x": [
          -0.6786378622055054,
          -0.5578301548957825
         ],
         "y": [
          -0.8413491249084473,
          -0.6670021414756775
         ]
        },
        {
         "hoverinfo": "none",
         "line": {
          "color": "gray",
          "dash": "dot",
          "width": 1
         },
         "mode": "lines",
         "showlegend": false,
         "type": "scatter",
         "x": [
          -4.987879276275635,
          -4.765648365020752
         ],
         "y": [
          -0.3203112483024597,
          -0.14362595975399017
         ]
        },
        {
         "hoverinfo": "none",
         "line": {
          "color": "gray",
          "dash": "dot",
          "width": 1
         },
         "mode": "lines",
         "showlegend": false,
         "type": "scatter",
         "x": [
          -11.310266494750977,
          -11.11577033996582
         ],
         "y": [
          -1.3912036418914795,
          -1.3147974014282227
         ]
        },
        {
         "hoverinfo": "none",
         "line": {
          "color": "gray",
          "dash": "dot",
          "width": 1
         },
         "mode": "lines",
         "showlegend": false,
         "type": "scatter",
         "x": [
          -18.116044998168945,
          -17.90886878967285
         ],
         "y": [
          3.9129748344421387,
          3.9193825721740723
         ]
        },
        {
         "hoverinfo": "none",
         "line": {
          "color": "gray",
          "dash": "dot",
          "width": 1
         },
         "mode": "lines",
         "showlegend": false,
         "type": "scatter",
         "x": [
          -3.487755060195923,
          -3.5244100093841553
         ],
         "y": [
          -16.356929779052734,
          -16.128314971923828
         ]
        },
        {
         "hoverinfo": "none",
         "line": {
          "color": "gray",
          "dash": "dot",
          "width": 1
         },
         "mode": "lines",
         "showlegend": false,
         "type": "scatter",
         "x": [
          -17.91197967529297,
          -17.750268936157227
         ],
         "y": [
          -1.1215839385986328,
          -1.0320961475372314
         ]
        },
        {
         "hoverinfo": "none",
         "line": {
          "color": "gray",
          "dash": "dot",
          "width": 1
         },
         "mode": "lines",
         "showlegend": false,
         "type": "scatter",
         "x": [
          -19.31332778930664,
          -19.266489028930664
         ],
         "y": [
          -12.302261352539062,
          -12.206747055053711
         ]
        },
        {
         "hoverinfo": "none",
         "line": {
          "color": "gray",
          "dash": "dot",
          "width": 1
         },
         "mode": "lines",
         "showlegend": false,
         "type": "scatter",
         "x": [
          0.6200721859931946,
          0.6391251087188721
         ],
         "y": [
          1.870386004447937,
          1.8149845600128174
         ]
        },
        {
         "hoverinfo": "none",
         "line": {
          "color": "gray",
          "dash": "dot",
          "width": 1
         },
         "mode": "lines",
         "showlegend": false,
         "type": "scatter",
         "x": [
          11.900781631469727,
          11.708524703979492
         ],
         "y": [
          7.637617111206055,
          7.576203346252441
         ]
        },
        {
         "hoverinfo": "none",
         "line": {
          "color": "gray",
          "dash": "dot",
          "width": 1
         },
         "mode": "lines",
         "showlegend": false,
         "type": "scatter",
         "x": [
          6.423061847686768,
          6.394724369049072
         ],
         "y": [
          -9.989714622497559,
          -9.741118431091309
         ]
        },
        {
         "hoverinfo": "none",
         "line": {
          "color": "gray",
          "dash": "dot",
          "width": 1
         },
         "mode": "lines",
         "showlegend": false,
         "type": "scatter",
         "x": [
          -11.031755447387695,
          -10.950385093688965
         ],
         "y": [
          -11.4179048538208,
          -11.31412410736084
         ]
        },
        {
         "hoverinfo": "none",
         "line": {
          "color": "gray",
          "dash": "dot",
          "width": 1
         },
         "mode": "lines",
         "showlegend": false,
         "type": "scatter",
         "x": [
          -10.799796104431152,
          -10.683463096618652
         ],
         "y": [
          -8.51883316040039,
          -8.360885620117188
         ]
        },
        {
         "hoverinfo": "none",
         "line": {
          "color": "gray",
          "dash": "dot",
          "width": 1
         },
         "mode": "lines",
         "showlegend": false,
         "type": "scatter",
         "x": [
          -12.082374572753906,
          -11.960479736328125
         ],
         "y": [
          -18.172460556030273,
          -18.060489654541016
         ]
        },
        {
         "hoverinfo": "none",
         "line": {
          "color": "gray",
          "dash": "dot",
          "width": 1
         },
         "mode": "lines",
         "showlegend": false,
         "type": "scatter",
         "x": [
          -5.614565372467041,
          -5.386089324951172
         ],
         "y": [
          2.512737512588501,
          2.594264268875122
         ]
        },
        {
         "hoverinfo": "none",
         "line": {
          "color": "gray",
          "dash": "dot",
          "width": 1
         },
         "mode": "lines",
         "showlegend": false,
         "type": "scatter",
         "x": [
          -2.5038440227508545,
          -2.400085926055908
         ],
         "y": [
          1.523520588874817,
          1.6241930723190308
         ]
        },
        {
         "hoverinfo": "none",
         "line": {
          "color": "gray",
          "dash": "dot",
          "width": 1
         },
         "mode": "lines",
         "showlegend": false,
         "type": "scatter",
         "x": [
          -19.256738662719727,
          -19.16119956970215
         ],
         "y": [
          -6.224678039550781,
          -6.119007587432861
         ]
        },
        {
         "hoverinfo": "none",
         "line": {
          "color": "gray",
          "dash": "dot",
          "width": 1
         },
         "mode": "lines",
         "showlegend": false,
         "type": "scatter",
         "x": [
          18.824752807617188,
          18.622528076171875
         ],
         "y": [
          2.469235897064209,
          2.4678704738616943
         ]
        },
        {
         "hoverinfo": "none",
         "line": {
          "color": "gray",
          "dash": "dot",
          "width": 1
         },
         "mode": "lines",
         "showlegend": false,
         "type": "scatter",
         "x": [
          5.816208362579346,
          5.620302677154541
         ],
         "y": [
          13.604066848754883,
          13.447729110717773
         ]
        },
        {
         "hoverinfo": "none",
         "line": {
          "color": "gray",
          "dash": "dot",
          "width": 1
         },
         "mode": "lines",
         "showlegend": false,
         "type": "scatter",
         "x": [
          3.498408079147339,
          3.336996078491211
         ],
         "y": [
          17.25322151184082,
          16.648609161376953
         ]
        },
        {
         "hoverinfo": "none",
         "line": {
          "color": "gray",
          "dash": "dot",
          "width": 1
         },
         "mode": "lines",
         "showlegend": false,
         "type": "scatter",
         "x": [
          1.8243073225021362,
          2.0052928924560547
         ],
         "y": [
          16.519973754882812,
          16.018701553344727
         ]
        },
        {
         "hoverinfo": "none",
         "line": {
          "color": "gray",
          "dash": "dot",
          "width": 1
         },
         "mode": "lines",
         "showlegend": false,
         "type": "scatter",
         "x": [
          4.892834186553955,
          4.910142421722412
         ],
         "y": [
          -19.699222564697266,
          -19.57773780822754
         ]
        },
        {
         "hoverinfo": "none",
         "line": {
          "color": "gray",
          "dash": "dot",
          "width": 1
         },
         "mode": "lines",
         "showlegend": false,
         "type": "scatter",
         "x": [
          7.3881306648254395,
          7.2039794921875
         ],
         "y": [
          5.807126045227051,
          5.720468044281006
         ]
        },
        {
         "hoverinfo": "none",
         "line": {
          "color": "gray",
          "dash": "dot",
          "width": 1
         },
         "mode": "lines",
         "showlegend": false,
         "type": "scatter",
         "x": [
          17.488065719604492,
          17.100391387939453
         ],
         "y": [
          -2.768991470336914,
          -2.6167256832122803
         ]
        },
        {
         "hoverinfo": "none",
         "line": {
          "color": "gray",
          "dash": "dot",
          "width": 1
         },
         "mode": "lines",
         "showlegend": false,
         "type": "scatter",
         "x": [
          -10.618406295776367,
          -10.392229080200195
         ],
         "y": [
          -4.799925804138184,
          -4.630841255187988
         ]
        },
        {
         "hoverinfo": "none",
         "line": {
          "color": "gray",
          "dash": "dot",
          "width": 1
         },
         "mode": "lines",
         "showlegend": false,
         "type": "scatter",
         "x": [
          -7.150279998779297,
          -7.055694103240967
         ],
         "y": [
          -10.747751235961914,
          -10.55120849609375
         ]
        },
        {
         "hoverinfo": "none",
         "line": {
          "color": "gray",
          "dash": "dot",
          "width": 1
         },
         "mode": "lines",
         "showlegend": false,
         "type": "scatter",
         "x": [
          -12.916481971740723,
          -12.701464653015137
         ],
         "y": [
          13.744211196899414,
          13.62690258026123
         ]
        },
        {
         "hoverinfo": "none",
         "line": {
          "color": "gray",
          "dash": "dot",
          "width": 1
         },
         "mode": "lines",
         "showlegend": false,
         "type": "scatter",
         "x": [
          5.131030559539795,
          5.058305263519287
         ],
         "y": [
          -6.428006649017334,
          -6.251506805419922
         ]
        },
        {
         "hoverinfo": "none",
         "line": {
          "color": "gray",
          "dash": "dot",
          "width": 1
         },
         "mode": "lines",
         "showlegend": false,
         "type": "scatter",
         "x": [
          -9.149311065673828,
          -8.933466911315918
         ],
         "y": [
          7.933204650878906,
          7.9036993980407715
         ]
        },
        {
         "hoverinfo": "none",
         "line": {
          "color": "gray",
          "dash": "dot",
          "width": 1
         },
         "mode": "lines",
         "showlegend": false,
         "type": "scatter",
         "x": [
          2.616591691970825,
          2.5609376430511475
         ],
         "y": [
          -12.091042518615723,
          -11.923256874084473
         ]
        },
        {
         "hoverinfo": "none",
         "line": {
          "color": "gray",
          "dash": "dot",
          "width": 1
         },
         "mode": "lines",
         "showlegend": false,
         "type": "scatter",
         "x": [
          -5.576951503753662,
          -5.415042400360107
         ],
         "y": [
          6.642422676086426,
          6.624101161956787
         ]
        },
        {
         "hoverinfo": "none",
         "line": {
          "color": "gray",
          "dash": "dot",
          "width": 1
         },
         "mode": "lines",
         "showlegend": false,
         "type": "scatter",
         "x": [
          8.884468078613281,
          8.783425331115723
         ],
         "y": [
          -12.753484725952148,
          -12.56950569152832
         ]
        },
        {
         "hoverinfo": "none",
         "line": {
          "color": "gray",
          "dash": "dot",
          "width": 1
         },
         "mode": "lines",
         "showlegend": false,
         "type": "scatter",
         "x": [
          11.445867538452148,
          11.274317741394043
         ],
         "y": [
          13.545767784118652,
          13.436993598937988
         ]
        },
        {
         "hoverinfo": "none",
         "line": {
          "color": "gray",
          "dash": "dot",
          "width": 1
         },
         "mode": "lines",
         "showlegend": false,
         "type": "scatter",
         "x": [
          1.0738892555236816,
          1.0856040716171265
         ],
         "y": [
          -6.729644775390625,
          -6.509138584136963
         ]
        },
        {
         "hoverinfo": "none",
         "line": {
          "color": "gray",
          "dash": "dot",
          "width": 1
         },
         "mode": "lines",
         "showlegend": false,
         "type": "scatter",
         "x": [
          3.466456174850464,
          3.2779345512390137
         ],
         "y": [
          6.11044454574585,
          6.118144989013672
         ]
        },
        {
         "hoverinfo": "none",
         "line": {
          "color": "gray",
          "dash": "dot",
          "width": 1
         },
         "mode": "lines",
         "showlegend": false,
         "type": "scatter",
         "x": [
          -9.904463768005371,
          -9.673514366149902
         ],
         "y": [
          12.147027969360352,
          12.00965404510498
         ]
        },
        {
         "hoverinfo": "none",
         "line": {
          "color": "gray",
          "dash": "dot",
          "width": 1
         },
         "mode": "lines",
         "showlegend": false,
         "type": "scatter",
         "x": [
          -5.019582748413086,
          -4.914499759674072
         ],
         "y": [
          -5.370205879211426,
          -5.204529762268066
         ]
        },
        {
         "hoverinfo": "none",
         "line": {
          "color": "gray",
          "dash": "dot",
          "width": 1
         },
         "mode": "lines",
         "showlegend": false,
         "type": "scatter",
         "x": [
          10.797696113586426,
          10.589868545532227
         ],
         "y": [
          1.197990894317627,
          1.2452260255813599
         ]
        },
        {
         "hoverinfo": "none",
         "line": {
          "color": "gray",
          "dash": "dot",
          "width": 1
         },
         "mode": "lines",
         "showlegend": false,
         "type": "scatter",
         "x": [
          4.934468746185303,
          4.697085857391357
         ],
         "y": [
          8.996929168701172,
          8.832588195800781
         ]
        },
        {
         "hoverinfo": "none",
         "line": {
          "color": "gray",
          "dash": "dot",
          "width": 1
         },
         "mode": "lines",
         "showlegend": false,
         "type": "scatter",
         "x": [
          -3.0602498054504395,
          -3.0309336185455322
         ],
         "y": [
          -21.780664443969727,
          -21.62765884399414
         ]
        },
        {
         "hoverinfo": "none",
         "line": {
          "color": "gray",
          "dash": "dot",
          "width": 1
         },
         "mode": "lines",
         "showlegend": false,
         "type": "scatter",
         "x": [
          1.2029811143875122,
          1.1870207786560059
         ],
         "y": [
          8.7940673828125,
          8.6826810836792
         ]
        },
        {
         "hoverinfo": "none",
         "line": {
          "color": "gray",
          "dash": "dot",
          "width": 1
         },
         "mode": "lines",
         "showlegend": false,
         "type": "scatter",
         "x": [
          3.094851493835449,
          3.0689618587493896
         ],
         "y": [
          -9.031767845153809,
          -8.858354568481445
         ]
        },
        {
         "hoverinfo": "none",
         "line": {
          "color": "gray",
          "dash": "dot",
          "width": 1
         },
         "mode": "lines",
         "showlegend": false,
         "type": "scatter",
         "x": [
          -5.2566962242126465,
          -5.236001491546631
         ],
         "y": [
          -14.40971565246582,
          -14.158379554748535
         ]
        },
        {
         "hoverinfo": "none",
         "line": {
          "color": "gray",
          "dash": "dot",
          "width": 1
         },
         "mode": "lines",
         "showlegend": false,
         "type": "scatter",
         "x": [
          15.620543479919434,
          15.400279998779297
         ],
         "y": [
          -6.841806411743164,
          -6.681387424468994
         ]
        },
        {
         "hoverinfo": "none",
         "line": {
          "color": "gray",
          "dash": "dot",
          "width": 1
         },
         "mode": "lines",
         "showlegend": false,
         "type": "scatter",
         "x": [
          2.2034289836883545,
          2.0962412357330322
         ],
         "y": [
          11.844316482543945,
          11.601396560668945
         ]
        },
        {
         "hoverinfo": "none",
         "line": {
          "color": "gray",
          "dash": "dot",
          "width": 1
         },
         "mode": "lines",
         "showlegend": false,
         "type": "scatter",
         "x": [
          8.494465827941895,
          8.364768981933594
         ],
         "y": [
          18.850505828857422,
          18.77206802368164
         ]
        },
        {
         "hoverinfo": "none",
         "line": {
          "color": "gray",
          "dash": "dot",
          "width": 1
         },
         "mode": "lines",
         "showlegend": false,
         "type": "scatter",
         "x": [
          -0.28978291153907776,
          -0.2676019072532654
         ],
         "y": [
          -10.066733360290527,
          -9.869146347045898
         ]
        },
        {
         "hoverinfo": "none",
         "line": {
          "color": "gray",
          "dash": "dot",
          "width": 1
         },
         "mode": "lines",
         "showlegend": false,
         "type": "scatter",
         "x": [
          -1.869735598564148,
          -1.8333181142807007
         ],
         "y": [
          -6.637011528015137,
          -6.424999237060547
         ]
        },
        {
         "hoverinfo": "none",
         "line": {
          "color": "gray",
          "dash": "dot",
          "width": 1
         },
         "mode": "lines",
         "showlegend": false,
         "type": "scatter",
         "x": [
          -4.676750183105469,
          -4.521153926849365
         ],
         "y": [
          -8.532526969909668,
          -8.251819610595703
         ]
        },
        {
         "hoverinfo": "none",
         "line": {
          "color": "gray",
          "dash": "dot",
          "width": 1
         },
         "mode": "lines",
         "showlegend": false,
         "type": "scatter",
         "x": [
          -14.558269500732422,
          -14.408536911010742
         ],
         "y": [
          -6.101065158843994,
          -5.99260139465332
         ]
        },
        {
         "hoverinfo": "none",
         "line": {
          "color": "gray",
          "dash": "dot",
          "width": 1
         },
         "mode": "lines",
         "showlegend": false,
         "type": "scatter",
         "x": [
          -14.819178581237793,
          -14.712377548217773
         ],
         "y": [
          -2.713137149810791,
          -2.566375732421875
         ]
        },
        {
         "hoverinfo": "none",
         "line": {
          "color": "gray",
          "dash": "dot",
          "width": 1
         },
         "mode": "lines",
         "showlegend": false,
         "type": "scatter",
         "x": [
          -3.3214216232299805,
          -3.2195117473602295
         ],
         "y": [
          -2.806732177734375,
          -2.631129503250122
         ]
        },
        {
         "hoverinfo": "none",
         "line": {
          "color": "gray",
          "dash": "dot",
          "width": 1
         },
         "mode": "lines",
         "showlegend": false,
         "type": "scatter",
         "x": [
          10.523353576660156,
          10.473130226135254
         ],
         "y": [
          -16.83578109741211,
          -16.713895797729492
         ]
        },
        {
         "hoverinfo": "none",
         "line": {
          "color": "gray",
          "dash": "dot",
          "width": 1
         },
         "mode": "lines",
         "showlegend": false,
         "type": "scatter",
         "x": [
          11.88323974609375,
          11.619359970092773
         ],
         "y": [
          -6.419472694396973,
          -6.157307147979736
         ]
        },
        {
         "hoverinfo": "none",
         "line": {
          "color": "gray",
          "dash": "dot",
          "width": 1
         },
         "mode": "lines",
         "showlegend": false,
         "type": "scatter",
         "x": [
          -8.992809295654297,
          -8.933603286743164
         ],
         "y": [
          -15.015125274658203,
          -14.926095962524414
         ]
        },
        {
         "hoverinfo": "none",
         "line": {
          "color": "gray",
          "dash": "dot",
          "width": 1
         },
         "mode": "lines",
         "showlegend": false,
         "type": "scatter",
         "x": [
          -3.283402919769287,
          -3.225515842437744
         ],
         "y": [
          -11.472790718078613,
          -11.334634780883789
         ]
        },
        {
         "hoverinfo": "none",
         "line": {
          "color": "gray",
          "dash": "dot",
          "width": 1
         },
         "mode": "lines",
         "showlegend": false,
         "type": "scatter",
         "x": [
          14.221052169799805,
          14.001815795898438
         ],
         "y": [
          4.364480495452881,
          4.308538913726807
         ]
        },
        {
         "hoverinfo": "none",
         "line": {
          "color": "gray",
          "dash": "dot",
          "width": 1
         },
         "mode": "lines",
         "showlegend": false,
         "type": "scatter",
         "x": [
          -16.21625328063965,
          -16.071199417114258
         ],
         "y": [
          9.076128005981445,
          9.100090980529785
         ]
        },
        {
         "hoverinfo": "none",
         "line": {
          "color": "gray",
          "dash": "dot",
          "width": 1
         },
         "mode": "lines",
         "showlegend": false,
         "type": "scatter",
         "x": [
          -14.7276029586792,
          -14.599520683288574
         ],
         "y": [
          -9.674104690551758,
          -9.57081127166748
         ]
        },
        {
         "hoverinfo": "none",
         "line": {
          "color": "gray",
          "dash": "dot",
          "width": 1
         },
         "mode": "lines",
         "showlegend": false,
         "type": "scatter",
         "x": [
          0.03569284826517105,
          0.07336612790822983
         ],
         "y": [
          -14.218128204345703,
          -14.04846477508545
         ]
        }
       ],
       "layout": {
        "height": 700,
        "legend": {
         "title": {
          "text": "Cluster, Type"
         },
         "tracegroupgap": 0
        },
        "margin": {
         "t": 60
        },
        "template": {
         "data": {
          "bar": [
           {
            "error_x": {
             "color": "#2a3f5f"
            },
            "error_y": {
             "color": "#2a3f5f"
            },
            "marker": {
             "line": {
              "color": "#E5ECF6",
              "width": 0.5
             },
             "pattern": {
              "fillmode": "overlay",
              "size": 10,
              "solidity": 0.2
             }
            },
            "type": "bar"
           }
          ],
          "barpolar": [
           {
            "marker": {
             "line": {
              "color": "#E5ECF6",
              "width": 0.5
             },
             "pattern": {
              "fillmode": "overlay",
              "size": 10,
              "solidity": 0.2
             }
            },
            "type": "barpolar"
           }
          ],
          "carpet": [
           {
            "aaxis": {
             "endlinecolor": "#2a3f5f",
             "gridcolor": "white",
             "linecolor": "white",
             "minorgridcolor": "white",
             "startlinecolor": "#2a3f5f"
            },
            "baxis": {
             "endlinecolor": "#2a3f5f",
             "gridcolor": "white",
             "linecolor": "white",
             "minorgridcolor": "white",
             "startlinecolor": "#2a3f5f"
            },
            "type": "carpet"
           }
          ],
          "choropleth": [
           {
            "colorbar": {
             "outlinewidth": 0,
             "ticks": ""
            },
            "type": "choropleth"
           }
          ],
          "contour": [
           {
            "colorbar": {
             "outlinewidth": 0,
             "ticks": ""
            },
            "colorscale": [
             [
              0,
              "#0d0887"
             ],
             [
              0.1111111111111111,
              "#46039f"
             ],
             [
              0.2222222222222222,
              "#7201a8"
             ],
             [
              0.3333333333333333,
              "#9c179e"
             ],
             [
              0.4444444444444444,
              "#bd3786"
             ],
             [
              0.5555555555555556,
              "#d8576b"
             ],
             [
              0.6666666666666666,
              "#ed7953"
             ],
             [
              0.7777777777777778,
              "#fb9f3a"
             ],
             [
              0.8888888888888888,
              "#fdca26"
             ],
             [
              1,
              "#f0f921"
             ]
            ],
            "type": "contour"
           }
          ],
          "contourcarpet": [
           {
            "colorbar": {
             "outlinewidth": 0,
             "ticks": ""
            },
            "type": "contourcarpet"
           }
          ],
          "heatmap": [
           {
            "colorbar": {
             "outlinewidth": 0,
             "ticks": ""
            },
            "colorscale": [
             [
              0,
              "#0d0887"
             ],
             [
              0.1111111111111111,
              "#46039f"
             ],
             [
              0.2222222222222222,
              "#7201a8"
             ],
             [
              0.3333333333333333,
              "#9c179e"
             ],
             [
              0.4444444444444444,
              "#bd3786"
             ],
             [
              0.5555555555555556,
              "#d8576b"
             ],
             [
              0.6666666666666666,
              "#ed7953"
             ],
             [
              0.7777777777777778,
              "#fb9f3a"
             ],
             [
              0.8888888888888888,
              "#fdca26"
             ],
             [
              1,
              "#f0f921"
             ]
            ],
            "type": "heatmap"
           }
          ],
          "histogram": [
           {
            "marker": {
             "pattern": {
              "fillmode": "overlay",
              "size": 10,
              "solidity": 0.2
             }
            },
            "type": "histogram"
           }
          ],
          "histogram2d": [
           {
            "colorbar": {
             "outlinewidth": 0,
             "ticks": ""
            },
            "colorscale": [
             [
              0,
              "#0d0887"
             ],
             [
              0.1111111111111111,
              "#46039f"
             ],
             [
              0.2222222222222222,
              "#7201a8"
             ],
             [
              0.3333333333333333,
              "#9c179e"
             ],
             [
              0.4444444444444444,
              "#bd3786"
             ],
             [
              0.5555555555555556,
              "#d8576b"
             ],
             [
              0.6666666666666666,
              "#ed7953"
             ],
             [
              0.7777777777777778,
              "#fb9f3a"
             ],
             [
              0.8888888888888888,
              "#fdca26"
             ],
             [
              1,
              "#f0f921"
             ]
            ],
            "type": "histogram2d"
           }
          ],
          "histogram2dcontour": [
           {
            "colorbar": {
             "outlinewidth": 0,
             "ticks": ""
            },
            "colorscale": [
             [
              0,
              "#0d0887"
             ],
             [
              0.1111111111111111,
              "#46039f"
             ],
             [
              0.2222222222222222,
              "#7201a8"
             ],
             [
              0.3333333333333333,
              "#9c179e"
             ],
             [
              0.4444444444444444,
              "#bd3786"
             ],
             [
              0.5555555555555556,
              "#d8576b"
             ],
             [
              0.6666666666666666,
              "#ed7953"
             ],
             [
              0.7777777777777778,
              "#fb9f3a"
             ],
             [
              0.8888888888888888,
              "#fdca26"
             ],
             [
              1,
              "#f0f921"
             ]
            ],
            "type": "histogram2dcontour"
           }
          ],
          "mesh3d": [
           {
            "colorbar": {
             "outlinewidth": 0,
             "ticks": ""
            },
            "type": "mesh3d"
           }
          ],
          "parcoords": [
           {
            "line": {
             "colorbar": {
              "outlinewidth": 0,
              "ticks": ""
             }
            },
            "type": "parcoords"
           }
          ],
          "pie": [
           {
            "automargin": true,
            "type": "pie"
           }
          ],
          "scatter": [
           {
            "fillpattern": {
             "fillmode": "overlay",
             "size": 10,
             "solidity": 0.2
            },
            "type": "scatter"
           }
          ],
          "scatter3d": [
           {
            "line": {
             "colorbar": {
              "outlinewidth": 0,
              "ticks": ""
             }
            },
            "marker": {
             "colorbar": {
              "outlinewidth": 0,
              "ticks": ""
             }
            },
            "type": "scatter3d"
           }
          ],
          "scattercarpet": [
           {
            "marker": {
             "colorbar": {
              "outlinewidth": 0,
              "ticks": ""
             }
            },
            "type": "scattercarpet"
           }
          ],
          "scattergeo": [
           {
            "marker": {
             "colorbar": {
              "outlinewidth": 0,
              "ticks": ""
             }
            },
            "type": "scattergeo"
           }
          ],
          "scattergl": [
           {
            "marker": {
             "colorbar": {
              "outlinewidth": 0,
              "ticks": ""
             }
            },
            "type": "scattergl"
           }
          ],
          "scattermap": [
           {
            "marker": {
             "colorbar": {
              "outlinewidth": 0,
              "ticks": ""
             }
            },
            "type": "scattermap"
           }
          ],
          "scattermapbox": [
           {
            "marker": {
             "colorbar": {
              "outlinewidth": 0,
              "ticks": ""
             }
            },
            "type": "scattermapbox"
           }
          ],
          "scatterpolar": [
           {
            "marker": {
             "colorbar": {
              "outlinewidth": 0,
              "ticks": ""
             }
            },
            "type": "scatterpolar"
           }
          ],
          "scatterpolargl": [
           {
            "marker": {
             "colorbar": {
              "outlinewidth": 0,
              "ticks": ""
             }
            },
            "type": "scatterpolargl"
           }
          ],
          "scatterternary": [
           {
            "marker": {
             "colorbar": {
              "outlinewidth": 0,
              "ticks": ""
             }
            },
            "type": "scatterternary"
           }
          ],
          "surface": [
           {
            "colorbar": {
             "outlinewidth": 0,
             "ticks": ""
            },
            "colorscale": [
             [
              0,
              "#0d0887"
             ],
             [
              0.1111111111111111,
              "#46039f"
             ],
             [
              0.2222222222222222,
              "#7201a8"
             ],
             [
              0.3333333333333333,
              "#9c179e"
             ],
             [
              0.4444444444444444,
              "#bd3786"
             ],
             [
              0.5555555555555556,
              "#d8576b"
             ],
             [
              0.6666666666666666,
              "#ed7953"
             ],
             [
              0.7777777777777778,
              "#fb9f3a"
             ],
             [
              0.8888888888888888,
              "#fdca26"
             ],
             [
              1,
              "#f0f921"
             ]
            ],
            "type": "surface"
           }
          ],
          "table": [
           {
            "cells": {
             "fill": {
              "color": "#EBF0F8"
             },
             "line": {
              "color": "white"
             }
            },
            "header": {
             "fill": {
              "color": "#C8D4E3"
             },
             "line": {
              "color": "white"
             }
            },
            "type": "table"
           }
          ]
         },
         "layout": {
          "annotationdefaults": {
           "arrowcolor": "#2a3f5f",
           "arrowhead": 0,
           "arrowwidth": 1
          },
          "autotypenumbers": "strict",
          "coloraxis": {
           "colorbar": {
            "outlinewidth": 0,
            "ticks": ""
           }
          },
          "colorscale": {
           "diverging": [
            [
             0,
             "#8e0152"
            ],
            [
             0.1,
             "#c51b7d"
            ],
            [
             0.2,
             "#de77ae"
            ],
            [
             0.3,
             "#f1b6da"
            ],
            [
             0.4,
             "#fde0ef"
            ],
            [
             0.5,
             "#f7f7f7"
            ],
            [
             0.6,
             "#e6f5d0"
            ],
            [
             0.7,
             "#b8e186"
            ],
            [
             0.8,
             "#7fbc41"
            ],
            [
             0.9,
             "#4d9221"
            ],
            [
             1,
             "#276419"
            ]
           ],
           "sequential": [
            [
             0,
             "#0d0887"
            ],
            [
             0.1111111111111111,
             "#46039f"
            ],
            [
             0.2222222222222222,
             "#7201a8"
            ],
            [
             0.3333333333333333,
             "#9c179e"
            ],
            [
             0.4444444444444444,
             "#bd3786"
            ],
            [
             0.5555555555555556,
             "#d8576b"
            ],
            [
             0.6666666666666666,
             "#ed7953"
            ],
            [
             0.7777777777777778,
             "#fb9f3a"
            ],
            [
             0.8888888888888888,
             "#fdca26"
            ],
            [
             1,
             "#f0f921"
            ]
           ],
           "sequentialminus": [
            [
             0,
             "#0d0887"
            ],
            [
             0.1111111111111111,
             "#46039f"
            ],
            [
             0.2222222222222222,
             "#7201a8"
            ],
            [
             0.3333333333333333,
             "#9c179e"
            ],
            [
             0.4444444444444444,
             "#bd3786"
            ],
            [
             0.5555555555555556,
             "#d8576b"
            ],
            [
             0.6666666666666666,
             "#ed7953"
            ],
            [
             0.7777777777777778,
             "#fb9f3a"
            ],
            [
             0.8888888888888888,
             "#fdca26"
            ],
            [
             1,
             "#f0f921"
            ]
           ]
          },
          "colorway": [
           "#636efa",
           "#EF553B",
           "#00cc96",
           "#ab63fa",
           "#FFA15A",
           "#19d3f3",
           "#FF6692",
           "#B6E880",
           "#FF97FF",
           "#FECB52"
          ],
          "font": {
           "color": "#2a3f5f"
          },
          "geo": {
           "bgcolor": "white",
           "lakecolor": "white",
           "landcolor": "#E5ECF6",
           "showlakes": true,
           "showland": true,
           "subunitcolor": "white"
          },
          "hoverlabel": {
           "align": "left"
          },
          "hovermode": "closest",
          "mapbox": {
           "style": "light"
          },
          "paper_bgcolor": "white",
          "plot_bgcolor": "#E5ECF6",
          "polar": {
           "angularaxis": {
            "gridcolor": "white",
            "linecolor": "white",
            "ticks": ""
           },
           "bgcolor": "#E5ECF6",
           "radialaxis": {
            "gridcolor": "white",
            "linecolor": "white",
            "ticks": ""
           }
          },
          "scene": {
           "xaxis": {
            "backgroundcolor": "#E5ECF6",
            "gridcolor": "white",
            "gridwidth": 2,
            "linecolor": "white",
            "showbackground": true,
            "ticks": "",
            "zerolinecolor": "white"
           },
           "yaxis": {
            "backgroundcolor": "#E5ECF6",
            "gridcolor": "white",
            "gridwidth": 2,
            "linecolor": "white",
            "showbackground": true,
            "ticks": "",
            "zerolinecolor": "white"
           },
           "zaxis": {
            "backgroundcolor": "#E5ECF6",
            "gridcolor": "white",
            "gridwidth": 2,
            "linecolor": "white",
            "showbackground": true,
            "ticks": "",
            "zerolinecolor": "white"
           }
          },
          "shapedefaults": {
           "line": {
            "color": "#2a3f5f"
           }
          },
          "ternary": {
           "aaxis": {
            "gridcolor": "white",
            "linecolor": "white",
            "ticks": ""
           },
           "baxis": {
            "gridcolor": "white",
            "linecolor": "white",
            "ticks": ""
           },
           "bgcolor": "#E5ECF6",
           "caxis": {
            "gridcolor": "white",
            "linecolor": "white",
            "ticks": ""
           }
          },
          "title": {
           "x": 0.05
          },
          "xaxis": {
           "automargin": true,
           "gridcolor": "white",
           "linecolor": "white",
           "ticks": "",
           "title": {
            "standoff": 15
           },
           "zerolinecolor": "white",
           "zerolinewidth": 2
          },
          "yaxis": {
           "automargin": true,
           "gridcolor": "white",
           "linecolor": "white",
           "ticks": "",
           "title": {
            "standoff": 15
           },
           "zerolinecolor": "white",
           "zerolinewidth": 2
          }
         }
        },
        "title": {
         "text": "t-SNE Projection: Original vs. Steered Embeddings | Layer: 11 | Feature: War | Steering: 2"
        },
        "width": 900,
        "xaxis": {
         "anchor": "y",
         "domain": [
          0,
          1
         ],
         "title": {
          "text": "t-SNE 1"
         }
        },
        "yaxis": {
         "anchor": "x",
         "domain": [
          0,
          1
         ],
         "title": {
          "text": "t-SNE 2"
         }
        }
       }
      }
     },
     "metadata": {},
     "output_type": "display_data"
    }
   ],
   "source": [
    "plot_tsne_fixed_kmeans(\n",
    "    original_embeddings,\n",
    "    steered_embeddings,\n",
    "    all_texts_data,\n",
    "    info_string,\n",
    "    text_range=(0,100),\n",
    "    n_clusters=5,\n",
    "    Write=False)"
   ]
  },
  {
   "cell_type": "markdown",
   "metadata": {
    "id": "hV_hkuKOrPul"
   },
   "source": [
    "***\n",
    "\n",
    "## Plot with steering vector as x-axis"
   ]
  },
  {
   "cell_type": "markdown",
   "metadata": {
    "id": "GpjAmsjVrPul"
   },
   "source": [
    "Instead of using dimentionality reduction techniques, now the original and steered embeddings are plotted based on their distance or similarity to the steering vector created from the given feature.  \n",
    "\n",
    "In this first plot, `plot_distance_projection`, the y-axis is simply the indexation of the data, whereas the **x-axis is the distance to the steering vector** (feature embedding)."
   ]
  },
  {
   "cell_type": "markdown",
   "metadata": {
    "id": "zwLfWmgfrPum"
   },
   "source": [
    "- `model`, `encoded_input`, `original_embeddings` and `all_texts_data` are imported in the [second cell](#importing-python-functions-and-data) of this notebook using the function *import_embedding_data_from_pkl*, however, they can also be created and input manually\n",
    "\n",
    "- `type` refers to the method used to calculate the distance or similarity between the embeddings and the steering vector, they can be chosen from:\n",
    "    - `\"l1\"` = Manhattan distance - measures the sum of absolute distances between components  \n",
    "    - `\"l2\"` = Euclidian distance - measures the straight line distance between points\n",
    "    - `\"cosine\"` = Cosine similarity - measures the cosine angle between two vectors (1 = same direction, -1 = opposite direction)  \n",
    " <br>\n",
    "\n",
    "- `normalize` normalizes the steered embeddings (difference is only visible when using l1 or l2)\n",
    "\n",
    "- `print_difference` prints the info for the most and least changed data points\n",
    "\n",
    "- `print_average` prints the average distance between the steered embeddings and the steering vector (this can be used to do comparisons to the convergence plots)\n",
    "\n",
    "- `Write=True` creates a .html file with the plot, including the hover data"
   ]
  },
  {
   "cell_type": "code",
   "execution_count": 11,
   "metadata": {
    "id": "8VK7A2rrrPum",
    "outputId": "91ae5394-6237-4d16-e262-b4de692ebf12"
   },
   "outputs": [
    {
     "name": "stdout",
     "output_type": "stream",
     "text": [
      "Steering vectors imported from steering_vector.pkl\n",
      "Available steering vectors: 'War' (layers: [10, 11]), 'Norway' (layers: [11]), 'Love' (layers: [11])\n",
      "Returning steering vector for 'Norway' layer 11\n"
     ]
    },
    {
     "data": {
      "application/vnd.plotly.v1+json": {
       "config": {
        "plotlyServerURL": "https://plot.ly"
       },
       "data": [
        {
         "customdata": [
          [
           "Original | The Shawshank Redemption | Drama",
           "Drama"
          ],
          [
           "Original | The Godfather: Part II | Drama",
           "Drama"
          ],
          [
           "Original | 12 Angry Men | Drama",
           "Drama"
          ],
          [
           "Original | Fight Club | Drama",
           "Drama"
          ],
          [
           "Original | One Flew Over the Cuckoo's Nest | Drama",
           "Drama"
          ],
          [
           "Original | Gisaengchung | Drama",
           "Drama"
          ],
          [
           "Original | Soorarai Pottru | Drama",
           "Drama"
          ],
          [
           "Original | Gladiator | Drama",
           "Drama"
          ],
          [
           "Original | American History X | Drama",
           "Drama"
          ],
          [
           "Original | The Lion King | Drama",
           "Drama"
          ],
          [
           "Original | Modern Times | Drama",
           "Drama"
          ],
          [
           "Original | Capharnaüm | Drama",
           "Drama"
          ],
          [
           "Original | Kimi no na wa. | Drama",
           "Drama"
          ],
          [
           "Original | Avengers: Endgame | Drama",
           "Drama"
          ],
          [
           "Original | Taare Zameen Par | Drama",
           "Drama"
          ],
          [
           "Original | Anand | Drama",
           "Drama"
          ],
          [
           "Original | Tumbbad | Drama",
           "Drama"
          ],
          [
           "Original | Jagten | Drama",
           "Drama"
          ],
          [
           "Original | Jodaeiye Nader az Simin | Drama",
           "Drama"
          ],
          [
           "Original | Miracle in cell NO.7 | Drama",
           "Drama"
          ],
          [
           "Original | Requiem for a Dream | Drama",
           "Drama"
          ],
          [
           "Original | American Beauty | Drama",
           "Drama"
          ]
         ],
         "hovertemplate": "Cluster=%{customdata[1]}<br>Type=Original<br>Distance to Norway=%{x}<br>Movie Index=%{y}<br>Title=%{customdata[0]}<extra></extra>",
         "legendgroup": "Drama, Original",
         "marker": {
          "color": "#636efa",
          "symbol": "circle"
         },
         "mode": "markers",
         "name": "Drama, Original",
         "opacity": 0.3,
         "orientation": "v",
         "showlegend": false,
         "type": "scatter",
         "x": {
          "bdata": "AAAA4MrE9T8AAABA3SH2PwAAAICKA/c/AAAAoCXu9D8AAACgw4T2PwAAAEBOGvY/AAAAACyA9D8AAAAAb232PwAAAIAMAvY/AAAAYMMk9j8AAAAAKof1PwAAAECQ+PY/AAAAoF2u9T8AAADgoMv2PwAAAADTPPY/AAAAIJin9D8AAAAgKTD1PwAAAIAXxvQ/AAAAgDGs9T8AAADAblz1PwAAAKAPxfQ/AAAAIII19T8=",
          "dtype": "f8"
         },
         "xaxis": "x",
         "y": {
          "bdata": "AAMECRETFCcoKzM1ODtBTFVYWVthYg==",
          "dtype": "i1"
         },
         "yaxis": "y"
        },
        {
         "customdata": [
          [
           "Steered | The Shawshank Redemption | Drama",
           "Drama"
          ],
          [
           "Steered | The Godfather: Part II | Drama",
           "Drama"
          ],
          [
           "Steered | 12 Angry Men | Drama",
           "Drama"
          ],
          [
           "Steered | Fight Club | Drama",
           "Drama"
          ],
          [
           "Steered | One Flew Over the Cuckoo's Nest | Drama",
           "Drama"
          ],
          [
           "Steered | Gisaengchung | Drama",
           "Drama"
          ],
          [
           "Steered | Soorarai Pottru | Drama",
           "Drama"
          ],
          [
           "Steered | Gladiator | Drama",
           "Drama"
          ],
          [
           "Steered | American History X | Drama",
           "Drama"
          ],
          [
           "Steered | The Lion King | Drama",
           "Drama"
          ],
          [
           "Steered | Modern Times | Drama",
           "Drama"
          ],
          [
           "Steered | Capharnaüm | Drama",
           "Drama"
          ],
          [
           "Steered | Kimi no na wa. | Drama",
           "Drama"
          ],
          [
           "Steered | Avengers: Endgame | Drama",
           "Drama"
          ],
          [
           "Steered | Taare Zameen Par | Drama",
           "Drama"
          ],
          [
           "Steered | Anand | Drama",
           "Drama"
          ],
          [
           "Steered | Tumbbad | Drama",
           "Drama"
          ],
          [
           "Steered | Jagten | Drama",
           "Drama"
          ],
          [
           "Steered | Jodaeiye Nader az Simin | Drama",
           "Drama"
          ],
          [
           "Steered | Miracle in cell NO.7 | Drama",
           "Drama"
          ],
          [
           "Steered | Requiem for a Dream | Drama",
           "Drama"
          ],
          [
           "Steered | American Beauty | Drama",
           "Drama"
          ]
         ],
         "hovertemplate": "Cluster=%{customdata[1]}<br>Type=Steered<br>Distance to Norway=%{x}<br>Movie Index=%{y}<br>Title=%{customdata[0]}<extra></extra>",
         "legendgroup": "Drama, Steered",
         "marker": {
          "color": "#636efa",
          "symbol": "diamond"
         },
         "mode": "markers",
         "name": "Drama, Steered",
         "opacity": 1,
         "orientation": "v",
         "showlegend": true,
         "type": "scatter",
         "x": {
          "bdata": "AAAAoElP2j8AAACgRNjYPwAAAOAcNdw/AAAAQOA21T8AAABAMXLaPwAAAOBAE9s/AAAA4LHg1D8AAABgqgvdPwAAAMAImdg/AAAAIIn22z8AAABAtcXaPwAAAMBogdo/AAAAgLIH2j8AAADANO7XPwAAAKDlQNc/AAAAAFi51z8AAACAnFbaPwAAAIC/J9M/AAAAwHFX1j8AAAAgeFLXPwAAAMCnX9s/AAAAIDQl1z8=",
          "dtype": "f8"
         },
         "xaxis": "x",
         "y": {
          "bdata": "AAMECRETFCcoKzM1ODtBTFVYWVthYg==",
          "dtype": "i1"
         },
         "yaxis": "y"
        },
        {
         "customdata": [
          [
           "Original | The Godfather | Crime",
           "Crime"
          ],
          [
           "Original | The Dark Knight | Crime",
           "Crime"
          ],
          [
           "Original | Pulp Fiction | Crime",
           "Crime"
          ],
          [
           "Original | Cidade de Deus | Crime",
           "Crime"
          ],
          [
           "Original | The Green Mile | Crime",
           "Crime"
          ],
          [
           "Original | Se7en | Crime",
           "Crime"
          ],
          [
           "Original | The Silence of the Lambs | Crime",
           "Crime"
          ],
          [
           "Original | Joker | Crime",
           "Crime"
          ],
          [
           "Original | The Departed | Crime",
           "Crime"
          ],
          [
           "Original | The Usual Suspects | Crime",
           "Crime"
          ],
          [
           "Original | Léon | Crime",
           "Crime"
          ],
          [
           "Original | Vikram Vedha | Crime",
           "Crime"
          ],
          [
           "Original | Once Upon a Time in America | Crime",
           "Crime"
          ],
          [
           "Original | Tengoku to jigoku | Crime",
           "Crime"
          ],
          [
           "Original | Witness for the Prosecution | Crime",
           "Crime"
          ],
          [
           "Original | Andhadhun | Crime",
           "Crime"
          ],
          [
           "Original | Drishyam | Crime",
           "Crime"
          ],
          [
           "Original | Snatch | Crime",
           "Crime"
          ]
         ],
         "hovertemplate": "Cluster=%{customdata[1]}<br>Type=Original<br>Distance to Norway=%{x}<br>Movie Index=%{y}<br>Title=%{customdata[0]}<extra></extra>",
         "legendgroup": "Crime, Original",
         "marker": {
          "color": "#EF553B",
          "symbol": "circle"
         },
         "mode": "markers",
         "name": "Crime, Original",
         "opacity": 0.3,
         "orientation": "v",
         "showlegend": false,
         "type": "scatter",
         "x": {
          "bdata": "AAAAoPfs9T8AAAAgqc72PwAAAIA/ffU/AAAAACH59D8AAAAAhED2PwAAAOB/AfY/AAAAIM2Y9T8AAACAv0X2PwAAAOCSbPU/AAAAwHcc9T8AAACAZ630PwAAACCnX/U/AAAAQAlX9T8AAABAetD1PwAAAEA52PU/AAAAoBGh9D8AAADgQSf2PwAAAOCxpfU/",
          "dtype": "f8"
         },
         "xaxis": "x",
         "y": {
          "bdata": "AQIGFhkbHCElKSo3R01PVldg",
          "dtype": "i1"
         },
         "yaxis": "y"
        },
        {
         "customdata": [
          [
           "Steered | The Godfather | Crime",
           "Crime"
          ],
          [
           "Steered | The Dark Knight | Crime",
           "Crime"
          ],
          [
           "Steered | Pulp Fiction | Crime",
           "Crime"
          ],
          [
           "Steered | Cidade de Deus | Crime",
           "Crime"
          ],
          [
           "Steered | The Green Mile | Crime",
           "Crime"
          ],
          [
           "Steered | Se7en | Crime",
           "Crime"
          ],
          [
           "Steered | The Silence of the Lambs | Crime",
           "Crime"
          ],
          [
           "Steered | Joker | Crime",
           "Crime"
          ],
          [
           "Steered | The Departed | Crime",
           "Crime"
          ],
          [
           "Steered | The Usual Suspects | Crime",
           "Crime"
          ],
          [
           "Steered | Léon | Crime",
           "Crime"
          ],
          [
           "Steered | Vikram Vedha | Crime",
           "Crime"
          ],
          [
           "Steered | Once Upon a Time in America | Crime",
           "Crime"
          ],
          [
           "Steered | Tengoku to jigoku | Crime",
           "Crime"
          ],
          [
           "Steered | Witness for the Prosecution | Crime",
           "Crime"
          ],
          [
           "Steered | Andhadhun | Crime",
           "Crime"
          ],
          [
           "Steered | Drishyam | Crime",
           "Crime"
          ],
          [
           "Steered | Snatch | Crime",
           "Crime"
          ]
         ],
         "hovertemplate": "Cluster=%{customdata[1]}<br>Type=Steered<br>Distance to Norway=%{x}<br>Movie Index=%{y}<br>Title=%{customdata[0]}<extra></extra>",
         "legendgroup": "Crime, Steered",
         "marker": {
          "color": "#EF553B",
          "symbol": "diamond"
         },
         "mode": "markers",
         "name": "Crime, Steered",
         "opacity": 1,
         "orientation": "v",
         "showlegend": true,
         "type": "scatter",
         "x": {
          "bdata": "AAAAgP/w3T8AAACgsQzYPwAAAODpAtg/AAAAoPs32D8AAACAefXYPwAAAEDypNw/AAAAAOZJ1z8AAABgiLzVPwAAAMBBM9k/AAAAIJDf1D8AAAAg/rnVPwAAAICVO9g/AAAA4PM81z8AAADgzSLaPwAAAOCMpto/AAAAgLdj1z8AAABgfBvdPwAAACAYrtY/",
          "dtype": "f8"
         },
         "xaxis": "x",
         "y": {
          "bdata": "AQIGFhkbHCElKSo3R01PVldg",
          "dtype": "i1"
         },
         "yaxis": "y"
        },
        {
         "customdata": [
          [
           "Original | The Lord of the Rings: The Return of the King | Adventure",
           "Adventure"
          ],
          [
           "Original | The Lord of the Rings: The Fellowship of the Ring | Adventure",
           "Adventure"
          ],
          [
           "Original | The Lord of the Rings: The Two Towers | Adventure",
           "Adventure"
          ],
          [
           "Original | Star Wars: Episode V - The Empire Strikes Back | Adventure",
           "Adventure"
          ],
          [
           "Original | Sen to Chihiro no kamikakushi | Adventure",
           "Adventure"
          ],
          [
           "Original | Shichinin no samurai | Adventure",
           "Adventure"
          ],
          [
           "Original | Spider-Man: Into the Spider-Verse | Adventure",
           "Adventure"
          ],
          [
           "Original | Avengers: Infinity War | Adventure",
           "Adventure"
          ],
          [
           "Original | The Dark Knight Rises | Adventure",
           "Adventure"
          ],
          [
           "Original | WALL·E | Adventure",
           "Adventure"
          ],
          [
           "Original | Mononoke-hime | Adventure",
           "Adventure"
          ],
          [
           "Original | Raiders of the Lost Ark | Adventure",
           "Adventure"
          ]
         ],
         "hovertemplate": "Cluster=%{customdata[1]}<br>Type=Original<br>Distance to Norway=%{x}<br>Movie Index=%{y}<br>Title=%{customdata[0]}<extra></extra>",
         "legendgroup": "Adventure, Original",
         "marker": {
          "color": "#00cc96",
          "symbol": "circle"
         },
         "mode": "markers",
         "name": "Adventure, Original",
         "opacity": 0.3,
         "orientation": "v",
         "showlegend": false,
         "type": "scatter",
         "x": {
          "bdata": "AAAAQBb19D8AAAAgC8/0PwAAAMAKUfU/AAAA4BLx9T8AAACgSO70PwAAAOAuk/U/AAAAoOQe9j8AAACgKOb2PwAAAKCYH/Y/AAAAQFpx9T8AAADghy70PwAAAKCrhfU/",
          "dtype": "f8"
         },
         "xaxis": "x",
         "y": {
          "bdata": "BQoNEBcfOjw/QkZI",
          "dtype": "i1"
         },
         "yaxis": "y"
        },
        {
         "customdata": [
          [
           "Steered | The Lord of the Rings: The Return of the King | Adventure",
           "Adventure"
          ],
          [
           "Steered | The Lord of the Rings: The Fellowship of the Ring | Adventure",
           "Adventure"
          ],
          [
           "Steered | The Lord of the Rings: The Two Towers | Adventure",
           "Adventure"
          ],
          [
           "Steered | Star Wars: Episode V - The Empire Strikes Back | Adventure",
           "Adventure"
          ],
          [
           "Steered | Sen to Chihiro no kamikakushi | Adventure",
           "Adventure"
          ],
          [
           "Steered | Shichinin no samurai | Adventure",
           "Adventure"
          ],
          [
           "Steered | Spider-Man: Into the Spider-Verse | Adventure",
           "Adventure"
          ],
          [
           "Steered | Avengers: Infinity War | Adventure",
           "Adventure"
          ],
          [
           "Steered | The Dark Knight Rises | Adventure",
           "Adventure"
          ],
          [
           "Steered | WALL·E | Adventure",
           "Adventure"
          ],
          [
           "Steered | Mononoke-hime | Adventure",
           "Adventure"
          ],
          [
           "Steered | Raiders of the Lost Ark | Adventure",
           "Adventure"
          ]
         ],
         "hovertemplate": "Cluster=%{customdata[1]}<br>Type=Steered<br>Distance to Norway=%{x}<br>Movie Index=%{y}<br>Title=%{customdata[0]}<extra></extra>",
         "legendgroup": "Adventure, Steered",
         "marker": {
          "color": "#00cc96",
          "symbol": "diamond"
         },
         "mode": "markers",
         "name": "Adventure, Steered",
         "opacity": 1,
         "orientation": "v",
         "showlegend": true,
         "type": "scatter",
         "x": {
          "bdata": "AAAAgDaF2D8AAADg0e/YPwAAAABN09Y/AAAA4DYS1z8AAABgnozWPwAAAAAItt4/AAAAoHaU2j8AAACgEgjbPwAAACA3adk/AAAAYDxm2D8AAADAQbDVPwAAACC0otg/",
          "dtype": "f8"
         },
         "xaxis": "x",
         "y": {
          "bdata": "BQoNEBcfOjw/QkZI",
          "dtype": "i1"
         },
         "yaxis": "y"
        },
        {
         "customdata": [
          [
           "Original | Schindler's List | History",
           "History"
          ]
         ],
         "hovertemplate": "Cluster=%{customdata[1]}<br>Type=Original<br>Distance to Norway=%{x}<br>Movie Index=%{y}<br>Title=%{customdata[0]}<extra></extra>",
         "legendgroup": "History, Original",
         "marker": {
          "color": "#ab63fa",
          "symbol": "circle"
         },
         "mode": "markers",
         "name": "History, Original",
         "opacity": 0.3,
         "orientation": "v",
         "showlegend": false,
         "type": "scatter",
         "x": {
          "bdata": "AAAAgMq89T8=",
          "dtype": "f8"
         },
         "xaxis": "x",
         "y": {
          "bdata": "Bw==",
          "dtype": "i1"
         },
         "yaxis": "y"
        },
        {
         "customdata": [
          [
           "Steered | Schindler's List | History",
           "History"
          ]
         ],
         "hovertemplate": "Cluster=%{customdata[1]}<br>Type=Steered<br>Distance to Norway=%{x}<br>Movie Index=%{y}<br>Title=%{customdata[0]}<extra></extra>",
         "legendgroup": "History, Steered",
         "marker": {
          "color": "#ab63fa",
          "symbol": "diamond"
         },
         "mode": "markers",
         "name": "History, Steered",
         "opacity": 1,
         "orientation": "v",
         "showlegend": true,
         "type": "scatter",
         "x": {
          "bdata": "AAAAQFQZ2j8=",
          "dtype": "f8"
         },
         "xaxis": "x",
         "y": {
          "bdata": "Bw==",
          "dtype": "i1"
         },
         "yaxis": "y"
        },
        {
         "customdata": [
          [
           "Original | Inception | Sci-Fi",
           "Sci-Fi"
          ],
          [
           "Original | The Matrix | Sci-Fi",
           "Sci-Fi"
          ],
          [
           "Original | Interstellar | Sci-Fi",
           "Sci-Fi"
          ],
          [
           "Original | Terminator 2: Judgment Day | Sci-Fi",
           "Sci-Fi"
          ],
          [
           "Original | Back to the Future | Sci-Fi",
           "Sci-Fi"
          ],
          [
           "Original | Alien | Sci-Fi",
           "Sci-Fi"
          ]
         ],
         "hovertemplate": "Cluster=%{customdata[1]}<br>Type=Original<br>Distance to Norway=%{x}<br>Movie Index=%{y}<br>Title=%{customdata[0]}<extra></extra>",
         "legendgroup": "Sci-Fi, Original",
         "marker": {
          "color": "#FFA15A",
          "symbol": "circle"
         },
         "mode": "markers",
         "name": "Sci-Fi, Original",
         "opacity": 0.3,
         "orientation": "v",
         "showlegend": false,
         "type": "scatter",
         "x": {
          "bdata": "AAAA4KGV9T8AAADAE4/1PwAAAGAXFfU/AAAAQBIG9z8AAACgNcv1PwAAAMDjyPQ/",
          "dtype": "f8"
         },
         "xaxis": "x",
         "y": {
          "bdata": "CA4VLC9L",
          "dtype": "i1"
         },
         "yaxis": "y"
        },
        {
         "customdata": [
          [
           "Steered | Inception | Sci-Fi",
           "Sci-Fi"
          ],
          [
           "Steered | The Matrix | Sci-Fi",
           "Sci-Fi"
          ],
          [
           "Steered | Interstellar | Sci-Fi",
           "Sci-Fi"
          ],
          [
           "Steered | Terminator 2: Judgment Day | Sci-Fi",
           "Sci-Fi"
          ],
          [
           "Steered | Back to the Future | Sci-Fi",
           "Sci-Fi"
          ],
          [
           "Steered | Alien | Sci-Fi",
           "Sci-Fi"
          ]
         ],
         "hovertemplate": "Cluster=%{customdata[1]}<br>Type=Steered<br>Distance to Norway=%{x}<br>Movie Index=%{y}<br>Title=%{customdata[0]}<extra></extra>",
         "legendgroup": "Sci-Fi, Steered",
         "marker": {
          "color": "#FFA15A",
          "symbol": "diamond"
         },
         "mode": "markers",
         "name": "Sci-Fi, Steered",
         "opacity": 1,
         "orientation": "v",
         "showlegend": true,
         "type": "scatter",
         "x": {
          "bdata": "AAAAYGE82D8AAADAoJrYPwAAAOAwn90/AAAAwCzX2z8AAADAYLrXPwAAAMDSINY/",
          "dtype": "f8"
         },
         "xaxis": "x",
         "y": {
          "bdata": "CA4VLC9L",
          "dtype": "i1"
         },
         "yaxis": "y"
        },
        {
         "customdata": [
          [
           "Original | Forrest Gump | Romance",
           "Romance"
          ],
          [
           "Original | Nuovo Cinema Paradiso | Romance",
           "Romance"
          ],
          [
           "Original | Casablanca | Romance",
           "Romance"
          ],
          [
           "Original | Eternal Sunshine of the Spotless Mind | Romance",
           "Romance"
          ],
          [
           "Original | Amélie | Romance",
           "Romance"
          ],
          [
           "Original | Good Will Hunting | Romance",
           "Romance"
          ]
         ],
         "hovertemplate": "Cluster=%{customdata[1]}<br>Type=Original<br>Distance to Norway=%{x}<br>Movie Index=%{y}<br>Title=%{customdata[0]}<extra></extra>",
         "legendgroup": "Romance, Original",
         "marker": {
          "color": "#19d3f3",
          "symbol": "circle"
         },
         "mode": "markers",
         "name": "Romance, Original",
         "opacity": 0.3,
         "orientation": "v",
         "showlegend": false,
         "type": "scatter",
         "x": {
          "bdata": "AAAAYBq89T8AAADgK8j0PwAAAIC6KPU/AAAA4PH99T8AAAAgLa/1PwAAAKDoGfU/",
          "dtype": "f8"
         },
         "xaxis": "x",
         "y": {
          "bdata": "Cy0yXl9j",
          "dtype": "i1"
         },
         "yaxis": "y"
        },
        {
         "customdata": [
          [
           "Steered | Forrest Gump | Romance",
           "Romance"
          ],
          [
           "Steered | Nuovo Cinema Paradiso | Romance",
           "Romance"
          ],
          [
           "Steered | Casablanca | Romance",
           "Romance"
          ],
          [
           "Steered | Eternal Sunshine of the Spotless Mind | Romance",
           "Romance"
          ],
          [
           "Steered | Amélie | Romance",
           "Romance"
          ],
          [
           "Steered | Good Will Hunting | Romance",
           "Romance"
          ]
         ],
         "hovertemplate": "Cluster=%{customdata[1]}<br>Type=Steered<br>Distance to Norway=%{x}<br>Movie Index=%{y}<br>Title=%{customdata[0]}<extra></extra>",
         "legendgroup": "Romance, Steered",
         "marker": {
          "color": "#19d3f3",
          "symbol": "diamond"
         },
         "mode": "markers",
         "name": "Romance, Steered",
         "opacity": 1,
         "orientation": "v",
         "showlegend": true,
         "type": "scatter",
         "x": {
          "bdata": "AAAAYMkB1j8AAAAA70TXPwAAAIAPstU/AAAAgCyH2z8AAAAAl2HXPwAAAKCr/NQ/",
          "dtype": "f8"
         },
         "xaxis": "x",
         "y": {
          "bdata": "Cy0yXl9j",
          "dtype": "i1"
         },
         "yaxis": "y"
        },
        {
         "customdata": [
          [
           "Original | Il buono, il brutto, il cattivo | Western",
           "Western"
          ],
          [
           "Original | Once Upon a Time in the West | Western",
           "Western"
          ],
          [
           "Original | Django Unchained | Western",
           "Western"
          ]
         ],
         "hovertemplate": "Cluster=%{customdata[1]}<br>Type=Original<br>Distance to Norway=%{x}<br>Movie Index=%{y}<br>Title=%{customdata[0]}<extra></extra>",
         "legendgroup": "Western, Original",
         "marker": {
          "color": "#FF6692",
          "symbol": "circle"
         },
         "mode": "markers",
         "name": "Western, Original",
         "opacity": 0.3,
         "orientation": "v",
         "showlegend": false,
         "type": "scatter",
         "x": {
          "bdata": "AAAA4IjC9T8AAAAgjnf1PwAAAKCAbvU/",
          "dtype": "f8"
         },
         "xaxis": "x",
         "y": {
          "bdata": "DDA+",
          "dtype": "i1"
         },
         "yaxis": "y"
        },
        {
         "customdata": [
          [
           "Steered | Il buono, il brutto, il cattivo | Western",
           "Western"
          ],
          [
           "Steered | Once Upon a Time in the West | Western",
           "Western"
          ],
          [
           "Steered | Django Unchained | Western",
           "Western"
          ]
         ],
         "hovertemplate": "Cluster=%{customdata[1]}<br>Type=Steered<br>Distance to Norway=%{x}<br>Movie Index=%{y}<br>Title=%{customdata[0]}<extra></extra>",
         "legendgroup": "Western, Steered",
         "marker": {
          "color": "#FF6692",
          "symbol": "diamond"
         },
         "mode": "markers",
         "name": "Western, Steered",
         "opacity": 1,
         "orientation": "v",
         "showlegend": true,
         "type": "scatter",
         "x": {
          "bdata": "AAAAQBW72D8AAABg8TnZPwAAAODxSNs/",
          "dtype": "f8"
         },
         "xaxis": "x",
         "y": {
          "bdata": "DDA+",
          "dtype": "i1"
         },
         "yaxis": "y"
        },
        {
         "customdata": [
          [
           "Original | Goodfellas | Biography",
           "Biography"
          ],
          [
           "Original | Hamilton | Biography",
           "Biography"
          ],
          [
           "Original | The Intouchables | Biography",
           "Biography"
          ],
          [
           "Original | Ayla: The Daughter of War | Biography",
           "Biography"
          ],
          [
           "Original | Dangal | Biography",
           "Biography"
          ]
         ],
         "hovertemplate": "Cluster=%{customdata[1]}<br>Type=Original<br>Distance to Norway=%{x}<br>Movie Index=%{y}<br>Title=%{customdata[0]}<extra></extra>",
         "legendgroup": "Biography, Original",
         "marker": {
          "color": "#B6E880",
          "symbol": "circle"
         },
         "mode": "markers",
         "name": "Biography, Original",
         "opacity": 0.3,
         "orientation": "v",
         "showlegend": false,
         "type": "scatter",
         "x": {
          "bdata": "AAAA4FZH9T8AAADA6sz1PwAAAEB3SvY/AAAAwCya9D8AAABgfLT1Pw==",
          "dtype": "f8"
         },
         "xaxis": "x",
         "y": {
          "bdata": "DxIjNjk=",
          "dtype": "i1"
         },
         "yaxis": "y"
        },
        {
         "customdata": [
          [
           "Steered | Goodfellas | Biography",
           "Biography"
          ],
          [
           "Steered | Hamilton | Biography",
           "Biography"
          ],
          [
           "Steered | The Intouchables | Biography",
           "Biography"
          ],
          [
           "Steered | Ayla: The Daughter of War | Biography",
           "Biography"
          ],
          [
           "Steered | Dangal | Biography",
           "Biography"
          ]
         ],
         "hovertemplate": "Cluster=%{customdata[1]}<br>Type=Steered<br>Distance to Norway=%{x}<br>Movie Index=%{y}<br>Title=%{customdata[0]}<extra></extra>",
         "legendgroup": "Biography, Steered",
         "marker": {
          "color": "#B6E880",
          "symbol": "diamond"
         },
         "mode": "markers",
         "name": "Biography, Steered",
         "opacity": 1,
         "orientation": "v",
         "showlegend": true,
         "type": "scatter",
         "x": {
          "bdata": "AAAAYNHO2T8AAABAQMfYPwAAAAAvjdc/AAAAIKP60z8AAADA0VbYPw==",
          "dtype": "f8"
         },
         "xaxis": "x",
         "y": {
          "bdata": "DxIjNjk=",
          "dtype": "i1"
         },
         "yaxis": "y"
        },
        {
         "customdata": [
          [
           "Original | Saving Private Ryan | War",
           "War"
          ],
          [
           "Original | Hotaru no haka | War",
           "War"
          ],
          [
           "Original | Apocalypse Now | War",
           "War"
          ],
          [
           "Original | Paths of Glory | War",
           "War"
          ],
          [
           "Original | The Great Dictator | War",
           "War"
          ],
          [
           "Original | 1917 | War",
           "War"
          ],
          [
           "Original | Inglourious Basterds | War",
           "War"
          ]
         ],
         "hovertemplate": "Cluster=%{customdata[1]}<br>Type=Original<br>Distance to Norway=%{x}<br>Movie Index=%{y}<br>Title=%{customdata[0]}<extra></extra>",
         "legendgroup": "War, Original",
         "marker": {
          "color": "#FF97FF",
          "symbol": "circle"
         },
         "mode": "markers",
         "name": "War, Original",
         "opacity": 0.3,
         "orientation": "v",
         "showlegend": false,
         "type": "scatter",
         "x": {
          "bdata": "AAAAYKxB9j8AAACAENX1PwAAAGD6QvY/AAAAoGRK9j8AAADAQLr1PwAAAGDvVfU/AAAAAGDV9T8=",
          "dtype": "f8"
         },
         "xaxis": "x",
         "y": {
          "bdata": "GC5KUFNUXQ==",
          "dtype": "i1"
         },
         "yaxis": "y"
        },
        {
         "customdata": [
          [
           "Steered | Saving Private Ryan | War",
           "War"
          ],
          [
           "Steered | Hotaru no haka | War",
           "War"
          ],
          [
           "Steered | Apocalypse Now | War",
           "War"
          ],
          [
           "Steered | Paths of Glory | War",
           "War"
          ],
          [
           "Steered | The Great Dictator | War",
           "War"
          ],
          [
           "Steered | 1917 | War",
           "War"
          ],
          [
           "Steered | Inglourious Basterds | War",
           "War"
          ]
         ],
         "hovertemplate": "Cluster=%{customdata[1]}<br>Type=Steered<br>Distance to Norway=%{x}<br>Movie Index=%{y}<br>Title=%{customdata[0]}<extra></extra>",
         "legendgroup": "War, Steered",
         "marker": {
          "color": "#FF97FF",
          "symbol": "diamond"
         },
         "mode": "markers",
         "name": "War, Steered",
         "opacity": 1,
         "orientation": "v",
         "showlegend": true,
         "type": "scatter",
         "x": {
          "bdata": "AAAAIO+82T8AAACgPqLdPwAAAGBM7ds/AAAAgCma2z8AAAAgnNzZPwAAAGCymdU/AAAAwLU01z8=",
          "dtype": "f8"
         },
         "xaxis": "x",
         "y": {
          "bdata": "GC5KUFNUXQ==",
          "dtype": "i1"
         },
         "yaxis": "y"
        },
        {
         "customdata": [
          [
           "Original | La vita è bella | Comedy",
           "Comedy"
          ],
          [
           "Original | City Lights | Comedy",
           "Comedy"
          ],
          [
           "Original | 3 Idiots | Comedy",
           "Comedy"
          ],
          [
           "Original | Dr. Strangelove or: How I Learned to Stop Worrying and Love the Bomb | Comedy",
           "Comedy"
          ]
         ],
         "hovertemplate": "Cluster=%{customdata[1]}<br>Type=Original<br>Distance to Norway=%{x}<br>Movie Index=%{y}<br>Title=%{customdata[0]}<extra></extra>",
         "legendgroup": "Comedy, Original",
         "marker": {
          "color": "#FECB52",
          "symbol": "circle"
         },
         "mode": "markers",
         "name": "Comedy, Original",
         "opacity": 0.3,
         "orientation": "v",
         "showlegend": false,
         "type": "scatter",
         "x": {
          "bdata": "AAAAgDX/9D8AAACgpR31PwAAAGAkDPU/AAAAwI6y9T8=",
          "dtype": "f8"
         },
         "xaxis": "x",
         "y": {
          "bdata": "GjRATg==",
          "dtype": "i1"
         },
         "yaxis": "y"
        },
        {
         "customdata": [
          [
           "Steered | La vita è bella | Comedy",
           "Comedy"
          ],
          [
           "Steered | City Lights | Comedy",
           "Comedy"
          ],
          [
           "Steered | 3 Idiots | Comedy",
           "Comedy"
          ],
          [
           "Steered | Dr. Strangelove or: How I Learned to Stop Worrying and Love the Bomb | Comedy",
           "Comedy"
          ]
         ],
         "hovertemplate": "Cluster=%{customdata[1]}<br>Type=Steered<br>Distance to Norway=%{x}<br>Movie Index=%{y}<br>Title=%{customdata[0]}<extra></extra>",
         "legendgroup": "Comedy, Steered",
         "marker": {
          "color": "#FECB52",
          "symbol": "diamond"
         },
         "mode": "markers",
         "name": "Comedy, Steered",
         "opacity": 1,
         "orientation": "v",
         "showlegend": true,
         "type": "scatter",
         "x": {
          "bdata": "AAAAoBsn1j8AAADgarXUPwAAAMDXuNI/AAAAIM+v2D8=",
          "dtype": "f8"
         },
         "xaxis": "x",
         "y": {
          "bdata": "GjRATg==",
          "dtype": "i1"
         },
         "yaxis": "y"
        },
        {
         "customdata": [
          [
           "Original | Star Wars | Action",
           "Action"
          ]
         ],
         "hovertemplate": "Cluster=%{customdata[1]}<br>Type=Original<br>Distance to Norway=%{x}<br>Movie Index=%{y}<br>Title=%{customdata[0]}<extra></extra>",
         "legendgroup": "Action, Original",
         "marker": {
          "color": "#636efa",
          "symbol": "circle"
         },
         "mode": "markers",
         "name": "Action, Original",
         "opacity": 0.3,
         "orientation": "v",
         "showlegend": false,
         "type": "scatter",
         "x": {
          "bdata": "AAAAwO6E9j8=",
          "dtype": "f8"
         },
         "xaxis": "x",
         "y": {
          "bdata": "HQ==",
          "dtype": "i1"
         },
         "yaxis": "y"
        },
        {
         "customdata": [
          [
           "Steered | Star Wars | Action",
           "Action"
          ]
         ],
         "hovertemplate": "Cluster=%{customdata[1]}<br>Type=Steered<br>Distance to Norway=%{x}<br>Movie Index=%{y}<br>Title=%{customdata[0]}<extra></extra>",
         "legendgroup": "Action, Steered",
         "marker": {
          "color": "#636efa",
          "symbol": "diamond"
         },
         "mode": "markers",
         "name": "Action, Steered",
         "opacity": 1,
         "orientation": "v",
         "showlegend": true,
         "type": "scatter",
         "x": {
          "bdata": "AAAAgEFY1z8=",
          "dtype": "f8"
         },
         "xaxis": "x",
         "y": {
          "bdata": "HQ==",
          "dtype": "i1"
         },
         "yaxis": "y"
        },
        {
         "customdata": [
          [
           "Original | Seppuku | Mystery",
           "Mystery"
          ],
          [
           "Original | The Prestige | Mystery",
           "Mystery"
          ],
          [
           "Original | Oldeuboi | Mystery",
           "Mystery"
          ],
          [
           "Original | Incendies | Mystery",
           "Mystery"
          ]
         ],
         "hovertemplate": "Cluster=%{customdata[1]}<br>Type=Original<br>Distance to Norway=%{x}<br>Movie Index=%{y}<br>Title=%{customdata[0]}<extra></extra>",
         "legendgroup": "Mystery, Original",
         "marker": {
          "color": "#EF553B",
          "symbol": "circle"
         },
         "mode": "markers",
         "name": "Mystery, Original",
         "opacity": 0.3,
         "orientation": "v",
         "showlegend": false,
         "type": "scatter",
         "x": {
          "bdata": "AAAAoEKU9D8AAABgvHX1PwAAAOC8ufU/AAAAQOXt9D8=",
          "dtype": "f8"
         },
         "xaxis": "x",
         "y": {
          "bdata": "HiREWg==",
          "dtype": "i1"
         },
         "yaxis": "y"
        },
        {
         "customdata": [
          [
           "Steered | Seppuku | Mystery",
           "Mystery"
          ],
          [
           "Steered | The Prestige | Mystery",
           "Mystery"
          ],
          [
           "Steered | Oldeuboi | Mystery",
           "Mystery"
          ],
          [
           "Steered | Incendies | Mystery",
           "Mystery"
          ]
         ],
         "hovertemplate": "Cluster=%{customdata[1]}<br>Type=Steered<br>Distance to Norway=%{x}<br>Movie Index=%{y}<br>Title=%{customdata[0]}<extra></extra>",
         "legendgroup": "Mystery, Steered",
         "marker": {
          "color": "#EF553B",
          "symbol": "diamond"
         },
         "mode": "markers",
         "name": "Mystery, Steered",
         "opacity": 1,
         "orientation": "v",
         "showlegend": true,
         "type": "scatter",
         "x": {
          "bdata": "AAAAgEyS1D8AAAAgxAzWPwAAAMCZudk/AAAAYAze2z8=",
          "dtype": "f8"
         },
         "xaxis": "x",
         "y": {
          "bdata": "HiREWg==",
          "dtype": "i1"
         },
         "yaxis": "y"
        },
        {
         "customdata": [
          [
           "Original | It's a Wonderful Life | Fantasy",
           "Fantasy"
          ]
         ],
         "hovertemplate": "Cluster=%{customdata[1]}<br>Type=Original<br>Distance to Norway=%{x}<br>Movie Index=%{y}<br>Title=%{customdata[0]}<extra></extra>",
         "legendgroup": "Fantasy, Original",
         "marker": {
          "color": "#00cc96",
          "symbol": "circle"
         },
         "mode": "markers",
         "name": "Fantasy, Original",
         "opacity": 0.3,
         "orientation": "v",
         "showlegend": false,
         "type": "scatter",
         "x": {
          "bdata": "AAAAoNbV9T8=",
          "dtype": "f8"
         },
         "xaxis": "x",
         "y": {
          "bdata": "IA==",
          "dtype": "i1"
         },
         "yaxis": "y"
        },
        {
         "customdata": [
          [
           "Steered | It's a Wonderful Life | Fantasy",
           "Fantasy"
          ]
         ],
         "hovertemplate": "Cluster=%{customdata[1]}<br>Type=Steered<br>Distance to Norway=%{x}<br>Movie Index=%{y}<br>Title=%{customdata[0]}<extra></extra>",
         "legendgroup": "Fantasy, Steered",
         "marker": {
          "color": "#00cc96",
          "symbol": "diamond"
         },
         "mode": "markers",
         "name": "Fantasy, Steered",
         "opacity": 1,
         "orientation": "v",
         "showlegend": true,
         "type": "scatter",
         "x": {
          "bdata": "AAAA4G7V2T8=",
          "dtype": "f8"
         },
         "xaxis": "x",
         "y": {
          "bdata": "IA==",
          "dtype": "i1"
         },
         "yaxis": "y"
        },
        {
         "customdata": [
          [
           "Original | Whiplash | Music",
           "Music"
          ],
          [
           "Original | The Pianist | Music",
           "Music"
          ]
         ],
         "hovertemplate": "Cluster=%{customdata[1]}<br>Type=Original<br>Distance to Norway=%{x}<br>Movie Index=%{y}<br>Title=%{customdata[0]}<extra></extra>",
         "legendgroup": "Music, Original",
         "marker": {
          "color": "#ab63fa",
          "symbol": "circle"
         },
         "mode": "markers",
         "name": "Music, Original",
         "opacity": 0.3,
         "orientation": "v",
         "showlegend": false,
         "type": "scatter",
         "x": {
          "bdata": "AAAAQExB9T8AAAAAfFb1Pw==",
          "dtype": "f8"
         },
         "xaxis": "x",
         "y": {
          "bdata": "IiY=",
          "dtype": "i1"
         },
         "yaxis": "y"
        },
        {
         "customdata": [
          [
           "Steered | Whiplash | Music",
           "Music"
          ],
          [
           "Steered | The Pianist | Music",
           "Music"
          ]
         ],
         "hovertemplate": "Cluster=%{customdata[1]}<br>Type=Steered<br>Distance to Norway=%{x}<br>Movie Index=%{y}<br>Title=%{customdata[0]}<extra></extra>",
         "legendgroup": "Music, Steered",
         "marker": {
          "color": "#ab63fa",
          "symbol": "diamond"
         },
         "mode": "markers",
         "name": "Music, Steered",
         "opacity": 1,
         "orientation": "v",
         "showlegend": true,
         "type": "scatter",
         "x": {
          "bdata": "AAAAoFYw1j8AAADAkpjcPw==",
          "dtype": "f8"
         },
         "xaxis": "x",
         "y": {
          "bdata": "IiY=",
          "dtype": "i1"
         },
         "yaxis": "y"
        },
        {
         "customdata": [
          [
           "Original | Psycho | Thriller",
           "Thriller"
          ],
          [
           "Original | The Lives of Others | Thriller",
           "Thriller"
          ],
          [
           "Original | Memento | Thriller",
           "Thriller"
          ],
          [
           "Original | Rear Window | Thriller",
           "Thriller"
          ]
         ],
         "hovertemplate": "Cluster=%{customdata[1]}<br>Type=Original<br>Distance to Norway=%{x}<br>Movie Index=%{y}<br>Title=%{customdata[0]}<extra></extra>",
         "legendgroup": "Thriller, Original",
         "marker": {
          "color": "#FFA15A",
          "symbol": "circle"
         },
         "mode": "markers",
         "name": "Thriller, Original",
         "opacity": 0.3,
         "orientation": "v",
         "showlegend": false,
         "type": "scatter",
         "x": {
          "bdata": "AAAAwKOL9j8AAADAMUT1PwAAAKBNH/Y/AAAAoLb69T8=",
          "dtype": "f8"
         },
         "xaxis": "x",
         "y": {
          "bdata": "MUNFUQ==",
          "dtype": "i1"
         },
         "yaxis": "y"
        },
        {
         "customdata": [
          [
           "Steered | Psycho | Thriller",
           "Thriller"
          ],
          [
           "Steered | The Lives of Others | Thriller",
           "Thriller"
          ],
          [
           "Steered | Memento | Thriller",
           "Thriller"
          ],
          [
           "Steered | Rear Window | Thriller",
           "Thriller"
          ]
         ],
         "hovertemplate": "Cluster=%{customdata[1]}<br>Type=Steered<br>Distance to Norway=%{x}<br>Movie Index=%{y}<br>Title=%{customdata[0]}<extra></extra>",
         "legendgroup": "Thriller, Steered",
         "marker": {
          "color": "#FFA15A",
          "symbol": "diamond"
         },
         "mode": "markers",
         "name": "Thriller, Steered",
         "opacity": 1,
         "orientation": "v",
         "showlegend": true,
         "type": "scatter",
         "x": {
          "bdata": "AAAAYMb/1j8AAACAqeTZPwAAAIBZq90/AAAAoHZD2j8=",
          "dtype": "f8"
         },
         "xaxis": "x",
         "y": {
          "bdata": "MUNFUQ==",
          "dtype": "i1"
         },
         "yaxis": "y"
        },
        {
         "customdata": [
          [
           "Original | Coco | Family",
           "Family"
          ],
          [
           "Original | Babam ve Oglum | Family",
           "Family"
          ]
         ],
         "hovertemplate": "Cluster=%{customdata[1]}<br>Type=Original<br>Distance to Norway=%{x}<br>Movie Index=%{y}<br>Title=%{customdata[0]}<extra></extra>",
         "legendgroup": "Family, Original",
         "marker": {
          "color": "#19d3f3",
          "symbol": "circle"
         },
         "mode": "markers",
         "name": "Family, Original",
         "opacity": 0.3,
         "orientation": "v",
         "showlegend": false,
         "type": "scatter",
         "x": {
          "bdata": "AAAA4JN69T8AAACA7rX1Pw==",
          "dtype": "f8"
         },
         "xaxis": "x",
         "y": {
          "bdata": "PVw=",
          "dtype": "i1"
         },
         "yaxis": "y"
        },
        {
         "customdata": [
          [
           "Steered | Coco | Family",
           "Family"
          ],
          [
           "Steered | Babam ve Oglum | Family",
           "Family"
          ]
         ],
         "hovertemplate": "Cluster=%{customdata[1]}<br>Type=Steered<br>Distance to Norway=%{x}<br>Movie Index=%{y}<br>Title=%{customdata[0]}<extra></extra>",
         "legendgroup": "Family, Steered",
         "marker": {
          "color": "#19d3f3",
          "symbol": "diamond"
         },
         "mode": "markers",
         "name": "Family, Steered",
         "opacity": 1,
         "orientation": "v",
         "showlegend": true,
         "type": "scatter",
         "x": {
          "bdata": "AAAAgLyL2T8AAAAgvkndPw==",
          "dtype": "f8"
         },
         "xaxis": "x",
         "y": {
          "bdata": "PVw=",
          "dtype": "i1"
         },
         "yaxis": "y"
        },
        {
         "customdata": [
          [
           "Original | The Shining | Horror",
           "Horror"
          ]
         ],
         "hovertemplate": "Cluster=%{customdata[1]}<br>Type=Original<br>Distance to Norway=%{x}<br>Movie Index=%{y}<br>Title=%{customdata[0]}<extra></extra>",
         "legendgroup": "Horror, Original",
         "marker": {
          "color": "#FF6692",
          "symbol": "circle"
         },
         "mode": "markers",
         "name": "Horror, Original",
         "opacity": 0.3,
         "orientation": "v",
         "showlegend": false,
         "type": "scatter",
         "x": {
          "bdata": "AAAA4CZA9D8=",
          "dtype": "f8"
         },
         "xaxis": "x",
         "y": {
          "bdata": "SQ==",
          "dtype": "i1"
         },
         "yaxis": "y"
        },
        {
         "customdata": [
          [
           "Steered | The Shining | Horror",
           "Horror"
          ]
         ],
         "hovertemplate": "Cluster=%{customdata[1]}<br>Type=Steered<br>Distance to Norway=%{x}<br>Movie Index=%{y}<br>Title=%{customdata[0]}<extra></extra>",
         "legendgroup": "Horror, Steered",
         "marker": {
          "color": "#FF6692",
          "symbol": "diamond"
         },
         "mode": "markers",
         "name": "Horror, Steered",
         "opacity": 1,
         "orientation": "v",
         "showlegend": true,
         "type": "scatter",
         "x": {
          "bdata": "AAAAAPlh1T8=",
          "dtype": "f8"
         },
         "xaxis": "x",
         "y": {
          "bdata": "SQ==",
          "dtype": "i1"
         },
         "yaxis": "y"
        },
        {
         "customdata": [
          [
           "Original | Sunset Blvd. | Film-Noir",
           "Film-Noir"
          ]
         ],
         "hovertemplate": "Cluster=%{customdata[1]}<br>Type=Original<br>Distance to Norway=%{x}<br>Movie Index=%{y}<br>Title=%{customdata[0]}<extra></extra>",
         "legendgroup": "Film-Noir, Original",
         "marker": {
          "color": "#B6E880",
          "symbol": "circle"
         },
         "mode": "markers",
         "name": "Film-Noir, Original",
         "opacity": 0.3,
         "orientation": "v",
         "showlegend": false,
         "type": "scatter",
         "x": {
          "bdata": "AAAAQHP89T8=",
          "dtype": "f8"
         },
         "xaxis": "x",
         "y": {
          "bdata": "Ug==",
          "dtype": "i1"
         },
         "yaxis": "y"
        },
        {
         "customdata": [
          [
           "Steered | Sunset Blvd. | Film-Noir",
           "Film-Noir"
          ]
         ],
         "hovertemplate": "Cluster=%{customdata[1]}<br>Type=Steered<br>Distance to Norway=%{x}<br>Movie Index=%{y}<br>Title=%{customdata[0]}<extra></extra>",
         "legendgroup": "Film-Noir, Steered",
         "marker": {
          "color": "#B6E880",
          "symbol": "diamond"
         },
         "mode": "markers",
         "name": "Film-Noir, Steered",
         "opacity": 1,
         "orientation": "v",
         "showlegend": true,
         "type": "scatter",
         "x": {
          "bdata": "AAAAoPTk2T8=",
          "dtype": "f8"
         },
         "xaxis": "x",
         "y": {
          "bdata": "Ug==",
          "dtype": "i1"
         },
         "yaxis": "y"
        },
        {
         "hoverinfo": "none",
         "line": {
          "color": "gray",
          "dash": "dot",
          "width": 1
         },
         "mode": "lines",
         "showlegend": false,
         "type": "scatter",
         "x": [
          1.360545039176941,
          0.41108933091163635
         ],
         "y": [
          0,
          0
         ]
        },
        {
         "hoverinfo": "none",
         "line": {
          "color": "gray",
          "dash": "dot",
          "width": 1
         },
         "mode": "lines",
         "showlegend": false,
         "type": "scatter",
         "x": [
          1.3703533411026,
          0.46783435344696045
         ],
         "y": [
          1,
          1
         ]
        },
        {
         "hoverinfo": "none",
         "line": {
          "color": "gray",
          "dash": "dot",
          "width": 1
         },
         "mode": "lines",
         "showlegend": false,
         "type": "scatter",
         "x": [
          1.4254542589187622,
          0.3757747709751129
         ],
         "y": [
          2,
          2
         ]
        },
        {
         "hoverinfo": "none",
         "line": {
          "color": "gray",
          "dash": "dot",
          "width": 1
         },
         "mode": "lines",
         "showlegend": false,
         "type": "scatter",
         "x": [
          1.3832676410675049,
          0.38819995522499084
         ],
         "y": [
          3,
          3
         ]
        },
        {
         "hoverinfo": "none",
         "line": {
          "color": "gray",
          "dash": "dot",
          "width": 1
         },
         "mode": "lines",
         "showlegend": false,
         "type": "scatter",
         "x": [
          1.4383645057678223,
          0.44074174761772156
         ],
         "y": [
          4,
          4
         ]
        },
        {
         "hoverinfo": "none",
         "line": {
          "color": "gray",
          "dash": "dot",
          "width": 1
         },
         "mode": "lines",
         "showlegend": false,
         "type": "scatter",
         "x": [
          1.30983567237854,
          0.38313066959381104
         ],
         "y": [
          5,
          5
         ]
        },
        {
         "hoverinfo": "none",
         "line": {
          "color": "gray",
          "dash": "dot",
          "width": 1
         },
         "mode": "lines",
         "showlegend": false,
         "type": "scatter",
         "x": [
          1.3430781364440918,
          0.3751778304576874
         ],
         "y": [
          6,
          6
         ]
        },
        {
         "hoverinfo": "none",
         "line": {
          "color": "gray",
          "dash": "dot",
          "width": 1
         },
         "mode": "lines",
         "showlegend": false,
         "type": "scatter",
         "x": [
          1.3585915565490723,
          0.4077959656715393
         ],
         "y": [
          7,
          7
         ]
        },
        {
         "hoverinfo": "none",
         "line": {
          "color": "gray",
          "dash": "dot",
          "width": 1
         },
         "mode": "lines",
         "showlegend": false,
         "type": "scatter",
         "x": [
          1.3490313291549683,
          0.37868532538414
         ],
         "y": [
          8,
          8
         ]
        },
        {
         "hoverinfo": "none",
         "line": {
          "color": "gray",
          "dash": "dot",
          "width": 1
         },
         "mode": "lines",
         "showlegend": false,
         "type": "scatter",
         "x": [
          1.3081413507461548,
          0.3314743638038635
         ],
         "y": [
          9,
          9
         ]
        },
        {
         "hoverinfo": "none",
         "line": {
          "color": "gray",
          "dash": "dot",
          "width": 1
         },
         "mode": "lines",
         "showlegend": false,
         "type": "scatter",
         "x": [
          1.30054771900177,
          0.38963744044303894
         ],
         "y": [
          10,
          10
         ]
        },
        {
         "hoverinfo": "none",
         "line": {
          "color": "gray",
          "dash": "dot",
          "width": 1
         },
         "mode": "lines",
         "showlegend": false,
         "type": "scatter",
         "x": [
          1.3584235906600952,
          0.3438590466976166
         ],
         "y": [
          11,
          11
         ]
        },
        {
         "hoverinfo": "none",
         "line": {
          "color": "gray",
          "dash": "dot",
          "width": 1
         },
         "mode": "lines",
         "showlegend": false,
         "type": "scatter",
         "x": [
          1.359993815422058,
          0.3864186406135559
         ],
         "y": [
          12,
          12
         ]
        },
        {
         "hoverinfo": "none",
         "line": {
          "color": "gray",
          "dash": "dot",
          "width": 1
         },
         "mode": "lines",
         "showlegend": false,
         "type": "scatter",
         "x": [
          1.3322856426239014,
          0.3566467761993408
         ],
         "y": [
          13,
          13
         ]
        },
        {
         "hoverinfo": "none",
         "line": {
          "color": "gray",
          "dash": "dot",
          "width": 1
         },
         "mode": "lines",
         "showlegend": false,
         "type": "scatter",
         "x": [
          1.347430944442749,
          0.3844377398490906
         ],
         "y": [
          14,
          14
         ]
        },
        {
         "hoverinfo": "none",
         "line": {
          "color": "gray",
          "dash": "dot",
          "width": 1
         },
         "mode": "lines",
         "showlegend": false,
         "type": "scatter",
         "x": [
          1.3299168348312378,
          0.4032481610774994
         ],
         "y": [
          15,
          15
         ]
        },
        {
         "hoverinfo": "none",
         "line": {
          "color": "gray",
          "dash": "dot",
          "width": 1
         },
         "mode": "lines",
         "showlegend": false,
         "type": "scatter",
         "x": [
          1.3713558912277222,
          0.3604867160320282
         ],
         "y": [
          16,
          16
         ]
        },
        {
         "hoverinfo": "none",
         "line": {
          "color": "gray",
          "dash": "dot",
          "width": 1
         },
         "mode": "lines",
         "showlegend": false,
         "type": "scatter",
         "x": [
          1.407413125038147,
          0.41321974992752075
         ],
         "y": [
          17,
          17
         ]
        },
        {
         "hoverinfo": "none",
         "line": {
          "color": "gray",
          "dash": "dot",
          "width": 1
         },
         "mode": "lines",
         "showlegend": false,
         "type": "scatter",
         "x": [
          1.3625285625457764,
          0.3871613144874573
         ],
         "y": [
          18,
          18
         ]
        },
        {
         "hoverinfo": "none",
         "line": {
          "color": "gray",
          "dash": "dot",
          "width": 1
         },
         "mode": "lines",
         "showlegend": false,
         "type": "scatter",
         "x": [
          1.3814222812652588,
          0.4230501353740692
         ],
         "y": [
          19,
          19
         ]
        },
        {
         "hoverinfo": "none",
         "line": {
          "color": "gray",
          "dash": "dot",
          "width": 1
         },
         "mode": "lines",
         "showlegend": false,
         "type": "scatter",
         "x": [
          1.2812919616699219,
          0.3262142837047577
         ],
         "y": [
          20,
          20
         ]
        },
        {
         "hoverinfo": "none",
         "line": {
          "color": "gray",
          "dash": "dot",
          "width": 1
         },
         "mode": "lines",
         "showlegend": false,
         "type": "scatter",
         "x": [
          1.317649245262146,
          0.4628412425518036
         ],
         "y": [
          21,
          21
         ]
        },
        {
         "hoverinfo": "none",
         "line": {
          "color": "gray",
          "dash": "dot",
          "width": 1
         },
         "mode": "lines",
         "showlegend": false,
         "type": "scatter",
         "x": [
          1.3108224868774414,
          0.37841692566871643
         ],
         "y": [
          22,
          22
         ]
        },
        {
         "hoverinfo": "none",
         "line": {
          "color": "gray",
          "dash": "dot",
          "width": 1
         },
         "mode": "lines",
         "showlegend": false,
         "type": "scatter",
         "x": [
          1.308174729347229,
          0.3523326814174652
         ],
         "y": [
          23,
          23
         ]
        },
        {
         "hoverinfo": "none",
         "line": {
          "color": "gray",
          "dash": "dot",
          "width": 1
         },
         "mode": "lines",
         "showlegend": false,
         "type": "scatter",
         "x": [
          1.3910335302352905,
          0.40215662121772766
         ],
         "y": [
          24,
          24
         ]
        },
        {
         "hoverinfo": "none",
         "line": {
          "color": "gray",
          "dash": "dot",
          "width": 1
         },
         "mode": "lines",
         "showlegend": false,
         "type": "scatter",
         "x": [
          1.3907508850097656,
          0.38998258113861084
         ],
         "y": [
          25,
          25
         ]
        },
        {
         "hoverinfo": "none",
         "line": {
          "color": "gray",
          "dash": "dot",
          "width": 1
         },
         "mode": "lines",
         "showlegend": false,
         "type": "scatter",
         "x": [
          1.3123068809509277,
          0.3461369574069977
         ],
         "y": [
          26,
          26
         ]
        },
        {
         "hoverinfo": "none",
         "line": {
          "color": "gray",
          "dash": "dot",
          "width": 1
         },
         "mode": "lines",
         "showlegend": false,
         "type": "scatter",
         "x": [
          1.3753660917282104,
          0.44756752252578735
         ],
         "y": [
          27,
          27
         ]
        },
        {
         "hoverinfo": "none",
         "line": {
          "color": "gray",
          "dash": "dot",
          "width": 1
         },
         "mode": "lines",
         "showlegend": false,
         "type": "scatter",
         "x": [
          1.3498049974441528,
          0.36388540267944336
         ],
         "y": [
          28,
          28
         ]
        },
        {
         "hoverinfo": "none",
         "line": {
          "color": "gray",
          "dash": "dot",
          "width": 1
         },
         "mode": "lines",
         "showlegend": false,
         "type": "scatter",
         "x": [
          1.407454252243042,
          0.36476171016693115
         ],
         "y": [
          29,
          29
         ]
        },
        {
         "hoverinfo": "none",
         "line": {
          "color": "gray",
          "dash": "dot",
          "width": 1
         },
         "mode": "lines",
         "showlegend": false,
         "type": "scatter",
         "x": [
          1.2861963510513306,
          0.32142937183380127
         ],
         "y": [
          30,
          30
         ]
        },
        {
         "hoverinfo": "none",
         "line": {
          "color": "gray",
          "dash": "dot",
          "width": 1
         },
         "mode": "lines",
         "showlegend": false,
         "type": "scatter",
         "x": [
          1.3484333753585815,
          0.4798603057861328
         ],
         "y": [
          31,
          31
         ]
        },
        {
         "hoverinfo": "none",
         "line": {
          "color": "gray",
          "dash": "dot",
          "width": 1
         },
         "mode": "lines",
         "showlegend": false,
         "type": "scatter",
         "x": [
          1.3647066354751587,
          0.4036519229412079
         ],
         "y": [
          32,
          32
         ]
        },
        {
         "hoverinfo": "none",
         "line": {
          "color": "gray",
          "dash": "dot",
          "width": 1
         },
         "mode": "lines",
         "showlegend": false,
         "type": "scatter",
         "x": [
          1.3920283317565918,
          0.339632123708725
         ],
         "y": [
          33,
          33
         ]
        },
        {
         "hoverinfo": "none",
         "line": {
          "color": "gray",
          "dash": "dot",
          "width": 1
         },
         "mode": "lines",
         "showlegend": false,
         "type": "scatter",
         "x": [
          1.328441858291626,
          0.3467003405094147
         ],
         "y": [
          34,
          34
         ]
        },
        {
         "hoverinfo": "none",
         "line": {
          "color": "gray",
          "dash": "dot",
          "width": 1
         },
         "mode": "lines",
         "showlegend": false,
         "type": "scatter",
         "x": [
          1.3931801319122314,
          0.3679921627044678
         ],
         "y": [
          35,
          35
         ]
        },
        {
         "hoverinfo": "none",
         "line": {
          "color": "gray",
          "dash": "dot",
          "width": 1
         },
         "mode": "lines",
         "showlegend": false,
         "type": "scatter",
         "x": [
          1.341244101524353,
          0.3445291817188263
         ],
         "y": [
          36,
          36
         ]
        },
        {
         "hoverinfo": "none",
         "line": {
          "color": "gray",
          "dash": "dot",
          "width": 1
         },
         "mode": "lines",
         "showlegend": false,
         "type": "scatter",
         "x": [
          1.3390072584152222,
          0.3937534689903259
         ],
         "y": [
          37,
          37
         ]
        },
        {
         "hoverinfo": "none",
         "line": {
          "color": "gray",
          "dash": "dot",
          "width": 1
         },
         "mode": "lines",
         "showlegend": false,
         "type": "scatter",
         "x": [
          1.3336143493652344,
          0.44681233167648315
         ],
         "y": [
          38,
          38
         ]
        },
        {
         "hoverinfo": "none",
         "line": {
          "color": "gray",
          "dash": "dot",
          "width": 1
         },
         "mode": "lines",
         "showlegend": false,
         "type": "scatter",
         "x": [
          1.401717185974121,
          0.45383700728416443
         ],
         "y": [
          39,
          39
         ]
        },
        {
         "hoverinfo": "none",
         "line": {
          "color": "gray",
          "dash": "dot",
          "width": 1
         },
         "mode": "lines",
         "showlegend": false,
         "type": "scatter",
         "x": [
          1.375500202178955,
          0.38434046506881714
         ],
         "y": [
          40,
          40
         ]
        },
        {
         "hoverinfo": "none",
         "line": {
          "color": "gray",
          "dash": "dot",
          "width": 1
         },
         "mode": "lines",
         "showlegend": false,
         "type": "scatter",
         "x": [
          1.3194501399993896,
          0.326145201921463
         ],
         "y": [
          41,
          41
         ]
        },
        {
         "hoverinfo": "none",
         "line": {
          "color": "gray",
          "dash": "dot",
          "width": 1
         },
         "mode": "lines",
         "showlegend": false,
         "type": "scatter",
         "x": [
          1.292335033416748,
          0.3394770920276642
         ],
         "y": [
          42,
          42
         ]
        },
        {
         "hoverinfo": "none",
         "line": {
          "color": "gray",
          "dash": "dot",
          "width": 1
         },
         "mode": "lines",
         "showlegend": false,
         "type": "scatter",
         "x": [
          1.3839753866195679,
          0.4369223415851593
         ],
         "y": [
          43,
          43
         ]
        },
        {
         "hoverinfo": "none",
         "line": {
          "color": "gray",
          "dash": "dot",
          "width": 1
         },
         "mode": "lines",
         "showlegend": false,
         "type": "scatter",
         "x": [
          1.4389822483062744,
          0.4350082278251648
         ],
         "y": [
          44,
          44
         ]
        },
        {
         "hoverinfo": "none",
         "line": {
          "color": "gray",
          "dash": "dot",
          "width": 1
         },
         "mode": "lines",
         "showlegend": false,
         "type": "scatter",
         "x": [
          1.2988699674606323,
          0.3635823726654053
         ],
         "y": [
          45,
          45
         ]
        },
        {
         "hoverinfo": "none",
         "line": {
          "color": "gray",
          "dash": "dot",
          "width": 1
         },
         "mode": "lines",
         "showlegend": false,
         "type": "scatter",
         "x": [
          1.3645176887512207,
          0.46302762627601624
         ],
         "y": [
          46,
          46
         ]
        },
        {
         "hoverinfo": "none",
         "line": {
          "color": "gray",
          "dash": "dot",
          "width": 1
         },
         "mode": "lines",
         "showlegend": false,
         "type": "scatter",
         "x": [
          1.3621116876602173,
          0.3707506060600281
         ],
         "y": [
          47,
          47
         ]
        },
        {
         "hoverinfo": "none",
         "line": {
          "color": "gray",
          "dash": "dot",
          "width": 1
         },
         "mode": "lines",
         "showlegend": false,
         "type": "scatter",
         "x": [
          1.3416882753372192,
          0.39416155219078064
         ],
         "y": [
          48,
          48
         ]
        },
        {
         "hoverinfo": "none",
         "line": {
          "color": "gray",
          "dash": "dot",
          "width": 1
         },
         "mode": "lines",
         "showlegend": false,
         "type": "scatter",
         "x": [
          1.4090917110443115,
          0.3593612611293793
         ],
         "y": [
          49,
          49
         ]
        },
        {
         "hoverinfo": "none",
         "line": {
          "color": "gray",
          "dash": "dot",
          "width": 1
         },
         "mode": "lines",
         "showlegend": false,
         "type": "scatter",
         "x": [
          1.3224434852600098,
          0.3389929533004761
         ],
         "y": [
          50,
          50
         ]
        },
        {
         "hoverinfo": "none",
         "line": {
          "color": "gray",
          "dash": "dot",
          "width": 1
         },
         "mode": "lines",
         "showlegend": false,
         "type": "scatter",
         "x": [
          1.345499038696289,
          0.41831713914871216
         ],
         "y": [
          51,
          51
         ]
        },
        {
         "hoverinfo": "none",
         "line": {
          "color": "gray",
          "dash": "dot",
          "width": 1
         },
         "mode": "lines",
         "showlegend": false,
         "type": "scatter",
         "x": [
          1.3197380304336548,
          0.3235728442668915
         ],
         "y": [
          52,
          52
         ]
        },
        {
         "hoverinfo": "none",
         "line": {
          "color": "gray",
          "dash": "dot",
          "width": 1
         },
         "mode": "lines",
         "showlegend": false,
         "type": "scatter",
         "x": [
          1.4356844425201416,
          0.4141485095024109
         ],
         "y": [
          53,
          53
         ]
        },
        {
         "hoverinfo": "none",
         "line": {
          "color": "gray",
          "dash": "dot",
          "width": 1
         },
         "mode": "lines",
         "showlegend": false,
         "type": "scatter",
         "x": [
          1.2876403331756592,
          0.31217268109321594
         ],
         "y": [
          54,
          54
         ]
        },
        {
         "hoverinfo": "none",
         "line": {
          "color": "gray",
          "dash": "dot",
          "width": 1
         },
         "mode": "lines",
         "showlegend": false,
         "type": "scatter",
         "x": [
          1.3358527421951294,
          0.3786367177963257
         ],
         "y": [
          55,
          55
         ]
        },
        {
         "hoverinfo": "none",
         "line": {
          "color": "gray",
          "dash": "dot",
          "width": 1
         },
         "mode": "lines",
         "showlegend": false,
         "type": "scatter",
         "x": [
          1.3550697565078735,
          0.40671980381011963
         ],
         "y": [
          56,
          56
         ]
        },
        {
         "hoverinfo": "none",
         "line": {
          "color": "gray",
          "dash": "dot",
          "width": 1
         },
         "mode": "lines",
         "showlegend": false,
         "type": "scatter",
         "x": [
          1.356563925743103,
          0.38029903173446655
         ],
         "y": [
          57,
          57
         ]
        },
        {
         "hoverinfo": "none",
         "line": {
          "color": "gray",
          "dash": "dot",
          "width": 1
         },
         "mode": "lines",
         "showlegend": false,
         "type": "scatter",
         "x": [
          1.3825422525405884,
          0.4153114855289459
         ],
         "y": [
          58,
          58
         ]
        },
        {
         "hoverinfo": "none",
         "line": {
          "color": "gray",
          "dash": "dot",
          "width": 1
         },
         "mode": "lines",
         "showlegend": false,
         "type": "scatter",
         "x": [
          1.4247139692306519,
          0.3739139437675476
         ],
         "y": [
          59,
          59
         ]
        },
        {
         "hoverinfo": "none",
         "line": {
          "color": "gray",
          "dash": "dot",
          "width": 1
         },
         "mode": "lines",
         "showlegend": false,
         "type": "scatter",
         "x": [
          1.431191086769104,
          0.42236772179603577
         ],
         "y": [
          60,
          60
         ]
        },
        {
         "hoverinfo": "none",
         "line": {
          "color": "gray",
          "dash": "dot",
          "width": 1
         },
         "mode": "lines",
         "showlegend": false,
         "type": "scatter",
         "x": [
          1.3424261808395386,
          0.39915382862091064
         ],
         "y": [
          61,
          61
         ]
        },
        {
         "hoverinfo": "none",
         "line": {
          "color": "gray",
          "dash": "dot",
          "width": 1
         },
         "mode": "lines",
         "showlegend": false,
         "type": "scatter",
         "x": [
          1.3394781351089478,
          0.4263271987438202
         ],
         "y": [
          62,
          62
         ]
        },
        {
         "hoverinfo": "none",
         "line": {
          "color": "gray",
          "dash": "dot",
          "width": 1
         },
         "mode": "lines",
         "showlegend": false,
         "type": "scatter",
         "x": [
          1.3827139139175415,
          0.397046834230423
         ],
         "y": [
          63,
          63
         ]
        },
        {
         "hoverinfo": "none",
         "line": {
          "color": "gray",
          "dash": "dot",
          "width": 1
         },
         "mode": "lines",
         "showlegend": false,
         "type": "scatter",
         "x": [
          1.3154643774032593,
          0.29253190755844116
         ],
         "y": [
          64,
          64
         ]
        },
        {
         "hoverinfo": "none",
         "line": {
          "color": "gray",
          "dash": "dot",
          "width": 1
         },
         "mode": "lines",
         "showlegend": false,
         "type": "scatter",
         "x": [
          1.3898496627807617,
          0.3633359968662262
         ],
         "y": [
          65,
          65
         ]
        },
        {
         "hoverinfo": "none",
         "line": {
          "color": "gray",
          "dash": "dot",
          "width": 1
         },
         "mode": "lines",
         "showlegend": false,
         "type": "scatter",
         "x": [
          1.3401739597320557,
          0.38123998045921326
         ],
         "y": [
          66,
          66
         ]
        },
        {
         "hoverinfo": "none",
         "line": {
          "color": "gray",
          "dash": "dot",
          "width": 1
         },
         "mode": "lines",
         "showlegend": false,
         "type": "scatter",
         "x": [
          1.3291490077972412,
          0.4045814275741577
         ],
         "y": [
          67,
          67
         ]
        },
        {
         "hoverinfo": "none",
         "line": {
          "color": "gray",
          "dash": "dot",
          "width": 1
         },
         "mode": "lines",
         "showlegend": false,
         "type": "scatter",
         "x": [
          1.3578461408615112,
          0.40195316076278687
         ],
         "y": [
          68,
          68
         ]
        },
        {
         "hoverinfo": "none",
         "line": {
          "color": "gray",
          "dash": "dot",
          "width": 1
         },
         "mode": "lines",
         "showlegend": false,
         "type": "scatter",
         "x": [
          1.382642388343811,
          0.4635833501815796
         ],
         "y": [
          69,
          69
         ]
        },
        {
         "hoverinfo": "none",
         "line": {
          "color": "gray",
          "dash": "dot",
          "width": 1
         },
         "mode": "lines",
         "showlegend": false,
         "type": "scatter",
         "x": [
          1.2613600492477417,
          0.3388828635215759
         ],
         "y": [
          70,
          70
         ]
        },
        {
         "hoverinfo": "none",
         "line": {
          "color": "gray",
          "dash": "dot",
          "width": 1
         },
         "mode": "lines",
         "showlegend": false,
         "type": "scatter",
         "x": [
          1.3337490558624268,
          0.3630952537059784
         ],
         "y": [
          71,
          71
         ]
        },
        {
         "hoverinfo": "none",
         "line": {
          "color": "gray",
          "dash": "dot",
          "width": 1
         },
         "mode": "lines",
         "showlegend": false,
         "type": "scatter",
         "x": [
          1.3451343774795532,
          0.38493064045906067
         ],
         "y": [
          72,
          72
         ]
        },
        {
         "hoverinfo": "none",
         "line": {
          "color": "gray",
          "dash": "dot",
          "width": 1
         },
         "mode": "lines",
         "showlegend": false,
         "type": "scatter",
         "x": [
          1.2656620740890503,
          0.3341047763824463
         ],
         "y": [
          73,
          73
         ]
        },
        {
         "hoverinfo": "none",
         "line": {
          "color": "gray",
          "dash": "dot",
          "width": 1
         },
         "mode": "lines",
         "showlegend": false,
         "type": "scatter",
         "x": [
          1.3913520574569702,
          0.4363585412502289
         ],
         "y": [
          74,
          74
         ]
        },
        {
         "hoverinfo": "none",
         "line": {
          "color": "gray",
          "dash": "dot",
          "width": 1
         },
         "mode": "lines",
         "showlegend": false,
         "type": "scatter",
         "x": [
          1.2990453243255615,
          0.34575337171554565
         ],
         "y": [
          75,
          75
         ]
        },
        {
         "hoverinfo": "none",
         "line": {
          "color": "gray",
          "dash": "dot",
          "width": 1
         },
         "mode": "lines",
         "showlegend": false,
         "type": "scatter",
         "x": [
          1.2909165620803833,
          0.37068748474121094
         ],
         "y": [
          76,
          76
         ]
        },
        {
         "hoverinfo": "none",
         "line": {
          "color": "gray",
          "dash": "dot",
          "width": 1
         },
         "mode": "lines",
         "showlegend": false,
         "type": "scatter",
         "x": [
          1.3633978366851807,
          0.40837427973747253
         ],
         "y": [
          77,
          77
         ]
        },
        {
         "hoverinfo": "none",
         "line": {
          "color": "gray",
          "dash": "dot",
          "width": 1
         },
         "mode": "lines",
         "showlegend": false,
         "type": "scatter",
         "x": [
          1.356093168258667,
          0.3857305347919464
         ],
         "y": [
          78,
          78
         ]
        },
        {
         "hoverinfo": "none",
         "line": {
          "color": "gray",
          "dash": "dot",
          "width": 1
         },
         "mode": "lines",
         "showlegend": false,
         "type": "scatter",
         "x": [
          1.3652889728546143,
          0.41641542315483093
         ],
         "y": [
          79,
          79
         ]
        },
        {
         "hoverinfo": "none",
         "line": {
          "color": "gray",
          "dash": "dot",
          "width": 1
         },
         "mode": "lines",
         "showlegend": false,
         "type": "scatter",
         "x": [
          1.3931623697280884,
          0.4312843084335327
         ],
         "y": [
          80,
          80
         ]
        },
        {
         "hoverinfo": "none",
         "line": {
          "color": "gray",
          "dash": "dot",
          "width": 1
         },
         "mode": "lines",
         "showlegend": false,
         "type": "scatter",
         "x": [
          1.3737093210220337,
          0.4103676378726959
         ],
         "y": [
          81,
          81
         ]
        },
        {
         "hoverinfo": "none",
         "line": {
          "color": "gray",
          "dash": "dot",
          "width": 1
         },
         "mode": "lines",
         "showlegend": false,
         "type": "scatter",
         "x": [
          1.3741333484649658,
          0.4045993387699127
         ],
         "y": [
          82,
          82
         ]
        },
        {
         "hoverinfo": "none",
         "line": {
          "color": "gray",
          "dash": "dot",
          "width": 1
         },
         "mode": "lines",
         "showlegend": false,
         "type": "scatter",
         "x": [
          1.3579719066619873,
          0.40408995747566223
         ],
         "y": [
          83,
          83
         ]
        },
        {
         "hoverinfo": "none",
         "line": {
          "color": "gray",
          "dash": "dot",
          "width": 1
         },
         "mode": "lines",
         "showlegend": false,
         "type": "scatter",
         "x": [
          1.3334802389144897,
          0.33750590682029724
         ],
         "y": [
          84,
          84
         ]
        },
        {
         "hoverinfo": "none",
         "line": {
          "color": "gray",
          "dash": "dot",
          "width": 1
         },
         "mode": "lines",
         "showlegend": false,
         "type": "scatter",
         "x": [
          1.3242579698562622,
          0.4115363359451294
         ],
         "y": [
          85,
          85
         ]
        },
        {
         "hoverinfo": "none",
         "line": {
          "color": "gray",
          "dash": "dot",
          "width": 1
         },
         "mode": "lines",
         "showlegend": false,
         "type": "scatter",
         "x": [
          1.2893234491348267,
          0.36546123027801514
         ],
         "y": [
          86,
          86
         ]
        },
        {
         "hoverinfo": "none",
         "line": {
          "color": "gray",
          "dash": "dot",
          "width": 1
         },
         "mode": "lines",
         "showlegend": false,
         "type": "scatter",
         "x": [
          1.3845843076705933,
          0.45480260252952576
         ],
         "y": [
          87,
          87
         ]
        },
        {
         "hoverinfo": "none",
         "line": {
          "color": "gray",
          "dash": "dot",
          "width": 1
         },
         "mode": "lines",
         "showlegend": false,
         "type": "scatter",
         "x": [
          1.2983622550964355,
          0.29930102825164795
         ],
         "y": [
          88,
          88
         ]
        },
        {
         "hoverinfo": "none",
         "line": {
          "color": "gray",
          "dash": "dot",
          "width": 1
         },
         "mode": "lines",
         "showlegend": false,
         "type": "scatter",
         "x": [
          1.354539394378662,
          0.3490871787071228
         ],
         "y": [
          89,
          89
         ]
        },
        {
         "hoverinfo": "none",
         "line": {
          "color": "gray",
          "dash": "dot",
          "width": 1
         },
         "mode": "lines",
         "showlegend": false,
         "type": "scatter",
         "x": [
          1.3080799579620361,
          0.4354277551174164
         ],
         "y": [
          90,
          90
         ]
        },
        {
         "hoverinfo": "none",
         "line": {
          "color": "gray",
          "dash": "dot",
          "width": 1
         },
         "mode": "lines",
         "showlegend": false,
         "type": "scatter",
         "x": [
          1.335066556930542,
          0.3644085228443146
         ],
         "y": [
          91,
          91
         ]
        },
        {
         "hoverinfo": "none",
         "line": {
          "color": "gray",
          "dash": "dot",
          "width": 1
         },
         "mode": "lines",
         "showlegend": false,
         "type": "scatter",
         "x": [
          1.356916904449463,
          0.4576258957386017
         ],
         "y": [
          92,
          92
         ]
        },
        {
         "hoverinfo": "none",
         "line": {
          "color": "gray",
          "dash": "dot",
          "width": 1
         },
         "mode": "lines",
         "showlegend": false,
         "type": "scatter",
         "x": [
          1.364593505859375,
          0.3625921607017517
         ],
         "y": [
          93,
          93
         ]
        },
        {
         "hoverinfo": "none",
         "line": {
          "color": "gray",
          "dash": "dot",
          "width": 1
         },
         "mode": "lines",
         "showlegend": false,
         "type": "scatter",
         "x": [
          1.3744982481002808,
          0.43012535572052
         ],
         "y": [
          94,
          94
         ]
        },
        {
         "hoverinfo": "none",
         "line": {
          "color": "gray",
          "dash": "dot",
          "width": 1
         },
         "mode": "lines",
         "showlegend": false,
         "type": "scatter",
         "x": [
          1.3552676439285278,
          0.36533141136169434
         ],
         "y": [
          95,
          95
         ]
        },
        {
         "hoverinfo": "none",
         "line": {
          "color": "gray",
          "dash": "dot",
          "width": 1
         },
         "mode": "lines",
         "showlegend": false,
         "type": "scatter",
         "x": [
          1.3529528379440308,
          0.3543758690357208
         ],
         "y": [
          96,
          96
         ]
        },
        {
         "hoverinfo": "none",
         "line": {
          "color": "gray",
          "dash": "dot",
          "width": 1
         },
         "mode": "lines",
         "showlegend": false,
         "type": "scatter",
         "x": [
          1.2981106042861938,
          0.4277133345603943
         ],
         "y": [
          97,
          97
         ]
        },
        {
         "hoverinfo": "none",
         "line": {
          "color": "gray",
          "dash": "dot",
          "width": 1
         },
         "mode": "lines",
         "showlegend": false,
         "type": "scatter",
         "x": [
          1.3255635499954224,
          0.36164572834968567
         ],
         "y": [
          98,
          98
         ]
        },
        {
         "hoverinfo": "none",
         "line": {
          "color": "gray",
          "dash": "dot",
          "width": 1
         },
         "mode": "lines",
         "showlegend": false,
         "type": "scatter",
         "x": [
          1.318825364112854,
          0.3279217779636383
         ],
         "y": [
          99,
          99
         ]
        }
       ],
       "layout": {
        "height": 700,
        "legend": {
         "title": {
          "text": "Cluster, Type"
         },
         "tracegroupgap": 0
        },
        "margin": {
         "t": 60
        },
        "template": {
         "data": {
          "bar": [
           {
            "error_x": {
             "color": "#2a3f5f"
            },
            "error_y": {
             "color": "#2a3f5f"
            },
            "marker": {
             "line": {
              "color": "#E5ECF6",
              "width": 0.5
             },
             "pattern": {
              "fillmode": "overlay",
              "size": 10,
              "solidity": 0.2
             }
            },
            "type": "bar"
           }
          ],
          "barpolar": [
           {
            "marker": {
             "line": {
              "color": "#E5ECF6",
              "width": 0.5
             },
             "pattern": {
              "fillmode": "overlay",
              "size": 10,
              "solidity": 0.2
             }
            },
            "type": "barpolar"
           }
          ],
          "carpet": [
           {
            "aaxis": {
             "endlinecolor": "#2a3f5f",
             "gridcolor": "white",
             "linecolor": "white",
             "minorgridcolor": "white",
             "startlinecolor": "#2a3f5f"
            },
            "baxis": {
             "endlinecolor": "#2a3f5f",
             "gridcolor": "white",
             "linecolor": "white",
             "minorgridcolor": "white",
             "startlinecolor": "#2a3f5f"
            },
            "type": "carpet"
           }
          ],
          "choropleth": [
           {
            "colorbar": {
             "outlinewidth": 0,
             "ticks": ""
            },
            "type": "choropleth"
           }
          ],
          "contour": [
           {
            "colorbar": {
             "outlinewidth": 0,
             "ticks": ""
            },
            "colorscale": [
             [
              0,
              "#0d0887"
             ],
             [
              0.1111111111111111,
              "#46039f"
             ],
             [
              0.2222222222222222,
              "#7201a8"
             ],
             [
              0.3333333333333333,
              "#9c179e"
             ],
             [
              0.4444444444444444,
              "#bd3786"
             ],
             [
              0.5555555555555556,
              "#d8576b"
             ],
             [
              0.6666666666666666,
              "#ed7953"
             ],
             [
              0.7777777777777778,
              "#fb9f3a"
             ],
             [
              0.8888888888888888,
              "#fdca26"
             ],
             [
              1,
              "#f0f921"
             ]
            ],
            "type": "contour"
           }
          ],
          "contourcarpet": [
           {
            "colorbar": {
             "outlinewidth": 0,
             "ticks": ""
            },
            "type": "contourcarpet"
           }
          ],
          "heatmap": [
           {
            "colorbar": {
             "outlinewidth": 0,
             "ticks": ""
            },
            "colorscale": [
             [
              0,
              "#0d0887"
             ],
             [
              0.1111111111111111,
              "#46039f"
             ],
             [
              0.2222222222222222,
              "#7201a8"
             ],
             [
              0.3333333333333333,
              "#9c179e"
             ],
             [
              0.4444444444444444,
              "#bd3786"
             ],
             [
              0.5555555555555556,
              "#d8576b"
             ],
             [
              0.6666666666666666,
              "#ed7953"
             ],
             [
              0.7777777777777778,
              "#fb9f3a"
             ],
             [
              0.8888888888888888,
              "#fdca26"
             ],
             [
              1,
              "#f0f921"
             ]
            ],
            "type": "heatmap"
           }
          ],
          "histogram": [
           {
            "marker": {
             "pattern": {
              "fillmode": "overlay",
              "size": 10,
              "solidity": 0.2
             }
            },
            "type": "histogram"
           }
          ],
          "histogram2d": [
           {
            "colorbar": {
             "outlinewidth": 0,
             "ticks": ""
            },
            "colorscale": [
             [
              0,
              "#0d0887"
             ],
             [
              0.1111111111111111,
              "#46039f"
             ],
             [
              0.2222222222222222,
              "#7201a8"
             ],
             [
              0.3333333333333333,
              "#9c179e"
             ],
             [
              0.4444444444444444,
              "#bd3786"
             ],
             [
              0.5555555555555556,
              "#d8576b"
             ],
             [
              0.6666666666666666,
              "#ed7953"
             ],
             [
              0.7777777777777778,
              "#fb9f3a"
             ],
             [
              0.8888888888888888,
              "#fdca26"
             ],
             [
              1,
              "#f0f921"
             ]
            ],
            "type": "histogram2d"
           }
          ],
          "histogram2dcontour": [
           {
            "colorbar": {
             "outlinewidth": 0,
             "ticks": ""
            },
            "colorscale": [
             [
              0,
              "#0d0887"
             ],
             [
              0.1111111111111111,
              "#46039f"
             ],
             [
              0.2222222222222222,
              "#7201a8"
             ],
             [
              0.3333333333333333,
              "#9c179e"
             ],
             [
              0.4444444444444444,
              "#bd3786"
             ],
             [
              0.5555555555555556,
              "#d8576b"
             ],
             [
              0.6666666666666666,
              "#ed7953"
             ],
             [
              0.7777777777777778,
              "#fb9f3a"
             ],
             [
              0.8888888888888888,
              "#fdca26"
             ],
             [
              1,
              "#f0f921"
             ]
            ],
            "type": "histogram2dcontour"
           }
          ],
          "mesh3d": [
           {
            "colorbar": {
             "outlinewidth": 0,
             "ticks": ""
            },
            "type": "mesh3d"
           }
          ],
          "parcoords": [
           {
            "line": {
             "colorbar": {
              "outlinewidth": 0,
              "ticks": ""
             }
            },
            "type": "parcoords"
           }
          ],
          "pie": [
           {
            "automargin": true,
            "type": "pie"
           }
          ],
          "scatter": [
           {
            "fillpattern": {
             "fillmode": "overlay",
             "size": 10,
             "solidity": 0.2
            },
            "type": "scatter"
           }
          ],
          "scatter3d": [
           {
            "line": {
             "colorbar": {
              "outlinewidth": 0,
              "ticks": ""
             }
            },
            "marker": {
             "colorbar": {
              "outlinewidth": 0,
              "ticks": ""
             }
            },
            "type": "scatter3d"
           }
          ],
          "scattercarpet": [
           {
            "marker": {
             "colorbar": {
              "outlinewidth": 0,
              "ticks": ""
             }
            },
            "type": "scattercarpet"
           }
          ],
          "scattergeo": [
           {
            "marker": {
             "colorbar": {
              "outlinewidth": 0,
              "ticks": ""
             }
            },
            "type": "scattergeo"
           }
          ],
          "scattergl": [
           {
            "marker": {
             "colorbar": {
              "outlinewidth": 0,
              "ticks": ""
             }
            },
            "type": "scattergl"
           }
          ],
          "scattermap": [
           {
            "marker": {
             "colorbar": {
              "outlinewidth": 0,
              "ticks": ""
             }
            },
            "type": "scattermap"
           }
          ],
          "scattermapbox": [
           {
            "marker": {
             "colorbar": {
              "outlinewidth": 0,
              "ticks": ""
             }
            },
            "type": "scattermapbox"
           }
          ],
          "scatterpolar": [
           {
            "marker": {
             "colorbar": {
              "outlinewidth": 0,
              "ticks": ""
             }
            },
            "type": "scatterpolar"
           }
          ],
          "scatterpolargl": [
           {
            "marker": {
             "colorbar": {
              "outlinewidth": 0,
              "ticks": ""
             }
            },
            "type": "scatterpolargl"
           }
          ],
          "scatterternary": [
           {
            "marker": {
             "colorbar": {
              "outlinewidth": 0,
              "ticks": ""
             }
            },
            "type": "scatterternary"
           }
          ],
          "surface": [
           {
            "colorbar": {
             "outlinewidth": 0,
             "ticks": ""
            },
            "colorscale": [
             [
              0,
              "#0d0887"
             ],
             [
              0.1111111111111111,
              "#46039f"
             ],
             [
              0.2222222222222222,
              "#7201a8"
             ],
             [
              0.3333333333333333,
              "#9c179e"
             ],
             [
              0.4444444444444444,
              "#bd3786"
             ],
             [
              0.5555555555555556,
              "#d8576b"
             ],
             [
              0.6666666666666666,
              "#ed7953"
             ],
             [
              0.7777777777777778,
              "#fb9f3a"
             ],
             [
              0.8888888888888888,
              "#fdca26"
             ],
             [
              1,
              "#f0f921"
             ]
            ],
            "type": "surface"
           }
          ],
          "table": [
           {
            "cells": {
             "fill": {
              "color": "#EBF0F8"
             },
             "line": {
              "color": "white"
             }
            },
            "header": {
             "fill": {
              "color": "#C8D4E3"
             },
             "line": {
              "color": "white"
             }
            },
            "type": "table"
           }
          ]
         },
         "layout": {
          "annotationdefaults": {
           "arrowcolor": "#2a3f5f",
           "arrowhead": 0,
           "arrowwidth": 1
          },
          "autotypenumbers": "strict",
          "coloraxis": {
           "colorbar": {
            "outlinewidth": 0,
            "ticks": ""
           }
          },
          "colorscale": {
           "diverging": [
            [
             0,
             "#8e0152"
            ],
            [
             0.1,
             "#c51b7d"
            ],
            [
             0.2,
             "#de77ae"
            ],
            [
             0.3,
             "#f1b6da"
            ],
            [
             0.4,
             "#fde0ef"
            ],
            [
             0.5,
             "#f7f7f7"
            ],
            [
             0.6,
             "#e6f5d0"
            ],
            [
             0.7,
             "#b8e186"
            ],
            [
             0.8,
             "#7fbc41"
            ],
            [
             0.9,
             "#4d9221"
            ],
            [
             1,
             "#276419"
            ]
           ],
           "sequential": [
            [
             0,
             "#0d0887"
            ],
            [
             0.1111111111111111,
             "#46039f"
            ],
            [
             0.2222222222222222,
             "#7201a8"
            ],
            [
             0.3333333333333333,
             "#9c179e"
            ],
            [
             0.4444444444444444,
             "#bd3786"
            ],
            [
             0.5555555555555556,
             "#d8576b"
            ],
            [
             0.6666666666666666,
             "#ed7953"
            ],
            [
             0.7777777777777778,
             "#fb9f3a"
            ],
            [
             0.8888888888888888,
             "#fdca26"
            ],
            [
             1,
             "#f0f921"
            ]
           ],
           "sequentialminus": [
            [
             0,
             "#0d0887"
            ],
            [
             0.1111111111111111,
             "#46039f"
            ],
            [
             0.2222222222222222,
             "#7201a8"
            ],
            [
             0.3333333333333333,
             "#9c179e"
            ],
            [
             0.4444444444444444,
             "#bd3786"
            ],
            [
             0.5555555555555556,
             "#d8576b"
            ],
            [
             0.6666666666666666,
             "#ed7953"
            ],
            [
             0.7777777777777778,
             "#fb9f3a"
            ],
            [
             0.8888888888888888,
             "#fdca26"
            ],
            [
             1,
             "#f0f921"
            ]
           ]
          },
          "colorway": [
           "#636efa",
           "#EF553B",
           "#00cc96",
           "#ab63fa",
           "#FFA15A",
           "#19d3f3",
           "#FF6692",
           "#B6E880",
           "#FF97FF",
           "#FECB52"
          ],
          "font": {
           "color": "#2a3f5f"
          },
          "geo": {
           "bgcolor": "white",
           "lakecolor": "white",
           "landcolor": "#E5ECF6",
           "showlakes": true,
           "showland": true,
           "subunitcolor": "white"
          },
          "hoverlabel": {
           "align": "left"
          },
          "hovermode": "closest",
          "mapbox": {
           "style": "light"
          },
          "paper_bgcolor": "white",
          "plot_bgcolor": "#E5ECF6",
          "polar": {
           "angularaxis": {
            "gridcolor": "white",
            "linecolor": "white",
            "ticks": ""
           },
           "bgcolor": "#E5ECF6",
           "radialaxis": {
            "gridcolor": "white",
            "linecolor": "white",
            "ticks": ""
           }
          },
          "scene": {
           "xaxis": {
            "backgroundcolor": "#E5ECF6",
            "gridcolor": "white",
            "gridwidth": 2,
            "linecolor": "white",
            "showbackground": true,
            "ticks": "",
            "zerolinecolor": "white"
           },
           "yaxis": {
            "backgroundcolor": "#E5ECF6",
            "gridcolor": "white",
            "gridwidth": 2,
            "linecolor": "white",
            "showbackground": true,
            "ticks": "",
            "zerolinecolor": "white"
           },
           "zaxis": {
            "backgroundcolor": "#E5ECF6",
            "gridcolor": "white",
            "gridwidth": 2,
            "linecolor": "white",
            "showbackground": true,
            "ticks": "",
            "zerolinecolor": "white"
           }
          },
          "shapedefaults": {
           "line": {
            "color": "#2a3f5f"
           }
          },
          "ternary": {
           "aaxis": {
            "gridcolor": "white",
            "linecolor": "white",
            "ticks": ""
           },
           "baxis": {
            "gridcolor": "white",
            "linecolor": "white",
            "ticks": ""
           },
           "bgcolor": "#E5ECF6",
           "caxis": {
            "gridcolor": "white",
            "linecolor": "white",
            "ticks": ""
           }
          },
          "title": {
           "x": 0.05
          },
          "xaxis": {
           "automargin": true,
           "gridcolor": "white",
           "linecolor": "white",
           "ticks": "",
           "title": {
            "standoff": 15
           },
           "zerolinecolor": "white",
           "zerolinewidth": 2
          },
          "yaxis": {
           "automargin": true,
           "gridcolor": "white",
           "linecolor": "white",
           "ticks": "",
           "title": {
            "standoff": 15
           },
           "zerolinecolor": "white",
           "zerolinewidth": 2
          }
         }
        },
        "title": {
         "text": "Distance Projection to Norway (L2 Distance) | Layer: 11 | Coeff: 9"
        },
        "width": 900,
        "xaxis": {
         "anchor": "y",
         "domain": [
          0,
          1
         ],
         "title": {
          "text": "Distance to Norway using L2"
         }
        },
        "yaxis": {
         "anchor": "x",
         "domain": [
          0,
          1
         ],
         "range": [
          -5,
          104
         ],
         "showticklabels": true,
         "title": {
          "text": "Movie Index"
         }
        }
       }
      }
     },
     "metadata": {},
     "output_type": "display_data"
    },
    {
     "name": "stdout",
     "output_type": "stream",
     "text": [
      "\n",
      "\n",
      "MOST CHANGED (based on difference)\n",
      "--------------------------------------------------\n",
      "Index: 33 | Title: Joker | Genre: Crime\n",
      "Original distance: 1.3920\n",
      "Steered distance:  0.3396\n",
      "CHANGE:            1.0524\n",
      "\n",
      "Index: 59 | Title: Avengers: Endgame | Genre: Drama\n",
      "Original distance: 1.4247\n",
      "Steered distance:  0.3739\n",
      "CHANGE:            1.0508\n",
      "\n",
      "Index: 49 | Title: Psycho | Genre: Thriller\n",
      "Original distance: 1.4091\n",
      "Steered distance:  0.3594\n",
      "CHANGE:            1.0497\n",
      "\n",
      "LEAST CHANGED (based on distance difference)\n",
      "--------------------------------------------------\n",
      "Index: 21 | Title: Interstellar | Genre: Sci-Fi\n",
      "Original distance: 1.3176\n",
      "Steered distance:  0.4628\n",
      "CHANGE:            0.8548\n",
      "\n",
      "Index: 31 | Title: Shichinin no samurai | Genre: Adventure\n",
      "Original distance: 1.3484\n",
      "Steered distance:  0.4799\n",
      "CHANGE:            0.8686\n",
      "\n",
      "Index: 97 | Title: Requiem for a Dream | Genre: Drama\n",
      "Original distance: 1.2981\n",
      "Steered distance:  0.4277\n",
      "CHANGE:            0.8704\n",
      "\n",
      "Average Steered Distance to Norway: 0.3867\n"
     ]
    }
   ],
   "source": [
    "layer_to_steer = 11\n",
    "steering_coefficient = 9\n",
    "feature = \"Norway\"\n",
    "normalize = True\n",
    "\n",
    "steering_vector = import_steering_vector_from_pkl('steering_vector.pkl', layer_to_steer=layer_to_steer, feature_name=feature)\n",
    "\n",
    "plot_distance_projection(model, encoded_input, original_embeddings, all_texts_data, layer_to_steer, steering_coefficient,\n",
    "                             steering_vector, feature, text_range=(0,100), type=\"l2\", normalize=normalize, print_differences=True, print_average=True)"
   ]
  },
  {
   "cell_type": "markdown",
   "metadata": {
    "id": "-qbdLLJQrPum"
   },
   "source": [
    "***\n",
    "\n",
    "## Plot with two vectors as axes"
   ]
  },
  {
   "cell_type": "markdown",
   "metadata": {
    "id": "o6aJ4rjmrPum"
   },
   "source": [
    "In `plot_2D_distance_projection` the x- and y- axes are vectors.  \n",
    "The x-axis is the steering vector, and the y-axis is another given feature-embedding vector, here called the *comparison vector*\n",
    "\n",
    "Input parameters are the same as the plot above, except now the `print_difference` measures the euclidian distance between the points on the 2D plane to find the most and least changed embeddings."
   ]
  },
  {
   "cell_type": "code",
   "execution_count": 12,
   "metadata": {
    "id": "1oU6TSJ4rPum",
    "outputId": "7aa538bc-cd09-4fdc-b89b-8048f1986ba9"
   },
   "outputs": [
    {
     "name": "stdout",
     "output_type": "stream",
     "text": [
      "Steering vectors imported from steering_vector.pkl\n",
      "Available steering vectors: 'War' (layers: [10, 11]), 'Norway' (layers: [11]), 'Love' (layers: [11])\n",
      "Returning steering vector for 'Norway' layer 11\n",
      "Steering vectors imported from steering_vector.pkl\n",
      "Available steering vectors: 'War' (layers: [10, 11]), 'Norway' (layers: [11]), 'Love' (layers: [11])\n",
      "Returning steering vector for 'Love' layer 11\n"
     ]
    },
    {
     "data": {
      "application/vnd.plotly.v1+json": {
       "config": {
        "plotlyServerURL": "https://plot.ly"
       },
       "data": [
        {
         "customdata": [
          [
           "Original | Serbuan maut | Thriller",
           "Thriller"
          ],
          [
           "Original | Die Welle | Thriller",
           "Thriller"
          ],
          [
           "Original | Saw | Thriller",
           "Thriller"
          ],
          [
           "Original | 21 Grams | Thriller",
           "Thriller"
          ],
          [
           "Original | The Butterfly Effect | Thriller",
           "Thriller"
          ],
          [
           "Original | Dark City | Thriller",
           "Thriller"
          ],
          [
           "Original | Lost Highway | Thriller",
           "Thriller"
          ],
          [
           "Original | Die Hard: With a Vengeance | Thriller",
           "Thriller"
          ],
          [
           "Original | Blowup | Thriller",
           "Thriller"
          ]
         ],
         "hovertemplate": "Cluster=%{customdata[1]}<br>Type=Original<br>Distance to \"Norway\"=%{x}<br>Distance to \"Love\"=%{y}<br>Title=%{customdata[0]}<extra></extra>",
         "legendgroup": "Thriller, Original",
         "marker": {
          "color": "#636efa",
          "symbol": "circle"
         },
         "mode": "markers",
         "name": "Thriller, Original",
         "opacity": 0.3,
         "orientation": "v",
         "showlegend": false,
         "type": "scatter",
         "x": {
          "bdata": "AAAA2FtQ7D8AAAC8bhbtPwAAAOSVmu0/AAAA8K6A7D8AAAAk/0rtPwAAAJgTWuo/AAAAUNr+7D8AAAD8tcvuPwAAAOxFy+0/",
          "dtype": "f8"
         },
         "xaxis": "x",
         "y": {
          "bdata": "AAAAYLX/6z8AAADoeW/qPwAAAIhKwug/AAAAIFWS5z8AAABIsATpPwAAAHCxDuU/AAAAKMUK6z8AAADgwfLtPwAAAIjVYOw/",
          "dtype": "f8"
         },
         "yaxis": "y"
        },
        {
         "customdata": [
          [
           "Steered | Serbuan maut | Thriller",
           "Thriller"
          ],
          [
           "Steered | Die Welle | Thriller",
           "Thriller"
          ],
          [
           "Steered | Saw | Thriller",
           "Thriller"
          ],
          [
           "Steered | 21 Grams | Thriller",
           "Thriller"
          ],
          [
           "Steered | The Butterfly Effect | Thriller",
           "Thriller"
          ],
          [
           "Steered | Dark City | Thriller",
           "Thriller"
          ],
          [
           "Steered | Lost Highway | Thriller",
           "Thriller"
          ],
          [
           "Steered | Die Hard: With a Vengeance | Thriller",
           "Thriller"
          ],
          [
           "Steered | Blowup | Thriller",
           "Thriller"
          ]
         ],
         "hovertemplate": "Cluster=%{customdata[1]}<br>Type=Steered<br>Distance to \"Norway\"=%{x}<br>Distance to \"Love\"=%{y}<br>Title=%{customdata[0]}<extra></extra>",
         "legendgroup": "Thriller, Steered",
         "marker": {
          "color": "#636efa",
          "symbol": "diamond"
         },
         "mode": "markers",
         "name": "Thriller, Steered",
         "opacity": 1,
         "orientation": "v",
         "showlegend": true,
         "type": "scatter",
         "x": {
          "bdata": "AAAAgDSS1D8AAABAfNDTPwAAAIBDBNQ/AAAAwJUl1D8AAADAvizTPwAAAAA5BdM/AAAAgKRq1T8AAAAAAAHWPwAAAMCbnNc/",
          "dtype": "f8"
         },
         "xaxis": "x",
         "y": {
          "bdata": "AAAAUCBp4D8AAACAzVbdPwAAAEAYhNo/AAAAwEjj2T8AAACA18LaPwAAAADKsdc/AAAAQJo83z8AAABAnRbhPwAAAABu5OA/",
          "dtype": "f8"
         },
         "yaxis": "y"
        },
        {
         "customdata": [
          [
           "Original | End of Watch | Crime",
           "Crime"
          ],
          [
           "Original | Despicable Me | Crime",
           "Crime"
          ],
          [
           "Original | Celda 211 | Crime",
           "Crime"
          ],
          [
           "Original | Eastern Promises | Crime",
           "Crime"
          ],
          [
           "Original | Inside Man | Crime",
           "Crime"
          ],
          [
           "Original | Gone Baby Gone | Crime",
           "Crime"
          ],
          [
           "Original | Dead Man's Shoes | Crime",
           "Crime"
          ],
          [
           "Original | Boksuneun naui geot | Crime",
           "Crime"
          ],
          [
           "Original | Minority Report | Crime",
           "Crime"
          ],
          [
           "Original | American Psycho | Crime",
           "Crime"
          ],
          [
           "Original | Sleepers | Crime",
           "Crime"
          ],
          [
           "Original | Falling Down | Crime",
           "Crime"
          ],
          [
           "Original | My Cousin Vinny | Crime",
           "Crime"
          ],
          [
           "Original | The Godfather: Part III | Crime",
           "Crime"
          ],
          [
           "Original | The Naked Gun: From the Files of Police Squad! | Crime",
           "Crime"
          ],
          [
           "Original | Lethal Weapon | Crime",
           "Crime"
          ],
          [
           "Original | Blood Simple | Crime",
           "Crime"
          ],
          [
           "Original | The Warriors | Crime",
           "Crime"
          ],
          [
           "Original | Escape from Alcatraz | Crime",
           "Crime"
          ],
          [
           "Original | Midnight Express | Crime",
           "Crime"
          ],
          [
           "Original | The Long Goodbye | Crime",
           "Crime"
          ],
          [
           "Original | The 39 Steps | Crime",
           "Crime"
          ]
         ],
         "hovertemplate": "Cluster=%{customdata[1]}<br>Type=Original<br>Distance to \"Norway\"=%{x}<br>Distance to \"Love\"=%{y}<br>Title=%{customdata[0]}<extra></extra>",
         "legendgroup": "Crime, Original",
         "marker": {
          "color": "#EF553B",
          "symbol": "circle"
         },
         "mode": "markers",
         "name": "Crime, Original",
         "opacity": 0.3,
         "orientation": "v",
         "showlegend": false,
         "type": "scatter",
         "x": {
          "bdata": "AAAAqHq56z8AAADUB7HsPwAAAEh/Q+0/AAAAfLAx7j8AAACSJqvuPwAAAG77Je4/AACAFfbq7z8AAABk32PwPwAAAAoJeu4/AAAAnK797T8AAAAYdOPsPwAAAFhH8+0/AAAAtRs27z8AAACYLuDtPwAAAAjlIe4/AAAA4jUS7j8AAADwIZ7qPwAAAFgml+o/AAAAQJiZ7T8AAACctPfuPwAAAAYZYe4/AAAAcBVC6z8=",
          "dtype": "f8"
         },
         "xaxis": "x",
         "y": {
          "bdata": "AAAAwMMz6T8AAABAnYzlPwAAABA4tuk/AAAAOIwU6z8AAADI95XpPwAAABgvhug/AAAAENTK6j8AAABALMPsPwAAABheW+s/AAAAyMJC6j8AAAAYWqjqPwAAAEDmM+w/AAAA7Gcr7T8AAABA+jLpPwAAAGg6cuw/AAAAcNw46T8AAADAWD/nPwAAAIAEmOk/AAAACDkZ7D8AAADc9CTuPwAAAIC/YOg/AAAAoGKC6T8=",
          "dtype": "f8"
         },
         "yaxis": "y"
        },
        {
         "customdata": [
          [
           "Steered | End of Watch | Crime",
           "Crime"
          ],
          [
           "Steered | Despicable Me | Crime",
           "Crime"
          ],
          [
           "Steered | Celda 211 | Crime",
           "Crime"
          ],
          [
           "Steered | Eastern Promises | Crime",
           "Crime"
          ],
          [
           "Steered | Inside Man | Crime",
           "Crime"
          ],
          [
           "Steered | Gone Baby Gone | Crime",
           "Crime"
          ],
          [
           "Steered | Dead Man's Shoes | Crime",
           "Crime"
          ],
          [
           "Steered | Boksuneun naui geot | Crime",
           "Crime"
          ],
          [
           "Steered | Minority Report | Crime",
           "Crime"
          ],
          [
           "Steered | American Psycho | Crime",
           "Crime"
          ],
          [
           "Steered | Sleepers | Crime",
           "Crime"
          ],
          [
           "Steered | Falling Down | Crime",
           "Crime"
          ],
          [
           "Steered | My Cousin Vinny | Crime",
           "Crime"
          ],
          [
           "Steered | The Godfather: Part III | Crime",
           "Crime"
          ],
          [
           "Steered | The Naked Gun: From the Files of Police Squad! | Crime",
           "Crime"
          ],
          [
           "Steered | Lethal Weapon | Crime",
           "Crime"
          ],
          [
           "Steered | Blood Simple | Crime",
           "Crime"
          ],
          [
           "Steered | The Warriors | Crime",
           "Crime"
          ],
          [
           "Steered | Escape from Alcatraz | Crime",
           "Crime"
          ],
          [
           "Steered | Midnight Express | Crime",
           "Crime"
          ],
          [
           "Steered | The Long Goodbye | Crime",
           "Crime"
          ],
          [
           "Steered | The 39 Steps | Crime",
           "Crime"
          ]
         ],
         "hovertemplate": "Cluster=%{customdata[1]}<br>Type=Steered<br>Distance to \"Norway\"=%{x}<br>Distance to \"Love\"=%{y}<br>Title=%{customdata[0]}<extra></extra>",
         "legendgroup": "Crime, Steered",
         "marker": {
          "color": "#EF553B",
          "symbol": "diamond"
         },
         "mode": "markers",
         "name": "Crime, Steered",
         "opacity": 1,
         "orientation": "v",
         "showlegend": true,
         "type": "scatter",
         "x": {
          "bdata": "AAAAAPVL1D8AAADAw1PTPwAAAADCYtQ/AAAAQL3k1z8AAABA7iPVPwAAAADK0Nc/AAAAQDe91z8AAAAA3d/XPwAAAAB6TNc/AAAAwMdm0z8AAAAAmbnTPwAAAAAJnNc/AAAAgHNi1T8AAACAG9TXPwAAAMDASdo/AAAAgHRu2T8AAADAgunSPwAAAMDejdI/AAAAgMCf1D8AAACAmTXbPwAAAIArAdk/AAAAgO0A1D8=",
          "dtype": "f8"
         },
         "xaxis": "x",
         "y": {
          "bdata": "AAAAgMkZ3T8AAABA7mfWPwAAAADhbNw/AAAAAIOE3z8AAAAAwkXbPwAAAMDTiNs/AAAAgFg13T8AAABAc3TfPwAAAIBoUd8/AAAAAKYB3D8AAABAAs3dPwAAAEDIrOA/AAAAwB4b4D8AAACAQt/cPwAAAAA7luE/AAAAwDmP3T8AAAAApY/aPwAAAMBOwt0/AAAAAJS/3z8AAACAm87iPwAAAECPq9s/AAAAgK3V3T8=",
          "dtype": "f8"
         },
         "yaxis": "y"
        },
        {
         "customdata": [
          [
           "Original | Kari-gurashi no Arietti | Family",
           "Family"
          ],
          [
           "Original | Finding Neverland | Family",
           "Family"
          ],
          [
           "Original | Mulan | Family",
           "Family"
          ],
          [
           "Original | Home Alone | Family",
           "Family"
          ]
         ],
         "hovertemplate": "Cluster=%{customdata[1]}<br>Type=Original<br>Distance to \"Norway\"=%{x}<br>Distance to \"Love\"=%{y}<br>Title=%{customdata[0]}<extra></extra>",
         "legendgroup": "Family, Original",
         "marker": {
          "color": "#00cc96",
          "symbol": "circle"
         },
         "mode": "markers",
         "name": "Family, Original",
         "opacity": 0.3,
         "orientation": "v",
         "showlegend": false,
         "type": "scatter",
         "x": {
          "bdata": "AAAAtEA/7D8AAACgVFjtPwAAAAwNTu0/AAAAsgYV7j8=",
          "dtype": "f8"
         },
         "xaxis": "x",
         "y": {
          "bdata": "AAAA6PlI6j8AAACgE+rpPwAAAHA/qeY/AAAAYI386z8=",
          "dtype": "f8"
         },
         "yaxis": "y"
        },
        {
         "customdata": [
          [
           "Steered | Kari-gurashi no Arietti | Family",
           "Family"
          ],
          [
           "Steered | Finding Neverland | Family",
           "Family"
          ],
          [
           "Steered | Mulan | Family",
           "Family"
          ],
          [
           "Steered | Home Alone | Family",
           "Family"
          ]
         ],
         "hovertemplate": "Cluster=%{customdata[1]}<br>Type=Steered<br>Distance to \"Norway\"=%{x}<br>Distance to \"Love\"=%{y}<br>Title=%{customdata[0]}<extra></extra>",
         "legendgroup": "Family, Steered",
         "marker": {
          "color": "#00cc96",
          "symbol": "diamond"
         },
         "mode": "markers",
         "name": "Family, Steered",
         "opacity": 1,
         "orientation": "v",
         "showlegend": true,
         "type": "scatter",
         "x": {
          "bdata": "AAAAACVv0T8AAABAnsfYPwAAAAA+2tU/AAAAgPaK1T8=",
          "dtype": "f8"
         },
         "xaxis": "x",
         "y": {
          "bdata": "AAAAgEeU3D8AAABAtQ/fPwAAAIAekdg/AAAAQICn3z8=",
          "dtype": "f8"
         },
         "yaxis": "y"
        },
        {
         "customdata": [
          [
           "Original | A Star Is Born | Music",
           "Music"
          ],
          [
           "Original | A Hard Day's Night | Music",
           "Music"
          ]
         ],
         "hovertemplate": "Cluster=%{customdata[1]}<br>Type=Original<br>Distance to \"Norway\"=%{x}<br>Distance to \"Love\"=%{y}<br>Title=%{customdata[0]}<extra></extra>",
         "legendgroup": "Music, Original",
         "marker": {
          "color": "#ab63fa",
          "symbol": "circle"
         },
         "mode": "markers",
         "name": "Music, Original",
         "opacity": 0.3,
         "orientation": "v",
         "showlegend": false,
         "type": "scatter",
         "x": {
          "bdata": "AAAAFB2W7T8AAACWs1buPw==",
          "dtype": "f8"
         },
         "xaxis": "x",
         "y": {
          "bdata": "AAAAsGH85z8AAADw0qDpPw==",
          "dtype": "f8"
         },
         "yaxis": "y"
        },
        {
         "customdata": [
          [
           "Steered | A Star Is Born | Music",
           "Music"
          ],
          [
           "Steered | A Hard Day's Night | Music",
           "Music"
          ]
         ],
         "hovertemplate": "Cluster=%{customdata[1]}<br>Type=Steered<br>Distance to \"Norway\"=%{x}<br>Distance to \"Love\"=%{y}<br>Title=%{customdata[0]}<extra></extra>",
         "legendgroup": "Music, Steered",
         "marker": {
          "color": "#ab63fa",
          "symbol": "diamond"
         },
         "mode": "markers",
         "name": "Music, Steered",
         "opacity": 1,
         "orientation": "v",
         "showlegend": true,
         "type": "scatter",
         "x": {
          "bdata": "AAAAgGEV2D8AAAAANfvUPw==",
          "dtype": "f8"
         },
         "xaxis": "x",
         "y": {
          "bdata": "AAAAQL1m2z8AAABAa5PbPw==",
          "dtype": "f8"
         },
         "yaxis": "y"
        },
        {
         "customdata": [
          [
           "Original | True Grit | Western",
           "Western"
          ],
          [
           "Original | Giant | Western",
           "Western"
          ]
         ],
         "hovertemplate": "Cluster=%{customdata[1]}<br>Type=Original<br>Distance to \"Norway\"=%{x}<br>Distance to \"Love\"=%{y}<br>Title=%{customdata[0]}<extra></extra>",
         "legendgroup": "Western, Original",
         "marker": {
          "color": "#FFA15A",
          "symbol": "circle"
         },
         "mode": "markers",
         "name": "Western, Original",
         "opacity": 0.3,
         "orientation": "v",
         "showlegend": false,
         "type": "scatter",
         "x": {
          "bdata": "AAAAuPFu7z8AAAAA3XDrPw==",
          "dtype": "f8"
         },
         "xaxis": "x",
         "y": {
          "bdata": "AAAA2BmE7D8AAABYsGbqPw==",
          "dtype": "f8"
         },
         "yaxis": "y"
        },
        {
         "customdata": [
          [
           "Steered | True Grit | Western",
           "Western"
          ],
          [
           "Steered | Giant | Western",
           "Western"
          ]
         ],
         "hovertemplate": "Cluster=%{customdata[1]}<br>Type=Steered<br>Distance to \"Norway\"=%{x}<br>Distance to \"Love\"=%{y}<br>Title=%{customdata[0]}<extra></extra>",
         "legendgroup": "Western, Steered",
         "marker": {
          "color": "#FFA15A",
          "symbol": "diamond"
         },
         "mode": "markers",
         "name": "Western, Steered",
         "opacity": 1,
         "orientation": "v",
         "showlegend": true,
         "type": "scatter",
         "x": {
          "bdata": "AAAAQMyA2j8AAACAz8nXPw==",
          "dtype": "f8"
         },
         "xaxis": "x",
         "y": {
          "bdata": "AAAAoMMC4T8AAADA85vgPw==",
          "dtype": "f8"
         },
         "yaxis": "y"
        },
        {
         "customdata": [
          [
           "Original | Hævnen | Romance",
           "Romance"
          ],
          [
           "Original | The Bridges of Madison County | Romance",
           "Romance"
          ],
          [
           "Original | Trois couleurs: Blanc | Romance",
           "Romance"
          ],
          [
           "Original | When Harry Met Sally... | Romance",
           "Romance"
          ],
          [
           "Original | Breakfast at Tiffany's | Romance",
           "Romance"
          ]
         ],
         "hovertemplate": "Cluster=%{customdata[1]}<br>Type=Original<br>Distance to \"Norway\"=%{x}<br>Distance to \"Love\"=%{y}<br>Title=%{customdata[0]}<extra></extra>",
         "legendgroup": "Romance, Original",
         "marker": {
          "color": "#19d3f3",
          "symbol": "circle"
         },
         "mode": "markers",
         "name": "Romance, Original",
         "opacity": 0.3,
         "orientation": "v",
         "showlegend": false,
         "type": "scatter",
         "x": {
          "bdata": "AAAAAJy26D8AAAB4zfXrPwAAAPixLew/AAAA5z1D7z8AAADwNeLtPw==",
          "dtype": "f8"
         },
         "xaxis": "x",
         "y": {
          "bdata": "AAAAADtx4z8AAAAAe7bpPwAAALD2U+Y/AAAAaDNp6D8AAABw3JDnPw==",
          "dtype": "f8"
         },
         "yaxis": "y"
        },
        {
         "customdata": [
          [
           "Steered | Hævnen | Romance",
           "Romance"
          ],
          [
           "Steered | The Bridges of Madison County | Romance",
           "Romance"
          ],
          [
           "Steered | Trois couleurs: Blanc | Romance",
           "Romance"
          ],
          [
           "Steered | When Harry Met Sally... | Romance",
           "Romance"
          ],
          [
           "Steered | Breakfast at Tiffany's | Romance",
           "Romance"
          ]
         ],
         "hovertemplate": "Cluster=%{customdata[1]}<br>Type=Steered<br>Distance to \"Norway\"=%{x}<br>Distance to \"Love\"=%{y}<br>Title=%{customdata[0]}<extra></extra>",
         "legendgroup": "Romance, Steered",
         "marker": {
          "color": "#19d3f3",
          "symbol": "diamond"
         },
         "mode": "markers",
         "name": "Romance, Steered",
         "opacity": 1,
         "orientation": "v",
         "showlegend": true,
         "type": "scatter",
         "x": {
          "bdata": "AAAAgDJVzz8AAADAzMbWPwAAAAAYgdk/AAAAAB0S2T8AAAAAipvUPw==",
          "dtype": "f8"
         },
         "xaxis": "x",
         "y": {
          "bdata": "AAAAgP931T8AAABADwffPwAAAEBw69o/AAAAAHLV2j8AAABA1cjYPw==",
          "dtype": "f8"
         },
         "yaxis": "y"
        },
        {
         "customdata": [
          [
           "Original | 50/50 | Comedy",
           "Comedy"
          ],
          [
           "Original | Kick-Ass | Comedy",
           "Comedy"
          ],
          [
           "Original | The Station Agent | Comedy",
           "Comedy"
          ],
          [
           "Original | Dazed and Confused | Comedy",
           "Comedy"
          ],
          [
           "Original | Delicatessen | Comedy",
           "Comedy"
          ],
          [
           "Original | Planes, Trains & Automobiles | Comedy",
           "Comedy"
          ],
          [
           "Original | The Muppet Movie | Comedy",
           "Comedy"
          ]
         ],
         "hovertemplate": "Cluster=%{customdata[1]}<br>Type=Original<br>Distance to \"Norway\"=%{x}<br>Distance to \"Love\"=%{y}<br>Title=%{customdata[0]}<extra></extra>",
         "legendgroup": "Comedy, Original",
         "marker": {
          "color": "#FF6692",
          "symbol": "circle"
         },
         "mode": "markers",
         "name": "Comedy, Original",
         "opacity": 0.3,
         "orientation": "v",
         "showlegend": false,
         "type": "scatter",
         "x": {
          "bdata": "AAAANC2W7T8AAAAW8UTuPwAAALh9mOs/AAAA2O6R6z8AAADowZrrPwAAAABtIe0/AAAA696Z7z8=",
          "dtype": "f8"
         },
         "xaxis": "x",
         "y": {
          "bdata": "AAAAoJrR6z8AAABcdXbsPwAAAABB/uY/AAAA0AGT6z8AAADQGeLrPwAAACh1d+g/AAAAEDYp6z8=",
          "dtype": "f8"
         },
         "yaxis": "y"
        },
        {
         "customdata": [
          [
           "Steered | 50/50 | Comedy",
           "Comedy"
          ],
          [
           "Steered | Kick-Ass | Comedy",
           "Comedy"
          ],
          [
           "Steered | The Station Agent | Comedy",
           "Comedy"
          ],
          [
           "Steered | Dazed and Confused | Comedy",
           "Comedy"
          ],
          [
           "Steered | Delicatessen | Comedy",
           "Comedy"
          ],
          [
           "Steered | Planes, Trains & Automobiles | Comedy",
           "Comedy"
          ],
          [
           "Steered | The Muppet Movie | Comedy",
           "Comedy"
          ]
         ],
         "hovertemplate": "Cluster=%{customdata[1]}<br>Type=Steered<br>Distance to \"Norway\"=%{x}<br>Distance to \"Love\"=%{y}<br>Title=%{customdata[0]}<extra></extra>",
         "legendgroup": "Comedy, Steered",
         "marker": {
          "color": "#FF6692",
          "symbol": "diamond"
         },
         "mode": "markers",
         "name": "Comedy, Steered",
         "opacity": 1,
         "orientation": "v",
         "showlegend": true,
         "type": "scatter",
         "x": {
          "bdata": "AAAAAOg41T8AAACAqgzTPwAAAMC8CdE/AAAAgMuF1z8AAAAA2jzWPwAAAAAnxdQ/AAAAwKri2T8=",
          "dtype": "f8"
         },
         "xaxis": "x",
         "y": {
          "bdata": "AAAAwOaz3z8AAAAAzbLePwAAAIDwbNg/AAAAIIxh4T8AAAAQpTLhPwAAAECG6to/AAAAgG9M3z8=",
          "dtype": "f8"
         },
         "yaxis": "y"
        },
        {
         "customdata": [
          [
           "Original | Moneyball | Biography",
           "Biography"
          ],
          [
           "Original | The Blind Side | Biography",
           "Biography"
          ],
          [
           "Original | La Vie En Rose | Biography",
           "Biography"
          ],
          [
           "Original | Huo Yuan Jia | Biography",
           "Biography"
          ],
          [
           "Original | Blow | Biography",
           "Biography"
          ],
          [
           "Original | The Hurricane | Biography",
           "Biography"
          ]
         ],
         "hovertemplate": "Cluster=%{customdata[1]}<br>Type=Original<br>Distance to \"Norway\"=%{x}<br>Distance to \"Love\"=%{y}<br>Title=%{customdata[0]}<extra></extra>",
         "legendgroup": "Biography, Original",
         "marker": {
          "color": "#B6E880",
          "symbol": "circle"
         },
         "mode": "markers",
         "name": "Biography, Original",
         "opacity": 0.3,
         "orientation": "v",
         "showlegend": false,
         "type": "scatter",
         "x": {
          "bdata": "AAAAzIBg7j8AAADqzAHuPwAAAGAWUe0/AAAAKHTp7T8AAADMKTzsPwAAAKR63+0/",
          "dtype": "f8"
         },
         "xaxis": "x",
         "y": {
          "bdata": "AAAApuas7j8AAABwMm/rPwAAABAZlus/AAAALGCK7T8AAAA8GcfsPwAAAAAm0es/",
          "dtype": "f8"
         },
         "yaxis": "y"
        },
        {
         "customdata": [
          [
           "Steered | Moneyball | Biography",
           "Biography"
          ],
          [
           "Steered | The Blind Side | Biography",
           "Biography"
          ],
          [
           "Steered | La Vie En Rose | Biography",
           "Biography"
          ],
          [
           "Steered | Huo Yuan Jia | Biography",
           "Biography"
          ],
          [
           "Steered | Blow | Biography",
           "Biography"
          ],
          [
           "Steered | The Hurricane | Biography",
           "Biography"
          ]
         ],
         "hovertemplate": "Cluster=%{customdata[1]}<br>Type=Steered<br>Distance to \"Norway\"=%{x}<br>Distance to \"Love\"=%{y}<br>Title=%{customdata[0]}<extra></extra>",
         "legendgroup": "Biography, Steered",
         "marker": {
          "color": "#B6E880",
          "symbol": "diamond"
         },
         "mode": "markers",
         "name": "Biography, Steered",
         "opacity": 1,
         "orientation": "v",
         "showlegend": true,
         "type": "scatter",
         "x": {
          "bdata": "AAAAgCbR1T8AAAAA8JfWPwAAAICHw9A/AAAAgHXm2D8AAACAN4vVPwAAAAAl8Nk/",
          "dtype": "f8"
         },
         "xaxis": "x",
         "y": {
          "bdata": "AAAAAD/J4T8AAABA0YHfPwAAAIAZBd0/AAAAYI4l4j8AAAAgu1bhPwAAALBgHOE/",
          "dtype": "f8"
         },
         "yaxis": "y"
        },
        {
         "customdata": [
          [
           "Original | La piel que habito | Horror",
           "Horror"
          ],
          [
           "Original | 28 Days Later... | Horror",
           "Horror"
          ],
          [
           "Original | The Others | Horror",
           "Horror"
          ]
         ],
         "hovertemplate": "Cluster=%{customdata[1]}<br>Type=Original<br>Distance to \"Norway\"=%{x}<br>Distance to \"Love\"=%{y}<br>Title=%{customdata[0]}<extra></extra>",
         "legendgroup": "Horror, Original",
         "marker": {
          "color": "#FF97FF",
          "symbol": "circle"
         },
         "mode": "markers",
         "name": "Horror, Original",
         "opacity": 0.3,
         "orientation": "v",
         "showlegend": false,
         "type": "scatter",
         "x": {
          "bdata": "AAAA0F7q7T8AAAAEFpvsPwAAADTuqew/",
          "dtype": "f8"
         },
         "xaxis": "x",
         "y": {
          "bdata": "AAAAaIiY7D8AAADokyfrPwAAABgEcOo/",
          "dtype": "f8"
         },
         "yaxis": "y"
        },
        {
         "customdata": [
          [
           "Steered | La piel que habito | Horror",
           "Horror"
          ],
          [
           "Steered | 28 Days Later... | Horror",
           "Horror"
          ],
          [
           "Steered | The Others | Horror",
           "Horror"
          ]
         ],
         "hovertemplate": "Cluster=%{customdata[1]}<br>Type=Steered<br>Distance to \"Norway\"=%{x}<br>Distance to \"Love\"=%{y}<br>Title=%{customdata[0]}<extra></extra>",
         "legendgroup": "Horror, Steered",
         "marker": {
          "color": "#FF97FF",
          "symbol": "diamond"
         },
         "mode": "markers",
         "name": "Horror, Steered",
         "opacity": 1,
         "orientation": "v",
         "showlegend": true,
         "type": "scatter",
         "x": {
          "bdata": "AAAAQHf90z8AAADAhsvWPwAAAIBod9g/",
          "dtype": "f8"
         },
         "xaxis": "x",
         "y": {
          "bdata": "AAAAAEHK3z8AAACA/E3gPwAAAJBLNeA/",
          "dtype": "f8"
         },
         "yaxis": "y"
        },
        {
         "customdata": [
          [
           "Original | Zombieland | Adventure",
           "Adventure"
          ],
          [
           "Original | The Secret of Kells | Adventure",
           "Adventure"
          ],
          [
           "Original | Harry Potter and the Half-Blood Prince | Adventure",
           "Adventure"
          ],
          [
           "Original | Harry Potter and the Sorcerer's Stone | Adventure",
           "Adventure"
          ],
          [
           "Original | Fear and Loathing in Las Vegas | Adventure",
           "Adventure"
          ],
          [
           "Original | Dead Man | Adventure",
           "Adventure"
          ],
          [
           "Original | Apollo 13 | Adventure",
           "Adventure"
          ],
          [
           "Original | Mad Max 2 | Adventure",
           "Adventure"
          ],
          [
           "Original | Watership Down | Adventure",
           "Adventure"
          ],
          [
           "Original | The Jungle Book | Adventure",
           "Adventure"
          ]
         ],
         "hovertemplate": "Cluster=%{customdata[1]}<br>Type=Original<br>Distance to \"Norway\"=%{x}<br>Distance to \"Love\"=%{y}<br>Title=%{customdata[0]}<extra></extra>",
         "legendgroup": "Adventure, Original",
         "marker": {
          "color": "#FECB52",
          "symbol": "circle"
         },
         "mode": "markers",
         "name": "Adventure, Original",
         "opacity": 0.3,
         "orientation": "v",
         "showlegend": false,
         "type": "scatter",
         "x": {
          "bdata": "AAAAsFJb7D8AAABY4b3rPwAAACi25uw/AAAAHL357T8AAAAqsGHuPwAAAGTp6+w/AACAFuUv8D8AAADQiA7qPwAAAOyhT+w/AAAAnCHk7D8=",
          "dtype": "f8"
         },
         "xaxis": "x",
         "y": {
          "bdata": "AAAAYJVR6j8AAAAgqOzrPwAAAKgCAOs/AAAA0A3e7D8AAAAIBX7rPwAAAEgBZOo/AAAA5BCV7T8AAAC4qODqPwAAAPC5Meo/AAAAeLuC6T8=",
          "dtype": "f8"
         },
         "yaxis": "y"
        },
        {
         "customdata": [
          [
           "Steered | Zombieland | Adventure",
           "Adventure"
          ],
          [
           "Steered | The Secret of Kells | Adventure",
           "Adventure"
          ],
          [
           "Steered | Harry Potter and the Half-Blood Prince | Adventure",
           "Adventure"
          ],
          [
           "Steered | Harry Potter and the Sorcerer's Stone | Adventure",
           "Adventure"
          ],
          [
           "Steered | Fear and Loathing in Las Vegas | Adventure",
           "Adventure"
          ],
          [
           "Steered | Dead Man | Adventure",
           "Adventure"
          ],
          [
           "Steered | Apollo 13 | Adventure",
           "Adventure"
          ],
          [
           "Steered | Mad Max 2 | Adventure",
           "Adventure"
          ],
          [
           "Steered | Watership Down | Adventure",
           "Adventure"
          ],
          [
           "Steered | The Jungle Book | Adventure",
           "Adventure"
          ]
         ],
         "hovertemplate": "Cluster=%{customdata[1]}<br>Type=Steered<br>Distance to \"Norway\"=%{x}<br>Distance to \"Love\"=%{y}<br>Title=%{customdata[0]}<extra></extra>",
         "legendgroup": "Adventure, Steered",
         "marker": {
          "color": "#FECB52",
          "symbol": "diamond"
         },
         "mode": "markers",
         "name": "Adventure, Steered",
         "opacity": 1,
         "orientation": "v",
         "showlegend": true,
         "type": "scatter",
         "x": {
          "bdata": "AAAAwC5k0D8AAAAAvK7RPwAAAIBHL9Q/AAAAwPNk1j8AAAAAq/3YPwAAAIA97NU/AAAAQApy2j8AAABAxVXSPwAAAMD6DtM/AAAAwC281z8=",
          "dtype": "f8"
         },
         "xaxis": "x",
         "y": {
          "bdata": "AAAAgPzy2z8AAAAAxHXfPwAAAAAVjd4/AAAAcITN4D8AAADQck3gPwAAAMCGnt4/AAAAAL9Z4T8AAABAMfXfPwAAAIAiTd0/AAAAAJpP3j8=",
          "dtype": "f8"
         },
         "yaxis": "y"
        },
        {
         "customdata": [
          [
           "Original | Sherlock Holmes | Mystery",
           "Mystery"
          ],
          [
           "Original | Watchmen | Mystery",
           "Mystery"
          ],
          [
           "Original | Un long dimanche de fiançailles | Mystery",
           "Mystery"
          ]
         ],
         "hovertemplate": "Cluster=%{customdata[1]}<br>Type=Original<br>Distance to \"Norway\"=%{x}<br>Distance to \"Love\"=%{y}<br>Title=%{customdata[0]}<extra></extra>",
         "legendgroup": "Mystery, Original",
         "marker": {
          "color": "#636efa",
          "symbol": "circle"
         },
         "mode": "markers",
         "name": "Mystery, Original",
         "opacity": 0.3,
         "orientation": "v",
         "showlegend": false,
         "type": "scatter",
         "x": {
          "bdata": "AAAAbMLI7D8AAAC0Gz3sPwAAAEAHPOk/",
          "dtype": "f8"
         },
         "xaxis": "x",
         "y": {
          "bdata": "AAAA8KiF6D8AAAB4jq7pPwAAAEAeRuU/",
          "dtype": "f8"
         },
         "yaxis": "y"
        },
        {
         "customdata": [
          [
           "Steered | Sherlock Holmes | Mystery",
           "Mystery"
          ],
          [
           "Steered | Watchmen | Mystery",
           "Mystery"
          ],
          [
           "Steered | Un long dimanche de fiançailles | Mystery",
           "Mystery"
          ]
         ],
         "hovertemplate": "Cluster=%{customdata[1]}<br>Type=Steered<br>Distance to \"Norway\"=%{x}<br>Distance to \"Love\"=%{y}<br>Title=%{customdata[0]}<extra></extra>",
         "legendgroup": "Mystery, Steered",
         "marker": {
          "color": "#636efa",
          "symbol": "diamond"
         },
         "mode": "markers",
         "name": "Mystery, Steered",
         "opacity": 1,
         "orientation": "v",
         "showlegend": true,
         "type": "scatter",
         "x": {
          "bdata": "AAAAQCDX1j8AAACAupjSPwAAAIBRFdQ/",
          "dtype": "f8"
         },
         "xaxis": "x",
         "y": {
          "bdata": "AAAAwFhn3D8AAABA42HcPwAAAIBbhdk/",
          "dtype": "f8"
         },
         "yaxis": "y"
        },
        {
         "customdata": [
          [
           "Original | The Visitor | Drama",
           "Drama"
          ],
          [
           "Original | Seven Pounds | Drama",
           "Drama"
          ],
          [
           "Original | 300 | Drama",
           "Drama"
          ],
          [
           "Original | Match Point | Drama",
           "Drama"
          ],
          [
           "Original | Lord of War | Drama",
           "Drama"
          ],
          [
           "Original | Synecdoche, New York | Drama",
           "Drama"
          ],
          [
           "Original | Mysterious Skin | Drama",
           "Drama"
          ],
          [
           "Original | Jeux d'enfants | Drama",
           "Drama"
          ],
          [
           "Original | 25th Hour | Drama",
           "Drama"
          ],
          [
           "Original | The Royal Tenenbaums | Drama",
           "Drama"
          ],
          [
           "Original | Y tu mamá también | Drama",
           "Drama"
          ],
          [
           "Original | Lola rennt | Drama",
           "Drama"
          ],
          [
           "Original | Funny Games | Drama",
           "Drama"
          ],
          [
           "Original | Sense and Sensibility | Drama",
           "Drama"
          ],
          [
           "Original | On Golden Pond | Drama",
           "Drama"
          ],
          [
           "Original | From Here to Eternity | Drama",
           "Drama"
          ]
         ],
         "hovertemplate": "Cluster=%{customdata[1]}<br>Type=Original<br>Distance to \"Norway\"=%{x}<br>Distance to \"Love\"=%{y}<br>Title=%{customdata[0]}<extra></extra>",
         "legendgroup": "Drama, Original",
         "marker": {
          "color": "#EF553B",
          "symbol": "circle"
         },
         "mode": "markers",
         "name": "Drama, Original",
         "opacity": 0.3,
         "orientation": "v",
         "showlegend": false,
         "type": "scatter",
         "x": {
          "bdata": "AAAA0Hd67T8AAAAISRrsPwAAABSqlew/AAAAYqMK7j8AAAD6HCLvPwAAADxtUe4/AAAAIEFH7j8AAACYjjXuPwAAgNWslO8/AAAA+Dro6j8AAAC0cBXsPwAAAEgblew/AAAAFHHJ7T8AAABAt63sPwAAACirYO0/AAAAyJXS7D8=",
          "dtype": "f8"
         },
         "xaxis": "x",
         "y": {
          "bdata": "AAAAkF3Q6D8AAADQiRboPwAAAIj99+4/AAAAYKBA5T8AAACY87nrPwAAAPhyl+o/AAAA0Nrr5z8AAADYnvboPwAAAODeZO0/AAAAUEfb5j8AAACwegnoPwAAALj/G+s/AAAAcCot6z8AAABorHTpPwAAALhiDeg/AAAAkKPo5z8=",
          "dtype": "f8"
         },
         "yaxis": "y"
        },
        {
         "customdata": [
          [
           "Steered | The Visitor | Drama",
           "Drama"
          ],
          [
           "Steered | Seven Pounds | Drama",
           "Drama"
          ],
          [
           "Steered | 300 | Drama",
           "Drama"
          ],
          [
           "Steered | Match Point | Drama",
           "Drama"
          ],
          [
           "Steered | Lord of War | Drama",
           "Drama"
          ],
          [
           "Steered | Synecdoche, New York | Drama",
           "Drama"
          ],
          [
           "Steered | Mysterious Skin | Drama",
           "Drama"
          ],
          [
           "Steered | Jeux d'enfants | Drama",
           "Drama"
          ],
          [
           "Steered | 25th Hour | Drama",
           "Drama"
          ],
          [
           "Steered | The Royal Tenenbaums | Drama",
           "Drama"
          ],
          [
           "Steered | Y tu mamá también | Drama",
           "Drama"
          ],
          [
           "Steered | Lola rennt | Drama",
           "Drama"
          ],
          [
           "Steered | Funny Games | Drama",
           "Drama"
          ],
          [
           "Steered | Sense and Sensibility | Drama",
           "Drama"
          ],
          [
           "Steered | On Golden Pond | Drama",
           "Drama"
          ],
          [
           "Steered | From Here to Eternity | Drama",
           "Drama"
          ]
         ],
         "hovertemplate": "Cluster=%{customdata[1]}<br>Type=Steered<br>Distance to \"Norway\"=%{x}<br>Distance to \"Love\"=%{y}<br>Title=%{customdata[0]}<extra></extra>",
         "legendgroup": "Drama, Steered",
         "marker": {
          "color": "#EF553B",
          "symbol": "diamond"
         },
         "mode": "markers",
         "name": "Drama, Steered",
         "opacity": 1,
         "orientation": "v",
         "showlegend": true,
         "type": "scatter",
         "x": {
          "bdata": "AAAAAFgU1z8AAABA3d7VPwAAAMDnedg/AAAAgFlY1D8AAABAdhbbPwAAAMCKMdU/AAAAgDGc1T8AAAAAW6LRPwAAAIBbFdY/AAAAwDrx1D8AAAAA2DnUPwAAAIA30dQ/AAAAAMNB1T8AAAAAoz/WPwAAAABO1tM/AAAAQFRU1D8=",
          "dtype": "f8"
         },
         "xaxis": "x",
         "y": {
          "bdata": "AAAAAIZI3D8AAAAAaOjbPwAAAPAY1uM/AAAAgIMf1T8AAACQxrPgPwAAAMDPI90/AAAAAD5m2T8AAADAbxbZPwAAAODvTOA/AAAAgIq72j8AAACAmgHbPwAAAIDyY98/AAAAwFmR3j8AAACAJp/dPwAAAMBHndk/AAAAwCgr2j8=",
          "dtype": "f8"
         },
         "yaxis": "y"
        },
        {
         "customdata": [
          [
           "Original | Stardust | Fantasy",
           "Fantasy"
          ],
          [
           "Original | The Illusionist | Fantasy",
           "Fantasy"
          ],
          [
           "Original | The Little Mermaid | Fantasy",
           "Fantasy"
          ]
         ],
         "hovertemplate": "Cluster=%{customdata[1]}<br>Type=Original<br>Distance to \"Norway\"=%{x}<br>Distance to \"Love\"=%{y}<br>Title=%{customdata[0]}<extra></extra>",
         "legendgroup": "Fantasy, Original",
         "marker": {
          "color": "#00cc96",
          "symbol": "circle"
         },
         "mode": "markers",
         "name": "Fantasy, Original",
         "opacity": 0.3,
         "orientation": "v",
         "showlegend": false,
         "type": "scatter",
         "x": {
          "bdata": "AAAAyIJ96j8AAAAIcovqPwAAAIR7zOw/",
          "dtype": "f8"
         },
         "xaxis": "x",
         "y": {
          "bdata": "AAAAuNKZ6T8AAADALdXmPwAAALioj+g/",
          "dtype": "f8"
         },
         "yaxis": "y"
        },
        {
         "customdata": [
          [
           "Steered | Stardust | Fantasy",
           "Fantasy"
          ],
          [
           "Steered | The Illusionist | Fantasy",
           "Fantasy"
          ],
          [
           "Steered | The Little Mermaid | Fantasy",
           "Fantasy"
          ]
         ],
         "hovertemplate": "Cluster=%{customdata[1]}<br>Type=Steered<br>Distance to \"Norway\"=%{x}<br>Distance to \"Love\"=%{y}<br>Title=%{customdata[0]}<extra></extra>",
         "legendgroup": "Fantasy, Steered",
         "marker": {
          "color": "#00cc96",
          "symbol": "diamond"
         },
         "mode": "markers",
         "name": "Fantasy, Steered",
         "opacity": 1,
         "orientation": "v",
         "showlegend": true,
         "type": "scatter",
         "x": {
          "bdata": "AAAAANtG0j8AAADApgPUPwAAAAAgrtk/",
          "dtype": "f8"
         },
         "xaxis": "x",
         "y": {
          "bdata": "AAAAQLiz3T8AAADAf5PaPwAAAICA9t0/",
          "dtype": "f8"
         },
         "yaxis": "y"
        },
        {
         "customdata": [
          [
           "Original | Batoru rowaiaru | Action",
           "Action"
          ]
         ],
         "hovertemplate": "Cluster=%{customdata[1]}<br>Type=Original<br>Distance to \"Norway\"=%{x}<br>Distance to \"Love\"=%{y}<br>Title=%{customdata[0]}<extra></extra>",
         "legendgroup": "Action, Original",
         "marker": {
          "color": "#ab63fa",
          "symbol": "circle"
         },
         "mode": "markers",
         "name": "Action, Original",
         "opacity": 0.3,
         "orientation": "v",
         "showlegend": false,
         "type": "scatter",
         "x": {
          "bdata": "AAAAMGRa7T8=",
          "dtype": "f8"
         },
         "xaxis": "x",
         "y": {
          "bdata": "AAAAyHYY6z8=",
          "dtype": "f8"
         },
         "yaxis": "y"
        },
        {
         "customdata": [
          [
           "Steered | Batoru rowaiaru | Action",
           "Action"
          ]
         ],
         "hovertemplate": "Cluster=%{customdata[1]}<br>Type=Steered<br>Distance to \"Norway\"=%{x}<br>Distance to \"Love\"=%{y}<br>Title=%{customdata[0]}<extra></extra>",
         "legendgroup": "Action, Steered",
         "marker": {
          "color": "#ab63fa",
          "symbol": "diamond"
         },
         "mode": "markers",
         "name": "Action, Steered",
         "opacity": 1,
         "orientation": "v",
         "showlegend": true,
         "type": "scatter",
         "x": {
          "bdata": "AAAAQNnF1T8=",
          "dtype": "f8"
         },
         "xaxis": "x",
         "y": {
          "bdata": "AAAAAL0r3z8=",
          "dtype": "f8"
         },
         "yaxis": "y"
        },
        {
         "customdata": [
          [
           "Original | Enemy at the Gates | War",
           "War"
          ],
          [
           "Original | The Thin Red Line | War",
           "War"
          ],
          [
           "Original | Giù la testa | War",
           "War"
          ],
          [
           "Original | Kelly's Heroes | War",
           "War"
          ],
          [
           "Original | Lifeboat | War",
           "War"
          ]
         ],
         "hovertemplate": "Cluster=%{customdata[1]}<br>Type=Original<br>Distance to \"Norway\"=%{x}<br>Distance to \"Love\"=%{y}<br>Title=%{customdata[0]}<extra></extra>",
         "legendgroup": "War, Original",
         "marker": {
          "color": "#FFA15A",
          "symbol": "circle"
         },
         "mode": "markers",
         "name": "War, Original",
         "opacity": 0.3,
         "orientation": "v",
         "showlegend": false,
         "type": "scatter",
         "x": {
          "bdata": "AAAAAKbI7T8AAAAImUHsPwAAAKh/Z+o/AAAA+Jmf7T8AAAAAz27tPw==",
          "dtype": "f8"
         },
         "xaxis": "x",
         "y": {
          "bdata": "AAAAGm3d7j8AAAA4jLDqPwAAADhp+eo/AAAAnhkb7j8AAADgNB3rPw==",
          "dtype": "f8"
         },
         "yaxis": "y"
        },
        {
         "customdata": [
          [
           "Steered | Enemy at the Gates | War",
           "War"
          ],
          [
           "Steered | The Thin Red Line | War",
           "War"
          ],
          [
           "Steered | Giù la testa | War",
           "War"
          ],
          [
           "Steered | Kelly's Heroes | War",
           "War"
          ],
          [
           "Steered | Lifeboat | War",
           "War"
          ]
         ],
         "hovertemplate": "Cluster=%{customdata[1]}<br>Type=Steered<br>Distance to \"Norway\"=%{x}<br>Distance to \"Love\"=%{y}<br>Title=%{customdata[0]}<extra></extra>",
         "legendgroup": "War, Steered",
         "marker": {
          "color": "#FFA15A",
          "symbol": "diamond"
         },
         "mode": "markers",
         "name": "War, Steered",
         "opacity": 1,
         "orientation": "v",
         "showlegend": true,
         "type": "scatter",
         "x": {
          "bdata": "AAAAALj92j8AAACAAZPWPwAAAED+jNQ/AAAAgDbM2D8AAADAOW/WPw==",
          "dtype": "f8"
         },
         "xaxis": "x",
         "y": {
          "bdata": "AAAAkAD44z8AAAAg1Q7gPwAAAPDKk+A/AAAAYK624j8AAACAtYDfPw==",
          "dtype": "f8"
         },
         "yaxis": "y"
        },
        {
         "customdata": [
          [
           "Original | Omohide poro poro | Animation",
           "Animation"
          ]
         ],
         "hovertemplate": "Cluster=%{customdata[1]}<br>Type=Original<br>Distance to \"Norway\"=%{x}<br>Distance to \"Love\"=%{y}<br>Title=%{customdata[0]}<extra></extra>",
         "legendgroup": "Animation, Original",
         "marker": {
          "color": "#19d3f3",
          "symbol": "circle"
         },
         "mode": "markers",
         "name": "Animation, Original",
         "opacity": 0.3,
         "orientation": "v",
         "showlegend": false,
         "type": "scatter",
         "x": {
          "bdata": "AAAA0N1i6z8=",
          "dtype": "f8"
         },
         "xaxis": "x",
         "y": {
          "bdata": "AAAAKJtH6T8=",
          "dtype": "f8"
         },
         "yaxis": "y"
        },
        {
         "customdata": [
          [
           "Steered | Omohide poro poro | Animation",
           "Animation"
          ]
         ],
         "hovertemplate": "Cluster=%{customdata[1]}<br>Type=Steered<br>Distance to \"Norway\"=%{x}<br>Distance to \"Love\"=%{y}<br>Title=%{customdata[0]}<extra></extra>",
         "legendgroup": "Animation, Steered",
         "marker": {
          "color": "#19d3f3",
          "symbol": "diamond"
         },
         "mode": "markers",
         "name": "Animation, Steered",
         "opacity": 1,
         "orientation": "v",
         "showlegend": true,
         "type": "scatter",
         "x": {
          "bdata": "AAAAAOg21T8=",
          "dtype": "f8"
         },
         "xaxis": "x",
         "y": {
          "bdata": "AAAAwFsN3j8=",
          "dtype": "f8"
         },
         "yaxis": "y"
        },
        {
         "customdata": [
          [
           "Original | Close Encounters of the Third Kind | Sci-Fi",
           "Sci-Fi"
          ]
         ],
         "hovertemplate": "Cluster=%{customdata[1]}<br>Type=Original<br>Distance to \"Norway\"=%{x}<br>Distance to \"Love\"=%{y}<br>Title=%{customdata[0]}<extra></extra>",
         "legendgroup": "Sci-Fi, Original",
         "marker": {
          "color": "#FF6692",
          "symbol": "circle"
         },
         "mode": "markers",
         "name": "Sci-Fi, Original",
         "opacity": 0.3,
         "orientation": "v",
         "showlegend": false,
         "type": "scatter",
         "x": {
          "bdata": "AAAAuKlI7D8=",
          "dtype": "f8"
         },
         "xaxis": "x",
         "y": {
          "bdata": "AAAAaK6X6z8=",
          "dtype": "f8"
         },
         "yaxis": "y"
        },
        {
         "customdata": [
          [
           "Steered | Close Encounters of the Third Kind | Sci-Fi",
           "Sci-Fi"
          ]
         ],
         "hovertemplate": "Cluster=%{customdata[1]}<br>Type=Steered<br>Distance to \"Norway\"=%{x}<br>Distance to \"Love\"=%{y}<br>Title=%{customdata[0]}<extra></extra>",
         "legendgroup": "Sci-Fi, Steered",
         "marker": {
          "color": "#FF6692",
          "symbol": "diamond"
         },
         "mode": "markers",
         "name": "Sci-Fi, Steered",
         "opacity": 1,
         "orientation": "v",
         "showlegend": true,
         "type": "scatter",
         "x": {
          "bdata": "AAAAAAES1T8=",
          "dtype": "f8"
         },
         "xaxis": "x",
         "y": {
          "bdata": "AAAAwORG4D8=",
          "dtype": "f8"
         },
         "yaxis": "y"
        },
        {
         "hoverinfo": "none",
         "line": {
          "color": "gray",
          "dash": "dot",
          "width": 1
         },
         "mode": "lines",
         "showlegend": false,
         "type": "scatter",
         "x": [
          0.8848094195127487,
          0.32142364978790283
         ],
         "y": [
          0.8749644160270691,
          0.5128327906131744
         ]
        },
        {
         "hoverinfo": "none",
         "line": {
          "color": "gray",
          "dash": "dot",
          "width": 1
         },
         "mode": "lines",
         "showlegend": false,
         "type": "scatter",
         "x": [
          0.8663914948701859,
          0.3171360492706299
         ],
         "y": [
          0.7875689268112183,
          0.45469892024993896
         ]
        },
        {
         "hoverinfo": "none",
         "line": {
          "color": "gray",
          "dash": "dot",
          "width": 1
         },
         "mode": "lines",
         "showlegend": false,
         "type": "scatter",
         "x": [
          0.8827212825417519,
          0.27240872383117676
         ],
         "y": [
          0.8214082270860672,
          0.44655025005340576
         ]
        },
        {
         "hoverinfo": "none",
         "line": {
          "color": "gray",
          "dash": "dot",
          "width": 1
         },
         "mode": "lines",
         "showlegend": false,
         "type": "scatter",
         "x": [
          0.9245744124054909,
          0.3763049840927124
         ],
         "y": [
          0.749558299779892,
          0.42814570665359497
         ]
        },
        {
         "hoverinfo": "none",
         "line": {
          "color": "gray",
          "dash": "dot",
          "width": 1
         },
         "mode": "lines",
         "showlegend": false,
         "type": "scatter",
         "x": [
          0.9822929948568344,
          0.4141111969947815
         ],
         "y": [
          0.8911256045103073,
          0.5315874218940735
         ]
        },
        {
         "hoverinfo": "none",
         "line": {
          "color": "gray",
          "dash": "dot",
          "width": 1
         },
         "mode": "lines",
         "showlegend": false,
         "type": "scatter",
         "x": [
          0.7722911834716797,
          0.24478751420974731
         ],
         "y": [
          0.607572078704834,
          0.33544909954071045
         ]
        },
        {
         "hoverinfo": "none",
         "line": {
          "color": "gray",
          "dash": "dot",
          "width": 1
         },
         "mode": "lines",
         "showlegend": false,
         "type": "scatter",
         "x": [
          0.8966101780533791,
          0.30198758840560913
         ],
         "y": [
          0.6734148263931274,
          0.35009342432022095
         ]
        },
        {
         "hoverinfo": "none",
         "line": {
          "color": "gray",
          "dash": "dot",
          "width": 1
         },
         "mode": "lines",
         "showlegend": false,
         "type": "scatter",
         "x": [
          0.9245821014046669,
          0.33159828186035156
         ],
         "y": [
          0.8693364262580872,
          0.4953553080558777
         ]
        },
        {
         "hoverinfo": "none",
         "line": {
          "color": "gray",
          "dash": "dot",
          "width": 1
         },
         "mode": "lines",
         "showlegend": false,
         "type": "scatter",
         "x": [
          0.9459157399833202,
          0.2976480722427368
         ],
         "y": [
          0.8894602581858635,
          0.4796631336212158
         ]
        },
        {
         "hoverinfo": "none",
         "line": {
          "color": "gray",
          "dash": "dot",
          "width": 1
         },
         "mode": "lines",
         "showlegend": false,
         "type": "scatter",
         "x": [
          0.9144894033670425,
          0.3185276985168457
         ],
         "y": [
          0.8034935295581818,
          0.44414544105529785
         ]
        },
        {
         "hoverinfo": "none",
         "line": {
          "color": "gray",
          "dash": "dot",
          "width": 1
         },
         "mode": "lines",
         "showlegend": false,
         "type": "scatter",
         "x": [
          0.9492801651358604,
          0.3408905267715454
         ],
         "y": [
          0.9586060754954815,
          0.5558161735534668
         ]
        },
        {
         "hoverinfo": "none",
         "line": {
          "color": "gray",
          "dash": "dot",
          "width": 1
         },
         "mode": "lines",
         "showlegend": false,
         "type": "scatter",
         "x": [
          0.9348596632480621,
          0.31234532594680786
         ],
         "y": [
          0.8936197310686111,
          0.4967195987701416
         ]
        },
        {
         "hoverinfo": "none",
         "line": {
          "color": "gray",
          "dash": "dot",
          "width": 1
         },
         "mode": "lines",
         "showlegend": false,
         "type": "scatter",
         "x": [
          0.8861478269100189,
          0.256114661693573
         ],
         "y": [
          0.8224589228630066,
          0.43670570850372314
         ]
        },
        {
         "hoverinfo": "none",
         "line": {
          "color": "gray",
          "dash": "dot",
          "width": 1
         },
         "mode": "lines",
         "showlegend": false,
         "type": "scatter",
         "x": [
          0.9089883491396904,
          0.30959993600845337
         ],
         "y": [
          0.8261079341173172,
          0.45842301845550537
         ]
        },
        {
         "hoverinfo": "none",
         "line": {
          "color": "gray",
          "dash": "dot",
          "width": 1
         },
         "mode": "lines",
         "showlegend": false,
         "type": "scatter",
         "x": [
          0.8995067700743675,
          0.356880247592926
         ],
         "y": [
          0.7663159072399139,
          0.44380778074264526
         ]
        },
        {
         "hoverinfo": "none",
         "line": {
          "color": "gray",
          "dash": "dot",
          "width": 1
         },
         "mode": "lines",
         "showlegend": false,
         "type": "scatter",
         "x": [
          0.9377197809517384,
          0.3530235290527344
         ],
         "y": [
          0.8573238551616669,
          0.492298424243927
         ]
        },
        {
         "hoverinfo": "none",
         "line": {
          "color": "gray",
          "dash": "dot",
          "width": 1
         },
         "mode": "lines",
         "showlegend": false,
         "type": "scatter",
         "x": [
          0.9211997091770172,
          0.36061668395996094
         ],
         "y": [
          0.7754352390766144,
          0.4419264793395996
         ]
        },
        {
         "hoverinfo": "none",
         "line": {
          "color": "gray",
          "dash": "dot",
          "width": 1
         },
         "mode": "lines",
         "showlegend": false,
         "type": "scatter",
         "x": [
          0.87820865213871,
          0.3417275547981262
         ],
         "y": [
          0.7527512609958649,
          0.43605995178222656
         ]
        },
        {
         "hoverinfo": "none",
         "line": {
          "color": "gray",
          "dash": "dot",
          "width": 1
         },
         "mode": "lines",
         "showlegend": false,
         "type": "scatter",
         "x": [
          0.9435655996203423,
          0.37333613634109497
         ],
         "y": [
          0.8462582677602768,
          0.4924628734588623
         ]
        },
        {
         "hoverinfo": "none",
         "line": {
          "color": "gray",
          "dash": "dot",
          "width": 1
         },
         "mode": "lines",
         "showlegend": false,
         "type": "scatter",
         "x": [
          0.8278211504220963,
          0.28557467460632324
         ],
         "y": [
          0.8000272363424301,
          0.46409422159194946
         ]
        },
        {
         "hoverinfo": "none",
         "line": {
          "color": "gray",
          "dash": "dot",
          "width": 1
         },
         "mode": "lines",
         "showlegend": false,
         "type": "scatter",
         "x": [
          0.8669287413358688,
          0.2762899398803711
         ],
         "y": [
          0.8726387619972229,
          0.4915628433227539
         ]
        },
        {
         "hoverinfo": "none",
         "line": {
          "color": "gray",
          "dash": "dot",
          "width": 1
         },
         "mode": "lines",
         "showlegend": false,
         "type": "scatter",
         "x": [
          0.9583924151957035,
          0.33031803369522095
         ],
         "y": [
          0.799556627869606,
          0.4261326789855957
         ]
        },
        {
         "hoverinfo": "none",
         "line": {
          "color": "gray",
          "dash": "dot",
          "width": 1
         },
         "mode": "lines",
         "showlegend": false,
         "type": "scatter",
         "x": [
          0.9421364925801754,
          0.3721184730529785
         ],
         "y": [
          0.7663798779249191,
          0.43022626638412476
         ]
        },
        {
         "hoverinfo": "none",
         "line": {
          "color": "gray",
          "dash": "dot",
          "width": 1
         },
         "mode": "lines",
         "showlegend": false,
         "type": "scatter",
         "x": [
          0.9161483645439148,
          0.26193416118621826
         ],
         "y": [
          0.8620724976062775,
          0.4534362554550171
         ]
        },
        {
         "hoverinfo": "none",
         "line": {
          "color": "gray",
          "dash": "dot",
          "width": 1
         },
         "mode": "lines",
         "showlegend": false,
         "type": "scatter",
         "x": [
          0.9347477704286575,
          0.38906610012054443
         ],
         "y": [
          0.9231415614485741,
          0.5670844912528992
         ]
        },
        {
         "hoverinfo": "none",
         "line": {
          "color": "gray",
          "dash": "dot",
          "width": 1
         },
         "mode": "lines",
         "showlegend": false,
         "type": "scatter",
         "x": [
          0.8295221477746964,
          0.3127228617668152
         ],
         "y": [
          0.7135227918624878,
          0.4152526259422302
         ]
        },
        {
         "hoverinfo": "none",
         "line": {
          "color": "gray",
          "dash": "dot",
          "width": 1
         },
         "mode": "lines",
         "showlegend": false,
         "type": "scatter",
         "x": [
          0.9974317951127887,
          0.37092381715774536
         ],
         "y": [
          0.8372593224048615,
          0.4563809633255005
         ]
        },
        {
         "hoverinfo": "none",
         "line": {
          "color": "gray",
          "dash": "dot",
          "width": 1
         },
         "mode": "lines",
         "showlegend": false,
         "type": "scatter",
         "x": [
          0.9031630307435989,
          0.31538569927215576
         ],
         "y": [
          0.8437512665987015,
          0.47736096382141113
         ]
        },
        {
         "hoverinfo": "none",
         "line": {
          "color": "gray",
          "dash": "dot",
          "width": 1
         },
         "mode": "lines",
         "showlegend": false,
         "type": "scatter",
         "x": [
          0.8932695761322975,
          0.3824405074119568
         ],
         "y": [
          0.9677722603082657,
          0.6198849380016327
         ]
        },
        {
         "hoverinfo": "none",
         "line": {
          "color": "gray",
          "dash": "dot",
          "width": 1
         },
         "mode": "lines",
         "showlegend": false,
         "type": "scatter",
         "x": [
          0.9387986101210117,
          0.3178924322128296
         ],
         "y": [
          0.6641389727592468,
          0.33004844188690186
         ]
        },
        {
         "hoverinfo": "none",
         "line": {
          "color": "gray",
          "dash": "dot",
          "width": 1
         },
         "mode": "lines",
         "showlegend": false,
         "type": "scatter",
         "x": [
          0.8824594989418983,
          0.29057180881500244
         ],
         "y": [
          0.8025581687688828,
          0.44347459077835083
         ]
        },
        {
         "hoverinfo": "none",
         "line": {
          "color": "gray",
          "dash": "dot",
          "width": 1
         },
         "mode": "lines",
         "showlegend": false,
         "type": "scatter",
         "x": [
          0.972914207726717,
          0.42324596643447876
         ],
         "y": [
          0.866449162364006,
          0.5219452679157257
         ]
        },
        {
         "hoverinfo": "none",
         "line": {
          "color": "gray",
          "dash": "dot",
          "width": 1
         },
         "mode": "lines",
         "showlegend": false,
         "type": "scatter",
         "x": [
          0.9251203015446663,
          0.31276023387908936
         ],
         "y": [
          0.7737171798944473,
          0.4143124222755432
         ]
        },
        {
         "hoverinfo": "none",
         "line": {
          "color": "gray",
          "dash": "dot",
          "width": 1
         },
         "mode": "lines",
         "showlegend": false,
         "type": "scatter",
         "x": [
          0.9474397823214531,
          0.33114880323410034
         ],
         "y": [
          0.8309874385595322,
          0.45531076192855835
         ]
        },
        {
         "hoverinfo": "none",
         "line": {
          "color": "gray",
          "dash": "dot",
          "width": 1
         },
         "mode": "lines",
         "showlegend": false,
         "type": "scatter",
         "x": [
          0.946198046207428,
          0.3376582860946655
         ],
         "y": [
          0.7475408613681793,
          0.3968653678894043
         ]
        },
        {
         "hoverinfo": "none",
         "line": {
          "color": "gray",
          "dash": "dot",
          "width": 1
         },
         "mode": "lines",
         "showlegend": false,
         "type": "scatter",
         "x": [
          0.9440377205610275,
          0.27553439140319824
         ],
         "y": [
          0.7801050394773483,
          0.3919944167137146
         ]
        },
        {
         "hoverinfo": "none",
         "line": {
          "color": "gray",
          "dash": "dot",
          "width": 1
         },
         "mode": "lines",
         "showlegend": false,
         "type": "scatter",
         "x": [
          0.788577675819397,
          0.3138011693954468
         ],
         "y": [
          0.6648093461990356,
          0.3987644910812378
         ]
        },
        {
         "hoverinfo": "none",
         "line": {
          "color": "gray",
          "dash": "dot",
          "width": 1
         },
         "mode": "lines",
         "showlegend": false,
         "type": "scatter",
         "x": [
          0.8623646348714828,
          0.2662193179130554
         ],
         "y": [
          0.7185368537902832,
          0.3816491365432739
         ]
        },
        {
         "hoverinfo": "none",
         "line": {
          "color": "gray",
          "dash": "dot",
          "width": 1
         },
         "mode": "lines",
         "showlegend": false,
         "type": "scatter",
         "x": [
          0.8907084167003632,
          0.31479400396347046
         ],
         "y": [
          0.736612856388092,
          0.40449732542037964
         ]
        },
        {
         "hoverinfo": "none",
         "line": {
          "color": "gray",
          "dash": "dot",
          "width": 1
         },
         "mode": "lines",
         "showlegend": false,
         "type": "scatter",
         "x": [
          1.0243829637765884,
          0.37303853034973145
         ],
         "y": [
          0.8988248109817505,
          0.49148255586624146
         ]
        },
        {
         "hoverinfo": "none",
         "line": {
          "color": "gray",
          "dash": "dot",
          "width": 1
         },
         "mode": "lines",
         "showlegend": false,
         "type": "scatter",
         "x": [
          0.9170325398445129,
          0.3871837258338928
         ],
         "y": [
          0.8098238110542297,
          0.48533374071121216
         ]
        },
        {
         "hoverinfo": "none",
         "line": {
          "color": "gray",
          "dash": "dot",
          "width": 1
         },
         "mode": "lines",
         "showlegend": false,
         "type": "scatter",
         "x": [
          0.9868988199159503,
          0.3450535535812378
         ],
         "y": [
          0.9185633063316345,
          0.509391725063324
         ]
        },
        {
         "hoverinfo": "none",
         "line": {
          "color": "gray",
          "dash": "dot",
          "width": 1
         },
         "mode": "lines",
         "showlegend": false,
         "type": "scatter",
         "x": [
          0.9154048636555672,
          0.2996060252189636
         ],
         "y": [
          0.7818223387002945,
          0.4181421995162964
         ]
        },
        {
         "hoverinfo": "none",
         "line": {
          "color": "gray",
          "dash": "dot",
          "width": 1
         },
         "mode": "lines",
         "showlegend": false,
         "type": "scatter",
         "x": [
          0.8939313963055611,
          0.35617226362228394
         ],
         "y": [
          0.8485812693834305,
          0.5095198154449463
         ]
        },
        {
         "hoverinfo": "none",
         "line": {
          "color": "gray",
          "dash": "dot",
          "width": 1
         },
         "mode": "lines",
         "showlegend": false,
         "type": "scatter",
         "x": [
          0.9172841012477875,
          0.3402007222175598
         ],
         "y": [
          0.8467363268136978,
          0.4870445728302002
         ]
        },
        {
         "hoverinfo": "none",
         "line": {
          "color": "gray",
          "dash": "dot",
          "width": 1
         },
         "mode": "lines",
         "showlegend": false,
         "type": "scatter",
         "x": [
          0.8408484309911728,
          0.3272234797477722
         ],
         "y": [
          0.7142674028873444,
          0.41769659519195557
         ]
        },
        {
         "hoverinfo": "none",
         "line": {
          "color": "gray",
          "dash": "dot",
          "width": 1
         },
         "mode": "lines",
         "showlegend": false,
         "type": "scatter",
         "x": [
          0.8776172176003456,
          0.31603050231933594
         ],
         "y": [
          0.751157134771347,
          0.4219728708267212
         ]
        },
        {
         "hoverinfo": "none",
         "line": {
          "color": "gray",
          "dash": "dot",
          "width": 1
         },
         "mode": "lines",
         "showlegend": false,
         "type": "scatter",
         "x": [
          0.9367356821894646,
          0.349911630153656
         ],
         "y": [
          0.9021061956882477,
          0.5250875651836395
         ]
        },
        {
         "hoverinfo": "none",
         "line": {
          "color": "gray",
          "dash": "dot",
          "width": 1
         },
         "mode": "lines",
         "showlegend": false,
         "type": "scatter",
         "x": [
          0.8957434669137001,
          0.3822880983352661
         ],
         "y": [
          0.8261738270521164,
          0.5065057575702667
         ]
        },
        {
         "hoverinfo": "none",
         "line": {
          "color": "gray",
          "dash": "dot",
          "width": 1
         },
         "mode": "lines",
         "showlegend": false,
         "type": "scatter",
         "x": [
          0.8823441490530968,
          0.33662211894989014
         ],
         "y": [
          0.899304024875164,
          0.5418372750282288
         ]
        },
        {
         "hoverinfo": "none",
         "line": {
          "color": "gray",
          "dash": "dot",
          "width": 1
         },
         "mode": "lines",
         "showlegend": false,
         "type": "scatter",
         "x": [
          0.9307432174682617,
          0.4217357635498047
         ],
         "y": [
          0.964529562741518,
          0.6240237057209015
         ]
        },
        {
         "hoverinfo": "none",
         "line": {
          "color": "gray",
          "dash": "dot",
          "width": 1
         },
         "mode": "lines",
         "showlegend": false,
         "type": "scatter",
         "x": [
          0.9523968882858753,
          0.3640427589416504
         ],
         "y": [
          0.8549032658338547,
          0.4893437623977661
         ]
        },
        {
         "hoverinfo": "none",
         "line": {
          "color": "gray",
          "dash": "dot",
          "width": 1
         },
         "mode": "lines",
         "showlegend": false,
         "type": "scatter",
         "x": [
          0.9335301592946053,
          0.40528225898742676
         ],
         "y": [
          0.8692808151245117,
          0.5347140729427338
         ]
        },
        {
         "hoverinfo": "none",
         "line": {
          "color": "gray",
          "dash": "dot",
          "width": 1
         },
         "mode": "lines",
         "showlegend": false,
         "type": "scatter",
         "x": [
          0.9372170493006706,
          0.30314821004867554
         ],
         "y": [
          0.8206495195627213,
          0.43760061264038086
         ]
        },
        {
         "hoverinfo": "none",
         "line": {
          "color": "gray",
          "dash": "dot",
          "width": 1
         },
         "mode": "lines",
         "showlegend": false,
         "type": "scatter",
         "x": [
          0.8932014852762222,
          0.32526957988739014
         ],
         "y": [
          0.8471678346395493,
          0.49047529697418213
         ]
        },
        {
         "hoverinfo": "none",
         "line": {
          "color": "gray",
          "dash": "dot",
          "width": 1
         },
         "mode": "lines",
         "showlegend": false,
         "type": "scatter",
         "x": [
          0.8830075412988663,
          0.35272252559661865
         ],
         "y": [
          0.8340512365102768,
          0.501810610294342
         ]
        },
        {
         "hoverinfo": "none",
         "line": {
          "color": "gray",
          "dash": "dot",
          "width": 1
         },
         "mode": "lines",
         "showlegend": false,
         "type": "scatter",
         "x": [
          0.9157777056097984,
          0.3414454460144043
         ],
         "y": [
          0.7081601321697235,
          0.3838573694229126
         ]
        },
        {
         "hoverinfo": "none",
         "line": {
          "color": "gray",
          "dash": "dot",
          "width": 1
         },
         "mode": "lines",
         "showlegend": false,
         "type": "scatter",
         "x": [
          0.94942482188344,
          0.39048266410827637
         ],
         "y": [
          0.8591332584619522,
          0.5094541609287262
         ]
        },
        {
         "hoverinfo": "none",
         "line": {
          "color": "gray",
          "dash": "dot",
          "width": 1
         },
         "mode": "lines",
         "showlegend": false,
         "type": "scatter",
         "x": [
          0.9308400526642799,
          0.3321387767791748
         ],
         "y": [
          0.8492633998394012,
          0.47762149572372437
         ]
        },
        {
         "hoverinfo": "none",
         "line": {
          "color": "gray",
          "dash": "dot",
          "width": 1
         },
         "mode": "lines",
         "showlegend": false,
         "type": "scatter",
         "x": [
          0.8234956711530685,
          0.2971937656402588
         ],
         "y": [
          0.6580435931682587,
          0.3702263832092285
         ]
        },
        {
         "hoverinfo": "none",
         "line": {
          "color": "gray",
          "dash": "dot",
          "width": 1
         },
         "mode": "lines",
         "showlegend": false,
         "type": "scatter",
         "x": [
          0.9027653187513351,
          0.30820298194885254
         ],
         "y": [
          0.8330507725477219,
          0.465637743473053
         ]
        },
        {
         "hoverinfo": "none",
         "line": {
          "color": "gray",
          "dash": "dot",
          "width": 1
         },
         "mode": "lines",
         "showlegend": false,
         "type": "scatter",
         "x": [
          0.9061099588871002,
          0.3346339464187622
         ],
         "y": [
          0.845064714550972,
          0.4880738854408264
         ]
        },
        {
         "hoverinfo": "none",
         "line": {
          "color": "gray",
          "dash": "dot",
          "width": 1
         },
         "mode": "lines",
         "showlegend": false,
         "type": "scatter",
         "x": [
          0.8962055444717407,
          0.34763407707214355
         ],
         "y": [
          0.7954923659563065,
          0.4628387689590454
         ]
        },
        {
         "hoverinfo": "none",
         "line": {
          "color": "gray",
          "dash": "dot",
          "width": 1
         },
         "mode": "lines",
         "showlegend": false,
         "type": "scatter",
         "x": [
          0.9623670503497124,
          0.34381103515625
         ],
         "y": [
          0.9358834624290466,
          0.5340105295181274
         ]
        },
        {
         "hoverinfo": "none",
         "line": {
          "color": "gray",
          "dash": "dot",
          "width": 1
         },
         "mode": "lines",
         "showlegend": false,
         "type": "scatter",
         "x": [
          0.9037978127598763,
          0.34254395961761475
         ],
         "y": [
          0.824707642197609,
          0.47842568159103394
         ]
        },
        {
         "hoverinfo": "none",
         "line": {
          "color": "gray",
          "dash": "dot",
          "width": 1
         },
         "mode": "lines",
         "showlegend": false,
         "type": "scatter",
         "x": [
          0.8737552016973495,
          0.35588377714157104
         ],
         "y": [
          0.803525447845459,
          0.4848058819770813
         ]
        },
        {
         "hoverinfo": "none",
         "line": {
          "color": "gray",
          "dash": "dot",
          "width": 1
         },
         "mode": "lines",
         "showlegend": false,
         "type": "scatter",
         "x": [
          1.0116930846124887,
          0.4132104516029358
         ],
         "y": [
          0.9244465306401253,
          0.5422053337097168
         ]
        },
        {
         "hoverinfo": "none",
         "line": {
          "color": "gray",
          "dash": "dot",
          "width": 1
         },
         "mode": "lines",
         "showlegend": false,
         "type": "scatter",
         "x": [
          0.880578026175499,
          0.39850425720214844
         ],
         "y": [
          0.6977494657039642,
          0.42062002420425415
         ]
        },
        {
         "hoverinfo": "none",
         "line": {
          "color": "gray",
          "dash": "dot",
          "width": 1
         },
         "mode": "lines",
         "showlegend": false,
         "type": "scatter",
         "x": [
          0.9359471052885056,
          0.3688986301422119
         ],
         "y": [
          0.8813353776931763,
          0.5210915803909302
         ]
        },
        {
         "hoverinfo": "none",
         "line": {
          "color": "gray",
          "dash": "dot",
          "width": 1
         },
         "mode": "lines",
         "showlegend": false,
         "type": "scatter",
         "x": [
          0.8615640848875046,
          0.36754119396209717
         ],
         "y": [
          0.8616952002048492,
          0.5431576371192932
         ]
        },
        {
         "hoverinfo": "none",
         "line": {
          "color": "gray",
          "dash": "dot",
          "width": 1
         },
         "mode": "lines",
         "showlegend": false,
         "type": "scatter",
         "x": [
          0.9753550086170435,
          0.33413398265838623
         ],
         "y": [
          0.9115485772490501,
          0.5033105611801147
         ]
        },
        {
         "hoverinfo": "none",
         "line": {
          "color": "gray",
          "dash": "dot",
          "width": 1
         },
         "mode": "lines",
         "showlegend": false,
         "type": "scatter",
         "x": [
          0.8558186590671539,
          0.33147621154785156
         ],
         "y": [
          0.7899909764528275,
          0.46956533193588257
         ]
        },
        {
         "hoverinfo": "none",
         "line": {
          "color": "gray",
          "dash": "dot",
          "width": 1
         },
         "mode": "lines",
         "showlegend": false,
         "type": "scatter",
         "x": [
          0.8626412898302078,
          0.34746408462524414
         ],
         "y": [
          0.8713501989841461,
          0.5374322235584259
         ]
        },
        {
         "hoverinfo": "none",
         "line": {
          "color": "gray",
          "dash": "dot",
          "width": 1
         },
         "mode": "lines",
         "showlegend": false,
         "type": "scatter",
         "x": [
          0.9400666691362858,
          0.33660662174224854
         ],
         "y": [
          0.874579131603241,
          0.4945984482765198
         ]
        },
        {
         "hoverinfo": "none",
         "line": {
          "color": "gray",
          "dash": "dot",
          "width": 1
         },
         "mode": "lines",
         "showlegend": false,
         "type": "scatter",
         "x": [
          0.93361596763134,
          0.3723210096359253
         ],
         "y": [
          0.7874728441238403,
          0.45112669467926025
         ]
        },
        {
         "hoverinfo": "none",
         "line": {
          "color": "gray",
          "dash": "dot",
          "width": 1
         },
         "mode": "lines",
         "showlegend": false,
         "type": "scatter",
         "x": [
          0.9769582282751799,
          0.39173054695129395
         ],
         "y": [
          0.7628418952226639,
          0.4192776679992676
         ]
        },
        {
         "hoverinfo": "none",
         "line": {
          "color": "gray",
          "dash": "dot",
          "width": 1
         },
         "mode": "lines",
         "showlegend": false,
         "type": "scatter",
         "x": [
          0.8999612405896187,
          0.40125274658203125
         ],
         "y": [
          0.7675365060567856,
          0.46817028522491455
         ]
        },
        {
         "hoverinfo": "none",
         "line": {
          "color": "gray",
          "dash": "dot",
          "width": 1
         },
         "mode": "lines",
         "showlegend": false,
         "type": "scatter",
         "x": [
          0.9416375309228897,
          0.4107515215873718
         ],
         "y": [
          0.8889438658952713,
          0.549588680267334
         ]
        },
        {
         "hoverinfo": "none",
         "line": {
          "color": "gray",
          "dash": "dot",
          "width": 1
         },
         "mode": "lines",
         "showlegend": false,
         "type": "scatter",
         "x": [
          0.9103302955627441,
          0.32453322410583496
         ],
         "y": [
          0.7645822316408157,
          0.4205642342567444
         ]
        },
        {
         "hoverinfo": "none",
         "line": {
          "color": "gray",
          "dash": "dot",
          "width": 1
         },
         "mode": "lines",
         "showlegend": false,
         "type": "scatter",
         "x": [
          0.9397229589521885,
          0.39736664295196533
         ],
         "y": [
          0.7881910502910614,
          0.4618667960166931
         ]
        },
        {
         "hoverinfo": "none",
         "line": {
          "color": "gray",
          "dash": "dot",
          "width": 1
         },
         "mode": "lines",
         "showlegend": false,
         "type": "scatter",
         "x": [
          0.8318032920360565,
          0.29550236463546753
         ],
         "y": [
          0.7264827489852905,
          0.41501736640930176
         ]
        },
        {
         "hoverinfo": "none",
         "line": {
          "color": "gray",
          "dash": "dot",
          "width": 1
         },
         "mode": "lines",
         "showlegend": false,
         "type": "scatter",
         "x": [
          0.9180503636598587,
          0.3099551200866699
         ],
         "y": [
          0.7516339868307114,
          0.40022462606430054
         ]
        },
        {
         "hoverinfo": "none",
         "line": {
          "color": "gray",
          "dash": "dot",
          "width": 1
         },
         "mode": "lines",
         "showlegend": false,
         "type": "scatter",
         "x": [
          0.8142742216587067,
          0.2864850163459778
         ],
         "y": [
          0.8399242013692856,
          0.49934035539627075
         ]
        },
        {
         "hoverinfo": "none",
         "line": {
          "color": "gray",
          "dash": "dot",
          "width": 1
         },
         "mode": "lines",
         "showlegend": false,
         "type": "scatter",
         "x": [
          0.8309509009122849,
          0.2899090647697449
         ],
         "y": [
          0.7998068332672119,
          0.46498459577560425
         ]
        },
        {
         "hoverinfo": "none",
         "line": {
          "color": "gray",
          "dash": "dot",
          "width": 1
         },
         "mode": "lines",
         "showlegend": false,
         "type": "scatter",
         "x": [
          0.9875330533832312,
          0.4044596552848816
         ],
         "y": [
          0.8487806618213654,
          0.4890402555465698
         ]
        },
        {
         "hoverinfo": "none",
         "line": {
          "color": "gray",
          "dash": "dot",
          "width": 1
         },
         "mode": "lines",
         "showlegend": false,
         "type": "scatter",
         "x": [
          0.9249993562698364,
          0.32225048542022705
         ],
         "y": [
          0.8780789524316788,
          0.49606800079345703
         ]
        },
        {
         "hoverinfo": "none",
         "line": {
          "color": "gray",
          "dash": "dot",
          "width": 1
         },
         "mode": "lines",
         "showlegend": false,
         "type": "scatter",
         "x": [
          0.8847207650542259,
          0.2977892756462097
         ],
         "y": [
          0.8185701072216034,
          0.457832932472229
         ]
        },
        {
         "hoverinfo": "none",
         "line": {
          "color": "gray",
          "dash": "dot",
          "width": 1
         },
         "mode": "lines",
         "showlegend": false,
         "type": "scatter",
         "x": [
          0.9677374884486198,
          0.4251464605331421
         ],
         "y": [
          0.9420112892985344,
          0.5877206325531006
         ]
        },
        {
         "hoverinfo": "none",
         "line": {
          "color": "gray",
          "dash": "dot",
          "width": 1
         },
         "mode": "lines",
         "showlegend": false,
         "type": "scatter",
         "x": [
          0.8838699907064438,
          0.3292238712310791
         ],
         "y": [
          0.8622657805681229,
          0.508653998374939
         ]
        },
        {
         "hoverinfo": "none",
         "line": {
          "color": "gray",
          "dash": "dot",
          "width": 1
         },
         "mode": "lines",
         "showlegend": false,
         "type": "scatter",
         "x": [
          0.949352752417326,
          0.3906964063644409
         ],
         "y": [
          0.7618100643157959,
          0.4323461651802063
         ]
        },
        {
         "hoverinfo": "none",
         "line": {
          "color": "gray",
          "dash": "dot",
          "width": 1
         },
         "mode": "lines",
         "showlegend": false,
         "type": "scatter",
         "x": [
          0.8251341134309769,
          0.3211055397987366
         ],
         "y": [
          0.8429456800222397,
          0.5180411040782928
         ]
        },
        {
         "hoverinfo": "none",
         "line": {
          "color": "gray",
          "dash": "dot",
          "width": 1
         },
         "mode": "lines",
         "showlegend": false,
         "type": "scatter",
         "x": [
          0.9257325977087021,
          0.38746416568756104
         ],
         "y": [
          0.9408081136643887,
          0.5847999453544617
         ]
        },
        {
         "hoverinfo": "none",
         "line": {
          "color": "gray",
          "dash": "dot",
          "width": 1
         },
         "mode": "lines",
         "showlegend": false,
         "type": "scatter",
         "x": [
          0.902848057448864,
          0.3708605170249939
         ],
         "y": [
          0.7972085326910019,
          0.47360849380493164
         ]
        },
        {
         "hoverinfo": "none",
         "line": {
          "color": "gray",
          "dash": "dot",
          "width": 1
         },
         "mode": "lines",
         "showlegend": false,
         "type": "scatter",
         "x": [
          0.9310636147856712,
          0.36893361806869507
         ],
         "y": [
          0.8868205696344376,
          0.5278844833374023
         ]
        },
        {
         "hoverinfo": "none",
         "line": {
          "color": "gray",
          "dash": "dot",
          "width": 1
         },
         "mode": "lines",
         "showlegend": false,
         "type": "scatter",
         "x": [
          0.9480836801230907,
          0.3278324604034424
         ],
         "y": [
          0.8008818328380585,
          0.43087273836135864
         ]
        },
        {
         "hoverinfo": "none",
         "line": {
          "color": "gray",
          "dash": "dot",
          "width": 1
         },
         "mode": "lines",
         "showlegend": false,
         "type": "scatter",
         "x": [
          0.9338636100292206,
          0.321993350982666
         ],
         "y": [
          0.7364332377910614,
          0.3872578740119934
         ]
        },
        {
         "hoverinfo": "none",
         "line": {
          "color": "gray",
          "dash": "dot",
          "width": 1
         },
         "mode": "lines",
         "showlegend": false,
         "type": "scatter",
         "x": [
          0.8575272560119629,
          0.3716925382614136
         ],
         "y": [
          0.8250352591276169,
          0.519037127494812
         ]
        },
        {
         "hoverinfo": "none",
         "line": {
          "color": "gray",
          "dash": "dot",
          "width": 1
         },
         "mode": "lines",
         "showlegend": false,
         "type": "scatter",
         "x": [
          0.9007061868906021,
          0.3176470398902893
         ],
         "y": [
          0.7471483051776886,
          0.4088842272758484
         ]
        },
        {
         "hoverinfo": "none",
         "line": {
          "color": "gray",
          "dash": "dot",
          "width": 1
         },
         "mode": "lines",
         "showlegend": false,
         "type": "scatter",
         "x": [
          0.919776439666748,
          0.3505386710166931
         ],
         "y": [
          0.84731525182724,
          0.49223077297210693
         ]
        },
        {
         "hoverinfo": "none",
         "line": {
          "color": "gray",
          "dash": "dot",
          "width": 1
         },
         "mode": "lines",
         "showlegend": false,
         "type": "scatter",
         "x": [
          0.851816862821579,
          0.3125566244125366
         ],
         "y": [
          0.7971661686897278,
          0.4661668539047241
         ]
        }
       ],
       "layout": {
        "height": 700,
        "legend": {
         "title": {
          "text": "Cluster, Type"
         },
         "tracegroupgap": 0
        },
        "margin": {
         "t": 60
        },
        "template": {
         "data": {
          "bar": [
           {
            "error_x": {
             "color": "#2a3f5f"
            },
            "error_y": {
             "color": "#2a3f5f"
            },
            "marker": {
             "line": {
              "color": "#E5ECF6",
              "width": 0.5
             },
             "pattern": {
              "fillmode": "overlay",
              "size": 10,
              "solidity": 0.2
             }
            },
            "type": "bar"
           }
          ],
          "barpolar": [
           {
            "marker": {
             "line": {
              "color": "#E5ECF6",
              "width": 0.5
             },
             "pattern": {
              "fillmode": "overlay",
              "size": 10,
              "solidity": 0.2
             }
            },
            "type": "barpolar"
           }
          ],
          "carpet": [
           {
            "aaxis": {
             "endlinecolor": "#2a3f5f",
             "gridcolor": "white",
             "linecolor": "white",
             "minorgridcolor": "white",
             "startlinecolor": "#2a3f5f"
            },
            "baxis": {
             "endlinecolor": "#2a3f5f",
             "gridcolor": "white",
             "linecolor": "white",
             "minorgridcolor": "white",
             "startlinecolor": "#2a3f5f"
            },
            "type": "carpet"
           }
          ],
          "choropleth": [
           {
            "colorbar": {
             "outlinewidth": 0,
             "ticks": ""
            },
            "type": "choropleth"
           }
          ],
          "contour": [
           {
            "colorbar": {
             "outlinewidth": 0,
             "ticks": ""
            },
            "colorscale": [
             [
              0,
              "#0d0887"
             ],
             [
              0.1111111111111111,
              "#46039f"
             ],
             [
              0.2222222222222222,
              "#7201a8"
             ],
             [
              0.3333333333333333,
              "#9c179e"
             ],
             [
              0.4444444444444444,
              "#bd3786"
             ],
             [
              0.5555555555555556,
              "#d8576b"
             ],
             [
              0.6666666666666666,
              "#ed7953"
             ],
             [
              0.7777777777777778,
              "#fb9f3a"
             ],
             [
              0.8888888888888888,
              "#fdca26"
             ],
             [
              1,
              "#f0f921"
             ]
            ],
            "type": "contour"
           }
          ],
          "contourcarpet": [
           {
            "colorbar": {
             "outlinewidth": 0,
             "ticks": ""
            },
            "type": "contourcarpet"
           }
          ],
          "heatmap": [
           {
            "colorbar": {
             "outlinewidth": 0,
             "ticks": ""
            },
            "colorscale": [
             [
              0,
              "#0d0887"
             ],
             [
              0.1111111111111111,
              "#46039f"
             ],
             [
              0.2222222222222222,
              "#7201a8"
             ],
             [
              0.3333333333333333,
              "#9c179e"
             ],
             [
              0.4444444444444444,
              "#bd3786"
             ],
             [
              0.5555555555555556,
              "#d8576b"
             ],
             [
              0.6666666666666666,
              "#ed7953"
             ],
             [
              0.7777777777777778,
              "#fb9f3a"
             ],
             [
              0.8888888888888888,
              "#fdca26"
             ],
             [
              1,
              "#f0f921"
             ]
            ],
            "type": "heatmap"
           }
          ],
          "histogram": [
           {
            "marker": {
             "pattern": {
              "fillmode": "overlay",
              "size": 10,
              "solidity": 0.2
             }
            },
            "type": "histogram"
           }
          ],
          "histogram2d": [
           {
            "colorbar": {
             "outlinewidth": 0,
             "ticks": ""
            },
            "colorscale": [
             [
              0,
              "#0d0887"
             ],
             [
              0.1111111111111111,
              "#46039f"
             ],
             [
              0.2222222222222222,
              "#7201a8"
             ],
             [
              0.3333333333333333,
              "#9c179e"
             ],
             [
              0.4444444444444444,
              "#bd3786"
             ],
             [
              0.5555555555555556,
              "#d8576b"
             ],
             [
              0.6666666666666666,
              "#ed7953"
             ],
             [
              0.7777777777777778,
              "#fb9f3a"
             ],
             [
              0.8888888888888888,
              "#fdca26"
             ],
             [
              1,
              "#f0f921"
             ]
            ],
            "type": "histogram2d"
           }
          ],
          "histogram2dcontour": [
           {
            "colorbar": {
             "outlinewidth": 0,
             "ticks": ""
            },
            "colorscale": [
             [
              0,
              "#0d0887"
             ],
             [
              0.1111111111111111,
              "#46039f"
             ],
             [
              0.2222222222222222,
              "#7201a8"
             ],
             [
              0.3333333333333333,
              "#9c179e"
             ],
             [
              0.4444444444444444,
              "#bd3786"
             ],
             [
              0.5555555555555556,
              "#d8576b"
             ],
             [
              0.6666666666666666,
              "#ed7953"
             ],
             [
              0.7777777777777778,
              "#fb9f3a"
             ],
             [
              0.8888888888888888,
              "#fdca26"
             ],
             [
              1,
              "#f0f921"
             ]
            ],
            "type": "histogram2dcontour"
           }
          ],
          "mesh3d": [
           {
            "colorbar": {
             "outlinewidth": 0,
             "ticks": ""
            },
            "type": "mesh3d"
           }
          ],
          "parcoords": [
           {
            "line": {
             "colorbar": {
              "outlinewidth": 0,
              "ticks": ""
             }
            },
            "type": "parcoords"
           }
          ],
          "pie": [
           {
            "automargin": true,
            "type": "pie"
           }
          ],
          "scatter": [
           {
            "fillpattern": {
             "fillmode": "overlay",
             "size": 10,
             "solidity": 0.2
            },
            "type": "scatter"
           }
          ],
          "scatter3d": [
           {
            "line": {
             "colorbar": {
              "outlinewidth": 0,
              "ticks": ""
             }
            },
            "marker": {
             "colorbar": {
              "outlinewidth": 0,
              "ticks": ""
             }
            },
            "type": "scatter3d"
           }
          ],
          "scattercarpet": [
           {
            "marker": {
             "colorbar": {
              "outlinewidth": 0,
              "ticks": ""
             }
            },
            "type": "scattercarpet"
           }
          ],
          "scattergeo": [
           {
            "marker": {
             "colorbar": {
              "outlinewidth": 0,
              "ticks": ""
             }
            },
            "type": "scattergeo"
           }
          ],
          "scattergl": [
           {
            "marker": {
             "colorbar": {
              "outlinewidth": 0,
              "ticks": ""
             }
            },
            "type": "scattergl"
           }
          ],
          "scattermap": [
           {
            "marker": {
             "colorbar": {
              "outlinewidth": 0,
              "ticks": ""
             }
            },
            "type": "scattermap"
           }
          ],
          "scattermapbox": [
           {
            "marker": {
             "colorbar": {
              "outlinewidth": 0,
              "ticks": ""
             }
            },
            "type": "scattermapbox"
           }
          ],
          "scatterpolar": [
           {
            "marker": {
             "colorbar": {
              "outlinewidth": 0,
              "ticks": ""
             }
            },
            "type": "scatterpolar"
           }
          ],
          "scatterpolargl": [
           {
            "marker": {
             "colorbar": {
              "outlinewidth": 0,
              "ticks": ""
             }
            },
            "type": "scatterpolargl"
           }
          ],
          "scatterternary": [
           {
            "marker": {
             "colorbar": {
              "outlinewidth": 0,
              "ticks": ""
             }
            },
            "type": "scatterternary"
           }
          ],
          "surface": [
           {
            "colorbar": {
             "outlinewidth": 0,
             "ticks": ""
            },
            "colorscale": [
             [
              0,
              "#0d0887"
             ],
             [
              0.1111111111111111,
              "#46039f"
             ],
             [
              0.2222222222222222,
              "#7201a8"
             ],
             [
              0.3333333333333333,
              "#9c179e"
             ],
             [
              0.4444444444444444,
              "#bd3786"
             ],
             [
              0.5555555555555556,
              "#d8576b"
             ],
             [
              0.6666666666666666,
              "#ed7953"
             ],
             [
              0.7777777777777778,
              "#fb9f3a"
             ],
             [
              0.8888888888888888,
              "#fdca26"
             ],
             [
              1,
              "#f0f921"
             ]
            ],
            "type": "surface"
           }
          ],
          "table": [
           {
            "cells": {
             "fill": {
              "color": "#EBF0F8"
             },
             "line": {
              "color": "white"
             }
            },
            "header": {
             "fill": {
              "color": "#C8D4E3"
             },
             "line": {
              "color": "white"
             }
            },
            "type": "table"
           }
          ]
         },
         "layout": {
          "annotationdefaults": {
           "arrowcolor": "#2a3f5f",
           "arrowhead": 0,
           "arrowwidth": 1
          },
          "autotypenumbers": "strict",
          "coloraxis": {
           "colorbar": {
            "outlinewidth": 0,
            "ticks": ""
           }
          },
          "colorscale": {
           "diverging": [
            [
             0,
             "#8e0152"
            ],
            [
             0.1,
             "#c51b7d"
            ],
            [
             0.2,
             "#de77ae"
            ],
            [
             0.3,
             "#f1b6da"
            ],
            [
             0.4,
             "#fde0ef"
            ],
            [
             0.5,
             "#f7f7f7"
            ],
            [
             0.6,
             "#e6f5d0"
            ],
            [
             0.7,
             "#b8e186"
            ],
            [
             0.8,
             "#7fbc41"
            ],
            [
             0.9,
             "#4d9221"
            ],
            [
             1,
             "#276419"
            ]
           ],
           "sequential": [
            [
             0,
             "#0d0887"
            ],
            [
             0.1111111111111111,
             "#46039f"
            ],
            [
             0.2222222222222222,
             "#7201a8"
            ],
            [
             0.3333333333333333,
             "#9c179e"
            ],
            [
             0.4444444444444444,
             "#bd3786"
            ],
            [
             0.5555555555555556,
             "#d8576b"
            ],
            [
             0.6666666666666666,
             "#ed7953"
            ],
            [
             0.7777777777777778,
             "#fb9f3a"
            ],
            [
             0.8888888888888888,
             "#fdca26"
            ],
            [
             1,
             "#f0f921"
            ]
           ],
           "sequentialminus": [
            [
             0,
             "#0d0887"
            ],
            [
             0.1111111111111111,
             "#46039f"
            ],
            [
             0.2222222222222222,
             "#7201a8"
            ],
            [
             0.3333333333333333,
             "#9c179e"
            ],
            [
             0.4444444444444444,
             "#bd3786"
            ],
            [
             0.5555555555555556,
             "#d8576b"
            ],
            [
             0.6666666666666666,
             "#ed7953"
            ],
            [
             0.7777777777777778,
             "#fb9f3a"
            ],
            [
             0.8888888888888888,
             "#fdca26"
            ],
            [
             1,
             "#f0f921"
            ]
           ]
          },
          "colorway": [
           "#636efa",
           "#EF553B",
           "#00cc96",
           "#ab63fa",
           "#FFA15A",
           "#19d3f3",
           "#FF6692",
           "#B6E880",
           "#FF97FF",
           "#FECB52"
          ],
          "font": {
           "color": "#2a3f5f"
          },
          "geo": {
           "bgcolor": "white",
           "lakecolor": "white",
           "landcolor": "#E5ECF6",
           "showlakes": true,
           "showland": true,
           "subunitcolor": "white"
          },
          "hoverlabel": {
           "align": "left"
          },
          "hovermode": "closest",
          "mapbox": {
           "style": "light"
          },
          "paper_bgcolor": "white",
          "plot_bgcolor": "#E5ECF6",
          "polar": {
           "angularaxis": {
            "gridcolor": "white",
            "linecolor": "white",
            "ticks": ""
           },
           "bgcolor": "#E5ECF6",
           "radialaxis": {
            "gridcolor": "white",
            "linecolor": "white",
            "ticks": ""
           }
          },
          "scene": {
           "xaxis": {
            "backgroundcolor": "#E5ECF6",
            "gridcolor": "white",
            "gridwidth": 2,
            "linecolor": "white",
            "showbackground": true,
            "ticks": "",
            "zerolinecolor": "white"
           },
           "yaxis": {
            "backgroundcolor": "#E5ECF6",
            "gridcolor": "white",
            "gridwidth": 2,
            "linecolor": "white",
            "showbackground": true,
            "ticks": "",
            "zerolinecolor": "white"
           },
           "zaxis": {
            "backgroundcolor": "#E5ECF6",
            "gridcolor": "white",
            "gridwidth": 2,
            "linecolor": "white",
            "showbackground": true,
            "ticks": "",
            "zerolinecolor": "white"
           }
          },
          "shapedefaults": {
           "line": {
            "color": "#2a3f5f"
           }
          },
          "ternary": {
           "aaxis": {
            "gridcolor": "white",
            "linecolor": "white",
            "ticks": ""
           },
           "baxis": {
            "gridcolor": "white",
            "linecolor": "white",
            "ticks": ""
           },
           "bgcolor": "#E5ECF6",
           "caxis": {
            "gridcolor": "white",
            "linecolor": "white",
            "ticks": ""
           }
          },
          "title": {
           "x": 0.05
          },
          "xaxis": {
           "automargin": true,
           "gridcolor": "white",
           "linecolor": "white",
           "ticks": "",
           "title": {
            "standoff": 15
           },
           "zerolinecolor": "white",
           "zerolinewidth": 2
          },
          "yaxis": {
           "automargin": true,
           "gridcolor": "white",
           "linecolor": "white",
           "ticks": "",
           "title": {
            "standoff": 15
           },
           "zerolinecolor": "white",
           "zerolinewidth": 2
          }
         }
        },
        "title": {
         "text": "2D Projection - Steering: Norway | Comparison: Love | Distance: COSINE | Layer: 11 | Coeff: 3"
        },
        "width": 900,
        "xaxis": {
         "anchor": "y",
         "domain": [
          0,
          1
         ],
         "title": {
          "text": "Distance to \"Norway\" (COSINE)"
         }
        },
        "yaxis": {
         "anchor": "x",
         "domain": [
          0,
          1
         ],
         "title": {
          "text": "Distance to \"Love\" (COSINE)"
         }
        }
       }
      }
     },
     "metadata": {},
     "output_type": "display_data"
    },
    {
     "name": "stdout",
     "output_type": "stream",
     "text": [
      "\n",
      "MOST CHANGED in 2D distance space\n",
      "--------------------------------------------------\n",
      "Index: 935 | Title: Jeux d'enfants\n",
      "Original (Norway, Love): (0.9440, 0.7801)\n",
      "Steered  (Norway, Love): (0.2755, 0.3920)\n",
      "Change: 0.7730\n",
      "\n",
      "Index: 923 | Title: La Vie En Rose\n",
      "Original (Norway, Love): (0.9161, 0.8621)\n",
      "Steered  (Norway, Love): (0.2619, 0.4534)\n",
      "Change: 0.7713\n",
      "\n",
      "Index: 939 | Title: Boksuneun naui geot\n",
      "Original (Norway, Love): (1.0244, 0.8988)\n",
      "Steered  (Norway, Love): (0.3730, 0.4915)\n",
      "Change: 0.7682\n",
      "\n",
      "\n",
      "LEAST CHANGED in 2D distance space\n",
      "--------------------------------------------------\n",
      "Index: 936 | Title: Un long dimanche de fiançailles\n",
      "Original (Norway, Love): (0.7886, 0.6648)\n",
      "Steered  (Norway, Love): (0.3138, 0.3988)\n",
      "Change: 0.5442\n",
      "\n",
      "Index: 967 | Title: Trois couleurs: Blanc\n",
      "Original (Norway, Love): (0.8806, 0.6977)\n",
      "Steered  (Norway, Love): (0.3985, 0.4206)\n",
      "Change: 0.5561\n",
      "\n",
      "Index: 996 | Title: Giant\n",
      "Original (Norway, Love): (0.8575, 0.8250)\n",
      "Steered  (Norway, Love): (0.3717, 0.5190)\n",
      "Change: 0.5742\n",
      "\n"
     ]
    }
   ],
   "source": [
    "layer_to_steer = 11\n",
    "steering_coefficient = 3\n",
    "normalize = True\n",
    "\n",
    "steering_feature = \"Norway\"\n",
    "comparison_feature = \"Love\"\n",
    "\n",
    "steering_vector = import_steering_vector_from_pkl('steering_vector.pkl', layer_to_steer=layer_to_steer, feature_name=steering_feature)\n",
    "comparison_vector = import_steering_vector_from_pkl('steering_vector.pkl', layer_to_steer=layer_to_steer, feature_name=comparison_feature)\n",
    "\n",
    "plot_2D_distance_projection(model, encoded_input,\n",
    "                            original_embeddings,\n",
    "                            all_texts_data,\n",
    "                            steering_vector,\n",
    "                            comparison_vector,\n",
    "                            layer_to_steer,\n",
    "                            steering_coefficient,\n",
    "                            steering_feature,\n",
    "                            comparison_feature,\n",
    "                            text_range=(900,1000),\n",
    "                            type=\"cosine\",\n",
    "                            normalize=normalize,\n",
    "                            print_differences=True)"
   ]
  }
 ],
 "metadata": {
  "colab": {
   "provenance": []
  },
  "kernelspec": {
   "display_name": "embed",
   "language": "python",
   "name": "python3"
  },
  "language_info": {
   "codemirror_mode": {
    "name": "ipython",
    "version": 3
   },
   "file_extension": ".py",
   "mimetype": "text/x-python",
   "name": "python",
   "nbconvert_exporter": "python",
   "pygments_lexer": "ipython3",
   "version": "3.12.11"
  },
  "orig_nbformat": 4
 },
 "nbformat": 4,
 "nbformat_minor": 0
}
