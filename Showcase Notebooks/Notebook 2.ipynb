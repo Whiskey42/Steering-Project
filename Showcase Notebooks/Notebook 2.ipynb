{
 "cells": [
  {
   "cell_type": "markdown",
   "metadata": {
    "id": "95wuBDQVrPuc"
   },
   "source": [
    "# Notebook 2 – Plotting the steered embeddings\n",
    "\n",
    "***"
   ]
  },
  {
   "cell_type": "markdown",
   "metadata": {
    "id": "frmLvBVDrPuf"
   },
   "source": [
    "In this notebook we will showcase how to plot the steered embeddings in different ways:\n",
    "\n",
    "1. [PCA projections](#pca)\n",
    "2. [t-SNE projections](#t-sne)\n",
    "3. [Plot with steering vector as x-axis](#plot-with-steering-vector-as-x-axis)\n",
    "4. [Plot with two vectors as axes](#plot-with-two-vectors-as-axes)"
   ]
  },
  {
   "cell_type": "code",
   "execution_count": 1,
   "metadata": {
    "id": "bRt87ufyrPug"
   },
   "outputs": [],
   "source": [
    "# Append the path to the Functions directory\n",
    "\n",
    "import sys\n",
    "sys.path.append('../Functions')\n",
    "sys.path.append('../Features')"
   ]
  },
  {
   "cell_type": "markdown",
   "metadata": {
    "id": "8LAjdO25rPuh"
   },
   "source": [
    "## Functions used in this Notebook:\n",
    "\n",
    "### From \"PCA\":\n",
    "- [plot_pca_fixed_kmeans](#pca) - Plot steered embeddings using PCA and K-Means\n",
    "- [plot_pca_labeled_projection](#pca) - Plot steered embeddings only using PCA\n",
    "\n",
    "### From \"tsne\":\n",
    "- [plot_tsne_fixed_kmeans](#t-sne) - Plot steered embeddings using t-SNE and K-Means\n",
    "\n",
    "### From \"Plot_with_vector\":\n",
    "- [plot_distance_projection](#plot-with-steering-vector-as-x-axis) - Plot with steering vector as x-axis\n",
    "- [plot_2D_distance_projection ](#plot-with-two-vectors-as-axes) - Plot with two vectors as axes\n",
    "\n",
    "### Other functions:\n",
    "- [import_embedding_data_from_pkl](#importing-python-functions-and-data) - Import embedding data from pickle file\n",
    "- [get_steered_embeddings_vector](#get-steering-vector-and-steered-embeddings) - Apply steering using semantic vector\n",
    "- [get_steered_embeddings_neuron](#get-steering-vector-and-steered-embeddings) - Apply steering using specific neurons\n",
    "- [import_steering_vector_from_pkl](#get-steering-vector-and-steered-embeddings) - Load steering vector from file"
   ]
  },
  {
   "cell_type": "markdown",
   "metadata": {
    "id": "TYyC4yp7rPuh"
   },
   "source": [
    "***\n",
    "\n",
    "## Importing python functions and data\n",
    "\n",
    "This first cell imports all the necessary functions and data from other python files"
   ]
  },
  {
   "cell_type": "code",
   "execution_count": 2,
   "metadata": {
    "id": "DfQUoXGlrPui"
   },
   "outputs": [],
   "source": [
    "from Embeddings import import_embedding_data_from_pkl\n",
    "from Steering import get_steered_embeddings_vector, get_steered_embeddings_neuron\n",
    "from Steering_vector import import_steering_vector_from_pkl\n",
    "from PCA import plot_pca_fixed_kmeans, plot_pca_labeled_projection\n",
    "from tsne import plot_tsne_fixed_kmeans\n",
    "from Plot_with_vector import plot_distance_projection, plot_2D_distance_projection"
   ]
  },
  {
   "cell_type": "code",
   "execution_count": 3,
   "metadata": {
    "id": "f05pm81GrPui",
    "outputId": "68044eec-de64-4569-c879-6960dc3314dd"
   },
   "outputs": [
    {
     "name": "stdout",
     "output_type": "stream",
     "text": [
      "Importing 1.36 GB data from file Test_export_embeddings.pkl...\n",
      "Data imported from Test_export_embeddings.pkl\n",
      "Model loaded successfully.\n",
      "Embeddings loaded successfully.\n",
      "Encoded input loaded successfully.\n",
      "All texts data loaded successfully.\n"
     ]
    }
   ],
   "source": [
    "data = import_embedding_data_from_pkl('Test_export_embeddings.pkl', model=True, embeddings=True, encoded_input=True, all_texts_data=True)\n",
    "model, original_embeddings, encoded_input, all_texts_data = data"
   ]
  },
  {
   "cell_type": "markdown",
   "metadata": {
    "id": "65HEgvMNrPuj"
   },
   "source": [
    "## Set the layer, coefficient, feature, and neuron\n",
    "\n",
    "This sets the layer, steering coefficient, feature, neuron and normalization for the PCA and t-SNE plots  \n",
    "  \n",
    "If you want to steer using a *steering vector*, you need to set:\n",
    "- feature\n",
    "  \n",
    "To steer using a specific *neuron*, you need to set:\n",
    "- neuron"
   ]
  },
  {
   "cell_type": "code",
   "execution_count": 4,
   "metadata": {
    "id": "arwemzD_rPuj"
   },
   "outputs": [],
   "source": [
    "layer_to_steer = 11\n",
    "steering_coefficient = 2\n",
    "feature = \"War\"\n",
    "neuron = 250\n",
    "normalize = True"
   ]
  },
  {
   "cell_type": "markdown",
   "metadata": {
    "id": "Hd4xPmLUrPuj"
   },
   "source": [
    "## Get steering vector and steered embeddings\n",
    "\n",
    "Run the cell below depending on the desired steering method (*vector* or *neuron*)"
   ]
  },
  {
   "cell_type": "code",
   "execution_count": 5,
   "metadata": {
    "id": "nqipyyv4rPuj",
    "outputId": "b667e5f8-565f-4505-d5e0-aaf76b267941"
   },
   "outputs": [
    {
     "name": "stdout",
     "output_type": "stream",
     "text": [
      "Steering vectors imported from steering_vector.pkl\n",
      "Available steering vectors: 'Love' (layers: [11]), 'War' (layers: [10, 11]), 'Norway' (layers: [11])\n",
      "Returning steering vector for 'War' layer 11\n",
      "Created steered model output with shape: torch.Size([1000, 66, 384])\n",
      "Created steered embeddings with shape: torch.Size([1000, 384])\n"
     ]
    }
   ],
   "source": [
    "# STEERING WITH VECTOR\n",
    "\n",
    "info_string = f\"| Layer: {layer_to_steer} | Feature: {feature} | Steering: {steering_coefficient}\" # Vector steering\n",
    "\n",
    "steering_vector = import_steering_vector_from_pkl('steering_vector.pkl', layer_to_steer=layer_to_steer, feature_name=feature)\n",
    "\n",
    "steered_embeddings = get_steered_embeddings_vector(model, encoded_input, layer_to_steer, steering_coefficient, steering_vector, normalize=normalize)\n"
   ]
  },
  {
   "cell_type": "code",
   "execution_count": 6,
   "metadata": {
    "id": "69XONwyBrPuk",
    "outputId": "f71aeda1-4e8c-4769-aac2-03e054635062"
   },
   "outputs": [
    {
     "data": {
      "text/plain": [
       "'\\n# STEERING WITH NEURON\\n\\ninfo_string = f\"| Layer: {layer_to_steer} | Neuron: {neuron} | Steering: {steering_coefficient}\" # Neuron steering\\n\\nsteering_vector = None\\n\\nsteered_embeddings = get_steered_embeddings_neuron(model, encoded_input, layer_to_steer, neuron, steering_coefficient, normalize=normalize)\\n'"
      ]
     },
     "execution_count": 6,
     "metadata": {},
     "output_type": "execute_result"
    }
   ],
   "source": [
    "'''\n",
    "# STEERING WITH NEURON\n",
    "\n",
    "info_string = f\"| Layer: {layer_to_steer} | Neuron: {neuron} | Steering: {steering_coefficient}\" # Neuron steering\n",
    "\n",
    "steering_vector = None\n",
    "\n",
    "steered_embeddings = get_steered_embeddings_neuron(model, encoded_input, layer_to_steer, neuron, steering_coefficient, normalize=normalize)\n",
    "'''"
   ]
  },
  {
   "cell_type": "markdown",
   "metadata": {
    "id": "KTZg1IM0rPuk"
   },
   "source": [
    "## Checkpoint\n",
    "This cell will verify that everything has gone accodring to plan"
   ]
  },
  {
   "cell_type": "code",
   "execution_count": null,
   "metadata": {
    "id": "o1yR_p2CrPuk",
    "outputId": "6c8d854c-929b-49f7-ac9a-4c6f53cc1dd3"
   },
   "outputs": [
    {
     "name": "stdout",
     "output_type": "stream",
     "text": [
      "============================================================\n",
      "📋 PLOTTING DATA CHECKPOINT\n",
      "============================================================\n",
      "✅ Original embeddings loaded: torch.Size([1000, 384])\n",
      "✅ Model and encoded input available\n",
      "✅ Text data loaded: 1000 items\n",
      "✅ Layer to steer: 11\n",
      "✅ Steering coefficient: 2\n",
      "✅ Normalization: True\n",
      "✅ Steering method: Vector-based (feature: War)\n",
      "✅ Steering vector shape: torch.Size([384])\n",
      "✅ Info string: | Layer: 11 | Feature: War | Steering: 2\n",
      "✅ Steered embeddings created: torch.Size([1000, 384])\n",
      "✅ Original sample: [-0.06406020373106003, 0.055750492960214615, -0.051509786397218704]\n",
      "✅ Steered sample: [-0.07531613111495972, 0.05252855271100998, -0.09348367899656296]\n",
      "✅ Steering effect magnitude: 0.0436\n",
      "============================================================\n",
      "🎯 CHECKPOINT PASSED - Ready for plotting!\n",
      "📊 Available plots: PCA, t-SNE, Distance projections\n",
      "============================================================\n"
     ]
    }
   ],
   "source": [
    "# 🎯 CHECKPOINT: Data Preparation for Plotting\n",
    "print(\"=\"*60)\n",
    "print(\"📋 PLOTTING DATA CHECKPOINT\")\n",
    "print(\"=\"*60)\n",
    "\n",
    "try:\n",
    "    # Verify data import\n",
    "    print(f\"✅ Original embeddings loaded: {original_embeddings.shape}\")\n",
    "    if model is not None and encoded_input is not None:\n",
    "        print(f\"✅ Model and encoded input available\")\n",
    "    print(f\"✅ Text data loaded: {len(all_texts_data)} items\")\n",
    "\n",
    "    # Verify steering parameters\n",
    "    print(f\"✅ Layer to steer: {layer_to_steer}\")\n",
    "    print(f\"✅ Steering coefficient: {steering_coefficient}\")\n",
    "    print(f\"✅ Normalization: {normalize}\")\n",
    "\n",
    "    # Check which steering method was used\n",
    "    if 'steering_vector' in locals() and steering_vector is not None:\n",
    "        print(f\"✅ Steering method: Vector-based (feature: {feature})\")\n",
    "        print(f\"✅ Steering vector shape: {steering_vector.shape}\")\n",
    "        print(f\"✅ Info string: {info_string}\")\n",
    "    else:\n",
    "        print(f\"✅ Steering method: Neuron-based (neuron: {neuron})\")\n",
    "        print(f\"✅ Info string: {info_string}\")\n",
    "\n",
    "    # Verify steered embeddings\n",
    "    print(f\"✅ Steered embeddings created: {steered_embeddings.shape}\")\n",
    "\n",
    "    # Compare original vs steered (sample)\n",
    "    import torch\n",
    "    original_sample = original_embeddings[0][:3]\n",
    "    steered_sample = steered_embeddings[0][:3]\n",
    "    difference = torch.norm(steered_sample - original_sample)\n",
    "\n",
    "    print(f\"✅ Original sample: {original_sample.tolist()}\")\n",
    "    print(f\"✅ Steered sample: {steered_sample.tolist()}\")\n",
    "    print(f\"✅ Steering effect magnitude: {difference:.4f}\")\n",
    "\n",
    "    print(\"\\n💡 Next Steps:\")\n",
    "    print(\"1. Try steering with a different steering vector\")\n",
    "    print(\"2. Experiment with different steering coefficients\")\n",
    "    print(\"3. Experiment with different layers or neurons\")\n",
    "    print(\"4. Experiment with normalization options\")\n",
    "    \n",
    "    print(\"=\"*60)\n",
    "    print(\"🎯 CHECKPOINT PASSED - Ready for plotting!\")\n",
    "    print(\"📊 Available plots: PCA, t-SNE, Distance projections\")\n",
    "    print(\"=\"*60)\n",
    "\n",
    "except Exception as e:\n",
    "    print(\"❌ CHECKPOINT FAILED\")\n",
    "    print(f\"💥 Error: {str(e)}\")\n",
    "    print(\"🔧 Please check previous cells and ensure either vector or neuron steering was run\")\n",
    "    print(\"💡 Tip: Make sure to run either the vector steering cell OR the neuron steering cell\")"
   ]
  },
  {
   "cell_type": "markdown",
   "metadata": {
    "id": "BzWPwBDErPuk"
   },
   "source": [
    "***\n",
    "\n",
    "## PCA"
   ]
  },
  {
   "cell_type": "markdown",
   "metadata": {
    "id": "FP-51WacrPuk"
   },
   "source": [
    "**PCA (Principle Component Analysis):** A statistical method of dimentionality reduction that aims to retain the most important information. The data is transformed onto a new coordinate system, where the the directions (principal components) capture the largest variations within the data points."
   ]
  },
  {
   "cell_type": "markdown",
   "metadata": {
    "id": "R2nvkCdYrPul"
   },
   "source": [
    "`plot_pca_fixed_kmeans` plots the original and steered embeddings in the same plot, and uses K-Means to find clusters unsupervised.  \n",
    "\n",
    "- `text_range` selects the given slice of texts from the input, writing `None` here means that **all** texts are plotted, which can be time consuming, can appear messy on the plot, and the hover data can disappear\n",
    "- `projected=True` fits PCA only on original embeddings and transforms the steered embeddings onto the same principal components, `=False` plots the combined embeddings onto shared principal components\n",
    "- `Write=True` creates a .html file with the plot, including the hover data"
   ]
  },
  {
   "cell_type": "code",
   "execution_count": 8,
   "metadata": {
    "id": "SH4nkc4JrPul",
    "outputId": "8ba71d0c-2b5d-473a-bd41-9f0e6ea9a0dd"
   },
   "outputs": [
    {
     "name": "stdout",
     "output_type": "stream",
     "text": [
      "Did kmeans clustering with 5 clusters\n"
     ]
    },
    {
     "data": {
      "application/vnd.plotly.v1+json": {
       "config": {
        "plotlyServerURL": "https://plot.ly"
       },
       "data": [
        {
         "customdata": [
          [
           "4",
           "Original"
          ],
          [
           "4",
           "Original"
          ],
          [
           "4",
           "Original"
          ],
          [
           "4",
           "Original"
          ],
          [
           "4",
           "Original"
          ],
          [
           "4",
           "Original"
          ],
          [
           "4",
           "Original"
          ],
          [
           "4",
           "Original"
          ],
          [
           "4",
           "Original"
          ],
          [
           "4",
           "Original"
          ],
          [
           "4",
           "Original"
          ],
          [
           "4",
           "Original"
          ],
          [
           "4",
           "Original"
          ],
          [
           "4",
           "Original"
          ],
          [
           "4",
           "Original"
          ],
          [
           "4",
           "Original"
          ],
          [
           "4",
           "Original"
          ],
          [
           "4",
           "Original"
          ],
          [
           "4",
           "Original"
          ],
          [
           "4",
           "Original"
          ],
          [
           "4",
           "Original"
          ],
          [
           "4",
           "Original"
          ],
          [
           "4",
           "Original"
          ],
          [
           "4",
           "Original"
          ],
          [
           "4",
           "Original"
          ],
          [
           "4",
           "Original"
          ],
          [
           "4",
           "Original"
          ],
          [
           "4",
           "Original"
          ],
          [
           "4",
           "Original"
          ],
          [
           "4",
           "Original"
          ]
         ],
         "hovertemplate": "<b>%{hovertext}</b><br><br>Cluster=%{customdata[0]}<br>Type=%{customdata[1]}<br>PCA 1=%{x:.3f}<br>PCA 2=%{y:.3f}<extra></extra>",
         "hovertext": [
          "Original | The Shawshank Redemption | Drama",
          "Original | The Godfather | Crime",
          "Original | The Godfather: Part II | Drama",
          "Original | Pulp Fiction | Crime",
          "Original | Forrest Gump | Romance",
          "Original | Goodfellas | Biography",
          "Original | Hamilton | Biography",
          "Original | Gisaengchung | Drama",
          "Original | Saving Private Ryan | War",
          "Original | The Silence of the Lambs | Crime",
          "Original | Shichinin no samurai | Adventure",
          "Original | The Intouchables | Biography",
          "Original | Gladiator | Drama",
          "Original | American History X | Drama",
          "Original | Léon | Crime",
          "Original | The Lion King | Drama",
          "Original | Hotaru no haka | War",
          "Original | Psycho | Thriller",
          "Original | Modern Times | Drama",
          "Original | Dangal | Biography",
          "Original | Coco | Family",
          "Original | Django Unchained | Western",
          "Original | The Dark Knight Rises | Adventure",
          "Original | Oldeuboi | Mystery",
          "Original | Once Upon a Time in America | Crime",
          "Original | Raiders of the Lost Ark | Adventure",
          "Original | Apocalypse Now | War",
          "Original | Tengoku to jigoku | Crime",
          "Original | The Great Dictator | War",
          "Original | Drishyam | Crime"
         ],
         "legendgroup": "4, Original",
         "marker": {
          "color": "rgb(228,26,28)",
          "symbol": "circle"
         },
         "mode": "markers",
         "name": "4, Original",
         "opacity": 0.3,
         "orientation": "v",
         "showlegend": true,
         "type": "scatter",
         "x": {
          "bdata": "IQrsPBK0Rb0B0mS+a8pJvJhWJL544Su+qdmovAAvpL3kTtI+sWQFPX3Dgj6e9WW+860BPpbp8r2f75e8kFQGPeAhTj3CneC8OnDTvSpnoD0bJyO+fdMgvTbdMz0/d9k9gqigvta5+T3wMVA+IAHLvWLfPT2HtBi+",
          "dtype": "f4"
         },
         "xaxis": "x",
         "y": {
          "bdata": "CD8Kvp2DDL5wK9y9KQCMvrOUDj37ogW+5B2DvTQDSj7rqTu+yIvIvsfIv731tqw9QZ2CvuAg7r2muMg9dNvFPQuvOj67zxG+rQz4PTDRrD08JEM+tqRovpxD0b2/S6m9FZoEvqPOET1uN5S+lJhTvkZSuruRM0u+",
          "dtype": "f4"
         },
         "yaxis": "y"
        },
        {
         "customdata": [
          [
           "4",
           "Steered"
          ],
          [
           "4",
           "Steered"
          ],
          [
           "4",
           "Steered"
          ],
          [
           "4",
           "Steered"
          ],
          [
           "4",
           "Steered"
          ],
          [
           "4",
           "Steered"
          ],
          [
           "4",
           "Steered"
          ],
          [
           "4",
           "Steered"
          ],
          [
           "4",
           "Steered"
          ],
          [
           "4",
           "Steered"
          ],
          [
           "4",
           "Steered"
          ],
          [
           "4",
           "Steered"
          ],
          [
           "4",
           "Steered"
          ],
          [
           "4",
           "Steered"
          ],
          [
           "4",
           "Steered"
          ],
          [
           "4",
           "Steered"
          ],
          [
           "4",
           "Steered"
          ],
          [
           "4",
           "Steered"
          ],
          [
           "4",
           "Steered"
          ],
          [
           "4",
           "Steered"
          ],
          [
           "4",
           "Steered"
          ],
          [
           "4",
           "Steered"
          ],
          [
           "4",
           "Steered"
          ],
          [
           "4",
           "Steered"
          ],
          [
           "4",
           "Steered"
          ],
          [
           "4",
           "Steered"
          ],
          [
           "4",
           "Steered"
          ],
          [
           "4",
           "Steered"
          ],
          [
           "4",
           "Steered"
          ],
          [
           "4",
           "Steered"
          ]
         ],
         "hovertemplate": "<b>%{hovertext}</b><br><br>Cluster=%{customdata[0]}<br>Type=%{customdata[1]}<br>PCA 1=%{x:.3f}<br>PCA 2=%{y:.3f}<extra></extra>",
         "hovertext": [
          "Steered | The Shawshank Redemption | Drama",
          "Steered | The Godfather | Crime",
          "Steered | The Godfather: Part II | Drama",
          "Steered | Pulp Fiction | Crime",
          "Steered | Forrest Gump | Romance",
          "Steered | Goodfellas | Biography",
          "Steered | Hamilton | Biography",
          "Steered | Gisaengchung | Drama",
          "Steered | Saving Private Ryan | War",
          "Steered | The Silence of the Lambs | Crime",
          "Steered | Shichinin no samurai | Adventure",
          "Steered | The Intouchables | Biography",
          "Steered | Gladiator | Drama",
          "Steered | American History X | Drama",
          "Steered | Léon | Crime",
          "Steered | The Lion King | Drama",
          "Steered | Hotaru no haka | War",
          "Steered | Psycho | Thriller",
          "Steered | Modern Times | Drama",
          "Steered | Dangal | Biography",
          "Steered | Coco | Family",
          "Steered | Django Unchained | Western",
          "Steered | The Dark Knight Rises | Adventure",
          "Steered | Oldeuboi | Mystery",
          "Steered | Once Upon a Time in America | Crime",
          "Steered | Raiders of the Lost Ark | Adventure",
          "Steered | Apocalypse Now | War",
          "Steered | Tengoku to jigoku | Crime",
          "Steered | The Great Dictator | War",
          "Steered | Drishyam | Crime"
         ],
         "legendgroup": "4, Steered",
         "marker": {
          "color": "rgb(228,26,28)",
          "symbol": "diamond"
         },
         "mode": "markers",
         "name": "4, Steered",
         "opacity": 1,
         "orientation": "v",
         "showlegend": true,
         "type": "scatter",
         "x": {
          "bdata": "Y3JOPgSF5z0gWre7Cys3PrXjmT3CU+88KNYyPiAy2T2Vr/0+qK5ZPs2RvT74kwE8rkCKPjojtD0NPUM+sHJIPrDwTT62njw+xa6oPWJbhT6kKiU9QVYJPgQwYD7Zy4Y+bMOdvWgtmT6T8Kc++5m8PcQgYj50iPw8",
          "dtype": "f4"
         },
         "xaxis": "x",
         "y": {
          "bdata": "b6KJvqaShL7CL4q+eXrHvgFaH77L0Y6+0r9qvnoUoTzg14++MrrovuLeUr6AuNi9MGe1vqzpe770PMK93PRwvXLq2jyqgpm+asFDvaasv70gwOc7vRCyvnwmdL6Mblq++eOWvqC6C74Qkru+YAapvjrGJL5bHJ6+",
          "dtype": "f4"
         },
         "yaxis": "y"
        },
        {
         "customdata": [
          [
           "1",
           "Original"
          ],
          [
           "1",
           "Original"
          ],
          [
           "1",
           "Original"
          ],
          [
           "1",
           "Original"
          ],
          [
           "1",
           "Original"
          ],
          [
           "1",
           "Original"
          ],
          [
           "1",
           "Original"
          ],
          [
           "1",
           "Original"
          ],
          [
           "1",
           "Original"
          ],
          [
           "1",
           "Original"
          ],
          [
           "1",
           "Original"
          ],
          [
           "1",
           "Original"
          ],
          [
           "1",
           "Original"
          ],
          [
           "1",
           "Original"
          ],
          [
           "1",
           "Original"
          ],
          [
           "1",
           "Original"
          ],
          [
           "1",
           "Original"
          ],
          [
           "1",
           "Original"
          ],
          [
           "1",
           "Original"
          ],
          [
           "1",
           "Original"
          ],
          [
           "1",
           "Original"
          ],
          [
           "1",
           "Original"
          ],
          [
           "1",
           "Original"
          ],
          [
           "1",
           "Original"
          ]
         ],
         "hovertemplate": "<b>%{hovertext}</b><br><br>Cluster=%{customdata[0]}<br>Type=%{customdata[1]}<br>PCA 1=%{x:.3f}<br>PCA 2=%{y:.3f}<extra></extra>",
         "hovertext": [
          "Original | The Dark Knight | Crime",
          "Original | One Flew Over the Cuckoo's Nest | Drama",
          "Original | Cidade de Deus | Crime",
          "Original | Sen to Chihiro no kamikakushi | Adventure",
          "Original | La vita è bella | Comedy",
          "Original | Seppuku | Mystery",
          "Original | Joker | Crime",
          "Original | Terminator 2: Judgment Day | Sci-Fi",
          "Original | Nuovo Cinema Paradiso | Romance",
          "Original | Casablanca | Romance",
          "Original | Capharnaüm | Drama",
          "Original | Ayla: The Daughter of War | Biography",
          "Original | 3 Idiots | Comedy",
          "Original | The Shining | Horror",
          "Original | Dr. Strangelove or: How I Learned to Stop Worrying and Love the Bomb | Comedy",
          "Original | Sunset Blvd. | Film-Noir",
          "Original | Jagten | Drama",
          "Original | Jodaeiye Nader az Simin | Drama",
          "Original | Incendies | Mystery",
          "Original | Miracle in cell NO.7 | Drama",
          "Original | Babam ve Oglum | Family",
          "Original | Eternal Sunshine of the Spotless Mind | Romance",
          "Original | Requiem for a Dream | Drama",
          "Original | American Beauty | Drama"
         ],
         "legendgroup": "1, Original",
         "marker": {
          "color": "rgb(55,126,184)",
          "symbol": "circle"
         },
         "mode": "markers",
         "name": "1, Original",
         "opacity": 0.3,
         "orientation": "v",
         "showlegend": true,
         "type": "scatter",
         "x": {
          "bdata": "zhRGPcEuMb60HC29VdmivP/+cb6iLAg8sDinvaoVgLxGFJq+1PA5vmzIZb78Jra8vxgGvipiKb6yxS0+/VVevsB1oL5QJZe+27qFvLKKVr6XtJW9Kdkmvminqbsnaai+",
          "dtype": "f4"
         },
         "xaxis": "x",
         "y": {
          "bdata": "H+A8vj/Fbb5DXVM+9Ka2PrpD2zz1a/M9AI4LvjRJuztq0pU+UF8bOmQA4b1Jupu8bB5zPiLgoj0CpvK9C2onPtMoGD7nBdI+sbvLPkt/ij0bfBM9sm9QPuYyTj49Wn8+",
          "dtype": "f4"
         },
         "yaxis": "y"
        },
        {
         "customdata": [
          [
           "1",
           "Steered"
          ],
          [
           "1",
           "Steered"
          ],
          [
           "1",
           "Steered"
          ],
          [
           "1",
           "Steered"
          ],
          [
           "1",
           "Steered"
          ],
          [
           "1",
           "Steered"
          ],
          [
           "1",
           "Steered"
          ],
          [
           "1",
           "Steered"
          ],
          [
           "1",
           "Steered"
          ],
          [
           "1",
           "Steered"
          ],
          [
           "1",
           "Steered"
          ],
          [
           "1",
           "Steered"
          ],
          [
           "1",
           "Steered"
          ],
          [
           "1",
           "Steered"
          ],
          [
           "1",
           "Steered"
          ],
          [
           "1",
           "Steered"
          ],
          [
           "1",
           "Steered"
          ],
          [
           "1",
           "Steered"
          ],
          [
           "1",
           "Steered"
          ],
          [
           "1",
           "Steered"
          ],
          [
           "1",
           "Steered"
          ],
          [
           "1",
           "Steered"
          ],
          [
           "1",
           "Steered"
          ],
          [
           "1",
           "Steered"
          ]
         ],
         "hovertemplate": "<b>%{hovertext}</b><br><br>Cluster=%{customdata[0]}<br>Type=%{customdata[1]}<br>PCA 1=%{x:.3f}<br>PCA 2=%{y:.3f}<extra></extra>",
         "hovertext": [
          "Steered | The Dark Knight | Crime",
          "Steered | One Flew Over the Cuckoo's Nest | Drama",
          "Steered | Cidade de Deus | Crime",
          "Steered | Sen to Chihiro no kamikakushi | Adventure",
          "Steered | La vita è bella | Comedy",
          "Steered | Seppuku | Mystery",
          "Steered | Joker | Crime",
          "Steered | Terminator 2: Judgment Day | Sci-Fi",
          "Steered | Nuovo Cinema Paradiso | Romance",
          "Steered | Casablanca | Romance",
          "Steered | Capharnaüm | Drama",
          "Steered | Ayla: The Daughter of War | Biography",
          "Steered | 3 Idiots | Comedy",
          "Steered | The Shining | Horror",
          "Steered | Dr. Strangelove or: How I Learned to Stop Worrying and Love the Bomb | Comedy",
          "Steered | Sunset Blvd. | Film-Noir",
          "Steered | Jagten | Drama",
          "Steered | Jodaeiye Nader az Simin | Drama",
          "Steered | Incendies | Mystery",
          "Steered | Miracle in cell NO.7 | Drama",
          "Steered | Babam ve Oglum | Family",
          "Steered | Eternal Sunshine of the Spotless Mind | Romance",
          "Steered | Requiem for a Dream | Drama",
          "Steered | American Beauty | Drama"
         ],
         "legendgroup": "1, Steered",
         "marker": {
          "color": "rgb(55,126,184)",
          "symbol": "diamond"
         },
         "mode": "markers",
         "name": "1, Steered",
         "opacity": 1,
         "orientation": "v",
         "showlegend": true,
         "type": "scatter",
         "x": {
          "bdata": "06trPlRc/Ty83h0+ktxFPgADxDqGbV4+AwkWPpY9IT4Woa+9vopjPeDhT7xY2kc+xokHPqOdhD2yoaA+mH0SvExo8bxQlVi9+J8ZPt4fhzxJNr89yHbYPPdvJj7aCL69",
          "dtype": "f4"
         },
         "xaxis": "x",
         "y": {
          "bdata": "slCbvlRetr4QDXc8F2wNPsMIIr6y66O98WOWvrXeC76QYbQ9WvQ8vvnOhL4mHkK+EFU5vCyA4b2KvHO+NIqFvMLIpL2WijY+iSdiPpra6b28gdu9AJ35PIe2Ez3wJy49",
          "dtype": "f4"
         },
         "yaxis": "y"
        },
        {
         "customdata": [
          [
           "3",
           "Original"
          ],
          [
           "3",
           "Original"
          ],
          [
           "3",
           "Original"
          ],
          [
           "3",
           "Original"
          ],
          [
           "3",
           "Original"
          ],
          [
           "3",
           "Original"
          ],
          [
           "3",
           "Original"
          ],
          [
           "3",
           "Original"
          ],
          [
           "3",
           "Original"
          ],
          [
           "3",
           "Original"
          ],
          [
           "3",
           "Original"
          ],
          [
           "3",
           "Original"
          ],
          [
           "3",
           "Original"
          ],
          [
           "3",
           "Original"
          ],
          [
           "3",
           "Original"
          ],
          [
           "3",
           "Original"
          ],
          [
           "3",
           "Original"
          ],
          [
           "3",
           "Original"
          ],
          [
           "3",
           "Original"
          ]
         ],
         "hovertemplate": "<b>%{hovertext}</b><br><br>Cluster=%{customdata[0]}<br>Type=%{customdata[1]}<br>PCA 1=%{x:.3f}<br>PCA 2=%{y:.3f}<extra></extra>",
         "hovertext": [
          "Original | 12 Angry Men | Drama",
          "Original | Schindler's List | History",
          "Original | Inception | Sci-Fi",
          "Original | The Matrix | Sci-Fi",
          "Original | The Green Mile | Crime",
          "Original | It's a Wonderful Life | Fantasy",
          "Original | Whiplash | Music",
          "Original | The Pianist | Music",
          "Original | Back to the Future | Sci-Fi",
          "Original | City Lights | Comedy",
          "Original | Taare Zameen Par | Drama",
          "Original | WALL·E | Adventure",
          "Original | Memento | Thriller",
          "Original | Alien | Sci-Fi",
          "Original | Anand | Drama",
          "Original | Witness for the Prosecution | Crime",
          "Original | Andhadhun | Crime",
          "Original | Amélie | Romance",
          "Original | Good Will Hunting | Romance"
         ],
         "legendgroup": "3, Original",
         "marker": {
          "color": "rgb(77,175,74)",
          "symbol": "circle"
         },
         "mode": "markers",
         "name": "3, Original",
         "opacity": 0.3,
         "orientation": "v",
         "showlegend": true,
         "type": "scatter",
         "x": {
          "bdata": "Yr9GvUQEQr6/MeC98VZevWn8Wr5MNpu9e0EJvmaBLr75HkO+VRCLvU9ZEb6WMmE+1becvi3Pcz4MLiG+7R6FvdGFqL4E9iO+Lroyvg==",
          "dtype": "f4"
         },
         "xaxis": "x",
         "y": {
          "bdata": "26JuvsU4zb306hi9hGOLvLNEtb4ZpjA+Ib1JPp0oo7uBeVo+imJFPhFXgD5PKYI+oRRvvs1wAz7bSg4+4plovs7Ni72C0r490QY7PQ==",
          "dtype": "f4"
         },
         "yaxis": "y"
        },
        {
         "customdata": [
          [
           "3",
           "Steered"
          ],
          [
           "3",
           "Steered"
          ],
          [
           "3",
           "Steered"
          ],
          [
           "3",
           "Steered"
          ],
          [
           "3",
           "Steered"
          ],
          [
           "3",
           "Steered"
          ],
          [
           "3",
           "Steered"
          ],
          [
           "3",
           "Steered"
          ],
          [
           "3",
           "Steered"
          ],
          [
           "3",
           "Steered"
          ],
          [
           "3",
           "Steered"
          ],
          [
           "3",
           "Steered"
          ],
          [
           "3",
           "Steered"
          ],
          [
           "3",
           "Steered"
          ],
          [
           "3",
           "Steered"
          ],
          [
           "3",
           "Steered"
          ],
          [
           "3",
           "Steered"
          ],
          [
           "3",
           "Steered"
          ],
          [
           "3",
           "Steered"
          ]
         ],
         "hovertemplate": "<b>%{hovertext}</b><br><br>Cluster=%{customdata[0]}<br>Type=%{customdata[1]}<br>PCA 1=%{x:.3f}<br>PCA 2=%{y:.3f}<extra></extra>",
         "hovertext": [
          "Steered | 12 Angry Men | Drama",
          "Steered | Schindler's List | History",
          "Steered | Inception | Sci-Fi",
          "Steered | The Matrix | Sci-Fi",
          "Steered | The Green Mile | Crime",
          "Steered | It's a Wonderful Life | Fantasy",
          "Steered | Whiplash | Music",
          "Steered | The Pianist | Music",
          "Steered | Back to the Future | Sci-Fi",
          "Steered | City Lights | Comedy",
          "Steered | Taare Zameen Par | Drama",
          "Steered | WALL·E | Adventure",
          "Steered | Memento | Thriller",
          "Steered | Alien | Sci-Fi",
          "Steered | Anand | Drama",
          "Steered | Witness for the Prosecution | Crime",
          "Steered | Andhadhun | Crime",
          "Steered | Amélie | Romance",
          "Steered | Good Will Hunting | Romance"
         ],
         "legendgroup": "3, Steered",
         "marker": {
          "color": "rgb(77,175,74)",
          "symbol": "diamond"
         },
         "mode": "markers",
         "name": "3, Steered",
         "opacity": 1,
         "orientation": "v",
         "showlegend": true,
         "type": "scatter",
         "x": {
          "bdata": "eCAEPuiqODxq/cc9MukOPnAoCzyWXu09mi6+PYCD3TtotPI8ZFArPsthqj2Eib8+1EnsvXMOxj5Y4lU9qDzwPSodyb1ED3s9PwmNPQ==",
          "dtype": "f4"
         },
         "xaxis": "x",
         "y": {
          "bdata": "5xuwvi/0gL58AlO+mGUvvpQY5L5gUfS7aIJavO9cFr5Q3wo86LYDvYVLFT1cLmk9V+KyvmS7bL2yXCy943itvrQObr7Smsa9QTQkvg==",
          "dtype": "f4"
         },
         "yaxis": "y"
        },
        {
         "customdata": [
          [
           "2",
           "Original"
          ],
          [
           "2",
           "Original"
          ],
          [
           "2",
           "Original"
          ],
          [
           "2",
           "Original"
          ],
          [
           "2",
           "Original"
          ],
          [
           "2",
           "Original"
          ],
          [
           "2",
           "Original"
          ],
          [
           "2",
           "Original"
          ],
          [
           "2",
           "Original"
          ],
          [
           "2",
           "Original"
          ],
          [
           "2",
           "Original"
          ],
          [
           "2",
           "Original"
          ]
         ],
         "hovertemplate": "<b>%{hovertext}</b><br><br>Cluster=%{customdata[0]}<br>Type=%{customdata[1]}<br>PCA 1=%{x:.3f}<br>PCA 2=%{y:.3f}<extra></extra>",
         "hovertext": [
          "Original | The Lord of the Rings: The Return of the King | Adventure",
          "Original | The Lord of the Rings: The Fellowship of the Ring | Adventure",
          "Original | The Lord of the Rings: The Two Towers | Adventure",
          "Original | Star Wars: Episode V - The Empire Strikes Back | Adventure",
          "Original | Soorarai Pottru | Drama",
          "Original | Star Wars | Action",
          "Original | The Prestige | Mystery",
          "Original | Avengers: Endgame | Drama",
          "Original | Avengers: Infinity War | Adventure",
          "Original | Mononoke-hime | Adventure",
          "Original | 1917 | War",
          "Original | Tumbbad | Drama"
         ],
         "legendgroup": "2, Original",
         "marker": {
          "color": "rgb(152,78,163)",
          "symbol": "circle"
         },
         "mode": "markers",
         "name": "2, Original",
         "opacity": 0.3,
         "orientation": "v",
         "showlegend": true,
         "type": "scatter",
         "x": {
          "bdata": "3EQHPzdh2j4oAAE/1CLuPqH8gT5ArQc/1WFMPqup4j7SFQo/iEz6PX7twD5Iuus8",
          "dtype": "f4"
         },
         "xaxis": "x",
         "y": {
          "bdata": "AeQgPrChhj4Q3l0+ufstPdIVqT0DgYI9ZesRPCXXLD6ptJk9EUmAPqvSQr7Lu9U+",
          "dtype": "f4"
         },
         "yaxis": "y"
        },
        {
         "customdata": [
          [
           "2",
           "Steered"
          ],
          [
           "2",
           "Steered"
          ],
          [
           "2",
           "Steered"
          ],
          [
           "2",
           "Steered"
          ],
          [
           "2",
           "Steered"
          ],
          [
           "2",
           "Steered"
          ],
          [
           "2",
           "Steered"
          ],
          [
           "2",
           "Steered"
          ],
          [
           "2",
           "Steered"
          ],
          [
           "2",
           "Steered"
          ],
          [
           "2",
           "Steered"
          ],
          [
           "2",
           "Steered"
          ]
         ],
         "hovertemplate": "<b>%{hovertext}</b><br><br>Cluster=%{customdata[0]}<br>Type=%{customdata[1]}<br>PCA 1=%{x:.3f}<br>PCA 2=%{y:.3f}<extra></extra>",
         "hovertext": [
          "Steered | The Lord of the Rings: The Return of the King | Adventure",
          "Steered | The Lord of the Rings: The Fellowship of the Ring | Adventure",
          "Steered | The Lord of the Rings: The Two Towers | Adventure",
          "Steered | Star Wars: Episode V - The Empire Strikes Back | Adventure",
          "Steered | Soorarai Pottru | Drama",
          "Steered | Star Wars | Action",
          "Steered | The Prestige | Mystery",
          "Steered | Avengers: Endgame | Drama",
          "Steered | Avengers: Infinity War | Adventure",
          "Steered | Mononoke-hime | Adventure",
          "Steered | 1917 | War",
          "Steered | Tumbbad | Drama"
         ],
         "legendgroup": "2, Steered",
         "marker": {
          "color": "rgb(152,78,163)",
          "symbol": "diamond"
         },
         "mode": "markers",
         "name": "2, Steered",
         "opacity": 1,
         "orientation": "v",
         "showlegend": true,
         "type": "scatter",
         "x": {
          "bdata": "QjYfP6zNCz+fYBo/9PAPP6yR1D4+Xx0/jZS7PigrCz+8WBg/1tOePv/J+j5iU1g+",
          "dtype": "f4"
         },
         "xaxis": "x",
         "y": {
          "bdata": "TBCfvJPGlj0MVXQ8eEf+vUB8271aW969Ow4nvqBiuLzOTZm9DeMgPf8unb7izG0+",
          "dtype": "f4"
         },
         "yaxis": "y"
        },
        {
         "customdata": [
          [
           "0",
           "Original"
          ],
          [
           "0",
           "Original"
          ],
          [
           "0",
           "Original"
          ],
          [
           "0",
           "Original"
          ],
          [
           "0",
           "Original"
          ],
          [
           "0",
           "Original"
          ],
          [
           "0",
           "Original"
          ],
          [
           "0",
           "Original"
          ],
          [
           "0",
           "Original"
          ],
          [
           "0",
           "Original"
          ],
          [
           "0",
           "Original"
          ],
          [
           "0",
           "Original"
          ],
          [
           "0",
           "Original"
          ],
          [
           "0",
           "Original"
          ],
          [
           "0",
           "Original"
          ]
         ],
         "hovertemplate": "<b>%{hovertext}</b><br><br>Cluster=%{customdata[0]}<br>Type=%{customdata[1]}<br>PCA 1=%{x:.3f}<br>PCA 2=%{y:.3f}<extra></extra>",
         "hovertext": [
          "Original | Fight Club | Drama",
          "Original | Il buono, il brutto, il cattivo | Western",
          "Original | Interstellar | Sci-Fi",
          "Original | Se7en | Crime",
          "Original | The Departed | Crime",
          "Original | The Usual Suspects | Crime",
          "Original | Once Upon a Time in the West | Western",
          "Original | Vikram Vedha | Crime",
          "Original | Kimi no na wa. | Drama",
          "Original | Spider-Man: Into the Spider-Verse | Adventure",
          "Original | The Lives of Others | Thriller",
          "Original | Paths of Glory | War",
          "Original | Rear Window | Thriller",
          "Original | Inglourious Basterds | War",
          "Original | Snatch | Crime"
         ],
         "legendgroup": "0, Original",
         "marker": {
          "color": "rgb(255,127,0)",
          "symbol": "circle"
         },
         "mode": "markers",
         "name": "0, Original",
         "opacity": 0.3,
         "orientation": "v",
         "showlegend": true,
         "type": "scatter",
         "x": {
          "bdata": "5mtzPOyHVD4lu8E+0sCiPEDBGD2lv3I9mYULOjuU+j1u4gq8/tNxPjmxa74np5s+7QBWvgo4bD2dyxA+",
          "dtype": "f4"
         },
         "xaxis": "x",
         "y": {
          "bdata": "s/zRvI3INL4A800+KjXMvil/zL7XfYG+PpVSvmS6J77xJEY++VGJPdwcJb7AxXq+ZjVBvsw8mb42nSu+",
          "dtype": "f4"
         },
         "yaxis": "y"
        },
        {
         "customdata": [
          [
           "0",
           "Steered"
          ],
          [
           "0",
           "Steered"
          ],
          [
           "0",
           "Steered"
          ],
          [
           "0",
           "Steered"
          ],
          [
           "0",
           "Steered"
          ],
          [
           "0",
           "Steered"
          ],
          [
           "0",
           "Steered"
          ],
          [
           "0",
           "Steered"
          ],
          [
           "0",
           "Steered"
          ],
          [
           "0",
           "Steered"
          ],
          [
           "0",
           "Steered"
          ],
          [
           "0",
           "Steered"
          ],
          [
           "0",
           "Steered"
          ],
          [
           "0",
           "Steered"
          ],
          [
           "0",
           "Steered"
          ]
         ],
         "hovertemplate": "<b>%{hovertext}</b><br><br>Cluster=%{customdata[0]}<br>Type=%{customdata[1]}<br>PCA 1=%{x:.3f}<br>PCA 2=%{y:.3f}<extra></extra>",
         "hovertext": [
          "Steered | Fight Club | Drama",
          "Steered | Il buono, il brutto, il cattivo | Western",
          "Steered | Interstellar | Sci-Fi",
          "Steered | Se7en | Crime",
          "Steered | The Departed | Crime",
          "Steered | The Usual Suspects | Crime",
          "Steered | Once Upon a Time in the West | Western",
          "Steered | Vikram Vedha | Crime",
          "Steered | Kimi no na wa. | Drama",
          "Steered | Spider-Man: Into the Spider-Verse | Adventure",
          "Steered | The Lives of Others | Thriller",
          "Steered | Paths of Glory | War",
          "Steered | Rear Window | Thriller",
          "Steered | Inglourious Basterds | War",
          "Steered | Snatch | Crime"
         ],
         "legendgroup": "0, Steered",
         "marker": {
          "color": "rgb(255,127,0)",
          "symbol": "diamond"
         },
         "mode": "markers",
         "name": "0, Steered",
         "opacity": 1,
         "orientation": "v",
         "showlegend": true,
         "type": "scatter",
         "x": {
          "bdata": "1GliPhZauz52avo+1os1PhQNVj7JnH4+KUM5Pursjj425TA+6728Pgzj0Lx5h80+ICmcu2AhdD7KCKE+",
          "dtype": "f4"
         },
         "xaxis": "x",
         "y": {
          "bdata": "vm9KvqANoL48+Uc9dD7yvkAT9r4SQba+UOenvultjr4QuWI8OC2yvQvvl760p6O+En+nvoaiyr5IPJu+",
          "dtype": "f4"
         },
         "yaxis": "y"
        },
        {
         "hoverinfo": "none",
         "line": {
          "color": "gray",
          "dash": "dot",
          "width": 1
         },
         "mode": "lines",
         "showlegend": false,
         "type": "scatter",
         "x": [
          0.028813423588871956,
          0.20160822570323944
         ],
         "y": [
          -0.13500607013702393,
          -0.26881739497184753
         ]
        },
        {
         "hoverinfo": "none",
         "line": {
          "color": "gray",
          "dash": "dot",
          "width": 1
         },
         "mode": "lines",
         "showlegend": false,
         "type": "scatter",
         "x": [
          -0.0482674315571785,
          0.11304667592048645
         ],
         "y": [
          -0.1372208148241043,
          -0.25893133878707886
         ]
        },
        {
         "hoverinfo": "none",
         "line": {
          "color": "gray",
          "dash": "dot",
          "width": 1
         },
         "mode": "lines",
         "showlegend": false,
         "type": "scatter",
         "x": [
          0.04835968464612961,
          0.23014764487743378
         ],
         "y": [
          -0.184448704123497,
          -0.303350031375885
         ]
        },
        {
         "hoverinfo": "none",
         "line": {
          "color": "gray",
          "dash": "dot",
          "width": 1
         },
         "mode": "lines",
         "showlegend": false,
         "type": "scatter",
         "x": [
          -0.22345735132694244,
          -0.005595460534095764
         ],
         "y": [
          -0.10750472545623779,
          -0.26989561319351196
         ]
        },
        {
         "hoverinfo": "none",
         "line": {
          "color": "gray",
          "dash": "dot",
          "width": 1
         },
         "mode": "lines",
         "showlegend": false,
         "type": "scatter",
         "x": [
          -0.04852236062288284,
          0.12903010845184326
         ],
         "y": [
          -0.2330431193113327,
          -0.3439628779888153
         ]
        },
        {
         "hoverinfo": "none",
         "line": {
          "color": "gray",
          "dash": "dot",
          "width": 1
         },
         "mode": "lines",
         "showlegend": false,
         "type": "scatter",
         "x": [
          0.5283944606781006,
          0.6219216585159302
         ],
         "y": [
          0.1571197658777237,
          -0.01941695064306259
         ]
        },
        {
         "hoverinfo": "none",
         "line": {
          "color": "gray",
          "dash": "dot",
          "width": 1
         },
         "mode": "lines",
         "showlegend": false,
         "type": "scatter",
         "x": [
          -0.012316326610744,
          0.178875133395195
         ],
         "y": [
          -0.2734387218952179,
          -0.3896062672138214
         ]
        },
        {
         "hoverinfo": "none",
         "line": {
          "color": "gray",
          "dash": "dot",
          "width": 1
         },
         "mode": "lines",
         "showlegend": false,
         "type": "scatter",
         "x": [
          -0.18946939706802368,
          0.011271215975284576
         ],
         "y": [
          -0.1002059355378151,
          -0.2518629729747772
         ]
        },
        {
         "hoverinfo": "none",
         "line": {
          "color": "gray",
          "dash": "dot",
          "width": 1
         },
         "mode": "lines",
         "showlegend": false,
         "type": "scatter",
         "x": [
          -0.10946988314390182,
          0.09765131771564484
         ],
         "y": [
          -0.03733344376087189,
          -0.2060641646385193
         ]
        },
        {
         "hoverinfo": "none",
         "line": {
          "color": "gray",
          "dash": "dot",
          "width": 1
         },
         "mode": "lines",
         "showlegend": false,
         "type": "scatter",
         "x": [
          0.014857267960906029,
          0.22110682725906372
         ],
         "y": [
          -0.0256331916898489,
          -0.1976918876171112
         ]
        },
        {
         "hoverinfo": "none",
         "line": {
          "color": "gray",
          "dash": "dot",
          "width": 1
         },
         "mode": "lines",
         "showlegend": false,
         "type": "scatter",
         "x": [
          0.4265229403972626,
          0.5461070537567139
         ],
         "y": [
          0.2629523277282715,
          0.07362093776464462
         ]
        },
        {
         "hoverinfo": "none",
         "line": {
          "color": "gray",
          "dash": "dot",
          "width": 1
         },
         "mode": "lines",
         "showlegend": false,
         "type": "scatter",
         "x": [
          -0.16048657894134521,
          0.07514134794473648
         ],
         "y": [
          0.03480977937579155,
          -0.15561677515506744
         ]
        },
        {
         "hoverinfo": "none",
         "line": {
          "color": "gray",
          "dash": "dot",
          "width": 1
         },
         "mode": "lines",
         "showlegend": false,
         "type": "scatter",
         "x": [
          0.20754975080490112,
          0.36592167615890503
         ],
         "y": [
          -0.17654629051685333,
          -0.3126039505004883
         ]
        },
        {
         "hoverinfo": "none",
         "line": {
          "color": "gray",
          "dash": "dot",
          "width": 1
         },
         "mode": "lines",
         "showlegend": false,
         "type": "scatter",
         "x": [
          0.503908634185791,
          0.6030368208885193
         ],
         "y": [
          0.21666741371154785,
          0.014912854880094528
         ]
        },
        {
         "hoverinfo": "none",
         "line": {
          "color": "gray",
          "dash": "dot",
          "width": 1
         },
         "mode": "lines",
         "showlegend": false,
         "type": "scatter",
         "x": [
          -0.05428213253617287,
          0.13956144452095032
         ],
         "y": [
          -0.017015226185321808,
          -0.1712859869003296
         ]
        },
        {
         "hoverinfo": "none",
         "line": {
          "color": "gray",
          "dash": "dot",
          "width": 1
         },
         "mode": "lines",
         "showlegend": false,
         "type": "scatter",
         "x": [
          -0.1678522825241089,
          0.02921474352478981
         ],
         "y": [
          -0.1305045336484909,
          -0.27894434332847595
         ]
        },
        {
         "hoverinfo": "none",
         "line": {
          "color": "gray",
          "dash": "dot",
          "width": 1
         },
         "mode": "lines",
         "showlegend": false,
         "type": "scatter",
         "x": [
          0.4651094675064087,
          0.5622704029083252
         ],
         "y": [
          0.042476389557123184,
          -0.12415975332260132
         ]
        },
        {
         "hoverinfo": "none",
         "line": {
          "color": "gray",
          "dash": "dot",
          "width": 1
         },
         "mode": "lines",
         "showlegend": false,
         "type": "scatter",
         "x": [
          -0.17302991449832916,
          0.030927814543247223
         ],
         "y": [
          -0.23219774663448334,
          -0.35618841648101807
         ]
        },
        {
         "hoverinfo": "none",
         "line": {
          "color": "gray",
          "dash": "dot",
          "width": 1
         },
         "mode": "lines",
         "showlegend": false,
         "type": "scatter",
         "x": [
          -0.020611600950360298,
          0.1746450662612915
         ],
         "y": [
          -0.06402185559272766,
          -0.22924736142158508
         ]
        },
        {
         "hoverinfo": "none",
         "line": {
          "color": "gray",
          "dash": "dot",
          "width": 1
         },
         "mode": "lines",
         "showlegend": false,
         "type": "scatter",
         "x": [
          -0.08016777038574219,
          0.10605263710021973
         ],
         "y": [
          0.19727784395217896,
          0.01966308429837227
         ]
        },
        {
         "hoverinfo": "none",
         "line": {
          "color": "gray",
          "dash": "dot",
          "width": 1
         },
         "mode": "lines",
         "showlegend": false,
         "type": "scatter",
         "x": [
          0.2538805305957794,
          0.41517388820648193
         ],
         "y": [
          0.08256115019321442,
          -0.10717058181762695
         ]
        },
        {
         "hoverinfo": "none",
         "line": {
          "color": "gray",
          "dash": "dot",
          "width": 1
         },
         "mode": "lines",
         "showlegend": false,
         "type": "scatter",
         "x": [
          0.3783809244632721,
          0.48909348249435425
         ],
         "y": [
          0.20112228393554688,
          0.048821672797203064
         ]
        },
        {
         "hoverinfo": "none",
         "line": {
          "color": "gray",
          "dash": "dot",
          "width": 1
         },
         "mode": "lines",
         "showlegend": false,
         "type": "scatter",
         "x": [
          -0.0422637015581131,
          0.1541699767112732
         ],
         "y": [
          0.2064104527235031,
          0.015078797936439514
         ]
        },
        {
         "hoverinfo": "none",
         "line": {
          "color": "gray",
          "dash": "dot",
          "width": 1
         },
         "mode": "lines",
         "showlegend": false,
         "type": "scatter",
         "x": [
          -0.019879022613167763,
          0.1932242214679718
         ],
         "y": [
          0.3567425012588501,
          0.13810764253139496
         ]
        },
        {
         "hoverinfo": "none",
         "line": {
          "color": "gray",
          "dash": "dot",
          "width": 1
         },
         "mode": "lines",
         "showlegend": false,
         "type": "scatter",
         "x": [
          0.4107581377029419,
          0.4954802095890045
         ],
         "y": [
          -0.18326537311077118,
          -0.2809438705444336
         ]
        },
        {
         "hoverinfo": "none",
         "line": {
          "color": "gray",
          "dash": "dot",
          "width": 1
         },
         "mode": "lines",
         "showlegend": false,
         "type": "scatter",
         "x": [
          -0.21385349333286285,
          0.00849352777004242
         ],
         "y": [
          -0.3540397584438324,
          -0.4455000162124634
         ]
        },
        {
         "hoverinfo": "none",
         "line": {
          "color": "gray",
          "dash": "dot",
          "width": 1
         },
         "mode": "lines",
         "showlegend": false,
         "type": "scatter",
         "x": [
          -0.23632429540157318,
          0.001495450735092163
         ],
         "y": [
          0.026765692979097366,
          -0.1582365483045578
         ]
        },
        {
         "hoverinfo": "none",
         "line": {
          "color": "gray",
          "dash": "dot",
          "width": 1
         },
         "mode": "lines",
         "showlegend": false,
         "type": "scatter",
         "x": [
          0.01986733451485634,
          0.17729124426841736
         ],
         "y": [
          -0.39884310960769653,
          -0.4731327295303345
         ]
        },
        {
         "hoverinfo": "none",
         "line": {
          "color": "gray",
          "dash": "dot",
          "width": 1
         },
         "mode": "lines",
         "showlegend": false,
         "type": "scatter",
         "x": [
          0.03256672993302345,
          0.21258032321929932
         ],
         "y": [
          -0.3916914463043213,
          -0.4545455574989319
         ]
        },
        {
         "hoverinfo": "none",
         "line": {
          "color": "gray",
          "dash": "dot",
          "width": 1
         },
         "mode": "lines",
         "showlegend": false,
         "type": "scatter",
         "x": [
          0.5299873352050781,
          0.6147345304489136
         ],
         "y": [
          0.0637226328253746,
          -0.10857267677783966
         ]
        },
        {
         "hoverinfo": "none",
         "line": {
          "color": "gray",
          "dash": "dot",
          "width": 1
         },
         "mode": "lines",
         "showlegend": false,
         "type": "scatter",
         "x": [
          0.008311422541737556,
          0.2172146737575531
         ],
         "y": [
          0.11885825544595718,
          -0.08003939688205719
         ]
        },
        {
         "hoverinfo": "none",
         "line": {
          "color": "gray",
          "dash": "dot",
          "width": 1
         },
         "mode": "lines",
         "showlegend": false,
         "type": "scatter",
         "x": [
          0.2553977072238922,
          0.3702529966831207
         ],
         "y": [
          -0.09364467114210129,
          -0.20592835545539856
         ]
        },
        {
         "hoverinfo": "none",
         "line": {
          "color": "gray",
          "dash": "dot",
          "width": 1
         },
         "mode": "lines",
         "showlegend": false,
         "type": "scatter",
         "x": [
          -0.07578715682029724,
          0.11590306460857391
         ],
         "y": [
          0.1725086122751236,
          -0.007455989718437195
         ]
        },
        {
         "hoverinfo": "none",
         "line": {
          "color": "gray",
          "dash": "dot",
          "width": 1
         },
         "mode": "lines",
         "showlegend": false,
         "type": "scatter",
         "x": [
          -0.08165109157562256,
          0.1465187519788742
         ],
         "y": [
          -0.13628387451171875,
          -0.2937312424182892
         ]
        },
        {
         "hoverinfo": "none",
         "line": {
          "color": "gray",
          "dash": "dot",
          "width": 1
         },
         "mode": "lines",
         "showlegend": false,
         "type": "scatter",
         "x": [
          -0.13403885066509247,
          0.0928623229265213
         ],
         "y": [
          0.19701053202152252,
          -0.013336755335330963
         ]
        },
        {
         "hoverinfo": "none",
         "line": {
          "color": "gray",
          "dash": "dot",
          "width": 1
         },
         "mode": "lines",
         "showlegend": false,
         "type": "scatter",
         "x": [
          -0.22456976771354675,
          0.007908813655376434
         ],
         "y": [
          0.08433333784341812,
          -0.1058206558227539
         ]
        },
        {
         "hoverinfo": "none",
         "line": {
          "color": "gray",
          "dash": "dot",
          "width": 1
         },
         "mode": "lines",
         "showlegend": false,
         "type": "scatter",
         "x": [
          0.19959194958209991,
          0.36636772751808167
         ],
         "y": [
          0.008906220085918903,
          -0.1631402224302292
         ]
        },
        {
         "hoverinfo": "none",
         "line": {
          "color": "gray",
          "dash": "dot",
          "width": 1
         },
         "mode": "lines",
         "showlegend": false,
         "type": "scatter",
         "x": [
          0.03729367256164551,
          0.209034264087677
         ],
         "y": [
          -0.39940765500068665,
          -0.48061561584472656
         ]
        },
        {
         "hoverinfo": "none",
         "line": {
          "color": "gray",
          "dash": "dot",
          "width": 1
         },
         "mode": "lines",
         "showlegend": false,
         "type": "scatter",
         "x": [
          -0.1704154908657074,
          0.006760060787200928
         ],
         "y": [
          -0.0049792067147791386,
          -0.14683888852596283
         ]
        },
        {
         "hoverinfo": "none",
         "line": {
          "color": "gray",
          "dash": "dot",
          "width": 1
         },
         "mode": "lines",
         "showlegend": false,
         "type": "scatter",
         "x": [
          0.12664012610912323,
          0.27002471685409546
         ],
         "y": [
          -0.25510600209236145,
          -0.35430288314819336
         ]
        },
        {
         "hoverinfo": "none",
         "line": {
          "color": "gray",
          "dash": "dot",
          "width": 1
         },
         "mode": "lines",
         "showlegend": false,
         "type": "scatter",
         "x": [
          -0.11860959231853485,
          0.08795781433582306
         ],
         "y": [
          -0.11627364158630371,
          -0.24600857496261597
         ]
        },
        {
         "hoverinfo": "none",
         "line": {
          "color": "gray",
          "dash": "dot",
          "width": 1
         },
         "mode": "lines",
         "showlegend": false,
         "type": "scatter",
         "x": [
          0.05926479771733284,
          0.24864496290683746
         ],
         "y": [
          -0.2529132068157196,
          -0.35596519708633423
         ]
        },
        {
         "hoverinfo": "none",
         "line": {
          "color": "gray",
          "dash": "dot",
          "width": 1
         },
         "mode": "lines",
         "showlegend": false,
         "type": "scatter",
         "x": [
          -0.018546877428889275,
          0.19066257774829865
         ],
         "y": [
          0.09800843894481659,
          -0.0948428213596344
         ]
        },
        {
         "hoverinfo": "none",
         "line": {
          "color": "gray",
          "dash": "dot",
          "width": 1
         },
         "mode": "lines",
         "showlegend": false,
         "type": "scatter",
         "x": [
          0.032795488834381104,
          0.19574999809265137
         ],
         "y": [
          0.09660997986793518,
          -0.05882726609706879
         ]
        },
        {
         "hoverinfo": "none",
         "line": {
          "color": "gray",
          "dash": "dot",
          "width": 1
         },
         "mode": "lines",
         "showlegend": false,
         "type": "scatter",
         "x": [
          -0.015635330229997635,
          0.1574614942073822
         ],
         "y": [
          0.005715513601899147,
          -0.13659174740314484
         ]
        },
        {
         "hoverinfo": "none",
         "line": {
          "color": "gray",
          "dash": "dot",
          "width": 1
         },
         "mode": "lines",
         "showlegend": false,
         "type": "scatter",
         "x": [
          -0.30093592405319214,
          -0.08575646579265594
         ],
         "y": [
          0.2926209568977356,
          0.08807671070098877
         ]
        },
        {
         "hoverinfo": "none",
         "line": {
          "color": "gray",
          "dash": "dot",
          "width": 1
         },
         "mode": "lines",
         "showlegend": false,
         "type": "scatter",
         "x": [
          0.05032527446746826,
          0.20111346244812012
         ],
         "y": [
          0.1823083609342575,
          0.026723120361566544
         ]
        },
        {
         "hoverinfo": "none",
         "line": {
          "color": "gray",
          "dash": "dot",
          "width": 1
         },
         "mode": "lines",
         "showlegend": false,
         "type": "scatter",
         "x": [
          -0.19054783880710602,
          0.029627040028572083
         ],
         "y": [
          0.21335412561893463,
          0.008476093411445618
         ]
        },
        {
         "hoverinfo": "none",
         "line": {
          "color": "gray",
          "dash": "dot",
          "width": 1
         },
         "mode": "lines",
         "showlegend": false,
         "type": "scatter",
         "x": [
          0.0005322336801327765,
          0.18092025816440582
         ],
         "y": [
          -0.20564743876457214,
          -0.32793664932250977
         ]
        },
        {
         "hoverinfo": "none",
         "line": {
          "color": "gray",
          "dash": "dot",
          "width": 1
         },
         "mode": "lines",
         "showlegend": false,
         "type": "scatter",
         "x": [
          -0.02741897478699684,
          0.18419918417930603
         ],
         "y": [
          -0.14239399135112762,
          -0.2998250126838684
         ]
        },
        {
         "hoverinfo": "none",
         "line": {
          "color": "gray",
          "dash": "dot",
          "width": 1
         },
         "mode": "lines",
         "showlegend": false,
         "type": "scatter",
         "x": [
          -0.1815827488899231,
          0.05555223673582077
         ],
         "y": [
          0.0005926983430981636,
          -0.18452587723731995
         ]
        },
        {
         "hoverinfo": "none",
         "line": {
          "color": "gray",
          "dash": "dot",
          "width": 1
         },
         "mode": "lines",
         "showlegend": false,
         "type": "scatter",
         "x": [
          -0.10324139893054962,
          0.08236459642648697
         ],
         "y": [
          0.12111792713403702,
          -0.04779187589883804
         ]
        },
        {
         "hoverinfo": "none",
         "line": {
          "color": "gray",
          "dash": "dot",
          "width": 1
         },
         "mode": "lines",
         "showlegend": false,
         "type": "scatter",
         "x": [
          -0.06790224462747574,
          0.16729885339736938
         ],
         "y": [
          0.192758709192276,
          -0.03215685486793518
         ]
        },
        {
         "hoverinfo": "none",
         "line": {
          "color": "gray",
          "dash": "dot",
          "width": 1
         },
         "mode": "lines",
         "showlegend": false,
         "type": "scatter",
         "x": [
          -0.22439736127853394,
          -0.012688130140304565
         ],
         "y": [
          -0.10986402630805969,
          -0.25939157605171204
         ]
        },
        {
         "hoverinfo": "none",
         "line": {
          "color": "gray",
          "dash": "dot",
          "width": 1
         },
         "mode": "lines",
         "showlegend": false,
         "type": "scatter",
         "x": [
          -0.022235386073589325,
          0.1951688528060913
         ],
         "y": [
          -0.019009726122021675,
          -0.18956813216209412
         ]
        },
        {
         "hoverinfo": "none",
         "line": {
          "color": "gray",
          "dash": "dot",
          "width": 1
         },
         "mode": "lines",
         "showlegend": false,
         "type": "scatter",
         "x": [
          0.12235303968191147,
          0.2791512608528137
         ],
         "y": [
          -0.16379696130752563,
          -0.2781822979450226
         ]
        },
        {
         "hoverinfo": "none",
         "line": {
          "color": "gray",
          "dash": "dot",
          "width": 1
         },
         "mode": "lines",
         "showlegend": false,
         "type": "scatter",
         "x": [
          -0.00847683660686016,
          0.1727493703365326
         ],
         "y": [
          0.19350029528141022,
          0.013838067650794983
         ]
        },
        {
         "hoverinfo": "none",
         "line": {
          "color": "gray",
          "dash": "dot",
          "width": 1
         },
         "mode": "lines",
         "showlegend": false,
         "type": "scatter",
         "x": [
          0.07832176983356476,
          0.26046282052993774
         ],
         "y": [
          0.08438336849212646,
          -0.09359101951122284
         ]
        },
        {
         "hoverinfo": "none",
         "line": {
          "color": "gray",
          "dash": "dot",
          "width": 1
         },
         "mode": "lines",
         "showlegend": false,
         "type": "scatter",
         "x": [
          0.2361602485179901,
          0.36863645911216736
         ],
         "y": [
          0.06705088168382645,
          -0.08700031042098999
         ]
        },
        {
         "hoverinfo": "none",
         "line": {
          "color": "gray",
          "dash": "dot",
          "width": 1
         },
         "mode": "lines",
         "showlegend": false,
         "type": "scatter",
         "x": [
          0.44270071387290955,
          0.5436272621154785
         ],
         "y": [
          0.16878946125507355,
          -0.022507965564727783
         ]
        },
        {
         "hoverinfo": "none",
         "line": {
          "color": "gray",
          "dash": "dot",
          "width": 1
         },
         "mode": "lines",
         "showlegend": false,
         "type": "scatter",
         "x": [
          0.5393954515457153,
          0.5951039791107178
         ],
         "y": [
          0.07505161315202713,
          -0.07485543191432953
         ]
        },
        {
         "hoverinfo": "none",
         "line": {
          "color": "gray",
          "dash": "dot",
          "width": 1
         },
         "mode": "lines",
         "showlegend": false,
         "type": "scatter",
         "x": [
          -0.1593288630247116,
          0.04032386839389801
         ],
         "y": [
          0.19056791067123413,
          0.007072463631629944
         ]
        },
        {
         "hoverinfo": "none",
         "line": {
          "color": "gray",
          "dash": "dot",
          "width": 1
         },
         "mode": "lines",
         "showlegend": false,
         "type": "scatter",
         "x": [
          -0.039264190942049026,
          0.13411809504032135
         ],
         "y": [
          -0.22719082236289978,
          -0.3477839529514313
         ]
        },
        {
         "hoverinfo": "none",
         "line": {
          "color": "gray",
          "dash": "dot",
          "width": 1
         },
         "mode": "lines",
         "showlegend": false,
         "type": "scatter",
         "x": [
          0.0439121350646019,
          0.21893316507339478
         ],
         "y": [
          -0.10217973589897156,
          -0.2384280562400818
         ]
        },
        {
         "hoverinfo": "none",
         "line": {
          "color": "gray",
          "dash": "dot",
          "width": 1
         },
         "mode": "lines",
         "showlegend": false,
         "type": "scatter",
         "x": [
          -0.13095377385616302,
          0.132361501455307
         ],
         "y": [
          0.23742073774337769,
          -0.011311784386634827
         ]
        },
        {
         "hoverinfo": "none",
         "line": {
          "color": "gray",
          "dash": "dot",
          "width": 1
         },
         "mode": "lines",
         "showlegend": false,
         "type": "scatter",
         "x": [
          -0.14194224774837494,
          0.08319433778524399
         ],
         "y": [
          0.25066426396369934,
          0.036448974162340164
         ]
        },
        {
         "hoverinfo": "none",
         "line": {
          "color": "gray",
          "dash": "dot",
          "width": 1
         },
         "mode": "lines",
         "showlegend": false,
         "type": "scatter",
         "x": [
          0.21991953253746033,
          0.3740960359573364
         ],
         "y": [
          0.2542214095592499,
          0.056928977370262146
         ]
        },
        {
         "hoverinfo": "none",
         "line": {
          "color": "gray",
          "dash": "dot",
          "width": 1
         },
         "mode": "lines",
         "showlegend": false,
         "type": "scatter",
         "x": [
          -0.23016823828220367,
          -0.0254988893866539
         ],
         "y": [
          -0.16124290227890015,
          -0.296745628118515
         ]
        },
        {
         "hoverinfo": "none",
         "line": {
          "color": "gray",
          "dash": "dot",
          "width": 1
         },
         "mode": "lines",
         "showlegend": false,
         "type": "scatter",
         "x": [
          0.1061844751238823,
          0.2632739841938019
         ],
         "y": [
          -0.08266400545835495,
          -0.2133123278617859
         ]
        },
        {
         "hoverinfo": "none",
         "line": {
          "color": "gray",
          "dash": "dot",
          "width": 1
         },
         "mode": "lines",
         "showlegend": false,
         "type": "scatter",
         "x": [
          -0.30609002709388733,
          -0.11537519097328186
         ],
         "y": [
          -0.2334771305322647,
          -0.34938308596611023
         ]
        },
        {
         "hoverinfo": "none",
         "line": {
          "color": "gray",
          "dash": "dot",
          "width": 1
         },
         "mode": "lines",
         "showlegend": false,
         "type": "scatter",
         "x": [
          0.12221628427505493,
          0.3102099299430847
         ],
         "y": [
          0.25055745244026184,
          0.0392790324985981
         ]
        },
        {
         "hoverinfo": "none",
         "line": {
          "color": "gray",
          "dash": "dot",
          "width": 1
         },
         "mode": "lines",
         "showlegend": false,
         "type": "scatter",
         "x": [
          -0.3137856125831604,
          -0.0770328938961029
         ],
         "y": [
          -0.12949402630329132,
          -0.2947080433368683
         ]
        },
        {
         "hoverinfo": "none",
         "line": {
          "color": "gray",
          "dash": "dot",
          "width": 1
         },
         "mode": "lines",
         "showlegend": false,
         "type": "scatter",
         "x": [
          0.12193648517131805,
          0.29917454719543457
         ],
         "y": [
          0.03559745475649834,
          -0.13645410537719727
         ]
        },
        {
         "hoverinfo": "none",
         "line": {
          "color": "gray",
          "dash": "dot",
          "width": 1
         },
         "mode": "lines",
         "showlegend": false,
         "type": "scatter",
         "x": [
          -0.1654135286808014,
          0.06475379317998886
         ],
         "y": [
          0.0795290619134903,
          -0.11010774970054626
         ]
        },
        {
         "hoverinfo": "none",
         "line": {
          "color": "gray",
          "dash": "dot",
          "width": 1
         },
         "mode": "lines",
         "showlegend": false,
         "type": "scatter",
         "x": [
          0.20331549644470215,
          0.328007310628891
         ],
         "y": [
          -0.2894853949546814,
          -0.3663487434387207
         ]
        },
        {
         "hoverinfo": "none",
         "line": {
          "color": "gray",
          "dash": "dot",
          "width": 1
         },
         "mode": "lines",
         "showlegend": false,
         "type": "scatter",
         "x": [
          0.2380950003862381,
          0.3868289887905121
         ],
         "y": [
          0.12835998833179474,
          -0.057795897126197815
         ]
        },
        {
         "hoverinfo": "none",
         "line": {
          "color": "gray",
          "dash": "dot",
          "width": 1
         },
         "mode": "lines",
         "showlegend": false,
         "type": "scatter",
         "x": [
          -0.15740221738815308,
          0.05221781134605408
         ],
         "y": [
          0.1389574259519577,
          -0.0420805886387825
         ]
        },
        {
         "hoverinfo": "none",
         "line": {
          "color": "gray",
          "dash": "dot",
          "width": 1
         },
         "mode": "lines",
         "showlegend": false,
         "type": "scatter",
         "x": [
          -0.09912323951721191,
          0.09209056943655014
         ],
         "y": [
          -0.2066367268562317,
          -0.3301267623901367
         ]
        },
        {
         "hoverinfo": "none",
         "line": {
          "color": "gray",
          "dash": "dot",
          "width": 1
         },
         "mode": "lines",
         "showlegend": false,
         "type": "scatter",
         "x": [
          0.16969946026802063,
          0.31373363733291626
         ],
         "y": [
          -0.11848069727420807,
          -0.23802390694618225
         ]
        },
        {
         "hoverinfo": "none",
         "line": {
          "color": "gray",
          "dash": "dot",
          "width": 1
         },
         "mode": "lines",
         "showlegend": false,
         "type": "scatter",
         "x": [
          -0.06500039249658585,
          0.11730319261550903
         ],
         "y": [
          -0.22714951634407043,
          -0.338812917470932
         ]
        },
        {
         "hoverinfo": "none",
         "line": {
          "color": "gray",
          "dash": "dot",
          "width": 1
         },
         "mode": "lines",
         "showlegend": false,
         "type": "scatter",
         "x": [
          0.30400964617729187,
          0.40142419934272766
         ],
         "y": [
          -0.24489498138427734,
          -0.31963884830474854
         ]
        },
        {
         "hoverinfo": "none",
         "line": {
          "color": "gray",
          "dash": "dot",
          "width": 1
         },
         "mode": "lines",
         "showlegend": false,
         "type": "scatter",
         "x": [
          -0.20898790657520294,
          -0.004765644669532776
         ],
         "y": [
          -0.1886802613735199,
          -0.32714134454727173
         ]
        },
        {
         "hoverinfo": "none",
         "line": {
          "color": "gray",
          "dash": "dot",
          "width": 1
         },
         "mode": "lines",
         "showlegend": false,
         "type": "scatter",
         "x": [
          -0.21712489426136017,
          -0.008941076695919037
         ],
         "y": [
          0.16349045932292938,
          -0.01630125194787979
         ]
        },
        {
         "hoverinfo": "none",
         "line": {
          "color": "gray",
          "dash": "dot",
          "width": 1
         },
         "mode": "lines",
         "showlegend": false,
         "type": "scatter",
         "x": [
          0.04635561257600784,
          0.220828115940094
         ],
         "y": [
          -0.005686077289283276,
          -0.160912424325943
         ]
        },
        {
         "hoverinfo": "none",
         "line": {
          "color": "gray",
          "dash": "dot",
          "width": 1
         },
         "mode": "lines",
         "showlegend": false,
         "type": "scatter",
         "x": [
          0.3768119215965271,
          0.4898223578929901
         ],
         "y": [
          -0.1902567595243454,
          -0.30699917674064636
         ]
        },
        {
         "hoverinfo": "none",
         "line": {
          "color": "gray",
          "dash": "dot",
          "width": 1
         },
         "mode": "lines",
         "showlegend": false,
         "type": "scatter",
         "x": [
          0.028775349259376526,
          0.21125558018684387
         ],
         "y": [
          0.41744837164878845,
          0.2322268784046173
         ]
        },
        {
         "hoverinfo": "none",
         "line": {
          "color": "gray",
          "dash": "dot",
          "width": 1
         },
         "mode": "lines",
         "showlegend": false,
         "type": "scatter",
         "x": [
          -0.3291459381580353,
          -0.09820015728473663
         ],
         "y": [
          -0.06826363503932953,
          -0.23247796297073364
         ]
        },
        {
         "hoverinfo": "none",
         "line": {
          "color": "gray",
          "dash": "dot",
          "width": 1
         },
         "mode": "lines",
         "showlegend": false,
         "type": "scatter",
         "x": [
          -0.14912615716457367,
          0.030826784670352936
         ],
         "y": [
          -0.19843889772891998,
          -0.3088100850582123
         ]
        },
        {
         "hoverinfo": "none",
         "line": {
          "color": "gray",
          "dash": "dot",
          "width": 1
         },
         "mode": "lines",
         "showlegend": false,
         "type": "scatter",
         "x": [
          -0.3133983612060547,
          -0.029468677937984467
         ],
         "y": [
          0.1485932320356369,
          -0.0804610401391983
         ]
        },
        {
         "hoverinfo": "none",
         "line": {
          "color": "gray",
          "dash": "dot",
          "width": 1
         },
         "mode": "lines",
         "showlegend": false,
         "type": "scatter",
         "x": [
          -0.29520654678344727,
          -0.05287677049636841
         ],
         "y": [
          0.4102012813091278,
          0.17826303839683533
         ]
        },
        {
         "hoverinfo": "none",
         "line": {
          "color": "gray",
          "dash": "dot",
          "width": 1
         },
         "mode": "lines",
         "showlegend": false,
         "type": "scatter",
         "x": [
          -0.016324451193213463,
          0.15002429485321045
         ],
         "y": [
          0.39791634678840637,
          0.22085393965244293
         ]
        },
        {
         "hoverinfo": "none",
         "line": {
          "color": "gray",
          "dash": "dot",
          "width": 1
         },
         "mode": "lines",
         "showlegend": false,
         "type": "scatter",
         "x": [
          -0.20951345562934875,
          0.016494687646627426
         ],
         "y": [
          0.06762560456991196,
          -0.11418648064136505
         ]
        },
        {
         "hoverinfo": "none",
         "line": {
          "color": "gray",
          "dash": "dot",
          "width": 1
         },
         "mode": "lines",
         "showlegend": false,
         "type": "scatter",
         "x": [
          -0.07309835404157639,
          0.09336525946855545
         ],
         "y": [
          0.036007028073072433,
          -0.10718104243278503
         ]
        },
        {
         "hoverinfo": "none",
         "line": {
          "color": "gray",
          "dash": "dot",
          "width": 1
         },
         "mode": "lines",
         "showlegend": false,
         "type": "scatter",
         "x": [
          0.057670630514621735,
          0.23840856552124023
         ],
         "y": [
          -0.2992919683456421,
          -0.39577120542526245
         ]
        },
        {
         "hoverinfo": "none",
         "line": {
          "color": "gray",
          "dash": "dot",
          "width": 1
         },
         "mode": "lines",
         "showlegend": false,
         "type": "scatter",
         "x": [
          -0.16293777525424957,
          0.026423826813697815
         ],
         "y": [
          0.20355108380317688,
          0.03047037124633789
         ]
        },
        {
         "hoverinfo": "none",
         "line": {
          "color": "gray",
          "dash": "dot",
          "width": 1
         },
         "mode": "lines",
         "showlegend": false,
         "type": "scatter",
         "x": [
          -0.16011816263198853,
          0.06129385530948639
         ],
         "y": [
          0.09317494928836823,
          -0.09697498381137848
         ]
        },
        {
         "hoverinfo": "none",
         "line": {
          "color": "gray",
          "dash": "dot",
          "width": 1
         },
         "mode": "lines",
         "showlegend": false,
         "type": "scatter",
         "x": [
          0.1414017230272293,
          0.3145201802253723
         ],
         "y": [
          -0.1675918996334076,
          -0.3031942844390869
         ]
        },
        {
         "hoverinfo": "none",
         "line": {
          "color": "gray",
          "dash": "dot",
          "width": 1
         },
         "mode": "lines",
         "showlegend": false,
         "type": "scatter",
         "x": [
          -0.0051774270832538605,
          0.16253648698329926
         ],
         "y": [
          0.20136603713035583,
          0.03606274351477623
         ]
        },
        {
         "hoverinfo": "none",
         "line": {
          "color": "gray",
          "dash": "dot",
          "width": 1
         },
         "mode": "lines",
         "showlegend": false,
         "type": "scatter",
         "x": [
          -0.32892724871635437,
          -0.09279032051563263
         ],
         "y": [
          0.24936766922473907,
          0.042518556118011475
         ]
        },
        {
         "hoverinfo": "none",
         "line": {
          "color": "gray",
          "dash": "dot",
          "width": 1
         },
         "mode": "lines",
         "showlegend": false,
         "type": "scatter",
         "x": [
          -0.17453834414482117,
          0.06886529177427292
         ],
         "y": [
          0.045660797506570816,
          -0.1603555828332901
         ]
        }
       ],
       "layout": {
        "height": 700,
        "legend": {
         "title": {
          "text": "Cluster, Type"
         },
         "tracegroupgap": 0
        },
        "margin": {
         "t": 60
        },
        "template": {
         "data": {
          "bar": [
           {
            "error_x": {
             "color": "#2a3f5f"
            },
            "error_y": {
             "color": "#2a3f5f"
            },
            "marker": {
             "line": {
              "color": "#E5ECF6",
              "width": 0.5
             },
             "pattern": {
              "fillmode": "overlay",
              "size": 10,
              "solidity": 0.2
             }
            },
            "type": "bar"
           }
          ],
          "barpolar": [
           {
            "marker": {
             "line": {
              "color": "#E5ECF6",
              "width": 0.5
             },
             "pattern": {
              "fillmode": "overlay",
              "size": 10,
              "solidity": 0.2
             }
            },
            "type": "barpolar"
           }
          ],
          "carpet": [
           {
            "aaxis": {
             "endlinecolor": "#2a3f5f",
             "gridcolor": "white",
             "linecolor": "white",
             "minorgridcolor": "white",
             "startlinecolor": "#2a3f5f"
            },
            "baxis": {
             "endlinecolor": "#2a3f5f",
             "gridcolor": "white",
             "linecolor": "white",
             "minorgridcolor": "white",
             "startlinecolor": "#2a3f5f"
            },
            "type": "carpet"
           }
          ],
          "choropleth": [
           {
            "colorbar": {
             "outlinewidth": 0,
             "ticks": ""
            },
            "type": "choropleth"
           }
          ],
          "contour": [
           {
            "colorbar": {
             "outlinewidth": 0,
             "ticks": ""
            },
            "colorscale": [
             [
              0,
              "#0d0887"
             ],
             [
              0.1111111111111111,
              "#46039f"
             ],
             [
              0.2222222222222222,
              "#7201a8"
             ],
             [
              0.3333333333333333,
              "#9c179e"
             ],
             [
              0.4444444444444444,
              "#bd3786"
             ],
             [
              0.5555555555555556,
              "#d8576b"
             ],
             [
              0.6666666666666666,
              "#ed7953"
             ],
             [
              0.7777777777777778,
              "#fb9f3a"
             ],
             [
              0.8888888888888888,
              "#fdca26"
             ],
             [
              1,
              "#f0f921"
             ]
            ],
            "type": "contour"
           }
          ],
          "contourcarpet": [
           {
            "colorbar": {
             "outlinewidth": 0,
             "ticks": ""
            },
            "type": "contourcarpet"
           }
          ],
          "heatmap": [
           {
            "colorbar": {
             "outlinewidth": 0,
             "ticks": ""
            },
            "colorscale": [
             [
              0,
              "#0d0887"
             ],
             [
              0.1111111111111111,
              "#46039f"
             ],
             [
              0.2222222222222222,
              "#7201a8"
             ],
             [
              0.3333333333333333,
              "#9c179e"
             ],
             [
              0.4444444444444444,
              "#bd3786"
             ],
             [
              0.5555555555555556,
              "#d8576b"
             ],
             [
              0.6666666666666666,
              "#ed7953"
             ],
             [
              0.7777777777777778,
              "#fb9f3a"
             ],
             [
              0.8888888888888888,
              "#fdca26"
             ],
             [
              1,
              "#f0f921"
             ]
            ],
            "type": "heatmap"
           }
          ],
          "histogram": [
           {
            "marker": {
             "pattern": {
              "fillmode": "overlay",
              "size": 10,
              "solidity": 0.2
             }
            },
            "type": "histogram"
           }
          ],
          "histogram2d": [
           {
            "colorbar": {
             "outlinewidth": 0,
             "ticks": ""
            },
            "colorscale": [
             [
              0,
              "#0d0887"
             ],
             [
              0.1111111111111111,
              "#46039f"
             ],
             [
              0.2222222222222222,
              "#7201a8"
             ],
             [
              0.3333333333333333,
              "#9c179e"
             ],
             [
              0.4444444444444444,
              "#bd3786"
             ],
             [
              0.5555555555555556,
              "#d8576b"
             ],
             [
              0.6666666666666666,
              "#ed7953"
             ],
             [
              0.7777777777777778,
              "#fb9f3a"
             ],
             [
              0.8888888888888888,
              "#fdca26"
             ],
             [
              1,
              "#f0f921"
             ]
            ],
            "type": "histogram2d"
           }
          ],
          "histogram2dcontour": [
           {
            "colorbar": {
             "outlinewidth": 0,
             "ticks": ""
            },
            "colorscale": [
             [
              0,
              "#0d0887"
             ],
             [
              0.1111111111111111,
              "#46039f"
             ],
             [
              0.2222222222222222,
              "#7201a8"
             ],
             [
              0.3333333333333333,
              "#9c179e"
             ],
             [
              0.4444444444444444,
              "#bd3786"
             ],
             [
              0.5555555555555556,
              "#d8576b"
             ],
             [
              0.6666666666666666,
              "#ed7953"
             ],
             [
              0.7777777777777778,
              "#fb9f3a"
             ],
             [
              0.8888888888888888,
              "#fdca26"
             ],
             [
              1,
              "#f0f921"
             ]
            ],
            "type": "histogram2dcontour"
           }
          ],
          "mesh3d": [
           {
            "colorbar": {
             "outlinewidth": 0,
             "ticks": ""
            },
            "type": "mesh3d"
           }
          ],
          "parcoords": [
           {
            "line": {
             "colorbar": {
              "outlinewidth": 0,
              "ticks": ""
             }
            },
            "type": "parcoords"
           }
          ],
          "pie": [
           {
            "automargin": true,
            "type": "pie"
           }
          ],
          "scatter": [
           {
            "fillpattern": {
             "fillmode": "overlay",
             "size": 10,
             "solidity": 0.2
            },
            "type": "scatter"
           }
          ],
          "scatter3d": [
           {
            "line": {
             "colorbar": {
              "outlinewidth": 0,
              "ticks": ""
             }
            },
            "marker": {
             "colorbar": {
              "outlinewidth": 0,
              "ticks": ""
             }
            },
            "type": "scatter3d"
           }
          ],
          "scattercarpet": [
           {
            "marker": {
             "colorbar": {
              "outlinewidth": 0,
              "ticks": ""
             }
            },
            "type": "scattercarpet"
           }
          ],
          "scattergeo": [
           {
            "marker": {
             "colorbar": {
              "outlinewidth": 0,
              "ticks": ""
             }
            },
            "type": "scattergeo"
           }
          ],
          "scattergl": [
           {
            "marker": {
             "colorbar": {
              "outlinewidth": 0,
              "ticks": ""
             }
            },
            "type": "scattergl"
           }
          ],
          "scattermap": [
           {
            "marker": {
             "colorbar": {
              "outlinewidth": 0,
              "ticks": ""
             }
            },
            "type": "scattermap"
           }
          ],
          "scattermapbox": [
           {
            "marker": {
             "colorbar": {
              "outlinewidth": 0,
              "ticks": ""
             }
            },
            "type": "scattermapbox"
           }
          ],
          "scatterpolar": [
           {
            "marker": {
             "colorbar": {
              "outlinewidth": 0,
              "ticks": ""
             }
            },
            "type": "scatterpolar"
           }
          ],
          "scatterpolargl": [
           {
            "marker": {
             "colorbar": {
              "outlinewidth": 0,
              "ticks": ""
             }
            },
            "type": "scatterpolargl"
           }
          ],
          "scatterternary": [
           {
            "marker": {
             "colorbar": {
              "outlinewidth": 0,
              "ticks": ""
             }
            },
            "type": "scatterternary"
           }
          ],
          "surface": [
           {
            "colorbar": {
             "outlinewidth": 0,
             "ticks": ""
            },
            "colorscale": [
             [
              0,
              "#0d0887"
             ],
             [
              0.1111111111111111,
              "#46039f"
             ],
             [
              0.2222222222222222,
              "#7201a8"
             ],
             [
              0.3333333333333333,
              "#9c179e"
             ],
             [
              0.4444444444444444,
              "#bd3786"
             ],
             [
              0.5555555555555556,
              "#d8576b"
             ],
             [
              0.6666666666666666,
              "#ed7953"
             ],
             [
              0.7777777777777778,
              "#fb9f3a"
             ],
             [
              0.8888888888888888,
              "#fdca26"
             ],
             [
              1,
              "#f0f921"
             ]
            ],
            "type": "surface"
           }
          ],
          "table": [
           {
            "cells": {
             "fill": {
              "color": "#EBF0F8"
             },
             "line": {
              "color": "white"
             }
            },
            "header": {
             "fill": {
              "color": "#C8D4E3"
             },
             "line": {
              "color": "white"
             }
            },
            "type": "table"
           }
          ]
         },
         "layout": {
          "annotationdefaults": {
           "arrowcolor": "#2a3f5f",
           "arrowhead": 0,
           "arrowwidth": 1
          },
          "autotypenumbers": "strict",
          "coloraxis": {
           "colorbar": {
            "outlinewidth": 0,
            "ticks": ""
           }
          },
          "colorscale": {
           "diverging": [
            [
             0,
             "#8e0152"
            ],
            [
             0.1,
             "#c51b7d"
            ],
            [
             0.2,
             "#de77ae"
            ],
            [
             0.3,
             "#f1b6da"
            ],
            [
             0.4,
             "#fde0ef"
            ],
            [
             0.5,
             "#f7f7f7"
            ],
            [
             0.6,
             "#e6f5d0"
            ],
            [
             0.7,
             "#b8e186"
            ],
            [
             0.8,
             "#7fbc41"
            ],
            [
             0.9,
             "#4d9221"
            ],
            [
             1,
             "#276419"
            ]
           ],
           "sequential": [
            [
             0,
             "#0d0887"
            ],
            [
             0.1111111111111111,
             "#46039f"
            ],
            [
             0.2222222222222222,
             "#7201a8"
            ],
            [
             0.3333333333333333,
             "#9c179e"
            ],
            [
             0.4444444444444444,
             "#bd3786"
            ],
            [
             0.5555555555555556,
             "#d8576b"
            ],
            [
             0.6666666666666666,
             "#ed7953"
            ],
            [
             0.7777777777777778,
             "#fb9f3a"
            ],
            [
             0.8888888888888888,
             "#fdca26"
            ],
            [
             1,
             "#f0f921"
            ]
           ],
           "sequentialminus": [
            [
             0,
             "#0d0887"
            ],
            [
             0.1111111111111111,
             "#46039f"
            ],
            [
             0.2222222222222222,
             "#7201a8"
            ],
            [
             0.3333333333333333,
             "#9c179e"
            ],
            [
             0.4444444444444444,
             "#bd3786"
            ],
            [
             0.5555555555555556,
             "#d8576b"
            ],
            [
             0.6666666666666666,
             "#ed7953"
            ],
            [
             0.7777777777777778,
             "#fb9f3a"
            ],
            [
             0.8888888888888888,
             "#fdca26"
            ],
            [
             1,
             "#f0f921"
            ]
           ]
          },
          "colorway": [
           "#636efa",
           "#EF553B",
           "#00cc96",
           "#ab63fa",
           "#FFA15A",
           "#19d3f3",
           "#FF6692",
           "#B6E880",
           "#FF97FF",
           "#FECB52"
          ],
          "font": {
           "color": "#2a3f5f"
          },
          "geo": {
           "bgcolor": "white",
           "lakecolor": "white",
           "landcolor": "#E5ECF6",
           "showlakes": true,
           "showland": true,
           "subunitcolor": "white"
          },
          "hoverlabel": {
           "align": "left"
          },
          "hovermode": "closest",
          "mapbox": {
           "style": "light"
          },
          "paper_bgcolor": "white",
          "plot_bgcolor": "#E5ECF6",
          "polar": {
           "angularaxis": {
            "gridcolor": "white",
            "linecolor": "white",
            "ticks": ""
           },
           "bgcolor": "#E5ECF6",
           "radialaxis": {
            "gridcolor": "white",
            "linecolor": "white",
            "ticks": ""
           }
          },
          "scene": {
           "xaxis": {
            "backgroundcolor": "#E5ECF6",
            "gridcolor": "white",
            "gridwidth": 2,
            "linecolor": "white",
            "showbackground": true,
            "ticks": "",
            "zerolinecolor": "white"
           },
           "yaxis": {
            "backgroundcolor": "#E5ECF6",
            "gridcolor": "white",
            "gridwidth": 2,
            "linecolor": "white",
            "showbackground": true,
            "ticks": "",
            "zerolinecolor": "white"
           },
           "zaxis": {
            "backgroundcolor": "#E5ECF6",
            "gridcolor": "white",
            "gridwidth": 2,
            "linecolor": "white",
            "showbackground": true,
            "ticks": "",
            "zerolinecolor": "white"
           }
          },
          "shapedefaults": {
           "line": {
            "color": "#2a3f5f"
           }
          },
          "ternary": {
           "aaxis": {
            "gridcolor": "white",
            "linecolor": "white",
            "ticks": ""
           },
           "baxis": {
            "gridcolor": "white",
            "linecolor": "white",
            "ticks": ""
           },
           "bgcolor": "#E5ECF6",
           "caxis": {
            "gridcolor": "white",
            "linecolor": "white",
            "ticks": ""
           }
          },
          "title": {
           "x": 0.05
          },
          "xaxis": {
           "automargin": true,
           "gridcolor": "white",
           "linecolor": "white",
           "ticks": "",
           "title": {
            "standoff": 15
           },
           "zerolinecolor": "white",
           "zerolinewidth": 2
          },
          "yaxis": {
           "automargin": true,
           "gridcolor": "white",
           "linecolor": "white",
           "ticks": "",
           "title": {
            "standoff": 15
           },
           "zerolinecolor": "white",
           "zerolinewidth": 2
          }
         }
        },
        "title": {
         "text": "PCA Projection: Original vs. Steered Embeddings | Layer: 11 | Feature: War | Steering: 2"
        },
        "width": 900,
        "xaxis": {
         "anchor": "y",
         "domain": [
          0,
          1
         ],
         "title": {
          "text": "PCA 1"
         }
        },
        "yaxis": {
         "anchor": "x",
         "domain": [
          0,
          1
         ],
         "title": {
          "text": "PCA 2"
         }
        }
       }
      }
     },
     "metadata": {},
     "output_type": "display_data"
    }
   ],
   "source": [
    "plot_pca_fixed_kmeans(\n",
    "    original_embeddings,\n",
    "    steered_embeddings,\n",
    "    all_texts_data,\n",
    "    info_string,\n",
    "    text_range=(0,100),\n",
    "    projected=True,\n",
    "    n_clusters=5,\n",
    "    Write=False\n",
    ")"
   ]
  },
  {
   "cell_type": "markdown",
   "metadata": {
    "id": "zhy6-IjSrPul"
   },
   "source": [
    "`plot_pca_labeled_projection` does the same as the other PCA plotting function, but **without K-Means**, and colors the data points based on the category labels given (note: in this given example, the movie genres are the categories)\n",
    "\n",
    "- `steering_vector` allows the function to plot the embedded point for the steering vector as well, marking its position on the same plane as the text embeddings (if the steering method chosen is *steering with vector*)"
   ]
  },
  {
   "cell_type": "code",
   "execution_count": 9,
   "metadata": {
    "id": "kLl2rc5HrPul",
    "outputId": "4cffd145-417a-4482-cf9a-c67194b81c72"
   },
   "outputs": [
    {
     "data": {
      "application/vnd.plotly.v1+json": {
       "config": {
        "plotlyServerURL": "https://plot.ly"
       },
       "data": [
        {
         "customdata": [
          [
           "Drama",
           "Original"
          ],
          [
           "Drama",
           "Original"
          ],
          [
           "Drama",
           "Original"
          ],
          [
           "Drama",
           "Original"
          ],
          [
           "Drama",
           "Original"
          ],
          [
           "Drama",
           "Original"
          ],
          [
           "Drama",
           "Original"
          ],
          [
           "Drama",
           "Original"
          ],
          [
           "Drama",
           "Original"
          ],
          [
           "Drama",
           "Original"
          ],
          [
           "Drama",
           "Original"
          ],
          [
           "Drama",
           "Original"
          ],
          [
           "Drama",
           "Original"
          ],
          [
           "Drama",
           "Original"
          ],
          [
           "Drama",
           "Original"
          ],
          [
           "Drama",
           "Original"
          ],
          [
           "Drama",
           "Original"
          ],
          [
           "Drama",
           "Original"
          ],
          [
           "Drama",
           "Original"
          ],
          [
           "Drama",
           "Original"
          ],
          [
           "Drama",
           "Original"
          ],
          [
           "Drama",
           "Original"
          ]
         ],
         "hovertemplate": "<b>%{hovertext}</b><br><br>Cluster=%{customdata[0]}<br>Type=%{customdata[1]}<br>PCA 1=%{x:.3f}<br>PCA 2=%{y:.3f}<extra></extra>",
         "hovertext": [
          "Original | The Shawshank Redemption | Drama",
          "Original | The Godfather: Part II | Drama",
          "Original | 12 Angry Men | Drama",
          "Original | Fight Club | Drama",
          "Original | One Flew Over the Cuckoo's Nest | Drama",
          "Original | Gisaengchung | Drama",
          "Original | Soorarai Pottru | Drama",
          "Original | Gladiator | Drama",
          "Original | American History X | Drama",
          "Original | The Lion King | Drama",
          "Original | Modern Times | Drama",
          "Original | Capharnaüm | Drama",
          "Original | Kimi no na wa. | Drama",
          "Original | Avengers: Endgame | Drama",
          "Original | Taare Zameen Par | Drama",
          "Original | Anand | Drama",
          "Original | Tumbbad | Drama",
          "Original | Jagten | Drama",
          "Original | Jodaeiye Nader az Simin | Drama",
          "Original | Miracle in cell NO.7 | Drama",
          "Original | Requiem for a Dream | Drama",
          "Original | American Beauty | Drama"
         ],
         "legendgroup": "Drama, Original",
         "marker": {
          "color": "rgb(228,26,28)",
          "symbol": "circle"
         },
         "mode": "markers",
         "name": "Drama, Original",
         "opacity": 0.3,
         "orientation": "v",
         "showlegend": false,
         "type": "scatter",
         "x": {
          "bdata": "IQrsPAHSZL5iv0a95mtzPMEuMb4AL6S9ofyBPvOtAT6W6fK9kFQGPTpw071syGW+buIKvKup4j5PWRG+DC4hvki66zzAdaC+UCWXvrKKVr5op6m7J2movg==",
          "dtype": "f4"
         },
         "xaxis": "x",
         "y": {
          "bdata": "CD8KvnAr3L3bom6+s/zRvD/Fbb40A0o+0hWpPUGdgr7gIO69dNvFPa0M+D1kAOG98SRGPiXXLD4RV4A+20oOPsu71T7TKBg+5wXSPkt/ij3mMk4+PVp/Pg==",
          "dtype": "f4"
         },
         "yaxis": "y"
        },
        {
         "customdata": [
          [
           "Drama",
           "Steered"
          ],
          [
           "Drama",
           "Steered"
          ],
          [
           "Drama",
           "Steered"
          ],
          [
           "Drama",
           "Steered"
          ],
          [
           "Drama",
           "Steered"
          ],
          [
           "Drama",
           "Steered"
          ],
          [
           "Drama",
           "Steered"
          ],
          [
           "Drama",
           "Steered"
          ],
          [
           "Drama",
           "Steered"
          ],
          [
           "Drama",
           "Steered"
          ],
          [
           "Drama",
           "Steered"
          ],
          [
           "Drama",
           "Steered"
          ],
          [
           "Drama",
           "Steered"
          ],
          [
           "Drama",
           "Steered"
          ],
          [
           "Drama",
           "Steered"
          ],
          [
           "Drama",
           "Steered"
          ],
          [
           "Drama",
           "Steered"
          ],
          [
           "Drama",
           "Steered"
          ],
          [
           "Drama",
           "Steered"
          ],
          [
           "Drama",
           "Steered"
          ],
          [
           "Drama",
           "Steered"
          ],
          [
           "Drama",
           "Steered"
          ]
         ],
         "hovertemplate": "<b>%{hovertext}</b><br><br>Cluster=%{customdata[0]}<br>Type=%{customdata[1]}<br>PCA 1=%{x:.3f}<br>PCA 2=%{y:.3f}<extra></extra>",
         "hovertext": [
          "Steered | The Shawshank Redemption | Drama",
          "Steered | The Godfather: Part II | Drama",
          "Steered | 12 Angry Men | Drama",
          "Steered | Fight Club | Drama",
          "Steered | One Flew Over the Cuckoo's Nest | Drama",
          "Steered | Gisaengchung | Drama",
          "Steered | Soorarai Pottru | Drama",
          "Steered | Gladiator | Drama",
          "Steered | American History X | Drama",
          "Steered | The Lion King | Drama",
          "Steered | Modern Times | Drama",
          "Steered | Capharnaüm | Drama",
          "Steered | Kimi no na wa. | Drama",
          "Steered | Avengers: Endgame | Drama",
          "Steered | Taare Zameen Par | Drama",
          "Steered | Anand | Drama",
          "Steered | Tumbbad | Drama",
          "Steered | Jagten | Drama",
          "Steered | Jodaeiye Nader az Simin | Drama",
          "Steered | Miracle in cell NO.7 | Drama",
          "Steered | Requiem for a Dream | Drama",
          "Steered | American Beauty | Drama"
         ],
         "legendgroup": "Drama, Steered",
         "marker": {
          "color": "rgb(228,26,28)",
          "symbol": "diamond"
         },
         "mode": "markers",
         "name": "Drama, Steered",
         "opacity": 1,
         "orientation": "v",
         "showlegend": true,
         "type": "scatter",
         "x": {
          "bdata": "Y3JOPiBat7t4IAQ+1GliPlRc/TwgMtk9rJHUPq5Aij46I7Q9sHJIPsWuqD3g4U+8NuUwPigrCz/LYao9WOJVPWJTWD5MaPG8UJVYvd4fhzz3byY+2gi+vQ==",
          "dtype": "f4"
         },
         "xaxis": "x",
         "y": {
          "bdata": "b6KJvsIvir7nG7C+vm9KvlRetr56FKE8QHzbvTBntb6s6Xu+3PRwvWrBQ735zoS+ELliPKBiuLyFSxU9slwsveLMbT7CyKS9loo2Ppra6b2HthM98CcuPQ==",
          "dtype": "f4"
         },
         "yaxis": "y"
        },
        {
         "customdata": [
          [
           "Crime",
           "Original"
          ],
          [
           "Crime",
           "Original"
          ],
          [
           "Crime",
           "Original"
          ],
          [
           "Crime",
           "Original"
          ],
          [
           "Crime",
           "Original"
          ],
          [
           "Crime",
           "Original"
          ],
          [
           "Crime",
           "Original"
          ],
          [
           "Crime",
           "Original"
          ],
          [
           "Crime",
           "Original"
          ],
          [
           "Crime",
           "Original"
          ],
          [
           "Crime",
           "Original"
          ],
          [
           "Crime",
           "Original"
          ],
          [
           "Crime",
           "Original"
          ],
          [
           "Crime",
           "Original"
          ],
          [
           "Crime",
           "Original"
          ],
          [
           "Crime",
           "Original"
          ],
          [
           "Crime",
           "Original"
          ],
          [
           "Crime",
           "Original"
          ]
         ],
         "hovertemplate": "<b>%{hovertext}</b><br><br>Cluster=%{customdata[0]}<br>Type=%{customdata[1]}<br>PCA 1=%{x:.3f}<br>PCA 2=%{y:.3f}<extra></extra>",
         "hovertext": [
          "Original | The Godfather | Crime",
          "Original | The Dark Knight | Crime",
          "Original | Pulp Fiction | Crime",
          "Original | Cidade de Deus | Crime",
          "Original | The Green Mile | Crime",
          "Original | Se7en | Crime",
          "Original | The Silence of the Lambs | Crime",
          "Original | Joker | Crime",
          "Original | The Departed | Crime",
          "Original | The Usual Suspects | Crime",
          "Original | Léon | Crime",
          "Original | Vikram Vedha | Crime",
          "Original | Once Upon a Time in America | Crime",
          "Original | Tengoku to jigoku | Crime",
          "Original | Witness for the Prosecution | Crime",
          "Original | Andhadhun | Crime",
          "Original | Drishyam | Crime",
          "Original | Snatch | Crime"
         ],
         "legendgroup": "Crime, Original",
         "marker": {
          "color": "rgb(55,126,184)",
          "symbol": "circle"
         },
         "mode": "markers",
         "name": "Crime, Original",
         "opacity": 0.3,
         "orientation": "v",
         "showlegend": false,
         "type": "scatter",
         "x": {
          "bdata": "ErRFvc4URj1rykm8tBwtvWn8Wr7SwKI8sWQFPbA4p71AwRg9pb9yPZ/vl7w7lPo9gqigviABy73tHoW90YWovoe0GL6dyxA+",
          "dtype": "f4"
         },
         "xaxis": "x",
         "y": {
          "bdata": "nYMMvh/gPL4pAIy+Q11TPrNEtb4qNcy+yIvIvgCOC74pf8y+132Bvqa4yD1kuie+FZoEvpSYU77imWi+zs2LvZEzS742nSu+",
          "dtype": "f4"
         },
         "yaxis": "y"
        },
        {
         "customdata": [
          [
           "Crime",
           "Steered"
          ],
          [
           "Crime",
           "Steered"
          ],
          [
           "Crime",
           "Steered"
          ],
          [
           "Crime",
           "Steered"
          ],
          [
           "Crime",
           "Steered"
          ],
          [
           "Crime",
           "Steered"
          ],
          [
           "Crime",
           "Steered"
          ],
          [
           "Crime",
           "Steered"
          ],
          [
           "Crime",
           "Steered"
          ],
          [
           "Crime",
           "Steered"
          ],
          [
           "Crime",
           "Steered"
          ],
          [
           "Crime",
           "Steered"
          ],
          [
           "Crime",
           "Steered"
          ],
          [
           "Crime",
           "Steered"
          ],
          [
           "Crime",
           "Steered"
          ],
          [
           "Crime",
           "Steered"
          ],
          [
           "Crime",
           "Steered"
          ],
          [
           "Crime",
           "Steered"
          ]
         ],
         "hovertemplate": "<b>%{hovertext}</b><br><br>Cluster=%{customdata[0]}<br>Type=%{customdata[1]}<br>PCA 1=%{x:.3f}<br>PCA 2=%{y:.3f}<extra></extra>",
         "hovertext": [
          "Steered | The Godfather | Crime",
          "Steered | The Dark Knight | Crime",
          "Steered | Pulp Fiction | Crime",
          "Steered | Cidade de Deus | Crime",
          "Steered | The Green Mile | Crime",
          "Steered | Se7en | Crime",
          "Steered | The Silence of the Lambs | Crime",
          "Steered | Joker | Crime",
          "Steered | The Departed | Crime",
          "Steered | The Usual Suspects | Crime",
          "Steered | Léon | Crime",
          "Steered | Vikram Vedha | Crime",
          "Steered | Once Upon a Time in America | Crime",
          "Steered | Tengoku to jigoku | Crime",
          "Steered | Witness for the Prosecution | Crime",
          "Steered | Andhadhun | Crime",
          "Steered | Drishyam | Crime",
          "Steered | Snatch | Crime"
         ],
         "legendgroup": "Crime, Steered",
         "marker": {
          "color": "rgb(55,126,184)",
          "symbol": "diamond"
         },
         "mode": "markers",
         "name": "Crime, Steered",
         "opacity": 1,
         "orientation": "v",
         "showlegend": true,
         "type": "scatter",
         "x": {
          "bdata": "BIXnPdOraz4LKzc+vN4dPnAoCzzWizU+qK5ZPgMJFj4UDVY+yZx+Pg09Qz7q7I4+bMOdvfuZvD2oPPA9Kh3JvXSI/DzKCKE+",
          "dtype": "f4"
         },
         "xaxis": "x",
         "y": {
          "bdata": "ppKEvrJQm755ese+EA13PJQY5L50PvK+MrrovvFjlr5AE/a+EkG2vvQ8wr3pbY6++eOWvmAGqb7jeK2+tA5uvlscnr5IPJu+",
          "dtype": "f4"
         },
         "yaxis": "y"
        },
        {
         "customdata": [
          [
           "Adventure",
           "Original"
          ],
          [
           "Adventure",
           "Original"
          ],
          [
           "Adventure",
           "Original"
          ],
          [
           "Adventure",
           "Original"
          ],
          [
           "Adventure",
           "Original"
          ],
          [
           "Adventure",
           "Original"
          ],
          [
           "Adventure",
           "Original"
          ],
          [
           "Adventure",
           "Original"
          ],
          [
           "Adventure",
           "Original"
          ],
          [
           "Adventure",
           "Original"
          ],
          [
           "Adventure",
           "Original"
          ],
          [
           "Adventure",
           "Original"
          ]
         ],
         "hovertemplate": "<b>%{hovertext}</b><br><br>Cluster=%{customdata[0]}<br>Type=%{customdata[1]}<br>PCA 1=%{x:.3f}<br>PCA 2=%{y:.3f}<extra></extra>",
         "hovertext": [
          "Original | The Lord of the Rings: The Return of the King | Adventure",
          "Original | The Lord of the Rings: The Fellowship of the Ring | Adventure",
          "Original | The Lord of the Rings: The Two Towers | Adventure",
          "Original | Star Wars: Episode V - The Empire Strikes Back | Adventure",
          "Original | Sen to Chihiro no kamikakushi | Adventure",
          "Original | Shichinin no samurai | Adventure",
          "Original | Spider-Man: Into the Spider-Verse | Adventure",
          "Original | Avengers: Infinity War | Adventure",
          "Original | The Dark Knight Rises | Adventure",
          "Original | WALL·E | Adventure",
          "Original | Mononoke-hime | Adventure",
          "Original | Raiders of the Lost Ark | Adventure"
         ],
         "legendgroup": "Adventure, Original",
         "marker": {
          "color": "rgb(77,175,74)",
          "symbol": "circle"
         },
         "mode": "markers",
         "name": "Adventure, Original",
         "opacity": 0.3,
         "orientation": "v",
         "showlegend": false,
         "type": "scatter",
         "x": {
          "bdata": "3EQHPzdh2j4oAAE/1CLuPlXZorx9w4I+/tNxPtIVCj823TM9ljJhPohM+j3Wufk9",
          "dtype": "f4"
         },
         "xaxis": "x",
         "y": {
          "bdata": "AeQgPrChhj4Q3l0+ufstPfSmtj7HyL+9+VGJPam0mT2cQ9G9TymCPhFJgD6jzhE9",
          "dtype": "f4"
         },
         "yaxis": "y"
        },
        {
         "customdata": [
          [
           "Adventure",
           "Steered"
          ],
          [
           "Adventure",
           "Steered"
          ],
          [
           "Adventure",
           "Steered"
          ],
          [
           "Adventure",
           "Steered"
          ],
          [
           "Adventure",
           "Steered"
          ],
          [
           "Adventure",
           "Steered"
          ],
          [
           "Adventure",
           "Steered"
          ],
          [
           "Adventure",
           "Steered"
          ],
          [
           "Adventure",
           "Steered"
          ],
          [
           "Adventure",
           "Steered"
          ],
          [
           "Adventure",
           "Steered"
          ],
          [
           "Adventure",
           "Steered"
          ]
         ],
         "hovertemplate": "<b>%{hovertext}</b><br><br>Cluster=%{customdata[0]}<br>Type=%{customdata[1]}<br>PCA 1=%{x:.3f}<br>PCA 2=%{y:.3f}<extra></extra>",
         "hovertext": [
          "Steered | The Lord of the Rings: The Return of the King | Adventure",
          "Steered | The Lord of the Rings: The Fellowship of the Ring | Adventure",
          "Steered | The Lord of the Rings: The Two Towers | Adventure",
          "Steered | Star Wars: Episode V - The Empire Strikes Back | Adventure",
          "Steered | Sen to Chihiro no kamikakushi | Adventure",
          "Steered | Shichinin no samurai | Adventure",
          "Steered | Spider-Man: Into the Spider-Verse | Adventure",
          "Steered | Avengers: Infinity War | Adventure",
          "Steered | The Dark Knight Rises | Adventure",
          "Steered | WALL·E | Adventure",
          "Steered | Mononoke-hime | Adventure",
          "Steered | Raiders of the Lost Ark | Adventure"
         ],
         "legendgroup": "Adventure, Steered",
         "marker": {
          "color": "rgb(77,175,74)",
          "symbol": "diamond"
         },
         "mode": "markers",
         "name": "Adventure, Steered",
         "opacity": 1,
         "orientation": "v",
         "showlegend": true,
         "type": "scatter",
         "x": {
          "bdata": "QjYfP6zNCz+fYBo/9PAPP5LcRT7Nkb0+6728PrxYGD8EMGA+hIm/PtbTnj5oLZk+",
          "dtype": "f4"
         },
         "xaxis": "x",
         "y": {
          "bdata": "TBCfvJPGlj0MVXQ8eEf+vRdsDT7i3lK+OC2yvc5Nmb18JnS+XC5pPQ3jID2gugu+",
          "dtype": "f4"
         },
         "yaxis": "y"
        },
        {
         "customdata": [
          [
           "History",
           "Original"
          ]
         ],
         "hovertemplate": "<b>%{hovertext}</b><br><br>Cluster=%{customdata[0]}<br>Type=%{customdata[1]}<br>PCA 1=%{x:.3f}<br>PCA 2=%{y:.3f}<extra></extra>",
         "hovertext": [
          "Original | Schindler's List | History"
         ],
         "legendgroup": "History, Original",
         "marker": {
          "color": "rgb(152,78,163)",
          "symbol": "circle"
         },
         "mode": "markers",
         "name": "History, Original",
         "opacity": 0.3,
         "orientation": "v",
         "showlegend": false,
         "type": "scatter",
         "x": {
          "bdata": "RARCvg==",
          "dtype": "f4"
         },
         "xaxis": "x",
         "y": {
          "bdata": "xTjNvQ==",
          "dtype": "f4"
         },
         "yaxis": "y"
        },
        {
         "customdata": [
          [
           "History",
           "Steered"
          ]
         ],
         "hovertemplate": "<b>%{hovertext}</b><br><br>Cluster=%{customdata[0]}<br>Type=%{customdata[1]}<br>PCA 1=%{x:.3f}<br>PCA 2=%{y:.3f}<extra></extra>",
         "hovertext": [
          "Steered | Schindler's List | History"
         ],
         "legendgroup": "History, Steered",
         "marker": {
          "color": "rgb(152,78,163)",
          "symbol": "diamond"
         },
         "mode": "markers",
         "name": "History, Steered",
         "opacity": 1,
         "orientation": "v",
         "showlegend": true,
         "type": "scatter",
         "x": {
          "bdata": "6Ko4PA==",
          "dtype": "f4"
         },
         "xaxis": "x",
         "y": {
          "bdata": "L/SAvg==",
          "dtype": "f4"
         },
         "yaxis": "y"
        },
        {
         "customdata": [
          [
           "Sci-Fi",
           "Original"
          ],
          [
           "Sci-Fi",
           "Original"
          ],
          [
           "Sci-Fi",
           "Original"
          ],
          [
           "Sci-Fi",
           "Original"
          ],
          [
           "Sci-Fi",
           "Original"
          ],
          [
           "Sci-Fi",
           "Original"
          ]
         ],
         "hovertemplate": "<b>%{hovertext}</b><br><br>Cluster=%{customdata[0]}<br>Type=%{customdata[1]}<br>PCA 1=%{x:.3f}<br>PCA 2=%{y:.3f}<extra></extra>",
         "hovertext": [
          "Original | Inception | Sci-Fi",
          "Original | The Matrix | Sci-Fi",
          "Original | Interstellar | Sci-Fi",
          "Original | Terminator 2: Judgment Day | Sci-Fi",
          "Original | Back to the Future | Sci-Fi",
          "Original | Alien | Sci-Fi"
         ],
         "legendgroup": "Sci-Fi, Original",
         "marker": {
          "color": "rgb(255,127,0)",
          "symbol": "circle"
         },
         "mode": "markers",
         "name": "Sci-Fi, Original",
         "opacity": 0.3,
         "orientation": "v",
         "showlegend": false,
         "type": "scatter",
         "x": {
          "bdata": "vzHgvfFWXr0lu8E+qhWAvPkeQ74tz3M+",
          "dtype": "f4"
         },
         "xaxis": "x",
         "y": {
          "bdata": "9OoYvYRji7wA800+NEm7O4F5Wj7NcAM+",
          "dtype": "f4"
         },
         "yaxis": "y"
        },
        {
         "customdata": [
          [
           "Sci-Fi",
           "Steered"
          ],
          [
           "Sci-Fi",
           "Steered"
          ],
          [
           "Sci-Fi",
           "Steered"
          ],
          [
           "Sci-Fi",
           "Steered"
          ],
          [
           "Sci-Fi",
           "Steered"
          ],
          [
           "Sci-Fi",
           "Steered"
          ]
         ],
         "hovertemplate": "<b>%{hovertext}</b><br><br>Cluster=%{customdata[0]}<br>Type=%{customdata[1]}<br>PCA 1=%{x:.3f}<br>PCA 2=%{y:.3f}<extra></extra>",
         "hovertext": [
          "Steered | Inception | Sci-Fi",
          "Steered | The Matrix | Sci-Fi",
          "Steered | Interstellar | Sci-Fi",
          "Steered | Terminator 2: Judgment Day | Sci-Fi",
          "Steered | Back to the Future | Sci-Fi",
          "Steered | Alien | Sci-Fi"
         ],
         "legendgroup": "Sci-Fi, Steered",
         "marker": {
          "color": "rgb(255,127,0)",
          "symbol": "diamond"
         },
         "mode": "markers",
         "name": "Sci-Fi, Steered",
         "opacity": 1,
         "orientation": "v",
         "showlegend": true,
         "type": "scatter",
         "x": {
          "bdata": "av3HPTLpDj52avo+lj0hPmi08jxzDsY+",
          "dtype": "f4"
         },
         "xaxis": "x",
         "y": {
          "bdata": "fAJTvphlL748+Uc9td4LvlDfCjxku2y9",
          "dtype": "f4"
         },
         "yaxis": "y"
        },
        {
         "customdata": [
          [
           "Romance",
           "Original"
          ],
          [
           "Romance",
           "Original"
          ],
          [
           "Romance",
           "Original"
          ],
          [
           "Romance",
           "Original"
          ],
          [
           "Romance",
           "Original"
          ],
          [
           "Romance",
           "Original"
          ]
         ],
         "hovertemplate": "<b>%{hovertext}</b><br><br>Cluster=%{customdata[0]}<br>Type=%{customdata[1]}<br>PCA 1=%{x:.3f}<br>PCA 2=%{y:.3f}<extra></extra>",
         "hovertext": [
          "Original | Forrest Gump | Romance",
          "Original | Nuovo Cinema Paradiso | Romance",
          "Original | Casablanca | Romance",
          "Original | Eternal Sunshine of the Spotless Mind | Romance",
          "Original | Amélie | Romance",
          "Original | Good Will Hunting | Romance"
         ],
         "legendgroup": "Romance, Original",
         "marker": {
          "color": "rgb(255,255,51)",
          "symbol": "circle"
         },
         "mode": "markers",
         "name": "Romance, Original",
         "opacity": 0.3,
         "orientation": "v",
         "showlegend": false,
         "type": "scatter",
         "x": {
          "bdata": "mFYkvkYUmr7U8Dm+KdkmvgT2I74uujK+",
          "dtype": "f4"
         },
         "xaxis": "x",
         "y": {
          "bdata": "s5QOPWrSlT5QXxs6sm9QPoLSvj3RBjs9",
          "dtype": "f4"
         },
         "yaxis": "y"
        },
        {
         "customdata": [
          [
           "Romance",
           "Steered"
          ],
          [
           "Romance",
           "Steered"
          ],
          [
           "Romance",
           "Steered"
          ],
          [
           "Romance",
           "Steered"
          ],
          [
           "Romance",
           "Steered"
          ],
          [
           "Romance",
           "Steered"
          ]
         ],
         "hovertemplate": "<b>%{hovertext}</b><br><br>Cluster=%{customdata[0]}<br>Type=%{customdata[1]}<br>PCA 1=%{x:.3f}<br>PCA 2=%{y:.3f}<extra></extra>",
         "hovertext": [
          "Steered | Forrest Gump | Romance",
          "Steered | Nuovo Cinema Paradiso | Romance",
          "Steered | Casablanca | Romance",
          "Steered | Eternal Sunshine of the Spotless Mind | Romance",
          "Steered | Amélie | Romance",
          "Steered | Good Will Hunting | Romance"
         ],
         "legendgroup": "Romance, Steered",
         "marker": {
          "color": "rgb(255,255,51)",
          "symbol": "diamond"
         },
         "mode": "markers",
         "name": "Romance, Steered",
         "opacity": 1,
         "orientation": "v",
         "showlegend": true,
         "type": "scatter",
         "x": {
          "bdata": "teOZPRahr72+imM9yHbYPEQPez0/CY09",
          "dtype": "f4"
         },
         "xaxis": "x",
         "y": {
          "bdata": "AVofvpBhtD1a9Dy+AJ35PNKaxr1BNCS+",
          "dtype": "f4"
         },
         "yaxis": "y"
        },
        {
         "customdata": [
          [
           "Western",
           "Original"
          ],
          [
           "Western",
           "Original"
          ],
          [
           "Western",
           "Original"
          ]
         ],
         "hovertemplate": "<b>%{hovertext}</b><br><br>Cluster=%{customdata[0]}<br>Type=%{customdata[1]}<br>PCA 1=%{x:.3f}<br>PCA 2=%{y:.3f}<extra></extra>",
         "hovertext": [
          "Original | Il buono, il brutto, il cattivo | Western",
          "Original | Once Upon a Time in the West | Western",
          "Original | Django Unchained | Western"
         ],
         "legendgroup": "Western, Original",
         "marker": {
          "color": "rgb(166,86,40)",
          "symbol": "circle"
         },
         "mode": "markers",
         "name": "Western, Original",
         "opacity": 0.3,
         "orientation": "v",
         "showlegend": false,
         "type": "scatter",
         "x": {
          "bdata": "7IdUPpmFCzp90yC9",
          "dtype": "f4"
         },
         "xaxis": "x",
         "y": {
          "bdata": "jcg0vj6VUr62pGi+",
          "dtype": "f4"
         },
         "yaxis": "y"
        },
        {
         "customdata": [
          [
           "Western",
           "Steered"
          ],
          [
           "Western",
           "Steered"
          ],
          [
           "Western",
           "Steered"
          ]
         ],
         "hovertemplate": "<b>%{hovertext}</b><br><br>Cluster=%{customdata[0]}<br>Type=%{customdata[1]}<br>PCA 1=%{x:.3f}<br>PCA 2=%{y:.3f}<extra></extra>",
         "hovertext": [
          "Steered | Il buono, il brutto, il cattivo | Western",
          "Steered | Once Upon a Time in the West | Western",
          "Steered | Django Unchained | Western"
         ],
         "legendgroup": "Western, Steered",
         "marker": {
          "color": "rgb(166,86,40)",
          "symbol": "diamond"
         },
         "mode": "markers",
         "name": "Western, Steered",
         "opacity": 1,
         "orientation": "v",
         "showlegend": true,
         "type": "scatter",
         "x": {
          "bdata": "Flq7PilDOT5BVgk+",
          "dtype": "f4"
         },
         "xaxis": "x",
         "y": {
          "bdata": "oA2gvlDnp769ELK+",
          "dtype": "f4"
         },
         "yaxis": "y"
        },
        {
         "customdata": [
          [
           "Biography",
           "Original"
          ],
          [
           "Biography",
           "Original"
          ],
          [
           "Biography",
           "Original"
          ],
          [
           "Biography",
           "Original"
          ],
          [
           "Biography",
           "Original"
          ]
         ],
         "hovertemplate": "<b>%{hovertext}</b><br><br>Cluster=%{customdata[0]}<br>Type=%{customdata[1]}<br>PCA 1=%{x:.3f}<br>PCA 2=%{y:.3f}<extra></extra>",
         "hovertext": [
          "Original | Goodfellas | Biography",
          "Original | Hamilton | Biography",
          "Original | The Intouchables | Biography",
          "Original | Ayla: The Daughter of War | Biography",
          "Original | Dangal | Biography"
         ],
         "legendgroup": "Biography, Original",
         "marker": {
          "color": "rgb(247,129,191)",
          "symbol": "circle"
         },
         "mode": "markers",
         "name": "Biography, Original",
         "opacity": 0.3,
         "orientation": "v",
         "showlegend": false,
         "type": "scatter",
         "x": {
          "bdata": "eOErvqnZqLye9WW+/Ca2vCpnoD0=",
          "dtype": "f4"
         },
         "xaxis": "x",
         "y": {
          "bdata": "+6IFvuQdg731tqw9SbqbvDDRrD0=",
          "dtype": "f4"
         },
         "yaxis": "y"
        },
        {
         "customdata": [
          [
           "Biography",
           "Steered"
          ],
          [
           "Biography",
           "Steered"
          ],
          [
           "Biography",
           "Steered"
          ],
          [
           "Biography",
           "Steered"
          ],
          [
           "Biography",
           "Steered"
          ]
         ],
         "hovertemplate": "<b>%{hovertext}</b><br><br>Cluster=%{customdata[0]}<br>Type=%{customdata[1]}<br>PCA 1=%{x:.3f}<br>PCA 2=%{y:.3f}<extra></extra>",
         "hovertext": [
          "Steered | Goodfellas | Biography",
          "Steered | Hamilton | Biography",
          "Steered | The Intouchables | Biography",
          "Steered | Ayla: The Daughter of War | Biography",
          "Steered | Dangal | Biography"
         ],
         "legendgroup": "Biography, Steered",
         "marker": {
          "color": "rgb(247,129,191)",
          "symbol": "diamond"
         },
         "mode": "markers",
         "name": "Biography, Steered",
         "opacity": 1,
         "orientation": "v",
         "showlegend": true,
         "type": "scatter",
         "x": {
          "bdata": "wlPvPCjWMj74kwE8WNpHPmJbhT4=",
          "dtype": "f4"
         },
         "xaxis": "x",
         "y": {
          "bdata": "y9GOvtK/ar6AuNi9Jh5Cvqasv70=",
          "dtype": "f4"
         },
         "yaxis": "y"
        },
        {
         "customdata": [
          [
           "War",
           "Original"
          ],
          [
           "War",
           "Original"
          ],
          [
           "War",
           "Original"
          ],
          [
           "War",
           "Original"
          ],
          [
           "War",
           "Original"
          ],
          [
           "War",
           "Original"
          ],
          [
           "War",
           "Original"
          ]
         ],
         "hovertemplate": "<b>%{hovertext}</b><br><br>Cluster=%{customdata[0]}<br>Type=%{customdata[1]}<br>PCA 1=%{x:.3f}<br>PCA 2=%{y:.3f}<extra></extra>",
         "hovertext": [
          "Original | Saving Private Ryan | War",
          "Original | Hotaru no haka | War",
          "Original | Apocalypse Now | War",
          "Original | Paths of Glory | War",
          "Original | The Great Dictator | War",
          "Original | 1917 | War",
          "Original | Inglourious Basterds | War"
         ],
         "legendgroup": "War, Original",
         "marker": {
          "color": "rgb(153,153,153)",
          "symbol": "circle"
         },
         "mode": "markers",
         "name": "War, Original",
         "opacity": 0.3,
         "orientation": "v",
         "showlegend": false,
         "type": "scatter",
         "x": {
          "bdata": "5E7SPuAhTj3wMVA+J6ebPmLfPT1+7cA+CjhsPQ==",
          "dtype": "f4"
         },
         "xaxis": "x",
         "y": {
          "bdata": "66k7vguvOj5uN5S+wMV6vkZSurur0kK+zDyZvg==",
          "dtype": "f4"
         },
         "yaxis": "y"
        },
        {
         "customdata": [
          [
           "War",
           "Steered"
          ],
          [
           "War",
           "Steered"
          ],
          [
           "War",
           "Steered"
          ],
          [
           "War",
           "Steered"
          ],
          [
           "War",
           "Steered"
          ],
          [
           "War",
           "Steered"
          ],
          [
           "War",
           "Steered"
          ]
         ],
         "hovertemplate": "<b>%{hovertext}</b><br><br>Cluster=%{customdata[0]}<br>Type=%{customdata[1]}<br>PCA 1=%{x:.3f}<br>PCA 2=%{y:.3f}<extra></extra>",
         "hovertext": [
          "Steered | Saving Private Ryan | War",
          "Steered | Hotaru no haka | War",
          "Steered | Apocalypse Now | War",
          "Steered | Paths of Glory | War",
          "Steered | The Great Dictator | War",
          "Steered | 1917 | War",
          "Steered | Inglourious Basterds | War"
         ],
         "legendgroup": "War, Steered",
         "marker": {
          "color": "rgb(153,153,153)",
          "symbol": "diamond"
         },
         "mode": "markers",
         "name": "War, Steered",
         "opacity": 1,
         "orientation": "v",
         "showlegend": true,
         "type": "scatter",
         "x": {
          "bdata": "la/9PrDwTT6T8Kc+eYfNPsQgYj7/yfo+YCF0Pg==",
          "dtype": "f4"
         },
         "xaxis": "x",
         "y": {
          "bdata": "4NePvnLq2jwQkru+tKejvjrGJL7/Lp2+hqLKvg==",
          "dtype": "f4"
         },
         "yaxis": "y"
        },
        {
         "customdata": [
          [
           "Comedy",
           "Original"
          ],
          [
           "Comedy",
           "Original"
          ],
          [
           "Comedy",
           "Original"
          ],
          [
           "Comedy",
           "Original"
          ]
         ],
         "hovertemplate": "<b>%{hovertext}</b><br><br>Cluster=%{customdata[0]}<br>Type=%{customdata[1]}<br>PCA 1=%{x:.3f}<br>PCA 2=%{y:.3f}<extra></extra>",
         "hovertext": [
          "Original | La vita è bella | Comedy",
          "Original | City Lights | Comedy",
          "Original | 3 Idiots | Comedy",
          "Original | Dr. Strangelove or: How I Learned to Stop Worrying and Love the Bomb | Comedy"
         ],
         "legendgroup": "Comedy, Original",
         "marker": {
          "color": "rgb(228,26,28)",
          "symbol": "circle"
         },
         "mode": "markers",
         "name": "Comedy, Original",
         "opacity": 0.3,
         "orientation": "v",
         "showlegend": false,
         "type": "scatter",
         "x": {
          "bdata": "//5xvlUQi72/GAa+ssUtPg==",
          "dtype": "f4"
         },
         "xaxis": "x",
         "y": {
          "bdata": "ukPbPIpiRT5sHnM+AqbyvQ==",
          "dtype": "f4"
         },
         "yaxis": "y"
        },
        {
         "customdata": [
          [
           "Comedy",
           "Steered"
          ],
          [
           "Comedy",
           "Steered"
          ],
          [
           "Comedy",
           "Steered"
          ],
          [
           "Comedy",
           "Steered"
          ]
         ],
         "hovertemplate": "<b>%{hovertext}</b><br><br>Cluster=%{customdata[0]}<br>Type=%{customdata[1]}<br>PCA 1=%{x:.3f}<br>PCA 2=%{y:.3f}<extra></extra>",
         "hovertext": [
          "Steered | La vita è bella | Comedy",
          "Steered | City Lights | Comedy",
          "Steered | 3 Idiots | Comedy",
          "Steered | Dr. Strangelove or: How I Learned to Stop Worrying and Love the Bomb | Comedy"
         ],
         "legendgroup": "Comedy, Steered",
         "marker": {
          "color": "rgb(228,26,28)",
          "symbol": "diamond"
         },
         "mode": "markers",
         "name": "Comedy, Steered",
         "opacity": 1,
         "orientation": "v",
         "showlegend": true,
         "type": "scatter",
         "x": {
          "bdata": "AAPEOmRQKz7GiQc+sqGgPg==",
          "dtype": "f4"
         },
         "xaxis": "x",
         "y": {
          "bdata": "wwgivui2A70QVTm8irxzvg==",
          "dtype": "f4"
         },
         "yaxis": "y"
        },
        {
         "customdata": [
          [
           "Action",
           "Original"
          ]
         ],
         "hovertemplate": "<b>%{hovertext}</b><br><br>Cluster=%{customdata[0]}<br>Type=%{customdata[1]}<br>PCA 1=%{x:.3f}<br>PCA 2=%{y:.3f}<extra></extra>",
         "hovertext": [
          "Original | Star Wars | Action"
         ],
         "legendgroup": "Action, Original",
         "marker": {
          "color": "rgb(55,126,184)",
          "symbol": "circle"
         },
         "mode": "markers",
         "name": "Action, Original",
         "opacity": 0.3,
         "orientation": "v",
         "showlegend": false,
         "type": "scatter",
         "x": {
          "bdata": "QK0HPw==",
          "dtype": "f4"
         },
         "xaxis": "x",
         "y": {
          "bdata": "A4GCPQ==",
          "dtype": "f4"
         },
         "yaxis": "y"
        },
        {
         "customdata": [
          [
           "Action",
           "Steered"
          ]
         ],
         "hovertemplate": "<b>%{hovertext}</b><br><br>Cluster=%{customdata[0]}<br>Type=%{customdata[1]}<br>PCA 1=%{x:.3f}<br>PCA 2=%{y:.3f}<extra></extra>",
         "hovertext": [
          "Steered | Star Wars | Action"
         ],
         "legendgroup": "Action, Steered",
         "marker": {
          "color": "rgb(55,126,184)",
          "symbol": "diamond"
         },
         "mode": "markers",
         "name": "Action, Steered",
         "opacity": 1,
         "orientation": "v",
         "showlegend": true,
         "type": "scatter",
         "x": {
          "bdata": "Pl8dPw==",
          "dtype": "f4"
         },
         "xaxis": "x",
         "y": {
          "bdata": "WlvevQ==",
          "dtype": "f4"
         },
         "yaxis": "y"
        },
        {
         "customdata": [
          [
           "Mystery",
           "Original"
          ],
          [
           "Mystery",
           "Original"
          ],
          [
           "Mystery",
           "Original"
          ],
          [
           "Mystery",
           "Original"
          ]
         ],
         "hovertemplate": "<b>%{hovertext}</b><br><br>Cluster=%{customdata[0]}<br>Type=%{customdata[1]}<br>PCA 1=%{x:.3f}<br>PCA 2=%{y:.3f}<extra></extra>",
         "hovertext": [
          "Original | Seppuku | Mystery",
          "Original | The Prestige | Mystery",
          "Original | Oldeuboi | Mystery",
          "Original | Incendies | Mystery"
         ],
         "legendgroup": "Mystery, Original",
         "marker": {
          "color": "rgb(77,175,74)",
          "symbol": "circle"
         },
         "mode": "markers",
         "name": "Mystery, Original",
         "opacity": 0.3,
         "orientation": "v",
         "showlegend": false,
         "type": "scatter",
         "x": {
          "bdata": "oiwIPNVhTD4/d9k927qFvA==",
          "dtype": "f4"
         },
         "xaxis": "x",
         "y": {
          "bdata": "9WvzPWXrETy/S6m9sbvLPg==",
          "dtype": "f4"
         },
         "yaxis": "y"
        },
        {
         "customdata": [
          [
           "Mystery",
           "Steered"
          ],
          [
           "Mystery",
           "Steered"
          ],
          [
           "Mystery",
           "Steered"
          ],
          [
           "Mystery",
           "Steered"
          ]
         ],
         "hovertemplate": "<b>%{hovertext}</b><br><br>Cluster=%{customdata[0]}<br>Type=%{customdata[1]}<br>PCA 1=%{x:.3f}<br>PCA 2=%{y:.3f}<extra></extra>",
         "hovertext": [
          "Steered | Seppuku | Mystery",
          "Steered | The Prestige | Mystery",
          "Steered | Oldeuboi | Mystery",
          "Steered | Incendies | Mystery"
         ],
         "legendgroup": "Mystery, Steered",
         "marker": {
          "color": "rgb(77,175,74)",
          "symbol": "diamond"
         },
         "mode": "markers",
         "name": "Mystery, Steered",
         "opacity": 1,
         "orientation": "v",
         "showlegend": true,
         "type": "scatter",
         "x": {
          "bdata": "hm1ePo2Uuz7Zy4Y++J8ZPg==",
          "dtype": "f4"
         },
         "xaxis": "x",
         "y": {
          "bdata": "suujvTsOJ76Mblq+iSdiPg==",
          "dtype": "f4"
         },
         "yaxis": "y"
        },
        {
         "customdata": [
          [
           "Fantasy",
           "Original"
          ]
         ],
         "hovertemplate": "<b>%{hovertext}</b><br><br>Cluster=%{customdata[0]}<br>Type=%{customdata[1]}<br>PCA 1=%{x:.3f}<br>PCA 2=%{y:.3f}<extra></extra>",
         "hovertext": [
          "Original | It's a Wonderful Life | Fantasy"
         ],
         "legendgroup": "Fantasy, Original",
         "marker": {
          "color": "rgb(152,78,163)",
          "symbol": "circle"
         },
         "mode": "markers",
         "name": "Fantasy, Original",
         "opacity": 0.3,
         "orientation": "v",
         "showlegend": false,
         "type": "scatter",
         "x": {
          "bdata": "TDabvQ==",
          "dtype": "f4"
         },
         "xaxis": "x",
         "y": {
          "bdata": "GaYwPg==",
          "dtype": "f4"
         },
         "yaxis": "y"
        },
        {
         "customdata": [
          [
           "Fantasy",
           "Steered"
          ]
         ],
         "hovertemplate": "<b>%{hovertext}</b><br><br>Cluster=%{customdata[0]}<br>Type=%{customdata[1]}<br>PCA 1=%{x:.3f}<br>PCA 2=%{y:.3f}<extra></extra>",
         "hovertext": [
          "Steered | It's a Wonderful Life | Fantasy"
         ],
         "legendgroup": "Fantasy, Steered",
         "marker": {
          "color": "rgb(152,78,163)",
          "symbol": "diamond"
         },
         "mode": "markers",
         "name": "Fantasy, Steered",
         "opacity": 1,
         "orientation": "v",
         "showlegend": true,
         "type": "scatter",
         "x": {
          "bdata": "ll7tPQ==",
          "dtype": "f4"
         },
         "xaxis": "x",
         "y": {
          "bdata": "YFH0uw==",
          "dtype": "f4"
         },
         "yaxis": "y"
        },
        {
         "customdata": [
          [
           "Music",
           "Original"
          ],
          [
           "Music",
           "Original"
          ]
         ],
         "hovertemplate": "<b>%{hovertext}</b><br><br>Cluster=%{customdata[0]}<br>Type=%{customdata[1]}<br>PCA 1=%{x:.3f}<br>PCA 2=%{y:.3f}<extra></extra>",
         "hovertext": [
          "Original | Whiplash | Music",
          "Original | The Pianist | Music"
         ],
         "legendgroup": "Music, Original",
         "marker": {
          "color": "rgb(255,127,0)",
          "symbol": "circle"
         },
         "mode": "markers",
         "name": "Music, Original",
         "opacity": 0.3,
         "orientation": "v",
         "showlegend": false,
         "type": "scatter",
         "x": {
          "bdata": "e0EJvmaBLr4=",
          "dtype": "f4"
         },
         "xaxis": "x",
         "y": {
          "bdata": "Ib1JPp0oo7s=",
          "dtype": "f4"
         },
         "yaxis": "y"
        },
        {
         "customdata": [
          [
           "Music",
           "Steered"
          ],
          [
           "Music",
           "Steered"
          ]
         ],
         "hovertemplate": "<b>%{hovertext}</b><br><br>Cluster=%{customdata[0]}<br>Type=%{customdata[1]}<br>PCA 1=%{x:.3f}<br>PCA 2=%{y:.3f}<extra></extra>",
         "hovertext": [
          "Steered | Whiplash | Music",
          "Steered | The Pianist | Music"
         ],
         "legendgroup": "Music, Steered",
         "marker": {
          "color": "rgb(255,127,0)",
          "symbol": "diamond"
         },
         "mode": "markers",
         "name": "Music, Steered",
         "opacity": 1,
         "orientation": "v",
         "showlegend": true,
         "type": "scatter",
         "x": {
          "bdata": "mi6+PYCD3Ts=",
          "dtype": "f4"
         },
         "xaxis": "x",
         "y": {
          "bdata": "aIJavO9cFr4=",
          "dtype": "f4"
         },
         "yaxis": "y"
        },
        {
         "customdata": [
          [
           "Thriller",
           "Original"
          ],
          [
           "Thriller",
           "Original"
          ],
          [
           "Thriller",
           "Original"
          ],
          [
           "Thriller",
           "Original"
          ]
         ],
         "hovertemplate": "<b>%{hovertext}</b><br><br>Cluster=%{customdata[0]}<br>Type=%{customdata[1]}<br>PCA 1=%{x:.3f}<br>PCA 2=%{y:.3f}<extra></extra>",
         "hovertext": [
          "Original | Psycho | Thriller",
          "Original | The Lives of Others | Thriller",
          "Original | Memento | Thriller",
          "Original | Rear Window | Thriller"
         ],
         "legendgroup": "Thriller, Original",
         "marker": {
          "color": "rgb(255,255,51)",
          "symbol": "circle"
         },
         "mode": "markers",
         "name": "Thriller, Original",
         "opacity": 0.3,
         "orientation": "v",
         "showlegend": false,
         "type": "scatter",
         "x": {
          "bdata": "wp3gvDmxa77Vt5y+7QBWvg==",
          "dtype": "f4"
         },
         "xaxis": "x",
         "y": {
          "bdata": "u88RvtwcJb6hFG++ZjVBvg==",
          "dtype": "f4"
         },
         "yaxis": "y"
        },
        {
         "customdata": [
          [
           "Thriller",
           "Steered"
          ],
          [
           "Thriller",
           "Steered"
          ],
          [
           "Thriller",
           "Steered"
          ],
          [
           "Thriller",
           "Steered"
          ]
         ],
         "hovertemplate": "<b>%{hovertext}</b><br><br>Cluster=%{customdata[0]}<br>Type=%{customdata[1]}<br>PCA 1=%{x:.3f}<br>PCA 2=%{y:.3f}<extra></extra>",
         "hovertext": [
          "Steered | Psycho | Thriller",
          "Steered | The Lives of Others | Thriller",
          "Steered | Memento | Thriller",
          "Steered | Rear Window | Thriller"
         ],
         "legendgroup": "Thriller, Steered",
         "marker": {
          "color": "rgb(255,255,51)",
          "symbol": "diamond"
         },
         "mode": "markers",
         "name": "Thriller, Steered",
         "opacity": 1,
         "orientation": "v",
         "showlegend": true,
         "type": "scatter",
         "x": {
          "bdata": "tp48Pgzj0LzUSey9ICmcuw==",
          "dtype": "f4"
         },
         "xaxis": "x",
         "y": {
          "bdata": "qoKZvgvvl75X4rK+En+nvg==",
          "dtype": "f4"
         },
         "yaxis": "y"
        },
        {
         "customdata": [
          [
           "Family",
           "Original"
          ],
          [
           "Family",
           "Original"
          ]
         ],
         "hovertemplate": "<b>%{hovertext}</b><br><br>Cluster=%{customdata[0]}<br>Type=%{customdata[1]}<br>PCA 1=%{x:.3f}<br>PCA 2=%{y:.3f}<extra></extra>",
         "hovertext": [
          "Original | Coco | Family",
          "Original | Babam ve Oglum | Family"
         ],
         "legendgroup": "Family, Original",
         "marker": {
          "color": "rgb(166,86,40)",
          "symbol": "circle"
         },
         "mode": "markers",
         "name": "Family, Original",
         "opacity": 0.3,
         "orientation": "v",
         "showlegend": false,
         "type": "scatter",
         "x": {
          "bdata": "Gycjvpe0lb0=",
          "dtype": "f4"
         },
         "xaxis": "x",
         "y": {
          "bdata": "PCRDPht8Ez0=",
          "dtype": "f4"
         },
         "yaxis": "y"
        },
        {
         "customdata": [
          [
           "Family",
           "Steered"
          ],
          [
           "Family",
           "Steered"
          ]
         ],
         "hovertemplate": "<b>%{hovertext}</b><br><br>Cluster=%{customdata[0]}<br>Type=%{customdata[1]}<br>PCA 1=%{x:.3f}<br>PCA 2=%{y:.3f}<extra></extra>",
         "hovertext": [
          "Steered | Coco | Family",
          "Steered | Babam ve Oglum | Family"
         ],
         "legendgroup": "Family, Steered",
         "marker": {
          "color": "rgb(166,86,40)",
          "symbol": "diamond"
         },
         "mode": "markers",
         "name": "Family, Steered",
         "opacity": 1,
         "orientation": "v",
         "showlegend": true,
         "type": "scatter",
         "x": {
          "bdata": "pColPUk2vz0=",
          "dtype": "f4"
         },
         "xaxis": "x",
         "y": {
          "bdata": "IMDnO7yB270=",
          "dtype": "f4"
         },
         "yaxis": "y"
        },
        {
         "customdata": [
          [
           "Horror",
           "Original"
          ]
         ],
         "hovertemplate": "<b>%{hovertext}</b><br><br>Cluster=%{customdata[0]}<br>Type=%{customdata[1]}<br>PCA 1=%{x:.3f}<br>PCA 2=%{y:.3f}<extra></extra>",
         "hovertext": [
          "Original | The Shining | Horror"
         ],
         "legendgroup": "Horror, Original",
         "marker": {
          "color": "rgb(247,129,191)",
          "symbol": "circle"
         },
         "mode": "markers",
         "name": "Horror, Original",
         "opacity": 0.3,
         "orientation": "v",
         "showlegend": false,
         "type": "scatter",
         "x": {
          "bdata": "KmIpvg==",
          "dtype": "f4"
         },
         "xaxis": "x",
         "y": {
          "bdata": "IuCiPQ==",
          "dtype": "f4"
         },
         "yaxis": "y"
        },
        {
         "customdata": [
          [
           "Horror",
           "Steered"
          ]
         ],
         "hovertemplate": "<b>%{hovertext}</b><br><br>Cluster=%{customdata[0]}<br>Type=%{customdata[1]}<br>PCA 1=%{x:.3f}<br>PCA 2=%{y:.3f}<extra></extra>",
         "hovertext": [
          "Steered | The Shining | Horror"
         ],
         "legendgroup": "Horror, Steered",
         "marker": {
          "color": "rgb(247,129,191)",
          "symbol": "diamond"
         },
         "mode": "markers",
         "name": "Horror, Steered",
         "opacity": 1,
         "orientation": "v",
         "showlegend": true,
         "type": "scatter",
         "x": {
          "bdata": "o52EPQ==",
          "dtype": "f4"
         },
         "xaxis": "x",
         "y": {
          "bdata": "LIDhvQ==",
          "dtype": "f4"
         },
         "yaxis": "y"
        },
        {
         "customdata": [
          [
           "Film-Noir",
           "Original"
          ]
         ],
         "hovertemplate": "<b>%{hovertext}</b><br><br>Cluster=%{customdata[0]}<br>Type=%{customdata[1]}<br>PCA 1=%{x:.3f}<br>PCA 2=%{y:.3f}<extra></extra>",
         "hovertext": [
          "Original | Sunset Blvd. | Film-Noir"
         ],
         "legendgroup": "Film-Noir, Original",
         "marker": {
          "color": "rgb(153,153,153)",
          "symbol": "circle"
         },
         "mode": "markers",
         "name": "Film-Noir, Original",
         "opacity": 0.3,
         "orientation": "v",
         "showlegend": false,
         "type": "scatter",
         "x": {
          "bdata": "/VVevg==",
          "dtype": "f4"
         },
         "xaxis": "x",
         "y": {
          "bdata": "C2onPg==",
          "dtype": "f4"
         },
         "yaxis": "y"
        },
        {
         "customdata": [
          [
           "Film-Noir",
           "Steered"
          ]
         ],
         "hovertemplate": "<b>%{hovertext}</b><br><br>Cluster=%{customdata[0]}<br>Type=%{customdata[1]}<br>PCA 1=%{x:.3f}<br>PCA 2=%{y:.3f}<extra></extra>",
         "hovertext": [
          "Steered | Sunset Blvd. | Film-Noir"
         ],
         "legendgroup": "Film-Noir, Steered",
         "marker": {
          "color": "rgb(153,153,153)",
          "symbol": "diamond"
         },
         "mode": "markers",
         "name": "Film-Noir, Steered",
         "opacity": 1,
         "orientation": "v",
         "showlegend": true,
         "type": "scatter",
         "x": {
          "bdata": "mH0SvA==",
          "dtype": "f4"
         },
         "xaxis": "x",
         "y": {
          "bdata": "NIqFvA==",
          "dtype": "f4"
         },
         "yaxis": "y"
        },
        {
         "marker": {
          "color": "black",
          "size": 12,
          "symbol": "x"
         },
         "mode": "markers+text",
         "name": "Steering Vector",
         "opacity": 1,
         "text": [
          "Mean point"
         ],
         "textposition": "top center",
         "type": "scatter",
         "x": [
          0.4659431278705597
         ],
         "y": [
          -0.31186872720718384
         ]
        },
        {
         "hoverinfo": "none",
         "line": {
          "color": "gray",
          "dash": "dot",
          "width": 1
         },
         "mode": "lines",
         "showlegend": false,
         "type": "scatter",
         "x": [
          0.028813423588871956,
          0.20160822570323944
         ],
         "y": [
          -0.13500607013702393,
          -0.26881739497184753
         ]
        },
        {
         "hoverinfo": "none",
         "line": {
          "color": "gray",
          "dash": "dot",
          "width": 1
         },
         "mode": "lines",
         "showlegend": false,
         "type": "scatter",
         "x": [
          -0.0482674315571785,
          0.11304667592048645
         ],
         "y": [
          -0.1372208148241043,
          -0.25893133878707886
         ]
        },
        {
         "hoverinfo": "none",
         "line": {
          "color": "gray",
          "dash": "dot",
          "width": 1
         },
         "mode": "lines",
         "showlegend": false,
         "type": "scatter",
         "x": [
          0.04835968464612961,
          0.23014764487743378
         ],
         "y": [
          -0.184448704123497,
          -0.303350031375885
         ]
        },
        {
         "hoverinfo": "none",
         "line": {
          "color": "gray",
          "dash": "dot",
          "width": 1
         },
         "mode": "lines",
         "showlegend": false,
         "type": "scatter",
         "x": [
          -0.22345735132694244,
          -0.005595460534095764
         ],
         "y": [
          -0.10750472545623779,
          -0.26989561319351196
         ]
        },
        {
         "hoverinfo": "none",
         "line": {
          "color": "gray",
          "dash": "dot",
          "width": 1
         },
         "mode": "lines",
         "showlegend": false,
         "type": "scatter",
         "x": [
          -0.04852236062288284,
          0.12903010845184326
         ],
         "y": [
          -0.2330431193113327,
          -0.3439628779888153
         ]
        },
        {
         "hoverinfo": "none",
         "line": {
          "color": "gray",
          "dash": "dot",
          "width": 1
         },
         "mode": "lines",
         "showlegend": false,
         "type": "scatter",
         "x": [
          0.5283944606781006,
          0.6219216585159302
         ],
         "y": [
          0.1571197658777237,
          -0.01941695064306259
         ]
        },
        {
         "hoverinfo": "none",
         "line": {
          "color": "gray",
          "dash": "dot",
          "width": 1
         },
         "mode": "lines",
         "showlegend": false,
         "type": "scatter",
         "x": [
          -0.012316326610744,
          0.178875133395195
         ],
         "y": [
          -0.2734387218952179,
          -0.3896062672138214
         ]
        },
        {
         "hoverinfo": "none",
         "line": {
          "color": "gray",
          "dash": "dot",
          "width": 1
         },
         "mode": "lines",
         "showlegend": false,
         "type": "scatter",
         "x": [
          -0.18946939706802368,
          0.011271215975284576
         ],
         "y": [
          -0.1002059355378151,
          -0.2518629729747772
         ]
        },
        {
         "hoverinfo": "none",
         "line": {
          "color": "gray",
          "dash": "dot",
          "width": 1
         },
         "mode": "lines",
         "showlegend": false,
         "type": "scatter",
         "x": [
          -0.10946988314390182,
          0.09765131771564484
         ],
         "y": [
          -0.03733344376087189,
          -0.2060641646385193
         ]
        },
        {
         "hoverinfo": "none",
         "line": {
          "color": "gray",
          "dash": "dot",
          "width": 1
         },
         "mode": "lines",
         "showlegend": false,
         "type": "scatter",
         "x": [
          0.014857267960906029,
          0.22110682725906372
         ],
         "y": [
          -0.0256331916898489,
          -0.1976918876171112
         ]
        },
        {
         "hoverinfo": "none",
         "line": {
          "color": "gray",
          "dash": "dot",
          "width": 1
         },
         "mode": "lines",
         "showlegend": false,
         "type": "scatter",
         "x": [
          0.4265229403972626,
          0.5461070537567139
         ],
         "y": [
          0.2629523277282715,
          0.07362093776464462
         ]
        },
        {
         "hoverinfo": "none",
         "line": {
          "color": "gray",
          "dash": "dot",
          "width": 1
         },
         "mode": "lines",
         "showlegend": false,
         "type": "scatter",
         "x": [
          -0.16048657894134521,
          0.07514134794473648
         ],
         "y": [
          0.03480977937579155,
          -0.15561677515506744
         ]
        },
        {
         "hoverinfo": "none",
         "line": {
          "color": "gray",
          "dash": "dot",
          "width": 1
         },
         "mode": "lines",
         "showlegend": false,
         "type": "scatter",
         "x": [
          0.20754975080490112,
          0.36592167615890503
         ],
         "y": [
          -0.17654629051685333,
          -0.3126039505004883
         ]
        },
        {
         "hoverinfo": "none",
         "line": {
          "color": "gray",
          "dash": "dot",
          "width": 1
         },
         "mode": "lines",
         "showlegend": false,
         "type": "scatter",
         "x": [
          0.503908634185791,
          0.6030368208885193
         ],
         "y": [
          0.21666741371154785,
          0.014912854880094528
         ]
        },
        {
         "hoverinfo": "none",
         "line": {
          "color": "gray",
          "dash": "dot",
          "width": 1
         },
         "mode": "lines",
         "showlegend": false,
         "type": "scatter",
         "x": [
          -0.05428213253617287,
          0.13956144452095032
         ],
         "y": [
          -0.017015226185321808,
          -0.1712859869003296
         ]
        },
        {
         "hoverinfo": "none",
         "line": {
          "color": "gray",
          "dash": "dot",
          "width": 1
         },
         "mode": "lines",
         "showlegend": false,
         "type": "scatter",
         "x": [
          -0.1678522825241089,
          0.02921474352478981
         ],
         "y": [
          -0.1305045336484909,
          -0.27894434332847595
         ]
        },
        {
         "hoverinfo": "none",
         "line": {
          "color": "gray",
          "dash": "dot",
          "width": 1
         },
         "mode": "lines",
         "showlegend": false,
         "type": "scatter",
         "x": [
          0.4651094675064087,
          0.5622704029083252
         ],
         "y": [
          0.042476389557123184,
          -0.12415975332260132
         ]
        },
        {
         "hoverinfo": "none",
         "line": {
          "color": "gray",
          "dash": "dot",
          "width": 1
         },
         "mode": "lines",
         "showlegend": false,
         "type": "scatter",
         "x": [
          -0.17302991449832916,
          0.030927814543247223
         ],
         "y": [
          -0.23219774663448334,
          -0.35618841648101807
         ]
        },
        {
         "hoverinfo": "none",
         "line": {
          "color": "gray",
          "dash": "dot",
          "width": 1
         },
         "mode": "lines",
         "showlegend": false,
         "type": "scatter",
         "x": [
          -0.020611600950360298,
          0.1746450662612915
         ],
         "y": [
          -0.06402185559272766,
          -0.22924736142158508
         ]
        },
        {
         "hoverinfo": "none",
         "line": {
          "color": "gray",
          "dash": "dot",
          "width": 1
         },
         "mode": "lines",
         "showlegend": false,
         "type": "scatter",
         "x": [
          -0.08016777038574219,
          0.10605263710021973
         ],
         "y": [
          0.19727784395217896,
          0.01966308429837227
         ]
        },
        {
         "hoverinfo": "none",
         "line": {
          "color": "gray",
          "dash": "dot",
          "width": 1
         },
         "mode": "lines",
         "showlegend": false,
         "type": "scatter",
         "x": [
          0.2538805305957794,
          0.41517388820648193
         ],
         "y": [
          0.08256115019321442,
          -0.10717058181762695
         ]
        },
        {
         "hoverinfo": "none",
         "line": {
          "color": "gray",
          "dash": "dot",
          "width": 1
         },
         "mode": "lines",
         "showlegend": false,
         "type": "scatter",
         "x": [
          0.3783809244632721,
          0.48909348249435425
         ],
         "y": [
          0.20112228393554688,
          0.048821672797203064
         ]
        },
        {
         "hoverinfo": "none",
         "line": {
          "color": "gray",
          "dash": "dot",
          "width": 1
         },
         "mode": "lines",
         "showlegend": false,
         "type": "scatter",
         "x": [
          -0.0422637015581131,
          0.1541699767112732
         ],
         "y": [
          0.2064104527235031,
          0.015078797936439514
         ]
        },
        {
         "hoverinfo": "none",
         "line": {
          "color": "gray",
          "dash": "dot",
          "width": 1
         },
         "mode": "lines",
         "showlegend": false,
         "type": "scatter",
         "x": [
          -0.019879022613167763,
          0.1932242214679718
         ],
         "y": [
          0.3567425012588501,
          0.13810764253139496
         ]
        },
        {
         "hoverinfo": "none",
         "line": {
          "color": "gray",
          "dash": "dot",
          "width": 1
         },
         "mode": "lines",
         "showlegend": false,
         "type": "scatter",
         "x": [
          0.4107581377029419,
          0.4954802095890045
         ],
         "y": [
          -0.18326537311077118,
          -0.2809438705444336
         ]
        },
        {
         "hoverinfo": "none",
         "line": {
          "color": "gray",
          "dash": "dot",
          "width": 1
         },
         "mode": "lines",
         "showlegend": false,
         "type": "scatter",
         "x": [
          -0.21385349333286285,
          0.00849352777004242
         ],
         "y": [
          -0.3540397584438324,
          -0.4455000162124634
         ]
        },
        {
         "hoverinfo": "none",
         "line": {
          "color": "gray",
          "dash": "dot",
          "width": 1
         },
         "mode": "lines",
         "showlegend": false,
         "type": "scatter",
         "x": [
          -0.23632429540157318,
          0.001495450735092163
         ],
         "y": [
          0.026765692979097366,
          -0.1582365483045578
         ]
        },
        {
         "hoverinfo": "none",
         "line": {
          "color": "gray",
          "dash": "dot",
          "width": 1
         },
         "mode": "lines",
         "showlegend": false,
         "type": "scatter",
         "x": [
          0.01986733451485634,
          0.17729124426841736
         ],
         "y": [
          -0.39884310960769653,
          -0.4731327295303345
         ]
        },
        {
         "hoverinfo": "none",
         "line": {
          "color": "gray",
          "dash": "dot",
          "width": 1
         },
         "mode": "lines",
         "showlegend": false,
         "type": "scatter",
         "x": [
          0.03256672993302345,
          0.21258032321929932
         ],
         "y": [
          -0.3916914463043213,
          -0.4545455574989319
         ]
        },
        {
         "hoverinfo": "none",
         "line": {
          "color": "gray",
          "dash": "dot",
          "width": 1
         },
         "mode": "lines",
         "showlegend": false,
         "type": "scatter",
         "x": [
          0.5299873352050781,
          0.6147345304489136
         ],
         "y": [
          0.0637226328253746,
          -0.10857267677783966
         ]
        },
        {
         "hoverinfo": "none",
         "line": {
          "color": "gray",
          "dash": "dot",
          "width": 1
         },
         "mode": "lines",
         "showlegend": false,
         "type": "scatter",
         "x": [
          0.008311422541737556,
          0.2172146737575531
         ],
         "y": [
          0.11885825544595718,
          -0.08003939688205719
         ]
        },
        {
         "hoverinfo": "none",
         "line": {
          "color": "gray",
          "dash": "dot",
          "width": 1
         },
         "mode": "lines",
         "showlegend": false,
         "type": "scatter",
         "x": [
          0.2553977072238922,
          0.3702529966831207
         ],
         "y": [
          -0.09364467114210129,
          -0.20592835545539856
         ]
        },
        {
         "hoverinfo": "none",
         "line": {
          "color": "gray",
          "dash": "dot",
          "width": 1
         },
         "mode": "lines",
         "showlegend": false,
         "type": "scatter",
         "x": [
          -0.07578715682029724,
          0.11590306460857391
         ],
         "y": [
          0.1725086122751236,
          -0.007455989718437195
         ]
        },
        {
         "hoverinfo": "none",
         "line": {
          "color": "gray",
          "dash": "dot",
          "width": 1
         },
         "mode": "lines",
         "showlegend": false,
         "type": "scatter",
         "x": [
          -0.08165109157562256,
          0.1465187519788742
         ],
         "y": [
          -0.13628387451171875,
          -0.2937312424182892
         ]
        },
        {
         "hoverinfo": "none",
         "line": {
          "color": "gray",
          "dash": "dot",
          "width": 1
         },
         "mode": "lines",
         "showlegend": false,
         "type": "scatter",
         "x": [
          -0.13403885066509247,
          0.0928623229265213
         ],
         "y": [
          0.19701053202152252,
          -0.013336755335330963
         ]
        },
        {
         "hoverinfo": "none",
         "line": {
          "color": "gray",
          "dash": "dot",
          "width": 1
         },
         "mode": "lines",
         "showlegend": false,
         "type": "scatter",
         "x": [
          -0.22456976771354675,
          0.007908813655376434
         ],
         "y": [
          0.08433333784341812,
          -0.1058206558227539
         ]
        },
        {
         "hoverinfo": "none",
         "line": {
          "color": "gray",
          "dash": "dot",
          "width": 1
         },
         "mode": "lines",
         "showlegend": false,
         "type": "scatter",
         "x": [
          0.19959194958209991,
          0.36636772751808167
         ],
         "y": [
          0.008906220085918903,
          -0.1631402224302292
         ]
        },
        {
         "hoverinfo": "none",
         "line": {
          "color": "gray",
          "dash": "dot",
          "width": 1
         },
         "mode": "lines",
         "showlegend": false,
         "type": "scatter",
         "x": [
          0.03729367256164551,
          0.209034264087677
         ],
         "y": [
          -0.39940765500068665,
          -0.48061561584472656
         ]
        },
        {
         "hoverinfo": "none",
         "line": {
          "color": "gray",
          "dash": "dot",
          "width": 1
         },
         "mode": "lines",
         "showlegend": false,
         "type": "scatter",
         "x": [
          -0.1704154908657074,
          0.006760060787200928
         ],
         "y": [
          -0.0049792067147791386,
          -0.14683888852596283
         ]
        },
        {
         "hoverinfo": "none",
         "line": {
          "color": "gray",
          "dash": "dot",
          "width": 1
         },
         "mode": "lines",
         "showlegend": false,
         "type": "scatter",
         "x": [
          0.12664012610912323,
          0.27002471685409546
         ],
         "y": [
          -0.25510600209236145,
          -0.35430288314819336
         ]
        },
        {
         "hoverinfo": "none",
         "line": {
          "color": "gray",
          "dash": "dot",
          "width": 1
         },
         "mode": "lines",
         "showlegend": false,
         "type": "scatter",
         "x": [
          -0.11860959231853485,
          0.08795781433582306
         ],
         "y": [
          -0.11627364158630371,
          -0.24600857496261597
         ]
        },
        {
         "hoverinfo": "none",
         "line": {
          "color": "gray",
          "dash": "dot",
          "width": 1
         },
         "mode": "lines",
         "showlegend": false,
         "type": "scatter",
         "x": [
          0.05926479771733284,
          0.24864496290683746
         ],
         "y": [
          -0.2529132068157196,
          -0.35596519708633423
         ]
        },
        {
         "hoverinfo": "none",
         "line": {
          "color": "gray",
          "dash": "dot",
          "width": 1
         },
         "mode": "lines",
         "showlegend": false,
         "type": "scatter",
         "x": [
          -0.018546877428889275,
          0.19066257774829865
         ],
         "y": [
          0.09800843894481659,
          -0.0948428213596344
         ]
        },
        {
         "hoverinfo": "none",
         "line": {
          "color": "gray",
          "dash": "dot",
          "width": 1
         },
         "mode": "lines",
         "showlegend": false,
         "type": "scatter",
         "x": [
          0.032795488834381104,
          0.19574999809265137
         ],
         "y": [
          0.09660997986793518,
          -0.05882726609706879
         ]
        },
        {
         "hoverinfo": "none",
         "line": {
          "color": "gray",
          "dash": "dot",
          "width": 1
         },
         "mode": "lines",
         "showlegend": false,
         "type": "scatter",
         "x": [
          -0.015635330229997635,
          0.1574614942073822
         ],
         "y": [
          0.005715513601899147,
          -0.13659174740314484
         ]
        },
        {
         "hoverinfo": "none",
         "line": {
          "color": "gray",
          "dash": "dot",
          "width": 1
         },
         "mode": "lines",
         "showlegend": false,
         "type": "scatter",
         "x": [
          -0.30093592405319214,
          -0.08575646579265594
         ],
         "y": [
          0.2926209568977356,
          0.08807671070098877
         ]
        },
        {
         "hoverinfo": "none",
         "line": {
          "color": "gray",
          "dash": "dot",
          "width": 1
         },
         "mode": "lines",
         "showlegend": false,
         "type": "scatter",
         "x": [
          0.05032527446746826,
          0.20111346244812012
         ],
         "y": [
          0.1823083609342575,
          0.026723120361566544
         ]
        },
        {
         "hoverinfo": "none",
         "line": {
          "color": "gray",
          "dash": "dot",
          "width": 1
         },
         "mode": "lines",
         "showlegend": false,
         "type": "scatter",
         "x": [
          -0.19054783880710602,
          0.029627040028572083
         ],
         "y": [
          0.21335412561893463,
          0.008476093411445618
         ]
        },
        {
         "hoverinfo": "none",
         "line": {
          "color": "gray",
          "dash": "dot",
          "width": 1
         },
         "mode": "lines",
         "showlegend": false,
         "type": "scatter",
         "x": [
          0.0005322336801327765,
          0.18092025816440582
         ],
         "y": [
          -0.20564743876457214,
          -0.32793664932250977
         ]
        },
        {
         "hoverinfo": "none",
         "line": {
          "color": "gray",
          "dash": "dot",
          "width": 1
         },
         "mode": "lines",
         "showlegend": false,
         "type": "scatter",
         "x": [
          -0.02741897478699684,
          0.18419918417930603
         ],
         "y": [
          -0.14239399135112762,
          -0.2998250126838684
         ]
        },
        {
         "hoverinfo": "none",
         "line": {
          "color": "gray",
          "dash": "dot",
          "width": 1
         },
         "mode": "lines",
         "showlegend": false,
         "type": "scatter",
         "x": [
          -0.1815827488899231,
          0.05555223673582077
         ],
         "y": [
          0.0005926983430981636,
          -0.18452587723731995
         ]
        },
        {
         "hoverinfo": "none",
         "line": {
          "color": "gray",
          "dash": "dot",
          "width": 1
         },
         "mode": "lines",
         "showlegend": false,
         "type": "scatter",
         "x": [
          -0.10324139893054962,
          0.08236459642648697
         ],
         "y": [
          0.12111792713403702,
          -0.04779187589883804
         ]
        },
        {
         "hoverinfo": "none",
         "line": {
          "color": "gray",
          "dash": "dot",
          "width": 1
         },
         "mode": "lines",
         "showlegend": false,
         "type": "scatter",
         "x": [
          -0.06790224462747574,
          0.16729885339736938
         ],
         "y": [
          0.192758709192276,
          -0.03215685486793518
         ]
        },
        {
         "hoverinfo": "none",
         "line": {
          "color": "gray",
          "dash": "dot",
          "width": 1
         },
         "mode": "lines",
         "showlegend": false,
         "type": "scatter",
         "x": [
          -0.22439736127853394,
          -0.012688130140304565
         ],
         "y": [
          -0.10986402630805969,
          -0.25939157605171204
         ]
        },
        {
         "hoverinfo": "none",
         "line": {
          "color": "gray",
          "dash": "dot",
          "width": 1
         },
         "mode": "lines",
         "showlegend": false,
         "type": "scatter",
         "x": [
          -0.022235386073589325,
          0.1951688528060913
         ],
         "y": [
          -0.019009726122021675,
          -0.18956813216209412
         ]
        },
        {
         "hoverinfo": "none",
         "line": {
          "color": "gray",
          "dash": "dot",
          "width": 1
         },
         "mode": "lines",
         "showlegend": false,
         "type": "scatter",
         "x": [
          0.12235303968191147,
          0.2791512608528137
         ],
         "y": [
          -0.16379696130752563,
          -0.2781822979450226
         ]
        },
        {
         "hoverinfo": "none",
         "line": {
          "color": "gray",
          "dash": "dot",
          "width": 1
         },
         "mode": "lines",
         "showlegend": false,
         "type": "scatter",
         "x": [
          -0.00847683660686016,
          0.1727493703365326
         ],
         "y": [
          0.19350029528141022,
          0.013838067650794983
         ]
        },
        {
         "hoverinfo": "none",
         "line": {
          "color": "gray",
          "dash": "dot",
          "width": 1
         },
         "mode": "lines",
         "showlegend": false,
         "type": "scatter",
         "x": [
          0.07832176983356476,
          0.26046282052993774
         ],
         "y": [
          0.08438336849212646,
          -0.09359101951122284
         ]
        },
        {
         "hoverinfo": "none",
         "line": {
          "color": "gray",
          "dash": "dot",
          "width": 1
         },
         "mode": "lines",
         "showlegend": false,
         "type": "scatter",
         "x": [
          0.2361602485179901,
          0.36863645911216736
         ],
         "y": [
          0.06705088168382645,
          -0.08700031042098999
         ]
        },
        {
         "hoverinfo": "none",
         "line": {
          "color": "gray",
          "dash": "dot",
          "width": 1
         },
         "mode": "lines",
         "showlegend": false,
         "type": "scatter",
         "x": [
          0.44270071387290955,
          0.5436272621154785
         ],
         "y": [
          0.16878946125507355,
          -0.022507965564727783
         ]
        },
        {
         "hoverinfo": "none",
         "line": {
          "color": "gray",
          "dash": "dot",
          "width": 1
         },
         "mode": "lines",
         "showlegend": false,
         "type": "scatter",
         "x": [
          0.5393954515457153,
          0.5951039791107178
         ],
         "y": [
          0.07505161315202713,
          -0.07485543191432953
         ]
        },
        {
         "hoverinfo": "none",
         "line": {
          "color": "gray",
          "dash": "dot",
          "width": 1
         },
         "mode": "lines",
         "showlegend": false,
         "type": "scatter",
         "x": [
          -0.1593288630247116,
          0.04032386839389801
         ],
         "y": [
          0.19056791067123413,
          0.007072463631629944
         ]
        },
        {
         "hoverinfo": "none",
         "line": {
          "color": "gray",
          "dash": "dot",
          "width": 1
         },
         "mode": "lines",
         "showlegend": false,
         "type": "scatter",
         "x": [
          -0.039264190942049026,
          0.13411809504032135
         ],
         "y": [
          -0.22719082236289978,
          -0.3477839529514313
         ]
        },
        {
         "hoverinfo": "none",
         "line": {
          "color": "gray",
          "dash": "dot",
          "width": 1
         },
         "mode": "lines",
         "showlegend": false,
         "type": "scatter",
         "x": [
          0.0439121350646019,
          0.21893316507339478
         ],
         "y": [
          -0.10217973589897156,
          -0.2384280562400818
         ]
        },
        {
         "hoverinfo": "none",
         "line": {
          "color": "gray",
          "dash": "dot",
          "width": 1
         },
         "mode": "lines",
         "showlegend": false,
         "type": "scatter",
         "x": [
          -0.13095377385616302,
          0.132361501455307
         ],
         "y": [
          0.23742073774337769,
          -0.011311784386634827
         ]
        },
        {
         "hoverinfo": "none",
         "line": {
          "color": "gray",
          "dash": "dot",
          "width": 1
         },
         "mode": "lines",
         "showlegend": false,
         "type": "scatter",
         "x": [
          -0.14194224774837494,
          0.08319433778524399
         ],
         "y": [
          0.25066426396369934,
          0.036448974162340164
         ]
        },
        {
         "hoverinfo": "none",
         "line": {
          "color": "gray",
          "dash": "dot",
          "width": 1
         },
         "mode": "lines",
         "showlegend": false,
         "type": "scatter",
         "x": [
          0.21991953253746033,
          0.3740960359573364
         ],
         "y": [
          0.2542214095592499,
          0.056928977370262146
         ]
        },
        {
         "hoverinfo": "none",
         "line": {
          "color": "gray",
          "dash": "dot",
          "width": 1
         },
         "mode": "lines",
         "showlegend": false,
         "type": "scatter",
         "x": [
          -0.23016823828220367,
          -0.0254988893866539
         ],
         "y": [
          -0.16124290227890015,
          -0.296745628118515
         ]
        },
        {
         "hoverinfo": "none",
         "line": {
          "color": "gray",
          "dash": "dot",
          "width": 1
         },
         "mode": "lines",
         "showlegend": false,
         "type": "scatter",
         "x": [
          0.1061844751238823,
          0.2632739841938019
         ],
         "y": [
          -0.08266400545835495,
          -0.2133123278617859
         ]
        },
        {
         "hoverinfo": "none",
         "line": {
          "color": "gray",
          "dash": "dot",
          "width": 1
         },
         "mode": "lines",
         "showlegend": false,
         "type": "scatter",
         "x": [
          -0.30609002709388733,
          -0.11537519097328186
         ],
         "y": [
          -0.2334771305322647,
          -0.34938308596611023
         ]
        },
        {
         "hoverinfo": "none",
         "line": {
          "color": "gray",
          "dash": "dot",
          "width": 1
         },
         "mode": "lines",
         "showlegend": false,
         "type": "scatter",
         "x": [
          0.12221628427505493,
          0.3102099299430847
         ],
         "y": [
          0.25055745244026184,
          0.0392790324985981
         ]
        },
        {
         "hoverinfo": "none",
         "line": {
          "color": "gray",
          "dash": "dot",
          "width": 1
         },
         "mode": "lines",
         "showlegend": false,
         "type": "scatter",
         "x": [
          -0.3137856125831604,
          -0.0770328938961029
         ],
         "y": [
          -0.12949402630329132,
          -0.2947080433368683
         ]
        },
        {
         "hoverinfo": "none",
         "line": {
          "color": "gray",
          "dash": "dot",
          "width": 1
         },
         "mode": "lines",
         "showlegend": false,
         "type": "scatter",
         "x": [
          0.12193648517131805,
          0.29917454719543457
         ],
         "y": [
          0.03559745475649834,
          -0.13645410537719727
         ]
        },
        {
         "hoverinfo": "none",
         "line": {
          "color": "gray",
          "dash": "dot",
          "width": 1
         },
         "mode": "lines",
         "showlegend": false,
         "type": "scatter",
         "x": [
          -0.1654135286808014,
          0.06475379317998886
         ],
         "y": [
          0.0795290619134903,
          -0.11010774970054626
         ]
        },
        {
         "hoverinfo": "none",
         "line": {
          "color": "gray",
          "dash": "dot",
          "width": 1
         },
         "mode": "lines",
         "showlegend": false,
         "type": "scatter",
         "x": [
          0.20331549644470215,
          0.328007310628891
         ],
         "y": [
          -0.2894853949546814,
          -0.3663487434387207
         ]
        },
        {
         "hoverinfo": "none",
         "line": {
          "color": "gray",
          "dash": "dot",
          "width": 1
         },
         "mode": "lines",
         "showlegend": false,
         "type": "scatter",
         "x": [
          0.2380950003862381,
          0.3868289887905121
         ],
         "y": [
          0.12835998833179474,
          -0.057795897126197815
         ]
        },
        {
         "hoverinfo": "none",
         "line": {
          "color": "gray",
          "dash": "dot",
          "width": 1
         },
         "mode": "lines",
         "showlegend": false,
         "type": "scatter",
         "x": [
          -0.15740221738815308,
          0.05221781134605408
         ],
         "y": [
          0.1389574259519577,
          -0.0420805886387825
         ]
        },
        {
         "hoverinfo": "none",
         "line": {
          "color": "gray",
          "dash": "dot",
          "width": 1
         },
         "mode": "lines",
         "showlegend": false,
         "type": "scatter",
         "x": [
          -0.09912323951721191,
          0.09209056943655014
         ],
         "y": [
          -0.2066367268562317,
          -0.3301267623901367
         ]
        },
        {
         "hoverinfo": "none",
         "line": {
          "color": "gray",
          "dash": "dot",
          "width": 1
         },
         "mode": "lines",
         "showlegend": false,
         "type": "scatter",
         "x": [
          0.16969946026802063,
          0.31373363733291626
         ],
         "y": [
          -0.11848069727420807,
          -0.23802390694618225
         ]
        },
        {
         "hoverinfo": "none",
         "line": {
          "color": "gray",
          "dash": "dot",
          "width": 1
         },
         "mode": "lines",
         "showlegend": false,
         "type": "scatter",
         "x": [
          -0.06500039249658585,
          0.11730319261550903
         ],
         "y": [
          -0.22714951634407043,
          -0.338812917470932
         ]
        },
        {
         "hoverinfo": "none",
         "line": {
          "color": "gray",
          "dash": "dot",
          "width": 1
         },
         "mode": "lines",
         "showlegend": false,
         "type": "scatter",
         "x": [
          0.30400964617729187,
          0.40142419934272766
         ],
         "y": [
          -0.24489498138427734,
          -0.31963884830474854
         ]
        },
        {
         "hoverinfo": "none",
         "line": {
          "color": "gray",
          "dash": "dot",
          "width": 1
         },
         "mode": "lines",
         "showlegend": false,
         "type": "scatter",
         "x": [
          -0.20898790657520294,
          -0.004765644669532776
         ],
         "y": [
          -0.1886802613735199,
          -0.32714134454727173
         ]
        },
        {
         "hoverinfo": "none",
         "line": {
          "color": "gray",
          "dash": "dot",
          "width": 1
         },
         "mode": "lines",
         "showlegend": false,
         "type": "scatter",
         "x": [
          -0.21712489426136017,
          -0.008941076695919037
         ],
         "y": [
          0.16349045932292938,
          -0.01630125194787979
         ]
        },
        {
         "hoverinfo": "none",
         "line": {
          "color": "gray",
          "dash": "dot",
          "width": 1
         },
         "mode": "lines",
         "showlegend": false,
         "type": "scatter",
         "x": [
          0.04635561257600784,
          0.220828115940094
         ],
         "y": [
          -0.005686077289283276,
          -0.160912424325943
         ]
        },
        {
         "hoverinfo": "none",
         "line": {
          "color": "gray",
          "dash": "dot",
          "width": 1
         },
         "mode": "lines",
         "showlegend": false,
         "type": "scatter",
         "x": [
          0.3768119215965271,
          0.4898223578929901
         ],
         "y": [
          -0.1902567595243454,
          -0.30699917674064636
         ]
        },
        {
         "hoverinfo": "none",
         "line": {
          "color": "gray",
          "dash": "dot",
          "width": 1
         },
         "mode": "lines",
         "showlegend": false,
         "type": "scatter",
         "x": [
          0.028775349259376526,
          0.21125558018684387
         ],
         "y": [
          0.41744837164878845,
          0.2322268784046173
         ]
        },
        {
         "hoverinfo": "none",
         "line": {
          "color": "gray",
          "dash": "dot",
          "width": 1
         },
         "mode": "lines",
         "showlegend": false,
         "type": "scatter",
         "x": [
          -0.3291459381580353,
          -0.09820015728473663
         ],
         "y": [
          -0.06826363503932953,
          -0.23247796297073364
         ]
        },
        {
         "hoverinfo": "none",
         "line": {
          "color": "gray",
          "dash": "dot",
          "width": 1
         },
         "mode": "lines",
         "showlegend": false,
         "type": "scatter",
         "x": [
          -0.14912615716457367,
          0.030826784670352936
         ],
         "y": [
          -0.19843889772891998,
          -0.3088100850582123
         ]
        },
        {
         "hoverinfo": "none",
         "line": {
          "color": "gray",
          "dash": "dot",
          "width": 1
         },
         "mode": "lines",
         "showlegend": false,
         "type": "scatter",
         "x": [
          -0.3133983612060547,
          -0.029468677937984467
         ],
         "y": [
          0.1485932320356369,
          -0.0804610401391983
         ]
        },
        {
         "hoverinfo": "none",
         "line": {
          "color": "gray",
          "dash": "dot",
          "width": 1
         },
         "mode": "lines",
         "showlegend": false,
         "type": "scatter",
         "x": [
          -0.29520654678344727,
          -0.05287677049636841
         ],
         "y": [
          0.4102012813091278,
          0.17826303839683533
         ]
        },
        {
         "hoverinfo": "none",
         "line": {
          "color": "gray",
          "dash": "dot",
          "width": 1
         },
         "mode": "lines",
         "showlegend": false,
         "type": "scatter",
         "x": [
          -0.016324451193213463,
          0.15002429485321045
         ],
         "y": [
          0.39791634678840637,
          0.22085393965244293
         ]
        },
        {
         "hoverinfo": "none",
         "line": {
          "color": "gray",
          "dash": "dot",
          "width": 1
         },
         "mode": "lines",
         "showlegend": false,
         "type": "scatter",
         "x": [
          -0.20951345562934875,
          0.016494687646627426
         ],
         "y": [
          0.06762560456991196,
          -0.11418648064136505
         ]
        },
        {
         "hoverinfo": "none",
         "line": {
          "color": "gray",
          "dash": "dot",
          "width": 1
         },
         "mode": "lines",
         "showlegend": false,
         "type": "scatter",
         "x": [
          -0.07309835404157639,
          0.09336525946855545
         ],
         "y": [
          0.036007028073072433,
          -0.10718104243278503
         ]
        },
        {
         "hoverinfo": "none",
         "line": {
          "color": "gray",
          "dash": "dot",
          "width": 1
         },
         "mode": "lines",
         "showlegend": false,
         "type": "scatter",
         "x": [
          0.057670630514621735,
          0.23840856552124023
         ],
         "y": [
          -0.2992919683456421,
          -0.39577120542526245
         ]
        },
        {
         "hoverinfo": "none",
         "line": {
          "color": "gray",
          "dash": "dot",
          "width": 1
         },
         "mode": "lines",
         "showlegend": false,
         "type": "scatter",
         "x": [
          -0.16293777525424957,
          0.026423826813697815
         ],
         "y": [
          0.20355108380317688,
          0.03047037124633789
         ]
        },
        {
         "hoverinfo": "none",
         "line": {
          "color": "gray",
          "dash": "dot",
          "width": 1
         },
         "mode": "lines",
         "showlegend": false,
         "type": "scatter",
         "x": [
          -0.16011816263198853,
          0.06129385530948639
         ],
         "y": [
          0.09317494928836823,
          -0.09697498381137848
         ]
        },
        {
         "hoverinfo": "none",
         "line": {
          "color": "gray",
          "dash": "dot",
          "width": 1
         },
         "mode": "lines",
         "showlegend": false,
         "type": "scatter",
         "x": [
          0.1414017230272293,
          0.3145201802253723
         ],
         "y": [
          -0.1675918996334076,
          -0.3031942844390869
         ]
        },
        {
         "hoverinfo": "none",
         "line": {
          "color": "gray",
          "dash": "dot",
          "width": 1
         },
         "mode": "lines",
         "showlegend": false,
         "type": "scatter",
         "x": [
          -0.0051774270832538605,
          0.16253648698329926
         ],
         "y": [
          0.20136603713035583,
          0.03606274351477623
         ]
        },
        {
         "hoverinfo": "none",
         "line": {
          "color": "gray",
          "dash": "dot",
          "width": 1
         },
         "mode": "lines",
         "showlegend": false,
         "type": "scatter",
         "x": [
          -0.32892724871635437,
          -0.09279032051563263
         ],
         "y": [
          0.24936766922473907,
          0.042518556118011475
         ]
        },
        {
         "hoverinfo": "none",
         "line": {
          "color": "gray",
          "dash": "dot",
          "width": 1
         },
         "mode": "lines",
         "showlegend": false,
         "type": "scatter",
         "x": [
          -0.17453834414482117,
          0.06886529177427292
         ],
         "y": [
          0.045660797506570816,
          -0.1603555828332901
         ]
        }
       ],
       "layout": {
        "height": 700,
        "legend": {
         "title": {
          "text": "Cluster, Type"
         },
         "tracegroupgap": 0
        },
        "margin": {
         "t": 60
        },
        "template": {
         "data": {
          "bar": [
           {
            "error_x": {
             "color": "#2a3f5f"
            },
            "error_y": {
             "color": "#2a3f5f"
            },
            "marker": {
             "line": {
              "color": "#E5ECF6",
              "width": 0.5
             },
             "pattern": {
              "fillmode": "overlay",
              "size": 10,
              "solidity": 0.2
             }
            },
            "type": "bar"
           }
          ],
          "barpolar": [
           {
            "marker": {
             "line": {
              "color": "#E5ECF6",
              "width": 0.5
             },
             "pattern": {
              "fillmode": "overlay",
              "size": 10,
              "solidity": 0.2
             }
            },
            "type": "barpolar"
           }
          ],
          "carpet": [
           {
            "aaxis": {
             "endlinecolor": "#2a3f5f",
             "gridcolor": "white",
             "linecolor": "white",
             "minorgridcolor": "white",
             "startlinecolor": "#2a3f5f"
            },
            "baxis": {
             "endlinecolor": "#2a3f5f",
             "gridcolor": "white",
             "linecolor": "white",
             "minorgridcolor": "white",
             "startlinecolor": "#2a3f5f"
            },
            "type": "carpet"
           }
          ],
          "choropleth": [
           {
            "colorbar": {
             "outlinewidth": 0,
             "ticks": ""
            },
            "type": "choropleth"
           }
          ],
          "contour": [
           {
            "colorbar": {
             "outlinewidth": 0,
             "ticks": ""
            },
            "colorscale": [
             [
              0,
              "#0d0887"
             ],
             [
              0.1111111111111111,
              "#46039f"
             ],
             [
              0.2222222222222222,
              "#7201a8"
             ],
             [
              0.3333333333333333,
              "#9c179e"
             ],
             [
              0.4444444444444444,
              "#bd3786"
             ],
             [
              0.5555555555555556,
              "#d8576b"
             ],
             [
              0.6666666666666666,
              "#ed7953"
             ],
             [
              0.7777777777777778,
              "#fb9f3a"
             ],
             [
              0.8888888888888888,
              "#fdca26"
             ],
             [
              1,
              "#f0f921"
             ]
            ],
            "type": "contour"
           }
          ],
          "contourcarpet": [
           {
            "colorbar": {
             "outlinewidth": 0,
             "ticks": ""
            },
            "type": "contourcarpet"
           }
          ],
          "heatmap": [
           {
            "colorbar": {
             "outlinewidth": 0,
             "ticks": ""
            },
            "colorscale": [
             [
              0,
              "#0d0887"
             ],
             [
              0.1111111111111111,
              "#46039f"
             ],
             [
              0.2222222222222222,
              "#7201a8"
             ],
             [
              0.3333333333333333,
              "#9c179e"
             ],
             [
              0.4444444444444444,
              "#bd3786"
             ],
             [
              0.5555555555555556,
              "#d8576b"
             ],
             [
              0.6666666666666666,
              "#ed7953"
             ],
             [
              0.7777777777777778,
              "#fb9f3a"
             ],
             [
              0.8888888888888888,
              "#fdca26"
             ],
             [
              1,
              "#f0f921"
             ]
            ],
            "type": "heatmap"
           }
          ],
          "histogram": [
           {
            "marker": {
             "pattern": {
              "fillmode": "overlay",
              "size": 10,
              "solidity": 0.2
             }
            },
            "type": "histogram"
           }
          ],
          "histogram2d": [
           {
            "colorbar": {
             "outlinewidth": 0,
             "ticks": ""
            },
            "colorscale": [
             [
              0,
              "#0d0887"
             ],
             [
              0.1111111111111111,
              "#46039f"
             ],
             [
              0.2222222222222222,
              "#7201a8"
             ],
             [
              0.3333333333333333,
              "#9c179e"
             ],
             [
              0.4444444444444444,
              "#bd3786"
             ],
             [
              0.5555555555555556,
              "#d8576b"
             ],
             [
              0.6666666666666666,
              "#ed7953"
             ],
             [
              0.7777777777777778,
              "#fb9f3a"
             ],
             [
              0.8888888888888888,
              "#fdca26"
             ],
             [
              1,
              "#f0f921"
             ]
            ],
            "type": "histogram2d"
           }
          ],
          "histogram2dcontour": [
           {
            "colorbar": {
             "outlinewidth": 0,
             "ticks": ""
            },
            "colorscale": [
             [
              0,
              "#0d0887"
             ],
             [
              0.1111111111111111,
              "#46039f"
             ],
             [
              0.2222222222222222,
              "#7201a8"
             ],
             [
              0.3333333333333333,
              "#9c179e"
             ],
             [
              0.4444444444444444,
              "#bd3786"
             ],
             [
              0.5555555555555556,
              "#d8576b"
             ],
             [
              0.6666666666666666,
              "#ed7953"
             ],
             [
              0.7777777777777778,
              "#fb9f3a"
             ],
             [
              0.8888888888888888,
              "#fdca26"
             ],
             [
              1,
              "#f0f921"
             ]
            ],
            "type": "histogram2dcontour"
           }
          ],
          "mesh3d": [
           {
            "colorbar": {
             "outlinewidth": 0,
             "ticks": ""
            },
            "type": "mesh3d"
           }
          ],
          "parcoords": [
           {
            "line": {
             "colorbar": {
              "outlinewidth": 0,
              "ticks": ""
             }
            },
            "type": "parcoords"
           }
          ],
          "pie": [
           {
            "automargin": true,
            "type": "pie"
           }
          ],
          "scatter": [
           {
            "fillpattern": {
             "fillmode": "overlay",
             "size": 10,
             "solidity": 0.2
            },
            "type": "scatter"
           }
          ],
          "scatter3d": [
           {
            "line": {
             "colorbar": {
              "outlinewidth": 0,
              "ticks": ""
             }
            },
            "marker": {
             "colorbar": {
              "outlinewidth": 0,
              "ticks": ""
             }
            },
            "type": "scatter3d"
           }
          ],
          "scattercarpet": [
           {
            "marker": {
             "colorbar": {
              "outlinewidth": 0,
              "ticks": ""
             }
            },
            "type": "scattercarpet"
           }
          ],
          "scattergeo": [
           {
            "marker": {
             "colorbar": {
              "outlinewidth": 0,
              "ticks": ""
             }
            },
            "type": "scattergeo"
           }
          ],
          "scattergl": [
           {
            "marker": {
             "colorbar": {
              "outlinewidth": 0,
              "ticks": ""
             }
            },
            "type": "scattergl"
           }
          ],
          "scattermap": [
           {
            "marker": {
             "colorbar": {
              "outlinewidth": 0,
              "ticks": ""
             }
            },
            "type": "scattermap"
           }
          ],
          "scattermapbox": [
           {
            "marker": {
             "colorbar": {
              "outlinewidth": 0,
              "ticks": ""
             }
            },
            "type": "scattermapbox"
           }
          ],
          "scatterpolar": [
           {
            "marker": {
             "colorbar": {
              "outlinewidth": 0,
              "ticks": ""
             }
            },
            "type": "scatterpolar"
           }
          ],
          "scatterpolargl": [
           {
            "marker": {
             "colorbar": {
              "outlinewidth": 0,
              "ticks": ""
             }
            },
            "type": "scatterpolargl"
           }
          ],
          "scatterternary": [
           {
            "marker": {
             "colorbar": {
              "outlinewidth": 0,
              "ticks": ""
             }
            },
            "type": "scatterternary"
           }
          ],
          "surface": [
           {
            "colorbar": {
             "outlinewidth": 0,
             "ticks": ""
            },
            "colorscale": [
             [
              0,
              "#0d0887"
             ],
             [
              0.1111111111111111,
              "#46039f"
             ],
             [
              0.2222222222222222,
              "#7201a8"
             ],
             [
              0.3333333333333333,
              "#9c179e"
             ],
             [
              0.4444444444444444,
              "#bd3786"
             ],
             [
              0.5555555555555556,
              "#d8576b"
             ],
             [
              0.6666666666666666,
              "#ed7953"
             ],
             [
              0.7777777777777778,
              "#fb9f3a"
             ],
             [
              0.8888888888888888,
              "#fdca26"
             ],
             [
              1,
              "#f0f921"
             ]
            ],
            "type": "surface"
           }
          ],
          "table": [
           {
            "cells": {
             "fill": {
              "color": "#EBF0F8"
             },
             "line": {
              "color": "white"
             }
            },
            "header": {
             "fill": {
              "color": "#C8D4E3"
             },
             "line": {
              "color": "white"
             }
            },
            "type": "table"
           }
          ]
         },
         "layout": {
          "annotationdefaults": {
           "arrowcolor": "#2a3f5f",
           "arrowhead": 0,
           "arrowwidth": 1
          },
          "autotypenumbers": "strict",
          "coloraxis": {
           "colorbar": {
            "outlinewidth": 0,
            "ticks": ""
           }
          },
          "colorscale": {
           "diverging": [
            [
             0,
             "#8e0152"
            ],
            [
             0.1,
             "#c51b7d"
            ],
            [
             0.2,
             "#de77ae"
            ],
            [
             0.3,
             "#f1b6da"
            ],
            [
             0.4,
             "#fde0ef"
            ],
            [
             0.5,
             "#f7f7f7"
            ],
            [
             0.6,
             "#e6f5d0"
            ],
            [
             0.7,
             "#b8e186"
            ],
            [
             0.8,
             "#7fbc41"
            ],
            [
             0.9,
             "#4d9221"
            ],
            [
             1,
             "#276419"
            ]
           ],
           "sequential": [
            [
             0,
             "#0d0887"
            ],
            [
             0.1111111111111111,
             "#46039f"
            ],
            [
             0.2222222222222222,
             "#7201a8"
            ],
            [
             0.3333333333333333,
             "#9c179e"
            ],
            [
             0.4444444444444444,
             "#bd3786"
            ],
            [
             0.5555555555555556,
             "#d8576b"
            ],
            [
             0.6666666666666666,
             "#ed7953"
            ],
            [
             0.7777777777777778,
             "#fb9f3a"
            ],
            [
             0.8888888888888888,
             "#fdca26"
            ],
            [
             1,
             "#f0f921"
            ]
           ],
           "sequentialminus": [
            [
             0,
             "#0d0887"
            ],
            [
             0.1111111111111111,
             "#46039f"
            ],
            [
             0.2222222222222222,
             "#7201a8"
            ],
            [
             0.3333333333333333,
             "#9c179e"
            ],
            [
             0.4444444444444444,
             "#bd3786"
            ],
            [
             0.5555555555555556,
             "#d8576b"
            ],
            [
             0.6666666666666666,
             "#ed7953"
            ],
            [
             0.7777777777777778,
             "#fb9f3a"
            ],
            [
             0.8888888888888888,
             "#fdca26"
            ],
            [
             1,
             "#f0f921"
            ]
           ]
          },
          "colorway": [
           "#636efa",
           "#EF553B",
           "#00cc96",
           "#ab63fa",
           "#FFA15A",
           "#19d3f3",
           "#FF6692",
           "#B6E880",
           "#FF97FF",
           "#FECB52"
          ],
          "font": {
           "color": "#2a3f5f"
          },
          "geo": {
           "bgcolor": "white",
           "lakecolor": "white",
           "landcolor": "#E5ECF6",
           "showlakes": true,
           "showland": true,
           "subunitcolor": "white"
          },
          "hoverlabel": {
           "align": "left"
          },
          "hovermode": "closest",
          "mapbox": {
           "style": "light"
          },
          "paper_bgcolor": "white",
          "plot_bgcolor": "#E5ECF6",
          "polar": {
           "angularaxis": {
            "gridcolor": "white",
            "linecolor": "white",
            "ticks": ""
           },
           "bgcolor": "#E5ECF6",
           "radialaxis": {
            "gridcolor": "white",
            "linecolor": "white",
            "ticks": ""
           }
          },
          "scene": {
           "xaxis": {
            "backgroundcolor": "#E5ECF6",
            "gridcolor": "white",
            "gridwidth": 2,
            "linecolor": "white",
            "showbackground": true,
            "ticks": "",
            "zerolinecolor": "white"
           },
           "yaxis": {
            "backgroundcolor": "#E5ECF6",
            "gridcolor": "white",
            "gridwidth": 2,
            "linecolor": "white",
            "showbackground": true,
            "ticks": "",
            "zerolinecolor": "white"
           },
           "zaxis": {
            "backgroundcolor": "#E5ECF6",
            "gridcolor": "white",
            "gridwidth": 2,
            "linecolor": "white",
            "showbackground": true,
            "ticks": "",
            "zerolinecolor": "white"
           }
          },
          "shapedefaults": {
           "line": {
            "color": "#2a3f5f"
           }
          },
          "ternary": {
           "aaxis": {
            "gridcolor": "white",
            "linecolor": "white",
            "ticks": ""
           },
           "baxis": {
            "gridcolor": "white",
            "linecolor": "white",
            "ticks": ""
           },
           "bgcolor": "#E5ECF6",
           "caxis": {
            "gridcolor": "white",
            "linecolor": "white",
            "ticks": ""
           }
          },
          "title": {
           "x": 0.05
          },
          "xaxis": {
           "automargin": true,
           "gridcolor": "white",
           "linecolor": "white",
           "ticks": "",
           "title": {
            "standoff": 15
           },
           "zerolinecolor": "white",
           "zerolinewidth": 2
          },
          "yaxis": {
           "automargin": true,
           "gridcolor": "white",
           "linecolor": "white",
           "ticks": "",
           "title": {
            "standoff": 15
           },
           "zerolinecolor": "white",
           "zerolinewidth": 2
          }
         }
        },
        "title": {
         "text": "PCA Projection: Original vs. Steered Embeddings | Layer: 11 | Feature: War | Steering: 2"
        },
        "width": 900,
        "xaxis": {
         "anchor": "y",
         "domain": [
          0,
          1
         ],
         "title": {
          "text": "PCA 1"
         }
        },
        "yaxis": {
         "anchor": "x",
         "domain": [
          0,
          1
         ],
         "title": {
          "text": "PCA 2"
         }
        }
       }
      }
     },
     "metadata": {},
     "output_type": "display_data"
    }
   ],
   "source": [
    "plot_pca_labeled_projection(\n",
    "    original_embeddings,\n",
    "    steered_embeddings,\n",
    "    all_texts_data,\n",
    "    info_string,\n",
    "    steering_vector=steering_vector,\n",
    "    text_range=(0,100),\n",
    "    Write=False\n",
    ")"
   ]
  },
  {
   "cell_type": "markdown",
   "metadata": {
    "id": "pvsIK8GrrPul"
   },
   "source": [
    "***\n",
    "\n",
    "## t-SNE"
   ]
  },
  {
   "cell_type": "markdown",
   "metadata": {
    "id": "vuMRcRgLrPul"
   },
   "source": [
    "**t-SNE (t-distributed Stochastic Neighbor Embedding):** A nonlinear dimensionality reduction technique that focuses on preserving the local structure and similarities between the data points."
   ]
  },
  {
   "cell_type": "markdown",
   "metadata": {
    "id": "sab6kkAPrPul"
   },
   "source": [
    "`plot_tsne_fixed_kmeans` plots the original and steered embeddings using t-SNE and K-Means with any number of clusters (*n_clusters*) and texts (*text_range*) wanted."
   ]
  },
  {
   "cell_type": "code",
   "execution_count": 10,
   "metadata": {
    "id": "P17jhu79rPul",
    "outputId": "2f0ac8a5-4e94-40f0-839e-79c0b63912cc"
   },
   "outputs": [
    {
     "name": "stdout",
     "output_type": "stream",
     "text": [
      "Did kmeans clustering with 5 clusters\n"
     ]
    },
    {
     "data": {
      "application/vnd.plotly.v1+json": {
       "config": {
        "plotlyServerURL": "https://plot.ly"
       },
       "data": [
        {
         "customdata": [
          [
           "4",
           "Original"
          ],
          [
           "4",
           "Original"
          ],
          [
           "4",
           "Original"
          ],
          [
           "4",
           "Original"
          ],
          [
           "4",
           "Original"
          ],
          [
           "4",
           "Original"
          ],
          [
           "4",
           "Original"
          ],
          [
           "4",
           "Original"
          ],
          [
           "4",
           "Original"
          ],
          [
           "4",
           "Original"
          ],
          [
           "4",
           "Original"
          ],
          [
           "4",
           "Original"
          ],
          [
           "4",
           "Original"
          ],
          [
           "4",
           "Original"
          ],
          [
           "4",
           "Original"
          ],
          [
           "4",
           "Original"
          ],
          [
           "4",
           "Original"
          ],
          [
           "4",
           "Original"
          ],
          [
           "4",
           "Original"
          ],
          [
           "4",
           "Original"
          ],
          [
           "4",
           "Original"
          ],
          [
           "4",
           "Original"
          ],
          [
           "4",
           "Original"
          ],
          [
           "4",
           "Original"
          ],
          [
           "4",
           "Original"
          ],
          [
           "4",
           "Original"
          ],
          [
           "4",
           "Original"
          ],
          [
           "4",
           "Original"
          ],
          [
           "4",
           "Original"
          ],
          [
           "4",
           "Original"
          ]
         ],
         "hovertemplate": "<b>%{hovertext}</b><br><br>Cluster=%{customdata[0]}<br>Type=%{customdata[1]}<br>t-SNE 1=%{x:.3f}<br>t-SNE 2=%{y:.3f}<extra></extra>",
         "hovertext": [
          "Original | The Shawshank Redemption | Drama",
          "Original | The Godfather | Crime",
          "Original | The Godfather: Part II | Drama",
          "Original | Pulp Fiction | Crime",
          "Original | Forrest Gump | Romance",
          "Original | Goodfellas | Biography",
          "Original | Hamilton | Biography",
          "Original | Gisaengchung | Drama",
          "Original | Saving Private Ryan | War",
          "Original | The Silence of the Lambs | Crime",
          "Original | Shichinin no samurai | Adventure",
          "Original | The Intouchables | Biography",
          "Original | Gladiator | Drama",
          "Original | American History X | Drama",
          "Original | Léon | Crime",
          "Original | The Lion King | Drama",
          "Original | Hotaru no haka | War",
          "Original | Psycho | Thriller",
          "Original | Modern Times | Drama",
          "Original | Dangal | Biography",
          "Original | Coco | Family",
          "Original | Django Unchained | Western",
          "Original | The Dark Knight Rises | Adventure",
          "Original | Oldeuboi | Mystery",
          "Original | Once Upon a Time in America | Crime",
          "Original | Raiders of the Lost Ark | Adventure",
          "Original | Apocalypse Now | War",
          "Original | Tengoku to jigoku | Crime",
          "Original | The Great Dictator | War",
          "Original | Drishyam | Crime"
         ],
         "legendgroup": "4, Original",
         "marker": {
          "color": "rgb(228,26,28)",
          "symbol": "circle"
         },
         "mode": "markers",
         "name": "4, Original",
         "opacity": 0.3,
         "orientation": "v",
         "showlegend": true,
         "type": "scatter",
         "x": {
          "bdata": "pEctwQL//EANiipBo3asQEXPqUDChPNAFB9+QfmMZcHEkbHAdSYIQANrqb8cwfbANj7YQOh0BkG1nJ/A2vY0wbxLj8GaaT5BEoIwwRiZlkEZkpxAkWvsQI/ni0GUYxLByCYOQUYiN0Fr2l1AXcMsQb/teUF/U++/",
          "dtype": "f4"
         },
         "xaxis": "x",
         "y": {
          "bdata": "wdonQOwgbz0lziHAHoX8vzZ9c8FWEGLAaRcjQUBtWsEWCChByfSZvxg/PUEIlOHAZiE1QO6h3sDW/6O+9hKyvxCQj79cZ/RAva82wfYHHkACmJ3B+tO5QCg3McDQ3P1ARg5MwXe7WEHDiMNAxFeZPxTw2sBmYtTA",
          "dtype": "f4"
         },
         "yaxis": "y"
        },
        {
         "customdata": [
          [
           "4",
           "Steered"
          ],
          [
           "4",
           "Steered"
          ],
          [
           "4",
           "Steered"
          ],
          [
           "4",
           "Steered"
          ],
          [
           "4",
           "Steered"
          ],
          [
           "4",
           "Steered"
          ],
          [
           "4",
           "Steered"
          ],
          [
           "4",
           "Steered"
          ],
          [
           "4",
           "Steered"
          ],
          [
           "4",
           "Steered"
          ],
          [
           "4",
           "Steered"
          ],
          [
           "4",
           "Steered"
          ],
          [
           "4",
           "Steered"
          ],
          [
           "4",
           "Steered"
          ],
          [
           "4",
           "Steered"
          ],
          [
           "4",
           "Steered"
          ],
          [
           "4",
           "Steered"
          ],
          [
           "4",
           "Steered"
          ],
          [
           "4",
           "Steered"
          ],
          [
           "4",
           "Steered"
          ],
          [
           "4",
           "Steered"
          ],
          [
           "4",
           "Steered"
          ],
          [
           "4",
           "Steered"
          ],
          [
           "4",
           "Steered"
          ],
          [
           "4",
           "Steered"
          ],
          [
           "4",
           "Steered"
          ],
          [
           "4",
           "Steered"
          ],
          [
           "4",
           "Steered"
          ],
          [
           "4",
           "Steered"
          ],
          [
           "4",
           "Steered"
          ]
         ],
         "hovertemplate": "<b>%{hovertext}</b><br><br>Cluster=%{customdata[0]}<br>Type=%{customdata[1]}<br>t-SNE 1=%{x:.3f}<br>t-SNE 2=%{y:.3f}<extra></extra>",
         "hovertext": [
          "Steered | The Shawshank Redemption | Drama",
          "Steered | The Godfather | Crime",
          "Steered | The Godfather: Part II | Drama",
          "Steered | Pulp Fiction | Crime",
          "Steered | Forrest Gump | Romance",
          "Steered | Goodfellas | Biography",
          "Steered | Hamilton | Biography",
          "Steered | Gisaengchung | Drama",
          "Steered | Saving Private Ryan | War",
          "Steered | The Silence of the Lambs | Crime",
          "Steered | Shichinin no samurai | Adventure",
          "Steered | The Intouchables | Biography",
          "Steered | Gladiator | Drama",
          "Steered | American History X | Drama",
          "Steered | Léon | Crime",
          "Steered | The Lion King | Drama",
          "Steered | Hotaru no haka | War",
          "Steered | Psycho | Thriller",
          "Steered | Modern Times | Drama",
          "Steered | Dangal | Biography",
          "Steered | Coco | Family",
          "Steered | Django Unchained | Western",
          "Steered | The Dark Knight Rises | Adventure",
          "Steered | Oldeuboi | Mystery",
          "Steered | Once Upon a Time in America | Crime",
          "Steered | Raiders of the Lost Ark | Adventure",
          "Steered | Apocalypse Now | War",
          "Steered | Tengoku to jigoku | Crime",
          "Steered | The Great Dictator | War",
          "Steered | Drishyam | Crime"
         ],
         "legendgroup": "4, Steered",
         "marker": {
          "color": "rgb(228,26,28)",
          "symbol": "diamond"
         },
         "mode": "markers",
         "name": "4, Steered",
         "opacity": 1,
         "orientation": "v",
         "showlegend": true,
         "type": "scatter",
         "x": {
          "bdata": "O/Apwdqv90AYlihBHQClQGIlqEDtRu5ABfd7QT0UZMGt5arAInX/P3pqpb+0dvLACFLRQEHRBEExgJjAMtoxwY0AjsEeVjtBxzQvwfD6lEHjH51AAIfmQJrNiEF77w7B6YgMQZtjNEGuyVFAGnApQYxndkErquq/",
          "dtype": "f4"
         },
         "xaxis": "x",
         "y": {
          "bdata": "qbcpQAhdOz5AcxvA0dvtv4GIcMEzK1rAQbciQRXcWMFEFyZB/WmAv2v9OkGIDdzAj5o3QPeH2MCvEhO+SEuov7obhL9CcPJApwY1wZfxHUA1n5zBEw63QG94J8Ab6/xAshxJwe39VkHYx8NAkWOfP+3N1cCYmc3A",
          "dtype": "f4"
         },
         "yaxis": "y"
        },
        {
         "customdata": [
          [
           "1",
           "Original"
          ],
          [
           "1",
           "Original"
          ],
          [
           "1",
           "Original"
          ],
          [
           "1",
           "Original"
          ],
          [
           "1",
           "Original"
          ],
          [
           "1",
           "Original"
          ],
          [
           "1",
           "Original"
          ],
          [
           "1",
           "Original"
          ],
          [
           "1",
           "Original"
          ],
          [
           "1",
           "Original"
          ],
          [
           "1",
           "Original"
          ],
          [
           "1",
           "Original"
          ],
          [
           "1",
           "Original"
          ],
          [
           "1",
           "Original"
          ],
          [
           "1",
           "Original"
          ],
          [
           "1",
           "Original"
          ],
          [
           "1",
           "Original"
          ],
          [
           "1",
           "Original"
          ],
          [
           "1",
           "Original"
          ],
          [
           "1",
           "Original"
          ],
          [
           "1",
           "Original"
          ],
          [
           "1",
           "Original"
          ],
          [
           "1",
           "Original"
          ],
          [
           "1",
           "Original"
          ]
         ],
         "hovertemplate": "<b>%{hovertext}</b><br><br>Cluster=%{customdata[0]}<br>Type=%{customdata[1]}<br>t-SNE 1=%{x:.3f}<br>t-SNE 2=%{y:.3f}<extra></extra>",
         "hovertext": [
          "Original | The Dark Knight | Crime",
          "Original | One Flew Over the Cuckoo's Nest | Drama",
          "Original | Cidade de Deus | Crime",
          "Original | Sen to Chihiro no kamikakushi | Adventure",
          "Original | La vita è bella | Comedy",
          "Original | Seppuku | Mystery",
          "Original | Joker | Crime",
          "Original | Terminator 2: Judgment Day | Sci-Fi",
          "Original | Nuovo Cinema Paradiso | Romance",
          "Original | Casablanca | Romance",
          "Original | Capharnaüm | Drama",
          "Original | Ayla: The Daughter of War | Biography",
          "Original | 3 Idiots | Comedy",
          "Original | The Shining | Horror",
          "Original | Dr. Strangelove or: How I Learned to Stop Worrying and Love the Bomb | Comedy",
          "Original | Sunset Blvd. | Film-Noir",
          "Original | Jagten | Drama",
          "Original | Jodaeiye Nader az Simin | Drama",
          "Original | Incendies | Mystery",
          "Original | Miracle in cell NO.7 | Drama",
          "Original | Babam ve Oglum | Family",
          "Original | Eternal Sunshine of the Spotless Mind | Romance",
          "Original | Requiem for a Dream | Drama",
          "Original | American Beauty | Drama"
         ],
         "legendgroup": "1, Original",
         "marker": {
          "color": "rgb(55,126,184)",
          "symbol": "circle"
         },
         "mode": "markers",
         "name": "1, Original",
         "opacity": 0.3,
         "orientation": "v",
         "showlegend": true,
         "type": "scatter",
         "x": {
          "bdata": "CxmAQSwifb7Qf2PB5EJQwWBEIUEVfgTBYOVkQantkMFhN1/AuYnNQGhRQcGFqrPA/uQpwTR1iT8r551A2zaowPCnlcCs7mjBWxttwSySVMCoXyhBjOIPweO6gcFDpGvB",
          "dtype": "f4"
         },
         "xaxis": "x",
         "y": {
          "bdata": "vI5Qv1eScsDv0J8/PZ3DQLp2GMESgB4+HAgdwC5uekD+2oLB39UfwTNhkcGx0CBA/piZwEBZ18Bs8w9BMo5mwTuFCMHtO8PACqQtwIChM8Cur4bB9D1wwdI3EUEiyRrB",
          "dtype": "f4"
         },
         "yaxis": "y"
        },
        {
         "customdata": [
          [
           "1",
           "Steered"
          ],
          [
           "1",
           "Steered"
          ],
          [
           "1",
           "Steered"
          ],
          [
           "1",
           "Steered"
          ],
          [
           "1",
           "Steered"
          ],
          [
           "1",
           "Steered"
          ],
          [
           "1",
           "Steered"
          ],
          [
           "1",
           "Steered"
          ],
          [
           "1",
           "Steered"
          ],
          [
           "1",
           "Steered"
          ],
          [
           "1",
           "Steered"
          ],
          [
           "1",
           "Steered"
          ],
          [
           "1",
           "Steered"
          ],
          [
           "1",
           "Steered"
          ],
          [
           "1",
           "Steered"
          ],
          [
           "1",
           "Steered"
          ],
          [
           "1",
           "Steered"
          ],
          [
           "1",
           "Steered"
          ],
          [
           "1",
           "Steered"
          ],
          [
           "1",
           "Steered"
          ],
          [
           "1",
           "Steered"
          ],
          [
           "1",
           "Steered"
          ],
          [
           "1",
           "Steered"
          ],
          [
           "1",
           "Steered"
          ]
         ],
         "hovertemplate": "<b>%{hovertext}</b><br><br>Cluster=%{customdata[0]}<br>Type=%{customdata[1]}<br>t-SNE 1=%{x:.3f}<br>t-SNE 2=%{y:.3f}<extra></extra>",
         "hovertext": [
          "Steered | The Dark Knight | Crime",
          "Steered | One Flew Over the Cuckoo's Nest | Drama",
          "Steered | Cidade de Deus | Crime",
          "Steered | Sen to Chihiro no kamikakushi | Adventure",
          "Steered | La vita è bella | Comedy",
          "Steered | Seppuku | Mystery",
          "Steered | Joker | Crime",
          "Steered | Terminator 2: Judgment Day | Sci-Fi",
          "Steered | Nuovo Cinema Paradiso | Romance",
          "Steered | Casablanca | Romance",
          "Steered | Capharnaüm | Drama",
          "Steered | Ayla: The Daughter of War | Biography",
          "Steered | 3 Idiots | Comedy",
          "Steered | The Shining | Horror",
          "Steered | Dr. Strangelove or: How I Learned to Stop Worrying and Love the Bomb | Comedy",
          "Steered | Sunset Blvd. | Film-Noir",
          "Steered | Jagten | Drama",
          "Steered | Jodaeiye Nader az Simin | Drama",
          "Steered | Incendies | Mystery",
          "Steered | Miracle in cell NO.7 | Drama",
          "Steered | Babam ve Oglum | Family",
          "Steered | Eternal Sunshine of the Spotless Mind | Romance",
          "Steered | Requiem for a Dream | Drama",
          "Steered | American Beauty | Drama"
         ],
         "legendgroup": "1, Steered",
         "marker": {
          "color": "rgb(55,126,184)",
          "symbol": "diamond"
         },
         "mode": "markers",
         "name": "1, Steered",
         "opacity": 1,
         "orientation": "v",
         "showlegend": true,
         "type": "scatter",
         "x": {
          "bdata": "bm94QZtrHL5N22DBvfBMwdnqHkG5QwHBxgBlQV1Fj8Hvj2HAlaHMQCBeP8HYWqzAkkYmwRP1ij+HTpZAU42nwEutkMBeiWbB5mVrwXsMTsDxkSdBCvAOwdGRgMGjl2nB",
          "dtype": "f4"
         },
         "xaxis": "x",
         "y": {
          "bdata": "VftRv6q8Z8CWMqg/x07FQL/eE8HbMIU+b4P1vyrXekDKBoHBn9sbweJ7kMFtCCZA2i+UwN1K0MBIUg1BuYhiwXQHBMFkw7/AgD8kwG1kKMAPtoXBStFuwfmZEUELIhnB",
          "dtype": "f4"
         },
         "yaxis": "y"
        },
        {
         "customdata": [
          [
           "3",
           "Original"
          ],
          [
           "3",
           "Original"
          ],
          [
           "3",
           "Original"
          ],
          [
           "3",
           "Original"
          ],
          [
           "3",
           "Original"
          ],
          [
           "3",
           "Original"
          ],
          [
           "3",
           "Original"
          ],
          [
           "3",
           "Original"
          ],
          [
           "3",
           "Original"
          ],
          [
           "3",
           "Original"
          ],
          [
           "3",
           "Original"
          ],
          [
           "3",
           "Original"
          ],
          [
           "3",
           "Original"
          ],
          [
           "3",
           "Original"
          ],
          [
           "3",
           "Original"
          ],
          [
           "3",
           "Original"
          ],
          [
           "3",
           "Original"
          ],
          [
           "3",
           "Original"
          ],
          [
           "3",
           "Original"
          ]
         ],
         "hovertemplate": "<b>%{hovertext}</b><br><br>Cluster=%{customdata[0]}<br>Type=%{customdata[1]}<br>t-SNE 1=%{x:.3f}<br>t-SNE 2=%{y:.3f}<extra></extra>",
         "hovertext": [
          "Original | 12 Angry Men | Drama",
          "Original | Schindler's List | History",
          "Original | Inception | Sci-Fi",
          "Original | The Matrix | Sci-Fi",
          "Original | The Green Mile | Crime",
          "Original | It's a Wonderful Life | Fantasy",
          "Original | Whiplash | Music",
          "Original | The Pianist | Music",
          "Original | Back to the Future | Sci-Fi",
          "Original | City Lights | Comedy",
          "Original | Taare Zameen Par | Drama",
          "Original | WALL·E | Adventure",
          "Original | Memento | Thriller",
          "Original | Alien | Sci-Fi",
          "Original | Anand | Drama",
          "Original | Witness for the Prosecution | Crime",
          "Original | Andhadhun | Crime",
          "Original | Amélie | Romance",
          "Original | Good Will Hunting | Romance"
         ],
         "legendgroup": "3, Original",
         "marker": {
          "color": "rgb(77,175,74)",
          "symbol": "circle"
         },
         "mode": "markers",
         "name": "3, Original",
         "opacity": 0.3,
         "orientation": "v",
         "showlegend": true,
         "type": "scatter",
         "x": {
          "bdata": "O3XawPyAUkHShiZB3cUtwDhhNkCwXurAZ4bsPn9FWkGygZrB98sswRjP5MDpqU7BPXYnQK94HsFsoKDAIttDwG1elL5GI1LAqjISPQ==",
          "dtype": "f4"
         },
         "xaxis": "x",
         "y": {
          "bdata": "29udwc3OFcEkvINARlySQBbEg8DMzVPAt8+SweT5RMEQ1kTBJE0Iwcr2K8FK6FtB6XRBwTpaQkG62KvAzT6uwVcRIcGNkDfBdH1jwQ==",
          "dtype": "f4"
         },
         "yaxis": "y"
        },
        {
         "customdata": [
          [
           "3",
           "Steered"
          ],
          [
           "3",
           "Steered"
          ],
          [
           "3",
           "Steered"
          ],
          [
           "3",
           "Steered"
          ],
          [
           "3",
           "Steered"
          ],
          [
           "3",
           "Steered"
          ],
          [
           "3",
           "Steered"
          ],
          [
           "3",
           "Steered"
          ],
          [
           "3",
           "Steered"
          ],
          [
           "3",
           "Steered"
          ],
          [
           "3",
           "Steered"
          ],
          [
           "3",
           "Steered"
          ],
          [
           "3",
           "Steered"
          ],
          [
           "3",
           "Steered"
          ],
          [
           "3",
           "Steered"
          ],
          [
           "3",
           "Steered"
          ],
          [
           "3",
           "Steered"
          ],
          [
           "3",
           "Steered"
          ],
          [
           "3",
           "Steered"
          ]
         ],
         "hovertemplate": "<b>%{hovertext}</b><br><br>Cluster=%{customdata[0]}<br>Type=%{customdata[1]}<br>t-SNE 1=%{x:.3f}<br>t-SNE 2=%{y:.3f}<extra></extra>",
         "hovertext": [
          "Steered | 12 Angry Men | Drama",
          "Steered | Schindler's List | History",
          "Steered | Inception | Sci-Fi",
          "Steered | The Matrix | Sci-Fi",
          "Steered | The Green Mile | Crime",
          "Steered | It's a Wonderful Life | Fantasy",
          "Steered | Whiplash | Music",
          "Steered | The Pianist | Music",
          "Steered | Back to the Future | Sci-Fi",
          "Steered | City Lights | Comedy",
          "Steered | Taare Zameen Par | Drama",
          "Steered | WALL·E | Adventure",
          "Steered | Memento | Thriller",
          "Steered | Alien | Sci-Fi",
          "Steered | Anand | Drama",
          "Steered | Witness for the Prosecution | Crime",
          "Steered | Andhadhun | Crime",
          "Steered | Amélie | Romance",
          "Steered | Good Will Hunting | Romance"
         ],
         "legendgroup": "3, Steered",
         "marker": {
          "color": "rgb(77,175,74)",
          "symbol": "diamond"
         },
         "mode": "markers",
         "name": "3, Steered",
         "opacity": 1,
         "orientation": "v",
         "showlegend": true,
         "type": "scatter",
         "x": {
          "bdata": "Y6rXwDOiTkFhYSNBIwYowMnkL0DdkObAp735Ph/JV0HFIZrBd+8qwT/I4cAzOUvBZ+YjQLfGGsGVQ53A0fpBwB4Dib7abk7A+0CWPQ==",
          "dtype": "f4"
         },
         "xaxis": "x",
         "y": {
          "bdata": "456cwb/UEMH3BIJA4J2QQOS9ecBq+0vAdr6RwQuxQsHWTkPBMMYFwcDRKMHLB1pBqcU+wYsnQEGCi6bAcgWtwQboHcGqWjXBg8ZgwQ==",
          "dtype": "f4"
         },
         "yaxis": "y"
        },
        {
         "customdata": [
          [
           "2",
           "Original"
          ],
          [
           "2",
           "Original"
          ],
          [
           "2",
           "Original"
          ],
          [
           "2",
           "Original"
          ],
          [
           "2",
           "Original"
          ],
          [
           "2",
           "Original"
          ],
          [
           "2",
           "Original"
          ],
          [
           "2",
           "Original"
          ],
          [
           "2",
           "Original"
          ],
          [
           "2",
           "Original"
          ],
          [
           "2",
           "Original"
          ],
          [
           "2",
           "Original"
          ]
         ],
         "hovertemplate": "<b>%{hovertext}</b><br><br>Cluster=%{customdata[0]}<br>Type=%{customdata[1]}<br>t-SNE 1=%{x:.3f}<br>t-SNE 2=%{y:.3f}<extra></extra>",
         "hovertext": [
          "Original | The Lord of the Rings: The Return of the King | Adventure",
          "Original | The Lord of the Rings: The Fellowship of the Ring | Adventure",
          "Original | The Lord of the Rings: The Two Towers | Adventure",
          "Original | Star Wars: Episode V - The Empire Strikes Back | Adventure",
          "Original | Soorarai Pottru | Drama",
          "Original | Star Wars | Action",
          "Original | The Prestige | Mystery",
          "Original | Avengers: Endgame | Drama",
          "Original | Avengers: Infinity War | Adventure",
          "Original | Mononoke-hime | Adventure",
          "Original | 1917 | War",
          "Original | Tumbbad | Drama"
         ],
         "legendgroup": "2, Original",
         "marker": {
          "color": "rgb(152,78,163)",
          "symbol": "circle"
         },
         "mode": "markers",
         "name": "2, Original",
         "opacity": 0.3,
         "orientation": "v",
         "showlegend": true,
         "type": "scatter",
         "x": {
          "bdata": "QSPgv50moMBaJBbADcx/wPQ1GsD4xb/A19kCwevlX0Dnguk/Y3aywPsEDUBV6QdB",
          "dtype": "f4"
         },
         "xaxis": "x",
         "y": {
          "bdata": "9UmPQXjylkE6TKJBrS1mQQfmBkEXl2RBJraOQJkGikHoKIRBuo7UQFKCPUHWzZZB",
          "dtype": "f4"
         },
         "yaxis": "y"
        },
        {
         "customdata": [
          [
           "2",
           "Steered"
          ],
          [
           "2",
           "Steered"
          ],
          [
           "2",
           "Steered"
          ],
          [
           "2",
           "Steered"
          ],
          [
           "2",
           "Steered"
          ],
          [
           "2",
           "Steered"
          ],
          [
           "2",
           "Steered"
          ],
          [
           "2",
           "Steered"
          ],
          [
           "2",
           "Steered"
          ],
          [
           "2",
           "Steered"
          ],
          [
           "2",
           "Steered"
          ],
          [
           "2",
           "Steered"
          ]
         ],
         "hovertemplate": "<b>%{hovertext}</b><br><br>Cluster=%{customdata[0]}<br>Type=%{customdata[1]}<br>t-SNE 1=%{x:.3f}<br>t-SNE 2=%{y:.3f}<extra></extra>",
         "hovertext": [
          "Steered | The Lord of the Rings: The Return of the King | Adventure",
          "Steered | The Lord of the Rings: The Fellowship of the Ring | Adventure",
          "Steered | The Lord of the Rings: The Two Towers | Adventure",
          "Steered | Star Wars: Episode V - The Empire Strikes Back | Adventure",
          "Steered | Soorarai Pottru | Drama",
          "Steered | Star Wars | Action",
          "Steered | The Prestige | Mystery",
          "Steered | Avengers: Endgame | Drama",
          "Steered | Avengers: Infinity War | Adventure",
          "Steered | Mononoke-hime | Adventure",
          "Steered | 1917 | War",
          "Steered | Tumbbad | Drama"
         ],
         "legendgroup": "2, Steered",
         "marker": {
          "color": "rgb(152,78,163)",
          "symbol": "diamond"
         },
         "mode": "markers",
         "name": "2, Steered",
         "opacity": 1,
         "orientation": "v",
         "showlegend": true,
         "type": "scatter",
         "x": {
          "bdata": "SF0BwKHzl8DRSBXAaduDwAYREsBRfbbADPX+wFiRVUC4VgBAB0itwNEoBkAY1gVB",
          "dtype": "f4"
         },
         "xaxis": "x",
         "y": {
          "bdata": "chuOQc38lEHc9p5BVW5eQfQMBkFmRF1Bi4aPQFowhUFNJoBBo/jTQFKfOUEyLZZB",
          "dtype": "f4"
         },
         "yaxis": "y"
        },
        {
         "customdata": [
          [
           "0",
           "Original"
          ],
          [
           "0",
           "Original"
          ],
          [
           "0",
           "Original"
          ],
          [
           "0",
           "Original"
          ],
          [
           "0",
           "Original"
          ],
          [
           "0",
           "Original"
          ],
          [
           "0",
           "Original"
          ],
          [
           "0",
           "Original"
          ],
          [
           "0",
           "Original"
          ],
          [
           "0",
           "Original"
          ],
          [
           "0",
           "Original"
          ],
          [
           "0",
           "Original"
          ],
          [
           "0",
           "Original"
          ],
          [
           "0",
           "Original"
          ],
          [
           "0",
           "Original"
          ]
         ],
         "hovertemplate": "<b>%{hovertext}</b><br><br>Cluster=%{customdata[0]}<br>Type=%{customdata[1]}<br>t-SNE 1=%{x:.3f}<br>t-SNE 2=%{y:.3f}<extra></extra>",
         "hovertext": [
          "Original | Fight Club | Drama",
          "Original | Il buono, il brutto, il cattivo | Western",
          "Original | Interstellar | Sci-Fi",
          "Original | Se7en | Crime",
          "Original | The Departed | Crime",
          "Original | The Usual Suspects | Crime",
          "Original | Once Upon a Time in the West | Western",
          "Original | Vikram Vedha | Crime",
          "Original | Kimi no na wa. | Drama",
          "Original | Spider-Man: Into the Spider-Verse | Adventure",
          "Original | The Lives of Others | Thriller",
          "Original | Paths of Glory | War",
          "Original | Rear Window | Thriller",
          "Original | Inglourious Basterds | War",
          "Original | Snatch | Crime"
         ],
         "legendgroup": "0, Original",
         "marker": {
          "color": "rgb(255,127,0)",
          "symbol": "circle"
         },
         "mode": "markers",
         "name": "0, Original",
         "opacity": 0.3,
         "orientation": "v",
         "showlegend": true,
         "type": "scatter",
         "x": {
          "bdata": "M7kpPmWVDkGJQyXBoZaAQCRiUkA2uy2/Db0eP/s+IMDNDZrBYR66QGcxpEBJ+5k/DBJGQMAhPkFuiWNB",
          "dtype": "f4"
         },
         "xaxis": "x",
         "y": {
          "bdata": "IkWhQM6THUGTWIRBQQMUPy9gTECoYle/z2jvP7kCwz+QMMfAQqpZQTuyzcCAtAxBH4IQwVJszcDTqYtA",
          "dtype": "f4"
         },
         "yaxis": "y"
        },
        {
         "customdata": [
          [
           "0",
           "Steered"
          ],
          [
           "0",
           "Steered"
          ],
          [
           "0",
           "Steered"
          ],
          [
           "0",
           "Steered"
          ],
          [
           "0",
           "Steered"
          ],
          [
           "0",
           "Steered"
          ],
          [
           "0",
           "Steered"
          ],
          [
           "0",
           "Steered"
          ],
          [
           "0",
           "Steered"
          ],
          [
           "0",
           "Steered"
          ],
          [
           "0",
           "Steered"
          ],
          [
           "0",
           "Steered"
          ],
          [
           "0",
           "Steered"
          ],
          [
           "0",
           "Steered"
          ],
          [
           "0",
           "Steered"
          ]
         ],
         "hovertemplate": "<b>%{hovertext}</b><br><br>Cluster=%{customdata[0]}<br>Type=%{customdata[1]}<br>t-SNE 1=%{x:.3f}<br>t-SNE 2=%{y:.3f}<extra></extra>",
         "hovertext": [
          "Steered | Fight Club | Drama",
          "Steered | Il buono, il brutto, il cattivo | Western",
          "Steered | Interstellar | Sci-Fi",
          "Steered | Se7en | Crime",
          "Steered | The Departed | Crime",
          "Steered | The Usual Suspects | Crime",
          "Steered | Once Upon a Time in the West | Western",
          "Steered | Vikram Vedha | Crime",
          "Steered | Kimi no na wa. | Drama",
          "Steered | Spider-Man: Into the Spider-Verse | Adventure",
          "Steered | The Lives of Others | Thriller",
          "Steered | Paths of Glory | War",
          "Steered | Rear Window | Thriller",
          "Steered | Inglourious Basterds | War",
          "Steered | Snatch | Crime"
         ],
         "legendgroup": "0, Steered",
         "marker": {
          "color": "rgb(255,127,0)",
          "symbol": "diamond"
         },
         "mode": "markers",
         "name": "0, Steered",
         "opacity": 1,
         "orientation": "v",
         "showlegend": true,
         "type": "scatter",
         "x": {
          "bdata": "6N8vPrCtC0GcNSPBRu5xQH+4R0D1zQ6/tJ0jPwKbGcAjSpnBhdmzQKPdoUBM8Jc/32lEQOboOUFwB2BB",
          "dtype": "f4"
         },
         "xaxis": "x",
         "y": {
          "bdata": "l9qhQMj7G0FvLINBsqUPP8lmSkCnwCq/alHoP4/lzz/pzsPA5ilXQVgMyMBD7ApB0rsNwakIxcCN34lA",
          "dtype": "f4"
         },
         "yaxis": "y"
        },
        {
         "hoverinfo": "none",
         "line": {
          "color": "gray",
          "dash": "dot",
          "width": 1
         },
         "mode": "lines",
         "showlegend": false,
         "type": "scatter",
         "x": [
          -10.82999038696289,
          -10.621150016784668
         ],
         "y": [
          2.6227266788482666,
          2.651834726333618
         ]
        },
        {
         "hoverinfo": "none",
         "line": {
          "color": "gray",
          "dash": "dot",
          "width": 1
         },
         "mode": "lines",
         "showlegend": false,
         "type": "scatter",
         "x": [
          7.906128883361816,
          7.740216255187988
         ],
         "y": [
          0.05838100612163544,
          0.18297207355499268
         ]
        },
        {
         "hoverinfo": "none",
         "line": {
          "color": "gray",
          "dash": "dot",
          "width": 1
         },
         "mode": "lines",
         "showlegend": false,
         "type": "scatter",
         "x": [
          16.01222801208496,
          15.527204513549805
         ],
         "y": [
          -0.8146779537200928,
          -0.8202412724494934
         ]
        },
        {
         "hoverinfo": "none",
         "line": {
          "color": "gray",
          "dash": "dot",
          "width": 1
         },
         "mode": "lines",
         "showlegend": false,
         "type": "scatter",
         "x": [
          10.658703804016113,
          10.536643981933594
         ],
         "y": [
          -2.5282070636749268,
          -2.4289093017578125
         ]
        },
        {
         "hoverinfo": "none",
         "line": {
          "color": "gray",
          "dash": "dot",
          "width": 1
         },
         "mode": "lines",
         "showlegend": false,
         "type": "scatter",
         "x": [
          -6.826810359954834,
          -6.739549160003662
         ],
         "y": [
          -19.732351303100586,
          -19.57758140563965
         ]
        },
        {
         "hoverinfo": "none",
         "line": {
          "color": "gray",
          "dash": "dot",
          "width": 1
         },
         "mode": "lines",
         "showlegend": false,
         "type": "scatter",
         "x": [
          -1.7510758638381958,
          -2.0213184356689453
         ],
         "y": [
          17.91111183166504,
          17.76340103149414
         ]
        },
        {
         "hoverinfo": "none",
         "line": {
          "color": "gray",
          "dash": "dot",
          "width": 1
         },
         "mode": "lines",
         "showlegend": false,
         "type": "scatter",
         "x": [
          5.389482021331787,
          5.156263828277588
         ],
         "y": [
          -1.9728124141693115,
          -1.8582707643508911
         ]
        },
        {
         "hoverinfo": "none",
         "line": {
          "color": "gray",
          "dash": "dot",
          "width": 1
         },
         "mode": "lines",
         "showlegend": false,
         "type": "scatter",
         "x": [
          13.156490325927734,
          12.914599418640137
         ],
         "y": [
          -9.362988471984863,
          -9.051939964294434
         ]
        },
        {
         "hoverinfo": "none",
         "line": {
          "color": "gray",
          "dash": "dot",
          "width": 1
         },
         "mode": "lines",
         "showlegend": false,
         "type": "scatter",
         "x": [
          10.407915115356445,
          10.211274147033691
         ],
         "y": [
          4.116716384887695,
          4.063106060028076
         ]
        },
        {
         "hoverinfo": "none",
         "line": {
          "color": "gray",
          "dash": "dot",
          "width": 1
         },
         "mode": "lines",
         "showlegend": false,
         "type": "scatter",
         "x": [
          0.1657455414533615,
          0.17175257205963135
         ],
         "y": [
          5.039689064025879,
          5.057933330535889
         ]
        },
        {
         "hoverinfo": "none",
         "line": {
          "color": "gray",
          "dash": "dot",
          "width": 1
         },
         "mode": "lines",
         "showlegend": false,
         "type": "scatter",
         "x": [
          -5.004713535308838,
          -4.748489856719971
         ],
         "y": [
          18.868392944335938,
          18.623437881469727
         ]
        },
        {
         "hoverinfo": "none",
         "line": {
          "color": "gray",
          "dash": "dot",
          "width": 1
         },
         "mode": "lines",
         "showlegend": false,
         "type": "scatter",
         "x": [
          5.306551456451416,
          5.254563331604004
         ],
         "y": [
          -15.218069076538086,
          -15.033326148986816
         ]
        },
        {
         "hoverinfo": "none",
         "line": {
          "color": "gray",
          "dash": "dot",
          "width": 1
         },
         "mode": "lines",
         "showlegend": false,
         "type": "scatter",
         "x": [
          8.911473274230957,
          8.729904174804688
         ],
         "y": [
          9.84858512878418,
          9.748970031738281
         ]
        },
        {
         "hoverinfo": "none",
         "line": {
          "color": "gray",
          "dash": "dot",
          "width": 1
         },
         "mode": "lines",
         "showlegend": false,
         "type": "scatter",
         "x": [
          -2.345968723297119,
          -2.3325693607330322
         ],
         "y": [
          20.287220001220703,
          19.87053680419922
         ]
        },
        {
         "hoverinfo": "none",
         "line": {
          "color": "gray",
          "dash": "dot",
          "width": 1
         },
         "mode": "lines",
         "showlegend": false,
         "type": "scatter",
         "x": [
          -2.7152016162872314,
          -2.6253745555877686
         ],
         "y": [
          4.573763847351074,
          4.5192718505859375
         ]
        },
        {
         "hoverinfo": "none",
         "line": {
          "color": "gray",
          "dash": "dot",
          "width": 1
         },
         "mode": "lines",
         "showlegend": false,
         "type": "scatter",
         "x": [
          7.609955787658691,
          7.446157932281494
         ],
         "y": [
          -3.5322470664978027,
          -3.408886671066284
         ]
        },
        {
         "hoverinfo": "none",
         "line": {
          "color": "gray",
          "dash": "dot",
          "width": 1
         },
         "mode": "lines",
         "showlegend": false,
         "type": "scatter",
         "x": [
          -3.9968292713165283,
          -4.120533466339111
         ],
         "y": [
          14.386151313781738,
          13.901936531066895
         ]
        },
        {
         "hoverinfo": "none",
         "line": {
          "color": "gray",
          "dash": "dot",
          "width": 1
         },
         "mode": "lines",
         "showlegend": false,
         "type": "scatter",
         "x": [
          -0.24720066785812378,
          -0.15275423228740692
         ],
         "y": [
          -3.790181875228882,
          -3.6208901405334473
         ]
        },
        {
         "hoverinfo": "none",
         "line": {
          "color": "gray",
          "dash": "dot",
          "width": 1
         },
         "mode": "lines",
         "showlegend": false,
         "type": "scatter",
         "x": [
          15.882587432861328,
          15.747807502746582
         ],
         "y": [
          10.193215370178223,
          10.169739723205566
         ]
        },
        {
         "hoverinfo": "none",
         "line": {
          "color": "gray",
          "dash": "dot",
          "width": 1
         },
         "mode": "lines",
         "showlegend": false,
         "type": "scatter",
         "x": [
          -14.346917152404785,
          -14.2549409866333
         ],
         "y": [
          -13.65167236328125,
          -13.553730964660645
         ]
        },
        {
         "hoverinfo": "none",
         "line": {
          "color": "gray",
          "dash": "dot",
          "width": 1
         },
         "mode": "lines",
         "showlegend": false,
         "type": "scatter",
         "x": [
          -2.409543037414551,
          -2.2822890281677246
         ],
         "y": [
          8.431159019470215,
          8.378162384033203
         ]
        },
        {
         "hoverinfo": "none",
         "line": {
          "color": "gray",
          "dash": "dot",
          "width": 1
         },
         "mode": "lines",
         "showlegend": false,
         "type": "scatter",
         "x": [
          -10.328988075256348,
          -10.20058822631836
         ],
         "y": [
          16.543249130249023,
          16.396696090698242
         ]
        },
        {
         "hoverinfo": "none",
         "line": {
          "color": "gray",
          "dash": "dot",
          "width": 1
         },
         "mode": "lines",
         "showlegend": false,
         "type": "scatter",
         "x": [
          -14.218704223632812,
          -14.053540229797363
         ],
         "y": [
          1.2485636472702026,
          1.3140437602996826
         ]
        },
        {
         "hoverinfo": "none",
         "line": {
          "color": "gray",
          "dash": "dot",
          "width": 1
         },
         "mode": "lines",
         "showlegend": false,
         "type": "scatter",
         "x": [
          -13.01633071899414,
          -12.8087739944458
         ],
         "y": [
          6.11294412612915,
          6.165866374969482
         ]
        },
        {
         "hoverinfo": "none",
         "line": {
          "color": "gray",
          "dash": "dot",
          "width": 1
         },
         "mode": "lines",
         "showlegend": false,
         "type": "scatter",
         "x": [
          -5.549043655395508,
          -5.340536594390869
         ],
         "y": [
          10.501974105834961,
          10.380680084228516
         ]
        },
        {
         "hoverinfo": "none",
         "line": {
          "color": "gray",
          "dash": "dot",
          "width": 1
         },
         "mode": "lines",
         "showlegend": false,
         "type": "scatter",
         "x": [
          2.8496837615966797,
          2.7483389377593994
         ],
         "y": [
          -4.1176862716674805,
          -3.902215003967285
         ]
        },
        {
         "hoverinfo": "none",
         "line": {
          "color": "gray",
          "dash": "dot",
          "width": 1
         },
         "mode": "lines",
         "showlegend": false,
         "type": "scatter",
         "x": [
          10.079193115234375,
          9.93233585357666
         ],
         "y": [
          -9.528985977172852,
          -9.241881370544434
         ]
        },
        {
         "hoverinfo": "none",
         "line": {
          "color": "gray",
          "dash": "dot",
          "width": 1
         },
         "mode": "lines",
         "showlegend": false,
         "type": "scatter",
         "x": [
          4.018387317657471,
          3.780168056488037
         ],
         "y": [
          0.5781746506690979,
          0.5611220598220825
         ]
        },
        {
         "hoverinfo": "none",
         "line": {
          "color": "gray",
          "dash": "dot",
          "width": 1
         },
         "mode": "lines",
         "showlegend": false,
         "type": "scatter",
         "x": [
          2.127347230911255,
          1.9957621097564697
         ],
         "y": [
          -1.2027827501296997,
          -1.0032345056533813
         ]
        },
        {
         "hoverinfo": "none",
         "line": {
          "color": "gray",
          "dash": "dot",
          "width": 1
         },
         "mode": "lines",
         "showlegend": false,
         "type": "scatter",
         "x": [
          -5.992916107177734,
          -5.7027974128723145
         ],
         "y": [
          14.286887168884277,
          13.829198837280273
         ]
        },
        {
         "hoverinfo": "none",
         "line": {
          "color": "gray",
          "dash": "dot",
          "width": 1
         },
         "mode": "lines",
         "showlegend": false,
         "type": "scatter",
         "x": [
          -8.280781745910645,
          -8.079033851623535
         ],
         "y": [
          0.1547854244709015,
          0.2601383626461029
         ]
        },
        {
         "hoverinfo": "none",
         "line": {
          "color": "gray",
          "dash": "dot",
          "width": 1
         },
         "mode": "lines",
         "showlegend": false,
         "type": "scatter",
         "x": [
          -1.3235782384872437,
          -1.2923119068145752
         ],
         "y": [
          11.827903747558594,
          11.686869621276855
         ]
        },
        {
         "hoverinfo": "none",
         "line": {
          "color": "gray",
          "dash": "dot",
          "width": 1
         },
         "mode": "lines",
         "showlegend": false,
         "type": "scatter",
         "x": [
          -7.324058532714844,
          -7.205183506011963
         ],
         "y": [
          -3.3094358444213867,
          -3.1872200965881348
         ]
        },
        {
         "hoverinfo": "none",
         "line": {
          "color": "gray",
          "dash": "dot",
          "width": 1
         },
         "mode": "lines",
         "showlegend": false,
         "type": "scatter",
         "x": [
          14.305999755859375,
          14.312688827514648
         ],
         "y": [
          -2.453619956970215,
          -1.9180735349655151
         ]
        },
        {
         "hoverinfo": "none",
         "line": {
          "color": "gray",
          "dash": "dot",
          "width": 1
         },
         "mode": "lines",
         "showlegend": false,
         "type": "scatter",
         "x": [
          0.46196290850639343,
          0.487775057554245
         ],
         "y": [
          -18.351423263549805,
          -18.217998504638672
         ]
        },
        {
         "hoverinfo": "none",
         "line": {
          "color": "gray",
          "dash": "dot",
          "width": 1
         },
         "mode": "lines",
         "showlegend": false,
         "type": "scatter",
         "x": [
          -7.71107292175293,
          -7.576990127563477
         ],
         "y": [
          -7.049320220947266,
          -6.876651763916016
         ]
        },
        {
         "hoverinfo": "none",
         "line": {
          "color": "gray",
          "dash": "dot",
          "width": 1
         },
         "mode": "lines",
         "showlegend": false,
         "type": "scatter",
         "x": [
          -8.178183555603027,
          -7.967412948608398
         ],
         "y": [
          4.459734916687012,
          4.48517370223999
         ]
        },
        {
         "hoverinfo": "none",
         "line": {
          "color": "gray",
          "dash": "dot",
          "width": 1
         },
         "mode": "lines",
         "showlegend": false,
         "type": "scatter",
         "x": [
          3.2872400283813477,
          3.120635747909546
         ],
         "y": [
          3.1933705806732178,
          3.1625235080718994
         ]
        },
        {
         "hoverinfo": "none",
         "line": {
          "color": "gray",
          "dash": "dot",
          "width": 1
         },
         "mode": "lines",
         "showlegend": false,
         "type": "scatter",
         "x": [
          13.641966819763184,
          13.486601829528809
         ],
         "y": [
          -12.31100845336914,
          -12.16822338104248
         ]
        },
        {
         "hoverinfo": "none",
         "line": {
          "color": "gray",
          "dash": "dot",
          "width": 1
         },
         "mode": "lines",
         "showlegend": false,
         "type": "scatter",
         "x": [
          6.757594108581543,
          6.541263580322266
         ],
         "y": [
          2.8301634788513184,
          2.8688085079193115
         ]
        },
        {
         "hoverinfo": "none",
         "line": {
          "color": "gray",
          "dash": "dot",
          "width": 1
         },
         "mode": "lines",
         "showlegend": false,
         "type": "scatter",
         "x": [
          8.403541564941406,
          8.301087379455566
         ],
         "y": [
          -6.957266807556152,
          -6.766597270965576
         ]
        },
        {
         "hoverinfo": "none",
         "line": {
          "color": "gray",
          "dash": "dot",
          "width": 1
         },
         "mode": "lines",
         "showlegend": false,
         "type": "scatter",
         "x": [
          -0.6786378622055054,
          -0.5578301548957825
         ],
         "y": [
          -0.8413491249084473,
          -0.6670021414756775
         ]
        },
        {
         "hoverinfo": "none",
         "line": {
          "color": "gray",
          "dash": "dot",
          "width": 1
         },
         "mode": "lines",
         "showlegend": false,
         "type": "scatter",
         "x": [
          -4.987879276275635,
          -4.765648365020752
         ],
         "y": [
          -0.3203112483024597,
          -0.14362595975399017
         ]
        },
        {
         "hoverinfo": "none",
         "line": {
          "color": "gray",
          "dash": "dot",
          "width": 1
         },
         "mode": "lines",
         "showlegend": false,
         "type": "scatter",
         "x": [
          -11.310266494750977,
          -11.11577033996582
         ],
         "y": [
          -1.3912036418914795,
          -1.3147974014282227
         ]
        },
        {
         "hoverinfo": "none",
         "line": {
          "color": "gray",
          "dash": "dot",
          "width": 1
         },
         "mode": "lines",
         "showlegend": false,
         "type": "scatter",
         "x": [
          -18.116044998168945,
          -17.90886878967285
         ],
         "y": [
          3.9129748344421387,
          3.9193825721740723
         ]
        },
        {
         "hoverinfo": "none",
         "line": {
          "color": "gray",
          "dash": "dot",
          "width": 1
         },
         "mode": "lines",
         "showlegend": false,
         "type": "scatter",
         "x": [
          -3.487755060195923,
          -3.5244100093841553
         ],
         "y": [
          -16.356929779052734,
          -16.128314971923828
         ]
        },
        {
         "hoverinfo": "none",
         "line": {
          "color": "gray",
          "dash": "dot",
          "width": 1
         },
         "mode": "lines",
         "showlegend": false,
         "type": "scatter",
         "x": [
          -17.91197967529297,
          -17.750268936157227
         ],
         "y": [
          -1.1215839385986328,
          -1.0320961475372314
         ]
        },
        {
         "hoverinfo": "none",
         "line": {
          "color": "gray",
          "dash": "dot",
          "width": 1
         },
         "mode": "lines",
         "showlegend": false,
         "type": "scatter",
         "x": [
          -19.31332778930664,
          -19.266489028930664
         ],
         "y": [
          -12.302261352539062,
          -12.206747055053711
         ]
        },
        {
         "hoverinfo": "none",
         "line": {
          "color": "gray",
          "dash": "dot",
          "width": 1
         },
         "mode": "lines",
         "showlegend": false,
         "type": "scatter",
         "x": [
          0.6200721859931946,
          0.6391251087188721
         ],
         "y": [
          1.870386004447937,
          1.8149845600128174
         ]
        },
        {
         "hoverinfo": "none",
         "line": {
          "color": "gray",
          "dash": "dot",
          "width": 1
         },
         "mode": "lines",
         "showlegend": false,
         "type": "scatter",
         "x": [
          11.900781631469727,
          11.708524703979492
         ],
         "y": [
          7.637617111206055,
          7.576203346252441
         ]
        },
        {
         "hoverinfo": "none",
         "line": {
          "color": "gray",
          "dash": "dot",
          "width": 1
         },
         "mode": "lines",
         "showlegend": false,
         "type": "scatter",
         "x": [
          6.423061847686768,
          6.394724369049072
         ],
         "y": [
          -9.989714622497559,
          -9.741118431091309
         ]
        },
        {
         "hoverinfo": "none",
         "line": {
          "color": "gray",
          "dash": "dot",
          "width": 1
         },
         "mode": "lines",
         "showlegend": false,
         "type": "scatter",
         "x": [
          -11.031755447387695,
          -10.950385093688965
         ],
         "y": [
          -11.4179048538208,
          -11.31412410736084
         ]
        },
        {
         "hoverinfo": "none",
         "line": {
          "color": "gray",
          "dash": "dot",
          "width": 1
         },
         "mode": "lines",
         "showlegend": false,
         "type": "scatter",
         "x": [
          -10.799796104431152,
          -10.683463096618652
         ],
         "y": [
          -8.51883316040039,
          -8.360885620117188
         ]
        },
        {
         "hoverinfo": "none",
         "line": {
          "color": "gray",
          "dash": "dot",
          "width": 1
         },
         "mode": "lines",
         "showlegend": false,
         "type": "scatter",
         "x": [
          -12.082374572753906,
          -11.960479736328125
         ],
         "y": [
          -18.172460556030273,
          -18.060489654541016
         ]
        },
        {
         "hoverinfo": "none",
         "line": {
          "color": "gray",
          "dash": "dot",
          "width": 1
         },
         "mode": "lines",
         "showlegend": false,
         "type": "scatter",
         "x": [
          -5.614565372467041,
          -5.386089324951172
         ],
         "y": [
          2.512737512588501,
          2.594264268875122
         ]
        },
        {
         "hoverinfo": "none",
         "line": {
          "color": "gray",
          "dash": "dot",
          "width": 1
         },
         "mode": "lines",
         "showlegend": false,
         "type": "scatter",
         "x": [
          -2.5038440227508545,
          -2.400085926055908
         ],
         "y": [
          1.523520588874817,
          1.6241930723190308
         ]
        },
        {
         "hoverinfo": "none",
         "line": {
          "color": "gray",
          "dash": "dot",
          "width": 1
         },
         "mode": "lines",
         "showlegend": false,
         "type": "scatter",
         "x": [
          -19.256738662719727,
          -19.16119956970215
         ],
         "y": [
          -6.224678039550781,
          -6.119007587432861
         ]
        },
        {
         "hoverinfo": "none",
         "line": {
          "color": "gray",
          "dash": "dot",
          "width": 1
         },
         "mode": "lines",
         "showlegend": false,
         "type": "scatter",
         "x": [
          18.824752807617188,
          18.622528076171875
         ],
         "y": [
          2.469235897064209,
          2.4678704738616943
         ]
        },
        {
         "hoverinfo": "none",
         "line": {
          "color": "gray",
          "dash": "dot",
          "width": 1
         },
         "mode": "lines",
         "showlegend": false,
         "type": "scatter",
         "x": [
          5.816208362579346,
          5.620302677154541
         ],
         "y": [
          13.604066848754883,
          13.447729110717773
         ]
        },
        {
         "hoverinfo": "none",
         "line": {
          "color": "gray",
          "dash": "dot",
          "width": 1
         },
         "mode": "lines",
         "showlegend": false,
         "type": "scatter",
         "x": [
          3.498408079147339,
          3.336996078491211
         ],
         "y": [
          17.25322151184082,
          16.648609161376953
         ]
        },
        {
         "hoverinfo": "none",
         "line": {
          "color": "gray",
          "dash": "dot",
          "width": 1
         },
         "mode": "lines",
         "showlegend": false,
         "type": "scatter",
         "x": [
          1.8243073225021362,
          2.0052928924560547
         ],
         "y": [
          16.519973754882812,
          16.018701553344727
         ]
        },
        {
         "hoverinfo": "none",
         "line": {
          "color": "gray",
          "dash": "dot",
          "width": 1
         },
         "mode": "lines",
         "showlegend": false,
         "type": "scatter",
         "x": [
          4.892834186553955,
          4.910142421722412
         ],
         "y": [
          -19.699222564697266,
          -19.57773780822754
         ]
        },
        {
         "hoverinfo": "none",
         "line": {
          "color": "gray",
          "dash": "dot",
          "width": 1
         },
         "mode": "lines",
         "showlegend": false,
         "type": "scatter",
         "x": [
          7.3881306648254395,
          7.2039794921875
         ],
         "y": [
          5.807126045227051,
          5.720468044281006
         ]
        },
        {
         "hoverinfo": "none",
         "line": {
          "color": "gray",
          "dash": "dot",
          "width": 1
         },
         "mode": "lines",
         "showlegend": false,
         "type": "scatter",
         "x": [
          17.488065719604492,
          17.100391387939453
         ],
         "y": [
          -2.768991470336914,
          -2.6167256832122803
         ]
        },
        {
         "hoverinfo": "none",
         "line": {
          "color": "gray",
          "dash": "dot",
          "width": 1
         },
         "mode": "lines",
         "showlegend": false,
         "type": "scatter",
         "x": [
          -10.618406295776367,
          -10.392229080200195
         ],
         "y": [
          -4.799925804138184,
          -4.630841255187988
         ]
        },
        {
         "hoverinfo": "none",
         "line": {
          "color": "gray",
          "dash": "dot",
          "width": 1
         },
         "mode": "lines",
         "showlegend": false,
         "type": "scatter",
         "x": [
          -7.150279998779297,
          -7.055694103240967
         ],
         "y": [
          -10.747751235961914,
          -10.55120849609375
         ]
        },
        {
         "hoverinfo": "none",
         "line": {
          "color": "gray",
          "dash": "dot",
          "width": 1
         },
         "mode": "lines",
         "showlegend": false,
         "type": "scatter",
         "x": [
          -12.916481971740723,
          -12.701464653015137
         ],
         "y": [
          13.744211196899414,
          13.62690258026123
         ]
        },
        {
         "hoverinfo": "none",
         "line": {
          "color": "gray",
          "dash": "dot",
          "width": 1
         },
         "mode": "lines",
         "showlegend": false,
         "type": "scatter",
         "x": [
          5.131030559539795,
          5.058305263519287
         ],
         "y": [
          -6.428006649017334,
          -6.251506805419922
         ]
        },
        {
         "hoverinfo": "none",
         "line": {
          "color": "gray",
          "dash": "dot",
          "width": 1
         },
         "mode": "lines",
         "showlegend": false,
         "type": "scatter",
         "x": [
          -9.149311065673828,
          -8.933466911315918
         ],
         "y": [
          7.933204650878906,
          7.9036993980407715
         ]
        },
        {
         "hoverinfo": "none",
         "line": {
          "color": "gray",
          "dash": "dot",
          "width": 1
         },
         "mode": "lines",
         "showlegend": false,
         "type": "scatter",
         "x": [
          2.616591691970825,
          2.5609376430511475
         ],
         "y": [
          -12.091042518615723,
          -11.923256874084473
         ]
        },
        {
         "hoverinfo": "none",
         "line": {
          "color": "gray",
          "dash": "dot",
          "width": 1
         },
         "mode": "lines",
         "showlegend": false,
         "type": "scatter",
         "x": [
          -5.576951503753662,
          -5.415042400360107
         ],
         "y": [
          6.642422676086426,
          6.624101161956787
         ]
        },
        {
         "hoverinfo": "none",
         "line": {
          "color": "gray",
          "dash": "dot",
          "width": 1
         },
         "mode": "lines",
         "showlegend": false,
         "type": "scatter",
         "x": [
          8.884468078613281,
          8.783425331115723
         ],
         "y": [
          -12.753484725952148,
          -12.56950569152832
         ]
        },
        {
         "hoverinfo": "none",
         "line": {
          "color": "gray",
          "dash": "dot",
          "width": 1
         },
         "mode": "lines",
         "showlegend": false,
         "type": "scatter",
         "x": [
          11.445867538452148,
          11.274317741394043
         ],
         "y": [
          13.545767784118652,
          13.436993598937988
         ]
        },
        {
         "hoverinfo": "none",
         "line": {
          "color": "gray",
          "dash": "dot",
          "width": 1
         },
         "mode": "lines",
         "showlegend": false,
         "type": "scatter",
         "x": [
          1.0738892555236816,
          1.0856040716171265
         ],
         "y": [
          -6.729644775390625,
          -6.509138584136963
         ]
        },
        {
         "hoverinfo": "none",
         "line": {
          "color": "gray",
          "dash": "dot",
          "width": 1
         },
         "mode": "lines",
         "showlegend": false,
         "type": "scatter",
         "x": [
          3.466456174850464,
          3.2779345512390137
         ],
         "y": [
          6.11044454574585,
          6.118144989013672
         ]
        },
        {
         "hoverinfo": "none",
         "line": {
          "color": "gray",
          "dash": "dot",
          "width": 1
         },
         "mode": "lines",
         "showlegend": false,
         "type": "scatter",
         "x": [
          -9.904463768005371,
          -9.673514366149902
         ],
         "y": [
          12.147027969360352,
          12.00965404510498
         ]
        },
        {
         "hoverinfo": "none",
         "line": {
          "color": "gray",
          "dash": "dot",
          "width": 1
         },
         "mode": "lines",
         "showlegend": false,
         "type": "scatter",
         "x": [
          -5.019582748413086,
          -4.914499759674072
         ],
         "y": [
          -5.370205879211426,
          -5.204529762268066
         ]
        },
        {
         "hoverinfo": "none",
         "line": {
          "color": "gray",
          "dash": "dot",
          "width": 1
         },
         "mode": "lines",
         "showlegend": false,
         "type": "scatter",
         "x": [
          10.797696113586426,
          10.589868545532227
         ],
         "y": [
          1.197990894317627,
          1.2452260255813599
         ]
        },
        {
         "hoverinfo": "none",
         "line": {
          "color": "gray",
          "dash": "dot",
          "width": 1
         },
         "mode": "lines",
         "showlegend": false,
         "type": "scatter",
         "x": [
          4.934468746185303,
          4.697085857391357
         ],
         "y": [
          8.996929168701172,
          8.832588195800781
         ]
        },
        {
         "hoverinfo": "none",
         "line": {
          "color": "gray",
          "dash": "dot",
          "width": 1
         },
         "mode": "lines",
         "showlegend": false,
         "type": "scatter",
         "x": [
          -3.0602498054504395,
          -3.0309336185455322
         ],
         "y": [
          -21.780664443969727,
          -21.62765884399414
         ]
        },
        {
         "hoverinfo": "none",
         "line": {
          "color": "gray",
          "dash": "dot",
          "width": 1
         },
         "mode": "lines",
         "showlegend": false,
         "type": "scatter",
         "x": [
          1.2029811143875122,
          1.1870207786560059
         ],
         "y": [
          8.7940673828125,
          8.6826810836792
         ]
        },
        {
         "hoverinfo": "none",
         "line": {
          "color": "gray",
          "dash": "dot",
          "width": 1
         },
         "mode": "lines",
         "showlegend": false,
         "type": "scatter",
         "x": [
          3.094851493835449,
          3.0689618587493896
         ],
         "y": [
          -9.031767845153809,
          -8.858354568481445
         ]
        },
        {
         "hoverinfo": "none",
         "line": {
          "color": "gray",
          "dash": "dot",
          "width": 1
         },
         "mode": "lines",
         "showlegend": false,
         "type": "scatter",
         "x": [
          -5.2566962242126465,
          -5.236001491546631
         ],
         "y": [
          -14.40971565246582,
          -14.158379554748535
         ]
        },
        {
         "hoverinfo": "none",
         "line": {
          "color": "gray",
          "dash": "dot",
          "width": 1
         },
         "mode": "lines",
         "showlegend": false,
         "type": "scatter",
         "x": [
          15.620543479919434,
          15.400279998779297
         ],
         "y": [
          -6.841806411743164,
          -6.681387424468994
         ]
        },
        {
         "hoverinfo": "none",
         "line": {
          "color": "gray",
          "dash": "dot",
          "width": 1
         },
         "mode": "lines",
         "showlegend": false,
         "type": "scatter",
         "x": [
          2.2034289836883545,
          2.0962412357330322
         ],
         "y": [
          11.844316482543945,
          11.601396560668945
         ]
        },
        {
         "hoverinfo": "none",
         "line": {
          "color": "gray",
          "dash": "dot",
          "width": 1
         },
         "mode": "lines",
         "showlegend": false,
         "type": "scatter",
         "x": [
          8.494465827941895,
          8.364768981933594
         ],
         "y": [
          18.850505828857422,
          18.77206802368164
         ]
        },
        {
         "hoverinfo": "none",
         "line": {
          "color": "gray",
          "dash": "dot",
          "width": 1
         },
         "mode": "lines",
         "showlegend": false,
         "type": "scatter",
         "x": [
          -0.28978291153907776,
          -0.2676019072532654
         ],
         "y": [
          -10.066733360290527,
          -9.869146347045898
         ]
        },
        {
         "hoverinfo": "none",
         "line": {
          "color": "gray",
          "dash": "dot",
          "width": 1
         },
         "mode": "lines",
         "showlegend": false,
         "type": "scatter",
         "x": [
          -1.869735598564148,
          -1.8333181142807007
         ],
         "y": [
          -6.637011528015137,
          -6.424999237060547
         ]
        },
        {
         "hoverinfo": "none",
         "line": {
          "color": "gray",
          "dash": "dot",
          "width": 1
         },
         "mode": "lines",
         "showlegend": false,
         "type": "scatter",
         "x": [
          -4.676750183105469,
          -4.521153926849365
         ],
         "y": [
          -8.532526969909668,
          -8.251819610595703
         ]
        },
        {
         "hoverinfo": "none",
         "line": {
          "color": "gray",
          "dash": "dot",
          "width": 1
         },
         "mode": "lines",
         "showlegend": false,
         "type": "scatter",
         "x": [
          -14.558269500732422,
          -14.408536911010742
         ],
         "y": [
          -6.101065158843994,
          -5.99260139465332
         ]
        },
        {
         "hoverinfo": "none",
         "line": {
          "color": "gray",
          "dash": "dot",
          "width": 1
         },
         "mode": "lines",
         "showlegend": false,
         "type": "scatter",
         "x": [
          -14.819178581237793,
          -14.712377548217773
         ],
         "y": [
          -2.713137149810791,
          -2.566375732421875
         ]
        },
        {
         "hoverinfo": "none",
         "line": {
          "color": "gray",
          "dash": "dot",
          "width": 1
         },
         "mode": "lines",
         "showlegend": false,
         "type": "scatter",
         "x": [
          -3.3214216232299805,
          -3.2195117473602295
         ],
         "y": [
          -2.806732177734375,
          -2.631129503250122
         ]
        },
        {
         "hoverinfo": "none",
         "line": {
          "color": "gray",
          "dash": "dot",
          "width": 1
         },
         "mode": "lines",
         "showlegend": false,
         "type": "scatter",
         "x": [
          10.523353576660156,
          10.473130226135254
         ],
         "y": [
          -16.83578109741211,
          -16.713895797729492
         ]
        },
        {
         "hoverinfo": "none",
         "line": {
          "color": "gray",
          "dash": "dot",
          "width": 1
         },
         "mode": "lines",
         "showlegend": false,
         "type": "scatter",
         "x": [
          11.88323974609375,
          11.619359970092773
         ],
         "y": [
          -6.419472694396973,
          -6.157307147979736
         ]
        },
        {
         "hoverinfo": "none",
         "line": {
          "color": "gray",
          "dash": "dot",
          "width": 1
         },
         "mode": "lines",
         "showlegend": false,
         "type": "scatter",
         "x": [
          -8.992809295654297,
          -8.933603286743164
         ],
         "y": [
          -15.015125274658203,
          -14.926095962524414
         ]
        },
        {
         "hoverinfo": "none",
         "line": {
          "color": "gray",
          "dash": "dot",
          "width": 1
         },
         "mode": "lines",
         "showlegend": false,
         "type": "scatter",
         "x": [
          -3.283402919769287,
          -3.225515842437744
         ],
         "y": [
          -11.472790718078613,
          -11.334634780883789
         ]
        },
        {
         "hoverinfo": "none",
         "line": {
          "color": "gray",
          "dash": "dot",
          "width": 1
         },
         "mode": "lines",
         "showlegend": false,
         "type": "scatter",
         "x": [
          14.221052169799805,
          14.001815795898438
         ],
         "y": [
          4.364480495452881,
          4.308538913726807
         ]
        },
        {
         "hoverinfo": "none",
         "line": {
          "color": "gray",
          "dash": "dot",
          "width": 1
         },
         "mode": "lines",
         "showlegend": false,
         "type": "scatter",
         "x": [
          -16.21625328063965,
          -16.071199417114258
         ],
         "y": [
          9.076128005981445,
          9.100090980529785
         ]
        },
        {
         "hoverinfo": "none",
         "line": {
          "color": "gray",
          "dash": "dot",
          "width": 1
         },
         "mode": "lines",
         "showlegend": false,
         "type": "scatter",
         "x": [
          -14.7276029586792,
          -14.599520683288574
         ],
         "y": [
          -9.674104690551758,
          -9.57081127166748
         ]
        },
        {
         "hoverinfo": "none",
         "line": {
          "color": "gray",
          "dash": "dot",
          "width": 1
         },
         "mode": "lines",
         "showlegend": false,
         "type": "scatter",
         "x": [
          0.03569284826517105,
          0.07336612790822983
         ],
         "y": [
          -14.218128204345703,
          -14.04846477508545
         ]
        }
       ],
       "layout": {
        "height": 700,
        "legend": {
         "title": {
          "text": "Cluster, Type"
         },
         "tracegroupgap": 0
        },
        "margin": {
         "t": 60
        },
        "template": {
         "data": {
          "bar": [
           {
            "error_x": {
             "color": "#2a3f5f"
            },
            "error_y": {
             "color": "#2a3f5f"
            },
            "marker": {
             "line": {
              "color": "#E5ECF6",
              "width": 0.5
             },
             "pattern": {
              "fillmode": "overlay",
              "size": 10,
              "solidity": 0.2
             }
            },
            "type": "bar"
           }
          ],
          "barpolar": [
           {
            "marker": {
             "line": {
              "color": "#E5ECF6",
              "width": 0.5
             },
             "pattern": {
              "fillmode": "overlay",
              "size": 10,
              "solidity": 0.2
             }
            },
            "type": "barpolar"
           }
          ],
          "carpet": [
           {
            "aaxis": {
             "endlinecolor": "#2a3f5f",
             "gridcolor": "white",
             "linecolor": "white",
             "minorgridcolor": "white",
             "startlinecolor": "#2a3f5f"
            },
            "baxis": {
             "endlinecolor": "#2a3f5f",
             "gridcolor": "white",
             "linecolor": "white",
             "minorgridcolor": "white",
             "startlinecolor": "#2a3f5f"
            },
            "type": "carpet"
           }
          ],
          "choropleth": [
           {
            "colorbar": {
             "outlinewidth": 0,
             "ticks": ""
            },
            "type": "choropleth"
           }
          ],
          "contour": [
           {
            "colorbar": {
             "outlinewidth": 0,
             "ticks": ""
            },
            "colorscale": [
             [
              0,
              "#0d0887"
             ],
             [
              0.1111111111111111,
              "#46039f"
             ],
             [
              0.2222222222222222,
              "#7201a8"
             ],
             [
              0.3333333333333333,
              "#9c179e"
             ],
             [
              0.4444444444444444,
              "#bd3786"
             ],
             [
              0.5555555555555556,
              "#d8576b"
             ],
             [
              0.6666666666666666,
              "#ed7953"
             ],
             [
              0.7777777777777778,
              "#fb9f3a"
             ],
             [
              0.8888888888888888,
              "#fdca26"
             ],
             [
              1,
              "#f0f921"
             ]
            ],
            "type": "contour"
           }
          ],
          "contourcarpet": [
           {
            "colorbar": {
             "outlinewidth": 0,
             "ticks": ""
            },
            "type": "contourcarpet"
           }
          ],
          "heatmap": [
           {
            "colorbar": {
             "outlinewidth": 0,
             "ticks": ""
            },
            "colorscale": [
             [
              0,
              "#0d0887"
             ],
             [
              0.1111111111111111,
              "#46039f"
             ],
             [
              0.2222222222222222,
              "#7201a8"
             ],
             [
              0.3333333333333333,
              "#9c179e"
             ],
             [
              0.4444444444444444,
              "#bd3786"
             ],
             [
              0.5555555555555556,
              "#d8576b"
             ],
             [
              0.6666666666666666,
              "#ed7953"
             ],
             [
              0.7777777777777778,
              "#fb9f3a"
             ],
             [
              0.8888888888888888,
              "#fdca26"
             ],
             [
              1,
              "#f0f921"
             ]
            ],
            "type": "heatmap"
           }
          ],
          "histogram": [
           {
            "marker": {
             "pattern": {
              "fillmode": "overlay",
              "size": 10,
              "solidity": 0.2
             }
            },
            "type": "histogram"
           }
          ],
          "histogram2d": [
           {
            "colorbar": {
             "outlinewidth": 0,
             "ticks": ""
            },
            "colorscale": [
             [
              0,
              "#0d0887"
             ],
             [
              0.1111111111111111,
              "#46039f"
             ],
             [
              0.2222222222222222,
              "#7201a8"
             ],
             [
              0.3333333333333333,
              "#9c179e"
             ],
             [
              0.4444444444444444,
              "#bd3786"
             ],
             [
              0.5555555555555556,
              "#d8576b"
             ],
             [
              0.6666666666666666,
              "#ed7953"
             ],
             [
              0.7777777777777778,
              "#fb9f3a"
             ],
             [
              0.8888888888888888,
              "#fdca26"
             ],
             [
              1,
              "#f0f921"
             ]
            ],
            "type": "histogram2d"
           }
          ],
          "histogram2dcontour": [
           {
            "colorbar": {
             "outlinewidth": 0,
             "ticks": ""
            },
            "colorscale": [
             [
              0,
              "#0d0887"
             ],
             [
              0.1111111111111111,
              "#46039f"
             ],
             [
              0.2222222222222222,
              "#7201a8"
             ],
             [
              0.3333333333333333,
              "#9c179e"
             ],
             [
              0.4444444444444444,
              "#bd3786"
             ],
             [
              0.5555555555555556,
              "#d8576b"
             ],
             [
              0.6666666666666666,
              "#ed7953"
             ],
             [
              0.7777777777777778,
              "#fb9f3a"
             ],
             [
              0.8888888888888888,
              "#fdca26"
             ],
             [
              1,
              "#f0f921"
             ]
            ],
            "type": "histogram2dcontour"
           }
          ],
          "mesh3d": [
           {
            "colorbar": {
             "outlinewidth": 0,
             "ticks": ""
            },
            "type": "mesh3d"
           }
          ],
          "parcoords": [
           {
            "line": {
             "colorbar": {
              "outlinewidth": 0,
              "ticks": ""
             }
            },
            "type": "parcoords"
           }
          ],
          "pie": [
           {
            "automargin": true,
            "type": "pie"
           }
          ],
          "scatter": [
           {
            "fillpattern": {
             "fillmode": "overlay",
             "size": 10,
             "solidity": 0.2
            },
            "type": "scatter"
           }
          ],
          "scatter3d": [
           {
            "line": {
             "colorbar": {
              "outlinewidth": 0,
              "ticks": ""
             }
            },
            "marker": {
             "colorbar": {
              "outlinewidth": 0,
              "ticks": ""
             }
            },
            "type": "scatter3d"
           }
          ],
          "scattercarpet": [
           {
            "marker": {
             "colorbar": {
              "outlinewidth": 0,
              "ticks": ""
             }
            },
            "type": "scattercarpet"
           }
          ],
          "scattergeo": [
           {
            "marker": {
             "colorbar": {
              "outlinewidth": 0,
              "ticks": ""
             }
            },
            "type": "scattergeo"
           }
          ],
          "scattergl": [
           {
            "marker": {
             "colorbar": {
              "outlinewidth": 0,
              "ticks": ""
             }
            },
            "type": "scattergl"
           }
          ],
          "scattermap": [
           {
            "marker": {
             "colorbar": {
              "outlinewidth": 0,
              "ticks": ""
             }
            },
            "type": "scattermap"
           }
          ],
          "scattermapbox": [
           {
            "marker": {
             "colorbar": {
              "outlinewidth": 0,
              "ticks": ""
             }
            },
            "type": "scattermapbox"
           }
          ],
          "scatterpolar": [
           {
            "marker": {
             "colorbar": {
              "outlinewidth": 0,
              "ticks": ""
             }
            },
            "type": "scatterpolar"
           }
          ],
          "scatterpolargl": [
           {
            "marker": {
             "colorbar": {
              "outlinewidth": 0,
              "ticks": ""
             }
            },
            "type": "scatterpolargl"
           }
          ],
          "scatterternary": [
           {
            "marker": {
             "colorbar": {
              "outlinewidth": 0,
              "ticks": ""
             }
            },
            "type": "scatterternary"
           }
          ],
          "surface": [
           {
            "colorbar": {
             "outlinewidth": 0,
             "ticks": ""
            },
            "colorscale": [
             [
              0,
              "#0d0887"
             ],
             [
              0.1111111111111111,
              "#46039f"
             ],
             [
              0.2222222222222222,
              "#7201a8"
             ],
             [
              0.3333333333333333,
              "#9c179e"
             ],
             [
              0.4444444444444444,
              "#bd3786"
             ],
             [
              0.5555555555555556,
              "#d8576b"
             ],
             [
              0.6666666666666666,
              "#ed7953"
             ],
             [
              0.7777777777777778,
              "#fb9f3a"
             ],
             [
              0.8888888888888888,
              "#fdca26"
             ],
             [
              1,
              "#f0f921"
             ]
            ],
            "type": "surface"
           }
          ],
          "table": [
           {
            "cells": {
             "fill": {
              "color": "#EBF0F8"
             },
             "line": {
              "color": "white"
             }
            },
            "header": {
             "fill": {
              "color": "#C8D4E3"
             },
             "line": {
              "color": "white"
             }
            },
            "type": "table"
           }
          ]
         },
         "layout": {
          "annotationdefaults": {
           "arrowcolor": "#2a3f5f",
           "arrowhead": 0,
           "arrowwidth": 1
          },
          "autotypenumbers": "strict",
          "coloraxis": {
           "colorbar": {
            "outlinewidth": 0,
            "ticks": ""
           }
          },
          "colorscale": {
           "diverging": [
            [
             0,
             "#8e0152"
            ],
            [
             0.1,
             "#c51b7d"
            ],
            [
             0.2,
             "#de77ae"
            ],
            [
             0.3,
             "#f1b6da"
            ],
            [
             0.4,
             "#fde0ef"
            ],
            [
             0.5,
             "#f7f7f7"
            ],
            [
             0.6,
             "#e6f5d0"
            ],
            [
             0.7,
             "#b8e186"
            ],
            [
             0.8,
             "#7fbc41"
            ],
            [
             0.9,
             "#4d9221"
            ],
            [
             1,
             "#276419"
            ]
           ],
           "sequential": [
            [
             0,
             "#0d0887"
            ],
            [
             0.1111111111111111,
             "#46039f"
            ],
            [
             0.2222222222222222,
             "#7201a8"
            ],
            [
             0.3333333333333333,
             "#9c179e"
            ],
            [
             0.4444444444444444,
             "#bd3786"
            ],
            [
             0.5555555555555556,
             "#d8576b"
            ],
            [
             0.6666666666666666,
             "#ed7953"
            ],
            [
             0.7777777777777778,
             "#fb9f3a"
            ],
            [
             0.8888888888888888,
             "#fdca26"
            ],
            [
             1,
             "#f0f921"
            ]
           ],
           "sequentialminus": [
            [
             0,
             "#0d0887"
            ],
            [
             0.1111111111111111,
             "#46039f"
            ],
            [
             0.2222222222222222,
             "#7201a8"
            ],
            [
             0.3333333333333333,
             "#9c179e"
            ],
            [
             0.4444444444444444,
             "#bd3786"
            ],
            [
             0.5555555555555556,
             "#d8576b"
            ],
            [
             0.6666666666666666,
             "#ed7953"
            ],
            [
             0.7777777777777778,
             "#fb9f3a"
            ],
            [
             0.8888888888888888,
             "#fdca26"
            ],
            [
             1,
             "#f0f921"
            ]
           ]
          },
          "colorway": [
           "#636efa",
           "#EF553B",
           "#00cc96",
           "#ab63fa",
           "#FFA15A",
           "#19d3f3",
           "#FF6692",
           "#B6E880",
           "#FF97FF",
           "#FECB52"
          ],
          "font": {
           "color": "#2a3f5f"
          },
          "geo": {
           "bgcolor": "white",
           "lakecolor": "white",
           "landcolor": "#E5ECF6",
           "showlakes": true,
           "showland": true,
           "subunitcolor": "white"
          },
          "hoverlabel": {
           "align": "left"
          },
          "hovermode": "closest",
          "mapbox": {
           "style": "light"
          },
          "paper_bgcolor": "white",
          "plot_bgcolor": "#E5ECF6",
          "polar": {
           "angularaxis": {
            "gridcolor": "white",
            "linecolor": "white",
            "ticks": ""
           },
           "bgcolor": "#E5ECF6",
           "radialaxis": {
            "gridcolor": "white",
            "linecolor": "white",
            "ticks": ""
           }
          },
          "scene": {
           "xaxis": {
            "backgroundcolor": "#E5ECF6",
            "gridcolor": "white",
            "gridwidth": 2,
            "linecolor": "white",
            "showbackground": true,
            "ticks": "",
            "zerolinecolor": "white"
           },
           "yaxis": {
            "backgroundcolor": "#E5ECF6",
            "gridcolor": "white",
            "gridwidth": 2,
            "linecolor": "white",
            "showbackground": true,
            "ticks": "",
            "zerolinecolor": "white"
           },
           "zaxis": {
            "backgroundcolor": "#E5ECF6",
            "gridcolor": "white",
            "gridwidth": 2,
            "linecolor": "white",
            "showbackground": true,
            "ticks": "",
            "zerolinecolor": "white"
           }
          },
          "shapedefaults": {
           "line": {
            "color": "#2a3f5f"
           }
          },
          "ternary": {
           "aaxis": {
            "gridcolor": "white",
            "linecolor": "white",
            "ticks": ""
           },
           "baxis": {
            "gridcolor": "white",
            "linecolor": "white",
            "ticks": ""
           },
           "bgcolor": "#E5ECF6",
           "caxis": {
            "gridcolor": "white",
            "linecolor": "white",
            "ticks": ""
           }
          },
          "title": {
           "x": 0.05
          },
          "xaxis": {
           "automargin": true,
           "gridcolor": "white",
           "linecolor": "white",
           "ticks": "",
           "title": {
            "standoff": 15
           },
           "zerolinecolor": "white",
           "zerolinewidth": 2
          },
          "yaxis": {
           "automargin": true,
           "gridcolor": "white",
           "linecolor": "white",
           "ticks": "",
           "title": {
            "standoff": 15
           },
           "zerolinecolor": "white",
           "zerolinewidth": 2
          }
         }
        },
        "title": {
         "text": "t-SNE Projection: Original vs. Steered Embeddings | Layer: 11 | Feature: War | Steering: 2"
        },
        "width": 900,
        "xaxis": {
         "anchor": "y",
         "domain": [
          0,
          1
         ],
         "title": {
          "text": "t-SNE 1"
         }
        },
        "yaxis": {
         "anchor": "x",
         "domain": [
          0,
          1
         ],
         "title": {
          "text": "t-SNE 2"
         }
        }
       }
      }
     },
     "metadata": {},
     "output_type": "display_data"
    }
   ],
   "source": [
    "plot_tsne_fixed_kmeans(\n",
    "    original_embeddings,\n",
    "    steered_embeddings,\n",
    "    all_texts_data,\n",
    "    info_string,\n",
    "    text_range=(0,100),\n",
    "    n_clusters=5,\n",
    "    Write=False)"
   ]
  },
  {
   "cell_type": "markdown",
   "metadata": {
    "id": "hV_hkuKOrPul"
   },
   "source": [
    "***\n",
    "\n",
    "## Plot with steering vector as x-axis"
   ]
  },
  {
   "cell_type": "markdown",
   "metadata": {
    "id": "GpjAmsjVrPul"
   },
   "source": [
    "Instead of using dimentionality reduction techniques, now the original and steered embeddings are plotted based on their distance or similarity to the steering vector created from the given feature.  \n",
    "\n",
    "In this first plot, `plot_distance_projection`, the y-axis is simply the indexation of the data, whereas the **x-axis is the distance to the steering vector** (feature embedding)."
   ]
  },
  {
   "cell_type": "markdown",
   "metadata": {
    "id": "zwLfWmgfrPum"
   },
   "source": [
    "- `model`, `encoded_input`, `original_embeddings` and `all_texts_data` are imported in the [second cell](#importing-python-functions-and-data) of this notebook using the function *import_embedding_data_from_pkl*, however, they can also be created and input manually\n",
    "\n",
    "- `type` refers to the method used to calculate the distance or similarity between the embeddings and the steering vector, they can be chosen from:\n",
    "    - `\"l1\"` = Manhattan distance - measures the sum of absolute distances between components  \n",
    "    - `\"l2\"` = Euclidian distance - measures the straight line distance between points\n",
    "    - `\"cosine\"` = Cosine similarity - measures the cosine angle between two vectors (1 = same direction, -1 = opposite direction)  \n",
    " <br>\n",
    "\n",
    "- `normalize` normalizes the steered embeddings (difference is only visible when using l1 or l2)\n",
    "\n",
    "- `print_difference` prints the info for the most and least changed data points\n",
    "\n",
    "- `print_average` prints the average distance between the steered embeddings and the steering vector (this can be used to do comparisons to the convergence plots)\n",
    "\n",
    "- `Write=True` creates a .html file with the plot, including the hover data"
   ]
  },
  {
   "cell_type": "code",
   "execution_count": 11,
   "metadata": {
    "id": "8VK7A2rrrPum",
    "outputId": "91ae5394-6237-4d16-e262-b4de692ebf12"
   },
   "outputs": [
    {
     "name": "stdout",
     "output_type": "stream",
     "text": [
      "Steering vectors imported from steering_vector.pkl\n",
      "Available steering vectors: 'Love' (layers: [11]), 'War' (layers: [10, 11]), 'Norway' (layers: [11])\n",
      "Returning steering vector for 'Norway' layer 11\n"
     ]
    },
    {
     "data": {
      "application/vnd.plotly.v1+json": {
       "config": {
        "plotlyServerURL": "https://plot.ly"
       },
       "data": [
        {
         "customdata": [
          [
           "Original | The Shawshank Redemption | Drama",
           "Drama"
          ],
          [
           "Original | The Godfather: Part II | Drama",
           "Drama"
          ],
          [
           "Original | 12 Angry Men | Drama",
           "Drama"
          ],
          [
           "Original | Fight Club | Drama",
           "Drama"
          ],
          [
           "Original | One Flew Over the Cuckoo's Nest | Drama",
           "Drama"
          ],
          [
           "Original | Gisaengchung | Drama",
           "Drama"
          ],
          [
           "Original | Soorarai Pottru | Drama",
           "Drama"
          ],
          [
           "Original | Gladiator | Drama",
           "Drama"
          ],
          [
           "Original | American History X | Drama",
           "Drama"
          ],
          [
           "Original | The Lion King | Drama",
           "Drama"
          ],
          [
           "Original | Modern Times | Drama",
           "Drama"
          ],
          [
           "Original | Capharnaüm | Drama",
           "Drama"
          ],
          [
           "Original | Kimi no na wa. | Drama",
           "Drama"
          ],
          [
           "Original | Avengers: Endgame | Drama",
           "Drama"
          ],
          [
           "Original | Taare Zameen Par | Drama",
           "Drama"
          ],
          [
           "Original | Anand | Drama",
           "Drama"
          ],
          [
           "Original | Tumbbad | Drama",
           "Drama"
          ],
          [
           "Original | Jagten | Drama",
           "Drama"
          ],
          [
           "Original | Jodaeiye Nader az Simin | Drama",
           "Drama"
          ],
          [
           "Original | Miracle in cell NO.7 | Drama",
           "Drama"
          ],
          [
           "Original | Requiem for a Dream | Drama",
           "Drama"
          ],
          [
           "Original | American Beauty | Drama",
           "Drama"
          ]
         ],
         "hovertemplate": "Cluster=%{customdata[1]}<br>Type=Original<br>Distance to Norway=%{x}<br>Movie Index=%{y}<br>Title=%{customdata[0]}<extra></extra>",
         "legendgroup": "Drama, Original",
         "marker": {
          "color": "#636efa",
          "symbol": "circle"
         },
         "mode": "markers",
         "name": "Drama, Original",
         "opacity": 0.3,
         "orientation": "v",
         "showlegend": false,
         "type": "scatter",
         "x": {
          "bdata": "AAAAYMTZ9T8AAAAgU1f3PwAAAIBAHvc/AAAAYFFT9z8AAABAnOb3PwAAAKDihfc/AAAAoG4q9z8AAABgQBL3PwAAAGCKlfU/AAAAYHld9z8AAADgUhv3PwAAACA3sPY/AAAAABOZ9j8AAADAb/73PwAAAEDeA/Y/AAAA4H919j8AAACgsVn2PwAAAIDkQ/Y/AAAAYDYF9j8AAABg06z2PwAAAACSGPc/AAAAAEaT9j8=",
          "dtype": "f8"
         },
         "xaxis": "x",
         "y": {
          "bdata": "AAMECRETFCcoKzM1ODtBTFVYWVthYg==",
          "dtype": "i1"
         },
         "yaxis": "y"
        },
        {
         "customdata": [
          [
           "Steered | The Shawshank Redemption | Drama",
           "Drama"
          ],
          [
           "Steered | The Godfather: Part II | Drama",
           "Drama"
          ],
          [
           "Steered | 12 Angry Men | Drama",
           "Drama"
          ],
          [
           "Steered | Fight Club | Drama",
           "Drama"
          ],
          [
           "Steered | One Flew Over the Cuckoo's Nest | Drama",
           "Drama"
          ],
          [
           "Steered | Gisaengchung | Drama",
           "Drama"
          ],
          [
           "Steered | Soorarai Pottru | Drama",
           "Drama"
          ],
          [
           "Steered | Gladiator | Drama",
           "Drama"
          ],
          [
           "Steered | American History X | Drama",
           "Drama"
          ],
          [
           "Steered | The Lion King | Drama",
           "Drama"
          ],
          [
           "Steered | Modern Times | Drama",
           "Drama"
          ],
          [
           "Steered | Capharnaüm | Drama",
           "Drama"
          ],
          [
           "Steered | Kimi no na wa. | Drama",
           "Drama"
          ],
          [
           "Steered | Avengers: Endgame | Drama",
           "Drama"
          ],
          [
           "Steered | Taare Zameen Par | Drama",
           "Drama"
          ],
          [
           "Steered | Anand | Drama",
           "Drama"
          ],
          [
           "Steered | Tumbbad | Drama",
           "Drama"
          ],
          [
           "Steered | Jagten | Drama",
           "Drama"
          ],
          [
           "Steered | Jodaeiye Nader az Simin | Drama",
           "Drama"
          ],
          [
           "Steered | Miracle in cell NO.7 | Drama",
           "Drama"
          ],
          [
           "Steered | Requiem for a Dream | Drama",
           "Drama"
          ],
          [
           "Steered | American Beauty | Drama",
           "Drama"
          ]
         ],
         "hovertemplate": "Cluster=%{customdata[1]}<br>Type=Steered<br>Distance to Norway=%{x}<br>Movie Index=%{y}<br>Title=%{customdata[0]}<extra></extra>",
         "legendgroup": "Drama, Steered",
         "marker": {
          "color": "#636efa",
          "symbol": "diamond"
         },
         "mode": "markers",
         "name": "Drama, Steered",
         "opacity": 1,
         "orientation": "v",
         "showlegend": true,
         "type": "scatter",
         "x": {
          "bdata": "AAAAIHJk2j8AAADg1tXZPwAAAIC0Ttw/AAAAwPbl1j8AAADgEKHbPwAAAMAdcdw/AAAA4BDQ1j8AAACAAL7dPwAAAKDaONg/AAAAQHw33T8AAADAUmLcPwAAACBWQto/AAAAgCXs2j8AAACgpLnYPwAAAAAQFdc/AAAAAGhk2T8AAAAg9I/bPwAAAABvG9Q/AAAAgFub1j8AAABg12fYPwAAAKD7C94/AAAAYOJH2D8=",
          "dtype": "f8"
         },
         "xaxis": "x",
         "y": {
          "bdata": "AAMECRETFCcoKzM1ODtBTFVYWVthYg==",
          "dtype": "i1"
         },
         "yaxis": "y"
        },
        {
         "customdata": [
          [
           "Original | The Godfather | Crime",
           "Crime"
          ],
          [
           "Original | The Dark Knight | Crime",
           "Crime"
          ],
          [
           "Original | Pulp Fiction | Crime",
           "Crime"
          ],
          [
           "Original | Cidade de Deus | Crime",
           "Crime"
          ],
          [
           "Original | The Green Mile | Crime",
           "Crime"
          ],
          [
           "Original | Se7en | Crime",
           "Crime"
          ],
          [
           "Original | The Silence of the Lambs | Crime",
           "Crime"
          ],
          [
           "Original | Joker | Crime",
           "Crime"
          ],
          [
           "Original | The Departed | Crime",
           "Crime"
          ],
          [
           "Original | The Usual Suspects | Crime",
           "Crime"
          ],
          [
           "Original | Léon | Crime",
           "Crime"
          ],
          [
           "Original | Vikram Vedha | Crime",
           "Crime"
          ],
          [
           "Original | Once Upon a Time in America | Crime",
           "Crime"
          ],
          [
           "Original | Tengoku to jigoku | Crime",
           "Crime"
          ],
          [
           "Original | Witness for the Prosecution | Crime",
           "Crime"
          ],
          [
           "Original | Andhadhun | Crime",
           "Crime"
          ],
          [
           "Original | Drishyam | Crime",
           "Crime"
          ],
          [
           "Original | Snatch | Crime",
           "Crime"
          ]
         ],
         "hovertemplate": "Cluster=%{customdata[1]}<br>Type=Original<br>Distance to Norway=%{x}<br>Movie Index=%{y}<br>Title=%{customdata[0]}<extra></extra>",
         "legendgroup": "Crime, Original",
         "marker": {
          "color": "#EF553B",
          "symbol": "circle"
         },
         "mode": "markers",
         "name": "Crime, Original",
         "opacity": 0.3,
         "orientation": "v",
         "showlegend": false,
         "type": "scatter",
         "x": {
          "bdata": "AAAAwIqL9z8AAADAHQ74PwAAAGBdL/c/AAAAYJ/r9z8AAABgP9b2PwAAAMDsavY/AAAAwKE99z8AAAAgUen3PwAAAACb4/Y/AAAAoO9d9j8AAABAOa/2PwAAAOBrSfc/AAAAIIor9j8AAAAAMp32PwAAAMAenfU/AAAAYDJR9T8AAACAA/H2PwAAAEDShvY/",
          "dtype": "f8"
         },
         "xaxis": "x",
         "y": {
          "bdata": "AQIGFhkbHCElKSo3R01PVldg",
          "dtype": "i1"
         },
         "yaxis": "y"
        },
        {
         "customdata": [
          [
           "Steered | The Godfather | Crime",
           "Crime"
          ],
          [
           "Steered | The Dark Knight | Crime",
           "Crime"
          ],
          [
           "Steered | Pulp Fiction | Crime",
           "Crime"
          ],
          [
           "Steered | Cidade de Deus | Crime",
           "Crime"
          ],
          [
           "Steered | The Green Mile | Crime",
           "Crime"
          ],
          [
           "Steered | Se7en | Crime",
           "Crime"
          ],
          [
           "Steered | The Silence of the Lambs | Crime",
           "Crime"
          ],
          [
           "Steered | Joker | Crime",
           "Crime"
          ],
          [
           "Steered | The Departed | Crime",
           "Crime"
          ],
          [
           "Steered | The Usual Suspects | Crime",
           "Crime"
          ],
          [
           "Steered | Léon | Crime",
           "Crime"
          ],
          [
           "Steered | Vikram Vedha | Crime",
           "Crime"
          ],
          [
           "Steered | Once Upon a Time in America | Crime",
           "Crime"
          ],
          [
           "Steered | Tengoku to jigoku | Crime",
           "Crime"
          ],
          [
           "Steered | Witness for the Prosecution | Crime",
           "Crime"
          ],
          [
           "Steered | Andhadhun | Crime",
           "Crime"
          ],
          [
           "Steered | Drishyam | Crime",
           "Crime"
          ],
          [
           "Steered | Snatch | Crime",
           "Crime"
          ]
         ],
         "hovertemplate": "Cluster=%{customdata[1]}<br>Type=Steered<br>Distance to Norway=%{x}<br>Movie Index=%{y}<br>Title=%{customdata[0]}<extra></extra>",
         "legendgroup": "Crime, Steered",
         "marker": {
          "color": "#EF553B",
          "symbol": "diamond"
         },
         "mode": "markers",
         "name": "Crime, Steered",
         "opacity": 1,
         "orientation": "v",
         "showlegend": true,
         "type": "scatter",
         "x": {
          "bdata": "AAAAAKbd3z8AAABgQeHYPwAAAOCEbdk/AAAAIOjF2j8AAACg9XLZPwAAACBqG90/AAAAAKSQ2D8AAACgOLPWPwAAAKD2kNo/AAAA4DbD1T8AAAAg1EzXPwAAAAAR39k/AAAAgJLv1z8AAABAoujaPwAAAGCeado/AAAAwHQJ2D8AAACg5/3dPwAAAKBmWtc/",
          "dtype": "f8"
         },
         "xaxis": "x",
         "y": {
          "bdata": "AQIGFhkbHCElKSo3R01PVldg",
          "dtype": "i1"
         },
         "yaxis": "y"
        },
        {
         "customdata": [
          [
           "Original | The Lord of the Rings: The Return of the King | Adventure",
           "Adventure"
          ],
          [
           "Original | The Lord of the Rings: The Fellowship of the Ring | Adventure",
           "Adventure"
          ],
          [
           "Original | The Lord of the Rings: The Two Towers | Adventure",
           "Adventure"
          ],
          [
           "Original | Star Wars: Episode V - The Empire Strikes Back | Adventure",
           "Adventure"
          ],
          [
           "Original | Sen to Chihiro no kamikakushi | Adventure",
           "Adventure"
          ],
          [
           "Original | Shichinin no samurai | Adventure",
           "Adventure"
          ],
          [
           "Original | Spider-Man: Into the Spider-Verse | Adventure",
           "Adventure"
          ],
          [
           "Original | Avengers: Infinity War | Adventure",
           "Adventure"
          ],
          [
           "Original | The Dark Knight Rises | Adventure",
           "Adventure"
          ],
          [
           "Original | WALL·E | Adventure",
           "Adventure"
          ],
          [
           "Original | Mononoke-hime | Adventure",
           "Adventure"
          ],
          [
           "Original | Raiders of the Lost Ark | Adventure",
           "Adventure"
          ]
         ],
         "hovertemplate": "Cluster=%{customdata[1]}<br>Type=Original<br>Distance to Norway=%{x}<br>Movie Index=%{y}<br>Title=%{customdata[0]}<extra></extra>",
         "legendgroup": "Adventure, Original",
         "marker": {
          "color": "#00cc96",
          "symbol": "circle"
         },
         "mode": "markers",
         "name": "Adventure, Original",
         "opacity": 0.3,
         "orientation": "v",
         "showlegend": false,
         "type": "scatter",
         "x": {
          "bdata": "AAAAoA6V9T8AAAAgWQH1PwAAACCAAPY/AAAAgNNw+D8AAABAi0P2PwAAAIDfWfY/AAAAYN3R9z8AAABAnb/3PwAAACAFj/c/AAAAwHq19z8AAAAAfeL1PwAAAADK4/U/",
          "dtype": "f8"
         },
         "xaxis": "x",
         "y": {
          "bdata": "BQoNEBcfOjw/QkZI",
          "dtype": "i1"
         },
         "yaxis": "y"
        },
        {
         "customdata": [
          [
           "Steered | The Lord of the Rings: The Return of the King | Adventure",
           "Adventure"
          ],
          [
           "Steered | The Lord of the Rings: The Fellowship of the Ring | Adventure",
           "Adventure"
          ],
          [
           "Steered | The Lord of the Rings: The Two Towers | Adventure",
           "Adventure"
          ],
          [
           "Steered | Star Wars: Episode V - The Empire Strikes Back | Adventure",
           "Adventure"
          ],
          [
           "Steered | Sen to Chihiro no kamikakushi | Adventure",
           "Adventure"
          ],
          [
           "Steered | Shichinin no samurai | Adventure",
           "Adventure"
          ],
          [
           "Steered | Spider-Man: Into the Spider-Verse | Adventure",
           "Adventure"
          ],
          [
           "Steered | Avengers: Infinity War | Adventure",
           "Adventure"
          ],
          [
           "Steered | The Dark Knight Rises | Adventure",
           "Adventure"
          ],
          [
           "Steered | WALL·E | Adventure",
           "Adventure"
          ],
          [
           "Steered | Mononoke-hime | Adventure",
           "Adventure"
          ],
          [
           "Steered | Raiders of the Lost Ark | Adventure",
           "Adventure"
          ]
         ],
         "hovertemplate": "Cluster=%{customdata[1]}<br>Type=Steered<br>Distance to Norway=%{x}<br>Movie Index=%{y}<br>Title=%{customdata[0]}<extra></extra>",
         "legendgroup": "Adventure, Steered",
         "marker": {
          "color": "#00cc96",
          "symbol": "diamond"
         },
         "mode": "markers",
         "name": "Adventure, Steered",
         "opacity": 1,
         "orientation": "v",
         "showlegend": true,
         "type": "scatter",
         "x": {
          "bdata": "AAAAYIQh2T8AAACA2CPZPwAAAOC0Y9c/AAAAIIa82D8AAACAzafXPwAAAGDZvN8/AAAAIEEh3D8AAAAAe8PbPwAAAAA4oNo/AAAAIEFO2j8AAADAGCTXPwAAAMCF+dg/",
          "dtype": "f8"
         },
         "xaxis": "x",
         "y": {
          "bdata": "BQoNEBcfOjw/QkZI",
          "dtype": "i1"
         },
         "yaxis": "y"
        },
        {
         "customdata": [
          [
           "Original | Schindler's List | History",
           "History"
          ]
         ],
         "hovertemplate": "Cluster=%{customdata[1]}<br>Type=Original<br>Distance to Norway=%{x}<br>Movie Index=%{y}<br>Title=%{customdata[0]}<extra></extra>",
         "legendgroup": "History, Original",
         "marker": {
          "color": "#ab63fa",
          "symbol": "circle"
         },
         "mode": "markers",
         "name": "History, Original",
         "opacity": 0.3,
         "orientation": "v",
         "showlegend": false,
         "type": "scatter",
         "x": {
          "bdata": "AAAA4BYC9D8=",
          "dtype": "f8"
         },
         "xaxis": "x",
         "y": {
          "bdata": "Bw==",
          "dtype": "i1"
         },
         "yaxis": "y"
        },
        {
         "customdata": [
          [
           "Steered | Schindler's List | History",
           "History"
          ]
         ],
         "hovertemplate": "Cluster=%{customdata[1]}<br>Type=Steered<br>Distance to Norway=%{x}<br>Movie Index=%{y}<br>Title=%{customdata[0]}<extra></extra>",
         "legendgroup": "History, Steered",
         "marker": {
          "color": "#ab63fa",
          "symbol": "diamond"
         },
         "mode": "markers",
         "name": "History, Steered",
         "opacity": 1,
         "orientation": "v",
         "showlegend": true,
         "type": "scatter",
         "x": {
          "bdata": "AAAAgGxJ2D8=",
          "dtype": "f8"
         },
         "xaxis": "x",
         "y": {
          "bdata": "Bw==",
          "dtype": "i1"
         },
         "yaxis": "y"
        },
        {
         "customdata": [
          [
           "Original | Inception | Sci-Fi",
           "Sci-Fi"
          ],
          [
           "Original | The Matrix | Sci-Fi",
           "Sci-Fi"
          ],
          [
           "Original | Interstellar | Sci-Fi",
           "Sci-Fi"
          ],
          [
           "Original | Terminator 2: Judgment Day | Sci-Fi",
           "Sci-Fi"
          ],
          [
           "Original | Back to the Future | Sci-Fi",
           "Sci-Fi"
          ],
          [
           "Original | Alien | Sci-Fi",
           "Sci-Fi"
          ]
         ],
         "hovertemplate": "Cluster=%{customdata[1]}<br>Type=Original<br>Distance to Norway=%{x}<br>Movie Index=%{y}<br>Title=%{customdata[0]}<extra></extra>",
         "legendgroup": "Sci-Fi, Original",
         "marker": {
          "color": "#FFA15A",
          "symbol": "circle"
         },
         "mode": "markers",
         "name": "Sci-Fi, Original",
         "opacity": 0.3,
         "orientation": "v",
         "showlegend": false,
         "type": "scatter",
         "x": {
          "bdata": "AAAAgLVl9z8AAAAAMMr2PwAAAID6ovU/AAAAQF059j8AAADgRwr2PwAAAMC7+/Y/",
          "dtype": "f8"
         },
         "xaxis": "x",
         "y": {
          "bdata": "CA4VLC9L",
          "dtype": "i1"
         },
         "yaxis": "y"
        },
        {
         "customdata": [
          [
           "Steered | Inception | Sci-Fi",
           "Sci-Fi"
          ],
          [
           "Steered | The Matrix | Sci-Fi",
           "Sci-Fi"
          ],
          [
           "Steered | Interstellar | Sci-Fi",
           "Sci-Fi"
          ],
          [
           "Steered | Terminator 2: Judgment Day | Sci-Fi",
           "Sci-Fi"
          ],
          [
           "Steered | Back to the Future | Sci-Fi",
           "Sci-Fi"
          ],
          [
           "Steered | Alien | Sci-Fi",
           "Sci-Fi"
          ]
         ],
         "hovertemplate": "Cluster=%{customdata[1]}<br>Type=Steered<br>Distance to Norway=%{x}<br>Movie Index=%{y}<br>Title=%{customdata[0]}<extra></extra>",
         "legendgroup": "Sci-Fi, Steered",
         "marker": {
          "color": "#FFA15A",
          "symbol": "diamond"
         },
         "mode": "markers",
         "name": "Sci-Fi, Steered",
         "opacity": 1,
         "orientation": "v",
         "showlegend": true,
         "type": "scatter",
         "x": {
          "bdata": "AAAA4A++2T8AAABgHbHZPwAAAADZWd4/AAAAgJUQ2z8AAABgFe/XPwAAAKBW3Nc/",
          "dtype": "f8"
         },
         "xaxis": "x",
         "y": {
          "bdata": "CA4VLC9L",
          "dtype": "i1"
         },
         "yaxis": "y"
        },
        {
         "customdata": [
          [
           "Original | Forrest Gump | Romance",
           "Romance"
          ],
          [
           "Original | Nuovo Cinema Paradiso | Romance",
           "Romance"
          ],
          [
           "Original | Casablanca | Romance",
           "Romance"
          ],
          [
           "Original | Eternal Sunshine of the Spotless Mind | Romance",
           "Romance"
          ],
          [
           "Original | Amélie | Romance",
           "Romance"
          ],
          [
           "Original | Good Will Hunting | Romance",
           "Romance"
          ]
         ],
         "hovertemplate": "Cluster=%{customdata[1]}<br>Type=Original<br>Distance to Norway=%{x}<br>Movie Index=%{y}<br>Title=%{customdata[0]}<extra></extra>",
         "legendgroup": "Romance, Original",
         "marker": {
          "color": "#19d3f3",
          "symbol": "circle"
         },
         "mode": "markers",
         "name": "Romance, Original",
         "opacity": 0.3,
         "orientation": "v",
         "showlegend": false,
         "type": "scatter",
         "x": {
          "bdata": "AAAAwN+u9j8AAADAW6X2PwAAAMD+EPY/AAAAoKgE9z8AAADAYKf2PwAAAEAioPU/",
          "dtype": "f8"
         },
         "xaxis": "x",
         "y": {
          "bdata": "Cy0yXl9j",
          "dtype": "i1"
         },
         "yaxis": "y"
        },
        {
         "customdata": [
          [
           "Steered | Forrest Gump | Romance",
           "Romance"
          ],
          [
           "Steered | Nuovo Cinema Paradiso | Romance",
           "Romance"
          ],
          [
           "Steered | Casablanca | Romance",
           "Romance"
          ],
          [
           "Steered | Eternal Sunshine of the Spotless Mind | Romance",
           "Romance"
          ],
          [
           "Steered | Amélie | Romance",
           "Romance"
          ],
          [
           "Steered | Good Will Hunting | Romance",
           "Romance"
          ]
         ],
         "hovertemplate": "Cluster=%{customdata[1]}<br>Type=Steered<br>Distance to Norway=%{x}<br>Movie Index=%{y}<br>Title=%{customdata[0]}<extra></extra>",
         "legendgroup": "Romance, Steered",
         "marker": {
          "color": "#19d3f3",
          "symbol": "diamond"
         },
         "mode": "markers",
         "name": "Romance, Steered",
         "opacity": 1,
         "orientation": "v",
         "showlegend": true,
         "type": "scatter",
         "x": {
          "bdata": "AAAA4GSu1j8AAAAAwubYPwAAAAC5Y9Y/AAAAwOqU3D8AAACAHyjYPwAAAABoYNU/",
          "dtype": "f8"
         },
         "xaxis": "x",
         "y": {
          "bdata": "Cy0yXl9j",
          "dtype": "i1"
         },
         "yaxis": "y"
        },
        {
         "customdata": [
          [
           "Original | Il buono, il brutto, il cattivo | Western",
           "Western"
          ],
          [
           "Original | Once Upon a Time in the West | Western",
           "Western"
          ],
          [
           "Original | Django Unchained | Western",
           "Western"
          ]
         ],
         "hovertemplate": "Cluster=%{customdata[1]}<br>Type=Original<br>Distance to Norway=%{x}<br>Movie Index=%{y}<br>Title=%{customdata[0]}<extra></extra>",
         "legendgroup": "Western, Original",
         "marker": {
          "color": "#FF6692",
          "symbol": "circle"
         },
         "mode": "markers",
         "name": "Western, Original",
         "opacity": 0.3,
         "orientation": "v",
         "showlegend": false,
         "type": "scatter",
         "x": {
          "bdata": "AAAAYGQE9j8AAACA1Tv2PwAAAODeVfU/",
          "dtype": "f8"
         },
         "xaxis": "x",
         "y": {
          "bdata": "DDA+",
          "dtype": "i1"
         },
         "yaxis": "y"
        },
        {
         "customdata": [
          [
           "Steered | Il buono, il brutto, il cattivo | Western",
           "Western"
          ],
          [
           "Steered | Once Upon a Time in the West | Western",
           "Western"
          ],
          [
           "Steered | Django Unchained | Western",
           "Western"
          ]
         ],
         "hovertemplate": "Cluster=%{customdata[1]}<br>Type=Steered<br>Distance to Norway=%{x}<br>Movie Index=%{y}<br>Title=%{customdata[0]}<extra></extra>",
         "legendgroup": "Western, Steered",
         "marker": {
          "color": "#FF6692",
          "symbol": "diamond"
         },
         "mode": "markers",
         "name": "Western, Steered",
         "opacity": 1,
         "orientation": "v",
         "showlegend": true,
         "type": "scatter",
         "x": {
          "bdata": "AAAAIH/22D8AAABAO/XZPwAAAABRLds/",
          "dtype": "f8"
         },
         "xaxis": "x",
         "y": {
          "bdata": "DDA+",
          "dtype": "i1"
         },
         "yaxis": "y"
        },
        {
         "customdata": [
          [
           "Original | Goodfellas | Biography",
           "Biography"
          ],
          [
           "Original | Hamilton | Biography",
           "Biography"
          ],
          [
           "Original | The Intouchables | Biography",
           "Biography"
          ],
          [
           "Original | Ayla: The Daughter of War | Biography",
           "Biography"
          ],
          [
           "Original | Dangal | Biography",
           "Biography"
          ]
         ],
         "hovertemplate": "Cluster=%{customdata[1]}<br>Type=Original<br>Distance to Norway=%{x}<br>Movie Index=%{y}<br>Title=%{customdata[0]}<extra></extra>",
         "legendgroup": "Biography, Original",
         "marker": {
          "color": "#B6E880",
          "symbol": "circle"
         },
         "mode": "markers",
         "name": "Biography, Original",
         "opacity": 0.3,
         "orientation": "v",
         "showlegend": false,
         "type": "scatter",
         "x": {
          "bdata": "AAAAwEix9j8AAACACqn1PwAAAMDgaPc/AAAAoIkL9j8AAAAAan/3Pw==",
          "dtype": "f8"
         },
         "xaxis": "x",
         "y": {
          "bdata": "DxIjNjk=",
          "dtype": "i1"
         },
         "yaxis": "y"
        },
        {
         "customdata": [
          [
           "Steered | Goodfellas | Biography",
           "Biography"
          ],
          [
           "Steered | Hamilton | Biography",
           "Biography"
          ],
          [
           "Steered | The Intouchables | Biography",
           "Biography"
          ],
          [
           "Steered | Ayla: The Daughter of War | Biography",
           "Biography"
          ],
          [
           "Steered | Dangal | Biography",
           "Biography"
          ]
         ],
         "hovertemplate": "Cluster=%{customdata[1]}<br>Type=Steered<br>Distance to Norway=%{x}<br>Movie Index=%{y}<br>Title=%{customdata[0]}<extra></extra>",
         "legendgroup": "Biography, Steered",
         "marker": {
          "color": "#B6E880",
          "symbol": "diamond"
         },
         "mode": "markers",
         "name": "Biography, Steered",
         "opacity": 1,
         "orientation": "v",
         "showlegend": true,
         "type": "scatter",
         "x": {
          "bdata": "AAAA4Do32z8AAADgeKbYPwAAACB4W9g/AAAAIN//1D8AAABAus/ZPw==",
          "dtype": "f8"
         },
         "xaxis": "x",
         "y": {
          "bdata": "DxIjNjk=",
          "dtype": "i1"
         },
         "yaxis": "y"
        },
        {
         "customdata": [
          [
           "Original | Saving Private Ryan | War",
           "War"
          ],
          [
           "Original | Hotaru no haka | War",
           "War"
          ],
          [
           "Original | Apocalypse Now | War",
           "War"
          ],
          [
           "Original | Paths of Glory | War",
           "War"
          ],
          [
           "Original | The Great Dictator | War",
           "War"
          ],
          [
           "Original | 1917 | War",
           "War"
          ],
          [
           "Original | Inglourious Basterds | War",
           "War"
          ]
         ],
         "hovertemplate": "Cluster=%{customdata[1]}<br>Type=Original<br>Distance to Norway=%{x}<br>Movie Index=%{y}<br>Title=%{customdata[0]}<extra></extra>",
         "legendgroup": "War, Original",
         "marker": {
          "color": "#FF97FF",
          "symbol": "circle"
         },
         "mode": "markers",
         "name": "War, Original",
         "opacity": 0.3,
         "orientation": "v",
         "showlegend": false,
         "type": "scatter",
         "x": {
          "bdata": "AAAAoCv59j8AAADgnMP1PwAAAIC8dPc/AAAA4Hdf9j8AAABgbT/2PwAAAICAXvY/AAAAwP2U9T8=",
          "dtype": "f8"
         },
         "xaxis": "x",
         "y": {
          "bdata": "GC5KUFNUXQ==",
          "dtype": "i1"
         },
         "yaxis": "y"
        },
        {
         "customdata": [
          [
           "Steered | Saving Private Ryan | War",
           "War"
          ],
          [
           "Steered | Hotaru no haka | War",
           "War"
          ],
          [
           "Steered | Apocalypse Now | War",
           "War"
          ],
          [
           "Steered | Paths of Glory | War",
           "War"
          ],
          [
           "Steered | The Great Dictator | War",
           "War"
          ],
          [
           "Steered | 1917 | War",
           "War"
          ],
          [
           "Steered | Inglourious Basterds | War",
           "War"
          ]
         ],
         "hovertemplate": "Cluster=%{customdata[1]}<br>Type=Steered<br>Distance to Norway=%{x}<br>Movie Index=%{y}<br>Title=%{customdata[0]}<extra></extra>",
         "legendgroup": "War, Steered",
         "marker": {
          "color": "#FF97FF",
          "symbol": "diamond"
         },
         "mode": "markers",
         "name": "War, Steered",
         "opacity": 1,
         "orientation": "v",
         "showlegend": true,
         "type": "scatter",
         "x": {
          "bdata": "AAAAYKpe2j8AAACgyIzdPwAAAKAeId0/AAAA4L6v2z8AAADgzV3aPwAAAOCjW9Y/AAAAQBsA1z8=",
          "dtype": "f8"
         },
         "xaxis": "x",
         "y": {
          "bdata": "GC5KUFNUXQ==",
          "dtype": "i1"
         },
         "yaxis": "y"
        },
        {
         "customdata": [
          [
           "Original | La vita è bella | Comedy",
           "Comedy"
          ],
          [
           "Original | City Lights | Comedy",
           "Comedy"
          ],
          [
           "Original | 3 Idiots | Comedy",
           "Comedy"
          ],
          [
           "Original | Dr. Strangelove or: How I Learned to Stop Worrying and Love the Bomb | Comedy",
           "Comedy"
          ]
         ],
         "hovertemplate": "Cluster=%{customdata[1]}<br>Type=Original<br>Distance to Norway=%{x}<br>Movie Index=%{y}<br>Title=%{customdata[0]}<extra></extra>",
         "legendgroup": "Comedy, Original",
         "marker": {
          "color": "#FECB52",
          "symbol": "circle"
         },
         "mode": "markers",
         "name": "Comedy, Original",
         "opacity": 0.3,
         "orientation": "v",
         "showlegend": false,
         "type": "scatter",
         "x": {
          "bdata": "AAAAwIBg9T8AAACggN73PwAAAACApvY/AAAAYDCw9j8=",
          "dtype": "f8"
         },
         "xaxis": "x",
         "y": {
          "bdata": "GjRATg==",
          "dtype": "i1"
         },
         "yaxis": "y"
        },
        {
         "customdata": [
          [
           "Steered | La vita è bella | Comedy",
           "Comedy"
          ],
          [
           "Steered | City Lights | Comedy",
           "Comedy"
          ],
          [
           "Steered | 3 Idiots | Comedy",
           "Comedy"
          ],
          [
           "Steered | Dr. Strangelove or: How I Learned to Stop Worrying and Love the Bomb | Comedy",
           "Comedy"
          ]
         ],
         "hovertemplate": "Cluster=%{customdata[1]}<br>Type=Steered<br>Distance to Norway=%{x}<br>Movie Index=%{y}<br>Title=%{customdata[0]}<extra></extra>",
         "legendgroup": "Comedy, Steered",
         "marker": {
          "color": "#FECB52",
          "symbol": "diamond"
         },
         "mode": "markers",
         "name": "Comedy, Steered",
         "opacity": 1,
         "orientation": "v",
         "showlegend": true,
         "type": "scatter",
         "x": {
          "bdata": "AAAAYNZ31j8AAACgiHHWPwAAACBVptM/AAAA4PuO2T8=",
          "dtype": "f8"
         },
         "xaxis": "x",
         "y": {
          "bdata": "GjRATg==",
          "dtype": "i1"
         },
         "yaxis": "y"
        },
        {
         "customdata": [
          [
           "Original | Star Wars | Action",
           "Action"
          ]
         ],
         "hovertemplate": "Cluster=%{customdata[1]}<br>Type=Original<br>Distance to Norway=%{x}<br>Movie Index=%{y}<br>Title=%{customdata[0]}<extra></extra>",
         "legendgroup": "Action, Original",
         "marker": {
          "color": "#636efa",
          "symbol": "circle"
         },
         "mode": "markers",
         "name": "Action, Original",
         "opacity": 0.3,
         "orientation": "v",
         "showlegend": false,
         "type": "scatter",
         "x": {
          "bdata": "AAAAwBi0+D8=",
          "dtype": "f8"
         },
         "xaxis": "x",
         "y": {
          "bdata": "HQ==",
          "dtype": "i1"
         },
         "yaxis": "y"
        },
        {
         "customdata": [
          [
           "Steered | Star Wars | Action",
           "Action"
          ]
         ],
         "hovertemplate": "Cluster=%{customdata[1]}<br>Type=Steered<br>Distance to Norway=%{x}<br>Movie Index=%{y}<br>Title=%{customdata[0]}<extra></extra>",
         "legendgroup": "Action, Steered",
         "marker": {
          "color": "#636efa",
          "symbol": "diamond"
         },
         "mode": "markers",
         "name": "Action, Steered",
         "opacity": 1,
         "orientation": "v",
         "showlegend": true,
         "type": "scatter",
         "x": {
          "bdata": "AAAAwCCt2D8=",
          "dtype": "f8"
         },
         "xaxis": "x",
         "y": {
          "bdata": "HQ==",
          "dtype": "i1"
         },
         "yaxis": "y"
        },
        {
         "customdata": [
          [
           "Original | Seppuku | Mystery",
           "Mystery"
          ],
          [
           "Original | The Prestige | Mystery",
           "Mystery"
          ],
          [
           "Original | Oldeuboi | Mystery",
           "Mystery"
          ],
          [
           "Original | Incendies | Mystery",
           "Mystery"
          ]
         ],
         "hovertemplate": "Cluster=%{customdata[1]}<br>Type=Original<br>Distance to Norway=%{x}<br>Movie Index=%{y}<br>Title=%{customdata[0]}<extra></extra>",
         "legendgroup": "Mystery, Original",
         "marker": {
          "color": "#EF553B",
          "symbol": "circle"
         },
         "mode": "markers",
         "name": "Mystery, Original",
         "opacity": 0.3,
         "orientation": "v",
         "showlegend": false,
         "type": "scatter",
         "x": {
          "bdata": "AAAAYJ4L9T8AAACAxjr3PwAAAMAOqvU/AAAAwPjx9T8=",
          "dtype": "f8"
         },
         "xaxis": "x",
         "y": {
          "bdata": "HiREWg==",
          "dtype": "i1"
         },
         "yaxis": "y"
        },
        {
         "customdata": [
          [
           "Steered | Seppuku | Mystery",
           "Mystery"
          ],
          [
           "Steered | The Prestige | Mystery",
           "Mystery"
          ],
          [
           "Steered | Oldeuboi | Mystery",
           "Mystery"
          ],
          [
           "Steered | Incendies | Mystery",
           "Mystery"
          ]
         ],
         "hovertemplate": "Cluster=%{customdata[1]}<br>Type=Steered<br>Distance to Norway=%{x}<br>Movie Index=%{y}<br>Title=%{customdata[0]}<extra></extra>",
         "legendgroup": "Mystery, Steered",
         "marker": {
          "color": "#EF553B",
          "symbol": "diamond"
         },
         "mode": "markers",
         "name": "Mystery, Steered",
         "opacity": 1,
         "orientation": "v",
         "showlegend": true,
         "type": "scatter",
         "x": {
          "bdata": "AAAAYBnv1D8AAACAm0/XPwAAAOA4qtk/AAAAIAsW3T8=",
          "dtype": "f8"
         },
         "xaxis": "x",
         "y": {
          "bdata": "HiREWg==",
          "dtype": "i1"
         },
         "yaxis": "y"
        },
        {
         "customdata": [
          [
           "Original | It's a Wonderful Life | Fantasy",
           "Fantasy"
          ]
         ],
         "hovertemplate": "Cluster=%{customdata[1]}<br>Type=Original<br>Distance to Norway=%{x}<br>Movie Index=%{y}<br>Title=%{customdata[0]}<extra></extra>",
         "legendgroup": "Fantasy, Original",
         "marker": {
          "color": "#00cc96",
          "symbol": "circle"
         },
         "mode": "markers",
         "name": "Fantasy, Original",
         "opacity": 0.3,
         "orientation": "v",
         "showlegend": false,
         "type": "scatter",
         "x": {
          "bdata": "AAAA4Gk/9j8=",
          "dtype": "f8"
         },
         "xaxis": "x",
         "y": {
          "bdata": "IA==",
          "dtype": "i1"
         },
         "yaxis": "y"
        },
        {
         "customdata": [
          [
           "Steered | It's a Wonderful Life | Fantasy",
           "Fantasy"
          ]
         ],
         "hovertemplate": "Cluster=%{customdata[1]}<br>Type=Steered<br>Distance to Norway=%{x}<br>Movie Index=%{y}<br>Title=%{customdata[0]}<extra></extra>",
         "legendgroup": "Fantasy, Steered",
         "marker": {
          "color": "#00cc96",
          "symbol": "diamond"
         },
         "mode": "markers",
         "name": "Fantasy, Steered",
         "opacity": 1,
         "orientation": "v",
         "showlegend": true,
         "type": "scatter",
         "x": {
          "bdata": "AAAAwIs62j8=",
          "dtype": "f8"
         },
         "xaxis": "x",
         "y": {
          "bdata": "IA==",
          "dtype": "i1"
         },
         "yaxis": "y"
        },
        {
         "customdata": [
          [
           "Original | Whiplash | Music",
           "Music"
          ],
          [
           "Original | The Pianist | Music",
           "Music"
          ]
         ],
         "hovertemplate": "Cluster=%{customdata[1]}<br>Type=Original<br>Distance to Norway=%{x}<br>Movie Index=%{y}<br>Title=%{customdata[0]}<extra></extra>",
         "legendgroup": "Music, Original",
         "marker": {
          "color": "#ab63fa",
          "symbol": "circle"
         },
         "mode": "markers",
         "name": "Music, Original",
         "opacity": 0.3,
         "orientation": "v",
         "showlegend": false,
         "type": "scatter",
         "x": {
          "bdata": "AAAAgKqI9j8AAABgCNj0Pw==",
          "dtype": "f8"
         },
         "xaxis": "x",
         "y": {
          "bdata": "IiY=",
          "dtype": "i1"
         },
         "yaxis": "y"
        },
        {
         "customdata": [
          [
           "Steered | Whiplash | Music",
           "Music"
          ],
          [
           "Steered | The Pianist | Music",
           "Music"
          ]
         ],
         "hovertemplate": "Cluster=%{customdata[1]}<br>Type=Steered<br>Distance to Norway=%{x}<br>Movie Index=%{y}<br>Title=%{customdata[0]}<extra></extra>",
         "legendgroup": "Music, Steered",
         "marker": {
          "color": "#ab63fa",
          "symbol": "diamond"
         },
         "mode": "markers",
         "name": "Music, Steered",
         "opacity": 1,
         "orientation": "v",
         "showlegend": true,
         "type": "scatter",
         "x": {
          "bdata": "AAAAQA0s1z8AAACA5PzbPw==",
          "dtype": "f8"
         },
         "xaxis": "x",
         "y": {
          "bdata": "IiY=",
          "dtype": "i1"
         },
         "yaxis": "y"
        },
        {
         "customdata": [
          [
           "Original | Psycho | Thriller",
           "Thriller"
          ],
          [
           "Original | The Lives of Others | Thriller",
           "Thriller"
          ],
          [
           "Original | Memento | Thriller",
           "Thriller"
          ],
          [
           "Original | Rear Window | Thriller",
           "Thriller"
          ]
         ],
         "hovertemplate": "Cluster=%{customdata[1]}<br>Type=Original<br>Distance to Norway=%{x}<br>Movie Index=%{y}<br>Title=%{customdata[0]}<extra></extra>",
         "legendgroup": "Thriller, Original",
         "marker": {
          "color": "#FFA15A",
          "symbol": "circle"
         },
         "mode": "markers",
         "name": "Thriller, Original",
         "opacity": 0.3,
         "orientation": "v",
         "showlegend": false,
         "type": "scatter",
         "x": {
          "bdata": "AAAA4Et5+D8AAABgdb72PwAAACDoNfY/AAAA4Cmw9j8=",
          "dtype": "f8"
         },
         "xaxis": "x",
         "y": {
          "bdata": "MUNFUQ==",
          "dtype": "i1"
         },
         "yaxis": "y"
        },
        {
         "customdata": [
          [
           "Steered | Psycho | Thriller",
           "Thriller"
          ],
          [
           "Steered | The Lives of Others | Thriller",
           "Thriller"
          ],
          [
           "Steered | Memento | Thriller",
           "Thriller"
          ],
          [
           "Steered | Rear Window | Thriller",
           "Thriller"
          ]
         ],
         "hovertemplate": "Cluster=%{customdata[1]}<br>Type=Steered<br>Distance to Norway=%{x}<br>Movie Index=%{y}<br>Title=%{customdata[0]}<extra></extra>",
         "legendgroup": "Thriller, Steered",
         "marker": {
          "color": "#FFA15A",
          "symbol": "diamond"
         },
         "mode": "markers",
         "name": "Thriller, Steered",
         "opacity": 1,
         "orientation": "v",
         "showlegend": true,
         "type": "scatter",
         "x": {
          "bdata": "AAAAQNQo2D8AAAAAUV/bPwAAAKA2xt0/AAAAQM/w2j8=",
          "dtype": "f8"
         },
         "xaxis": "x",
         "y": {
          "bdata": "MUNFUQ==",
          "dtype": "i1"
         },
         "yaxis": "y"
        },
        {
         "customdata": [
          [
           "Original | Coco | Family",
           "Family"
          ],
          [
           "Original | Babam ve Oglum | Family",
           "Family"
          ]
         ],
         "hovertemplate": "Cluster=%{customdata[1]}<br>Type=Original<br>Distance to Norway=%{x}<br>Movie Index=%{y}<br>Title=%{customdata[0]}<extra></extra>",
         "legendgroup": "Family, Original",
         "marker": {
          "color": "#19d3f3",
          "symbol": "circle"
         },
         "mode": "markers",
         "name": "Family, Original",
         "opacity": 0.3,
         "orientation": "v",
         "showlegend": false,
         "type": "scatter",
         "x": {
          "bdata": "AAAAQNvH9j8AAAAgLnb2Pw==",
          "dtype": "f8"
         },
         "xaxis": "x",
         "y": {
          "bdata": "PVw=",
          "dtype": "i1"
         },
         "yaxis": "y"
        },
        {
         "customdata": [
          [
           "Steered | Coco | Family",
           "Family"
          ],
          [
           "Steered | Babam ve Oglum | Family",
           "Family"
          ]
         ],
         "hovertemplate": "Cluster=%{customdata[1]}<br>Type=Steered<br>Distance to Norway=%{x}<br>Movie Index=%{y}<br>Title=%{customdata[0]}<extra></extra>",
         "legendgroup": "Family, Steered",
         "marker": {
          "color": "#19d3f3",
          "symbol": "diamond"
         },
         "mode": "markers",
         "name": "Family, Steered",
         "opacity": 1,
         "orientation": "v",
         "showlegend": true,
         "type": "scatter",
         "x": {
          "bdata": "AAAAoNDJ2j8AAADgjzDePw==",
          "dtype": "f8"
         },
         "xaxis": "x",
         "y": {
          "bdata": "PVw=",
          "dtype": "i1"
         },
         "yaxis": "y"
        },
        {
         "customdata": [
          [
           "Original | The Shining | Horror",
           "Horror"
          ]
         ],
         "hovertemplate": "Cluster=%{customdata[1]}<br>Type=Original<br>Distance to Norway=%{x}<br>Movie Index=%{y}<br>Title=%{customdata[0]}<extra></extra>",
         "legendgroup": "Horror, Original",
         "marker": {
          "color": "#FF6692",
          "symbol": "circle"
         },
         "mode": "markers",
         "name": "Horror, Original",
         "opacity": 0.3,
         "orientation": "v",
         "showlegend": false,
         "type": "scatter",
         "x": {
          "bdata": "AAAAgMP39T8=",
          "dtype": "f8"
         },
         "xaxis": "x",
         "y": {
          "bdata": "SQ==",
          "dtype": "i1"
         },
         "yaxis": "y"
        },
        {
         "customdata": [
          [
           "Steered | The Shining | Horror",
           "Horror"
          ]
         ],
         "hovertemplate": "Cluster=%{customdata[1]}<br>Type=Steered<br>Distance to Norway=%{x}<br>Movie Index=%{y}<br>Title=%{customdata[0]}<extra></extra>",
         "legendgroup": "Horror, Steered",
         "marker": {
          "color": "#FF6692",
          "symbol": "diamond"
         },
         "mode": "markers",
         "name": "Horror, Steered",
         "opacity": 1,
         "orientation": "v",
         "showlegend": true,
         "type": "scatter",
         "x": {
          "bdata": "AAAAQIfM1j8=",
          "dtype": "f8"
         },
         "xaxis": "x",
         "y": {
          "bdata": "SQ==",
          "dtype": "i1"
         },
         "yaxis": "y"
        },
        {
         "customdata": [
          [
           "Original | Sunset Blvd. | Film-Noir",
           "Film-Noir"
          ]
         ],
         "hovertemplate": "Cluster=%{customdata[1]}<br>Type=Original<br>Distance to Norway=%{x}<br>Movie Index=%{y}<br>Title=%{customdata[0]}<extra></extra>",
         "legendgroup": "Film-Noir, Original",
         "marker": {
          "color": "#B6E880",
          "symbol": "circle"
         },
         "mode": "markers",
         "name": "Film-Noir, Original",
         "opacity": 0.3,
         "orientation": "v",
         "showlegend": false,
         "type": "scatter",
         "x": {
          "bdata": "AAAAQKkS9z8=",
          "dtype": "f8"
         },
         "xaxis": "x",
         "y": {
          "bdata": "Ug==",
          "dtype": "i1"
         },
         "yaxis": "y"
        },
        {
         "customdata": [
          [
           "Steered | Sunset Blvd. | Film-Noir",
           "Film-Noir"
          ]
         ],
         "hovertemplate": "Cluster=%{customdata[1]}<br>Type=Steered<br>Distance to Norway=%{x}<br>Movie Index=%{y}<br>Title=%{customdata[0]}<extra></extra>",
         "legendgroup": "Film-Noir, Steered",
         "marker": {
          "color": "#B6E880",
          "symbol": "diamond"
         },
         "mode": "markers",
         "name": "Film-Noir, Steered",
         "opacity": 1,
         "orientation": "v",
         "showlegend": true,
         "type": "scatter",
         "x": {
          "bdata": "AAAAQGPj2j8=",
          "dtype": "f8"
         },
         "xaxis": "x",
         "y": {
          "bdata": "Ug==",
          "dtype": "i1"
         },
         "yaxis": "y"
        },
        {
         "hoverinfo": "none",
         "line": {
          "color": "gray",
          "dash": "dot",
          "width": 1
         },
         "mode": "lines",
         "showlegend": false,
         "type": "scatter",
         "x": [
          1.3656657934188843,
          0.41238072514533997
         ],
         "y": [
          0,
          0
         ]
        },
        {
         "hoverinfo": "none",
         "line": {
          "color": "gray",
          "dash": "dot",
          "width": 1
         },
         "mode": "lines",
         "showlegend": false,
         "type": "scatter",
         "x": [
          1.4715678691864014,
          0.49790334701538086
         ],
         "y": [
          1,
          1
         ]
        },
        {
         "hoverinfo": "none",
         "line": {
          "color": "gray",
          "dash": "dot",
          "width": 1
         },
         "mode": "lines",
         "showlegend": false,
         "type": "scatter",
         "x": [
          1.503446340560913,
          0.38874849677085876
         ],
         "y": [
          2,
          2
         ]
        },
        {
         "hoverinfo": "none",
         "line": {
          "color": "gray",
          "dash": "dot",
          "width": 1
         },
         "mode": "lines",
         "showlegend": false,
         "type": "scatter",
         "x": [
          1.4588195085525513,
          0.40367671847343445
         ],
         "y": [
          3,
          3
         ]
        },
        {
         "hoverinfo": "none",
         "line": {
          "color": "gray",
          "dash": "dot",
          "width": 1
         },
         "mode": "lines",
         "showlegend": false,
         "type": "scatter",
         "x": [
          1.4448857307434082,
          0.44230377674102783
         ],
         "y": [
          4,
          4
         ]
        },
        {
         "hoverinfo": "none",
         "line": {
          "color": "gray",
          "dash": "dot",
          "width": 1
         },
         "mode": "lines",
         "showlegend": false,
         "type": "scatter",
         "x": [
          1.3488909006118774,
          0.39267072081565857
         ],
         "y": [
          5,
          5
         ]
        },
        {
         "hoverinfo": "none",
         "line": {
          "color": "gray",
          "dash": "dot",
          "width": 1
         },
         "mode": "lines",
         "showlegend": false,
         "type": "scatter",
         "x": [
          1.4490636587142944,
          0.3973095118999481
         ],
         "y": [
          6,
          6
         ]
        },
        {
         "hoverinfo": "none",
         "line": {
          "color": "gray",
          "dash": "dot",
          "width": 1
         },
         "mode": "lines",
         "showlegend": false,
         "type": "scatter",
         "x": [
          1.2505100965499878,
          0.3794814348220825
         ],
         "y": [
          7,
          7
         ]
        },
        {
         "hoverinfo": "none",
         "line": {
          "color": "gray",
          "dash": "dot",
          "width": 1
         },
         "mode": "lines",
         "showlegend": false,
         "type": "scatter",
         "x": [
          1.4623312950134277,
          0.40222546458244324
         ],
         "y": [
          8,
          8
         ]
        },
        {
         "hoverinfo": "none",
         "line": {
          "color": "gray",
          "dash": "dot",
          "width": 1
         },
         "mode": "lines",
         "showlegend": false,
         "type": "scatter",
         "x": [
          1.4578412771224976,
          0.3577858805656433
         ],
         "y": [
          9,
          9
         ]
        },
        {
         "hoverinfo": "none",
         "line": {
          "color": "gray",
          "dash": "dot",
          "width": 1
         },
         "mode": "lines",
         "showlegend": false,
         "type": "scatter",
         "x": [
          1.3128291368484497,
          0.3928128480911255
         ],
         "y": [
          10,
          10
         ]
        },
        {
         "hoverinfo": "none",
         "line": {
          "color": "gray",
          "dash": "dot",
          "width": 1
         },
         "mode": "lines",
         "showlegend": false,
         "type": "scatter",
         "x": [
          1.417693853378296,
          0.35439416766166687
         ],
         "y": [
          11,
          11
         ]
        },
        {
         "hoverinfo": "none",
         "line": {
          "color": "gray",
          "dash": "dot",
          "width": 1
         },
         "mode": "lines",
         "showlegend": false,
         "type": "scatter",
         "x": [
          1.3760722875595093,
          0.3900449573993683
         ],
         "y": [
          12,
          12
         ]
        },
        {
         "hoverinfo": "none",
         "line": {
          "color": "gray",
          "dash": "dot",
          "width": 1
         },
         "mode": "lines",
         "showlegend": false,
         "type": "scatter",
         "x": [
          1.3751221895217896,
          0.365460604429245
         ],
         "y": [
          13,
          13
         ]
        },
        {
         "hoverinfo": "none",
         "line": {
          "color": "gray",
          "dash": "dot",
          "width": 1
         },
         "mode": "lines",
         "showlegend": false,
         "type": "scatter",
         "x": [
          1.4243621826171875,
          0.4014352262020111
         ],
         "y": [
          14,
          14
         ]
        },
        {
         "hoverinfo": "none",
         "line": {
          "color": "gray",
          "dash": "dot",
          "width": 1
         },
         "mode": "lines",
         "showlegend": false,
         "type": "scatter",
         "x": [
          1.4182822704315186,
          0.4252459704875946
         ],
         "y": [
          15,
          15
         ]
        },
        {
         "hoverinfo": "none",
         "line": {
          "color": "gray",
          "dash": "dot",
          "width": 1
         },
         "mode": "lines",
         "showlegend": false,
         "type": "scatter",
         "x": [
          1.52754545211792,
          0.386506587266922
         ],
         "y": [
          16,
          16
         ]
        },
        {
         "hoverinfo": "none",
         "line": {
          "color": "gray",
          "dash": "dot",
          "width": 1
         },
         "mode": "lines",
         "showlegend": false,
         "type": "scatter",
         "x": [
          1.4938013553619385,
          0.43170568346977234
         ],
         "y": [
          17,
          17
         ]
        },
        {
         "hoverinfo": "none",
         "line": {
          "color": "gray",
          "dash": "dot",
          "width": 1
         },
         "mode": "lines",
         "showlegend": false,
         "type": "scatter",
         "x": [
          1.3537697792053223,
          0.3851606547832489
         ],
         "y": [
          18,
          18
         ]
        },
        {
         "hoverinfo": "none",
         "line": {
          "color": "gray",
          "dash": "dot",
          "width": 1
         },
         "mode": "lines",
         "showlegend": false,
         "type": "scatter",
         "x": [
          1.4701868295669556,
          0.44440406560897827
         ],
         "y": [
          19,
          19
         ]
        },
        {
         "hoverinfo": "none",
         "line": {
          "color": "gray",
          "dash": "dot",
          "width": 1
         },
         "mode": "lines",
         "showlegend": false,
         "type": "scatter",
         "x": [
          1.4478594064712524,
          0.35644933581352234
         ],
         "y": [
          20,
          20
         ]
        },
        {
         "hoverinfo": "none",
         "line": {
          "color": "gray",
          "dash": "dot",
          "width": 1
         },
         "mode": "lines",
         "showlegend": false,
         "type": "scatter",
         "x": [
          1.3522896766662598,
          0.47423386573791504
         ],
         "y": [
          21,
          21
         ]
        },
        {
         "hoverinfo": "none",
         "line": {
          "color": "gray",
          "dash": "dot",
          "width": 1
         },
         "mode": "lines",
         "showlegend": false,
         "type": "scatter",
         "x": [
          1.4950250387191772,
          0.41832926869392395
         ],
         "y": [
          22,
          22
         ]
        },
        {
         "hoverinfo": "none",
         "line": {
          "color": "gray",
          "dash": "dot",
          "width": 1
         },
         "mode": "lines",
         "showlegend": false,
         "type": "scatter",
         "x": [
          1.3914902210235596,
          0.36961686611175537
         ],
         "y": [
          23,
          23
         ]
        },
        {
         "hoverinfo": "none",
         "line": {
          "color": "gray",
          "dash": "dot",
          "width": 1
         },
         "mode": "lines",
         "showlegend": false,
         "type": "scatter",
         "x": [
          1.4358326196670532,
          0.41202792525291443
         ],
         "y": [
          24,
          24
         ]
        },
        {
         "hoverinfo": "none",
         "line": {
          "color": "gray",
          "dash": "dot",
          "width": 1
         },
         "mode": "lines",
         "showlegend": false,
         "type": "scatter",
         "x": [
          1.4273065328598022,
          0.3976415693759918
         ],
         "y": [
          25,
          25
         ]
        },
        {
         "hoverinfo": "none",
         "line": {
          "color": "gray",
          "dash": "dot",
          "width": 1
         },
         "mode": "lines",
         "showlegend": false,
         "type": "scatter",
         "x": [
          1.3360602855682373,
          0.3510642945766449
         ],
         "y": [
          26,
          26
         ]
        },
        {
         "hoverinfo": "none",
         "line": {
          "color": "gray",
          "dash": "dot",
          "width": 1
         },
         "mode": "lines",
         "showlegend": false,
         "type": "scatter",
         "x": [
          1.4011046886444092,
          0.45479825139045715
         ],
         "y": [
          27,
          27
         ]
        },
        {
         "hoverinfo": "none",
         "line": {
          "color": "gray",
          "dash": "dot",
          "width": 1
         },
         "mode": "lines",
         "showlegend": false,
         "type": "scatter",
         "x": [
          1.4525468349456787,
          0.38382816314697266
         ],
         "y": [
          28,
          28
         ]
        },
        {
         "hoverinfo": "none",
         "line": {
          "color": "gray",
          "dash": "dot",
          "width": 1
         },
         "mode": "lines",
         "showlegend": false,
         "type": "scatter",
         "x": [
          1.543968915939331,
          0.3855668902397156
         ],
         "y": [
          29,
          29
         ]
        },
        {
         "hoverinfo": "none",
         "line": {
          "color": "gray",
          "dash": "dot",
          "width": 1
         },
         "mode": "lines",
         "showlegend": false,
         "type": "scatter",
         "x": [
          1.3153365850448608,
          0.3270934522151947
         ],
         "y": [
          30,
          30
         ]
        },
        {
         "hoverinfo": "none",
         "line": {
          "color": "gray",
          "dash": "dot",
          "width": 1
         },
         "mode": "lines",
         "showlegend": false,
         "type": "scatter",
         "x": [
          1.3969416618347168,
          0.4959014356136322
         ],
         "y": [
          31,
          31
         ]
        },
        {
         "hoverinfo": "none",
         "line": {
          "color": "gray",
          "dash": "dot",
          "width": 1
         },
         "mode": "lines",
         "showlegend": false,
         "type": "scatter",
         "x": [
          1.3904818296432495,
          0.40982335805892944
         ],
         "y": [
          32,
          32
         ]
        },
        {
         "hoverinfo": "none",
         "line": {
          "color": "gray",
          "dash": "dot",
          "width": 1
         },
         "mode": "lines",
         "showlegend": false,
         "type": "scatter",
         "x": [
          1.4944621324539185,
          0.3546887934207916
         ],
         "y": [
          33,
          33
         ]
        },
        {
         "hoverinfo": "none",
         "line": {
          "color": "gray",
          "dash": "dot",
          "width": 1
         },
         "mode": "lines",
         "showlegend": false,
         "type": "scatter",
         "x": [
          1.4083657264709473,
          0.3620637059211731
         ],
         "y": [
          34,
          34
         ]
        },
        {
         "hoverinfo": "none",
         "line": {
          "color": "gray",
          "dash": "dot",
          "width": 1
         },
         "mode": "lines",
         "showlegend": false,
         "type": "scatter",
         "x": [
          1.4631049633026123,
          0.3805828392505646
         ],
         "y": [
          35,
          35
         ]
        },
        {
         "hoverinfo": "none",
         "line": {
          "color": "gray",
          "dash": "dot",
          "width": 1
         },
         "mode": "lines",
         "showlegend": false,
         "type": "scatter",
         "x": [
          1.4518494606018066,
          0.3642338514328003
         ],
         "y": [
          36,
          36
         ]
        },
        {
         "hoverinfo": "none",
         "line": {
          "color": "gray",
          "dash": "dot",
          "width": 1
         },
         "mode": "lines",
         "showlegend": false,
         "type": "scatter",
         "x": [
          1.430567741394043,
          0.4150978624820709
         ],
         "y": [
          37,
          37
         ]
        },
        {
         "hoverinfo": "none",
         "line": {
          "color": "gray",
          "dash": "dot",
          "width": 1
         },
         "mode": "lines",
         "showlegend": false,
         "type": "scatter",
         "x": [
          1.3027423620224,
          0.4373103380203247
         ],
         "y": [
          38,
          38
         ]
        },
        {
         "hoverinfo": "none",
         "line": {
          "color": "gray",
          "dash": "dot",
          "width": 1
         },
         "mode": "lines",
         "showlegend": false,
         "type": "scatter",
         "x": [
          1.4419559240341187,
          0.46472179889678955
         ],
         "y": [
          39,
          39
         ]
        },
        {
         "hoverinfo": "none",
         "line": {
          "color": "gray",
          "dash": "dot",
          "width": 1
         },
         "mode": "lines",
         "showlegend": false,
         "type": "scatter",
         "x": [
          1.3490089178085327,
          0.3784700930118561
         ],
         "y": [
          40,
          40
         ]
        },
        {
         "hoverinfo": "none",
         "line": {
          "color": "gray",
          "dash": "dot",
          "width": 1
         },
         "mode": "lines",
         "showlegend": false,
         "type": "scatter",
         "x": [
          1.3979336023330688,
          0.3400399386882782
         ],
         "y": [
          41,
          41
         ]
        },
        {
         "hoverinfo": "none",
         "line": {
          "color": "gray",
          "dash": "dot",
          "width": 1
         },
         "mode": "lines",
         "showlegend": false,
         "type": "scatter",
         "x": [
          1.4177792072296143,
          0.3640642464160919
         ],
         "y": [
          42,
          42
         ]
        },
        {
         "hoverinfo": "none",
         "line": {
          "color": "gray",
          "dash": "dot",
          "width": 1
         },
         "mode": "lines",
         "showlegend": false,
         "type": "scatter",
         "x": [
          1.4603208303451538,
          0.45651155710220337
         ],
         "y": [
          43,
          43
         ]
        },
        {
         "hoverinfo": "none",
         "line": {
          "color": "gray",
          "dash": "dot",
          "width": 1
         },
         "mode": "lines",
         "showlegend": false,
         "type": "scatter",
         "x": [
          1.3890049457550049,
          0.4228872060775757
         ],
         "y": [
          44,
          44
         ]
        },
        {
         "hoverinfo": "none",
         "line": {
          "color": "gray",
          "dash": "dot",
          "width": 1
         },
         "mode": "lines",
         "showlegend": false,
         "type": "scatter",
         "x": [
          1.4153707027435303,
          0.3890843391418457
         ],
         "y": [
          45,
          45
         ]
        },
        {
         "hoverinfo": "none",
         "line": {
          "color": "gray",
          "dash": "dot",
          "width": 1
         },
         "mode": "lines",
         "showlegend": false,
         "type": "scatter",
         "x": [
          1.3602570295333862,
          0.46171775460243225
         ],
         "y": [
          46,
          46
         ]
        },
        {
         "hoverinfo": "none",
         "line": {
          "color": "gray",
          "dash": "dot",
          "width": 1
         },
         "mode": "lines",
         "showlegend": false,
         "type": "scatter",
         "x": [
          1.3775099515914917,
          0.3739674985408783
         ],
         "y": [
          47,
          47
         ]
        },
        {
         "hoverinfo": "none",
         "line": {
          "color": "gray",
          "dash": "dot",
          "width": 1
         },
         "mode": "lines",
         "showlegend": false,
         "type": "scatter",
         "x": [
          1.3896079063415527,
          0.40559273958206177
         ],
         "y": [
          48,
          48
         ]
        },
        {
         "hoverinfo": "none",
         "line": {
          "color": "gray",
          "dash": "dot",
          "width": 1
         },
         "mode": "lines",
         "showlegend": false,
         "type": "scatter",
         "x": [
          1.5296133756637573,
          0.3774920105934143
         ],
         "y": [
          49,
          49
         ]
        },
        {
         "hoverinfo": "none",
         "line": {
          "color": "gray",
          "dash": "dot",
          "width": 1
         },
         "mode": "lines",
         "showlegend": false,
         "type": "scatter",
         "x": [
          1.3791491985321045,
          0.3498365879058838
         ],
         "y": [
          50,
          50
         ]
        },
        {
         "hoverinfo": "none",
         "line": {
          "color": "gray",
          "dash": "dot",
          "width": 1
         },
         "mode": "lines",
         "showlegend": false,
         "type": "scatter",
         "x": [
          1.4441708326339722,
          0.44350117444992065
         ],
         "y": [
          51,
          51
         ]
        },
        {
         "hoverinfo": "none",
         "line": {
          "color": "gray",
          "dash": "dot",
          "width": 1
         },
         "mode": "lines",
         "showlegend": false,
         "type": "scatter",
         "x": [
          1.4918218851089478,
          0.35067954659461975
         ],
         "y": [
          52,
          52
         ]
        },
        {
         "hoverinfo": "none",
         "line": {
          "color": "gray",
          "dash": "dot",
          "width": 1
         },
         "mode": "lines",
         "showlegend": false,
         "type": "scatter",
         "x": [
          1.418021321296692,
          0.4102988541126251
         ],
         "y": [
          53,
          53
         ]
        },
        {
         "hoverinfo": "none",
         "line": {
          "color": "gray",
          "dash": "dot",
          "width": 1
         },
         "mode": "lines",
         "showlegend": false,
         "type": "scatter",
         "x": [
          1.3778167963027954,
          0.32811716198921204
         ],
         "y": [
          54,
          54
         ]
        },
        {
         "hoverinfo": "none",
         "line": {
          "color": "gray",
          "dash": "dot",
          "width": 1
         },
         "mode": "lines",
         "showlegend": false,
         "type": "scatter",
         "x": [
          1.4554251432418823,
          0.4042398929595947
         ],
         "y": [
          55,
          55
         ]
        },
        {
         "hoverinfo": "none",
         "line": {
          "color": "gray",
          "dash": "dot",
          "width": 1
         },
         "mode": "lines",
         "showlegend": false,
         "type": "scatter",
         "x": [
          1.4123716354370117,
          0.4206632375717163
         ],
         "y": [
          56,
          56
         ]
        },
        {
         "hoverinfo": "none",
         "line": {
          "color": "gray",
          "dash": "dot",
          "width": 1
         },
         "mode": "lines",
         "showlegend": false,
         "type": "scatter",
         "x": [
          1.468606948852539,
          0.40330368280410767
         ],
         "y": [
          57,
          57
         ]
        },
        {
         "hoverinfo": "none",
         "line": {
          "color": "gray",
          "dash": "dot",
          "width": 1
         },
         "mode": "lines",
         "showlegend": false,
         "type": "scatter",
         "x": [
          1.4887365102767944,
          0.439529687166214
         ],
         "y": [
          58,
          58
         ]
        },
        {
         "hoverinfo": "none",
         "line": {
          "color": "gray",
          "dash": "dot",
          "width": 1
         },
         "mode": "lines",
         "showlegend": false,
         "type": "scatter",
         "x": [
          1.4996182918548584,
          0.3863307535648346
         ],
         "y": [
          59,
          59
         ]
        },
        {
         "hoverinfo": "none",
         "line": {
          "color": "gray",
          "dash": "dot",
          "width": 1
         },
         "mode": "lines",
         "showlegend": false,
         "type": "scatter",
         "x": [
          1.4842808246612549,
          0.4338061809539795
         ],
         "y": [
          60,
          60
         ]
        },
        {
         "hoverinfo": "none",
         "line": {
          "color": "gray",
          "dash": "dot",
          "width": 1
         },
         "mode": "lines",
         "showlegend": false,
         "type": "scatter",
         "x": [
          1.423793077468872,
          0.41856780648231506
         ],
         "y": [
          61,
          61
         ]
        },
        {
         "hoverinfo": "none",
         "line": {
          "color": "gray",
          "dash": "dot",
          "width": 1
         },
         "mode": "lines",
         "showlegend": false,
         "type": "scatter",
         "x": [
          1.333464503288269,
          0.4246408939361572
         ],
         "y": [
          62,
          62
         ]
        },
        {
         "hoverinfo": "none",
         "line": {
          "color": "gray",
          "dash": "dot",
          "width": 1
         },
         "mode": "lines",
         "showlegend": false,
         "type": "scatter",
         "x": [
          1.4724169969558716,
          0.4160289764404297
         ],
         "y": [
          63,
          63
         ]
        },
        {
         "hoverinfo": "none",
         "line": {
          "color": "gray",
          "dash": "dot",
          "width": 1
         },
         "mode": "lines",
         "showlegend": false,
         "type": "scatter",
         "x": [
          1.4156494140625,
          0.307027131319046
         ],
         "y": [
          64,
          64
         ]
        },
        {
         "hoverinfo": "none",
         "line": {
          "color": "gray",
          "dash": "dot",
          "width": 1
         },
         "mode": "lines",
         "showlegend": false,
         "type": "scatter",
         "x": [
          1.3759443759918213,
          0.3606605529785156
         ],
         "y": [
          65,
          65
         ]
        },
        {
         "hoverinfo": "none",
         "line": {
          "color": "gray",
          "dash": "dot",
          "width": 1
         },
         "mode": "lines",
         "showlegend": false,
         "type": "scatter",
         "x": [
          1.4818065166473389,
          0.411026269197464
         ],
         "y": [
          66,
          66
         ]
        },
        {
         "hoverinfo": "none",
         "line": {
          "color": "gray",
          "dash": "dot",
          "width": 1
         },
         "mode": "lines",
         "showlegend": false,
         "type": "scatter",
         "x": [
          1.4214986562728882,
          0.4276926517486572
         ],
         "y": [
          67,
          67
         ]
        },
        {
         "hoverinfo": "none",
         "line": {
          "color": "gray",
          "dash": "dot",
          "width": 1
         },
         "mode": "lines",
         "showlegend": false,
         "type": "scatter",
         "x": [
          1.354017972946167,
          0.4010145366191864
         ],
         "y": [
          68,
          68
         ]
        },
        {
         "hoverinfo": "none",
         "line": {
          "color": "gray",
          "dash": "dot",
          "width": 1
         },
         "mode": "lines",
         "showlegend": false,
         "type": "scatter",
         "x": [
          1.3881608247756958,
          0.4652229845523834
         ],
         "y": [
          69,
          69
         ]
        },
        {
         "hoverinfo": "none",
         "line": {
          "color": "gray",
          "dash": "dot",
          "width": 1
         },
         "mode": "lines",
         "showlegend": false,
         "type": "scatter",
         "x": [
          1.3677949905395508,
          0.36157816648483276
         ],
         "y": [
          70,
          70
         ]
        },
        {
         "hoverinfo": "none",
         "line": {
          "color": "gray",
          "dash": "dot",
          "width": 1
         },
         "mode": "lines",
         "showlegend": false,
         "type": "scatter",
         "x": [
          1.3856297731399536,
          0.3739973306655884
         ],
         "y": [
          71,
          71
         ]
        },
        {
         "hoverinfo": "none",
         "line": {
          "color": "gray",
          "dash": "dot",
          "width": 1
         },
         "mode": "lines",
         "showlegend": false,
         "type": "scatter",
         "x": [
          1.368112564086914,
          0.39022964239120483
         ],
         "y": [
          72,
          72
         ]
        },
        {
         "hoverinfo": "none",
         "line": {
          "color": "gray",
          "dash": "dot",
          "width": 1
         },
         "mode": "lines",
         "showlegend": false,
         "type": "scatter",
         "x": [
          1.3729891777038574,
          0.3562334179878235
         ],
         "y": [
          73,
          73
         ]
        },
        {
         "hoverinfo": "none",
         "line": {
          "color": "gray",
          "dash": "dot",
          "width": 1
         },
         "mode": "lines",
         "showlegend": false,
         "type": "scatter",
         "x": [
          1.4660000801086426,
          0.455146461725235
         ],
         "y": [
          74,
          74
         ]
        },
        {
         "hoverinfo": "none",
         "line": {
          "color": "gray",
          "dash": "dot",
          "width": 1
         },
         "mode": "lines",
         "showlegend": false,
         "type": "scatter",
         "x": [
          1.4364583492279053,
          0.3728233873844147
         ],
         "y": [
          75,
          75
         ]
        },
        {
         "hoverinfo": "none",
         "line": {
          "color": "gray",
          "dash": "dot",
          "width": 1
         },
         "mode": "lines",
         "showlegend": false,
         "type": "scatter",
         "x": [
          1.4036864042282104,
          0.39675331115722656
         ],
         "y": [
          76,
          76
         ]
        },
        {
         "hoverinfo": "none",
         "line": {
          "color": "gray",
          "dash": "dot",
          "width": 1
         },
         "mode": "lines",
         "showlegend": false,
         "type": "scatter",
         "x": [
          1.4133777618408203,
          0.42044883966445923
         ],
         "y": [
          77,
          77
         ]
        },
        {
         "hoverinfo": "none",
         "line": {
          "color": "gray",
          "dash": "dot",
          "width": 1
         },
         "mode": "lines",
         "showlegend": false,
         "type": "scatter",
         "x": [
          1.4180148839950562,
          0.3993520438671112
         ],
         "y": [
          78,
          78
         ]
        },
        {
         "hoverinfo": "none",
         "line": {
          "color": "gray",
          "dash": "dot",
          "width": 1
         },
         "mode": "lines",
         "showlegend": false,
         "type": "scatter",
         "x": [
          1.3508594036102295,
          0.4126964509487152
         ],
         "y": [
          79,
          79
         ]
        },
        {
         "hoverinfo": "none",
         "line": {
          "color": "gray",
          "dash": "dot",
          "width": 1
         },
         "mode": "lines",
         "showlegend": false,
         "type": "scatter",
         "x": [
          1.3983076810836792,
          0.432601660490036
         ],
         "y": [
          80,
          80
         ]
        },
        {
         "hoverinfo": "none",
         "line": {
          "color": "gray",
          "dash": "dot",
          "width": 1
         },
         "mode": "lines",
         "showlegend": false,
         "type": "scatter",
         "x": [
          1.4180086851119995,
          0.4209478497505188
         ],
         "y": [
          81,
          81
         ]
        },
        {
         "hoverinfo": "none",
         "line": {
          "color": "gray",
          "dash": "dot",
          "width": 1
         },
         "mode": "lines",
         "showlegend": false,
         "type": "scatter",
         "x": [
          1.4420559406280518,
          0.42012864351272583
         ],
         "y": [
          82,
          82
         ]
        },
        {
         "hoverinfo": "none",
         "line": {
          "color": "gray",
          "dash": "dot",
          "width": 1
         },
         "mode": "lines",
         "showlegend": false,
         "type": "scatter",
         "x": [
          1.390485167503357,
          0.41197535395622253
         ],
         "y": [
          83,
          83
         ]
        },
        {
         "hoverinfo": "none",
         "line": {
          "color": "gray",
          "dash": "dot",
          "width": 1
         },
         "mode": "lines",
         "showlegend": false,
         "type": "scatter",
         "x": [
          1.3980717658996582,
          0.34934327006340027
         ],
         "y": [
          84,
          84
         ]
        },
        {
         "hoverinfo": "none",
         "line": {
          "color": "gray",
          "dash": "dot",
          "width": 1
         },
         "mode": "lines",
         "showlegend": false,
         "type": "scatter",
         "x": [
          1.3968979120254517,
          0.43066123127937317
         ],
         "y": [
          85,
          85
         ]
        },
        {
         "hoverinfo": "none",
         "line": {
          "color": "gray",
          "dash": "dot",
          "width": 1
         },
         "mode": "lines",
         "showlegend": false,
         "type": "scatter",
         "x": [
          1.332323431968689,
          0.3755771517753601
         ],
         "y": [
          86,
          86
         ]
        },
        {
         "hoverinfo": "none",
         "line": {
          "color": "gray",
          "dash": "dot",
          "width": 1
         },
         "mode": "lines",
         "showlegend": false,
         "type": "scatter",
         "x": [
          1.4338412284851074,
          0.4686221182346344
         ],
         "y": [
          87,
          87
         ]
        },
        {
         "hoverinfo": "none",
         "line": {
          "color": "gray",
          "dash": "dot",
          "width": 1
         },
         "mode": "lines",
         "showlegend": false,
         "type": "scatter",
         "x": [
          1.3915753364562988,
          0.3141744136810303
         ],
         "y": [
          88,
          88
         ]
        },
        {
         "hoverinfo": "none",
         "line": {
          "color": "gray",
          "dash": "dot",
          "width": 1
         },
         "mode": "lines",
         "showlegend": false,
         "type": "scatter",
         "x": [
          1.3762725591659546,
          0.3532322645187378
         ],
         "y": [
          89,
          89
         ]
        },
        {
         "hoverinfo": "none",
         "line": {
          "color": "gray",
          "dash": "dot",
          "width": 1
         },
         "mode": "lines",
         "showlegend": false,
         "type": "scatter",
         "x": [
          1.371575117111206,
          0.4544704258441925
         ],
         "y": [
          90,
          90
         ]
        },
        {
         "hoverinfo": "none",
         "line": {
          "color": "gray",
          "dash": "dot",
          "width": 1
         },
         "mode": "lines",
         "showlegend": false,
         "type": "scatter",
         "x": [
          1.4171937704086304,
          0.381337970495224
         ],
         "y": [
          91,
          91
         ]
        },
        {
         "hoverinfo": "none",
         "line": {
          "color": "gray",
          "dash": "dot",
          "width": 1
         },
         "mode": "lines",
         "showlegend": false,
         "type": "scatter",
         "x": [
          1.4038525819778442,
          0.47171398997306824
         ],
         "y": [
          92,
          92
         ]
        },
        {
         "hoverinfo": "none",
         "line": {
          "color": "gray",
          "dash": "dot",
          "width": 1
         },
         "mode": "lines",
         "showlegend": false,
         "type": "scatter",
         "x": [
          1.348874807357788,
          0.3593814969062805
         ],
         "y": [
          93,
          93
         ]
        },
        {
         "hoverinfo": "none",
         "line": {
          "color": "gray",
          "dash": "dot",
          "width": 1
         },
         "mode": "lines",
         "showlegend": false,
         "type": "scatter",
         "x": [
          1.438637375831604,
          0.4465891718864441
         ],
         "y": [
          94,
          94
         ]
        },
        {
         "hoverinfo": "none",
         "line": {
          "color": "gray",
          "dash": "dot",
          "width": 1
         },
         "mode": "lines",
         "showlegend": false,
         "type": "scatter",
         "x": [
          1.4158637523651123,
          0.3774489164352417
         ],
         "y": [
          95,
          95
         ]
        },
        {
         "hoverinfo": "none",
         "line": {
          "color": "gray",
          "dash": "dot",
          "width": 1
         },
         "mode": "lines",
         "showlegend": false,
         "type": "scatter",
         "x": [
          1.4079153537750244,
          0.3648926317691803
         ],
         "y": [
          96,
          96
         ]
        },
        {
         "hoverinfo": "none",
         "line": {
          "color": "gray",
          "dash": "dot",
          "width": 1
         },
         "mode": "lines",
         "showlegend": false,
         "type": "scatter",
         "x": [
          1.4434986114501953,
          0.46948137879371643
         ],
         "y": [
          97,
          97
         ]
        },
        {
         "hoverinfo": "none",
         "line": {
          "color": "gray",
          "dash": "dot",
          "width": 1
         },
         "mode": "lines",
         "showlegend": false,
         "type": "scatter",
         "x": [
          1.4109554290771484,
          0.3793874680995941
         ],
         "y": [
          98,
          98
         ]
        },
        {
         "hoverinfo": "none",
         "line": {
          "color": "gray",
          "dash": "dot",
          "width": 1
         },
         "mode": "lines",
         "showlegend": false,
         "type": "scatter",
         "x": [
          1.351595163345337,
          0.33400917053222656
         ],
         "y": [
          99,
          99
         ]
        }
       ],
       "layout": {
        "height": 700,
        "legend": {
         "title": {
          "text": "Cluster, Type"
         },
         "tracegroupgap": 0
        },
        "margin": {
         "t": 60
        },
        "template": {
         "data": {
          "bar": [
           {
            "error_x": {
             "color": "#2a3f5f"
            },
            "error_y": {
             "color": "#2a3f5f"
            },
            "marker": {
             "line": {
              "color": "#E5ECF6",
              "width": 0.5
             },
             "pattern": {
              "fillmode": "overlay",
              "size": 10,
              "solidity": 0.2
             }
            },
            "type": "bar"
           }
          ],
          "barpolar": [
           {
            "marker": {
             "line": {
              "color": "#E5ECF6",
              "width": 0.5
             },
             "pattern": {
              "fillmode": "overlay",
              "size": 10,
              "solidity": 0.2
             }
            },
            "type": "barpolar"
           }
          ],
          "carpet": [
           {
            "aaxis": {
             "endlinecolor": "#2a3f5f",
             "gridcolor": "white",
             "linecolor": "white",
             "minorgridcolor": "white",
             "startlinecolor": "#2a3f5f"
            },
            "baxis": {
             "endlinecolor": "#2a3f5f",
             "gridcolor": "white",
             "linecolor": "white",
             "minorgridcolor": "white",
             "startlinecolor": "#2a3f5f"
            },
            "type": "carpet"
           }
          ],
          "choropleth": [
           {
            "colorbar": {
             "outlinewidth": 0,
             "ticks": ""
            },
            "type": "choropleth"
           }
          ],
          "contour": [
           {
            "colorbar": {
             "outlinewidth": 0,
             "ticks": ""
            },
            "colorscale": [
             [
              0,
              "#0d0887"
             ],
             [
              0.1111111111111111,
              "#46039f"
             ],
             [
              0.2222222222222222,
              "#7201a8"
             ],
             [
              0.3333333333333333,
              "#9c179e"
             ],
             [
              0.4444444444444444,
              "#bd3786"
             ],
             [
              0.5555555555555556,
              "#d8576b"
             ],
             [
              0.6666666666666666,
              "#ed7953"
             ],
             [
              0.7777777777777778,
              "#fb9f3a"
             ],
             [
              0.8888888888888888,
              "#fdca26"
             ],
             [
              1,
              "#f0f921"
             ]
            ],
            "type": "contour"
           }
          ],
          "contourcarpet": [
           {
            "colorbar": {
             "outlinewidth": 0,
             "ticks": ""
            },
            "type": "contourcarpet"
           }
          ],
          "heatmap": [
           {
            "colorbar": {
             "outlinewidth": 0,
             "ticks": ""
            },
            "colorscale": [
             [
              0,
              "#0d0887"
             ],
             [
              0.1111111111111111,
              "#46039f"
             ],
             [
              0.2222222222222222,
              "#7201a8"
             ],
             [
              0.3333333333333333,
              "#9c179e"
             ],
             [
              0.4444444444444444,
              "#bd3786"
             ],
             [
              0.5555555555555556,
              "#d8576b"
             ],
             [
              0.6666666666666666,
              "#ed7953"
             ],
             [
              0.7777777777777778,
              "#fb9f3a"
             ],
             [
              0.8888888888888888,
              "#fdca26"
             ],
             [
              1,
              "#f0f921"
             ]
            ],
            "type": "heatmap"
           }
          ],
          "histogram": [
           {
            "marker": {
             "pattern": {
              "fillmode": "overlay",
              "size": 10,
              "solidity": 0.2
             }
            },
            "type": "histogram"
           }
          ],
          "histogram2d": [
           {
            "colorbar": {
             "outlinewidth": 0,
             "ticks": ""
            },
            "colorscale": [
             [
              0,
              "#0d0887"
             ],
             [
              0.1111111111111111,
              "#46039f"
             ],
             [
              0.2222222222222222,
              "#7201a8"
             ],
             [
              0.3333333333333333,
              "#9c179e"
             ],
             [
              0.4444444444444444,
              "#bd3786"
             ],
             [
              0.5555555555555556,
              "#d8576b"
             ],
             [
              0.6666666666666666,
              "#ed7953"
             ],
             [
              0.7777777777777778,
              "#fb9f3a"
             ],
             [
              0.8888888888888888,
              "#fdca26"
             ],
             [
              1,
              "#f0f921"
             ]
            ],
            "type": "histogram2d"
           }
          ],
          "histogram2dcontour": [
           {
            "colorbar": {
             "outlinewidth": 0,
             "ticks": ""
            },
            "colorscale": [
             [
              0,
              "#0d0887"
             ],
             [
              0.1111111111111111,
              "#46039f"
             ],
             [
              0.2222222222222222,
              "#7201a8"
             ],
             [
              0.3333333333333333,
              "#9c179e"
             ],
             [
              0.4444444444444444,
              "#bd3786"
             ],
             [
              0.5555555555555556,
              "#d8576b"
             ],
             [
              0.6666666666666666,
              "#ed7953"
             ],
             [
              0.7777777777777778,
              "#fb9f3a"
             ],
             [
              0.8888888888888888,
              "#fdca26"
             ],
             [
              1,
              "#f0f921"
             ]
            ],
            "type": "histogram2dcontour"
           }
          ],
          "mesh3d": [
           {
            "colorbar": {
             "outlinewidth": 0,
             "ticks": ""
            },
            "type": "mesh3d"
           }
          ],
          "parcoords": [
           {
            "line": {
             "colorbar": {
              "outlinewidth": 0,
              "ticks": ""
             }
            },
            "type": "parcoords"
           }
          ],
          "pie": [
           {
            "automargin": true,
            "type": "pie"
           }
          ],
          "scatter": [
           {
            "fillpattern": {
             "fillmode": "overlay",
             "size": 10,
             "solidity": 0.2
            },
            "type": "scatter"
           }
          ],
          "scatter3d": [
           {
            "line": {
             "colorbar": {
              "outlinewidth": 0,
              "ticks": ""
             }
            },
            "marker": {
             "colorbar": {
              "outlinewidth": 0,
              "ticks": ""
             }
            },
            "type": "scatter3d"
           }
          ],
          "scattercarpet": [
           {
            "marker": {
             "colorbar": {
              "outlinewidth": 0,
              "ticks": ""
             }
            },
            "type": "scattercarpet"
           }
          ],
          "scattergeo": [
           {
            "marker": {
             "colorbar": {
              "outlinewidth": 0,
              "ticks": ""
             }
            },
            "type": "scattergeo"
           }
          ],
          "scattergl": [
           {
            "marker": {
             "colorbar": {
              "outlinewidth": 0,
              "ticks": ""
             }
            },
            "type": "scattergl"
           }
          ],
          "scattermap": [
           {
            "marker": {
             "colorbar": {
              "outlinewidth": 0,
              "ticks": ""
             }
            },
            "type": "scattermap"
           }
          ],
          "scattermapbox": [
           {
            "marker": {
             "colorbar": {
              "outlinewidth": 0,
              "ticks": ""
             }
            },
            "type": "scattermapbox"
           }
          ],
          "scatterpolar": [
           {
            "marker": {
             "colorbar": {
              "outlinewidth": 0,
              "ticks": ""
             }
            },
            "type": "scatterpolar"
           }
          ],
          "scatterpolargl": [
           {
            "marker": {
             "colorbar": {
              "outlinewidth": 0,
              "ticks": ""
             }
            },
            "type": "scatterpolargl"
           }
          ],
          "scatterternary": [
           {
            "marker": {
             "colorbar": {
              "outlinewidth": 0,
              "ticks": ""
             }
            },
            "type": "scatterternary"
           }
          ],
          "surface": [
           {
            "colorbar": {
             "outlinewidth": 0,
             "ticks": ""
            },
            "colorscale": [
             [
              0,
              "#0d0887"
             ],
             [
              0.1111111111111111,
              "#46039f"
             ],
             [
              0.2222222222222222,
              "#7201a8"
             ],
             [
              0.3333333333333333,
              "#9c179e"
             ],
             [
              0.4444444444444444,
              "#bd3786"
             ],
             [
              0.5555555555555556,
              "#d8576b"
             ],
             [
              0.6666666666666666,
              "#ed7953"
             ],
             [
              0.7777777777777778,
              "#fb9f3a"
             ],
             [
              0.8888888888888888,
              "#fdca26"
             ],
             [
              1,
              "#f0f921"
             ]
            ],
            "type": "surface"
           }
          ],
          "table": [
           {
            "cells": {
             "fill": {
              "color": "#EBF0F8"
             },
             "line": {
              "color": "white"
             }
            },
            "header": {
             "fill": {
              "color": "#C8D4E3"
             },
             "line": {
              "color": "white"
             }
            },
            "type": "table"
           }
          ]
         },
         "layout": {
          "annotationdefaults": {
           "arrowcolor": "#2a3f5f",
           "arrowhead": 0,
           "arrowwidth": 1
          },
          "autotypenumbers": "strict",
          "coloraxis": {
           "colorbar": {
            "outlinewidth": 0,
            "ticks": ""
           }
          },
          "colorscale": {
           "diverging": [
            [
             0,
             "#8e0152"
            ],
            [
             0.1,
             "#c51b7d"
            ],
            [
             0.2,
             "#de77ae"
            ],
            [
             0.3,
             "#f1b6da"
            ],
            [
             0.4,
             "#fde0ef"
            ],
            [
             0.5,
             "#f7f7f7"
            ],
            [
             0.6,
             "#e6f5d0"
            ],
            [
             0.7,
             "#b8e186"
            ],
            [
             0.8,
             "#7fbc41"
            ],
            [
             0.9,
             "#4d9221"
            ],
            [
             1,
             "#276419"
            ]
           ],
           "sequential": [
            [
             0,
             "#0d0887"
            ],
            [
             0.1111111111111111,
             "#46039f"
            ],
            [
             0.2222222222222222,
             "#7201a8"
            ],
            [
             0.3333333333333333,
             "#9c179e"
            ],
            [
             0.4444444444444444,
             "#bd3786"
            ],
            [
             0.5555555555555556,
             "#d8576b"
            ],
            [
             0.6666666666666666,
             "#ed7953"
            ],
            [
             0.7777777777777778,
             "#fb9f3a"
            ],
            [
             0.8888888888888888,
             "#fdca26"
            ],
            [
             1,
             "#f0f921"
            ]
           ],
           "sequentialminus": [
            [
             0,
             "#0d0887"
            ],
            [
             0.1111111111111111,
             "#46039f"
            ],
            [
             0.2222222222222222,
             "#7201a8"
            ],
            [
             0.3333333333333333,
             "#9c179e"
            ],
            [
             0.4444444444444444,
             "#bd3786"
            ],
            [
             0.5555555555555556,
             "#d8576b"
            ],
            [
             0.6666666666666666,
             "#ed7953"
            ],
            [
             0.7777777777777778,
             "#fb9f3a"
            ],
            [
             0.8888888888888888,
             "#fdca26"
            ],
            [
             1,
             "#f0f921"
            ]
           ]
          },
          "colorway": [
           "#636efa",
           "#EF553B",
           "#00cc96",
           "#ab63fa",
           "#FFA15A",
           "#19d3f3",
           "#FF6692",
           "#B6E880",
           "#FF97FF",
           "#FECB52"
          ],
          "font": {
           "color": "#2a3f5f"
          },
          "geo": {
           "bgcolor": "white",
           "lakecolor": "white",
           "landcolor": "#E5ECF6",
           "showlakes": true,
           "showland": true,
           "subunitcolor": "white"
          },
          "hoverlabel": {
           "align": "left"
          },
          "hovermode": "closest",
          "mapbox": {
           "style": "light"
          },
          "paper_bgcolor": "white",
          "plot_bgcolor": "#E5ECF6",
          "polar": {
           "angularaxis": {
            "gridcolor": "white",
            "linecolor": "white",
            "ticks": ""
           },
           "bgcolor": "#E5ECF6",
           "radialaxis": {
            "gridcolor": "white",
            "linecolor": "white",
            "ticks": ""
           }
          },
          "scene": {
           "xaxis": {
            "backgroundcolor": "#E5ECF6",
            "gridcolor": "white",
            "gridwidth": 2,
            "linecolor": "white",
            "showbackground": true,
            "ticks": "",
            "zerolinecolor": "white"
           },
           "yaxis": {
            "backgroundcolor": "#E5ECF6",
            "gridcolor": "white",
            "gridwidth": 2,
            "linecolor": "white",
            "showbackground": true,
            "ticks": "",
            "zerolinecolor": "white"
           },
           "zaxis": {
            "backgroundcolor": "#E5ECF6",
            "gridcolor": "white",
            "gridwidth": 2,
            "linecolor": "white",
            "showbackground": true,
            "ticks": "",
            "zerolinecolor": "white"
           }
          },
          "shapedefaults": {
           "line": {
            "color": "#2a3f5f"
           }
          },
          "ternary": {
           "aaxis": {
            "gridcolor": "white",
            "linecolor": "white",
            "ticks": ""
           },
           "baxis": {
            "gridcolor": "white",
            "linecolor": "white",
            "ticks": ""
           },
           "bgcolor": "#E5ECF6",
           "caxis": {
            "gridcolor": "white",
            "linecolor": "white",
            "ticks": ""
           }
          },
          "title": {
           "x": 0.05
          },
          "xaxis": {
           "automargin": true,
           "gridcolor": "white",
           "linecolor": "white",
           "ticks": "",
           "title": {
            "standoff": 15
           },
           "zerolinecolor": "white",
           "zerolinewidth": 2
          },
          "yaxis": {
           "automargin": true,
           "gridcolor": "white",
           "linecolor": "white",
           "ticks": "",
           "title": {
            "standoff": 15
           },
           "zerolinecolor": "white",
           "zerolinewidth": 2
          }
         }
        },
        "title": {
         "text": "Distance Projection to Norway (L2 Distance) | Layer: 11 | Coeff: 9"
        },
        "width": 900,
        "xaxis": {
         "anchor": "y",
         "domain": [
          0,
          1
         ],
         "title": {
          "text": "Distance to Norway using L2"
         }
        },
        "yaxis": {
         "anchor": "x",
         "domain": [
          0,
          1
         ],
         "range": [
          -5,
          104
         ],
         "showticklabels": true,
         "title": {
          "text": "Movie Index"
         }
        }
       }
      }
     },
     "metadata": {},
     "output_type": "display_data"
    },
    {
     "name": "stdout",
     "output_type": "stream",
     "text": [
      "\n",
      "\n",
      "MOST CHANGED (based on difference)\n",
      "--------------------------------------------------\n",
      "Index: 29 | Title: Star Wars | Genre: Action\n",
      "Original distance: 1.5440\n",
      "Steered distance:  0.3856\n",
      "CHANGE:            1.1584\n",
      "\n",
      "Index: 49 | Title: Psycho | Genre: Thriller\n",
      "Original distance: 1.5296\n",
      "Steered distance:  0.3775\n",
      "CHANGE:            1.1521\n",
      "\n",
      "Index: 52 | Title: City Lights | Genre: Comedy\n",
      "Original distance: 1.4918\n",
      "Steered distance:  0.3507\n",
      "CHANGE:            1.1411\n",
      "\n",
      "LEAST CHANGED (based on distance difference)\n",
      "--------------------------------------------------\n",
      "Index: 38 | Title: The Pianist | Genre: Music\n",
      "Original distance: 1.3027\n",
      "Steered distance:  0.4373\n",
      "CHANGE:            0.8654\n",
      "\n",
      "Index: 7 | Title: Schindler's List | Genre: History\n",
      "Original distance: 1.2505\n",
      "Steered distance:  0.3795\n",
      "CHANGE:            0.8710\n",
      "\n",
      "Index: 21 | Title: Interstellar | Genre: Sci-Fi\n",
      "Original distance: 1.3523\n",
      "Steered distance:  0.4742\n",
      "CHANGE:            0.8781\n",
      "\n",
      "Average Steered Distance to Norway: 0.3999\n"
     ]
    }
   ],
   "source": [
    "layer_to_steer = 11\n",
    "steering_coefficient = 9\n",
    "feature = \"Norway\"\n",
    "normalize = True\n",
    "\n",
    "steering_vector = import_steering_vector_from_pkl('steering_vector.pkl', layer_to_steer=layer_to_steer, feature_name=feature)\n",
    "\n",
    "plot_distance_projection(model, encoded_input, original_embeddings, all_texts_data, layer_to_steer, steering_coefficient,\n",
    "                             steering_vector, feature, text_range=(0,100), type=\"l2\", normalize=normalize, print_differences=True, print_average=True)"
   ]
  },
  {
   "cell_type": "markdown",
   "metadata": {
    "id": "-qbdLLJQrPum"
   },
   "source": [
    "***\n",
    "\n",
    "## Plot with two vectors as axes"
   ]
  },
  {
   "cell_type": "markdown",
   "metadata": {
    "id": "o6aJ4rjmrPum"
   },
   "source": [
    "In `plot_2D_distance_projection` the x- and y- axes are vectors.  \n",
    "The x-axis is the steering vector, and the y-axis is another given feature-embedding vector, here called the *comparison vector*\n",
    "\n",
    "Input parameters are the same as the plot above, except now the `print_difference` measures the euclidian distance between the points on the 2D plane to find the most and least changed embeddings."
   ]
  },
  {
   "cell_type": "code",
   "execution_count": 20,
   "metadata": {
    "id": "1oU6TSJ4rPum",
    "outputId": "7aa538bc-cd09-4fdc-b89b-8048f1986ba9"
   },
   "outputs": [
    {
     "name": "stdout",
     "output_type": "stream",
     "text": [
      "Steering vectors imported from steering_vector.pkl\n",
      "Available steering vectors: 'Love' (layers: [11]), 'War' (layers: [10, 11]), 'Norway' (layers: [11])\n",
      "Returning steering vector for 'Norway' layer 11\n",
      "Steering vectors imported from steering_vector.pkl\n",
      "Available steering vectors: 'Love' (layers: [11]), 'War' (layers: [10, 11]), 'Norway' (layers: [11])\n",
      "Returning steering vector for 'Love' layer 11\n"
     ]
    },
    {
     "data": {
      "application/vnd.plotly.v1+json": {
       "config": {
        "plotlyServerURL": "https://plot.ly"
       },
       "data": [
        {
         "customdata": [
          [
           "Original | Serbuan maut | Thriller",
           "Thriller"
          ],
          [
           "Original | Die Welle | Thriller",
           "Thriller"
          ],
          [
           "Original | Saw | Thriller",
           "Thriller"
          ],
          [
           "Original | 21 Grams | Thriller",
           "Thriller"
          ],
          [
           "Original | The Butterfly Effect | Thriller",
           "Thriller"
          ],
          [
           "Original | Dark City | Thriller",
           "Thriller"
          ],
          [
           "Original | Lost Highway | Thriller",
           "Thriller"
          ],
          [
           "Original | Die Hard: With a Vengeance | Thriller",
           "Thriller"
          ],
          [
           "Original | Blowup | Thriller",
           "Thriller"
          ]
         ],
         "hovertemplate": "Cluster=%{customdata[1]}<br>Type=Original<br>Distance to \"Norway\"=%{x}<br>Distance to \"Love\"=%{y}<br>Title=%{customdata[0]}<extra></extra>",
         "legendgroup": "Thriller, Original",
         "marker": {
          "color": "#636efa",
          "symbol": "circle"
         },
         "mode": "markers",
         "name": "Thriller, Original",
         "opacity": 0.3,
         "orientation": "v",
         "showlegend": false,
         "type": "scatter",
         "x": {
          "bdata": "AAAAIinV7z8AAADM3rLwPwAAAEZMiu4/AAAAtm978D8AAABKPNTwPwAAAAJPIe4/AAAA9CuF8D8AAACKw2jxPwAAgDXb0O8/",
          "dtype": "f8"
         },
         "xaxis": "x",
         "y": {
          "bdata": "AAAAYLX/6z8AAADoeW/qPwAAAIhKwug/AAAAIFWS5z8AAABIsATpPwAAAHCxDuU/AAAAKMUK6z8AAADgwfLtPwAAAIjVYOw/",
          "dtype": "f8"
         },
         "yaxis": "y"
        },
        {
         "customdata": [
          [
           "Steered | Serbuan maut | Thriller",
           "Thriller"
          ],
          [
           "Steered | Die Welle | Thriller",
           "Thriller"
          ],
          [
           "Steered | Saw | Thriller",
           "Thriller"
          ],
          [
           "Steered | 21 Grams | Thriller",
           "Thriller"
          ],
          [
           "Steered | The Butterfly Effect | Thriller",
           "Thriller"
          ],
          [
           "Steered | Dark City | Thriller",
           "Thriller"
          ],
          [
           "Steered | Lost Highway | Thriller",
           "Thriller"
          ],
          [
           "Steered | Die Hard: With a Vengeance | Thriller",
           "Thriller"
          ],
          [
           "Steered | Blowup | Thriller",
           "Thriller"
          ]
         ],
         "hovertemplate": "Cluster=%{customdata[1]}<br>Type=Steered<br>Distance to \"Norway\"=%{x}<br>Distance to \"Love\"=%{y}<br>Title=%{customdata[0]}<extra></extra>",
         "legendgroup": "Thriller, Steered",
         "marker": {
          "color": "#636efa",
          "symbol": "diamond"
         },
         "mode": "markers",
         "name": "Thriller, Steered",
         "opacity": 1,
         "orientation": "v",
         "showlegend": true,
         "type": "scatter",
         "x": {
          "bdata": "AAAAABTJ1z8AAACA9IXXPwAAAABSy9Q/AAAAgMkj2D8AAADAtsPWPwAAAMDgYtY/AAAAAB072T8AAACA4LnZPwAAAAD1ptk/",
          "dtype": "f8"
         },
         "xaxis": "x",
         "y": {
          "bdata": "AAAANIWE7D8AAAB4fkrrPwAAAKDKReo/AAAAOCUF6T8AAAB4lj/qPwAAAEA7UOc/AAAAmNqt6z8AAADA+/PtPwAAALSMv+w/",
          "dtype": "f8"
         },
         "yaxis": "y"
        },
        {
         "customdata": [
          [
           "Original | End of Watch | Crime",
           "Crime"
          ],
          [
           "Original | Despicable Me | Crime",
           "Crime"
          ],
          [
           "Original | Celda 211 | Crime",
           "Crime"
          ],
          [
           "Original | Eastern Promises | Crime",
           "Crime"
          ],
          [
           "Original | Inside Man | Crime",
           "Crime"
          ],
          [
           "Original | Gone Baby Gone | Crime",
           "Crime"
          ],
          [
           "Original | Dead Man's Shoes | Crime",
           "Crime"
          ],
          [
           "Original | Boksuneun naui geot | Crime",
           "Crime"
          ],
          [
           "Original | Minority Report | Crime",
           "Crime"
          ],
          [
           "Original | American Psycho | Crime",
           "Crime"
          ],
          [
           "Original | Sleepers | Crime",
           "Crime"
          ],
          [
           "Original | Falling Down | Crime",
           "Crime"
          ],
          [
           "Original | My Cousin Vinny | Crime",
           "Crime"
          ],
          [
           "Original | The Godfather: Part III | Crime",
           "Crime"
          ],
          [
           "Original | The Naked Gun: From the Files of Police Squad! | Crime",
           "Crime"
          ],
          [
           "Original | Lethal Weapon | Crime",
           "Crime"
          ],
          [
           "Original | Blood Simple | Crime",
           "Crime"
          ],
          [
           "Original | The Warriors | Crime",
           "Crime"
          ],
          [
           "Original | Escape from Alcatraz | Crime",
           "Crime"
          ],
          [
           "Original | Midnight Express | Crime",
           "Crime"
          ],
          [
           "Original | The Long Goodbye | Crime",
           "Crime"
          ],
          [
           "Original | The 39 Steps | Crime",
           "Crime"
          ]
         ],
         "hovertemplate": "Cluster=%{customdata[1]}<br>Type=Original<br>Distance to \"Norway\"=%{x}<br>Distance to \"Love\"=%{y}<br>Title=%{customdata[0]}<extra></extra>",
         "legendgroup": "Crime, Original",
         "marker": {
          "color": "#EF553B",
          "symbol": "circle"
         },
         "mode": "markers",
         "name": "Crime, Original",
         "opacity": 0.3,
         "orientation": "v",
         "showlegend": false,
         "type": "scatter",
         "x": {
          "bdata": "AAAAElLt8T8AAADELvrvPwAAAMRcGfE/AAAA3DkH7z8AAAC7UrDwPwAAAPiUbfA/AAAglNEJ8D8AAABvEh3wPwAAgJ5KEvA/AAAAsCsG8T8AAICZjDHwPwAAAOtCj/A/AAAAVJ+Y7D8AAIA01vbvPwAAAEMeOO8/AAAAVLgg8T8AAAACuULwPwAAgF0nze8/AAAATt2p8D8AAACbELvwPwAAAJx/GPE/AAAA+6cE7z8=",
          "dtype": "f8"
         },
         "xaxis": "x",
         "y": {
          "bdata": "AAAAwMMz6T8AAABAnYzlPwAAABA4tuk/AAAAOIwU6z8AAADI95XpPwAAABgvhug/AAAAENTK6j8AAABALMPsPwAAABheW+s/AAAAyMJC6j8AAAAYWqjqPwAAAEDmM+w/AAAA7Gcr7T8AAABA+jLpPwAAAGg6cuw/AAAAcNw46T8AAADAWD/nPwAAAIAEmOk/AAAACDkZ7D8AAADc9CTuPwAAAIC/YOg/AAAAoGKC6T8=",
          "dtype": "f8"
         },
         "yaxis": "y"
        },
        {
         "customdata": [
          [
           "Steered | End of Watch | Crime",
           "Crime"
          ],
          [
           "Steered | Despicable Me | Crime",
           "Crime"
          ],
          [
           "Steered | Celda 211 | Crime",
           "Crime"
          ],
          [
           "Steered | Eastern Promises | Crime",
           "Crime"
          ],
          [
           "Steered | Inside Man | Crime",
           "Crime"
          ],
          [
           "Steered | Gone Baby Gone | Crime",
           "Crime"
          ],
          [
           "Steered | Dead Man's Shoes | Crime",
           "Crime"
          ],
          [
           "Steered | Boksuneun naui geot | Crime",
           "Crime"
          ],
          [
           "Steered | Minority Report | Crime",
           "Crime"
          ],
          [
           "Steered | American Psycho | Crime",
           "Crime"
          ],
          [
           "Steered | Sleepers | Crime",
           "Crime"
          ],
          [
           "Steered | Falling Down | Crime",
           "Crime"
          ],
          [
           "Steered | My Cousin Vinny | Crime",
           "Crime"
          ],
          [
           "Steered | The Godfather: Part III | Crime",
           "Crime"
          ],
          [
           "Steered | The Naked Gun: From the Files of Police Squad! | Crime",
           "Crime"
          ],
          [
           "Steered | Lethal Weapon | Crime",
           "Crime"
          ],
          [
           "Steered | Blood Simple | Crime",
           "Crime"
          ],
          [
           "Steered | The Warriors | Crime",
           "Crime"
          ],
          [
           "Steered | Escape from Alcatraz | Crime",
           "Crime"
          ],
          [
           "Steered | Midnight Express | Crime",
           "Crime"
          ],
          [
           "Steered | The Long Goodbye | Crime",
           "Crime"
          ],
          [
           "Steered | The 39 Steps | Crime",
           "Crime"
          ]
         ],
         "hovertemplate": "Cluster=%{customdata[1]}<br>Type=Steered<br>Distance to \"Norway\"=%{x}<br>Distance to \"Love\"=%{y}<br>Title=%{customdata[0]}<extra></extra>",
         "legendgroup": "Crime, Steered",
         "marker": {
          "color": "#EF553B",
          "symbol": "diamond"
         },
         "mode": "markers",
         "name": "Crime, Steered",
         "opacity": 1,
         "orientation": "v",
         "showlegend": true,
         "type": "scatter",
         "x": {
          "bdata": "AAAAQM0c3D8AAACARBTWPwAAAIB4yNg/AAAAADK62D8AAADAe4HXPwAAAADfkdo/AAAAQJLj1z8AAABAS13XPwAAAEBz69g/AAAAAPqz1j8AAACA4bbWPwAAAIB41do/AAAAAFE30z8AAAAAdvTZPwAAAADWf9s/AAAAALgY3j8AAAAA7TLYPwAAAMBvF9c/AAAAgNDq1z8AAAAAnRXePwAAAMCaIN0/AAAAQLVy1z8=",
          "dtype": "f8"
         },
         "xaxis": "x",
         "y": {
          "bdata": "AAAAIEzw6T8AAADwNbfnPwAAAACwn+o/AAAAELPD6z8AAADgSKLqPwAAAPAbk+k/AAAAYNmR6z8AAADQkR7tPwAAAICV9es/AAAAAAEy6z8AAACwsYfrPwAAAJTEi+w/AAAAPOiY7T8AAAAAAi7qPwAAAJQMwew/AAAAgELj6T8AAADg48ToPwAAAHiTsuo/AAAApNeQ7D8AAAC8gRbuPwAAADisPOk/AAAAMHGd6j8=",
          "dtype": "f8"
         },
         "yaxis": "y"
        },
        {
         "customdata": [
          [
           "Original | Kari-gurashi no Arietti | Family",
           "Family"
          ],
          [
           "Original | Finding Neverland | Family",
           "Family"
          ],
          [
           "Original | Mulan | Family",
           "Family"
          ],
          [
           "Original | Home Alone | Family",
           "Family"
          ]
         ],
         "hovertemplate": "Cluster=%{customdata[1]}<br>Type=Original<br>Distance to \"Norway\"=%{x}<br>Distance to \"Love\"=%{y}<br>Title=%{customdata[0]}<extra></extra>",
         "legendgroup": "Family, Original",
         "marker": {
          "color": "#00cc96",
          "symbol": "circle"
         },
         "mode": "markers",
         "name": "Family, Original",
         "opacity": 0.3,
         "orientation": "v",
         "showlegend": false,
         "type": "scatter",
         "x": {
          "bdata": "AAAASHBY7T8AAMDVHDLwPwAAAGLJYvA/AAAA9O//7j8=",
          "dtype": "f8"
         },
         "xaxis": "x",
         "y": {
          "bdata": "AAAA6PlI6j8AAACgE+rpPwAAAHA/qeY/AAAAYI386z8=",
          "dtype": "f8"
         },
         "yaxis": "y"
        },
        {
         "customdata": [
          [
           "Steered | Kari-gurashi no Arietti | Family",
           "Family"
          ],
          [
           "Steered | Finding Neverland | Family",
           "Family"
          ],
          [
           "Steered | Mulan | Family",
           "Family"
          ],
          [
           "Steered | Home Alone | Family",
           "Family"
          ]
         ],
         "hovertemplate": "Cluster=%{customdata[1]}<br>Type=Steered<br>Distance to \"Norway\"=%{x}<br>Distance to \"Love\"=%{y}<br>Title=%{customdata[0]}<extra></extra>",
         "legendgroup": "Family, Steered",
         "marker": {
          "color": "#00cc96",
          "symbol": "diamond"
         },
         "mode": "markers",
         "name": "Family, Steered",
         "opacity": 1,
         "orientation": "v",
         "showlegend": true,
         "type": "scatter",
         "x": {
          "bdata": "AAAAQKU+0j8AAACAuhjcPwAAAEA+Jtk/AAAAwHtc1j8=",
          "dtype": "f8"
         },
         "xaxis": "x",
         "y": {
          "bdata": "AAAAoPSZ6z8AAAAQo5/qPwAAANCmNOg/AAAAYFOU7D8=",
          "dtype": "f8"
         },
         "yaxis": "y"
        },
        {
         "customdata": [
          [
           "Original | A Star Is Born | Music",
           "Music"
          ],
          [
           "Original | A Hard Day's Night | Music",
           "Music"
          ]
         ],
         "hovertemplate": "Cluster=%{customdata[1]}<br>Type=Original<br>Distance to \"Norway\"=%{x}<br>Distance to \"Love\"=%{y}<br>Title=%{customdata[0]}<extra></extra>",
         "legendgroup": "Music, Original",
         "marker": {
          "color": "#ab63fa",
          "symbol": "circle"
         },
         "mode": "markers",
         "name": "Music, Original",
         "opacity": 0.3,
         "orientation": "v",
         "showlegend": false,
         "type": "scatter",
         "x": {
          "bdata": "AAAA8YDA8D8AAADrd5PvPw==",
          "dtype": "f8"
         },
         "xaxis": "x",
         "y": {
          "bdata": "AAAAsGH85z8AAADw0qDpPw==",
          "dtype": "f8"
         },
         "yaxis": "y"
        },
        {
         "customdata": [
          [
           "Steered | A Star Is Born | Music",
           "Music"
          ],
          [
           "Steered | A Hard Day's Night | Music",
           "Music"
          ]
         ],
         "hovertemplate": "Cluster=%{customdata[1]}<br>Type=Steered<br>Distance to \"Norway\"=%{x}<br>Distance to \"Love\"=%{y}<br>Title=%{customdata[0]}<extra></extra>",
         "legendgroup": "Music, Steered",
         "marker": {
          "color": "#ab63fa",
          "symbol": "diamond"
         },
         "mode": "markers",
         "name": "Music, Steered",
         "opacity": 1,
         "orientation": "v",
         "showlegend": true,
         "type": "scatter",
         "x": {
          "bdata": "AAAAgGM73D8AAACA/wvWPw==",
          "dtype": "f8"
         },
         "xaxis": "x",
         "y": {
          "bdata": "AAAAGCv+6D8AAAAwM87qPw==",
          "dtype": "f8"
         },
         "yaxis": "y"
        },
        {
         "customdata": [
          [
           "Original | True Grit | Western",
           "Western"
          ],
          [
           "Original | Giant | Western",
           "Western"
          ]
         ],
         "hovertemplate": "Cluster=%{customdata[1]}<br>Type=Original<br>Distance to \"Norway\"=%{x}<br>Distance to \"Love\"=%{y}<br>Title=%{customdata[0]}<extra></extra>",
         "legendgroup": "Western, Original",
         "marker": {
          "color": "#FFA15A",
          "symbol": "circle"
         },
         "mode": "markers",
         "name": "Western, Original",
         "opacity": 0.3,
         "orientation": "v",
         "showlegend": false,
         "type": "scatter",
         "x": {
          "bdata": "AAAAxAa28D8AAIBNGw/wPw==",
          "dtype": "f8"
         },
         "xaxis": "x",
         "y": {
          "bdata": "AAAA2BmE7D8AAABYsGbqPw==",
          "dtype": "f8"
         },
         "yaxis": "y"
        },
        {
         "customdata": [
          [
           "Steered | True Grit | Western",
           "Western"
          ],
          [
           "Steered | Giant | Western",
           "Western"
          ]
         ],
         "hovertemplate": "Cluster=%{customdata[1]}<br>Type=Steered<br>Distance to \"Norway\"=%{x}<br>Distance to \"Love\"=%{y}<br>Title=%{customdata[0]}<extra></extra>",
         "legendgroup": "Western, Steered",
         "marker": {
          "color": "#FFA15A",
          "symbol": "diamond"
         },
         "mode": "markers",
         "name": "Western, Steered",
         "opacity": 1,
         "orientation": "v",
         "showlegend": true,
         "type": "scatter",
         "x": {
          "bdata": "AAAAwAey3D8AAACAv//cPw==",
          "dtype": "f8"
         },
         "xaxis": "x",
         "y": {
          "bdata": "AAAAABe+7D8AAADIo/zqPw==",
          "dtype": "f8"
         },
         "yaxis": "y"
        },
        {
         "customdata": [
          [
           "Original | Hævnen | Romance",
           "Romance"
          ],
          [
           "Original | The Bridges of Madison County | Romance",
           "Romance"
          ],
          [
           "Original | Trois couleurs: Blanc | Romance",
           "Romance"
          ],
          [
           "Original | When Harry Met Sally... | Romance",
           "Romance"
          ],
          [
           "Original | Breakfast at Tiffany's | Romance",
           "Romance"
          ]
         ],
         "hovertemplate": "Cluster=%{customdata[1]}<br>Type=Original<br>Distance to \"Norway\"=%{x}<br>Distance to \"Love\"=%{y}<br>Title=%{customdata[0]}<extra></extra>",
         "legendgroup": "Romance, Original",
         "marker": {
          "color": "#19d3f3",
          "symbol": "circle"
         },
         "mode": "markers",
         "name": "Romance, Original",
         "opacity": 0.3,
         "orientation": "v",
         "showlegend": false,
         "type": "scatter",
         "x": {
          "bdata": "AAAA4LzT6D8AAADeAjbuPwAAAMBLCu0/AAAATotn7j8AAACNsnjwPw==",
          "dtype": "f8"
         },
         "xaxis": "x",
         "y": {
          "bdata": "AAAAADtx4z8AAAAAe7bpPwAAALD2U+Y/AAAAaDNp6D8AAABw3JDnPw==",
          "dtype": "f8"
         },
         "yaxis": "y"
        },
        {
         "customdata": [
          [
           "Steered | Hævnen | Romance",
           "Romance"
          ],
          [
           "Steered | The Bridges of Madison County | Romance",
           "Romance"
          ],
          [
           "Steered | Trois couleurs: Blanc | Romance",
           "Romance"
          ],
          [
           "Steered | When Harry Met Sally... | Romance",
           "Romance"
          ],
          [
           "Steered | Breakfast at Tiffany's | Romance",
           "Romance"
          ]
         ],
         "hovertemplate": "Cluster=%{customdata[1]}<br>Type=Steered<br>Distance to \"Norway\"=%{x}<br>Distance to \"Love\"=%{y}<br>Title=%{customdata[0]}<extra></extra>",
         "legendgroup": "Romance, Steered",
         "marker": {
          "color": "#19d3f3",
          "symbol": "diamond"
         },
         "mode": "markers",
         "name": "Romance, Steered",
         "opacity": 1,
         "orientation": "v",
         "showlegend": true,
         "type": "scatter",
         "x": {
          "bdata": "AAAAAAOAzz8AAADAZxPZPwAAAEBTeto/AAAAAHE02D8AAAAAk0TXPw==",
          "dtype": "f8"
         },
         "xaxis": "x",
         "y": {
          "bdata": "AAAA4Gst5z8AAABw6arqPwAAADAK1Oc/AAAAKDa06T8AAABA8RnpPw==",
          "dtype": "f8"
         },
         "yaxis": "y"
        },
        {
         "customdata": [
          [
           "Original | 50/50 | Comedy",
           "Comedy"
          ],
          [
           "Original | Kick-Ass | Comedy",
           "Comedy"
          ],
          [
           "Original | The Station Agent | Comedy",
           "Comedy"
          ],
          [
           "Original | Dazed and Confused | Comedy",
           "Comedy"
          ],
          [
           "Original | Delicatessen | Comedy",
           "Comedy"
          ],
          [
           "Original | Planes, Trains & Automobiles | Comedy",
           "Comedy"
          ],
          [
           "Original | The Muppet Movie | Comedy",
           "Comedy"
          ]
         ],
         "hovertemplate": "Cluster=%{customdata[1]}<br>Type=Original<br>Distance to \"Norway\"=%{x}<br>Distance to \"Love\"=%{y}<br>Title=%{customdata[0]}<extra></extra>",
         "legendgroup": "Comedy, Original",
         "marker": {
          "color": "#FF6692",
          "symbol": "circle"
         },
         "mode": "markers",
         "name": "Comedy, Original",
         "opacity": 0.3,
         "orientation": "v",
         "showlegend": false,
         "type": "scatter",
         "x": {
          "bdata": "AABATB8Z8D8AAADQYUftPwAAAOwlqew/AAAAzKbD7j8AAACa0XLwPwAAgPZ67u8/AAAAiANS8T8=",
          "dtype": "f8"
         },
         "xaxis": "x",
         "y": {
          "bdata": "AAAAoJrR6z8AAABcdXbsPwAAAABB/uY/AAAA0AGT6z8AAADQGeLrPwAAACh1d+g/AAAAEDYp6z8=",
          "dtype": "f8"
         },
         "yaxis": "y"
        },
        {
         "customdata": [
          [
           "Steered | 50/50 | Comedy",
           "Comedy"
          ],
          [
           "Steered | Kick-Ass | Comedy",
           "Comedy"
          ],
          [
           "Steered | The Station Agent | Comedy",
           "Comedy"
          ],
          [
           "Steered | Dazed and Confused | Comedy",
           "Comedy"
          ],
          [
           "Steered | Delicatessen | Comedy",
           "Comedy"
          ],
          [
           "Steered | Planes, Trains & Automobiles | Comedy",
           "Comedy"
          ],
          [
           "Steered | The Muppet Movie | Comedy",
           "Comedy"
          ]
         ],
         "hovertemplate": "Cluster=%{customdata[1]}<br>Type=Steered<br>Distance to \"Norway\"=%{x}<br>Distance to \"Love\"=%{y}<br>Title=%{customdata[0]}<extra></extra>",
         "legendgroup": "Comedy, Steered",
         "marker": {
          "color": "#FF6692",
          "symbol": "diamond"
         },
         "mode": "markers",
         "name": "Comedy, Steered",
         "opacity": 1,
         "orientation": "v",
         "showlegend": true,
         "type": "scatter",
         "x": {
          "bdata": "AAAAwM6U1z8AAAAARE3SPwAAAADw0dE/AAAAwLP42j8AAABAtrrbPwAAAMD5Rtc/AAAAgFQt3T8=",
          "dtype": "f8"
         },
         "xaxis": "x",
         "y": {
          "bdata": "AAAAJJlh7D8AAABwhiDtPwAAAKB5WOk/AAAASEUQ7D8AAAA47UHsPwAAAKAD0Ok/AAAAWA+Q6z8=",
          "dtype": "f8"
         },
         "yaxis": "y"
        },
        {
         "customdata": [
          [
           "Original | Moneyball | Biography",
           "Biography"
          ],
          [
           "Original | The Blind Side | Biography",
           "Biography"
          ],
          [
           "Original | La Vie En Rose | Biography",
           "Biography"
          ],
          [
           "Original | Huo Yuan Jia | Biography",
           "Biography"
          ],
          [
           "Original | Blow | Biography",
           "Biography"
          ],
          [
           "Original | The Hurricane | Biography",
           "Biography"
          ]
         ],
         "hovertemplate": "Cluster=%{customdata[1]}<br>Type=Original<br>Distance to \"Norway\"=%{x}<br>Distance to \"Love\"=%{y}<br>Title=%{customdata[0]}<extra></extra>",
         "legendgroup": "Biography, Original",
         "marker": {
          "color": "#B6E880",
          "symbol": "circle"
         },
         "mode": "markers",
         "name": "Biography, Original",
         "opacity": 0.3,
         "orientation": "v",
         "showlegend": false,
         "type": "scatter",
         "x": {
          "bdata": "AAAA1TTt8D8AAEA5oCXwPwAAAEOpbPA/AAAAMKtb8j8AAADdTULwPwAAAOzvofE/",
          "dtype": "f8"
         },
         "xaxis": "x",
         "y": {
          "bdata": "AAAApuas7j8AAABwMm/rPwAAABAZlus/AAAALGCK7T8AAAA8GcfsPwAAAAAm0es/",
          "dtype": "f8"
         },
         "yaxis": "y"
        },
        {
         "customdata": [
          [
           "Steered | Moneyball | Biography",
           "Biography"
          ],
          [
           "Steered | The Blind Side | Biography",
           "Biography"
          ],
          [
           "Steered | La Vie En Rose | Biography",
           "Biography"
          ],
          [
           "Steered | Huo Yuan Jia | Biography",
           "Biography"
          ],
          [
           "Steered | Blow | Biography",
           "Biography"
          ],
          [
           "Steered | The Hurricane | Biography",
           "Biography"
          ]
         ],
         "hovertemplate": "Cluster=%{customdata[1]}<br>Type=Steered<br>Distance to \"Norway\"=%{x}<br>Distance to \"Love\"=%{y}<br>Title=%{customdata[0]}<extra></extra>",
         "legendgroup": "Biography, Steered",
         "marker": {
          "color": "#B6E880",
          "symbol": "diamond"
         },
         "mode": "markers",
         "name": "Biography, Steered",
         "opacity": 1,
         "orientation": "v",
         "showlegend": true,
         "type": "scatter",
         "x": {
          "bdata": "AAAAwPUE2T8AAAAAYMjYPwAAAEB5NNM/AAAAwPxJ4D8AAACA87XZPwAAACBSGeA/",
          "dtype": "f8"
         },
         "xaxis": "x",
         "y": {
          "bdata": "AAAAwkqP7j8AAAC4TQbsPwAAADi8a+w/AAAAdFF37T8AAAA4Qg7tPwAAAIQCAew/",
          "dtype": "f8"
         },
         "yaxis": "y"
        },
        {
         "customdata": [
          [
           "Original | La piel que habito | Horror",
           "Horror"
          ],
          [
           "Original | 28 Days Later... | Horror",
           "Horror"
          ],
          [
           "Original | The Others | Horror",
           "Horror"
          ]
         ],
         "hovertemplate": "Cluster=%{customdata[1]}<br>Type=Original<br>Distance to \"Norway\"=%{x}<br>Distance to \"Love\"=%{y}<br>Title=%{customdata[0]}<extra></extra>",
         "legendgroup": "Horror, Original",
         "marker": {
          "color": "#FF97FF",
          "symbol": "circle"
         },
         "mode": "markers",
         "name": "Horror, Original",
         "opacity": 0.3,
         "orientation": "v",
         "showlegend": false,
         "type": "scatter",
         "x": {
          "bdata": "AAAA9OXb8T8AAABsdw3uPwAAAF6iAe4/",
          "dtype": "f8"
         },
         "xaxis": "x",
         "y": {
          "bdata": "AAAAaIiY7D8AAADokyfrPwAAABgEcOo/",
          "dtype": "f8"
         },
         "yaxis": "y"
        },
        {
         "customdata": [
          [
           "Steered | La piel que habito | Horror",
           "Horror"
          ],
          [
           "Steered | 28 Days Later... | Horror",
           "Horror"
          ],
          [
           "Steered | The Others | Horror",
           "Horror"
          ]
         ],
         "hovertemplate": "Cluster=%{customdata[1]}<br>Type=Steered<br>Distance to \"Norway\"=%{x}<br>Distance to \"Love\"=%{y}<br>Title=%{customdata[0]}<extra></extra>",
         "legendgroup": "Horror, Steered",
         "marker": {
          "color": "#FF97FF",
          "symbol": "diamond"
         },
         "mode": "markers",
         "name": "Horror, Steered",
         "opacity": 1,
         "orientation": "v",
         "showlegend": true,
         "type": "scatter",
         "x": {
          "bdata": "AAAAAFv82D8AAADAczzYPwAAAMA26Nk/",
          "dtype": "f8"
         },
         "xaxis": "x",
         "y": {
          "bdata": "AAAAXP7d7D8AAACAS9vrPwAAABjdMus/",
          "dtype": "f8"
         },
         "yaxis": "y"
        },
        {
         "customdata": [
          [
           "Original | Zombieland | Adventure",
           "Adventure"
          ],
          [
           "Original | The Secret of Kells | Adventure",
           "Adventure"
          ],
          [
           "Original | Harry Potter and the Half-Blood Prince | Adventure",
           "Adventure"
          ],
          [
           "Original | Harry Potter and the Sorcerer's Stone | Adventure",
           "Adventure"
          ],
          [
           "Original | Fear and Loathing in Las Vegas | Adventure",
           "Adventure"
          ],
          [
           "Original | Dead Man | Adventure",
           "Adventure"
          ],
          [
           "Original | Apollo 13 | Adventure",
           "Adventure"
          ],
          [
           "Original | Mad Max 2 | Adventure",
           "Adventure"
          ],
          [
           "Original | Watership Down | Adventure",
           "Adventure"
          ],
          [
           "Original | The Jungle Book | Adventure",
           "Adventure"
          ]
         ],
         "hovertemplate": "Cluster=%{customdata[1]}<br>Type=Original<br>Distance to \"Norway\"=%{x}<br>Distance to \"Love\"=%{y}<br>Title=%{customdata[0]}<extra></extra>",
         "legendgroup": "Adventure, Original",
         "marker": {
          "color": "#FECB52",
          "symbol": "circle"
         },
         "mode": "markers",
         "name": "Adventure, Original",
         "opacity": 0.3,
         "orientation": "v",
         "showlegend": false,
         "type": "scatter",
         "x": {
          "bdata": "AAAAq2ia7z8AAAD4HoXtPwAAABj04uo/AAAAgLcK7j8AAAAYe6fyPwAAAALJYe4/AAAAKcTd7z8AAABG/9PxPwAAAGTWkfE/AAAAUr1Z8T8=",
          "dtype": "f8"
         },
         "xaxis": "x",
         "y": {
          "bdata": "AAAAYJVR6j8AAAAgqOzrPwAAAKgCAOs/AAAA0A3e7D8AAAAIBX7rPwAAAEgBZOo/AAAA5BCV7T8AAAC4qODqPwAAAPC5Meo/AAAAeLuC6T8=",
          "dtype": "f8"
         },
         "yaxis": "y"
        },
        {
         "customdata": [
          [
           "Steered | Zombieland | Adventure",
           "Adventure"
          ],
          [
           "Steered | The Secret of Kells | Adventure",
           "Adventure"
          ],
          [
           "Steered | Harry Potter and the Half-Blood Prince | Adventure",
           "Adventure"
          ],
          [
           "Steered | Harry Potter and the Sorcerer's Stone | Adventure",
           "Adventure"
          ],
          [
           "Steered | Fear and Loathing in Las Vegas | Adventure",
           "Adventure"
          ],
          [
           "Steered | Dead Man | Adventure",
           "Adventure"
          ],
          [
           "Steered | Apollo 13 | Adventure",
           "Adventure"
          ],
          [
           "Steered | Mad Max 2 | Adventure",
           "Adventure"
          ],
          [
           "Steered | Watership Down | Adventure",
           "Adventure"
          ],
          [
           "Steered | The Jungle Book | Adventure",
           "Adventure"
          ]
         ],
         "hovertemplate": "Cluster=%{customdata[1]}<br>Type=Steered<br>Distance to \"Norway\"=%{x}<br>Distance to \"Love\"=%{y}<br>Title=%{customdata[0]}<extra></extra>",
         "legendgroup": "Adventure, Steered",
         "marker": {
          "color": "#FECB52",
          "symbol": "diamond"
         },
         "mode": "markers",
         "name": "Adventure, Steered",
         "opacity": 1,
         "orientation": "v",
         "showlegend": true,
         "type": "scatter",
         "x": {
          "bdata": "AAAAAOqk0j8AAABALwzTPwAAAADigNI/AAAAwLJ01j8AAACwCGLgPwAAAMCvTdc/AAAAAOXp2T8AAABA4RzbPwAAAADU89g/AAAAwBQI3j8=",
          "dtype": "f8"
         },
         "xaxis": "x",
         "y": {
          "bdata": "AAAAgK6T6z8AAABgA7XsPwAAAICKFew/AAAA0H1B7T8AAAAgYaLrPwAAANjST+s/AAAABOG07T8AAACIsGPrPwAAAIBd+Oo/AAAAAKUf6j8=",
          "dtype": "f8"
         },
         "yaxis": "y"
        },
        {
         "customdata": [
          [
           "Original | Sherlock Holmes | Mystery",
           "Mystery"
          ],
          [
           "Original | Watchmen | Mystery",
           "Mystery"
          ],
          [
           "Original | Un long dimanche de fiançailles | Mystery",
           "Mystery"
          ]
         ],
         "hovertemplate": "Cluster=%{customdata[1]}<br>Type=Original<br>Distance to \"Norway\"=%{x}<br>Distance to \"Love\"=%{y}<br>Title=%{customdata[0]}<extra></extra>",
         "legendgroup": "Mystery, Original",
         "marker": {
          "color": "#636efa",
          "symbol": "circle"
         },
         "mode": "markers",
         "name": "Mystery, Original",
         "opacity": 0.3,
         "orientation": "v",
         "showlegend": false,
         "type": "scatter",
         "x": {
          "bdata": "AAAAsIqV6z8AAAAa6hPvPwAAAECJreo/",
          "dtype": "f8"
         },
         "xaxis": "x",
         "y": {
          "bdata": "AAAA8KiF6D8AAAB4jq7pPwAAAEAeRuU/",
          "dtype": "f8"
         },
         "yaxis": "y"
        },
        {
         "customdata": [
          [
           "Steered | Sherlock Holmes | Mystery",
           "Mystery"
          ],
          [
           "Steered | Watchmen | Mystery",
           "Mystery"
          ],
          [
           "Steered | Un long dimanche de fiançailles | Mystery",
           "Mystery"
          ]
         ],
         "hovertemplate": "Cluster=%{customdata[1]}<br>Type=Steered<br>Distance to \"Norway\"=%{x}<br>Distance to \"Love\"=%{y}<br>Title=%{customdata[0]}<extra></extra>",
         "legendgroup": "Mystery, Steered",
         "marker": {
          "color": "#636efa",
          "symbol": "diamond"
         },
         "mode": "markers",
         "name": "Mystery, Steered",
         "opacity": 1,
         "orientation": "v",
         "showlegend": true,
         "type": "scatter",
         "x": {
          "bdata": "AAAAALqt1T8AAAAAcOTUPwAAAEBIeNU/",
          "dtype": "f8"
         },
         "xaxis": "x",
         "y": {
          "bdata": "AAAAGLAB6j8AAAC4HPHqPwAAAJB/jec/",
          "dtype": "f8"
         },
         "yaxis": "y"
        },
        {
         "customdata": [
          [
           "Original | The Visitor | Drama",
           "Drama"
          ],
          [
           "Original | Seven Pounds | Drama",
           "Drama"
          ],
          [
           "Original | 300 | Drama",
           "Drama"
          ],
          [
           "Original | Match Point | Drama",
           "Drama"
          ],
          [
           "Original | Lord of War | Drama",
           "Drama"
          ],
          [
           "Original | Synecdoche, New York | Drama",
           "Drama"
          ],
          [
           "Original | Mysterious Skin | Drama",
           "Drama"
          ],
          [
           "Original | Jeux d'enfants | Drama",
           "Drama"
          ],
          [
           "Original | 25th Hour | Drama",
           "Drama"
          ],
          [
           "Original | The Royal Tenenbaums | Drama",
           "Drama"
          ],
          [
           "Original | Y tu mamá también | Drama",
           "Drama"
          ],
          [
           "Original | Lola rennt | Drama",
           "Drama"
          ],
          [
           "Original | Funny Games | Drama",
           "Drama"
          ],
          [
           "Original | Sense and Sensibility | Drama",
           "Drama"
          ],
          [
           "Original | On Golden Pond | Drama",
           "Drama"
          ],
          [
           "Original | From Here to Eternity | Drama",
           "Drama"
          ]
         ],
         "hovertemplate": "Cluster=%{customdata[1]}<br>Type=Original<br>Distance to \"Norway\"=%{x}<br>Distance to \"Love\"=%{y}<br>Title=%{customdata[0]}<extra></extra>",
         "legendgroup": "Drama, Original",
         "marker": {
          "color": "#EF553B",
          "symbol": "circle"
         },
         "mode": "markers",
         "name": "Drama, Original",
         "opacity": 0.3,
         "orientation": "v",
         "showlegend": false,
         "type": "scatter",
         "x": {
          "bdata": "AAAAhoAR8T8AAABCQovuPwAAAHZhr+4/AAAAD0Oq8D8AAAB4oAbxPwAAAJB6lO4/AAAAVBn58T8AAAAskX7tPwAAgMrHafA/AAAAAI9X7z8AAACp1dTwPwAAAHaHOvA/AACAMlu37z8AAACoNNztPwAAACw0zPE/AAAAju108D8=",
          "dtype": "f8"
         },
         "xaxis": "x",
         "y": {
          "bdata": "AAAAkF3Q6D8AAADQiRboPwAAAIj99+4/AAAAYKBA5T8AAACY87nrPwAAAPhyl+o/AAAA0Nrr5z8AAADYnvboPwAAAODeZO0/AAAAUEfb5j8AAACwegnoPwAAALj/G+s/AAAAcCot6z8AAABorHTpPwAAALhiDeg/AAAAkKPo5z8=",
          "dtype": "f8"
         },
         "yaxis": "y"
        },
        {
         "customdata": [
          [
           "Steered | The Visitor | Drama",
           "Drama"
          ],
          [
           "Steered | Seven Pounds | Drama",
           "Drama"
          ],
          [
           "Steered | 300 | Drama",
           "Drama"
          ],
          [
           "Steered | Match Point | Drama",
           "Drama"
          ],
          [
           "Steered | Lord of War | Drama",
           "Drama"
          ],
          [
           "Steered | Synecdoche, New York | Drama",
           "Drama"
          ],
          [
           "Steered | Mysterious Skin | Drama",
           "Drama"
          ],
          [
           "Steered | Jeux d'enfants | Drama",
           "Drama"
          ],
          [
           "Steered | 25th Hour | Drama",
           "Drama"
          ],
          [
           "Steered | The Royal Tenenbaums | Drama",
           "Drama"
          ],
          [
           "Steered | Y tu mamá también | Drama",
           "Drama"
          ],
          [
           "Steered | Lola rennt | Drama",
           "Drama"
          ],
          [
           "Steered | Funny Games | Drama",
           "Drama"
          ],
          [
           "Steered | Sense and Sensibility | Drama",
           "Drama"
          ],
          [
           "Steered | On Golden Pond | Drama",
           "Drama"
          ],
          [
           "Steered | From Here to Eternity | Drama",
           "Drama"
          ]
         ],
         "hovertemplate": "Cluster=%{customdata[1]}<br>Type=Steered<br>Distance to \"Norway\"=%{x}<br>Distance to \"Love\"=%{y}<br>Title=%{customdata[0]}<extra></extra>",
         "legendgroup": "Drama, Steered",
         "marker": {
          "color": "#EF553B",
          "symbol": "diamond"
         },
         "mode": "markers",
         "name": "Drama, Steered",
         "opacity": 1,
         "orientation": "v",
         "showlegend": true,
         "type": "scatter",
         "x": {
          "bdata": "AAAAQIXV2z8AAABABEDYPwAAAEDpwNo/AAAAAJAn1z8AAAAA0XDePwAAAMB3a9U/AAAAwD7p2j8AAACA5iPRPwAAAEAmL9c/AAAAgOFL2T8AAADAe13ZPwAAAEDOY9g/AAAAQIX71j8AAACAkWPXPwAAAABrQNk/AAAAwOb61z8=",
          "dtype": "f8"
         },
         "xaxis": "x",
         "y": {
          "bdata": "AAAAINGw6T8AAACALXLpPwAAADr31e4/AAAAUGFS5z8AAAD4tgLsPwAAANh9les/AAAASF726D8AAAAYZsrqPwAAAExGmu0/AAAA4DVe6D8AAADA0ELpPwAAACj4yOs/AAAAWPHr6z8AAADA6pXqPwAAABDtOOk/AAAAgLlM6T8=",
          "dtype": "f8"
         },
         "yaxis": "y"
        },
        {
         "customdata": [
          [
           "Original | Stardust | Fantasy",
           "Fantasy"
          ],
          [
           "Original | The Illusionist | Fantasy",
           "Fantasy"
          ],
          [
           "Original | The Little Mermaid | Fantasy",
           "Fantasy"
          ]
         ],
         "hovertemplate": "Cluster=%{customdata[1]}<br>Type=Original<br>Distance to \"Norway\"=%{x}<br>Distance to \"Love\"=%{y}<br>Title=%{customdata[0]}<extra></extra>",
         "legendgroup": "Fantasy, Original",
         "marker": {
          "color": "#00cc96",
          "symbol": "circle"
         },
         "mode": "markers",
         "name": "Fantasy, Original",
         "opacity": 0.3,
         "orientation": "v",
         "showlegend": false,
         "type": "scatter",
         "x": {
          "bdata": "AAAAzjgV7z8AAABkk3ztPwAAgNqfku8/",
          "dtype": "f8"
         },
         "xaxis": "x",
         "y": {
          "bdata": "AAAAuNKZ6T8AAADALdXmPwAAALioj+g/",
          "dtype": "f8"
         },
         "yaxis": "y"
        },
        {
         "customdata": [
          [
           "Steered | Stardust | Fantasy",
           "Fantasy"
          ],
          [
           "Steered | The Illusionist | Fantasy",
           "Fantasy"
          ],
          [
           "Steered | The Little Mermaid | Fantasy",
           "Fantasy"
          ]
         ],
         "hovertemplate": "Cluster=%{customdata[1]}<br>Type=Steered<br>Distance to \"Norway\"=%{x}<br>Distance to \"Love\"=%{y}<br>Title=%{customdata[0]}<extra></extra>",
         "legendgroup": "Fantasy, Steered",
         "marker": {
          "color": "#00cc96",
          "symbol": "diamond"
         },
         "mode": "markers",
         "name": "Fantasy, Steered",
         "opacity": 1,
         "orientation": "v",
         "showlegend": true,
         "type": "scatter",
         "x": {
          "bdata": "AAAAgFoy1j8AAAAAK8DWPwAAAEDt2dw/",
          "dtype": "f8"
         },
         "xaxis": "x",
         "y": {
          "bdata": "AAAAcFLH6j8AAABYg5/oPwAAADDZduk/",
          "dtype": "f8"
         },
         "yaxis": "y"
        },
        {
         "customdata": [
          [
           "Original | Batoru rowaiaru | Action",
           "Action"
          ]
         ],
         "hovertemplate": "Cluster=%{customdata[1]}<br>Type=Original<br>Distance to \"Norway\"=%{x}<br>Distance to \"Love\"=%{y}<br>Title=%{customdata[0]}<extra></extra>",
         "legendgroup": "Action, Original",
         "marker": {
          "color": "#ab63fa",
          "symbol": "circle"
         },
         "mode": "markers",
         "name": "Action, Original",
         "opacity": 0.3,
         "orientation": "v",
         "showlegend": false,
         "type": "scatter",
         "x": {
          "bdata": "AAAAqYfV7z8=",
          "dtype": "f8"
         },
         "xaxis": "x",
         "y": {
          "bdata": "AAAAyHYY6z8=",
          "dtype": "f8"
         },
         "yaxis": "y"
        },
        {
         "customdata": [
          [
           "Steered | Batoru rowaiaru | Action",
           "Action"
          ]
         ],
         "hovertemplate": "Cluster=%{customdata[1]}<br>Type=Steered<br>Distance to \"Norway\"=%{x}<br>Distance to \"Love\"=%{y}<br>Title=%{customdata[0]}<extra></extra>",
         "legendgroup": "Action, Steered",
         "marker": {
          "color": "#ab63fa",
          "symbol": "diamond"
         },
         "mode": "markers",
         "name": "Action, Steered",
         "opacity": 1,
         "orientation": "v",
         "showlegend": true,
         "type": "scatter",
         "x": {
          "bdata": "AAAAwGsY2D8=",
          "dtype": "f8"
         },
         "xaxis": "x",
         "y": {
          "bdata": "AAAAYHrM6z8=",
          "dtype": "f8"
         },
         "yaxis": "y"
        },
        {
         "customdata": [
          [
           "Original | Enemy at the Gates | War",
           "War"
          ],
          [
           "Original | The Thin Red Line | War",
           "War"
          ],
          [
           "Original | Giù la testa | War",
           "War"
          ],
          [
           "Original | Kelly's Heroes | War",
           "War"
          ],
          [
           "Original | Lifeboat | War",
           "War"
          ]
         ],
         "hovertemplate": "Cluster=%{customdata[1]}<br>Type=Original<br>Distance to \"Norway\"=%{x}<br>Distance to \"Love\"=%{y}<br>Title=%{customdata[0]}<extra></extra>",
         "legendgroup": "War, Original",
         "marker": {
          "color": "#FFA15A",
          "symbol": "circle"
         },
         "mode": "markers",
         "name": "War, Original",
         "opacity": 0.3,
         "orientation": "v",
         "showlegend": false,
         "type": "scatter",
         "x": {
          "bdata": "AAAAqBVD6z8AAACtEWDvPwAAAMKu7PE/AAAAAD6P7T8AAADUegrtPw==",
          "dtype": "f8"
         },
         "xaxis": "x",
         "y": {
          "bdata": "AAAAGm3d7j8AAAA4jLDqPwAAADhp+eo/AAAAnhkb7j8AAADgNB3rPw==",
          "dtype": "f8"
         },
         "yaxis": "y"
        },
        {
         "customdata": [
          [
           "Steered | Enemy at the Gates | War",
           "War"
          ],
          [
           "Steered | The Thin Red Line | War",
           "War"
          ],
          [
           "Steered | Giù la testa | War",
           "War"
          ],
          [
           "Steered | Kelly's Heroes | War",
           "War"
          ],
          [
           "Steered | Lifeboat | War",
           "War"
          ]
         ],
         "hovertemplate": "Cluster=%{customdata[1]}<br>Type=Steered<br>Distance to \"Norway\"=%{x}<br>Distance to \"Love\"=%{y}<br>Title=%{customdata[0]}<extra></extra>",
         "legendgroup": "War, Steered",
         "marker": {
          "color": "#FFA15A",
          "symbol": "diamond"
         },
         "mode": "markers",
         "name": "War, Steered",
         "opacity": 1,
         "orientation": "v",
         "showlegend": true,
         "type": "scatter",
         "x": {
          "bdata": "AAAAAOgu2D8AAACAObvZPwAAAMBUSd4/AAAAABa72D8AAAAA/hDWPw==",
          "dtype": "f8"
         },
         "xaxis": "x",
         "y": {
          "bdata": "AAAAlGzN7j8AAADI3WXrPwAAANDrUus/AAAAIiAs7j8AAABgVfLrPw==",
          "dtype": "f8"
         },
         "yaxis": "y"
        },
        {
         "customdata": [
          [
           "Original | Omohide poro poro | Animation",
           "Animation"
          ]
         ],
         "hovertemplate": "Cluster=%{customdata[1]}<br>Type=Original<br>Distance to \"Norway\"=%{x}<br>Distance to \"Love\"=%{y}<br>Title=%{customdata[0]}<extra></extra>",
         "legendgroup": "Animation, Original",
         "marker": {
          "color": "#19d3f3",
          "symbol": "circle"
         },
         "mode": "markers",
         "name": "Animation, Original",
         "opacity": 0.3,
         "orientation": "v",
         "showlegend": false,
         "type": "scatter",
         "x": {
          "bdata": "AAAAtmkZ8T8=",
          "dtype": "f8"
         },
         "xaxis": "x",
         "y": {
          "bdata": "AAAAKJtH6T8=",
          "dtype": "f8"
         },
         "yaxis": "y"
        },
        {
         "customdata": [
          [
           "Steered | Omohide poro poro | Animation",
           "Animation"
          ]
         ],
         "hovertemplate": "Cluster=%{customdata[1]}<br>Type=Steered<br>Distance to \"Norway\"=%{x}<br>Distance to \"Love\"=%{y}<br>Title=%{customdata[0]}<extra></extra>",
         "legendgroup": "Animation, Steered",
         "marker": {
          "color": "#19d3f3",
          "symbol": "diamond"
         },
         "mode": "markers",
         "name": "Animation, Steered",
         "opacity": 1,
         "orientation": "v",
         "showlegend": true,
         "type": "scatter",
         "x": {
          "bdata": "AAAAQFUT3D8=",
          "dtype": "f8"
         },
         "xaxis": "x",
         "y": {
          "bdata": "AAAACBgP6j8=",
          "dtype": "f8"
         },
         "yaxis": "y"
        },
        {
         "customdata": [
          [
           "Original | Close Encounters of the Third Kind | Sci-Fi",
           "Sci-Fi"
          ]
         ],
         "hovertemplate": "Cluster=%{customdata[1]}<br>Type=Original<br>Distance to \"Norway\"=%{x}<br>Distance to \"Love\"=%{y}<br>Title=%{customdata[0]}<extra></extra>",
         "legendgroup": "Sci-Fi, Original",
         "marker": {
          "color": "#FF6692",
          "symbol": "circle"
         },
         "mode": "markers",
         "name": "Sci-Fi, Original",
         "opacity": 0.3,
         "orientation": "v",
         "showlegend": false,
         "type": "scatter",
         "x": {
          "bdata": "AAAAfN2u8D8=",
          "dtype": "f8"
         },
         "xaxis": "x",
         "y": {
          "bdata": "AAAAaK6X6z8=",
          "dtype": "f8"
         },
         "yaxis": "y"
        },
        {
         "customdata": [
          [
           "Steered | Close Encounters of the Third Kind | Sci-Fi",
           "Sci-Fi"
          ]
         ],
         "hovertemplate": "Cluster=%{customdata[1]}<br>Type=Steered<br>Distance to \"Norway\"=%{x}<br>Distance to \"Love\"=%{y}<br>Title=%{customdata[0]}<extra></extra>",
         "legendgroup": "Sci-Fi, Steered",
         "marker": {
          "color": "#FF6692",
          "symbol": "diamond"
         },
         "mode": "markers",
         "name": "Sci-Fi, Steered",
         "opacity": 1,
         "orientation": "v",
         "showlegend": true,
         "type": "scatter",
         "x": {
          "bdata": "AAAAQLzs2T8=",
          "dtype": "f8"
         },
         "xaxis": "x",
         "y": {
          "bdata": "AAAAWNoU7D8=",
          "dtype": "f8"
         },
         "yaxis": "y"
        },
        {
         "hoverinfo": "none",
         "line": {
          "color": "gray",
          "dash": "dot",
          "width": 1
         },
         "mode": "lines",
         "showlegend": false,
         "type": "scatter",
         "x": [
          0.9947705902159214,
          0.37164783477783203
         ],
         "y": [
          0.8749644160270691,
          0.8911767974495888
         ]
        },
        {
         "hoverinfo": "none",
         "line": {
          "color": "gray",
          "dash": "dot",
          "width": 1
         },
         "mode": "lines",
         "showlegend": false,
         "type": "scatter",
         "x": [
          1.1204395964741707,
          0.4392579197883606
         ],
         "y": [
          0.7875689268112183,
          0.8105831742286682
         ]
        },
        {
         "hoverinfo": "none",
         "line": {
          "color": "gray",
          "dash": "dot",
          "width": 1
         },
         "mode": "lines",
         "showlegend": false,
         "type": "scatter",
         "x": [
          0.9170457273721695,
          0.28507357835769653
         ],
         "y": [
          0.8214082270860672,
          0.8625434041023254
         ]
        },
        {
         "hoverinfo": "none",
         "line": {
          "color": "gray",
          "dash": "dot",
          "width": 1
         },
         "mode": "lines",
         "showlegend": false,
         "type": "scatter",
         "x": [
          1.046997968107462,
          0.4411247968673706
         ],
         "y": [
          0.749558299779892,
          0.7810264080762863
         ]
        },
        {
         "hoverinfo": "none",
         "line": {
          "color": "gray",
          "dash": "dot",
          "width": 1
         },
         "mode": "lines",
         "showlegend": false,
         "type": "scatter",
         "x": [
          1.044440045952797,
          0.44836610555648804
         ],
         "y": [
          0.8911256045103073,
          0.8982043266296387
         ]
        },
        {
         "hoverinfo": "none",
         "line": {
          "color": "gray",
          "dash": "dot",
          "width": 1
         },
         "mode": "lines",
         "showlegend": false,
         "type": "scatter",
         "x": [
          0.7758468985557556,
          0.24609410762786865
         ],
         "y": [
          0.607572078704834,
          0.7242946028709412
         ]
        },
        {
         "hoverinfo": "none",
         "line": {
          "color": "gray",
          "dash": "dot",
          "width": 1
         },
         "mode": "lines",
         "showlegend": false,
         "type": "scatter",
         "x": [
          0.9992898777127266,
          0.34498703479766846
         ],
         "y": [
          0.6734148263931274,
          0.7411145865917206
         ]
        },
        {
         "hoverinfo": "none",
         "line": {
          "color": "gray",
          "dash": "dot",
          "width": 1
         },
         "mode": "lines",
         "showlegend": false,
         "type": "scatter",
         "x": [
          1.0061333635821939,
          0.36845749616622925
         ],
         "y": [
          0.8693364262580872,
          0.8869138434529305
         ]
        },
        {
         "hoverinfo": "none",
         "line": {
          "color": "gray",
          "dash": "dot",
          "width": 1
         },
         "mode": "lines",
         "showlegend": false,
         "type": "scatter",
         "x": [
          0.9149636328220367,
          0.2859659194946289
         ],
         "y": [
          0.8894602581858635,
          0.9102203547954559
         ]
        },
        {
         "hoverinfo": "none",
         "line": {
          "color": "gray",
          "dash": "dot",
          "width": 1
         },
         "mode": "lines",
         "showlegend": false,
         "type": "scatter",
         "x": [
          1.0686919838190079,
          0.38723576068878174
         ],
         "y": [
          0.8034935295581818,
          0.8319931030273438
         ]
        },
        {
         "hoverinfo": "none",
         "line": {
          "color": "gray",
          "dash": "dot",
          "width": 1
         },
         "mode": "lines",
         "showlegend": false,
         "type": "scatter",
         "x": [
          1.0579117126762867,
          0.3909277319908142
         ],
         "y": [
          0.9586060754954815,
          0.954991701990366
         ]
        },
        {
         "hoverinfo": "none",
         "line": {
          "color": "gray",
          "dash": "dot",
          "width": 1
         },
         "mode": "lines",
         "showlegend": false,
         "type": "scatter",
         "x": [
          1.1161860972642899,
          0.39040255546569824
         ],
         "y": [
          0.8936197310686111,
          0.9020988270640373
         ]
        },
        {
         "hoverinfo": "none",
         "line": {
          "color": "gray",
          "dash": "dot",
          "width": 1
         },
         "mode": "lines",
         "showlegend": false,
         "type": "scatter",
         "x": [
          0.9875987377017736,
          0.29131555557250977
         ],
         "y": [
          0.8224589228630066,
          0.8617775440216064
         ]
        },
        {
         "hoverinfo": "none",
         "line": {
          "color": "gray",
          "dash": "dot",
          "width": 1
         },
         "mode": "lines",
         "showlegend": false,
         "type": "scatter",
         "x": [
          1.043669506907463,
          0.36755096912384033
         ],
         "y": [
          0.8261079341173172,
          0.8528435081243515
         ]
        },
        {
         "hoverinfo": "none",
         "line": {
          "color": "gray",
          "dash": "dot",
          "width": 1
         },
         "mode": "lines",
         "showlegend": false,
         "type": "scatter",
         "x": [
          0.8620046079158783,
          0.3387284278869629
         ],
         "y": [
          0.7663159072399139,
          0.8127060383558273
         ]
        },
        {
         "hoverinfo": "none",
         "line": {
          "color": "gray",
          "dash": "dot",
          "width": 1
         },
         "mode": "lines",
         "showlegend": false,
         "type": "scatter",
         "x": [
          1.0091860042884946,
          0.38722991943359375
         ],
         "y": [
          0.8573238551616669,
          0.8757694810628891
         ]
        },
        {
         "hoverinfo": "none",
         "line": {
          "color": "gray",
          "dash": "dot",
          "width": 1
         },
         "mode": "lines",
         "showlegend": false,
         "type": "scatter",
         "x": [
          1.0667729601264,
          0.4349072575569153
         ],
         "y": [
          0.7754352390766144,
          0.8028340935707092
         ]
        },
        {
         "hoverinfo": "none",
         "line": {
          "color": "gray",
          "dash": "dot",
          "width": 1
         },
         "mode": "lines",
         "showlegend": false,
         "type": "scatter",
         "x": [
          0.9544993676245213,
          0.3789072632789612
         ],
         "y": [
          0.7527512609958649,
          0.7951877117156982
         ]
        },
        {
         "hoverinfo": "none",
         "line": {
          "color": "gray",
          "dash": "dot",
          "width": 1
         },
         "mode": "lines",
         "showlegend": false,
         "type": "scatter",
         "x": [
          0.9696320816874504,
          0.3863644599914551
         ],
         "y": [
          0.8462582677602768,
          0.8676390945911407
         ]
        },
        {
         "hoverinfo": "none",
         "line": {
          "color": "gray",
          "dash": "dot",
          "width": 1
         },
         "mode": "lines",
         "showlegend": false,
         "type": "scatter",
         "x": [
          0.9713405631482601,
          0.3468233346939087
         ],
         "y": [
          0.8000272363424301,
          0.8368313014507294
         ]
        },
        {
         "hoverinfo": "none",
         "line": {
          "color": "gray",
          "dash": "dot",
          "width": 1
         },
         "mode": "lines",
         "showlegend": false,
         "type": "scatter",
         "x": [
          0.9225001186132431,
          0.29761868715286255
         ],
         "y": [
          0.8726387619972229,
          0.8970963358879089
         ]
        },
        {
         "hoverinfo": "none",
         "line": {
          "color": "gray",
          "dash": "dot",
          "width": 1
         },
         "mode": "lines",
         "showlegend": false,
         "type": "scatter",
         "x": [
          1.0430476479232311,
          0.3672780394554138
         ],
         "y": [
          0.799556627869606,
          0.832310140132904
         ]
        },
        {
         "hoverinfo": "none",
         "line": {
          "color": "gray",
          "dash": "dot",
          "width": 1
         },
         "mode": "lines",
         "showlegend": false,
         "type": "scatter",
         "x": [
          1.0267533957958221,
          0.41515326499938965
         ],
         "y": [
          0.7663798779249191,
          0.7992076575756073
         ]
        },
        {
         "hoverinfo": "none",
         "line": {
          "color": "gray",
          "dash": "dot",
          "width": 1
         },
         "mode": "lines",
         "showlegend": false,
         "type": "scatter",
         "x": [
          1.0265286080539227,
          0.30007773637771606
         ],
         "y": [
          0.8620724976062775,
          0.8881512731313705
         ]
        },
        {
         "hoverinfo": "none",
         "line": {
          "color": "gray",
          "dash": "dot",
          "width": 1
         },
         "mode": "lines",
         "showlegend": false,
         "type": "scatter",
         "x": [
          1.1473800539970398,
          0.5090316534042358
         ],
         "y": [
          0.9231415614485741,
          0.9208152070641518
         ]
        },
        {
         "hoverinfo": "none",
         "line": {
          "color": "gray",
          "dash": "dot",
          "width": 1
         },
         "mode": "lines",
         "showlegend": false,
         "type": "scatter",
         "x": [
          0.9214570000767708,
          0.35547900199890137
         ],
         "y": [
          0.7135227918624878,
          0.7694718092679977
         ]
        },
        {
         "hoverinfo": "none",
         "line": {
          "color": "gray",
          "dash": "dot",
          "width": 1
         },
         "mode": "lines",
         "showlegend": false,
         "type": "scatter",
         "x": [
          1.0023971353657544,
          0.3732648491859436
         ],
         "y": [
          0.8372593224048615,
          0.8615538477897644
         ]
        },
        {
         "hoverinfo": "none",
         "line": {
          "color": "gray",
          "dash": "dot",
          "width": 1
         },
         "mode": "lines",
         "showlegend": false,
         "type": "scatter",
         "x": [
          0.8402042835950851,
          0.28911638259887695
         ],
         "y": [
          0.8437512665987015,
          0.8776295185089111
         ]
        },
        {
         "hoverinfo": "none",
         "line": {
          "color": "gray",
          "dash": "dot",
          "width": 1
         },
         "mode": "lines",
         "showlegend": false,
         "type": "scatter",
         "x": [
          0.9589087776839733,
          0.41802436113357544
         ],
         "y": [
          0.9677722603082657,
          0.9636188633739948
         ]
        },
        {
         "hoverinfo": "none",
         "line": {
          "color": "gray",
          "dash": "dot",
          "width": 1
         },
         "mode": "lines",
         "showlegend": false,
         "type": "scatter",
         "x": [
          1.0415678583085537,
          0.3617897033691406
         ],
         "y": [
          0.6641389727592468,
          0.7288061678409576
         ]
        },
        {
         "hoverinfo": "none",
         "line": {
          "color": "gray",
          "dash": "dot",
          "width": 1
         },
         "mode": "lines",
         "showlegend": false,
         "type": "scatter",
         "x": [
          0.9711809642612934,
          0.3264427185058594
         ],
         "y": [
          0.8025581687688828,
          0.8419326394796371
         ]
        },
        {
         "hoverinfo": "none",
         "line": {
          "color": "gray",
          "dash": "dot",
          "width": 1
         },
         "mode": "lines",
         "showlegend": false,
         "type": "scatter",
         "x": [
          1.0641178786754608,
          0.4756357669830322
         ],
         "y": [
          0.866449162364006,
          0.87533138692379
         ]
        },
        {
         "hoverinfo": "none",
         "line": {
          "color": "gray",
          "dash": "dot",
          "width": 1
         },
         "mode": "lines",
         "showlegend": false,
         "type": "scatter",
         "x": [
          0.9543820731341839,
          0.32490968704223633
         ],
         "y": [
          0.7737171798944473,
          0.8210194706916809
         ]
        },
        {
         "hoverinfo": "none",
         "line": {
          "color": "gray",
          "dash": "dot",
          "width": 1
         },
         "mode": "lines",
         "showlegend": false,
         "type": "scatter",
         "x": [
          0.9556248486042023,
          0.3346843123435974
         ],
         "y": [
          0.8309874385595322,
          0.8619984835386276
         ]
        },
        {
         "hoverinfo": "none",
         "line": {
          "color": "gray",
          "dash": "dot",
          "width": 1
         },
         "mode": "lines",
         "showlegend": false,
         "type": "scatter",
         "x": [
          1.1233151704072952,
          0.4204861521720886
         ],
         "y": [
          0.7475408613681793,
          0.7800742536783218
         ]
        },
        {
         "hoverinfo": "none",
         "line": {
          "color": "gray",
          "dash": "dot",
          "width": 1
         },
         "mode": "lines",
         "showlegend": false,
         "type": "scatter",
         "x": [
          0.921700082719326,
          0.2678161859512329
         ],
         "y": [
          0.7801050394773483,
          0.8372068852186203
         ]
        },
        {
         "hoverinfo": "none",
         "line": {
          "color": "gray",
          "dash": "dot",
          "width": 1
         },
         "mode": "lines",
         "showlegend": false,
         "type": "scatter",
         "x": [
          0.8336836099624634,
          0.3354664444923401
         ],
         "y": [
          0.6648093461990356,
          0.7360227406024933
         ]
        },
        {
         "hoverinfo": "none",
         "line": {
          "color": "gray",
          "dash": "dot",
          "width": 1
         },
         "mode": "lines",
         "showlegend": false,
         "type": "scatter",
         "x": [
          0.8956479653716087,
          0.2784385681152344
         ],
         "y": [
          0.7185368537902832,
          0.7920501828193665
         ]
        },
        {
         "hoverinfo": "none",
         "line": {
          "color": "gray",
          "dash": "dot",
          "width": 1
         },
         "mode": "lines",
         "showlegend": false,
         "type": "scatter",
         "x": [
          1.0301358327269554,
          0.37718427181243896
         ],
         "y": [
          0.736612856388092,
          0.7818780988454819
         ]
        },
        {
         "hoverinfo": "none",
         "line": {
          "color": "gray",
          "dash": "dot",
          "width": 1
         },
         "mode": "lines",
         "showlegend": false,
         "type": "scatter",
         "x": [
          1.0070976577699184,
          0.3650692105293274
         ],
         "y": [
          0.8988248109817505,
          0.9099816381931305
         ]
        },
        {
         "hoverinfo": "none",
         "line": {
          "color": "gray",
          "dash": "dot",
          "width": 1
         },
         "mode": "lines",
         "showlegend": false,
         "type": "scatter",
         "x": [
          1.0122345304116607,
          0.43900930881500244
         ],
         "y": [
          0.8098238110542297,
          0.8319869339466095
         ]
        },
        {
         "hoverinfo": "none",
         "line": {
          "color": "gray",
          "dash": "dot",
          "width": 1
         },
         "mode": "lines",
         "showlegend": false,
         "type": "scatter",
         "x": [
          1.0258253011852503,
          0.36225277185440063
         ],
         "y": [
          0.9185633063316345,
          0.9250823482871056
         ]
        },
        {
         "hoverinfo": "none",
         "line": {
          "color": "gray",
          "dash": "dot",
          "width": 1
         },
         "mode": "lines",
         "showlegend": false,
         "type": "scatter",
         "x": [
          1.0518153086304665,
          0.3556954264640808
         ],
         "y": [
          0.7818223387002945,
          0.8202621787786484
         ]
        },
        {
         "hoverinfo": "none",
         "line": {
          "color": "gray",
          "dash": "dot",
          "width": 1
         },
         "mode": "lines",
         "showlegend": false,
         "type": "scatter",
         "x": [
          0.9391438588500023,
          0.378689706325531
         ],
         "y": [
          0.8485812693834305,
          0.8705193996429443
         ]
        },
        {
         "hoverinfo": "none",
         "line": {
          "color": "gray",
          "dash": "dot",
          "width": 1
         },
         "mode": "lines",
         "showlegend": false,
         "type": "scatter",
         "x": [
          0.9948156643658876,
          0.3764905333518982
         ],
         "y": [
          0.8467363268136978,
          0.8687106966972351
         ]
        },
        {
         "hoverinfo": "none",
         "line": {
          "color": "gray",
          "dash": "dot",
          "width": 1
         },
         "mode": "lines",
         "showlegend": false,
         "type": "scatter",
         "x": [
          0.979438304901123,
          0.3952564001083374
         ],
         "y": [
          0.7142674028873444,
          0.7615002989768982
         ]
        },
        {
         "hoverinfo": "none",
         "line": {
          "color": "gray",
          "dash": "dot",
          "width": 1
         },
         "mode": "lines",
         "showlegend": false,
         "type": "scatter",
         "x": [
          1.051961574703455,
          0.3963307738304138
         ],
         "y": [
          0.751157134771347,
          0.7894061803817749
         ]
        },
        {
         "hoverinfo": "none",
         "line": {
          "color": "gray",
          "dash": "dot",
          "width": 1
         },
         "mode": "lines",
         "showlegend": false,
         "type": "scatter",
         "x": [
          0.9388082027435303,
          0.3508726954460144
         ],
         "y": [
          0.9021061956882477,
          0.9142445623874664
         ]
        },
        {
         "hoverinfo": "none",
         "line": {
          "color": "gray",
          "dash": "dot",
          "width": 1
         },
         "mode": "lines",
         "showlegend": false,
         "type": "scatter",
         "x": [
          0.9376994930207729,
          0.4047982096672058
         ],
         "y": [
          0.8261738270521164,
          0.8499589413404465
         ]
        },
        {
         "hoverinfo": "none",
         "line": {
          "color": "gray",
          "dash": "dot",
          "width": 1
         },
         "mode": "lines",
         "showlegend": false,
         "type": "scatter",
         "x": [
          1.0161875374615192,
          0.40173041820526123
         ],
         "y": [
          0.899304024875164,
          0.9079905599355698
         ]
        },
        {
         "hoverinfo": "none",
         "line": {
          "color": "gray",
          "dash": "dot",
          "width": 1
         },
         "mode": "lines",
         "showlegend": false,
         "type": "scatter",
         "x": [
          0.8519390374422073,
          0.37786293029785156
         ],
         "y": [
          0.964529562741518,
          0.962576188147068
         ]
        },
        {
         "hoverinfo": "none",
         "line": {
          "color": "gray",
          "dash": "dot",
          "width": 1
         },
         "mode": "lines",
         "showlegend": false,
         "type": "scatter",
         "x": [
          1.0044656936079264,
          0.38937073945999146
         ],
         "y": [
          0.8549032658338547,
          0.8737285137176514
         ]
        },
        {
         "hoverinfo": "none",
         "line": {
          "color": "gray",
          "dash": "dot",
          "width": 1
         },
         "mode": "lines",
         "showlegend": false,
         "type": "scatter",
         "x": [
          1.1020354479551315,
          0.5030909180641174
         ],
         "y": [
          0.8692808151245117,
          0.8751232698559761
         ]
        },
        {
         "hoverinfo": "none",
         "line": {
          "color": "gray",
          "dash": "dot",
          "width": 1
         },
         "mode": "lines",
         "showlegend": false,
         "type": "scatter",
         "x": [
          1.064006507396698,
          0.3547348976135254
         ],
         "y": [
          0.8206495195627213,
          0.8498539924621582
         ]
        },
        {
         "hoverinfo": "none",
         "line": {
          "color": "gray",
          "dash": "dot",
          "width": 1
         },
         "mode": "lines",
         "showlegend": false,
         "type": "scatter",
         "x": [
          1.01428934186697,
          0.3810916543006897
         ],
         "y": [
          0.8471678346395493,
          0.8682823926210403
         ]
        },
        {
         "hoverinfo": "none",
         "line": {
          "color": "gray",
          "dash": "dot",
          "width": 1
         },
         "mode": "lines",
         "showlegend": false,
         "type": "scatter",
         "x": [
          0.9804771784693003,
          0.40205228328704834
         ],
         "y": [
          0.8340512365102768,
          0.8561848551034927
         ]
        },
        {
         "hoverinfo": "none",
         "line": {
          "color": "gray",
          "dash": "dot",
          "width": 1
         },
         "mode": "lines",
         "showlegend": false,
         "type": "scatter",
         "x": [
          1.024117834866047,
          0.3929591774940491
         ],
         "y": [
          0.7081601321697235,
          0.7564271986484528
         ]
        },
        {
         "hoverinfo": "none",
         "line": {
          "color": "gray",
          "dash": "dot",
          "width": 1
         },
         "mode": "lines",
         "showlegend": false,
         "type": "scatter",
         "x": [
          1.1658888757228851,
          0.5119670331478119
         ],
         "y": [
          0.8591332584619522,
          0.8635717034339905
         ]
        },
        {
         "hoverinfo": "none",
         "line": {
          "color": "gray",
          "dash": "dot",
          "width": 1
         },
         "mode": "lines",
         "showlegend": false,
         "type": "scatter",
         "x": [
          0.9911323534324765,
          0.3591015934944153
         ],
         "y": [
          0.8492633998394012,
          0.8725516051054001
         ]
        },
        {
         "hoverinfo": "none",
         "line": {
          "color": "gray",
          "dash": "dot",
          "width": 1
         },
         "mode": "lines",
         "showlegend": false,
         "type": "scatter",
         "x": [
          0.9415659941732883,
          0.3497850298881531
         ],
         "y": [
          0.6580435931682587,
          0.7285438776016235
         ]
        },
        {
         "hoverinfo": "none",
         "line": {
          "color": "gray",
          "dash": "dot",
          "width": 1
         },
         "mode": "lines",
         "showlegend": false,
         "type": "scatter",
         "x": [
          1.0120969768613577,
          0.3549121618270874
         ],
         "y": [
          0.8330507725477219,
          0.8603142201900482
         ]
        },
        {
         "hoverinfo": "none",
         "line": {
          "color": "gray",
          "dash": "dot",
          "width": 1
         },
         "mode": "lines",
         "showlegend": false,
         "type": "scatter",
         "x": [
          1.0325126200914383,
          0.39423298835754395
         ],
         "y": [
          0.845064714550972,
          0.864972397685051
         ]
        },
        {
         "hoverinfo": "none",
         "line": {
          "color": "gray",
          "dash": "dot",
          "width": 1
         },
         "mode": "lines",
         "showlegend": false,
         "type": "scatter",
         "x": [
          0.9331305772066116,
          0.3654521703720093
         ],
         "y": [
          0.7954923659563065,
          0.8308004140853882
         ]
        },
        {
         "hoverinfo": "none",
         "line": {
          "color": "gray",
          "dash": "dot",
          "width": 1
         },
         "mode": "lines",
         "showlegend": false,
         "type": "scatter",
         "x": [
          1.0880771055817604,
          0.4019700288772583
         ],
         "y": [
          0.9358834624290466,
          0.9360331296920776
         ]
        },
        {
         "hoverinfo": "none",
         "line": {
          "color": "gray",
          "dash": "dot",
          "width": 1
         },
         "mode": "lines",
         "showlegend": false,
         "type": "scatter",
         "x": [
          0.9494366683065891,
          0.3641166090965271
         ],
         "y": [
          0.824707642197609,
          0.8534940928220749
         ]
        },
        {
         "hoverinfo": "none",
         "line": {
          "color": "gray",
          "dash": "dot",
          "width": 1
         },
         "mode": "lines",
         "showlegend": false,
         "type": "scatter",
         "x": [
          0.9440931640565395,
          0.3918094038963318
         ],
         "y": [
          0.803525447845459,
          0.833363264799118
         ]
        },
        {
         "hoverinfo": "none",
         "line": {
          "color": "gray",
          "dash": "dot",
          "width": 1
         },
         "mode": "lines",
         "showlegend": false,
         "type": "scatter",
         "x": [
          0.9958210755139589,
          0.40490078926086426
         ],
         "y": [
          0.9244465306401253,
          0.9283299520611763
         ]
        },
        {
         "hoverinfo": "none",
         "line": {
          "color": "gray",
          "dash": "dot",
          "width": 1
         },
         "mode": "lines",
         "showlegend": false,
         "type": "scatter",
         "x": [
          0.9075068235397339,
          0.4137161374092102
         ],
         "y": [
          0.6977494657039642,
          0.7446337640285492
         ]
        },
        {
         "hoverinfo": "none",
         "line": {
          "color": "gray",
          "dash": "dot",
          "width": 1
         },
         "mode": "lines",
         "showlegend": false,
         "type": "scatter",
         "x": [
          1.034975927323103,
          0.41927921772003174
         ],
         "y": [
          0.8813353776931763,
          0.8920615091919899
         ]
        },
        {
         "hoverinfo": "none",
         "line": {
          "color": "gray",
          "dash": "dot",
          "width": 1
         },
         "mode": "lines",
         "showlegend": false,
         "type": "scatter",
         "x": [
          0.9613832458853722,
          0.4214295744895935
         ],
         "y": [
          0.8616952002048492,
          0.8769861608743668
         ]
        },
        {
         "hoverinfo": "none",
         "line": {
          "color": "gray",
          "dash": "dot",
          "width": 1
         },
         "mode": "lines",
         "showlegend": false,
         "type": "scatter",
         "x": [
          0.8936306610703468,
          0.3002512454986572
         ],
         "y": [
          0.9115485772490501,
          0.9249154254794121
         ]
        },
        {
         "hoverinfo": "none",
         "line": {
          "color": "gray",
          "dash": "dot",
          "width": 1
         },
         "mode": "lines",
         "showlegend": false,
         "type": "scatter",
         "x": [
          1.068704329431057,
          0.4386799931526184
         ],
         "y": [
          0.7899909764528275,
          0.8143425136804581
         ]
        },
        {
         "hoverinfo": "none",
         "line": {
          "color": "gray",
          "dash": "dot",
          "width": 1
         },
         "mode": "lines",
         "showlegend": false,
         "type": "scatter",
         "x": [
          1.0280319228768349,
          0.43327099084854126
         ],
         "y": [
          0.8713501989841461,
          0.8830476850271225
         ]
        },
        {
         "hoverinfo": "none",
         "line": {
          "color": "gray",
          "dash": "dot",
          "width": 1
         },
         "mode": "lines",
         "showlegend": false,
         "type": "scatter",
         "x": [
          0.968742348253727,
          0.3493947386741638
         ],
         "y": [
          0.874579131603241,
          0.8931061625480652
         ]
        },
        {
         "hoverinfo": "none",
         "line": {
          "color": "gray",
          "dash": "dot",
          "width": 1
         },
         "mode": "lines",
         "showlegend": false,
         "type": "scatter",
         "x": [
          0.9988814378157258,
          0.405545711517334
         ],
         "y": [
          0.7874728441238403,
          0.8181161880493164
         ]
        },
        {
         "hoverinfo": "none",
         "line": {
          "color": "gray",
          "dash": "dot",
          "width": 1
         },
         "mode": "lines",
         "showlegend": false,
         "type": "scatter",
         "x": [
          0.9501396678388119,
          0.3782007694244385
         ],
         "y": [
          0.7628418952226639,
          0.8032484799623489
         ]
        },
        {
         "hoverinfo": "none",
         "line": {
          "color": "gray",
          "dash": "dot",
          "width": 1
         },
         "mode": "lines",
         "showlegend": false,
         "type": "scatter",
         "x": [
          0.9866484897211194,
          0.45080119371414185
         ],
         "y": [
          0.7675365060567856,
          0.7957578599452972
         ]
        },
        {
         "hoverinfo": "none",
         "line": {
          "color": "gray",
          "dash": "dot",
          "width": 1
         },
         "mode": "lines",
         "showlegend": false,
         "type": "scatter",
         "x": [
          0.9756003674119711,
          0.42967748641967773
         ],
         "y": [
          0.8889438658952713,
          0.8985655680298805
         ]
        },
        {
         "hoverinfo": "none",
         "line": {
          "color": "gray",
          "dash": "dot",
          "width": 1
         },
         "mode": "lines",
         "showlegend": false,
         "type": "scatter",
         "x": [
          0.9978613676503301,
          0.3637070059776306
         ],
         "y": [
          0.7645822316408157,
          0.8066423535346985
         ]
        },
        {
         "hoverinfo": "none",
         "line": {
          "color": "gray",
          "dash": "dot",
          "width": 1
         },
         "mode": "lines",
         "showlegend": false,
         "type": "scatter",
         "x": [
          1.0704882889986038,
          0.4702587127685547
         ],
         "y": [
          0.7881910502910614,
          0.8089916706085205
         ]
        },
        {
         "hoverinfo": "none",
         "line": {
          "color": "gray",
          "dash": "dot",
          "width": 1
         },
         "mode": "lines",
         "showlegend": false,
         "type": "scatter",
         "x": [
          1.0162897184491158,
          0.37810826301574707
         ],
         "y": [
          0.7264827489852905,
          0.7740344405174255
         ]
        },
        {
         "hoverinfo": "none",
         "line": {
          "color": "gray",
          "dash": "dot",
          "width": 1
         },
         "mode": "lines",
         "showlegend": false,
         "type": "scatter",
         "x": [
          1.1123544424772263,
          0.39455676078796387
         ],
         "y": [
          0.7516339868307114,
          0.7881989777088165
         ]
        },
        {
         "hoverinfo": "none",
         "line": {
          "color": "gray",
          "dash": "dot",
          "width": 1
         },
         "mode": "lines",
         "showlegend": false,
         "type": "scatter",
         "x": [
          1.1142571195960045,
          0.4236376881599426
         ],
         "y": [
          0.8399242013692856,
          0.855919137597084
         ]
        },
        {
         "hoverinfo": "none",
         "line": {
          "color": "gray",
          "dash": "dot",
          "width": 1
         },
         "mode": "lines",
         "showlegend": false,
         "type": "scatter",
         "x": [
          0.9937931848689914,
          0.3608054518699646
         ],
         "y": [
          0.7998068332672119,
          0.8342988342046738
         ]
        },
        {
         "hoverinfo": "none",
         "line": {
          "color": "gray",
          "dash": "dot",
          "width": 1
         },
         "mode": "lines",
         "showlegend": false,
         "type": "scatter",
         "x": [
          1.0825228989124298,
          0.4558917284011841
         ],
         "y": [
          0.8487806618213654,
          0.8613354414701462
         ]
        },
        {
         "hoverinfo": "none",
         "line": {
          "color": "gray",
          "dash": "dot",
          "width": 1
         },
         "mode": "lines",
         "showlegend": false,
         "type": "scatter",
         "x": [
          1.041470818221569,
          0.3737069368362427
         ],
         "y": [
          0.8780789524316788,
          0.8926809504628181
         ]
        },
        {
         "hoverinfo": "none",
         "line": {
          "color": "gray",
          "dash": "dot",
          "width": 1
         },
         "mode": "lines",
         "showlegend": false,
         "type": "scatter",
         "x": [
          1.0981048494577408,
          0.38988208770751953
         ],
         "y": [
          0.8185701072216034,
          0.842818021774292
         ]
        },
        {
         "hoverinfo": "none",
         "line": {
          "color": "gray",
          "dash": "dot",
          "width": 1
         },
         "mode": "lines",
         "showlegend": false,
         "type": "scatter",
         "x": [
          1.0456701330840588,
          0.47006916999816895
         ],
         "y": [
          0.9420112892985344,
          0.9402474090456963
         ]
        },
        {
         "hoverinfo": "none",
         "line": {
          "color": "gray",
          "dash": "dot",
          "width": 1
         },
         "mode": "lines",
         "showlegend": false,
         "type": "scatter",
         "x": [
          1.0426916927099228,
          0.40507417917251587
         ],
         "y": [
          0.8622657805681229,
          0.8775455206632614
         ]
        },
        {
         "hoverinfo": "none",
         "line": {
          "color": "gray",
          "dash": "dot",
          "width": 1
         },
         "mode": "lines",
         "showlegend": false,
         "type": "scatter",
         "x": [
          1.0684810727834702,
          0.45511502027511597
         ],
         "y": [
          0.7618100643157959,
          0.7886563390493393
         ]
        },
        {
         "hoverinfo": "none",
         "line": {
          "color": "gray",
          "dash": "dot",
          "width": 1
         },
         "mode": "lines",
         "showlegend": false,
         "type": "scatter",
         "x": [
          1.1202838495373726,
          0.47322577238082886
         ],
         "y": [
          0.8429456800222397,
          0.8538722097873688
         ]
        },
        {
         "hoverinfo": "none",
         "line": {
          "color": "gray",
          "dash": "dot",
          "width": 1
         },
         "mode": "lines",
         "showlegend": false,
         "type": "scatter",
         "x": [
          0.9237356185913086,
          0.38641881942749023
         ],
         "y": [
          0.9408081136643887,
          0.9428864158689976
         ]
        },
        {
         "hoverinfo": "none",
         "line": {
          "color": "gray",
          "dash": "dot",
          "width": 1
         },
         "mode": "lines",
         "showlegend": false,
         "type": "scatter",
         "x": [
          1.0844090655446053,
          0.46924322843551636
         ],
         "y": [
          0.7972085326910019,
          0.8163628578186035
         ]
        },
        {
         "hoverinfo": "none",
         "line": {
          "color": "gray",
          "dash": "dot",
          "width": 1
         },
         "mode": "lines",
         "showlegend": false,
         "type": "scatter",
         "x": [
          0.994245151989162,
          0.4008152484893799
         ],
         "y": [
          0.8868205696344376,
          0.8983825221657753
         ]
        },
        {
         "hoverinfo": "none",
         "line": {
          "color": "gray",
          "dash": "dot",
          "width": 1
         },
         "mode": "lines",
         "showlegend": false,
         "type": "scatter",
         "x": [
          0.9867515172809362,
          0.34448230266571045
         ],
         "y": [
          0.8008818328380585,
          0.8376708924770355
         ]
        },
        {
         "hoverinfo": "none",
         "line": {
          "color": "gray",
          "dash": "dot",
          "width": 1
         },
         "mode": "lines",
         "showlegend": false,
         "type": "scatter",
         "x": [
          1.0294671542942524,
          0.36356043815612793
         ],
         "y": [
          0.7364332377910614,
          0.7844167947769165
         ]
        },
        {
         "hoverinfo": "none",
         "line": {
          "color": "gray",
          "dash": "dot",
          "width": 1
         },
         "mode": "lines",
         "showlegend": false,
         "type": "scatter",
         "x": [
          1.003688147291541,
          0.45310962200164795
         ],
         "y": [
          0.8250352591276169,
          0.843339815735817
         ]
        },
        {
         "hoverinfo": "none",
         "line": {
          "color": "gray",
          "dash": "dot",
          "width": 1
         },
         "mode": "lines",
         "showlegend": false,
         "type": "scatter",
         "x": [
          1.0285468623042107,
          0.3746888041496277
         ],
         "y": [
          0.7471483051776886,
          0.7906157970428467
         ]
        },
        {
         "hoverinfo": "none",
         "line": {
          "color": "gray",
          "dash": "dot",
          "width": 1
         },
         "mode": "lines",
         "showlegend": false,
         "type": "scatter",
         "x": [
          0.9075292721390724,
          0.3447871208190918
         ],
         "y": [
          0.84731525182724,
          0.8733317255973816
         ]
        },
        {
         "hoverinfo": "none",
         "line": {
          "color": "gray",
          "dash": "dot",
          "width": 1
         },
         "mode": "lines",
         "showlegend": false,
         "type": "scatter",
         "x": [
          0.9693183805793524,
          0.36637622117996216
         ],
         "y": [
          0.7971661686897278,
          0.8317190110683441
         ]
        }
       ],
       "layout": {
        "height": 700,
        "legend": {
         "title": {
          "text": "Cluster, Type"
         },
         "tracegroupgap": 0
        },
        "margin": {
         "t": 60
        },
        "template": {
         "data": {
          "bar": [
           {
            "error_x": {
             "color": "#2a3f5f"
            },
            "error_y": {
             "color": "#2a3f5f"
            },
            "marker": {
             "line": {
              "color": "#E5ECF6",
              "width": 0.5
             },
             "pattern": {
              "fillmode": "overlay",
              "size": 10,
              "solidity": 0.2
             }
            },
            "type": "bar"
           }
          ],
          "barpolar": [
           {
            "marker": {
             "line": {
              "color": "#E5ECF6",
              "width": 0.5
             },
             "pattern": {
              "fillmode": "overlay",
              "size": 10,
              "solidity": 0.2
             }
            },
            "type": "barpolar"
           }
          ],
          "carpet": [
           {
            "aaxis": {
             "endlinecolor": "#2a3f5f",
             "gridcolor": "white",
             "linecolor": "white",
             "minorgridcolor": "white",
             "startlinecolor": "#2a3f5f"
            },
            "baxis": {
             "endlinecolor": "#2a3f5f",
             "gridcolor": "white",
             "linecolor": "white",
             "minorgridcolor": "white",
             "startlinecolor": "#2a3f5f"
            },
            "type": "carpet"
           }
          ],
          "choropleth": [
           {
            "colorbar": {
             "outlinewidth": 0,
             "ticks": ""
            },
            "type": "choropleth"
           }
          ],
          "contour": [
           {
            "colorbar": {
             "outlinewidth": 0,
             "ticks": ""
            },
            "colorscale": [
             [
              0,
              "#0d0887"
             ],
             [
              0.1111111111111111,
              "#46039f"
             ],
             [
              0.2222222222222222,
              "#7201a8"
             ],
             [
              0.3333333333333333,
              "#9c179e"
             ],
             [
              0.4444444444444444,
              "#bd3786"
             ],
             [
              0.5555555555555556,
              "#d8576b"
             ],
             [
              0.6666666666666666,
              "#ed7953"
             ],
             [
              0.7777777777777778,
              "#fb9f3a"
             ],
             [
              0.8888888888888888,
              "#fdca26"
             ],
             [
              1,
              "#f0f921"
             ]
            ],
            "type": "contour"
           }
          ],
          "contourcarpet": [
           {
            "colorbar": {
             "outlinewidth": 0,
             "ticks": ""
            },
            "type": "contourcarpet"
           }
          ],
          "heatmap": [
           {
            "colorbar": {
             "outlinewidth": 0,
             "ticks": ""
            },
            "colorscale": [
             [
              0,
              "#0d0887"
             ],
             [
              0.1111111111111111,
              "#46039f"
             ],
             [
              0.2222222222222222,
              "#7201a8"
             ],
             [
              0.3333333333333333,
              "#9c179e"
             ],
             [
              0.4444444444444444,
              "#bd3786"
             ],
             [
              0.5555555555555556,
              "#d8576b"
             ],
             [
              0.6666666666666666,
              "#ed7953"
             ],
             [
              0.7777777777777778,
              "#fb9f3a"
             ],
             [
              0.8888888888888888,
              "#fdca26"
             ],
             [
              1,
              "#f0f921"
             ]
            ],
            "type": "heatmap"
           }
          ],
          "histogram": [
           {
            "marker": {
             "pattern": {
              "fillmode": "overlay",
              "size": 10,
              "solidity": 0.2
             }
            },
            "type": "histogram"
           }
          ],
          "histogram2d": [
           {
            "colorbar": {
             "outlinewidth": 0,
             "ticks": ""
            },
            "colorscale": [
             [
              0,
              "#0d0887"
             ],
             [
              0.1111111111111111,
              "#46039f"
             ],
             [
              0.2222222222222222,
              "#7201a8"
             ],
             [
              0.3333333333333333,
              "#9c179e"
             ],
             [
              0.4444444444444444,
              "#bd3786"
             ],
             [
              0.5555555555555556,
              "#d8576b"
             ],
             [
              0.6666666666666666,
              "#ed7953"
             ],
             [
              0.7777777777777778,
              "#fb9f3a"
             ],
             [
              0.8888888888888888,
              "#fdca26"
             ],
             [
              1,
              "#f0f921"
             ]
            ],
            "type": "histogram2d"
           }
          ],
          "histogram2dcontour": [
           {
            "colorbar": {
             "outlinewidth": 0,
             "ticks": ""
            },
            "colorscale": [
             [
              0,
              "#0d0887"
             ],
             [
              0.1111111111111111,
              "#46039f"
             ],
             [
              0.2222222222222222,
              "#7201a8"
             ],
             [
              0.3333333333333333,
              "#9c179e"
             ],
             [
              0.4444444444444444,
              "#bd3786"
             ],
             [
              0.5555555555555556,
              "#d8576b"
             ],
             [
              0.6666666666666666,
              "#ed7953"
             ],
             [
              0.7777777777777778,
              "#fb9f3a"
             ],
             [
              0.8888888888888888,
              "#fdca26"
             ],
             [
              1,
              "#f0f921"
             ]
            ],
            "type": "histogram2dcontour"
           }
          ],
          "mesh3d": [
           {
            "colorbar": {
             "outlinewidth": 0,
             "ticks": ""
            },
            "type": "mesh3d"
           }
          ],
          "parcoords": [
           {
            "line": {
             "colorbar": {
              "outlinewidth": 0,
              "ticks": ""
             }
            },
            "type": "parcoords"
           }
          ],
          "pie": [
           {
            "automargin": true,
            "type": "pie"
           }
          ],
          "scatter": [
           {
            "fillpattern": {
             "fillmode": "overlay",
             "size": 10,
             "solidity": 0.2
            },
            "type": "scatter"
           }
          ],
          "scatter3d": [
           {
            "line": {
             "colorbar": {
              "outlinewidth": 0,
              "ticks": ""
             }
            },
            "marker": {
             "colorbar": {
              "outlinewidth": 0,
              "ticks": ""
             }
            },
            "type": "scatter3d"
           }
          ],
          "scattercarpet": [
           {
            "marker": {
             "colorbar": {
              "outlinewidth": 0,
              "ticks": ""
             }
            },
            "type": "scattercarpet"
           }
          ],
          "scattergeo": [
           {
            "marker": {
             "colorbar": {
              "outlinewidth": 0,
              "ticks": ""
             }
            },
            "type": "scattergeo"
           }
          ],
          "scattergl": [
           {
            "marker": {
             "colorbar": {
              "outlinewidth": 0,
              "ticks": ""
             }
            },
            "type": "scattergl"
           }
          ],
          "scattermap": [
           {
            "marker": {
             "colorbar": {
              "outlinewidth": 0,
              "ticks": ""
             }
            },
            "type": "scattermap"
           }
          ],
          "scattermapbox": [
           {
            "marker": {
             "colorbar": {
              "outlinewidth": 0,
              "ticks": ""
             }
            },
            "type": "scattermapbox"
           }
          ],
          "scatterpolar": [
           {
            "marker": {
             "colorbar": {
              "outlinewidth": 0,
              "ticks": ""
             }
            },
            "type": "scatterpolar"
           }
          ],
          "scatterpolargl": [
           {
            "marker": {
             "colorbar": {
              "outlinewidth": 0,
              "ticks": ""
             }
            },
            "type": "scatterpolargl"
           }
          ],
          "scatterternary": [
           {
            "marker": {
             "colorbar": {
              "outlinewidth": 0,
              "ticks": ""
             }
            },
            "type": "scatterternary"
           }
          ],
          "surface": [
           {
            "colorbar": {
             "outlinewidth": 0,
             "ticks": ""
            },
            "colorscale": [
             [
              0,
              "#0d0887"
             ],
             [
              0.1111111111111111,
              "#46039f"
             ],
             [
              0.2222222222222222,
              "#7201a8"
             ],
             [
              0.3333333333333333,
              "#9c179e"
             ],
             [
              0.4444444444444444,
              "#bd3786"
             ],
             [
              0.5555555555555556,
              "#d8576b"
             ],
             [
              0.6666666666666666,
              "#ed7953"
             ],
             [
              0.7777777777777778,
              "#fb9f3a"
             ],
             [
              0.8888888888888888,
              "#fdca26"
             ],
             [
              1,
              "#f0f921"
             ]
            ],
            "type": "surface"
           }
          ],
          "table": [
           {
            "cells": {
             "fill": {
              "color": "#EBF0F8"
             },
             "line": {
              "color": "white"
             }
            },
            "header": {
             "fill": {
              "color": "#C8D4E3"
             },
             "line": {
              "color": "white"
             }
            },
            "type": "table"
           }
          ]
         },
         "layout": {
          "annotationdefaults": {
           "arrowcolor": "#2a3f5f",
           "arrowhead": 0,
           "arrowwidth": 1
          },
          "autotypenumbers": "strict",
          "coloraxis": {
           "colorbar": {
            "outlinewidth": 0,
            "ticks": ""
           }
          },
          "colorscale": {
           "diverging": [
            [
             0,
             "#8e0152"
            ],
            [
             0.1,
             "#c51b7d"
            ],
            [
             0.2,
             "#de77ae"
            ],
            [
             0.3,
             "#f1b6da"
            ],
            [
             0.4,
             "#fde0ef"
            ],
            [
             0.5,
             "#f7f7f7"
            ],
            [
             0.6,
             "#e6f5d0"
            ],
            [
             0.7,
             "#b8e186"
            ],
            [
             0.8,
             "#7fbc41"
            ],
            [
             0.9,
             "#4d9221"
            ],
            [
             1,
             "#276419"
            ]
           ],
           "sequential": [
            [
             0,
             "#0d0887"
            ],
            [
             0.1111111111111111,
             "#46039f"
            ],
            [
             0.2222222222222222,
             "#7201a8"
            ],
            [
             0.3333333333333333,
             "#9c179e"
            ],
            [
             0.4444444444444444,
             "#bd3786"
            ],
            [
             0.5555555555555556,
             "#d8576b"
            ],
            [
             0.6666666666666666,
             "#ed7953"
            ],
            [
             0.7777777777777778,
             "#fb9f3a"
            ],
            [
             0.8888888888888888,
             "#fdca26"
            ],
            [
             1,
             "#f0f921"
            ]
           ],
           "sequentialminus": [
            [
             0,
             "#0d0887"
            ],
            [
             0.1111111111111111,
             "#46039f"
            ],
            [
             0.2222222222222222,
             "#7201a8"
            ],
            [
             0.3333333333333333,
             "#9c179e"
            ],
            [
             0.4444444444444444,
             "#bd3786"
            ],
            [
             0.5555555555555556,
             "#d8576b"
            ],
            [
             0.6666666666666666,
             "#ed7953"
            ],
            [
             0.7777777777777778,
             "#fb9f3a"
            ],
            [
             0.8888888888888888,
             "#fdca26"
            ],
            [
             1,
             "#f0f921"
            ]
           ]
          },
          "colorway": [
           "#636efa",
           "#EF553B",
           "#00cc96",
           "#ab63fa",
           "#FFA15A",
           "#19d3f3",
           "#FF6692",
           "#B6E880",
           "#FF97FF",
           "#FECB52"
          ],
          "font": {
           "color": "#2a3f5f"
          },
          "geo": {
           "bgcolor": "white",
           "lakecolor": "white",
           "landcolor": "#E5ECF6",
           "showlakes": true,
           "showland": true,
           "subunitcolor": "white"
          },
          "hoverlabel": {
           "align": "left"
          },
          "hovermode": "closest",
          "mapbox": {
           "style": "light"
          },
          "paper_bgcolor": "white",
          "plot_bgcolor": "#E5ECF6",
          "polar": {
           "angularaxis": {
            "gridcolor": "white",
            "linecolor": "white",
            "ticks": ""
           },
           "bgcolor": "#E5ECF6",
           "radialaxis": {
            "gridcolor": "white",
            "linecolor": "white",
            "ticks": ""
           }
          },
          "scene": {
           "xaxis": {
            "backgroundcolor": "#E5ECF6",
            "gridcolor": "white",
            "gridwidth": 2,
            "linecolor": "white",
            "showbackground": true,
            "ticks": "",
            "zerolinecolor": "white"
           },
           "yaxis": {
            "backgroundcolor": "#E5ECF6",
            "gridcolor": "white",
            "gridwidth": 2,
            "linecolor": "white",
            "showbackground": true,
            "ticks": "",
            "zerolinecolor": "white"
           },
           "zaxis": {
            "backgroundcolor": "#E5ECF6",
            "gridcolor": "white",
            "gridwidth": 2,
            "linecolor": "white",
            "showbackground": true,
            "ticks": "",
            "zerolinecolor": "white"
           }
          },
          "shapedefaults": {
           "line": {
            "color": "#2a3f5f"
           }
          },
          "ternary": {
           "aaxis": {
            "gridcolor": "white",
            "linecolor": "white",
            "ticks": ""
           },
           "baxis": {
            "gridcolor": "white",
            "linecolor": "white",
            "ticks": ""
           },
           "bgcolor": "#E5ECF6",
           "caxis": {
            "gridcolor": "white",
            "linecolor": "white",
            "ticks": ""
           }
          },
          "title": {
           "x": 0.05
          },
          "xaxis": {
           "automargin": true,
           "gridcolor": "white",
           "linecolor": "white",
           "ticks": "",
           "title": {
            "standoff": 15
           },
           "zerolinecolor": "white",
           "zerolinewidth": 2
          },
          "yaxis": {
           "automargin": true,
           "gridcolor": "white",
           "linecolor": "white",
           "ticks": "",
           "title": {
            "standoff": 15
           },
           "zerolinecolor": "white",
           "zerolinewidth": 2
          }
         }
        },
        "title": {
         "text": "2D Semantic Projection -- Steering feature: Norway | Comparison feature: Love | Distance type: COSINE | Layer: 11 | Coeff: 3"
        },
        "width": 900,
        "xaxis": {
         "anchor": "y",
         "domain": [
          0,
          1
         ],
         "title": {
          "text": "Distance to \"Norway\" (COSINE)"
         }
        },
        "yaxis": {
         "anchor": "x",
         "domain": [
          0,
          1
         ],
         "title": {
          "text": "Distance to \"Love\" (COSINE)"
         }
        }
       }
      }
     },
     "metadata": {},
     "output_type": "display_data"
    },
    {
     "name": "stdout",
     "output_type": "stream",
     "text": [
      "\n",
      "MOST CHANGED in 2D distance space\n",
      "--------------------------------------------------\n",
      "Index: 923 | Title: La Vie En Rose\n",
      "Original (Norway, Love): (1.0265, 0.8621)\n",
      "Steered  (Norway, Love): (0.3001, 0.8882)\n",
      "Change: 0.7269\n",
      "\n",
      "Index: 911 | Title: La piel que habito\n",
      "Original (Norway, Love): (1.1162, 0.8936)\n",
      "Steered  (Norway, Love): (0.3904, 0.9021)\n",
      "Change: 0.7258\n",
      "\n",
      "Index: 981 | Title: On Golden Pond\n",
      "Original (Norway, Love): (1.1124, 0.7516)\n",
      "Steered  (Norway, Love): (0.3946, 0.7882)\n",
      "Change: 0.7187\n",
      "\n",
      "\n",
      "LEAST CHANGED in 2D distance space\n",
      "--------------------------------------------------\n",
      "Index: 950 | Title: Enemy at the Gates\n",
      "Original (Norway, Love): (0.8519, 0.9645)\n",
      "Steered  (Norway, Love): (0.3779, 0.9626)\n",
      "Change: 0.4741\n",
      "\n",
      "Index: 967 | Title: Trois couleurs: Blanc\n",
      "Original (Norway, Love): (0.9075, 0.6977)\n",
      "Steered  (Norway, Love): (0.4137, 0.7446)\n",
      "Change: 0.4960\n",
      "\n",
      "Index: 936 | Title: Un long dimanche de fiançailles\n",
      "Original (Norway, Love): (0.8337, 0.6648)\n",
      "Steered  (Norway, Love): (0.3355, 0.7360)\n",
      "Change: 0.5033\n",
      "\n"
     ]
    }
   ],
   "source": [
    "layer_to_steer = 11\n",
    "steering_coefficient = 3\n",
    "normalize = True\n",
    "\n",
    "steering_feature = \"Norway\"\n",
    "comparison_feature = \"Love\"\n",
    "\n",
    "steering_vector = import_steering_vector_from_pkl('steering_vector.pkl', layer_to_steer=layer_to_steer, feature_name=steering_feature)\n",
    "comparison_vector = import_steering_vector_from_pkl('steering_vector.pkl', layer_to_steer=layer_to_steer, feature_name=comparison_feature)\n",
    "\n",
    "plot_2D_distance_projection(model, encoded_input,\n",
    "                            original_embeddings,\n",
    "                            all_texts_data,\n",
    "                            steering_vector,\n",
    "                            comparison_vector,\n",
    "                            layer_to_steer,\n",
    "                            steering_coefficient,\n",
    "                            steering_feature,\n",
    "                            comparison_feature,\n",
    "                            text_range=(900,1000),\n",
    "                            type=\"cosine\",\n",
    "                            normalize=normalize,\n",
    "                            print_differences=True)"
   ]
  }
 ],
 "metadata": {
  "colab": {
   "provenance": []
  },
  "kernelspec": {
   "display_name": "embed",
   "language": "python",
   "name": "python3"
  },
  "language_info": {
   "codemirror_mode": {
    "name": "ipython",
    "version": 3
   },
   "file_extension": ".py",
   "mimetype": "text/x-python",
   "name": "python",
   "nbconvert_exporter": "python",
   "pygments_lexer": "ipython3",
   "version": "3.12.11"
  },
  "orig_nbformat": 4
 },
 "nbformat": 4,
 "nbformat_minor": 0
}
