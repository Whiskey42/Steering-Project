{
 "cells": [
  {
   "cell_type": "markdown",
   "metadata": {},
   "source": [
    "# Plot with vector test"
   ]
  },
  {
   "cell_type": "code",
   "execution_count": 1,
   "metadata": {},
   "outputs": [],
   "source": [
    "from Plot_with_vector import plot_distance_projection, print_movie_info, plot_2D_distance_projection\n",
    "from Embeddings import import_embedding_data_from_pkl\n",
    "from Steering_vector import get_steering_vector, import_feature_texts"
   ]
  },
  {
   "cell_type": "code",
   "execution_count": 2,
   "metadata": {},
   "outputs": [
    {
     "name": "stdout",
     "output_type": "stream",
     "text": [
      "Importing 1.36 GB data from file Test_export_embeddings.pkl...\n",
      "Data imported from Test_export_embeddings.pkl\n",
      "Model loaded successfully.\n",
      "Embeddings loaded successfully.\n",
      "Encoded input loaded successfully.\n",
      "All texts data loaded successfully.\n"
     ]
    }
   ],
   "source": [
    "model_name = \"sentence-transformers/all-MiniLM-L12-v2\"\n",
    "\n",
    "data = import_embedding_data_from_pkl('Test_export_embeddings.pkl', model=True, embeddings=True, encoded_input=True, all_texts_data=True)\n",
    "model, original_embeddings, encoded_input, all_texts_data = data"
   ]
  },
  {
   "cell_type": "markdown",
   "metadata": {},
   "source": [
    "## 1D - One vector"
   ]
  },
  {
   "cell_type": "code",
   "execution_count": 8,
   "metadata": {},
   "outputs": [
    {
     "data": {
      "application/vnd.plotly.v1+json": {
       "config": {
        "plotlyServerURL": "https://plot.ly"
       },
       "data": [
        {
         "customdata": [
          [
           "Original | Serbuan maut | Thriller",
           "Thriller"
          ],
          [
           "Original | Die Welle | Thriller",
           "Thriller"
          ],
          [
           "Original | Saw | Thriller",
           "Thriller"
          ],
          [
           "Original | 21 Grams | Thriller",
           "Thriller"
          ],
          [
           "Original | The Butterfly Effect | Thriller",
           "Thriller"
          ],
          [
           "Original | Dark City | Thriller",
           "Thriller"
          ],
          [
           "Original | Lost Highway | Thriller",
           "Thriller"
          ],
          [
           "Original | Die Hard: With a Vengeance | Thriller",
           "Thriller"
          ],
          [
           "Original | Blowup | Thriller",
           "Thriller"
          ]
         ],
         "hovertemplate": "Cluster=%{customdata[1]}<br>Type=Original<br>Distance to War=%{x}<br>Movie Index=%{y}<br>Title=%{customdata[0]}<extra></extra>",
         "legendgroup": "Thriller, Original",
         "marker": {
          "color": "#636efa",
          "symbol": "circle"
         },
         "mode": "markers",
         "name": "Thriller, Original",
         "opacity": 0.3,
         "orientation": "v",
         "showlegend": false,
         "type": "scatter",
         "x": [
          1.1767395734786987,
          1.4077211618423462,
          1.2626311779022217,
          1.433915138244629,
          1.4669755697250366,
          1.4810738563537598,
          1.3551291227340698,
          1.3719422817230225,
          1.4242327213287354
         ],
         "xaxis": "x",
         "y": [
          900,
          913,
          932,
          938,
          942,
          959,
          961,
          963,
          993
         ],
         "yaxis": "y"
        },
        {
         "customdata": [
          [
           "Steered | Serbuan maut | Thriller",
           "Thriller"
          ],
          [
           "Steered | Die Welle | Thriller",
           "Thriller"
          ],
          [
           "Steered | Saw | Thriller",
           "Thriller"
          ],
          [
           "Steered | 21 Grams | Thriller",
           "Thriller"
          ],
          [
           "Steered | The Butterfly Effect | Thriller",
           "Thriller"
          ],
          [
           "Steered | Dark City | Thriller",
           "Thriller"
          ],
          [
           "Steered | Lost Highway | Thriller",
           "Thriller"
          ],
          [
           "Steered | Die Hard: With a Vengeance | Thriller",
           "Thriller"
          ],
          [
           "Steered | Blowup | Thriller",
           "Thriller"
          ]
         ],
         "hovertemplate": "Cluster=%{customdata[1]}<br>Type=Steered<br>Distance to War=%{x}<br>Movie Index=%{y}<br>Title=%{customdata[0]}<extra></extra>",
         "legendgroup": "Thriller, Steered",
         "marker": {
          "color": "#636efa",
          "symbol": "diamond"
         },
         "mode": "markers",
         "name": "Thriller, Steered",
         "opacity": 1,
         "orientation": "v",
         "showlegend": true,
         "type": "scatter",
         "x": [
          0.9825538992881775,
          1.1970784664154053,
          1.0495285987854004,
          1.232812523841858,
          1.2513548135757446,
          1.2907830476760864,
          1.1591227054595947,
          1.1670477390289307,
          1.2431843280792236
         ],
         "xaxis": "x",
         "y": [
          900,
          913,
          932,
          938,
          942,
          959,
          961,
          963,
          993
         ],
         "yaxis": "y"
        },
        {
         "customdata": [
          [
           "Original | End of Watch | Crime",
           "Crime"
          ],
          [
           "Original | Despicable Me | Crime",
           "Crime"
          ],
          [
           "Original | Celda 211 | Crime",
           "Crime"
          ],
          [
           "Original | Eastern Promises | Crime",
           "Crime"
          ],
          [
           "Original | Inside Man | Crime",
           "Crime"
          ],
          [
           "Original | Gone Baby Gone | Crime",
           "Crime"
          ],
          [
           "Original | Dead Man's Shoes | Crime",
           "Crime"
          ],
          [
           "Original | Boksuneun naui geot | Crime",
           "Crime"
          ],
          [
           "Original | Minority Report | Crime",
           "Crime"
          ],
          [
           "Original | American Psycho | Crime",
           "Crime"
          ],
          [
           "Original | Sleepers | Crime",
           "Crime"
          ],
          [
           "Original | Falling Down | Crime",
           "Crime"
          ],
          [
           "Original | My Cousin Vinny | Crime",
           "Crime"
          ],
          [
           "Original | The Godfather: Part III | Crime",
           "Crime"
          ],
          [
           "Original | The Naked Gun: From the Files of Police Squad! | Crime",
           "Crime"
          ],
          [
           "Original | Lethal Weapon | Crime",
           "Crime"
          ],
          [
           "Original | Blood Simple | Crime",
           "Crime"
          ],
          [
           "Original | The Warriors | Crime",
           "Crime"
          ],
          [
           "Original | Escape from Alcatraz | Crime",
           "Crime"
          ],
          [
           "Original | Midnight Express | Crime",
           "Crime"
          ],
          [
           "Original | The Long Goodbye | Crime",
           "Crime"
          ],
          [
           "Original | The 39 Steps | Crime",
           "Crime"
          ]
         ],
         "hovertemplate": "Cluster=%{customdata[1]}<br>Type=Original<br>Distance to War=%{x}<br>Movie Index=%{y}<br>Title=%{customdata[0]}<extra></extra>",
         "legendgroup": "Crime, Original",
         "marker": {
          "color": "#EF553B",
          "symbol": "circle"
         },
         "mode": "markers",
         "name": "Crime, Original",
         "opacity": 0.3,
         "orientation": "v",
         "showlegend": false,
         "type": "scatter",
         "x": [
          1.3073744773864746,
          1.3928143978118896,
          1.2919000387191772,
          1.4165701866149902,
          1.2371035814285278,
          1.3804055452346802,
          1.2508255243301392,
          1.3566772937774658,
          1.2025485038757324,
          1.3910456895828247,
          1.3068552017211914,
          1.3633968830108643,
          1.3764516115188599,
          1.3785761594772339,
          1.2896909713745117,
          1.2175531387329102,
          1.3968240022659302,
          1.275723934173584,
          1.2832562923431396,
          1.3964550495147705,
          1.3938933610916138,
          1.2231067419052124
         ],
         "xaxis": "x",
         "y": [
          901,
          906,
          909,
          918,
          921,
          922,
          926,
          939,
          951,
          953,
          960,
          968,
          970,
          974,
          977,
          979,
          980,
          983,
          985,
          987,
          989,
          999
         ],
         "yaxis": "y"
        },
        {
         "customdata": [
          [
           "Steered | End of Watch | Crime",
           "Crime"
          ],
          [
           "Steered | Despicable Me | Crime",
           "Crime"
          ],
          [
           "Steered | Celda 211 | Crime",
           "Crime"
          ],
          [
           "Steered | Eastern Promises | Crime",
           "Crime"
          ],
          [
           "Steered | Inside Man | Crime",
           "Crime"
          ],
          [
           "Steered | Gone Baby Gone | Crime",
           "Crime"
          ],
          [
           "Steered | Dead Man's Shoes | Crime",
           "Crime"
          ],
          [
           "Steered | Boksuneun naui geot | Crime",
           "Crime"
          ],
          [
           "Steered | Minority Report | Crime",
           "Crime"
          ],
          [
           "Steered | American Psycho | Crime",
           "Crime"
          ],
          [
           "Steered | Sleepers | Crime",
           "Crime"
          ],
          [
           "Steered | Falling Down | Crime",
           "Crime"
          ],
          [
           "Steered | My Cousin Vinny | Crime",
           "Crime"
          ],
          [
           "Steered | The Godfather: Part III | Crime",
           "Crime"
          ],
          [
           "Steered | The Naked Gun: From the Files of Police Squad! | Crime",
           "Crime"
          ],
          [
           "Steered | Lethal Weapon | Crime",
           "Crime"
          ],
          [
           "Steered | Blood Simple | Crime",
           "Crime"
          ],
          [
           "Steered | The Warriors | Crime",
           "Crime"
          ],
          [
           "Steered | Escape from Alcatraz | Crime",
           "Crime"
          ],
          [
           "Steered | Midnight Express | Crime",
           "Crime"
          ],
          [
           "Steered | The Long Goodbye | Crime",
           "Crime"
          ],
          [
           "Steered | The 39 Steps | Crime",
           "Crime"
          ]
         ],
         "hovertemplate": "Cluster=%{customdata[1]}<br>Type=Steered<br>Distance to War=%{x}<br>Movie Index=%{y}<br>Title=%{customdata[0]}<extra></extra>",
         "legendgroup": "Crime, Steered",
         "marker": {
          "color": "#EF553B",
          "symbol": "diamond"
         },
         "mode": "markers",
         "name": "Crime, Steered",
         "opacity": 1,
         "orientation": "v",
         "showlegend": true,
         "type": "scatter",
         "x": [
          1.1112688779830933,
          1.1799836158752441,
          1.0842065811157227,
          1.2341810464859009,
          1.0270593166351318,
          1.1962602138519287,
          1.0524320602416992,
          1.1520869731903076,
          1.0131429433822632,
          1.1682219505310059,
          1.0956344604492188,
          1.1786874532699585,
          1.1628386974334717,
          1.196677327156067,
          1.1232191324234009,
          1.046550989151001,
          1.1978108882904053,
          1.07241952419281,
          1.0752809047698975,
          1.2320587635040283,
          1.2178064584732056,
          1.0300034284591675
         ],
         "xaxis": "x",
         "y": [
          901,
          906,
          909,
          918,
          921,
          922,
          926,
          939,
          951,
          953,
          960,
          968,
          970,
          974,
          977,
          979,
          980,
          983,
          985,
          987,
          989,
          999
         ],
         "yaxis": "y"
        },
        {
         "customdata": [
          [
           "Original | Kari-gurashi no Arietti | Family",
           "Family"
          ],
          [
           "Original | Finding Neverland | Family",
           "Family"
          ],
          [
           "Original | Mulan | Family",
           "Family"
          ],
          [
           "Original | Home Alone | Family",
           "Family"
          ]
         ],
         "hovertemplate": "Cluster=%{customdata[1]}<br>Type=Original<br>Distance to War=%{x}<br>Movie Index=%{y}<br>Title=%{customdata[0]}<extra></extra>",
         "legendgroup": "Family, Original",
         "marker": {
          "color": "#00cc96",
          "symbol": "circle"
         },
         "mode": "markers",
         "name": "Family, Original",
         "opacity": 0.3,
         "orientation": "v",
         "showlegend": false,
         "type": "scatter",
         "x": [
          1.531768798828125,
          1.5458927154541016,
          1.3158313035964966,
          1.4080191850662231
         ],
         "xaxis": "x",
         "y": [
          902,
          940,
          956,
          973
         ],
         "yaxis": "y"
        },
        {
         "customdata": [
          [
           "Steered | Kari-gurashi no Arietti | Family",
           "Family"
          ],
          [
           "Steered | Finding Neverland | Family",
           "Family"
          ],
          [
           "Steered | Mulan | Family",
           "Family"
          ],
          [
           "Steered | Home Alone | Family",
           "Family"
          ]
         ],
         "hovertemplate": "Cluster=%{customdata[1]}<br>Type=Steered<br>Distance to War=%{x}<br>Movie Index=%{y}<br>Title=%{customdata[0]}<extra></extra>",
         "legendgroup": "Family, Steered",
         "marker": {
          "color": "#00cc96",
          "symbol": "diamond"
         },
         "mode": "markers",
         "name": "Family, Steered",
         "opacity": 1,
         "orientation": "v",
         "showlegend": true,
         "type": "scatter",
         "x": [
          1.3117958307266235,
          1.388724446296692,
          1.1208884716033936,
          1.2058296203613281
         ],
         "xaxis": "x",
         "y": [
          902,
          940,
          956,
          973
         ],
         "yaxis": "y"
        },
        {
         "customdata": [
          [
           "Original | A Star Is Born | Music",
           "Music"
          ],
          [
           "Original | A Hard Day's Night | Music",
           "Music"
          ]
         ],
         "hovertemplate": "Cluster=%{customdata[1]}<br>Type=Original<br>Distance to War=%{x}<br>Movie Index=%{y}<br>Title=%{customdata[0]}<extra></extra>",
         "legendgroup": "Music, Original",
         "marker": {
          "color": "#ab63fa",
          "symbol": "circle"
         },
         "mode": "markers",
         "name": "Music, Original",
         "opacity": 0.3,
         "orientation": "v",
         "showlegend": false,
         "type": "scatter",
         "x": [
          1.5014359951019287,
          1.3883626461029053
         ],
         "xaxis": "x",
         "y": [
          903,
          994
         ],
         "yaxis": "y"
        },
        {
         "customdata": [
          [
           "Steered | A Star Is Born | Music",
           "Music"
          ],
          [
           "Steered | A Hard Day's Night | Music",
           "Music"
          ]
         ],
         "hovertemplate": "Cluster=%{customdata[1]}<br>Type=Steered<br>Distance to War=%{x}<br>Movie Index=%{y}<br>Title=%{customdata[0]}<extra></extra>",
         "legendgroup": "Music, Steered",
         "marker": {
          "color": "#ab63fa",
          "symbol": "diamond"
         },
         "mode": "markers",
         "name": "Music, Steered",
         "opacity": 1,
         "orientation": "v",
         "showlegend": true,
         "type": "scatter",
         "x": [
          1.3318358659744263,
          1.1781935691833496
         ],
         "xaxis": "x",
         "y": [
          903,
          994
         ],
         "yaxis": "y"
        },
        {
         "customdata": [
          [
           "Original | True Grit | Western",
           "Western"
          ],
          [
           "Original | Giant | Western",
           "Western"
          ]
         ],
         "hovertemplate": "Cluster=%{customdata[1]}<br>Type=Original<br>Distance to War=%{x}<br>Movie Index=%{y}<br>Title=%{customdata[0]}<extra></extra>",
         "legendgroup": "Western, Original",
         "marker": {
          "color": "#FFA15A",
          "symbol": "circle"
         },
         "mode": "markers",
         "name": "Western, Original",
         "opacity": 0.3,
         "orientation": "v",
         "showlegend": false,
         "type": "scatter",
         "x": [
          1.2687253952026367,
          1.4680507183074951
         ],
         "xaxis": "x",
         "y": [
          904,
          996
         ],
         "yaxis": "y"
        },
        {
         "customdata": [
          [
           "Steered | True Grit | Western",
           "Western"
          ],
          [
           "Steered | Giant | Western",
           "Western"
          ]
         ],
         "hovertemplate": "Cluster=%{customdata[1]}<br>Type=Steered<br>Distance to War=%{x}<br>Movie Index=%{y}<br>Title=%{customdata[0]}<extra></extra>",
         "legendgroup": "Western, Steered",
         "marker": {
          "color": "#FFA15A",
          "symbol": "diamond"
         },
         "mode": "markers",
         "name": "Western, Steered",
         "opacity": 1,
         "orientation": "v",
         "showlegend": true,
         "type": "scatter",
         "x": [
          1.093887448310852,
          1.3111759424209595
         ],
         "xaxis": "x",
         "y": [
          904,
          996
         ],
         "yaxis": "y"
        },
        {
         "customdata": [
          [
           "Original | Hævnen | Romance",
           "Romance"
          ],
          [
           "Original | The Bridges of Madison County | Romance",
           "Romance"
          ],
          [
           "Original | Trois couleurs: Blanc | Romance",
           "Romance"
          ],
          [
           "Original | When Harry Met Sally... | Romance",
           "Romance"
          ],
          [
           "Original | Breakfast at Tiffany's | Romance",
           "Romance"
          ]
         ],
         "hovertemplate": "Cluster=%{customdata[1]}<br>Type=Original<br>Distance to War=%{x}<br>Movie Index=%{y}<br>Title=%{customdata[0]}<extra></extra>",
         "legendgroup": "Romance, Original",
         "marker": {
          "color": "#19d3f3",
          "symbol": "circle"
         },
         "mode": "markers",
         "name": "Romance, Original",
         "opacity": 0.3,
         "orientation": "v",
         "showlegend": false,
         "type": "scatter",
         "x": [
          1.4142194986343384,
          1.541093349456787,
          1.4183281660079956,
          1.3982563018798828,
          1.4745904207229614
         ],
         "xaxis": "x",
         "y": [
          905,
          965,
          967,
          975,
          995
         ],
         "yaxis": "y"
        },
        {
         "customdata": [
          [
           "Steered | Hævnen | Romance",
           "Romance"
          ],
          [
           "Steered | The Bridges of Madison County | Romance",
           "Romance"
          ],
          [
           "Steered | Trois couleurs: Blanc | Romance",
           "Romance"
          ],
          [
           "Steered | When Harry Met Sally... | Romance",
           "Romance"
          ],
          [
           "Steered | Breakfast at Tiffany's | Romance",
           "Romance"
          ]
         ],
         "hovertemplate": "Cluster=%{customdata[1]}<br>Type=Steered<br>Distance to War=%{x}<br>Movie Index=%{y}<br>Title=%{customdata[0]}<extra></extra>",
         "legendgroup": "Romance, Steered",
         "marker": {
          "color": "#19d3f3",
          "symbol": "diamond"
         },
         "mode": "markers",
         "name": "Romance, Steered",
         "opacity": 1,
         "orientation": "v",
         "showlegend": true,
         "type": "scatter",
         "x": [
          1.1952967643737793,
          1.3786250352859497,
          1.2653391361236572,
          1.2158520221710205,
          1.269248604774475
         ],
         "xaxis": "x",
         "y": [
          905,
          965,
          967,
          975,
          995
         ],
         "yaxis": "y"
        },
        {
         "customdata": [
          [
           "Original | 50/50 | Comedy",
           "Comedy"
          ],
          [
           "Original | Kick-Ass | Comedy",
           "Comedy"
          ],
          [
           "Original | The Station Agent | Comedy",
           "Comedy"
          ],
          [
           "Original | Dazed and Confused | Comedy",
           "Comedy"
          ],
          [
           "Original | Delicatessen | Comedy",
           "Comedy"
          ],
          [
           "Original | Planes, Trains & Automobiles | Comedy",
           "Comedy"
          ],
          [
           "Original | The Muppet Movie | Comedy",
           "Comedy"
          ]
         ],
         "hovertemplate": "Cluster=%{customdata[1]}<br>Type=Original<br>Distance to War=%{x}<br>Movie Index=%{y}<br>Title=%{customdata[0]}<extra></extra>",
         "legendgroup": "Comedy, Original",
         "marker": {
          "color": "#FF6692",
          "symbol": "circle"
         },
         "mode": "markers",
         "name": "Comedy, Original",
         "opacity": 0.3,
         "orientation": "v",
         "showlegend": false,
         "type": "scatter",
         "x": [
          1.434761881828308,
          1.3978569507598877,
          1.4771883487701416,
          1.5036522150039673,
          1.4929804801940918,
          1.4567067623138428,
          1.3919216394424438
         ],
         "xaxis": "x",
         "y": [
          907,
          908,
          937,
          969,
          972,
          978,
          984
         ],
         "yaxis": "y"
        },
        {
         "customdata": [
          [
           "Steered | 50/50 | Comedy",
           "Comedy"
          ],
          [
           "Steered | Kick-Ass | Comedy",
           "Comedy"
          ],
          [
           "Steered | The Station Agent | Comedy",
           "Comedy"
          ],
          [
           "Steered | Dazed and Confused | Comedy",
           "Comedy"
          ],
          [
           "Steered | Delicatessen | Comedy",
           "Comedy"
          ],
          [
           "Steered | Planes, Trains & Automobiles | Comedy",
           "Comedy"
          ],
          [
           "Steered | The Muppet Movie | Comedy",
           "Comedy"
          ]
         ],
         "hovertemplate": "Cluster=%{customdata[1]}<br>Type=Steered<br>Distance to War=%{x}<br>Movie Index=%{y}<br>Title=%{customdata[0]}<extra></extra>",
         "legendgroup": "Comedy, Steered",
         "marker": {
          "color": "#FF6692",
          "symbol": "diamond"
         },
         "mode": "markers",
         "name": "Comedy, Steered",
         "opacity": 1,
         "orientation": "v",
         "showlegend": true,
         "type": "scatter",
         "x": [
          1.2349909543991089,
          1.1693195104599,
          1.2526683807373047,
          1.3466185331344604,
          1.323704481124878,
          1.257849097251892,
          1.2127864360809326
         ],
         "xaxis": "x",
         "y": [
          907,
          908,
          937,
          969,
          972,
          978,
          984
         ],
         "yaxis": "y"
        },
        {
         "customdata": [
          [
           "Original | Moneyball | Biography",
           "Biography"
          ],
          [
           "Original | The Blind Side | Biography",
           "Biography"
          ],
          [
           "Original | La Vie En Rose | Biography",
           "Biography"
          ],
          [
           "Original | Huo Yuan Jia | Biography",
           "Biography"
          ],
          [
           "Original | Blow | Biography",
           "Biography"
          ],
          [
           "Original | The Hurricane | Biography",
           "Biography"
          ]
         ],
         "hovertemplate": "Cluster=%{customdata[1]}<br>Type=Original<br>Distance to War=%{x}<br>Movie Index=%{y}<br>Title=%{customdata[0]}<extra></extra>",
         "legendgroup": "Biography, Original",
         "marker": {
          "color": "#B6E880",
          "symbol": "circle"
         },
         "mode": "markers",
         "name": "Biography, Original",
         "opacity": 0.3,
         "orientation": "v",
         "showlegend": false,
         "type": "scatter",
         "x": [
          1.4476279020309448,
          1.4318146705627441,
          1.5161466598510742,
          1.4234352111816406,
          1.4435604810714722,
          1.2787588834762573
         ],
         "xaxis": "x",
         "y": [
          910,
          915,
          923,
          924,
          949,
          952
         ],
         "yaxis": "y"
        },
        {
         "customdata": [
          [
           "Steered | Moneyball | Biography",
           "Biography"
          ],
          [
           "Steered | The Blind Side | Biography",
           "Biography"
          ],
          [
           "Steered | La Vie En Rose | Biography",
           "Biography"
          ],
          [
           "Steered | Huo Yuan Jia | Biography",
           "Biography"
          ],
          [
           "Steered | Blow | Biography",
           "Biography"
          ],
          [
           "Steered | The Hurricane | Biography",
           "Biography"
          ]
         ],
         "hovertemplate": "Cluster=%{customdata[1]}<br>Type=Steered<br>Distance to War=%{x}<br>Movie Index=%{y}<br>Title=%{customdata[0]}<extra></extra>",
         "legendgroup": "Biography, Steered",
         "marker": {
          "color": "#B6E880",
          "symbol": "diamond"
         },
         "mode": "markers",
         "name": "Biography, Steered",
         "opacity": 1,
         "orientation": "v",
         "showlegend": true,
         "type": "scatter",
         "x": [
          1.2476774454116821,
          1.2408114671707153,
          1.2767894268035889,
          1.2517191171646118,
          1.25868821144104,
          1.1118578910827637
         ],
         "xaxis": "x",
         "y": [
          910,
          915,
          923,
          924,
          949,
          952
         ],
         "yaxis": "y"
        },
        {
         "customdata": [
          [
           "Original | La piel que habito | Horror",
           "Horror"
          ],
          [
           "Original | 28 Days Later... | Horror",
           "Horror"
          ],
          [
           "Original | The Others | Horror",
           "Horror"
          ]
         ],
         "hovertemplate": "Cluster=%{customdata[1]}<br>Type=Original<br>Distance to War=%{x}<br>Movie Index=%{y}<br>Title=%{customdata[0]}<extra></extra>",
         "legendgroup": "Horror, Original",
         "marker": {
          "color": "#FF97FF",
          "symbol": "circle"
         },
         "mode": "markers",
         "name": "Horror, Original",
         "opacity": 0.3,
         "orientation": "v",
         "showlegend": false,
         "type": "scatter",
         "x": [
          1.4464478492736816,
          1.3344842195510864,
          1.550716757774353
         ],
         "xaxis": "x",
         "y": [
          911,
          943,
          948
         ],
         "yaxis": "y"
        },
        {
         "customdata": [
          [
           "Steered | La piel que habito | Horror",
           "Horror"
          ],
          [
           "Steered | 28 Days Later... | Horror",
           "Horror"
          ],
          [
           "Steered | The Others | Horror",
           "Horror"
          ]
         ],
         "hovertemplate": "Cluster=%{customdata[1]}<br>Type=Steered<br>Distance to War=%{x}<br>Movie Index=%{y}<br>Title=%{customdata[0]}<extra></extra>",
         "legendgroup": "Horror, Steered",
         "marker": {
          "color": "#FF97FF",
          "symbol": "diamond"
         },
         "mode": "markers",
         "name": "Horror, Steered",
         "opacity": 1,
         "orientation": "v",
         "showlegend": true,
         "type": "scatter",
         "x": [
          1.232690691947937,
          1.1534700393676758,
          1.3973013162612915
         ],
         "xaxis": "x",
         "y": [
          911,
          943,
          948
         ],
         "yaxis": "y"
        },
        {
         "customdata": [
          [
           "Original | Zombieland | Adventure",
           "Adventure"
          ],
          [
           "Original | The Secret of Kells | Adventure",
           "Adventure"
          ],
          [
           "Original | Harry Potter and the Half-Blood Prince | Adventure",
           "Adventure"
          ],
          [
           "Original | Harry Potter and the Sorcerer's Stone | Adventure",
           "Adventure"
          ],
          [
           "Original | Fear and Loathing in Las Vegas | Adventure",
           "Adventure"
          ],
          [
           "Original | Dead Man | Adventure",
           "Adventure"
          ],
          [
           "Original | Apollo 13 | Adventure",
           "Adventure"
          ],
          [
           "Original | Mad Max 2 | Adventure",
           "Adventure"
          ],
          [
           "Original | Watership Down | Adventure",
           "Adventure"
          ],
          [
           "Original | The Jungle Book | Adventure",
           "Adventure"
          ]
         ],
         "hovertemplate": "Cluster=%{customdata[1]}<br>Type=Original<br>Distance to War=%{x}<br>Movie Index=%{y}<br>Title=%{customdata[0]}<extra></extra>",
         "legendgroup": "Adventure, Original",
         "marker": {
          "color": "#FECB52",
          "symbol": "circle"
         },
         "mode": "markers",
         "name": "Adventure, Original",
         "opacity": 0.3,
         "orientation": "v",
         "showlegend": false,
         "type": "scatter",
         "x": [
          1.376458764076233,
          1.4439138174057007,
          1.4382779598236084,
          1.4922455549240112,
          1.456811547279358,
          1.3826316595077515,
          1.2628780603408813,
          1.3676599264144897,
          1.4102026224136353,
          1.3386390209197998
         ],
         "xaxis": "x",
         "y": [
          912,
          920,
          927,
          947,
          957,
          964,
          966,
          982,
          986,
          992
         ],
         "yaxis": "y"
        },
        {
         "customdata": [
          [
           "Steered | Zombieland | Adventure",
           "Adventure"
          ],
          [
           "Steered | The Secret of Kells | Adventure",
           "Adventure"
          ],
          [
           "Steered | Harry Potter and the Half-Blood Prince | Adventure",
           "Adventure"
          ],
          [
           "Steered | Harry Potter and the Sorcerer's Stone | Adventure",
           "Adventure"
          ],
          [
           "Steered | Fear and Loathing in Las Vegas | Adventure",
           "Adventure"
          ],
          [
           "Steered | Dead Man | Adventure",
           "Adventure"
          ],
          [
           "Steered | Apollo 13 | Adventure",
           "Adventure"
          ],
          [
           "Steered | Mad Max 2 | Adventure",
           "Adventure"
          ],
          [
           "Steered | Watership Down | Adventure",
           "Adventure"
          ],
          [
           "Steered | The Jungle Book | Adventure",
           "Adventure"
          ]
         ],
         "hovertemplate": "Cluster=%{customdata[1]}<br>Type=Steered<br>Distance to War=%{x}<br>Movie Index=%{y}<br>Title=%{customdata[0]}<extra></extra>",
         "legendgroup": "Adventure, Steered",
         "marker": {
          "color": "#FECB52",
          "symbol": "diamond"
         },
         "mode": "markers",
         "name": "Adventure, Steered",
         "opacity": 1,
         "orientation": "v",
         "showlegend": true,
         "type": "scatter",
         "x": [
          1.1328009366989136,
          1.2234913110733032,
          1.2344224452972412,
          1.3043001890182495,
          1.284125566482544,
          1.1924693584442139,
          1.0807209014892578,
          1.16666841506958,
          1.1984162330627441,
          1.1630878448486328
         ],
         "xaxis": "x",
         "y": [
          912,
          920,
          927,
          947,
          957,
          964,
          966,
          982,
          986,
          992
         ],
         "yaxis": "y"
        },
        {
         "customdata": [
          [
           "Original | Sherlock Holmes | Mystery",
           "Mystery"
          ],
          [
           "Original | Watchmen | Mystery",
           "Mystery"
          ],
          [
           "Original | Un long dimanche de fiançailles | Mystery",
           "Mystery"
          ]
         ],
         "hovertemplate": "Cluster=%{customdata[1]}<br>Type=Original<br>Distance to War=%{x}<br>Movie Index=%{y}<br>Title=%{customdata[0]}<extra></extra>",
         "legendgroup": "Mystery, Original",
         "marker": {
          "color": "#636efa",
          "symbol": "circle"
         },
         "mode": "markers",
         "name": "Mystery, Original",
         "opacity": 0.3,
         "orientation": "v",
         "showlegend": false,
         "type": "scatter",
         "x": [
          1.2877541780471802,
          1.3416550159454346,
          1.3519573211669922
         ],
         "xaxis": "x",
         "y": [
          914,
          930,
          936
         ],
         "yaxis": "y"
        },
        {
         "customdata": [
          [
           "Steered | Sherlock Holmes | Mystery",
           "Mystery"
          ],
          [
           "Steered | Watchmen | Mystery",
           "Mystery"
          ],
          [
           "Steered | Un long dimanche de fiançailles | Mystery",
           "Mystery"
          ]
         ],
         "hovertemplate": "Cluster=%{customdata[1]}<br>Type=Steered<br>Distance to War=%{x}<br>Movie Index=%{y}<br>Title=%{customdata[0]}<extra></extra>",
         "legendgroup": "Mystery, Steered",
         "marker": {
          "color": "#636efa",
          "symbol": "diamond"
         },
         "mode": "markers",
         "name": "Mystery, Steered",
         "opacity": 1,
         "orientation": "v",
         "showlegend": true,
         "type": "scatter",
         "x": [
          1.1055660247802734,
          1.1241211891174316,
          1.1761159896850586
         ],
         "xaxis": "x",
         "y": [
          914,
          930,
          936
         ],
         "yaxis": "y"
        },
        {
         "customdata": [
          [
           "Original | The Visitor | Drama",
           "Drama"
          ],
          [
           "Original | Seven Pounds | Drama",
           "Drama"
          ],
          [
           "Original | 300 | Drama",
           "Drama"
          ],
          [
           "Original | Match Point | Drama",
           "Drama"
          ],
          [
           "Original | Lord of War | Drama",
           "Drama"
          ],
          [
           "Original | Synecdoche, New York | Drama",
           "Drama"
          ],
          [
           "Original | Mysterious Skin | Drama",
           "Drama"
          ],
          [
           "Original | Jeux d'enfants | Drama",
           "Drama"
          ],
          [
           "Original | 25th Hour | Drama",
           "Drama"
          ],
          [
           "Original | The Royal Tenenbaums | Drama",
           "Drama"
          ],
          [
           "Original | Y tu mamá también | Drama",
           "Drama"
          ],
          [
           "Original | Lola rennt | Drama",
           "Drama"
          ],
          [
           "Original | Funny Games | Drama",
           "Drama"
          ],
          [
           "Original | Sense and Sensibility | Drama",
           "Drama"
          ],
          [
           "Original | On Golden Pond | Drama",
           "Drama"
          ],
          [
           "Original | From Here to Eternity | Drama",
           "Drama"
          ]
         ],
         "hovertemplate": "Cluster=%{customdata[1]}<br>Type=Original<br>Distance to War=%{x}<br>Movie Index=%{y}<br>Title=%{customdata[0]}<extra></extra>",
         "legendgroup": "Drama, Original",
         "marker": {
          "color": "#EF553B",
          "symbol": "circle"
         },
         "mode": "markers",
         "name": "Drama, Original",
         "opacity": 0.3,
         "orientation": "v",
         "showlegend": false,
         "type": "scatter",
         "x": [
          1.5300325155258179,
          1.3862934112548828,
          1.284893274307251,
          1.4331393241882324,
          1.298810601234436,
          1.5173403024673462,
          1.3936359882354736,
          1.3754807710647583,
          1.365349531173706,
          1.4466233253479004,
          1.4799580574035645,
          1.4108070135116577,
          1.2877496480941772,
          1.437728762626648,
          1.4773210287094116,
          1.250650405883789
         ],
         "xaxis": "x",
         "y": [
          916,
          917,
          928,
          929,
          931,
          933,
          934,
          935,
          941,
          945,
          946,
          954,
          958,
          962,
          981,
          997
         ],
         "yaxis": "y"
        },
        {
         "customdata": [
          [
           "Steered | The Visitor | Drama",
           "Drama"
          ],
          [
           "Steered | Seven Pounds | Drama",
           "Drama"
          ],
          [
           "Steered | 300 | Drama",
           "Drama"
          ],
          [
           "Steered | Match Point | Drama",
           "Drama"
          ],
          [
           "Steered | Lord of War | Drama",
           "Drama"
          ],
          [
           "Steered | Synecdoche, New York | Drama",
           "Drama"
          ],
          [
           "Steered | Mysterious Skin | Drama",
           "Drama"
          ],
          [
           "Steered | Jeux d'enfants | Drama",
           "Drama"
          ],
          [
           "Steered | 25th Hour | Drama",
           "Drama"
          ],
          [
           "Steered | The Royal Tenenbaums | Drama",
           "Drama"
          ],
          [
           "Steered | Y tu mamá también | Drama",
           "Drama"
          ],
          [
           "Steered | Lola rennt | Drama",
           "Drama"
          ],
          [
           "Steered | Funny Games | Drama",
           "Drama"
          ],
          [
           "Steered | Sense and Sensibility | Drama",
           "Drama"
          ],
          [
           "Steered | On Golden Pond | Drama",
           "Drama"
          ],
          [
           "Steered | From Here to Eternity | Drama",
           "Drama"
          ]
         ],
         "hovertemplate": "Cluster=%{customdata[1]}<br>Type=Steered<br>Distance to War=%{x}<br>Movie Index=%{y}<br>Title=%{customdata[0]}<extra></extra>",
         "legendgroup": "Drama, Steered",
         "marker": {
          "color": "#EF553B",
          "symbol": "diamond"
         },
         "mode": "markers",
         "name": "Drama, Steered",
         "opacity": 1,
         "orientation": "v",
         "showlegend": true,
         "type": "scatter",
         "x": [
          1.3561111688613892,
          1.2026793956756592,
          1.117407202720642,
          1.221113920211792,
          1.1301695108413696,
          1.3181884288787842,
          1.1899300813674927,
          1.1314798593521118,
          1.1549314260482788,
          1.2679353952407837,
          1.2865337133407593,
          1.214375615119934,
          1.0839568376541138,
          1.2550702095031738,
          1.2687150239944458,
          1.0469655990600586
         ],
         "xaxis": "x",
         "y": [
          916,
          917,
          928,
          929,
          931,
          933,
          934,
          935,
          941,
          945,
          946,
          954,
          958,
          962,
          981,
          997
         ],
         "yaxis": "y"
        },
        {
         "customdata": [
          [
           "Original | Stardust | Fantasy",
           "Fantasy"
          ],
          [
           "Original | The Illusionist | Fantasy",
           "Fantasy"
          ],
          [
           "Original | The Little Mermaid | Fantasy",
           "Fantasy"
          ]
         ],
         "hovertemplate": "Cluster=%{customdata[1]}<br>Type=Original<br>Distance to War=%{x}<br>Movie Index=%{y}<br>Title=%{customdata[0]}<extra></extra>",
         "legendgroup": "Fantasy, Original",
         "marker": {
          "color": "#00cc96",
          "symbol": "circle"
         },
         "mode": "markers",
         "name": "Fantasy, Original",
         "opacity": 0.3,
         "orientation": "v",
         "showlegend": false,
         "type": "scatter",
         "x": [
          1.4541274309158325,
          1.449101209640503,
          1.3833600282669067
         ],
         "xaxis": "x",
         "y": [
          919,
          925,
          976
         ],
         "yaxis": "y"
        },
        {
         "customdata": [
          [
           "Steered | Stardust | Fantasy",
           "Fantasy"
          ],
          [
           "Steered | The Illusionist | Fantasy",
           "Fantasy"
          ],
          [
           "Steered | The Little Mermaid | Fantasy",
           "Fantasy"
          ]
         ],
         "hovertemplate": "Cluster=%{customdata[1]}<br>Type=Steered<br>Distance to War=%{x}<br>Movie Index=%{y}<br>Title=%{customdata[0]}<extra></extra>",
         "legendgroup": "Fantasy, Steered",
         "marker": {
          "color": "#00cc96",
          "symbol": "diamond"
         },
         "mode": "markers",
         "name": "Fantasy, Steered",
         "opacity": 1,
         "orientation": "v",
         "showlegend": true,
         "type": "scatter",
         "x": [
          1.2523738145828247,
          1.2648192644119263,
          1.224901556968689
         ],
         "xaxis": "x",
         "y": [
          919,
          925,
          976
         ],
         "yaxis": "y"
        },
        {
         "customdata": [
          [
           "Original | Batoru rowaiaru | Action",
           "Action"
          ]
         ],
         "hovertemplate": "Cluster=%{customdata[1]}<br>Type=Original<br>Distance to War=%{x}<br>Movie Index=%{y}<br>Title=%{customdata[0]}<extra></extra>",
         "legendgroup": "Action, Original",
         "marker": {
          "color": "#ab63fa",
          "symbol": "circle"
         },
         "mode": "markers",
         "name": "Action, Original",
         "opacity": 0.3,
         "orientation": "v",
         "showlegend": false,
         "type": "scatter",
         "x": [
          1.2489081621170044
         ],
         "xaxis": "x",
         "y": [
          944
         ],
         "yaxis": "y"
        },
        {
         "customdata": [
          [
           "Steered | Batoru rowaiaru | Action",
           "Action"
          ]
         ],
         "hovertemplate": "Cluster=%{customdata[1]}<br>Type=Steered<br>Distance to War=%{x}<br>Movie Index=%{y}<br>Title=%{customdata[0]}<extra></extra>",
         "legendgroup": "Action, Steered",
         "marker": {
          "color": "#ab63fa",
          "symbol": "diamond"
         },
         "mode": "markers",
         "name": "Action, Steered",
         "opacity": 1,
         "orientation": "v",
         "showlegend": true,
         "type": "scatter",
         "x": [
          1.0539177656173706
         ],
         "xaxis": "x",
         "y": [
          944
         ],
         "yaxis": "y"
        },
        {
         "customdata": [
          [
           "Original | Enemy at the Gates | War",
           "War"
          ],
          [
           "Original | The Thin Red Line | War",
           "War"
          ],
          [
           "Original | Giù la testa | War",
           "War"
          ],
          [
           "Original | Kelly's Heroes | War",
           "War"
          ],
          [
           "Original | Lifeboat | War",
           "War"
          ]
         ],
         "hovertemplate": "Cluster=%{customdata[1]}<br>Type=Original<br>Distance to War=%{x}<br>Movie Index=%{y}<br>Title=%{customdata[0]}<extra></extra>",
         "legendgroup": "War, Original",
         "marker": {
          "color": "#FFA15A",
          "symbol": "circle"
         },
         "mode": "markers",
         "name": "War, Original",
         "opacity": 0.3,
         "orientation": "v",
         "showlegend": false,
         "type": "scatter",
         "x": [
          1.2388334274291992,
          1.3722306489944458,
          1.3192858695983887,
          1.2032065391540527,
          1.2639687061309814
         ],
         "xaxis": "x",
         "y": [
          950,
          955,
          990,
          991,
          998
         ],
         "yaxis": "y"
        },
        {
         "customdata": [
          [
           "Steered | Enemy at the Gates | War",
           "War"
          ],
          [
           "Steered | The Thin Red Line | War",
           "War"
          ],
          [
           "Steered | Giù la testa | War",
           "War"
          ],
          [
           "Steered | Kelly's Heroes | War",
           "War"
          ],
          [
           "Steered | Lifeboat | War",
           "War"
          ]
         ],
         "hovertemplate": "Cluster=%{customdata[1]}<br>Type=Steered<br>Distance to War=%{x}<br>Movie Index=%{y}<br>Title=%{customdata[0]}<extra></extra>",
         "legendgroup": "War, Steered",
         "marker": {
          "color": "#FFA15A",
          "symbol": "diamond"
         },
         "mode": "markers",
         "name": "War, Steered",
         "opacity": 1,
         "orientation": "v",
         "showlegend": true,
         "type": "scatter",
         "x": [
          1.0804933309555054,
          1.1930370330810547,
          1.1369497776031494,
          1.0315005779266357,
          1.0735645294189453
         ],
         "xaxis": "x",
         "y": [
          950,
          955,
          990,
          991,
          998
         ],
         "yaxis": "y"
        },
        {
         "customdata": [
          [
           "Original | Omohide poro poro | Animation",
           "Animation"
          ]
         ],
         "hovertemplate": "Cluster=%{customdata[1]}<br>Type=Original<br>Distance to War=%{x}<br>Movie Index=%{y}<br>Title=%{customdata[0]}<extra></extra>",
         "legendgroup": "Animation, Original",
         "marker": {
          "color": "#19d3f3",
          "symbol": "circle"
         },
         "mode": "markers",
         "name": "Animation, Original",
         "opacity": 0.3,
         "orientation": "v",
         "showlegend": false,
         "type": "scatter",
         "x": [
          1.573344349861145
         ],
         "xaxis": "x",
         "y": [
          971
         ],
         "yaxis": "y"
        },
        {
         "customdata": [
          [
           "Steered | Omohide poro poro | Animation",
           "Animation"
          ]
         ],
         "hovertemplate": "Cluster=%{customdata[1]}<br>Type=Steered<br>Distance to War=%{x}<br>Movie Index=%{y}<br>Title=%{customdata[0]}<extra></extra>",
         "legendgroup": "Animation, Steered",
         "marker": {
          "color": "#19d3f3",
          "symbol": "diamond"
         },
         "mode": "markers",
         "name": "Animation, Steered",
         "opacity": 1,
         "orientation": "v",
         "showlegend": true,
         "type": "scatter",
         "x": [
          1.4063705205917358
         ],
         "xaxis": "x",
         "y": [
          971
         ],
         "yaxis": "y"
        },
        {
         "customdata": [
          [
           "Original | Close Encounters of the Third Kind | Sci-Fi",
           "Sci-Fi"
          ]
         ],
         "hovertemplate": "Cluster=%{customdata[1]}<br>Type=Original<br>Distance to War=%{x}<br>Movie Index=%{y}<br>Title=%{customdata[0]}<extra></extra>",
         "legendgroup": "Sci-Fi, Original",
         "marker": {
          "color": "#FF6692",
          "symbol": "circle"
         },
         "mode": "markers",
         "name": "Sci-Fi, Original",
         "opacity": 0.3,
         "orientation": "v",
         "showlegend": false,
         "type": "scatter",
         "x": [
          1.3639914989471436
         ],
         "xaxis": "x",
         "y": [
          988
         ],
         "yaxis": "y"
        },
        {
         "customdata": [
          [
           "Steered | Close Encounters of the Third Kind | Sci-Fi",
           "Sci-Fi"
          ]
         ],
         "hovertemplate": "Cluster=%{customdata[1]}<br>Type=Steered<br>Distance to War=%{x}<br>Movie Index=%{y}<br>Title=%{customdata[0]}<extra></extra>",
         "legendgroup": "Sci-Fi, Steered",
         "marker": {
          "color": "#FF6692",
          "symbol": "diamond"
         },
         "mode": "markers",
         "name": "Sci-Fi, Steered",
         "opacity": 1,
         "orientation": "v",
         "showlegend": true,
         "type": "scatter",
         "x": [
          1.1709082126617432
         ],
         "xaxis": "x",
         "y": [
          988
         ],
         "yaxis": "y"
        },
        {
         "hoverinfo": "none",
         "line": {
          "color": "gray",
          "dash": "dot",
          "width": 1
         },
         "mode": "lines",
         "showlegend": false,
         "type": "scatter",
         "x": [
          1.1767395734786987,
          0.9825538992881775
         ],
         "y": [
          900,
          900
         ]
        },
        {
         "hoverinfo": "none",
         "line": {
          "color": "gray",
          "dash": "dot",
          "width": 1
         },
         "mode": "lines",
         "showlegend": false,
         "type": "scatter",
         "x": [
          1.3073744773864746,
          1.1112688779830933
         ],
         "y": [
          901,
          901
         ]
        },
        {
         "hoverinfo": "none",
         "line": {
          "color": "gray",
          "dash": "dot",
          "width": 1
         },
         "mode": "lines",
         "showlegend": false,
         "type": "scatter",
         "x": [
          1.531768798828125,
          1.3117958307266235
         ],
         "y": [
          902,
          902
         ]
        },
        {
         "hoverinfo": "none",
         "line": {
          "color": "gray",
          "dash": "dot",
          "width": 1
         },
         "mode": "lines",
         "showlegend": false,
         "type": "scatter",
         "x": [
          1.5014359951019287,
          1.3318358659744263
         ],
         "y": [
          903,
          903
         ]
        },
        {
         "hoverinfo": "none",
         "line": {
          "color": "gray",
          "dash": "dot",
          "width": 1
         },
         "mode": "lines",
         "showlegend": false,
         "type": "scatter",
         "x": [
          1.2687253952026367,
          1.093887448310852
         ],
         "y": [
          904,
          904
         ]
        },
        {
         "hoverinfo": "none",
         "line": {
          "color": "gray",
          "dash": "dot",
          "width": 1
         },
         "mode": "lines",
         "showlegend": false,
         "type": "scatter",
         "x": [
          1.4142194986343384,
          1.1952967643737793
         ],
         "y": [
          905,
          905
         ]
        },
        {
         "hoverinfo": "none",
         "line": {
          "color": "gray",
          "dash": "dot",
          "width": 1
         },
         "mode": "lines",
         "showlegend": false,
         "type": "scatter",
         "x": [
          1.3928143978118896,
          1.1799836158752441
         ],
         "y": [
          906,
          906
         ]
        },
        {
         "hoverinfo": "none",
         "line": {
          "color": "gray",
          "dash": "dot",
          "width": 1
         },
         "mode": "lines",
         "showlegend": false,
         "type": "scatter",
         "x": [
          1.434761881828308,
          1.2349909543991089
         ],
         "y": [
          907,
          907
         ]
        },
        {
         "hoverinfo": "none",
         "line": {
          "color": "gray",
          "dash": "dot",
          "width": 1
         },
         "mode": "lines",
         "showlegend": false,
         "type": "scatter",
         "x": [
          1.3978569507598877,
          1.1693195104599
         ],
         "y": [
          908,
          908
         ]
        },
        {
         "hoverinfo": "none",
         "line": {
          "color": "gray",
          "dash": "dot",
          "width": 1
         },
         "mode": "lines",
         "showlegend": false,
         "type": "scatter",
         "x": [
          1.2919000387191772,
          1.0842065811157227
         ],
         "y": [
          909,
          909
         ]
        },
        {
         "hoverinfo": "none",
         "line": {
          "color": "gray",
          "dash": "dot",
          "width": 1
         },
         "mode": "lines",
         "showlegend": false,
         "type": "scatter",
         "x": [
          1.4476279020309448,
          1.2476774454116821
         ],
         "y": [
          910,
          910
         ]
        },
        {
         "hoverinfo": "none",
         "line": {
          "color": "gray",
          "dash": "dot",
          "width": 1
         },
         "mode": "lines",
         "showlegend": false,
         "type": "scatter",
         "x": [
          1.4464478492736816,
          1.232690691947937
         ],
         "y": [
          911,
          911
         ]
        },
        {
         "hoverinfo": "none",
         "line": {
          "color": "gray",
          "dash": "dot",
          "width": 1
         },
         "mode": "lines",
         "showlegend": false,
         "type": "scatter",
         "x": [
          1.376458764076233,
          1.1328009366989136
         ],
         "y": [
          912,
          912
         ]
        },
        {
         "hoverinfo": "none",
         "line": {
          "color": "gray",
          "dash": "dot",
          "width": 1
         },
         "mode": "lines",
         "showlegend": false,
         "type": "scatter",
         "x": [
          1.4077211618423462,
          1.1970784664154053
         ],
         "y": [
          913,
          913
         ]
        },
        {
         "hoverinfo": "none",
         "line": {
          "color": "gray",
          "dash": "dot",
          "width": 1
         },
         "mode": "lines",
         "showlegend": false,
         "type": "scatter",
         "x": [
          1.2877541780471802,
          1.1055660247802734
         ],
         "y": [
          914,
          914
         ]
        },
        {
         "hoverinfo": "none",
         "line": {
          "color": "gray",
          "dash": "dot",
          "width": 1
         },
         "mode": "lines",
         "showlegend": false,
         "type": "scatter",
         "x": [
          1.4318146705627441,
          1.2408114671707153
         ],
         "y": [
          915,
          915
         ]
        },
        {
         "hoverinfo": "none",
         "line": {
          "color": "gray",
          "dash": "dot",
          "width": 1
         },
         "mode": "lines",
         "showlegend": false,
         "type": "scatter",
         "x": [
          1.5300325155258179,
          1.3561111688613892
         ],
         "y": [
          916,
          916
         ]
        },
        {
         "hoverinfo": "none",
         "line": {
          "color": "gray",
          "dash": "dot",
          "width": 1
         },
         "mode": "lines",
         "showlegend": false,
         "type": "scatter",
         "x": [
          1.3862934112548828,
          1.2026793956756592
         ],
         "y": [
          917,
          917
         ]
        },
        {
         "hoverinfo": "none",
         "line": {
          "color": "gray",
          "dash": "dot",
          "width": 1
         },
         "mode": "lines",
         "showlegend": false,
         "type": "scatter",
         "x": [
          1.4165701866149902,
          1.2341810464859009
         ],
         "y": [
          918,
          918
         ]
        },
        {
         "hoverinfo": "none",
         "line": {
          "color": "gray",
          "dash": "dot",
          "width": 1
         },
         "mode": "lines",
         "showlegend": false,
         "type": "scatter",
         "x": [
          1.4541274309158325,
          1.2523738145828247
         ],
         "y": [
          919,
          919
         ]
        },
        {
         "hoverinfo": "none",
         "line": {
          "color": "gray",
          "dash": "dot",
          "width": 1
         },
         "mode": "lines",
         "showlegend": false,
         "type": "scatter",
         "x": [
          1.4439138174057007,
          1.2234913110733032
         ],
         "y": [
          920,
          920
         ]
        },
        {
         "hoverinfo": "none",
         "line": {
          "color": "gray",
          "dash": "dot",
          "width": 1
         },
         "mode": "lines",
         "showlegend": false,
         "type": "scatter",
         "x": [
          1.2371035814285278,
          1.0270593166351318
         ],
         "y": [
          921,
          921
         ]
        },
        {
         "hoverinfo": "none",
         "line": {
          "color": "gray",
          "dash": "dot",
          "width": 1
         },
         "mode": "lines",
         "showlegend": false,
         "type": "scatter",
         "x": [
          1.3804055452346802,
          1.1962602138519287
         ],
         "y": [
          922,
          922
         ]
        },
        {
         "hoverinfo": "none",
         "line": {
          "color": "gray",
          "dash": "dot",
          "width": 1
         },
         "mode": "lines",
         "showlegend": false,
         "type": "scatter",
         "x": [
          1.5161466598510742,
          1.2767894268035889
         ],
         "y": [
          923,
          923
         ]
        },
        {
         "hoverinfo": "none",
         "line": {
          "color": "gray",
          "dash": "dot",
          "width": 1
         },
         "mode": "lines",
         "showlegend": false,
         "type": "scatter",
         "x": [
          1.4234352111816406,
          1.2517191171646118
         ],
         "y": [
          924,
          924
         ]
        },
        {
         "hoverinfo": "none",
         "line": {
          "color": "gray",
          "dash": "dot",
          "width": 1
         },
         "mode": "lines",
         "showlegend": false,
         "type": "scatter",
         "x": [
          1.449101209640503,
          1.2648192644119263
         ],
         "y": [
          925,
          925
         ]
        },
        {
         "hoverinfo": "none",
         "line": {
          "color": "gray",
          "dash": "dot",
          "width": 1
         },
         "mode": "lines",
         "showlegend": false,
         "type": "scatter",
         "x": [
          1.2508255243301392,
          1.0524320602416992
         ],
         "y": [
          926,
          926
         ]
        },
        {
         "hoverinfo": "none",
         "line": {
          "color": "gray",
          "dash": "dot",
          "width": 1
         },
         "mode": "lines",
         "showlegend": false,
         "type": "scatter",
         "x": [
          1.4382779598236084,
          1.2344224452972412
         ],
         "y": [
          927,
          927
         ]
        },
        {
         "hoverinfo": "none",
         "line": {
          "color": "gray",
          "dash": "dot",
          "width": 1
         },
         "mode": "lines",
         "showlegend": false,
         "type": "scatter",
         "x": [
          1.284893274307251,
          1.117407202720642
         ],
         "y": [
          928,
          928
         ]
        },
        {
         "hoverinfo": "none",
         "line": {
          "color": "gray",
          "dash": "dot",
          "width": 1
         },
         "mode": "lines",
         "showlegend": false,
         "type": "scatter",
         "x": [
          1.4331393241882324,
          1.221113920211792
         ],
         "y": [
          929,
          929
         ]
        },
        {
         "hoverinfo": "none",
         "line": {
          "color": "gray",
          "dash": "dot",
          "width": 1
         },
         "mode": "lines",
         "showlegend": false,
         "type": "scatter",
         "x": [
          1.3416550159454346,
          1.1241211891174316
         ],
         "y": [
          930,
          930
         ]
        },
        {
         "hoverinfo": "none",
         "line": {
          "color": "gray",
          "dash": "dot",
          "width": 1
         },
         "mode": "lines",
         "showlegend": false,
         "type": "scatter",
         "x": [
          1.298810601234436,
          1.1301695108413696
         ],
         "y": [
          931,
          931
         ]
        },
        {
         "hoverinfo": "none",
         "line": {
          "color": "gray",
          "dash": "dot",
          "width": 1
         },
         "mode": "lines",
         "showlegend": false,
         "type": "scatter",
         "x": [
          1.2626311779022217,
          1.0495285987854004
         ],
         "y": [
          932,
          932
         ]
        },
        {
         "hoverinfo": "none",
         "line": {
          "color": "gray",
          "dash": "dot",
          "width": 1
         },
         "mode": "lines",
         "showlegend": false,
         "type": "scatter",
         "x": [
          1.5173403024673462,
          1.3181884288787842
         ],
         "y": [
          933,
          933
         ]
        },
        {
         "hoverinfo": "none",
         "line": {
          "color": "gray",
          "dash": "dot",
          "width": 1
         },
         "mode": "lines",
         "showlegend": false,
         "type": "scatter",
         "x": [
          1.3936359882354736,
          1.1899300813674927
         ],
         "y": [
          934,
          934
         ]
        },
        {
         "hoverinfo": "none",
         "line": {
          "color": "gray",
          "dash": "dot",
          "width": 1
         },
         "mode": "lines",
         "showlegend": false,
         "type": "scatter",
         "x": [
          1.3754807710647583,
          1.1314798593521118
         ],
         "y": [
          935,
          935
         ]
        },
        {
         "hoverinfo": "none",
         "line": {
          "color": "gray",
          "dash": "dot",
          "width": 1
         },
         "mode": "lines",
         "showlegend": false,
         "type": "scatter",
         "x": [
          1.3519573211669922,
          1.1761159896850586
         ],
         "y": [
          936,
          936
         ]
        },
        {
         "hoverinfo": "none",
         "line": {
          "color": "gray",
          "dash": "dot",
          "width": 1
         },
         "mode": "lines",
         "showlegend": false,
         "type": "scatter",
         "x": [
          1.4771883487701416,
          1.2526683807373047
         ],
         "y": [
          937,
          937
         ]
        },
        {
         "hoverinfo": "none",
         "line": {
          "color": "gray",
          "dash": "dot",
          "width": 1
         },
         "mode": "lines",
         "showlegend": false,
         "type": "scatter",
         "x": [
          1.433915138244629,
          1.232812523841858
         ],
         "y": [
          938,
          938
         ]
        },
        {
         "hoverinfo": "none",
         "line": {
          "color": "gray",
          "dash": "dot",
          "width": 1
         },
         "mode": "lines",
         "showlegend": false,
         "type": "scatter",
         "x": [
          1.3566772937774658,
          1.1520869731903076
         ],
         "y": [
          939,
          939
         ]
        },
        {
         "hoverinfo": "none",
         "line": {
          "color": "gray",
          "dash": "dot",
          "width": 1
         },
         "mode": "lines",
         "showlegend": false,
         "type": "scatter",
         "x": [
          1.5458927154541016,
          1.388724446296692
         ],
         "y": [
          940,
          940
         ]
        },
        {
         "hoverinfo": "none",
         "line": {
          "color": "gray",
          "dash": "dot",
          "width": 1
         },
         "mode": "lines",
         "showlegend": false,
         "type": "scatter",
         "x": [
          1.365349531173706,
          1.1549314260482788
         ],
         "y": [
          941,
          941
         ]
        },
        {
         "hoverinfo": "none",
         "line": {
          "color": "gray",
          "dash": "dot",
          "width": 1
         },
         "mode": "lines",
         "showlegend": false,
         "type": "scatter",
         "x": [
          1.4669755697250366,
          1.2513548135757446
         ],
         "y": [
          942,
          942
         ]
        },
        {
         "hoverinfo": "none",
         "line": {
          "color": "gray",
          "dash": "dot",
          "width": 1
         },
         "mode": "lines",
         "showlegend": false,
         "type": "scatter",
         "x": [
          1.3344842195510864,
          1.1534700393676758
         ],
         "y": [
          943,
          943
         ]
        },
        {
         "hoverinfo": "none",
         "line": {
          "color": "gray",
          "dash": "dot",
          "width": 1
         },
         "mode": "lines",
         "showlegend": false,
         "type": "scatter",
         "x": [
          1.2489081621170044,
          1.0539177656173706
         ],
         "y": [
          944,
          944
         ]
        },
        {
         "hoverinfo": "none",
         "line": {
          "color": "gray",
          "dash": "dot",
          "width": 1
         },
         "mode": "lines",
         "showlegend": false,
         "type": "scatter",
         "x": [
          1.4466233253479004,
          1.2679353952407837
         ],
         "y": [
          945,
          945
         ]
        },
        {
         "hoverinfo": "none",
         "line": {
          "color": "gray",
          "dash": "dot",
          "width": 1
         },
         "mode": "lines",
         "showlegend": false,
         "type": "scatter",
         "x": [
          1.4799580574035645,
          1.2865337133407593
         ],
         "y": [
          946,
          946
         ]
        },
        {
         "hoverinfo": "none",
         "line": {
          "color": "gray",
          "dash": "dot",
          "width": 1
         },
         "mode": "lines",
         "showlegend": false,
         "type": "scatter",
         "x": [
          1.4922455549240112,
          1.3043001890182495
         ],
         "y": [
          947,
          947
         ]
        },
        {
         "hoverinfo": "none",
         "line": {
          "color": "gray",
          "dash": "dot",
          "width": 1
         },
         "mode": "lines",
         "showlegend": false,
         "type": "scatter",
         "x": [
          1.550716757774353,
          1.3973013162612915
         ],
         "y": [
          948,
          948
         ]
        },
        {
         "hoverinfo": "none",
         "line": {
          "color": "gray",
          "dash": "dot",
          "width": 1
         },
         "mode": "lines",
         "showlegend": false,
         "type": "scatter",
         "x": [
          1.4435604810714722,
          1.25868821144104
         ],
         "y": [
          949,
          949
         ]
        },
        {
         "hoverinfo": "none",
         "line": {
          "color": "gray",
          "dash": "dot",
          "width": 1
         },
         "mode": "lines",
         "showlegend": false,
         "type": "scatter",
         "x": [
          1.2388334274291992,
          1.0804933309555054
         ],
         "y": [
          950,
          950
         ]
        },
        {
         "hoverinfo": "none",
         "line": {
          "color": "gray",
          "dash": "dot",
          "width": 1
         },
         "mode": "lines",
         "showlegend": false,
         "type": "scatter",
         "x": [
          1.2025485038757324,
          1.0131429433822632
         ],
         "y": [
          951,
          951
         ]
        },
        {
         "hoverinfo": "none",
         "line": {
          "color": "gray",
          "dash": "dot",
          "width": 1
         },
         "mode": "lines",
         "showlegend": false,
         "type": "scatter",
         "x": [
          1.2787588834762573,
          1.1118578910827637
         ],
         "y": [
          952,
          952
         ]
        },
        {
         "hoverinfo": "none",
         "line": {
          "color": "gray",
          "dash": "dot",
          "width": 1
         },
         "mode": "lines",
         "showlegend": false,
         "type": "scatter",
         "x": [
          1.3910456895828247,
          1.1682219505310059
         ],
         "y": [
          953,
          953
         ]
        },
        {
         "hoverinfo": "none",
         "line": {
          "color": "gray",
          "dash": "dot",
          "width": 1
         },
         "mode": "lines",
         "showlegend": false,
         "type": "scatter",
         "x": [
          1.4108070135116577,
          1.214375615119934
         ],
         "y": [
          954,
          954
         ]
        },
        {
         "hoverinfo": "none",
         "line": {
          "color": "gray",
          "dash": "dot",
          "width": 1
         },
         "mode": "lines",
         "showlegend": false,
         "type": "scatter",
         "x": [
          1.3722306489944458,
          1.1930370330810547
         ],
         "y": [
          955,
          955
         ]
        },
        {
         "hoverinfo": "none",
         "line": {
          "color": "gray",
          "dash": "dot",
          "width": 1
         },
         "mode": "lines",
         "showlegend": false,
         "type": "scatter",
         "x": [
          1.3158313035964966,
          1.1208884716033936
         ],
         "y": [
          956,
          956
         ]
        },
        {
         "hoverinfo": "none",
         "line": {
          "color": "gray",
          "dash": "dot",
          "width": 1
         },
         "mode": "lines",
         "showlegend": false,
         "type": "scatter",
         "x": [
          1.456811547279358,
          1.284125566482544
         ],
         "y": [
          957,
          957
         ]
        },
        {
         "hoverinfo": "none",
         "line": {
          "color": "gray",
          "dash": "dot",
          "width": 1
         },
         "mode": "lines",
         "showlegend": false,
         "type": "scatter",
         "x": [
          1.2877496480941772,
          1.0839568376541138
         ],
         "y": [
          958,
          958
         ]
        },
        {
         "hoverinfo": "none",
         "line": {
          "color": "gray",
          "dash": "dot",
          "width": 1
         },
         "mode": "lines",
         "showlegend": false,
         "type": "scatter",
         "x": [
          1.4810738563537598,
          1.2907830476760864
         ],
         "y": [
          959,
          959
         ]
        },
        {
         "hoverinfo": "none",
         "line": {
          "color": "gray",
          "dash": "dot",
          "width": 1
         },
         "mode": "lines",
         "showlegend": false,
         "type": "scatter",
         "x": [
          1.3068552017211914,
          1.0956344604492188
         ],
         "y": [
          960,
          960
         ]
        },
        {
         "hoverinfo": "none",
         "line": {
          "color": "gray",
          "dash": "dot",
          "width": 1
         },
         "mode": "lines",
         "showlegend": false,
         "type": "scatter",
         "x": [
          1.3551291227340698,
          1.1591227054595947
         ],
         "y": [
          961,
          961
         ]
        },
        {
         "hoverinfo": "none",
         "line": {
          "color": "gray",
          "dash": "dot",
          "width": 1
         },
         "mode": "lines",
         "showlegend": false,
         "type": "scatter",
         "x": [
          1.437728762626648,
          1.2550702095031738
         ],
         "y": [
          962,
          962
         ]
        },
        {
         "hoverinfo": "none",
         "line": {
          "color": "gray",
          "dash": "dot",
          "width": 1
         },
         "mode": "lines",
         "showlegend": false,
         "type": "scatter",
         "x": [
          1.3719422817230225,
          1.1670477390289307
         ],
         "y": [
          963,
          963
         ]
        },
        {
         "hoverinfo": "none",
         "line": {
          "color": "gray",
          "dash": "dot",
          "width": 1
         },
         "mode": "lines",
         "showlegend": false,
         "type": "scatter",
         "x": [
          1.3826316595077515,
          1.1924693584442139
         ],
         "y": [
          964,
          964
         ]
        },
        {
         "hoverinfo": "none",
         "line": {
          "color": "gray",
          "dash": "dot",
          "width": 1
         },
         "mode": "lines",
         "showlegend": false,
         "type": "scatter",
         "x": [
          1.541093349456787,
          1.3786250352859497
         ],
         "y": [
          965,
          965
         ]
        },
        {
         "hoverinfo": "none",
         "line": {
          "color": "gray",
          "dash": "dot",
          "width": 1
         },
         "mode": "lines",
         "showlegend": false,
         "type": "scatter",
         "x": [
          1.2628780603408813,
          1.0807209014892578
         ],
         "y": [
          966,
          966
         ]
        },
        {
         "hoverinfo": "none",
         "line": {
          "color": "gray",
          "dash": "dot",
          "width": 1
         },
         "mode": "lines",
         "showlegend": false,
         "type": "scatter",
         "x": [
          1.4183281660079956,
          1.2653391361236572
         ],
         "y": [
          967,
          967
         ]
        },
        {
         "hoverinfo": "none",
         "line": {
          "color": "gray",
          "dash": "dot",
          "width": 1
         },
         "mode": "lines",
         "showlegend": false,
         "type": "scatter",
         "x": [
          1.3633968830108643,
          1.1786874532699585
         ],
         "y": [
          968,
          968
         ]
        },
        {
         "hoverinfo": "none",
         "line": {
          "color": "gray",
          "dash": "dot",
          "width": 1
         },
         "mode": "lines",
         "showlegend": false,
         "type": "scatter",
         "x": [
          1.5036522150039673,
          1.3466185331344604
         ],
         "y": [
          969,
          969
         ]
        },
        {
         "hoverinfo": "none",
         "line": {
          "color": "gray",
          "dash": "dot",
          "width": 1
         },
         "mode": "lines",
         "showlegend": false,
         "type": "scatter",
         "x": [
          1.3764516115188599,
          1.1628386974334717
         ],
         "y": [
          970,
          970
         ]
        },
        {
         "hoverinfo": "none",
         "line": {
          "color": "gray",
          "dash": "dot",
          "width": 1
         },
         "mode": "lines",
         "showlegend": false,
         "type": "scatter",
         "x": [
          1.573344349861145,
          1.4063705205917358
         ],
         "y": [
          971,
          971
         ]
        },
        {
         "hoverinfo": "none",
         "line": {
          "color": "gray",
          "dash": "dot",
          "width": 1
         },
         "mode": "lines",
         "showlegend": false,
         "type": "scatter",
         "x": [
          1.4929804801940918,
          1.323704481124878
         ],
         "y": [
          972,
          972
         ]
        },
        {
         "hoverinfo": "none",
         "line": {
          "color": "gray",
          "dash": "dot",
          "width": 1
         },
         "mode": "lines",
         "showlegend": false,
         "type": "scatter",
         "x": [
          1.4080191850662231,
          1.2058296203613281
         ],
         "y": [
          973,
          973
         ]
        },
        {
         "hoverinfo": "none",
         "line": {
          "color": "gray",
          "dash": "dot",
          "width": 1
         },
         "mode": "lines",
         "showlegend": false,
         "type": "scatter",
         "x": [
          1.3785761594772339,
          1.196677327156067
         ],
         "y": [
          974,
          974
         ]
        },
        {
         "hoverinfo": "none",
         "line": {
          "color": "gray",
          "dash": "dot",
          "width": 1
         },
         "mode": "lines",
         "showlegend": false,
         "type": "scatter",
         "x": [
          1.3982563018798828,
          1.2158520221710205
         ],
         "y": [
          975,
          975
         ]
        },
        {
         "hoverinfo": "none",
         "line": {
          "color": "gray",
          "dash": "dot",
          "width": 1
         },
         "mode": "lines",
         "showlegend": false,
         "type": "scatter",
         "x": [
          1.3833600282669067,
          1.224901556968689
         ],
         "y": [
          976,
          976
         ]
        },
        {
         "hoverinfo": "none",
         "line": {
          "color": "gray",
          "dash": "dot",
          "width": 1
         },
         "mode": "lines",
         "showlegend": false,
         "type": "scatter",
         "x": [
          1.2896909713745117,
          1.1232191324234009
         ],
         "y": [
          977,
          977
         ]
        },
        {
         "hoverinfo": "none",
         "line": {
          "color": "gray",
          "dash": "dot",
          "width": 1
         },
         "mode": "lines",
         "showlegend": false,
         "type": "scatter",
         "x": [
          1.4567067623138428,
          1.257849097251892
         ],
         "y": [
          978,
          978
         ]
        },
        {
         "hoverinfo": "none",
         "line": {
          "color": "gray",
          "dash": "dot",
          "width": 1
         },
         "mode": "lines",
         "showlegend": false,
         "type": "scatter",
         "x": [
          1.2175531387329102,
          1.046550989151001
         ],
         "y": [
          979,
          979
         ]
        },
        {
         "hoverinfo": "none",
         "line": {
          "color": "gray",
          "dash": "dot",
          "width": 1
         },
         "mode": "lines",
         "showlegend": false,
         "type": "scatter",
         "x": [
          1.3968240022659302,
          1.1978108882904053
         ],
         "y": [
          980,
          980
         ]
        },
        {
         "hoverinfo": "none",
         "line": {
          "color": "gray",
          "dash": "dot",
          "width": 1
         },
         "mode": "lines",
         "showlegend": false,
         "type": "scatter",
         "x": [
          1.4773210287094116,
          1.2687150239944458
         ],
         "y": [
          981,
          981
         ]
        },
        {
         "hoverinfo": "none",
         "line": {
          "color": "gray",
          "dash": "dot",
          "width": 1
         },
         "mode": "lines",
         "showlegend": false,
         "type": "scatter",
         "x": [
          1.3676599264144897,
          1.16666841506958
         ],
         "y": [
          982,
          982
         ]
        },
        {
         "hoverinfo": "none",
         "line": {
          "color": "gray",
          "dash": "dot",
          "width": 1
         },
         "mode": "lines",
         "showlegend": false,
         "type": "scatter",
         "x": [
          1.275723934173584,
          1.07241952419281
         ],
         "y": [
          983,
          983
         ]
        },
        {
         "hoverinfo": "none",
         "line": {
          "color": "gray",
          "dash": "dot",
          "width": 1
         },
         "mode": "lines",
         "showlegend": false,
         "type": "scatter",
         "x": [
          1.3919216394424438,
          1.2127864360809326
         ],
         "y": [
          984,
          984
         ]
        },
        {
         "hoverinfo": "none",
         "line": {
          "color": "gray",
          "dash": "dot",
          "width": 1
         },
         "mode": "lines",
         "showlegend": false,
         "type": "scatter",
         "x": [
          1.2832562923431396,
          1.0752809047698975
         ],
         "y": [
          985,
          985
         ]
        },
        {
         "hoverinfo": "none",
         "line": {
          "color": "gray",
          "dash": "dot",
          "width": 1
         },
         "mode": "lines",
         "showlegend": false,
         "type": "scatter",
         "x": [
          1.4102026224136353,
          1.1984162330627441
         ],
         "y": [
          986,
          986
         ]
        },
        {
         "hoverinfo": "none",
         "line": {
          "color": "gray",
          "dash": "dot",
          "width": 1
         },
         "mode": "lines",
         "showlegend": false,
         "type": "scatter",
         "x": [
          1.3964550495147705,
          1.2320587635040283
         ],
         "y": [
          987,
          987
         ]
        },
        {
         "hoverinfo": "none",
         "line": {
          "color": "gray",
          "dash": "dot",
          "width": 1
         },
         "mode": "lines",
         "showlegend": false,
         "type": "scatter",
         "x": [
          1.3639914989471436,
          1.1709082126617432
         ],
         "y": [
          988,
          988
         ]
        },
        {
         "hoverinfo": "none",
         "line": {
          "color": "gray",
          "dash": "dot",
          "width": 1
         },
         "mode": "lines",
         "showlegend": false,
         "type": "scatter",
         "x": [
          1.3938933610916138,
          1.2178064584732056
         ],
         "y": [
          989,
          989
         ]
        },
        {
         "hoverinfo": "none",
         "line": {
          "color": "gray",
          "dash": "dot",
          "width": 1
         },
         "mode": "lines",
         "showlegend": false,
         "type": "scatter",
         "x": [
          1.3192858695983887,
          1.1369497776031494
         ],
         "y": [
          990,
          990
         ]
        },
        {
         "hoverinfo": "none",
         "line": {
          "color": "gray",
          "dash": "dot",
          "width": 1
         },
         "mode": "lines",
         "showlegend": false,
         "type": "scatter",
         "x": [
          1.2032065391540527,
          1.0315005779266357
         ],
         "y": [
          991,
          991
         ]
        },
        {
         "hoverinfo": "none",
         "line": {
          "color": "gray",
          "dash": "dot",
          "width": 1
         },
         "mode": "lines",
         "showlegend": false,
         "type": "scatter",
         "x": [
          1.3386390209197998,
          1.1630878448486328
         ],
         "y": [
          992,
          992
         ]
        },
        {
         "hoverinfo": "none",
         "line": {
          "color": "gray",
          "dash": "dot",
          "width": 1
         },
         "mode": "lines",
         "showlegend": false,
         "type": "scatter",
         "x": [
          1.4242327213287354,
          1.2431843280792236
         ],
         "y": [
          993,
          993
         ]
        },
        {
         "hoverinfo": "none",
         "line": {
          "color": "gray",
          "dash": "dot",
          "width": 1
         },
         "mode": "lines",
         "showlegend": false,
         "type": "scatter",
         "x": [
          1.3883626461029053,
          1.1781935691833496
         ],
         "y": [
          994,
          994
         ]
        },
        {
         "hoverinfo": "none",
         "line": {
          "color": "gray",
          "dash": "dot",
          "width": 1
         },
         "mode": "lines",
         "showlegend": false,
         "type": "scatter",
         "x": [
          1.4745904207229614,
          1.269248604774475
         ],
         "y": [
          995,
          995
         ]
        },
        {
         "hoverinfo": "none",
         "line": {
          "color": "gray",
          "dash": "dot",
          "width": 1
         },
         "mode": "lines",
         "showlegend": false,
         "type": "scatter",
         "x": [
          1.4680507183074951,
          1.3111759424209595
         ],
         "y": [
          996,
          996
         ]
        },
        {
         "hoverinfo": "none",
         "line": {
          "color": "gray",
          "dash": "dot",
          "width": 1
         },
         "mode": "lines",
         "showlegend": false,
         "type": "scatter",
         "x": [
          1.250650405883789,
          1.0469655990600586
         ],
         "y": [
          997,
          997
         ]
        },
        {
         "hoverinfo": "none",
         "line": {
          "color": "gray",
          "dash": "dot",
          "width": 1
         },
         "mode": "lines",
         "showlegend": false,
         "type": "scatter",
         "x": [
          1.2639687061309814,
          1.0735645294189453
         ],
         "y": [
          998,
          998
         ]
        },
        {
         "hoverinfo": "none",
         "line": {
          "color": "gray",
          "dash": "dot",
          "width": 1
         },
         "mode": "lines",
         "showlegend": false,
         "type": "scatter",
         "x": [
          1.2231067419052124,
          1.0300034284591675
         ],
         "y": [
          999,
          999
         ]
        }
       ],
       "layout": {
        "height": 700,
        "legend": {
         "title": {
          "text": "Cluster, Type"
         },
         "tracegroupgap": 0
        },
        "margin": {
         "t": 60
        },
        "template": {
         "data": {
          "bar": [
           {
            "error_x": {
             "color": "#2a3f5f"
            },
            "error_y": {
             "color": "#2a3f5f"
            },
            "marker": {
             "line": {
              "color": "#E5ECF6",
              "width": 0.5
             },
             "pattern": {
              "fillmode": "overlay",
              "size": 10,
              "solidity": 0.2
             }
            },
            "type": "bar"
           }
          ],
          "barpolar": [
           {
            "marker": {
             "line": {
              "color": "#E5ECF6",
              "width": 0.5
             },
             "pattern": {
              "fillmode": "overlay",
              "size": 10,
              "solidity": 0.2
             }
            },
            "type": "barpolar"
           }
          ],
          "carpet": [
           {
            "aaxis": {
             "endlinecolor": "#2a3f5f",
             "gridcolor": "white",
             "linecolor": "white",
             "minorgridcolor": "white",
             "startlinecolor": "#2a3f5f"
            },
            "baxis": {
             "endlinecolor": "#2a3f5f",
             "gridcolor": "white",
             "linecolor": "white",
             "minorgridcolor": "white",
             "startlinecolor": "#2a3f5f"
            },
            "type": "carpet"
           }
          ],
          "choropleth": [
           {
            "colorbar": {
             "outlinewidth": 0,
             "ticks": ""
            },
            "type": "choropleth"
           }
          ],
          "contour": [
           {
            "colorbar": {
             "outlinewidth": 0,
             "ticks": ""
            },
            "colorscale": [
             [
              0,
              "#0d0887"
             ],
             [
              0.1111111111111111,
              "#46039f"
             ],
             [
              0.2222222222222222,
              "#7201a8"
             ],
             [
              0.3333333333333333,
              "#9c179e"
             ],
             [
              0.4444444444444444,
              "#bd3786"
             ],
             [
              0.5555555555555556,
              "#d8576b"
             ],
             [
              0.6666666666666666,
              "#ed7953"
             ],
             [
              0.7777777777777778,
              "#fb9f3a"
             ],
             [
              0.8888888888888888,
              "#fdca26"
             ],
             [
              1,
              "#f0f921"
             ]
            ],
            "type": "contour"
           }
          ],
          "contourcarpet": [
           {
            "colorbar": {
             "outlinewidth": 0,
             "ticks": ""
            },
            "type": "contourcarpet"
           }
          ],
          "heatmap": [
           {
            "colorbar": {
             "outlinewidth": 0,
             "ticks": ""
            },
            "colorscale": [
             [
              0,
              "#0d0887"
             ],
             [
              0.1111111111111111,
              "#46039f"
             ],
             [
              0.2222222222222222,
              "#7201a8"
             ],
             [
              0.3333333333333333,
              "#9c179e"
             ],
             [
              0.4444444444444444,
              "#bd3786"
             ],
             [
              0.5555555555555556,
              "#d8576b"
             ],
             [
              0.6666666666666666,
              "#ed7953"
             ],
             [
              0.7777777777777778,
              "#fb9f3a"
             ],
             [
              0.8888888888888888,
              "#fdca26"
             ],
             [
              1,
              "#f0f921"
             ]
            ],
            "type": "heatmap"
           }
          ],
          "heatmapgl": [
           {
            "colorbar": {
             "outlinewidth": 0,
             "ticks": ""
            },
            "colorscale": [
             [
              0,
              "#0d0887"
             ],
             [
              0.1111111111111111,
              "#46039f"
             ],
             [
              0.2222222222222222,
              "#7201a8"
             ],
             [
              0.3333333333333333,
              "#9c179e"
             ],
             [
              0.4444444444444444,
              "#bd3786"
             ],
             [
              0.5555555555555556,
              "#d8576b"
             ],
             [
              0.6666666666666666,
              "#ed7953"
             ],
             [
              0.7777777777777778,
              "#fb9f3a"
             ],
             [
              0.8888888888888888,
              "#fdca26"
             ],
             [
              1,
              "#f0f921"
             ]
            ],
            "type": "heatmapgl"
           }
          ],
          "histogram": [
           {
            "marker": {
             "pattern": {
              "fillmode": "overlay",
              "size": 10,
              "solidity": 0.2
             }
            },
            "type": "histogram"
           }
          ],
          "histogram2d": [
           {
            "colorbar": {
             "outlinewidth": 0,
             "ticks": ""
            },
            "colorscale": [
             [
              0,
              "#0d0887"
             ],
             [
              0.1111111111111111,
              "#46039f"
             ],
             [
              0.2222222222222222,
              "#7201a8"
             ],
             [
              0.3333333333333333,
              "#9c179e"
             ],
             [
              0.4444444444444444,
              "#bd3786"
             ],
             [
              0.5555555555555556,
              "#d8576b"
             ],
             [
              0.6666666666666666,
              "#ed7953"
             ],
             [
              0.7777777777777778,
              "#fb9f3a"
             ],
             [
              0.8888888888888888,
              "#fdca26"
             ],
             [
              1,
              "#f0f921"
             ]
            ],
            "type": "histogram2d"
           }
          ],
          "histogram2dcontour": [
           {
            "colorbar": {
             "outlinewidth": 0,
             "ticks": ""
            },
            "colorscale": [
             [
              0,
              "#0d0887"
             ],
             [
              0.1111111111111111,
              "#46039f"
             ],
             [
              0.2222222222222222,
              "#7201a8"
             ],
             [
              0.3333333333333333,
              "#9c179e"
             ],
             [
              0.4444444444444444,
              "#bd3786"
             ],
             [
              0.5555555555555556,
              "#d8576b"
             ],
             [
              0.6666666666666666,
              "#ed7953"
             ],
             [
              0.7777777777777778,
              "#fb9f3a"
             ],
             [
              0.8888888888888888,
              "#fdca26"
             ],
             [
              1,
              "#f0f921"
             ]
            ],
            "type": "histogram2dcontour"
           }
          ],
          "mesh3d": [
           {
            "colorbar": {
             "outlinewidth": 0,
             "ticks": ""
            },
            "type": "mesh3d"
           }
          ],
          "parcoords": [
           {
            "line": {
             "colorbar": {
              "outlinewidth": 0,
              "ticks": ""
             }
            },
            "type": "parcoords"
           }
          ],
          "pie": [
           {
            "automargin": true,
            "type": "pie"
           }
          ],
          "scatter": [
           {
            "fillpattern": {
             "fillmode": "overlay",
             "size": 10,
             "solidity": 0.2
            },
            "type": "scatter"
           }
          ],
          "scatter3d": [
           {
            "line": {
             "colorbar": {
              "outlinewidth": 0,
              "ticks": ""
             }
            },
            "marker": {
             "colorbar": {
              "outlinewidth": 0,
              "ticks": ""
             }
            },
            "type": "scatter3d"
           }
          ],
          "scattercarpet": [
           {
            "marker": {
             "colorbar": {
              "outlinewidth": 0,
              "ticks": ""
             }
            },
            "type": "scattercarpet"
           }
          ],
          "scattergeo": [
           {
            "marker": {
             "colorbar": {
              "outlinewidth": 0,
              "ticks": ""
             }
            },
            "type": "scattergeo"
           }
          ],
          "scattergl": [
           {
            "marker": {
             "colorbar": {
              "outlinewidth": 0,
              "ticks": ""
             }
            },
            "type": "scattergl"
           }
          ],
          "scattermapbox": [
           {
            "marker": {
             "colorbar": {
              "outlinewidth": 0,
              "ticks": ""
             }
            },
            "type": "scattermapbox"
           }
          ],
          "scatterpolar": [
           {
            "marker": {
             "colorbar": {
              "outlinewidth": 0,
              "ticks": ""
             }
            },
            "type": "scatterpolar"
           }
          ],
          "scatterpolargl": [
           {
            "marker": {
             "colorbar": {
              "outlinewidth": 0,
              "ticks": ""
             }
            },
            "type": "scatterpolargl"
           }
          ],
          "scatterternary": [
           {
            "marker": {
             "colorbar": {
              "outlinewidth": 0,
              "ticks": ""
             }
            },
            "type": "scatterternary"
           }
          ],
          "surface": [
           {
            "colorbar": {
             "outlinewidth": 0,
             "ticks": ""
            },
            "colorscale": [
             [
              0,
              "#0d0887"
             ],
             [
              0.1111111111111111,
              "#46039f"
             ],
             [
              0.2222222222222222,
              "#7201a8"
             ],
             [
              0.3333333333333333,
              "#9c179e"
             ],
             [
              0.4444444444444444,
              "#bd3786"
             ],
             [
              0.5555555555555556,
              "#d8576b"
             ],
             [
              0.6666666666666666,
              "#ed7953"
             ],
             [
              0.7777777777777778,
              "#fb9f3a"
             ],
             [
              0.8888888888888888,
              "#fdca26"
             ],
             [
              1,
              "#f0f921"
             ]
            ],
            "type": "surface"
           }
          ],
          "table": [
           {
            "cells": {
             "fill": {
              "color": "#EBF0F8"
             },
             "line": {
              "color": "white"
             }
            },
            "header": {
             "fill": {
              "color": "#C8D4E3"
             },
             "line": {
              "color": "white"
             }
            },
            "type": "table"
           }
          ]
         },
         "layout": {
          "annotationdefaults": {
           "arrowcolor": "#2a3f5f",
           "arrowhead": 0,
           "arrowwidth": 1
          },
          "autotypenumbers": "strict",
          "coloraxis": {
           "colorbar": {
            "outlinewidth": 0,
            "ticks": ""
           }
          },
          "colorscale": {
           "diverging": [
            [
             0,
             "#8e0152"
            ],
            [
             0.1,
             "#c51b7d"
            ],
            [
             0.2,
             "#de77ae"
            ],
            [
             0.3,
             "#f1b6da"
            ],
            [
             0.4,
             "#fde0ef"
            ],
            [
             0.5,
             "#f7f7f7"
            ],
            [
             0.6,
             "#e6f5d0"
            ],
            [
             0.7,
             "#b8e186"
            ],
            [
             0.8,
             "#7fbc41"
            ],
            [
             0.9,
             "#4d9221"
            ],
            [
             1,
             "#276419"
            ]
           ],
           "sequential": [
            [
             0,
             "#0d0887"
            ],
            [
             0.1111111111111111,
             "#46039f"
            ],
            [
             0.2222222222222222,
             "#7201a8"
            ],
            [
             0.3333333333333333,
             "#9c179e"
            ],
            [
             0.4444444444444444,
             "#bd3786"
            ],
            [
             0.5555555555555556,
             "#d8576b"
            ],
            [
             0.6666666666666666,
             "#ed7953"
            ],
            [
             0.7777777777777778,
             "#fb9f3a"
            ],
            [
             0.8888888888888888,
             "#fdca26"
            ],
            [
             1,
             "#f0f921"
            ]
           ],
           "sequentialminus": [
            [
             0,
             "#0d0887"
            ],
            [
             0.1111111111111111,
             "#46039f"
            ],
            [
             0.2222222222222222,
             "#7201a8"
            ],
            [
             0.3333333333333333,
             "#9c179e"
            ],
            [
             0.4444444444444444,
             "#bd3786"
            ],
            [
             0.5555555555555556,
             "#d8576b"
            ],
            [
             0.6666666666666666,
             "#ed7953"
            ],
            [
             0.7777777777777778,
             "#fb9f3a"
            ],
            [
             0.8888888888888888,
             "#fdca26"
            ],
            [
             1,
             "#f0f921"
            ]
           ]
          },
          "colorway": [
           "#636efa",
           "#EF553B",
           "#00cc96",
           "#ab63fa",
           "#FFA15A",
           "#19d3f3",
           "#FF6692",
           "#B6E880",
           "#FF97FF",
           "#FECB52"
          ],
          "font": {
           "color": "#2a3f5f"
          },
          "geo": {
           "bgcolor": "white",
           "lakecolor": "white",
           "landcolor": "#E5ECF6",
           "showlakes": true,
           "showland": true,
           "subunitcolor": "white"
          },
          "hoverlabel": {
           "align": "left"
          },
          "hovermode": "closest",
          "mapbox": {
           "style": "light"
          },
          "paper_bgcolor": "white",
          "plot_bgcolor": "#E5ECF6",
          "polar": {
           "angularaxis": {
            "gridcolor": "white",
            "linecolor": "white",
            "ticks": ""
           },
           "bgcolor": "#E5ECF6",
           "radialaxis": {
            "gridcolor": "white",
            "linecolor": "white",
            "ticks": ""
           }
          },
          "scene": {
           "xaxis": {
            "backgroundcolor": "#E5ECF6",
            "gridcolor": "white",
            "gridwidth": 2,
            "linecolor": "white",
            "showbackground": true,
            "ticks": "",
            "zerolinecolor": "white"
           },
           "yaxis": {
            "backgroundcolor": "#E5ECF6",
            "gridcolor": "white",
            "gridwidth": 2,
            "linecolor": "white",
            "showbackground": true,
            "ticks": "",
            "zerolinecolor": "white"
           },
           "zaxis": {
            "backgroundcolor": "#E5ECF6",
            "gridcolor": "white",
            "gridwidth": 2,
            "linecolor": "white",
            "showbackground": true,
            "ticks": "",
            "zerolinecolor": "white"
           }
          },
          "shapedefaults": {
           "line": {
            "color": "#2a3f5f"
           }
          },
          "ternary": {
           "aaxis": {
            "gridcolor": "white",
            "linecolor": "white",
            "ticks": ""
           },
           "baxis": {
            "gridcolor": "white",
            "linecolor": "white",
            "ticks": ""
           },
           "bgcolor": "#E5ECF6",
           "caxis": {
            "gridcolor": "white",
            "linecolor": "white",
            "ticks": ""
           }
          },
          "title": {
           "x": 0.05
          },
          "xaxis": {
           "automargin": true,
           "gridcolor": "white",
           "linecolor": "white",
           "ticks": "",
           "title": {
            "standoff": 15
           },
           "zerolinecolor": "white",
           "zerolinewidth": 2
          },
          "yaxis": {
           "automargin": true,
           "gridcolor": "white",
           "linecolor": "white",
           "ticks": "",
           "title": {
            "standoff": 15
           },
           "zerolinecolor": "white",
           "zerolinewidth": 2
          }
         }
        },
        "title": {
         "text": "Distance Projection to War (L2 Distance)"
        },
        "width": 900,
        "xaxis": {
         "anchor": "y",
         "domain": [
          0,
          1
         ],
         "title": {
          "text": "Distance to War using L2"
         }
        },
        "yaxis": {
         "anchor": "x",
         "domain": [
          0,
          1
         ],
         "range": [
          895,
          1004
         ],
         "showticklabels": true,
         "title": {
          "text": "Movie Index"
         }
        }
       }
      }
     },
     "metadata": {},
     "output_type": "display_data"
    },
    {
     "name": "stdout",
     "output_type": "stream",
     "text": [
      "\n",
      "\n",
      "MOST CHANGED (based on difference)\n",
      "--------------------------------------------------\n",
      "Index: 935 | Title: Jeux d'enfants | Genre: Drama\n",
      "Original distance: 1.3755\n",
      "Steered distance:  1.1315\n",
      "CHANGE:            0.2440\n",
      "\n",
      "Index: 912 | Title: Zombieland | Genre: Adventure\n",
      "Original distance: 1.3765\n",
      "Steered distance:  1.1328\n",
      "CHANGE:            0.2437\n",
      "\n",
      "Index: 923 | Title: La Vie En Rose | Genre: Biography\n",
      "Original distance: 1.5161\n",
      "Steered distance:  1.2768\n",
      "CHANGE:            0.2394\n",
      "\n",
      "LEAST CHANGED (based on distance difference)\n",
      "--------------------------------------------------\n",
      "Index: 967 | Title: Trois couleurs: Blanc | Genre: Romance\n",
      "Original distance: 1.4183\n",
      "Steered distance:  1.2653\n",
      "CHANGE:            0.1530\n",
      "\n",
      "Index: 948 | Title: The Others | Genre: Horror\n",
      "Original distance: 1.5507\n",
      "Steered distance:  1.3973\n",
      "CHANGE:            0.1534\n",
      "\n",
      "Index: 996 | Title: Giant | Genre: Western\n",
      "Original distance: 1.4681\n",
      "Steered distance:  1.3112\n",
      "CHANGE:            0.1569\n",
      "\n"
     ]
    }
   ],
   "source": [
    "layer_to_steer = 11\n",
    "steering_coefficient = 1\n",
    "feature = \"War\"\n",
    "normalize = True\n",
    "\n",
    "feature_texts, opposite_feature_texts = import_feature_texts(f\"Features/{feature}\")\n",
    "steering_vector = get_steering_vector(model_name, feature_texts, layer_to_steer, opposite_texts=opposite_feature_texts, normalize=True)\n",
    "\n",
    "plot_distance_projection(model, encoded_input, original_embeddings, all_texts_data, layer_to_steer, steering_coefficient, \n",
    "                             steering_vector, feature, text_range=(900,1000), type=\"l2\", normalize=normalize, print_differences=True)"
   ]
  },
  {
   "cell_type": "code",
   "execution_count": 4,
   "metadata": {},
   "outputs": [
    {
     "name": "stdout",
     "output_type": "stream",
     "text": [
      "Index: 996\n",
      "Title: Giant\n",
      "Overview: Sprawling epic covering the life of a Texas cattle rancher and his family and associates.\n"
     ]
    }
   ],
   "source": [
    "print_movie_info(996, all_texts_data)"
   ]
  },
  {
   "cell_type": "markdown",
   "metadata": {},
   "source": [
    "## 2D - Two vectors"
   ]
  },
  {
   "cell_type": "code",
   "execution_count": 5,
   "metadata": {},
   "outputs": [
    {
     "name": "stdout",
     "output_type": "stream",
     "text": [
      "Importing 1.36 GB data from file Test_export_embeddings.pkl...\n",
      "Data imported from Test_export_embeddings.pkl\n",
      "Model loaded successfully.\n",
      "Embeddings loaded successfully.\n",
      "Encoded input loaded successfully.\n",
      "All texts data loaded successfully.\n"
     ]
    }
   ],
   "source": [
    "model_name = \"sentence-transformers/all-MiniLM-L12-v2\"\n",
    "\n",
    "data = import_embedding_data_from_pkl('Test_export_embeddings.pkl', model=True, embeddings=True, encoded_input=True, all_texts_data=True)\n",
    "model, original_embeddings, encoded_input, all_texts_data = data"
   ]
  },
  {
   "cell_type": "code",
   "execution_count": 6,
   "metadata": {},
   "outputs": [
    {
     "name": "stdout",
     "output_type": "stream",
     "text": [
      "Opposite file not found: Features/Love/opposite.txt\n"
     ]
    },
    {
     "data": {
      "application/vnd.plotly.v1+json": {
       "config": {
        "plotlyServerURL": "https://plot.ly"
       },
       "data": [
        {
         "customdata": [
          [
           "Original | Serbuan maut | Thriller",
           "Thriller"
          ],
          [
           "Original | Die Welle | Thriller",
           "Thriller"
          ],
          [
           "Original | Saw | Thriller",
           "Thriller"
          ],
          [
           "Original | 21 Grams | Thriller",
           "Thriller"
          ],
          [
           "Original | The Butterfly Effect | Thriller",
           "Thriller"
          ],
          [
           "Original | Dark City | Thriller",
           "Thriller"
          ],
          [
           "Original | Lost Highway | Thriller",
           "Thriller"
          ],
          [
           "Original | Die Hard: With a Vengeance | Thriller",
           "Thriller"
          ],
          [
           "Original | Blowup | Thriller",
           "Thriller"
          ]
         ],
         "hovertemplate": "Cluster=%{customdata[1]}<br>Type=Original<br>Distance to \"War\"=%{x}<br>Distance to \"Love\"=%{y}<br>Title=%{customdata[0]}<extra></extra>",
         "legendgroup": "Thriller, Original",
         "marker": {
          "color": "#636efa",
          "symbol": "circle"
         },
         "mode": "markers",
         "name": "Thriller, Original",
         "opacity": 0.3,
         "orientation": "v",
         "showlegend": false,
         "type": "scatter",
         "x": [
          0.3076419234275818,
          0.009160595946013927,
          0.2028813511133194,
          -0.02805645577609539,
          -0.07600858807563782,
          -0.09678971767425537,
          0.08181251585483551,
          0.058887265622615814,
          -0.014219440519809723
         ],
         "xaxis": "x",
         "y": [
          0.1250356286764145,
          0.1738920509815216,
          0.2262827754020691,
          0.26338714361190796,
          0.2181776762008667,
          0.34195640683174133,
          0.1549353152513504,
          0.06411657482385635,
          0.11317941546440125
         ],
         "yaxis": "y"
        },
        {
         "customdata": [
          [
           "Steered | Serbuan maut | Thriller",
           "Thriller"
          ],
          [
           "Steered | Die Welle | Thriller",
           "Thriller"
          ],
          [
           "Steered | Saw | Thriller",
           "Thriller"
          ],
          [
           "Steered | 21 Grams | Thriller",
           "Thriller"
          ],
          [
           "Steered | The Butterfly Effect | Thriller",
           "Thriller"
          ],
          [
           "Steered | Dark City | Thriller",
           "Thriller"
          ],
          [
           "Steered | Lost Highway | Thriller",
           "Thriller"
          ],
          [
           "Steered | Die Hard: With a Vengeance | Thriller",
           "Thriller"
          ],
          [
           "Steered | Blowup | Thriller",
           "Thriller"
          ]
         ],
         "hovertemplate": "Cluster=%{customdata[1]}<br>Type=Steered<br>Distance to \"War\"=%{x}<br>Distance to \"Love\"=%{y}<br>Title=%{customdata[0]}<extra></extra>",
         "legendgroup": "Thriller, Steered",
         "marker": {
          "color": "#636efa",
          "symbol": "diamond"
         },
         "mode": "markers",
         "name": "Thriller, Steered",
         "opacity": 1,
         "orientation": "v",
         "showlegend": true,
         "type": "scatter",
         "x": [
          0.5172939896583557,
          0.2835015654563904,
          0.4492449164390564,
          0.24008671939373016,
          0.217055544257164,
          0.16693955659866333,
          0.3282172679901123,
          0.3189998269081116,
          0.22724649310112
         ],
         "xaxis": "x",
         "y": [
          0.10051943361759186,
          0.15312978625297546,
          0.19334682822227478,
          0.24251583218574524,
          0.1991279125213623,
          0.3257039189338684,
          0.13440284132957458,
          0.047814588993787766,
          0.09826339781284332
         ],
         "yaxis": "y"
        },
        {
         "customdata": [
          [
           "Original | End of Watch | Crime",
           "Crime"
          ],
          [
           "Original | Despicable Me | Crime",
           "Crime"
          ],
          [
           "Original | Celda 211 | Crime",
           "Crime"
          ],
          [
           "Original | Eastern Promises | Crime",
           "Crime"
          ],
          [
           "Original | Inside Man | Crime",
           "Crime"
          ],
          [
           "Original | Gone Baby Gone | Crime",
           "Crime"
          ],
          [
           "Original | Dead Man's Shoes | Crime",
           "Crime"
          ],
          [
           "Original | Boksuneun naui geot | Crime",
           "Crime"
          ],
          [
           "Original | Minority Report | Crime",
           "Crime"
          ],
          [
           "Original | American Psycho | Crime",
           "Crime"
          ],
          [
           "Original | Sleepers | Crime",
           "Crime"
          ],
          [
           "Original | Falling Down | Crime",
           "Crime"
          ],
          [
           "Original | My Cousin Vinny | Crime",
           "Crime"
          ],
          [
           "Original | The Godfather: Part III | Crime",
           "Crime"
          ],
          [
           "Original | The Naked Gun: From the Files of Police Squad! | Crime",
           "Crime"
          ],
          [
           "Original | Lethal Weapon | Crime",
           "Crime"
          ],
          [
           "Original | Blood Simple | Crime",
           "Crime"
          ],
          [
           "Original | The Warriors | Crime",
           "Crime"
          ],
          [
           "Original | Escape from Alcatraz | Crime",
           "Crime"
          ],
          [
           "Original | Midnight Express | Crime",
           "Crime"
          ],
          [
           "Original | The Long Goodbye | Crime",
           "Crime"
          ],
          [
           "Original | The 39 Steps | Crime",
           "Crime"
          ]
         ],
         "hovertemplate": "Cluster=%{customdata[1]}<br>Type=Original<br>Distance to \"War\"=%{x}<br>Distance to \"Love\"=%{y}<br>Title=%{customdata[0]}<extra></extra>",
         "legendgroup": "Crime, Original",
         "marker": {
          "color": "#EF553B",
          "symbol": "circle"
         },
         "mode": "markers",
         "name": "Crime, Original",
         "opacity": 0.3,
         "orientation": "v",
         "showlegend": false,
         "type": "scatter",
         "x": [
          0.14538604021072388,
          0.030033987015485764,
          0.16549721360206604,
          -0.0033355699852108955,
          0.23478734493255615,
          0.04724027216434479,
          0.21771779656410217,
          0.079713374376297,
          0.27693870663642883,
          0.0324958860874176,
          0.14606480300426483,
          0.07057444006204605,
          0.052690550684928894,
          0.04976397752761841,
          0.16834862530231476,
          0.25878220796585083,
          0.02444133535027504,
          0.18626415729522705,
          0.17662663757801056,
          0.024956632405519485,
          0.028530500829219818,
          0.25200507044792175
         ],
         "xaxis": "x",
         "y": [
          0.21243105828762054,
          0.32658523321151733,
          0.19650644063949585,
          0.153741717338562,
          0.20044337213039398,
          0.23362016677856445,
          0.16274064779281616,
          0.1011752113699913,
          0.14509673416614532,
          0.17935051023960114,
          0.16694927215576172,
          0.11866461485624313,
          0.08845146000385284,
          0.21252715587615967,
          0.1110561341047287,
          0.21180899441242218,
          0.2735172212123871,
          0.20019316673278809,
          0.12192105501890182,
          0.057988692075014114,
          0.23818987607955933,
          0.20283380150794983
         ],
         "yaxis": "y"
        },
        {
         "customdata": [
          [
           "Steered | End of Watch | Crime",
           "Crime"
          ],
          [
           "Steered | Despicable Me | Crime",
           "Crime"
          ],
          [
           "Steered | Celda 211 | Crime",
           "Crime"
          ],
          [
           "Steered | Eastern Promises | Crime",
           "Crime"
          ],
          [
           "Steered | Inside Man | Crime",
           "Crime"
          ],
          [
           "Steered | Gone Baby Gone | Crime",
           "Crime"
          ],
          [
           "Steered | Dead Man's Shoes | Crime",
           "Crime"
          ],
          [
           "Steered | Boksuneun naui geot | Crime",
           "Crime"
          ],
          [
           "Steered | Minority Report | Crime",
           "Crime"
          ],
          [
           "Steered | American Psycho | Crime",
           "Crime"
          ],
          [
           "Steered | Sleepers | Crime",
           "Crime"
          ],
          [
           "Steered | Falling Down | Crime",
           "Crime"
          ],
          [
           "Steered | My Cousin Vinny | Crime",
           "Crime"
          ],
          [
           "Steered | The Godfather: Part III | Crime",
           "Crime"
          ],
          [
           "Steered | The Naked Gun: From the Files of Police Squad! | Crime",
           "Crime"
          ],
          [
           "Steered | Lethal Weapon | Crime",
           "Crime"
          ],
          [
           "Steered | Blood Simple | Crime",
           "Crime"
          ],
          [
           "Steered | The Warriors | Crime",
           "Crime"
          ],
          [
           "Steered | Escape from Alcatraz | Crime",
           "Crime"
          ],
          [
           "Steered | Midnight Express | Crime",
           "Crime"
          ],
          [
           "Steered | The Long Goodbye | Crime",
           "Crime"
          ],
          [
           "Steered | The 39 Steps | Crime",
           "Crime"
          ]
         ],
         "hovertemplate": "Cluster=%{customdata[1]}<br>Type=Steered<br>Distance to \"War\"=%{x}<br>Distance to \"Love\"=%{y}<br>Title=%{customdata[0]}<extra></extra>",
         "legendgroup": "Crime, Steered",
         "marker": {
          "color": "#EF553B",
          "symbol": "diamond"
         },
         "mode": "markers",
         "name": "Crime, Steered",
         "opacity": 1,
         "orientation": "v",
         "showlegend": true,
         "type": "scatter",
         "x": [
          0.3825407326221466,
          0.3038194179534912,
          0.4122481346130371,
          0.23839858174324036,
          0.4725745916366577,
          0.2844808101654053,
          0.4461934566497803,
          0.3363479673862457,
          0.4867708086967468,
          0.31762880086898804,
          0.3997926115989685,
          0.3053480088710785,
          0.32390302419662476,
          0.28398168087005615,
          0.36918938159942627,
          0.45236557722091675,
          0.28262460231781006,
          0.4249582886695862,
          0.42188552021980286,
          0.24101552367210388,
          0.25847381353378296,
          0.46954643726348877
         ],
         "xaxis": "x",
         "y": [
          0.18613331019878387,
          0.2976294755935669,
          0.1686621606349945,
          0.1373167634010315,
          0.16883887350559235,
          0.21234861016273499,
          0.13698478043079376,
          0.08262871950864792,
          0.12024141848087311,
          0.15591824054718018,
          0.14156004786491394,
          0.10146848857402802,
          0.07020106911659241,
          0.19230663776397705,
          0.09425884485244751,
          0.18496647477149963,
          0.2495812177658081,
          0.17187118530273438,
          0.09944116324186325,
          0.045537181198596954,
          0.21872936189174652,
          0.17316275835037231
         ],
         "yaxis": "y"
        },
        {
         "customdata": [
          [
           "Original | Kari-gurashi no Arietti | Family",
           "Family"
          ],
          [
           "Original | Finding Neverland | Family",
           "Family"
          ],
          [
           "Original | Mulan | Family",
           "Family"
          ],
          [
           "Original | Home Alone | Family",
           "Family"
          ]
         ],
         "hovertemplate": "Cluster=%{customdata[1]}<br>Type=Original<br>Distance to \"War\"=%{x}<br>Distance to \"Love\"=%{y}<br>Title=%{customdata[0]}<extra></extra>",
         "legendgroup": "Family, Original",
         "marker": {
          "color": "#00cc96",
          "symbol": "circle"
         },
         "mode": "markers",
         "name": "Family, Original",
         "opacity": 0.3,
         "orientation": "v",
         "showlegend": false,
         "type": "scatter",
         "x": [
          -0.17315787076950073,
          -0.19489192962646484,
          0.13429388403892517,
          0.008741017431020737
         ],
         "xaxis": "x",
         "y": [
          0.178591787815094,
          0.19017617404460907,
          0.2918398380279541,
          0.12542088329792023
         ],
         "yaxis": "y"
        },
        {
         "customdata": [
          [
           "Steered | Kari-gurashi no Arietti | Family",
           "Family"
          ],
          [
           "Steered | Finding Neverland | Family",
           "Family"
          ],
          [
           "Steered | Mulan | Family",
           "Family"
          ],
          [
           "Steered | Home Alone | Family",
           "Family"
          ]
         ],
         "hovertemplate": "Cluster=%{customdata[1]}<br>Type=Steered<br>Distance to \"War\"=%{x}<br>Distance to \"Love\"=%{y}<br>Title=%{customdata[0]}<extra></extra>",
         "legendgroup": "Family, Steered",
         "marker": {
          "color": "#00cc96",
          "symbol": "diamond"
         },
         "mode": "markers",
         "name": "Family, Steered",
         "opacity": 1,
         "orientation": "v",
         "showlegend": true,
         "type": "scatter",
         "x": [
          0.13959598541259766,
          0.03572216257452965,
          0.37180453538894653,
          0.27298757433891296
         ],
         "xaxis": "x",
         "y": [
          0.1639864444732666,
          0.1821417361497879,
          0.26118525862693787,
          0.10753010213375092
         ],
         "yaxis": "y"
        },
        {
         "customdata": [
          [
           "Original | A Star Is Born | Music",
           "Music"
          ],
          [
           "Original | A Hard Day's Night | Music",
           "Music"
          ]
         ],
         "hovertemplate": "Cluster=%{customdata[1]}<br>Type=Original<br>Distance to \"War\"=%{x}<br>Distance to \"Love\"=%{y}<br>Title=%{customdata[0]}<extra></extra>",
         "legendgroup": "Music, Original",
         "marker": {
          "color": "#ab63fa",
          "symbol": "circle"
         },
         "mode": "markers",
         "name": "Music, Original",
         "opacity": 0.3,
         "orientation": "v",
         "showlegend": false,
         "type": "scatter",
         "x": [
          -0.1271551102399826,
          0.0362246111035347
         ],
         "xaxis": "x",
         "y": [
          0.25044167041778564,
          0.19911828637123108
         ],
         "yaxis": "y"
        },
        {
         "customdata": [
          [
           "Steered | A Star Is Born | Music",
           "Music"
          ],
          [
           "Steered | A Hard Day's Night | Music",
           "Music"
          ]
         ],
         "hovertemplate": "Cluster=%{customdata[1]}<br>Type=Steered<br>Distance to \"War\"=%{x}<br>Distance to \"Love\"=%{y}<br>Title=%{customdata[0]}<extra></extra>",
         "legendgroup": "Music, Steered",
         "marker": {
          "color": "#ab63fa",
          "symbol": "diamond"
         },
         "mode": "markers",
         "name": "Music, Steered",
         "opacity": 1,
         "orientation": "v",
         "showlegend": true,
         "type": "scatter",
         "x": [
          0.11310656368732452,
          0.30593007802963257
         ],
         "xaxis": "x",
         "y": [
          0.23893538117408752,
          0.1762246936559677
         ],
         "yaxis": "y"
        },
        {
         "customdata": [
          [
           "Original | True Grit | Western",
           "Western"
          ],
          [
           "Original | Giant | Western",
           "Western"
          ]
         ],
         "hovertemplate": "Cluster=%{customdata[1]}<br>Type=Original<br>Distance to \"War\"=%{x}<br>Distance to \"Love\"=%{y}<br>Title=%{customdata[0]}<extra></extra>",
         "legendgroup": "Western, Original",
         "marker": {
          "color": "#FFA15A",
          "symbol": "circle"
         },
         "mode": "markers",
         "name": "Western, Original",
         "opacity": 0.3,
         "orientation": "v",
         "showlegend": false,
         "type": "scatter",
         "x": [
          0.19516801834106445,
          -0.07758637517690659
         ],
         "xaxis": "x",
         "y": [
          0.10887446254491806,
          0.1749647706747055
         ],
         "yaxis": "y"
        },
        {
         "customdata": [
          [
           "Steered | True Grit | Western",
           "Western"
          ],
          [
           "Steered | Giant | Western",
           "Western"
          ]
         ],
         "hovertemplate": "Cluster=%{customdata[1]}<br>Type=Steered<br>Distance to \"War\"=%{x}<br>Distance to \"Love\"=%{y}<br>Title=%{customdata[0]}<extra></extra>",
         "legendgroup": "Western, Steered",
         "marker": {
          "color": "#FFA15A",
          "symbol": "diamond"
         },
         "mode": "markers",
         "name": "Western, Steered",
         "opacity": 1,
         "orientation": "v",
         "showlegend": true,
         "type": "scatter",
         "x": [
          0.40170520544052124,
          0.14040884375572205
         ],
         "xaxis": "x",
         "y": [
          0.09076591581106186,
          0.16296231746673584
         ],
         "yaxis": "y"
        },
        {
         "customdata": [
          [
           "Original | Hævnen | Romance",
           "Romance"
          ],
          [
           "Original | The Bridges of Madison County | Romance",
           "Romance"
          ],
          [
           "Original | Trois couleurs: Blanc | Romance",
           "Romance"
          ],
          [
           "Original | When Harry Met Sally... | Romance",
           "Romance"
          ],
          [
           "Original | Breakfast at Tiffany's | Romance",
           "Romance"
          ]
         ],
         "hovertemplate": "Cluster=%{customdata[1]}<br>Type=Original<br>Distance to \"War\"=%{x}<br>Distance to \"Love\"=%{y}<br>Title=%{customdata[0]}<extra></extra>",
         "legendgroup": "Romance, Original",
         "marker": {
          "color": "#19d3f3",
          "symbol": "circle"
         },
         "mode": "markers",
         "name": "Romance, Original",
         "opacity": 0.3,
         "orientation": "v",
         "showlegend": false,
         "type": "scatter",
         "x": [
          -0.000008549541234970093,
          -0.1874842345714569,
          -0.005827365443110466,
          0.022439612075686455,
          -0.08720850944519043
         ],
         "xaxis": "x",
         "y": [
          0.3924279510974884,
          0.1964745819568634,
          0.30225056409835815,
          0.23715808987617493,
          0.2635667622089386
         ],
         "yaxis": "y"
        },
        {
         "customdata": [
          [
           "Steered | Hævnen | Romance",
           "Romance"
          ],
          [
           "Steered | The Bridges of Madison County | Romance",
           "Romance"
          ],
          [
           "Steered | Trois couleurs: Blanc | Romance",
           "Romance"
          ],
          [
           "Steered | When Harry Met Sally... | Romance",
           "Romance"
          ],
          [
           "Steered | Breakfast at Tiffany's | Romance",
           "Romance"
          ]
         ],
         "hovertemplate": "Cluster=%{customdata[1]}<br>Type=Steered<br>Distance to \"War\"=%{x}<br>Distance to \"Love\"=%{y}<br>Title=%{customdata[0]}<extra></extra>",
         "legendgroup": "Romance, Steered",
         "marker": {
          "color": "#19d3f3",
          "symbol": "diamond"
         },
         "mode": "markers",
         "name": "Romance, Steered",
         "opacity": 1,
         "orientation": "v",
         "showlegend": true,
         "type": "scatter",
         "x": [
          0.285632848739624,
          0.04969647526741028,
          0.19945849478244781,
          0.2608518600463867,
          0.19450406730175018
         ],
         "xaxis": "x",
         "y": [
          0.36190205812454224,
          0.18784619867801666,
          0.28599926829338074,
          0.21713384985923767,
          0.24560627341270447
         ],
         "yaxis": "y"
        },
        {
         "customdata": [
          [
           "Original | 50/50 | Comedy",
           "Comedy"
          ],
          [
           "Original | Kick-Ass | Comedy",
           "Comedy"
          ],
          [
           "Original | The Station Agent | Comedy",
           "Comedy"
          ],
          [
           "Original | Dazed and Confused | Comedy",
           "Comedy"
          ],
          [
           "Original | Delicatessen | Comedy",
           "Comedy"
          ],
          [
           "Original | Planes, Trains & Automobiles | Comedy",
           "Comedy"
          ],
          [
           "Original | The Muppet Movie | Comedy",
           "Comedy"
          ]
         ],
         "hovertemplate": "Cluster=%{customdata[1]}<br>Type=Original<br>Distance to \"War\"=%{x}<br>Distance to \"Love\"=%{y}<br>Title=%{customdata[0]}<extra></extra>",
         "legendgroup": "Comedy, Original",
         "marker": {
          "color": "#FF6692",
          "symbol": "circle"
         },
         "mode": "markers",
         "name": "Comedy, Original",
         "opacity": 0.3,
         "orientation": "v",
         "showlegend": false,
         "type": "scatter",
         "x": [
          -0.029270756989717484,
          0.022997960448265076,
          -0.09104279428720474,
          -0.13048510253429413,
          -0.1144954115152359,
          -0.060997411608695984,
          0.03127696365118027
         ],
         "xaxis": "x",
         "y": [
          0.13066357374191284,
          0.1105397492647171,
          0.28146326541900635,
          0.13830484449863434,
          0.12864989042282104,
          0.23541775345802307,
          0.15121926367282867
         ],
         "yaxis": "y"
        },
        {
         "customdata": [
          [
           "Steered | 50/50 | Comedy",
           "Comedy"
          ],
          [
           "Steered | Kick-Ass | Comedy",
           "Comedy"
          ],
          [
           "Steered | The Station Agent | Comedy",
           "Comedy"
          ],
          [
           "Steered | Dazed and Confused | Comedy",
           "Comedy"
          ],
          [
           "Steered | Delicatessen | Comedy",
           "Comedy"
          ],
          [
           "Steered | Planes, Trains & Automobiles | Comedy",
           "Comedy"
          ],
          [
           "Steered | The Muppet Movie | Comedy",
           "Comedy"
          ]
         ],
         "hovertemplate": "Cluster=%{customdata[1]}<br>Type=Steered<br>Distance to \"War\"=%{x}<br>Distance to \"Love\"=%{y}<br>Title=%{customdata[0]}<extra></extra>",
         "legendgroup": "Comedy, Steered",
         "marker": {
          "color": "#FF6692",
          "symbol": "diamond"
         },
         "mode": "markers",
         "name": "Comedy, Steered",
         "opacity": 1,
         "orientation": "v",
         "showlegend": true,
         "type": "scatter",
         "x": [
          0.23739862442016602,
          0.3163459300994873,
          0.21541103720664978,
          0.09330930560827255,
          0.12390337139368057,
          0.20890797674655914,
          0.2645745575428009
         ],
         "xaxis": "x",
         "y": [
          0.1137881875038147,
          0.09027276933193207,
          0.26087942719459534,
          0.12775416672229767,
          0.11667783558368683,
          0.2173181176185608,
          0.13426834344863892
         ],
         "yaxis": "y"
        },
        {
         "customdata": [
          [
           "Original | Moneyball | Biography",
           "Biography"
          ],
          [
           "Original | The Blind Side | Biography",
           "Biography"
          ],
          [
           "Original | La Vie En Rose | Biography",
           "Biography"
          ],
          [
           "Original | Huo Yuan Jia | Biography",
           "Biography"
          ],
          [
           "Original | Blow | Biography",
           "Biography"
          ],
          [
           "Original | The Hurricane | Biography",
           "Biography"
          ]
         ],
         "hovertemplate": "Cluster=%{customdata[1]}<br>Type=Original<br>Distance to \"War\"=%{x}<br>Distance to \"Love\"=%{y}<br>Title=%{customdata[0]}<extra></extra>",
         "legendgroup": "Biography, Original",
         "marker": {
          "color": "#B6E880",
          "symbol": "circle"
         },
         "mode": "markers",
         "name": "Biography, Original",
         "opacity": 0.3,
         "orientation": "v",
         "showlegend": false,
         "type": "scatter",
         "x": [
          -0.04781314358115196,
          -0.025046605616807938,
          -0.1493503898382187,
          -0.013083873316645622,
          -0.04193346947431564,
          0.18238788843154907
         ],
         "xaxis": "x",
         "y": [
          0.04139390587806702,
          0.14267612993717194,
          0.13792745769023895,
          0.07685845345258713,
          0.10069598257541656,
          0.13071925938129425
         ],
         "yaxis": "y"
        },
        {
         "customdata": [
          [
           "Steered | Moneyball | Biography",
           "Biography"
          ],
          [
           "Steered | The Blind Side | Biography",
           "Biography"
          ],
          [
           "Steered | La Vie En Rose | Biography",
           "Biography"
          ],
          [
           "Steered | Huo Yuan Jia | Biography",
           "Biography"
          ],
          [
           "Steered | Blow | Biography",
           "Biography"
          ],
          [
           "Steered | The Hurricane | Biography",
           "Biography"
          ]
         ],
         "hovertemplate": "Cluster=%{customdata[1]}<br>Type=Steered<br>Distance to \"War\"=%{x}<br>Distance to \"Love\"=%{y}<br>Title=%{customdata[0]}<extra></extra>",
         "legendgroup": "Biography, Steered",
         "marker": {
          "color": "#B6E880",
          "symbol": "diamond"
         },
         "mode": "markers",
         "name": "Biography, Steered",
         "opacity": 1,
         "orientation": "v",
         "showlegend": true,
         "type": "scatter",
         "x": [
          0.22165045142173767,
          0.23019354045391083,
          0.18490423262119293,
          0.21659967303276062,
          0.2078520804643631,
          0.38188621401786804
         ],
         "xaxis": "x",
         "y": [
          0.02709279954433441,
          0.12625297904014587,
          0.12054204940795898,
          0.06365596503019333,
          0.08622977882623672,
          0.11242807656526566
         ],
         "yaxis": "y"
        },
        {
         "customdata": [
          [
           "Original | La piel que habito | Horror",
           "Horror"
          ],
          [
           "Original | 28 Days Later... | Horror",
           "Horror"
          ],
          [
           "Original | The Others | Horror",
           "Horror"
          ]
         ],
         "hovertemplate": "Cluster=%{customdata[1]}<br>Type=Original<br>Distance to \"War\"=%{x}<br>Distance to \"Love\"=%{y}<br>Title=%{customdata[0]}<extra></extra>",
         "legendgroup": "Horror, Original",
         "marker": {
          "color": "#FF97FF",
          "symbol": "circle"
         },
         "mode": "markers",
         "name": "Horror, Original",
         "opacity": 0.3,
         "orientation": "v",
         "showlegend": false,
         "type": "scatter",
         "x": [
          -0.046105723828077316,
          0.10957606136798859,
          -0.20236119627952576
         ],
         "xaxis": "x",
         "y": [
          0.10638031363487244,
          0.15141882002353668,
          0.17382624745368958
         ],
         "yaxis": "y"
        },
        {
         "customdata": [
          [
           "Steered | La piel que habito | Horror",
           "Horror"
          ],
          [
           "Steered | 28 Days Later... | Horror",
           "Horror"
          ],
          [
           "Steered | The Others | Horror",
           "Horror"
          ]
         ],
         "hovertemplate": "Cluster=%{customdata[1]}<br>Type=Steered<br>Distance to \"War\"=%{x}<br>Distance to \"Love\"=%{y}<br>Title=%{customdata[0]}<extra></extra>",
         "legendgroup": "Horror, Steered",
         "marker": {
          "color": "#FF97FF",
          "symbol": "diamond"
         },
         "mode": "markers",
         "name": "Horror, Steered",
         "opacity": 1,
         "orientation": "v",
         "showlegend": true,
         "type": "scatter",
         "x": [
          0.2402368187904358,
          0.33475345373153687,
          0.02377471700310707
         ],
         "xaxis": "x",
         "y": [
          0.08922766894102097,
          0.13208843767642975,
          0.16601544618606567
         ],
         "yaxis": "y"
        },
        {
         "customdata": [
          [
           "Original | Zombieland | Adventure",
           "Adventure"
          ],
          [
           "Original | The Secret of Kells | Adventure",
           "Adventure"
          ],
          [
           "Original | Harry Potter and the Half-Blood Prince | Adventure",
           "Adventure"
          ],
          [
           "Original | Harry Potter and the Sorcerer's Stone | Adventure",
           "Adventure"
          ],
          [
           "Original | Fear and Loathing in Las Vegas | Adventure",
           "Adventure"
          ],
          [
           "Original | Dead Man | Adventure",
           "Adventure"
          ],
          [
           "Original | Apollo 13 | Adventure",
           "Adventure"
          ],
          [
           "Original | Mad Max 2 | Adventure",
           "Adventure"
          ],
          [
           "Original | Watership Down | Adventure",
           "Adventure"
          ],
          [
           "Original | The Jungle Book | Adventure",
           "Adventure"
          ]
         ],
         "hovertemplate": "Cluster=%{customdata[1]}<br>Type=Original<br>Distance to \"War\"=%{x}<br>Distance to \"Love\"=%{y}<br>Title=%{customdata[0]}<extra></extra>",
         "legendgroup": "Adventure, Original",
         "marker": {
          "color": "#FECB52",
          "symbol": "circle"
         },
         "mode": "markers",
         "name": "Adventure, Original",
         "opacity": 0.3,
         "orientation": "v",
         "showlegend": false,
         "type": "scatter",
         "x": [
          0.052680738270282745,
          -0.042443592101335526,
          -0.034321729093790054,
          -0.11339838057756424,
          -0.06114991009235382,
          0.04416496306657791,
          0.20256954431533813,
          0.06475317478179932,
          0.005664270371198654,
          0.10402282327413559
         ],
         "xaxis": "x",
         "y": [
          0.17754103243350983,
          0.12736119329929352,
          0.15624874830245972,
          0.09789380431175232,
          0.1408667266368866,
          0.17529234290122986,
          0.07555347681045532,
          0.16007578372955322,
          0.1814298927783966,
          0.2027914822101593
         ],
         "yaxis": "y"
        },
        {
         "customdata": [
          [
           "Steered | Zombieland | Adventure",
           "Adventure"
          ],
          [
           "Steered | The Secret of Kells | Adventure",
           "Adventure"
          ],
          [
           "Steered | Harry Potter and the Half-Blood Prince | Adventure",
           "Adventure"
          ],
          [
           "Steered | Harry Potter and the Sorcerer's Stone | Adventure",
           "Adventure"
          ],
          [
           "Steered | Fear and Loathing in Las Vegas | Adventure",
           "Adventure"
          ],
          [
           "Steered | Dead Man | Adventure",
           "Adventure"
          ],
          [
           "Steered | Apollo 13 | Adventure",
           "Adventure"
          ],
          [
           "Steered | Mad Max 2 | Adventure",
           "Adventure"
          ],
          [
           "Steered | Watership Down | Adventure",
           "Adventure"
          ],
          [
           "Steered | The Jungle Book | Adventure",
           "Adventure"
          ]
         ],
         "hovertemplate": "Cluster=%{customdata[1]}<br>Type=Steered<br>Distance to \"War\"=%{x}<br>Distance to \"Love\"=%{y}<br>Title=%{customdata[0]}<extra></extra>",
         "legendgroup": "Adventure, Steered",
         "marker": {
          "color": "#FECB52",
          "symbol": "diamond"
         },
         "mode": "markers",
         "name": "Adventure, Steered",
         "opacity": 1,
         "orientation": "v",
         "showlegend": true,
         "type": "scatter",
         "x": [
          0.3583809733390808,
          0.25153443217277527,
          0.23810064792633057,
          0.14940065145492554,
          0.17551091313362122,
          0.2890085279941559,
          0.41602110862731934,
          0.31944242119789124,
          0.28189942240715027,
          0.3236134350299835
         ],
         "xaxis": "x",
         "y": [
          0.15063557028770447,
          0.10885260254144669,
          0.13837170600891113,
          0.08440729975700378,
          0.12723565101623535,
          0.15573230385780334,
          0.058847635984420776,
          0.1392049640417099,
          0.16035301983356476,
          0.18177583813667297
         ],
         "yaxis": "y"
        },
        {
         "customdata": [
          [
           "Original | Sherlock Holmes | Mystery",
           "Mystery"
          ],
          [
           "Original | Watchmen | Mystery",
           "Mystery"
          ],
          [
           "Original | Un long dimanche de fiançailles | Mystery",
           "Mystery"
          ]
         ],
         "hovertemplate": "Cluster=%{customdata[1]}<br>Type=Original<br>Distance to \"War\"=%{x}<br>Distance to \"Love\"=%{y}<br>Title=%{customdata[0]}<extra></extra>",
         "legendgroup": "Mystery, Original",
         "marker": {
          "color": "#636efa",
          "symbol": "circle"
         },
         "mode": "markers",
         "name": "Mystery, Original",
         "opacity": 0.3,
         "orientation": "v",
         "showlegend": false,
         "type": "scatter",
         "x": [
          0.17084453999996185,
          0.0999809205532074,
          0.08610586822032928
         ],
         "xaxis": "x",
         "y": [
          0.23368407785892487,
          0.19744180142879486,
          0.33519068360328674
         ],
         "yaxis": "y"
        },
        {
         "customdata": [
          [
           "Steered | Sherlock Holmes | Mystery",
           "Mystery"
          ],
          [
           "Steered | Watchmen | Mystery",
           "Mystery"
          ],
          [
           "Steered | Un long dimanche de fiançailles | Mystery",
           "Mystery"
          ]
         ],
         "hovertemplate": "Cluster=%{customdata[1]}<br>Type=Steered<br>Distance to \"War\"=%{x}<br>Distance to \"Love\"=%{y}<br>Title=%{customdata[0]}<extra></extra>",
         "legendgroup": "Mystery, Steered",
         "marker": {
          "color": "#636efa",
          "symbol": "diamond"
         },
         "mode": "markers",
         "name": "Mystery, Steered",
         "opacity": 1,
         "orientation": "v",
         "showlegend": true,
         "type": "scatter",
         "x": [
          0.38886189460754395,
          0.36817580461502075,
          0.30837559700012207
         ],
         "xaxis": "x",
         "y": [
          0.2071332037448883,
          0.17086073756217957,
          0.3088188171386719
         ],
         "yaxis": "y"
        },
        {
         "customdata": [
          [
           "Original | The Visitor | Drama",
           "Drama"
          ],
          [
           "Original | Seven Pounds | Drama",
           "Drama"
          ],
          [
           "Original | 300 | Drama",
           "Drama"
          ],
          [
           "Original | Match Point | Drama",
           "Drama"
          ],
          [
           "Original | Lord of War | Drama",
           "Drama"
          ],
          [
           "Original | Synecdoche, New York | Drama",
           "Drama"
          ],
          [
           "Original | Mysterious Skin | Drama",
           "Drama"
          ],
          [
           "Original | Jeux d'enfants | Drama",
           "Drama"
          ],
          [
           "Original | 25th Hour | Drama",
           "Drama"
          ],
          [
           "Original | The Royal Tenenbaums | Drama",
           "Drama"
          ],
          [
           "Original | Y tu mamá también | Drama",
           "Drama"
          ],
          [
           "Original | Lola rennt | Drama",
           "Drama"
          ],
          [
           "Original | Funny Games | Drama",
           "Drama"
          ],
          [
           "Original | Sense and Sensibility | Drama",
           "Drama"
          ],
          [
           "Original | On Golden Pond | Drama",
           "Drama"
          ],
          [
           "Original | From Here to Eternity | Drama",
           "Drama"
          ]
         ],
         "hovertemplate": "Cluster=%{customdata[1]}<br>Type=Original<br>Distance to \"War\"=%{x}<br>Distance to \"Love\"=%{y}<br>Title=%{customdata[0]}<extra></extra>",
         "legendgroup": "Drama, Original",
         "marker": {
          "color": "#EF553B",
          "symbol": "circle"
         },
         "mode": "markers",
         "name": "Drama, Original",
         "opacity": 0.3,
         "orientation": "v",
         "showlegend": false,
         "type": "scatter",
         "x": [
          -0.17049984633922577,
          0.0390954315662384,
          0.17452462017536163,
          -0.0269441120326519,
          0.15654560923576355,
          -0.15116050839424133,
          0.02888944186270237,
          0.05402640998363495,
          0.06791041791439056,
          -0.0463595874607563,
          -0.09513790905475616,
          0.004811826162040234,
          0.17085044085979462,
          -0.0335320346057415,
          -0.09123854339122772,
          0.21793687343597412
         ],
         "xaxis": "x",
         "y": [
          0.22456474602222443,
          0.24724876880645752,
          0.03222768381237984,
          0.3358610272407532,
          0.13355088233947754,
          0.16901257634162903,
          0.2524590492248535,
          0.21989494562149048,
          0.08143667876720428,
          0.2857326567173004,
          0.24884286522865295,
          0.15283216536045074,
          0.1507365107536316,
          0.2045074999332428,
          0.24836605787277222,
          0.252851665019989
         ],
         "yaxis": "y"
        },
        {
         "customdata": [
          [
           "Steered | The Visitor | Drama",
           "Drama"
          ],
          [
           "Steered | Seven Pounds | Drama",
           "Drama"
          ],
          [
           "Steered | 300 | Drama",
           "Drama"
          ],
          [
           "Steered | Match Point | Drama",
           "Drama"
          ],
          [
           "Steered | Lord of War | Drama",
           "Drama"
          ],
          [
           "Steered | Synecdoche, New York | Drama",
           "Drama"
          ],
          [
           "Steered | Mysterious Skin | Drama",
           "Drama"
          ],
          [
           "Steered | Jeux d'enfants | Drama",
           "Drama"
          ],
          [
           "Steered | 25th Hour | Drama",
           "Drama"
          ],
          [
           "Steered | The Royal Tenenbaums | Drama",
           "Drama"
          ],
          [
           "Steered | Y tu mamá también | Drama",
           "Drama"
          ],
          [
           "Steered | Lola rennt | Drama",
           "Drama"
          ],
          [
           "Steered | Funny Games | Drama",
           "Drama"
          ],
          [
           "Steered | Sense and Sensibility | Drama",
           "Drama"
          ],
          [
           "Steered | On Golden Pond | Drama",
           "Drama"
          ],
          [
           "Steered | From Here to Eternity | Drama",
           "Drama"
          ]
         ],
         "hovertemplate": "Cluster=%{customdata[1]}<br>Type=Steered<br>Distance to \"War\"=%{x}<br>Distance to \"Love\"=%{y}<br>Title=%{customdata[0]}<extra></extra>",
         "legendgroup": "Drama, Steered",
         "marker": {
          "color": "#EF553B",
          "symbol": "diamond"
         },
         "mode": "markers",
         "name": "Drama, Steered",
         "opacity": 1,
         "orientation": "v",
         "showlegend": true,
         "type": "scatter",
         "x": [
          0.08048131316900253,
          0.27678123116493225,
          0.37570062279701233,
          0.2544405162334442,
          0.36135852336883545,
          0.13118961453437805,
          0.29203325510025024,
          0.35987672209739685,
          0.3330666422843933,
          0.19617006182670593,
          0.1724155843257904,
          0.2626459002494812,
          0.4125188887119293,
          0.21239949762821198,
          0.19518119096755981,
          0.45193150639533997
         ],
         "xaxis": "x",
         "y": [
          0.214607834815979,
          0.22590003907680511,
          0.01983797922730446,
          0.31100308895111084,
          0.11548102647066116,
          0.155464306473732,
          0.22843238711357117,
          0.19010604918003082,
          0.0636192113161087,
          0.26848745346069336,
          0.2330034375190735,
          0.13466303050518036,
          0.12672792375087738,
          0.18778464198112488,
          0.23046235740184784,
          0.2185686081647873
         ],
         "yaxis": "y"
        },
        {
         "customdata": [
          [
           "Original | Stardust | Fantasy",
           "Fantasy"
          ],
          [
           "Original | The Illusionist | Fantasy",
           "Fantasy"
          ],
          [
           "Original | The Little Mermaid | Fantasy",
           "Fantasy"
          ]
         ],
         "hovertemplate": "Cluster=%{customdata[1]}<br>Type=Original<br>Distance to \"War\"=%{x}<br>Distance to \"Love\"=%{y}<br>Title=%{customdata[0]}<extra></extra>",
         "legendgroup": "Fantasy, Original",
         "marker": {
          "color": "#00cc96",
          "symbol": "circle"
         },
         "mode": "markers",
         "name": "Fantasy, Original",
         "opacity": 0.3,
         "orientation": "v",
         "showlegend": false,
         "type": "scatter",
         "x": [
          -0.05724340304732323,
          -0.04994712769985199,
          0.04315762594342232
         ],
         "xaxis": "x",
         "y": [
          0.19997277855873108,
          0.2864772379398346,
          0.23246344923973083
         ],
         "yaxis": "y"
        },
        {
         "customdata": [
          [
           "Steered | Stardust | Fantasy",
           "Fantasy"
          ],
          [
           "Steered | The Illusionist | Fantasy",
           "Fantasy"
          ],
          [
           "Steered | The Little Mermaid | Fantasy",
           "Fantasy"
          ]
         ],
         "hovertemplate": "Cluster=%{customdata[1]}<br>Type=Steered<br>Distance to \"War\"=%{x}<br>Distance to \"Love\"=%{y}<br>Title=%{customdata[0]}<extra></extra>",
         "legendgroup": "Fantasy, Steered",
         "marker": {
          "color": "#00cc96",
          "symbol": "diamond"
         },
         "mode": "markers",
         "name": "Fantasy, Steered",
         "opacity": 1,
         "orientation": "v",
         "showlegend": true,
         "type": "scatter",
         "x": [
          0.21577996015548706,
          0.20011615753173828,
          0.2498081773519516
         ],
         "xaxis": "x",
         "y": [
          0.18209417164325714,
          0.26866912841796875,
          0.21498070657253265
         ],
         "yaxis": "y"
        },
        {
         "customdata": [
          [
           "Original | Batoru rowaiaru | Action",
           "Action"
          ]
         ],
         "hovertemplate": "Cluster=%{customdata[1]}<br>Type=Original<br>Distance to \"War\"=%{x}<br>Distance to \"Love\"=%{y}<br>Title=%{customdata[0]}<extra></extra>",
         "legendgroup": "Action, Original",
         "marker": {
          "color": "#ab63fa",
          "symbol": "circle"
         },
         "mode": "markers",
         "name": "Action, Original",
         "opacity": 0.3,
         "orientation": "v",
         "showlegend": false,
         "type": "scatter",
         "x": [
          0.22011429071426392
         ],
         "xaxis": "x",
         "y": [
          0.15326370298862457
         ],
         "yaxis": "y"
        },
        {
         "customdata": [
          [
           "Steered | Batoru rowaiaru | Action",
           "Action"
          ]
         ],
         "hovertemplate": "Cluster=%{customdata[1]}<br>Type=Steered<br>Distance to \"War\"=%{x}<br>Distance to \"Love\"=%{y}<br>Title=%{customdata[0]}<extra></extra>",
         "legendgroup": "Action, Steered",
         "marker": {
          "color": "#ab63fa",
          "symbol": "diamond"
         },
         "mode": "markers",
         "name": "Action, Steered",
         "opacity": 1,
         "orientation": "v",
         "showlegend": true,
         "type": "scatter",
         "x": [
          0.4446287751197815
         ],
         "xaxis": "x",
         "y": [
          0.1286957710981369
         ],
         "yaxis": "y"
        },
        {
         "customdata": [
          [
           "Original | Enemy at the Gates | War",
           "War"
          ],
          [
           "Original | The Thin Red Line | War",
           "War"
          ],
          [
           "Original | Giù la testa | War",
           "War"
          ],
          [
           "Original | Kelly's Heroes | War",
           "War"
          ],
          [
           "Original | Lifeboat | War",
           "War"
          ]
         ],
         "hovertemplate": "Cluster=%{customdata[1]}<br>Type=Original<br>Distance to \"War\"=%{x}<br>Distance to \"Love\"=%{y}<br>Title=%{customdata[0]}<extra></extra>",
         "legendgroup": "War, Original",
         "marker": {
          "color": "#FFA15A",
          "symbol": "circle"
         },
         "mode": "markers",
         "name": "War, Original",
         "opacity": 0.3,
         "orientation": "v",
         "showlegend": false,
         "type": "scatter",
         "x": [
          0.23264595866203308,
          0.058491483330726624,
          0.12974263727664948,
          0.27614694833755493,
          0.20119157433509827
         ],
         "xaxis": "x",
         "y": [
          0.0354703813791275,
          0.165948748588562,
          0.15705430507659912,
          0.059191860258579254,
          0.15268480777740479
         ],
         "yaxis": "y"
        },
        {
         "customdata": [
          [
           "Steered | Enemy at the Gates | War",
           "War"
          ],
          [
           "Steered | The Thin Red Line | War",
           "War"
          ],
          [
           "Steered | Giù la testa | War",
           "War"
          ],
          [
           "Steered | Kelly's Heroes | War",
           "War"
          ],
          [
           "Steered | Lifeboat | War",
           "War"
          ]
         ],
         "hovertemplate": "Cluster=%{customdata[1]}<br>Type=Steered<br>Distance to \"War\"=%{x}<br>Distance to \"Love\"=%{y}<br>Title=%{customdata[0]}<extra></extra>",
         "legendgroup": "War, Steered",
         "marker": {
          "color": "#FFA15A",
          "symbol": "diamond"
         },
         "mode": "markers",
         "name": "War, Steered",
         "opacity": 1,
         "orientation": "v",
         "showlegend": true,
         "type": "scatter",
         "x": [
          0.4162670969963074,
          0.28833141922950745,
          0.35367265343666077,
          0.46800342202186584,
          0.4237297475337982
         ],
         "xaxis": "x",
         "y": [
          0.02329578995704651,
          0.14764752984046936,
          0.13667705655097961,
          0.043799906969070435,
          0.1293901652097702
         ],
         "yaxis": "y"
        },
        {
         "customdata": [
          [
           "Original | Omohide poro poro | Animation",
           "Animation"
          ]
         ],
         "hovertemplate": "Cluster=%{customdata[1]}<br>Type=Original<br>Distance to \"War\"=%{x}<br>Distance to \"Love\"=%{y}<br>Title=%{customdata[0]}<extra></extra>",
         "legendgroup": "Animation, Original",
         "marker": {
          "color": "#19d3f3",
          "symbol": "circle"
         },
         "mode": "markers",
         "name": "Animation, Original",
         "opacity": 0.3,
         "orientation": "v",
         "showlegend": false,
         "type": "scatter",
         "x": [
          -0.23770633339881897
         ],
         "xaxis": "x",
         "y": [
          0.21000903844833374
         ],
         "yaxis": "y"
        },
        {
         "customdata": [
          [
           "Steered | Omohide poro poro | Animation",
           "Animation"
          ]
         ],
         "hovertemplate": "Cluster=%{customdata[1]}<br>Type=Steered<br>Distance to \"War\"=%{x}<br>Distance to \"Love\"=%{y}<br>Title=%{customdata[0]}<extra></extra>",
         "legendgroup": "Animation, Steered",
         "marker": {
          "color": "#19d3f3",
          "symbol": "diamond"
         },
         "mode": "markers",
         "name": "Animation, Steered",
         "opacity": 1,
         "orientation": "v",
         "showlegend": true,
         "type": "scatter",
         "x": [
          0.011061083525419235
         ],
         "xaxis": "x",
         "y": [
          0.20349864661693573
         ],
         "yaxis": "y"
        },
        {
         "customdata": [
          [
           "Original | Close Encounters of the Third Kind | Sci-Fi",
           "Sci-Fi"
          ]
         ],
         "hovertemplate": "Cluster=%{customdata[1]}<br>Type=Original<br>Distance to \"War\"=%{x}<br>Distance to \"Love\"=%{y}<br>Title=%{customdata[0]}<extra></extra>",
         "legendgroup": "Sci-Fi, Original",
         "marker": {
          "color": "#FF6692",
          "symbol": "circle"
         },
         "mode": "markers",
         "name": "Sci-Fi, Original",
         "opacity": 0.3,
         "orientation": "v",
         "showlegend": false,
         "type": "scatter",
         "x": [
          0.0697636529803276
         ],
         "xaxis": "x",
         "y": [
          0.13773418962955475
         ],
         "yaxis": "y"
        },
        {
         "customdata": [
          [
           "Steered | Close Encounters of the Third Kind | Sci-Fi",
           "Sci-Fi"
          ]
         ],
         "hovertemplate": "Cluster=%{customdata[1]}<br>Type=Steered<br>Distance to \"War\"=%{x}<br>Distance to \"Love\"=%{y}<br>Title=%{customdata[0]}<extra></extra>",
         "legendgroup": "Sci-Fi, Steered",
         "marker": {
          "color": "#FF6692",
          "symbol": "diamond"
         },
         "mode": "markers",
         "name": "Sci-Fi, Steered",
         "opacity": 1,
         "orientation": "v",
         "showlegend": true,
         "type": "scatter",
         "x": [
          0.31448692083358765
         ],
         "xaxis": "x",
         "y": [
          0.11875134706497192
         ],
         "yaxis": "y"
        },
        {
         "hoverinfo": "none",
         "line": {
          "color": "gray",
          "dash": "dot",
          "width": 1
         },
         "mode": "lines",
         "showlegend": false,
         "type": "scatter",
         "x": [
          0.3076419234275818,
          0.5172939896583557
         ],
         "y": [
          0.1250356286764145,
          0.10051943361759186
         ]
        },
        {
         "hoverinfo": "none",
         "line": {
          "color": "gray",
          "dash": "dot",
          "width": 1
         },
         "mode": "lines",
         "showlegend": false,
         "type": "scatter",
         "x": [
          0.14538604021072388,
          0.3825407326221466
         ],
         "y": [
          0.21243105828762054,
          0.18613331019878387
         ]
        },
        {
         "hoverinfo": "none",
         "line": {
          "color": "gray",
          "dash": "dot",
          "width": 1
         },
         "mode": "lines",
         "showlegend": false,
         "type": "scatter",
         "x": [
          -0.17315787076950073,
          0.13959598541259766
         ],
         "y": [
          0.178591787815094,
          0.1639864444732666
         ]
        },
        {
         "hoverinfo": "none",
         "line": {
          "color": "gray",
          "dash": "dot",
          "width": 1
         },
         "mode": "lines",
         "showlegend": false,
         "type": "scatter",
         "x": [
          -0.1271551102399826,
          0.11310656368732452
         ],
         "y": [
          0.25044167041778564,
          0.23893538117408752
         ]
        },
        {
         "hoverinfo": "none",
         "line": {
          "color": "gray",
          "dash": "dot",
          "width": 1
         },
         "mode": "lines",
         "showlegend": false,
         "type": "scatter",
         "x": [
          0.19516801834106445,
          0.40170520544052124
         ],
         "y": [
          0.10887446254491806,
          0.09076591581106186
         ]
        },
        {
         "hoverinfo": "none",
         "line": {
          "color": "gray",
          "dash": "dot",
          "width": 1
         },
         "mode": "lines",
         "showlegend": false,
         "type": "scatter",
         "x": [
          -0.000008549541234970093,
          0.285632848739624
         ],
         "y": [
          0.3924279510974884,
          0.36190205812454224
         ]
        },
        {
         "hoverinfo": "none",
         "line": {
          "color": "gray",
          "dash": "dot",
          "width": 1
         },
         "mode": "lines",
         "showlegend": false,
         "type": "scatter",
         "x": [
          0.030033987015485764,
          0.3038194179534912
         ],
         "y": [
          0.32658523321151733,
          0.2976294755935669
         ]
        },
        {
         "hoverinfo": "none",
         "line": {
          "color": "gray",
          "dash": "dot",
          "width": 1
         },
         "mode": "lines",
         "showlegend": false,
         "type": "scatter",
         "x": [
          -0.029270756989717484,
          0.23739862442016602
         ],
         "y": [
          0.13066357374191284,
          0.1137881875038147
         ]
        },
        {
         "hoverinfo": "none",
         "line": {
          "color": "gray",
          "dash": "dot",
          "width": 1
         },
         "mode": "lines",
         "showlegend": false,
         "type": "scatter",
         "x": [
          0.022997960448265076,
          0.3163459300994873
         ],
         "y": [
          0.1105397492647171,
          0.09027276933193207
         ]
        },
        {
         "hoverinfo": "none",
         "line": {
          "color": "gray",
          "dash": "dot",
          "width": 1
         },
         "mode": "lines",
         "showlegend": false,
         "type": "scatter",
         "x": [
          0.16549721360206604,
          0.4122481346130371
         ],
         "y": [
          0.19650644063949585,
          0.1686621606349945
         ]
        },
        {
         "hoverinfo": "none",
         "line": {
          "color": "gray",
          "dash": "dot",
          "width": 1
         },
         "mode": "lines",
         "showlegend": false,
         "type": "scatter",
         "x": [
          -0.04781314358115196,
          0.22165045142173767
         ],
         "y": [
          0.04139390587806702,
          0.02709279954433441
         ]
        },
        {
         "hoverinfo": "none",
         "line": {
          "color": "gray",
          "dash": "dot",
          "width": 1
         },
         "mode": "lines",
         "showlegend": false,
         "type": "scatter",
         "x": [
          -0.046105723828077316,
          0.2402368187904358
         ],
         "y": [
          0.10638031363487244,
          0.08922766894102097
         ]
        },
        {
         "hoverinfo": "none",
         "line": {
          "color": "gray",
          "dash": "dot",
          "width": 1
         },
         "mode": "lines",
         "showlegend": false,
         "type": "scatter",
         "x": [
          0.052680738270282745,
          0.3583809733390808
         ],
         "y": [
          0.17754103243350983,
          0.15063557028770447
         ]
        },
        {
         "hoverinfo": "none",
         "line": {
          "color": "gray",
          "dash": "dot",
          "width": 1
         },
         "mode": "lines",
         "showlegend": false,
         "type": "scatter",
         "x": [
          0.009160595946013927,
          0.2835015654563904
         ],
         "y": [
          0.1738920509815216,
          0.15312978625297546
         ]
        },
        {
         "hoverinfo": "none",
         "line": {
          "color": "gray",
          "dash": "dot",
          "width": 1
         },
         "mode": "lines",
         "showlegend": false,
         "type": "scatter",
         "x": [
          0.17084453999996185,
          0.38886189460754395
         ],
         "y": [
          0.23368407785892487,
          0.2071332037448883
         ]
        },
        {
         "hoverinfo": "none",
         "line": {
          "color": "gray",
          "dash": "dot",
          "width": 1
         },
         "mode": "lines",
         "showlegend": false,
         "type": "scatter",
         "x": [
          -0.025046605616807938,
          0.23019354045391083
         ],
         "y": [
          0.14267612993717194,
          0.12625297904014587
         ]
        },
        {
         "hoverinfo": "none",
         "line": {
          "color": "gray",
          "dash": "dot",
          "width": 1
         },
         "mode": "lines",
         "showlegend": false,
         "type": "scatter",
         "x": [
          -0.17049984633922577,
          0.08048131316900253
         ],
         "y": [
          0.22456474602222443,
          0.214607834815979
         ]
        },
        {
         "hoverinfo": "none",
         "line": {
          "color": "gray",
          "dash": "dot",
          "width": 1
         },
         "mode": "lines",
         "showlegend": false,
         "type": "scatter",
         "x": [
          0.0390954315662384,
          0.27678123116493225
         ],
         "y": [
          0.24724876880645752,
          0.22590003907680511
         ]
        },
        {
         "hoverinfo": "none",
         "line": {
          "color": "gray",
          "dash": "dot",
          "width": 1
         },
         "mode": "lines",
         "showlegend": false,
         "type": "scatter",
         "x": [
          -0.0033355699852108955,
          0.23839858174324036
         ],
         "y": [
          0.153741717338562,
          0.1373167634010315
         ]
        },
        {
         "hoverinfo": "none",
         "line": {
          "color": "gray",
          "dash": "dot",
          "width": 1
         },
         "mode": "lines",
         "showlegend": false,
         "type": "scatter",
         "x": [
          -0.05724340304732323,
          0.21577996015548706
         ],
         "y": [
          0.19997277855873108,
          0.18209417164325714
         ]
        },
        {
         "hoverinfo": "none",
         "line": {
          "color": "gray",
          "dash": "dot",
          "width": 1
         },
         "mode": "lines",
         "showlegend": false,
         "type": "scatter",
         "x": [
          -0.042443592101335526,
          0.25153443217277527
         ],
         "y": [
          0.12736119329929352,
          0.10885260254144669
         ]
        },
        {
         "hoverinfo": "none",
         "line": {
          "color": "gray",
          "dash": "dot",
          "width": 1
         },
         "mode": "lines",
         "showlegend": false,
         "type": "scatter",
         "x": [
          0.23478734493255615,
          0.4725745916366577
         ],
         "y": [
          0.20044337213039398,
          0.16883887350559235
         ]
        },
        {
         "hoverinfo": "none",
         "line": {
          "color": "gray",
          "dash": "dot",
          "width": 1
         },
         "mode": "lines",
         "showlegend": false,
         "type": "scatter",
         "x": [
          0.04724027216434479,
          0.2844808101654053
         ],
         "y": [
          0.23362016677856445,
          0.21234861016273499
         ]
        },
        {
         "hoverinfo": "none",
         "line": {
          "color": "gray",
          "dash": "dot",
          "width": 1
         },
         "mode": "lines",
         "showlegend": false,
         "type": "scatter",
         "x": [
          -0.1493503898382187,
          0.18490423262119293
         ],
         "y": [
          0.13792745769023895,
          0.12054204940795898
         ]
        },
        {
         "hoverinfo": "none",
         "line": {
          "color": "gray",
          "dash": "dot",
          "width": 1
         },
         "mode": "lines",
         "showlegend": false,
         "type": "scatter",
         "x": [
          -0.013083873316645622,
          0.21659967303276062
         ],
         "y": [
          0.07685845345258713,
          0.06365596503019333
         ]
        },
        {
         "hoverinfo": "none",
         "line": {
          "color": "gray",
          "dash": "dot",
          "width": 1
         },
         "mode": "lines",
         "showlegend": false,
         "type": "scatter",
         "x": [
          -0.04994712769985199,
          0.20011615753173828
         ],
         "y": [
          0.2864772379398346,
          0.26866912841796875
         ]
        },
        {
         "hoverinfo": "none",
         "line": {
          "color": "gray",
          "dash": "dot",
          "width": 1
         },
         "mode": "lines",
         "showlegend": false,
         "type": "scatter",
         "x": [
          0.21771779656410217,
          0.4461934566497803
         ],
         "y": [
          0.16274064779281616,
          0.13698478043079376
         ]
        },
        {
         "hoverinfo": "none",
         "line": {
          "color": "gray",
          "dash": "dot",
          "width": 1
         },
         "mode": "lines",
         "showlegend": false,
         "type": "scatter",
         "x": [
          -0.034321729093790054,
          0.23810064792633057
         ],
         "y": [
          0.15624874830245972,
          0.13837170600891113
         ]
        },
        {
         "hoverinfo": "none",
         "line": {
          "color": "gray",
          "dash": "dot",
          "width": 1
         },
         "mode": "lines",
         "showlegend": false,
         "type": "scatter",
         "x": [
          0.17452462017536163,
          0.37570062279701233
         ],
         "y": [
          0.03222768381237984,
          0.01983797922730446
         ]
        },
        {
         "hoverinfo": "none",
         "line": {
          "color": "gray",
          "dash": "dot",
          "width": 1
         },
         "mode": "lines",
         "showlegend": false,
         "type": "scatter",
         "x": [
          -0.0269441120326519,
          0.2544405162334442
         ],
         "y": [
          0.3358610272407532,
          0.31100308895111084
         ]
        },
        {
         "hoverinfo": "none",
         "line": {
          "color": "gray",
          "dash": "dot",
          "width": 1
         },
         "mode": "lines",
         "showlegend": false,
         "type": "scatter",
         "x": [
          0.0999809205532074,
          0.36817580461502075
         ],
         "y": [
          0.19744180142879486,
          0.17086073756217957
         ]
        },
        {
         "hoverinfo": "none",
         "line": {
          "color": "gray",
          "dash": "dot",
          "width": 1
         },
         "mode": "lines",
         "showlegend": false,
         "type": "scatter",
         "x": [
          0.15654560923576355,
          0.36135852336883545
         ],
         "y": [
          0.13355088233947754,
          0.11548102647066116
         ]
        },
        {
         "hoverinfo": "none",
         "line": {
          "color": "gray",
          "dash": "dot",
          "width": 1
         },
         "mode": "lines",
         "showlegend": false,
         "type": "scatter",
         "x": [
          0.2028813511133194,
          0.4492449164390564
         ],
         "y": [
          0.2262827754020691,
          0.19334682822227478
         ]
        },
        {
         "hoverinfo": "none",
         "line": {
          "color": "gray",
          "dash": "dot",
          "width": 1
         },
         "mode": "lines",
         "showlegend": false,
         "type": "scatter",
         "x": [
          -0.15116050839424133,
          0.13118961453437805
         ],
         "y": [
          0.16901257634162903,
          0.155464306473732
         ]
        },
        {
         "hoverinfo": "none",
         "line": {
          "color": "gray",
          "dash": "dot",
          "width": 1
         },
         "mode": "lines",
         "showlegend": false,
         "type": "scatter",
         "x": [
          0.02888944186270237,
          0.29203325510025024
         ],
         "y": [
          0.2524590492248535,
          0.22843238711357117
         ]
        },
        {
         "hoverinfo": "none",
         "line": {
          "color": "gray",
          "dash": "dot",
          "width": 1
         },
         "mode": "lines",
         "showlegend": false,
         "type": "scatter",
         "x": [
          0.05402640998363495,
          0.35987672209739685
         ],
         "y": [
          0.21989494562149048,
          0.19010604918003082
         ]
        },
        {
         "hoverinfo": "none",
         "line": {
          "color": "gray",
          "dash": "dot",
          "width": 1
         },
         "mode": "lines",
         "showlegend": false,
         "type": "scatter",
         "x": [
          0.08610586822032928,
          0.30837559700012207
         ],
         "y": [
          0.33519068360328674,
          0.3088188171386719
         ]
        },
        {
         "hoverinfo": "none",
         "line": {
          "color": "gray",
          "dash": "dot",
          "width": 1
         },
         "mode": "lines",
         "showlegend": false,
         "type": "scatter",
         "x": [
          -0.09104279428720474,
          0.21541103720664978
         ],
         "y": [
          0.28146326541900635,
          0.26087942719459534
         ]
        },
        {
         "hoverinfo": "none",
         "line": {
          "color": "gray",
          "dash": "dot",
          "width": 1
         },
         "mode": "lines",
         "showlegend": false,
         "type": "scatter",
         "x": [
          -0.02805645577609539,
          0.24008671939373016
         ],
         "y": [
          0.26338714361190796,
          0.24251583218574524
         ]
        },
        {
         "hoverinfo": "none",
         "line": {
          "color": "gray",
          "dash": "dot",
          "width": 1
         },
         "mode": "lines",
         "showlegend": false,
         "type": "scatter",
         "x": [
          0.079713374376297,
          0.3363479673862457
         ],
         "y": [
          0.1011752113699913,
          0.08262871950864792
         ]
        },
        {
         "hoverinfo": "none",
         "line": {
          "color": "gray",
          "dash": "dot",
          "width": 1
         },
         "mode": "lines",
         "showlegend": false,
         "type": "scatter",
         "x": [
          -0.19489192962646484,
          0.03572216257452965
         ],
         "y": [
          0.19017617404460907,
          0.1821417361497879
         ]
        },
        {
         "hoverinfo": "none",
         "line": {
          "color": "gray",
          "dash": "dot",
          "width": 1
         },
         "mode": "lines",
         "showlegend": false,
         "type": "scatter",
         "x": [
          0.06791041791439056,
          0.3330666422843933
         ],
         "y": [
          0.08143667876720428,
          0.0636192113161087
         ]
        },
        {
         "hoverinfo": "none",
         "line": {
          "color": "gray",
          "dash": "dot",
          "width": 1
         },
         "mode": "lines",
         "showlegend": false,
         "type": "scatter",
         "x": [
          -0.07600858807563782,
          0.217055544257164
         ],
         "y": [
          0.2181776762008667,
          0.1991279125213623
         ]
        },
        {
         "hoverinfo": "none",
         "line": {
          "color": "gray",
          "dash": "dot",
          "width": 1
         },
         "mode": "lines",
         "showlegend": false,
         "type": "scatter",
         "x": [
          0.10957606136798859,
          0.33475345373153687
         ],
         "y": [
          0.15141882002353668,
          0.13208843767642975
         ]
        },
        {
         "hoverinfo": "none",
         "line": {
          "color": "gray",
          "dash": "dot",
          "width": 1
         },
         "mode": "lines",
         "showlegend": false,
         "type": "scatter",
         "x": [
          0.22011429071426392,
          0.4446287751197815
         ],
         "y": [
          0.15326370298862457,
          0.1286957710981369
         ]
        },
        {
         "hoverinfo": "none",
         "line": {
          "color": "gray",
          "dash": "dot",
          "width": 1
         },
         "mode": "lines",
         "showlegend": false,
         "type": "scatter",
         "x": [
          -0.0463595874607563,
          0.19617006182670593
         ],
         "y": [
          0.2857326567173004,
          0.26848745346069336
         ]
        },
        {
         "hoverinfo": "none",
         "line": {
          "color": "gray",
          "dash": "dot",
          "width": 1
         },
         "mode": "lines",
         "showlegend": false,
         "type": "scatter",
         "x": [
          -0.09513790905475616,
          0.1724155843257904
         ],
         "y": [
          0.24884286522865295,
          0.2330034375190735
         ]
        },
        {
         "hoverinfo": "none",
         "line": {
          "color": "gray",
          "dash": "dot",
          "width": 1
         },
         "mode": "lines",
         "showlegend": false,
         "type": "scatter",
         "x": [
          -0.11339838057756424,
          0.14940065145492554
         ],
         "y": [
          0.09789380431175232,
          0.08440729975700378
         ]
        },
        {
         "hoverinfo": "none",
         "line": {
          "color": "gray",
          "dash": "dot",
          "width": 1
         },
         "mode": "lines",
         "showlegend": false,
         "type": "scatter",
         "x": [
          -0.20236119627952576,
          0.02377471700310707
         ],
         "y": [
          0.17382624745368958,
          0.16601544618606567
         ]
        },
        {
         "hoverinfo": "none",
         "line": {
          "color": "gray",
          "dash": "dot",
          "width": 1
         },
         "mode": "lines",
         "showlegend": false,
         "type": "scatter",
         "x": [
          -0.04193346947431564,
          0.2078520804643631
         ],
         "y": [
          0.10069598257541656,
          0.08622977882623672
         ]
        },
        {
         "hoverinfo": "none",
         "line": {
          "color": "gray",
          "dash": "dot",
          "width": 1
         },
         "mode": "lines",
         "showlegend": false,
         "type": "scatter",
         "x": [
          0.23264595866203308,
          0.4162670969963074
         ],
         "y": [
          0.0354703813791275,
          0.02329578995704651
         ]
        },
        {
         "hoverinfo": "none",
         "line": {
          "color": "gray",
          "dash": "dot",
          "width": 1
         },
         "mode": "lines",
         "showlegend": false,
         "type": "scatter",
         "x": [
          0.27693870663642883,
          0.4867708086967468
         ],
         "y": [
          0.14509673416614532,
          0.12024141848087311
         ]
        },
        {
         "hoverinfo": "none",
         "line": {
          "color": "gray",
          "dash": "dot",
          "width": 1
         },
         "mode": "lines",
         "showlegend": false,
         "type": "scatter",
         "x": [
          0.18238788843154907,
          0.38188621401786804
         ],
         "y": [
          0.13071925938129425,
          0.11242807656526566
         ]
        },
        {
         "hoverinfo": "none",
         "line": {
          "color": "gray",
          "dash": "dot",
          "width": 1
         },
         "mode": "lines",
         "showlegend": false,
         "type": "scatter",
         "x": [
          0.0324958860874176,
          0.31762880086898804
         ],
         "y": [
          0.17935051023960114,
          0.15591824054718018
         ]
        },
        {
         "hoverinfo": "none",
         "line": {
          "color": "gray",
          "dash": "dot",
          "width": 1
         },
         "mode": "lines",
         "showlegend": false,
         "type": "scatter",
         "x": [
          0.004811826162040234,
          0.2626459002494812
         ],
         "y": [
          0.15283216536045074,
          0.13466303050518036
         ]
        },
        {
         "hoverinfo": "none",
         "line": {
          "color": "gray",
          "dash": "dot",
          "width": 1
         },
         "mode": "lines",
         "showlegend": false,
         "type": "scatter",
         "x": [
          0.058491483330726624,
          0.28833141922950745
         ],
         "y": [
          0.165948748588562,
          0.14764752984046936
         ]
        },
        {
         "hoverinfo": "none",
         "line": {
          "color": "gray",
          "dash": "dot",
          "width": 1
         },
         "mode": "lines",
         "showlegend": false,
         "type": "scatter",
         "x": [
          0.13429388403892517,
          0.37180453538894653
         ],
         "y": [
          0.2918398380279541,
          0.26118525862693787
         ]
        },
        {
         "hoverinfo": "none",
         "line": {
          "color": "gray",
          "dash": "dot",
          "width": 1
         },
         "mode": "lines",
         "showlegend": false,
         "type": "scatter",
         "x": [
          -0.06114991009235382,
          0.17551091313362122
         ],
         "y": [
          0.1408667266368866,
          0.12723565101623535
         ]
        },
        {
         "hoverinfo": "none",
         "line": {
          "color": "gray",
          "dash": "dot",
          "width": 1
         },
         "mode": "lines",
         "showlegend": false,
         "type": "scatter",
         "x": [
          0.17085044085979462,
          0.4125188887119293
         ],
         "y": [
          0.1507365107536316,
          0.12672792375087738
         ]
        },
        {
         "hoverinfo": "none",
         "line": {
          "color": "gray",
          "dash": "dot",
          "width": 1
         },
         "mode": "lines",
         "showlegend": false,
         "type": "scatter",
         "x": [
          -0.09678971767425537,
          0.16693955659866333
         ],
         "y": [
          0.34195640683174133,
          0.3257039189338684
         ]
        },
        {
         "hoverinfo": "none",
         "line": {
          "color": "gray",
          "dash": "dot",
          "width": 1
         },
         "mode": "lines",
         "showlegend": false,
         "type": "scatter",
         "x": [
          0.14606480300426483,
          0.3997926115989685
         ],
         "y": [
          0.16694927215576172,
          0.14156004786491394
         ]
        },
        {
         "hoverinfo": "none",
         "line": {
          "color": "gray",
          "dash": "dot",
          "width": 1
         },
         "mode": "lines",
         "showlegend": false,
         "type": "scatter",
         "x": [
          0.08181251585483551,
          0.3282172679901123
         ],
         "y": [
          0.1549353152513504,
          0.13440284132957458
         ]
        },
        {
         "hoverinfo": "none",
         "line": {
          "color": "gray",
          "dash": "dot",
          "width": 1
         },
         "mode": "lines",
         "showlegend": false,
         "type": "scatter",
         "x": [
          -0.0335320346057415,
          0.21239949762821198
         ],
         "y": [
          0.2045074999332428,
          0.18778464198112488
         ]
        },
        {
         "hoverinfo": "none",
         "line": {
          "color": "gray",
          "dash": "dot",
          "width": 1
         },
         "mode": "lines",
         "showlegend": false,
         "type": "scatter",
         "x": [
          0.058887265622615814,
          0.3189998269081116
         ],
         "y": [
          0.06411657482385635,
          0.047814588993787766
         ]
        },
        {
         "hoverinfo": "none",
         "line": {
          "color": "gray",
          "dash": "dot",
          "width": 1
         },
         "mode": "lines",
         "showlegend": false,
         "type": "scatter",
         "x": [
          0.04416496306657791,
          0.2890085279941559
         ],
         "y": [
          0.17529234290122986,
          0.15573230385780334
         ]
        },
        {
         "hoverinfo": "none",
         "line": {
          "color": "gray",
          "dash": "dot",
          "width": 1
         },
         "mode": "lines",
         "showlegend": false,
         "type": "scatter",
         "x": [
          -0.1874842345714569,
          0.04969647526741028
         ],
         "y": [
          0.1964745819568634,
          0.18784619867801666
         ]
        },
        {
         "hoverinfo": "none",
         "line": {
          "color": "gray",
          "dash": "dot",
          "width": 1
         },
         "mode": "lines",
         "showlegend": false,
         "type": "scatter",
         "x": [
          0.20256954431533813,
          0.41602110862731934
         ],
         "y": [
          0.07555347681045532,
          0.058847635984420776
         ]
        },
        {
         "hoverinfo": "none",
         "line": {
          "color": "gray",
          "dash": "dot",
          "width": 1
         },
         "mode": "lines",
         "showlegend": false,
         "type": "scatter",
         "x": [
          -0.005827365443110466,
          0.19945849478244781
         ],
         "y": [
          0.30225056409835815,
          0.28599926829338074
         ]
        },
        {
         "hoverinfo": "none",
         "line": {
          "color": "gray",
          "dash": "dot",
          "width": 1
         },
         "mode": "lines",
         "showlegend": false,
         "type": "scatter",
         "x": [
          0.07057444006204605,
          0.3053480088710785
         ],
         "y": [
          0.11866461485624313,
          0.10146848857402802
         ]
        },
        {
         "hoverinfo": "none",
         "line": {
          "color": "gray",
          "dash": "dot",
          "width": 1
         },
         "mode": "lines",
         "showlegend": false,
         "type": "scatter",
         "x": [
          -0.13048510253429413,
          0.09330930560827255
         ],
         "y": [
          0.13830484449863434,
          0.12775416672229767
         ]
        },
        {
         "hoverinfo": "none",
         "line": {
          "color": "gray",
          "dash": "dot",
          "width": 1
         },
         "mode": "lines",
         "showlegend": false,
         "type": "scatter",
         "x": [
          0.052690550684928894,
          0.32390302419662476
         ],
         "y": [
          0.08845146000385284,
          0.07020106911659241
         ]
        },
        {
         "hoverinfo": "none",
         "line": {
          "color": "gray",
          "dash": "dot",
          "width": 1
         },
         "mode": "lines",
         "showlegend": false,
         "type": "scatter",
         "x": [
          -0.23770633339881897,
          0.011061083525419235
         ],
         "y": [
          0.21000903844833374,
          0.20349864661693573
         ]
        },
        {
         "hoverinfo": "none",
         "line": {
          "color": "gray",
          "dash": "dot",
          "width": 1
         },
         "mode": "lines",
         "showlegend": false,
         "type": "scatter",
         "x": [
          -0.1144954115152359,
          0.12390337139368057
         ],
         "y": [
          0.12864989042282104,
          0.11667783558368683
         ]
        },
        {
         "hoverinfo": "none",
         "line": {
          "color": "gray",
          "dash": "dot",
          "width": 1
         },
         "mode": "lines",
         "showlegend": false,
         "type": "scatter",
         "x": [
          0.008741017431020737,
          0.27298757433891296
         ],
         "y": [
          0.12542088329792023,
          0.10753010213375092
         ]
        },
        {
         "hoverinfo": "none",
         "line": {
          "color": "gray",
          "dash": "dot",
          "width": 1
         },
         "mode": "lines",
         "showlegend": false,
         "type": "scatter",
         "x": [
          0.04976397752761841,
          0.28398168087005615
         ],
         "y": [
          0.21252715587615967,
          0.19230663776397705
         ]
        },
        {
         "hoverinfo": "none",
         "line": {
          "color": "gray",
          "dash": "dot",
          "width": 1
         },
         "mode": "lines",
         "showlegend": false,
         "type": "scatter",
         "x": [
          0.022439612075686455,
          0.2608518600463867
         ],
         "y": [
          0.23715808987617493,
          0.21713384985923767
         ]
        },
        {
         "hoverinfo": "none",
         "line": {
          "color": "gray",
          "dash": "dot",
          "width": 1
         },
         "mode": "lines",
         "showlegend": false,
         "type": "scatter",
         "x": [
          0.04315762594342232,
          0.2498081773519516
         ],
         "y": [
          0.23246344923973083,
          0.21498070657253265
         ]
        },
        {
         "hoverinfo": "none",
         "line": {
          "color": "gray",
          "dash": "dot",
          "width": 1
         },
         "mode": "lines",
         "showlegend": false,
         "type": "scatter",
         "x": [
          0.16834862530231476,
          0.36918938159942627
         ],
         "y": [
          0.1110561341047287,
          0.09425884485244751
         ]
        },
        {
         "hoverinfo": "none",
         "line": {
          "color": "gray",
          "dash": "dot",
          "width": 1
         },
         "mode": "lines",
         "showlegend": false,
         "type": "scatter",
         "x": [
          -0.060997411608695984,
          0.20890797674655914
         ],
         "y": [
          0.23541775345802307,
          0.2173181176185608
         ]
        },
        {
         "hoverinfo": "none",
         "line": {
          "color": "gray",
          "dash": "dot",
          "width": 1
         },
         "mode": "lines",
         "showlegend": false,
         "type": "scatter",
         "x": [
          0.25878220796585083,
          0.45236557722091675
         ],
         "y": [
          0.21180899441242218,
          0.18496647477149963
         ]
        },
        {
         "hoverinfo": "none",
         "line": {
          "color": "gray",
          "dash": "dot",
          "width": 1
         },
         "mode": "lines",
         "showlegend": false,
         "type": "scatter",
         "x": [
          0.02444133535027504,
          0.28262460231781006
         ],
         "y": [
          0.2735172212123871,
          0.2495812177658081
         ]
        },
        {
         "hoverinfo": "none",
         "line": {
          "color": "gray",
          "dash": "dot",
          "width": 1
         },
         "mode": "lines",
         "showlegend": false,
         "type": "scatter",
         "x": [
          -0.09123854339122772,
          0.19518119096755981
         ],
         "y": [
          0.24836605787277222,
          0.23046235740184784
         ]
        },
        {
         "hoverinfo": "none",
         "line": {
          "color": "gray",
          "dash": "dot",
          "width": 1
         },
         "mode": "lines",
         "showlegend": false,
         "type": "scatter",
         "x": [
          0.06475317478179932,
          0.31944242119789124
         ],
         "y": [
          0.16007578372955322,
          0.1392049640417099
         ]
        },
        {
         "hoverinfo": "none",
         "line": {
          "color": "gray",
          "dash": "dot",
          "width": 1
         },
         "mode": "lines",
         "showlegend": false,
         "type": "scatter",
         "x": [
          0.18626415729522705,
          0.4249582886695862
         ],
         "y": [
          0.20019316673278809,
          0.17187118530273438
         ]
        },
        {
         "hoverinfo": "none",
         "line": {
          "color": "gray",
          "dash": "dot",
          "width": 1
         },
         "mode": "lines",
         "showlegend": false,
         "type": "scatter",
         "x": [
          0.03127696365118027,
          0.2645745575428009
         ],
         "y": [
          0.15121926367282867,
          0.13426834344863892
         ]
        },
        {
         "hoverinfo": "none",
         "line": {
          "color": "gray",
          "dash": "dot",
          "width": 1
         },
         "mode": "lines",
         "showlegend": false,
         "type": "scatter",
         "x": [
          0.17662663757801056,
          0.42188552021980286
         ],
         "y": [
          0.12192105501890182,
          0.09944116324186325
         ]
        },
        {
         "hoverinfo": "none",
         "line": {
          "color": "gray",
          "dash": "dot",
          "width": 1
         },
         "mode": "lines",
         "showlegend": false,
         "type": "scatter",
         "x": [
          0.005664270371198654,
          0.28189942240715027
         ],
         "y": [
          0.1814298927783966,
          0.16035301983356476
         ]
        },
        {
         "hoverinfo": "none",
         "line": {
          "color": "gray",
          "dash": "dot",
          "width": 1
         },
         "mode": "lines",
         "showlegend": false,
         "type": "scatter",
         "x": [
          0.024956632405519485,
          0.24101552367210388
         ],
         "y": [
          0.057988692075014114,
          0.045537181198596954
         ]
        },
        {
         "hoverinfo": "none",
         "line": {
          "color": "gray",
          "dash": "dot",
          "width": 1
         },
         "mode": "lines",
         "showlegend": false,
         "type": "scatter",
         "x": [
          0.0697636529803276,
          0.31448692083358765
         ],
         "y": [
          0.13773418962955475,
          0.11875134706497192
         ]
        },
        {
         "hoverinfo": "none",
         "line": {
          "color": "gray",
          "dash": "dot",
          "width": 1
         },
         "mode": "lines",
         "showlegend": false,
         "type": "scatter",
         "x": [
          0.028530500829219818,
          0.25847381353378296
         ],
         "y": [
          0.23818987607955933,
          0.21872936189174652
         ]
        },
        {
         "hoverinfo": "none",
         "line": {
          "color": "gray",
          "dash": "dot",
          "width": 1
         },
         "mode": "lines",
         "showlegend": false,
         "type": "scatter",
         "x": [
          0.12974263727664948,
          0.35367265343666077
         ],
         "y": [
          0.15705430507659912,
          0.13667705655097961
         ]
        },
        {
         "hoverinfo": "none",
         "line": {
          "color": "gray",
          "dash": "dot",
          "width": 1
         },
         "mode": "lines",
         "showlegend": false,
         "type": "scatter",
         "x": [
          0.27614694833755493,
          0.46800342202186584
         ],
         "y": [
          0.059191860258579254,
          0.043799906969070435
         ]
        },
        {
         "hoverinfo": "none",
         "line": {
          "color": "gray",
          "dash": "dot",
          "width": 1
         },
         "mode": "lines",
         "showlegend": false,
         "type": "scatter",
         "x": [
          0.10402282327413559,
          0.3236134350299835
         ],
         "y": [
          0.2027914822101593,
          0.18177583813667297
         ]
        },
        {
         "hoverinfo": "none",
         "line": {
          "color": "gray",
          "dash": "dot",
          "width": 1
         },
         "mode": "lines",
         "showlegend": false,
         "type": "scatter",
         "x": [
          -0.014219440519809723,
          0.22724649310112
         ],
         "y": [
          0.11317941546440125,
          0.09826339781284332
         ]
        },
        {
         "hoverinfo": "none",
         "line": {
          "color": "gray",
          "dash": "dot",
          "width": 1
         },
         "mode": "lines",
         "showlegend": false,
         "type": "scatter",
         "x": [
          0.0362246111035347,
          0.30593007802963257
         ],
         "y": [
          0.19911828637123108,
          0.1762246936559677
         ]
        },
        {
         "hoverinfo": "none",
         "line": {
          "color": "gray",
          "dash": "dot",
          "width": 1
         },
         "mode": "lines",
         "showlegend": false,
         "type": "scatter",
         "x": [
          -0.08720850944519043,
          0.19450406730175018
         ],
         "y": [
          0.2635667622089386,
          0.24560627341270447
         ]
        },
        {
         "hoverinfo": "none",
         "line": {
          "color": "gray",
          "dash": "dot",
          "width": 1
         },
         "mode": "lines",
         "showlegend": false,
         "type": "scatter",
         "x": [
          -0.07758637517690659,
          0.14040884375572205
         ],
         "y": [
          0.1749647706747055,
          0.16296231746673584
         ]
        },
        {
         "hoverinfo": "none",
         "line": {
          "color": "gray",
          "dash": "dot",
          "width": 1
         },
         "mode": "lines",
         "showlegend": false,
         "type": "scatter",
         "x": [
          0.21793687343597412,
          0.45193150639533997
         ],
         "y": [
          0.252851665019989,
          0.2185686081647873
         ]
        },
        {
         "hoverinfo": "none",
         "line": {
          "color": "gray",
          "dash": "dot",
          "width": 1
         },
         "mode": "lines",
         "showlegend": false,
         "type": "scatter",
         "x": [
          0.20119157433509827,
          0.4237297475337982
         ],
         "y": [
          0.15268480777740479,
          0.1293901652097702
         ]
        },
        {
         "hoverinfo": "none",
         "line": {
          "color": "gray",
          "dash": "dot",
          "width": 1
         },
         "mode": "lines",
         "showlegend": false,
         "type": "scatter",
         "x": [
          0.25200507044792175,
          0.46954643726348877
         ],
         "y": [
          0.20283380150794983,
          0.17316275835037231
         ]
        }
       ],
       "layout": {
        "height": 700,
        "legend": {
         "title": {
          "text": "Cluster, Type"
         },
         "tracegroupgap": 0
        },
        "margin": {
         "t": 60
        },
        "template": {
         "data": {
          "bar": [
           {
            "error_x": {
             "color": "#2a3f5f"
            },
            "error_y": {
             "color": "#2a3f5f"
            },
            "marker": {
             "line": {
              "color": "#E5ECF6",
              "width": 0.5
             },
             "pattern": {
              "fillmode": "overlay",
              "size": 10,
              "solidity": 0.2
             }
            },
            "type": "bar"
           }
          ],
          "barpolar": [
           {
            "marker": {
             "line": {
              "color": "#E5ECF6",
              "width": 0.5
             },
             "pattern": {
              "fillmode": "overlay",
              "size": 10,
              "solidity": 0.2
             }
            },
            "type": "barpolar"
           }
          ],
          "carpet": [
           {
            "aaxis": {
             "endlinecolor": "#2a3f5f",
             "gridcolor": "white",
             "linecolor": "white",
             "minorgridcolor": "white",
             "startlinecolor": "#2a3f5f"
            },
            "baxis": {
             "endlinecolor": "#2a3f5f",
             "gridcolor": "white",
             "linecolor": "white",
             "minorgridcolor": "white",
             "startlinecolor": "#2a3f5f"
            },
            "type": "carpet"
           }
          ],
          "choropleth": [
           {
            "colorbar": {
             "outlinewidth": 0,
             "ticks": ""
            },
            "type": "choropleth"
           }
          ],
          "contour": [
           {
            "colorbar": {
             "outlinewidth": 0,
             "ticks": ""
            },
            "colorscale": [
             [
              0,
              "#0d0887"
             ],
             [
              0.1111111111111111,
              "#46039f"
             ],
             [
              0.2222222222222222,
              "#7201a8"
             ],
             [
              0.3333333333333333,
              "#9c179e"
             ],
             [
              0.4444444444444444,
              "#bd3786"
             ],
             [
              0.5555555555555556,
              "#d8576b"
             ],
             [
              0.6666666666666666,
              "#ed7953"
             ],
             [
              0.7777777777777778,
              "#fb9f3a"
             ],
             [
              0.8888888888888888,
              "#fdca26"
             ],
             [
              1,
              "#f0f921"
             ]
            ],
            "type": "contour"
           }
          ],
          "contourcarpet": [
           {
            "colorbar": {
             "outlinewidth": 0,
             "ticks": ""
            },
            "type": "contourcarpet"
           }
          ],
          "heatmap": [
           {
            "colorbar": {
             "outlinewidth": 0,
             "ticks": ""
            },
            "colorscale": [
             [
              0,
              "#0d0887"
             ],
             [
              0.1111111111111111,
              "#46039f"
             ],
             [
              0.2222222222222222,
              "#7201a8"
             ],
             [
              0.3333333333333333,
              "#9c179e"
             ],
             [
              0.4444444444444444,
              "#bd3786"
             ],
             [
              0.5555555555555556,
              "#d8576b"
             ],
             [
              0.6666666666666666,
              "#ed7953"
             ],
             [
              0.7777777777777778,
              "#fb9f3a"
             ],
             [
              0.8888888888888888,
              "#fdca26"
             ],
             [
              1,
              "#f0f921"
             ]
            ],
            "type": "heatmap"
           }
          ],
          "heatmapgl": [
           {
            "colorbar": {
             "outlinewidth": 0,
             "ticks": ""
            },
            "colorscale": [
             [
              0,
              "#0d0887"
             ],
             [
              0.1111111111111111,
              "#46039f"
             ],
             [
              0.2222222222222222,
              "#7201a8"
             ],
             [
              0.3333333333333333,
              "#9c179e"
             ],
             [
              0.4444444444444444,
              "#bd3786"
             ],
             [
              0.5555555555555556,
              "#d8576b"
             ],
             [
              0.6666666666666666,
              "#ed7953"
             ],
             [
              0.7777777777777778,
              "#fb9f3a"
             ],
             [
              0.8888888888888888,
              "#fdca26"
             ],
             [
              1,
              "#f0f921"
             ]
            ],
            "type": "heatmapgl"
           }
          ],
          "histogram": [
           {
            "marker": {
             "pattern": {
              "fillmode": "overlay",
              "size": 10,
              "solidity": 0.2
             }
            },
            "type": "histogram"
           }
          ],
          "histogram2d": [
           {
            "colorbar": {
             "outlinewidth": 0,
             "ticks": ""
            },
            "colorscale": [
             [
              0,
              "#0d0887"
             ],
             [
              0.1111111111111111,
              "#46039f"
             ],
             [
              0.2222222222222222,
              "#7201a8"
             ],
             [
              0.3333333333333333,
              "#9c179e"
             ],
             [
              0.4444444444444444,
              "#bd3786"
             ],
             [
              0.5555555555555556,
              "#d8576b"
             ],
             [
              0.6666666666666666,
              "#ed7953"
             ],
             [
              0.7777777777777778,
              "#fb9f3a"
             ],
             [
              0.8888888888888888,
              "#fdca26"
             ],
             [
              1,
              "#f0f921"
             ]
            ],
            "type": "histogram2d"
           }
          ],
          "histogram2dcontour": [
           {
            "colorbar": {
             "outlinewidth": 0,
             "ticks": ""
            },
            "colorscale": [
             [
              0,
              "#0d0887"
             ],
             [
              0.1111111111111111,
              "#46039f"
             ],
             [
              0.2222222222222222,
              "#7201a8"
             ],
             [
              0.3333333333333333,
              "#9c179e"
             ],
             [
              0.4444444444444444,
              "#bd3786"
             ],
             [
              0.5555555555555556,
              "#d8576b"
             ],
             [
              0.6666666666666666,
              "#ed7953"
             ],
             [
              0.7777777777777778,
              "#fb9f3a"
             ],
             [
              0.8888888888888888,
              "#fdca26"
             ],
             [
              1,
              "#f0f921"
             ]
            ],
            "type": "histogram2dcontour"
           }
          ],
          "mesh3d": [
           {
            "colorbar": {
             "outlinewidth": 0,
             "ticks": ""
            },
            "type": "mesh3d"
           }
          ],
          "parcoords": [
           {
            "line": {
             "colorbar": {
              "outlinewidth": 0,
              "ticks": ""
             }
            },
            "type": "parcoords"
           }
          ],
          "pie": [
           {
            "automargin": true,
            "type": "pie"
           }
          ],
          "scatter": [
           {
            "fillpattern": {
             "fillmode": "overlay",
             "size": 10,
             "solidity": 0.2
            },
            "type": "scatter"
           }
          ],
          "scatter3d": [
           {
            "line": {
             "colorbar": {
              "outlinewidth": 0,
              "ticks": ""
             }
            },
            "marker": {
             "colorbar": {
              "outlinewidth": 0,
              "ticks": ""
             }
            },
            "type": "scatter3d"
           }
          ],
          "scattercarpet": [
           {
            "marker": {
             "colorbar": {
              "outlinewidth": 0,
              "ticks": ""
             }
            },
            "type": "scattercarpet"
           }
          ],
          "scattergeo": [
           {
            "marker": {
             "colorbar": {
              "outlinewidth": 0,
              "ticks": ""
             }
            },
            "type": "scattergeo"
           }
          ],
          "scattergl": [
           {
            "marker": {
             "colorbar": {
              "outlinewidth": 0,
              "ticks": ""
             }
            },
            "type": "scattergl"
           }
          ],
          "scattermapbox": [
           {
            "marker": {
             "colorbar": {
              "outlinewidth": 0,
              "ticks": ""
             }
            },
            "type": "scattermapbox"
           }
          ],
          "scatterpolar": [
           {
            "marker": {
             "colorbar": {
              "outlinewidth": 0,
              "ticks": ""
             }
            },
            "type": "scatterpolar"
           }
          ],
          "scatterpolargl": [
           {
            "marker": {
             "colorbar": {
              "outlinewidth": 0,
              "ticks": ""
             }
            },
            "type": "scatterpolargl"
           }
          ],
          "scatterternary": [
           {
            "marker": {
             "colorbar": {
              "outlinewidth": 0,
              "ticks": ""
             }
            },
            "type": "scatterternary"
           }
          ],
          "surface": [
           {
            "colorbar": {
             "outlinewidth": 0,
             "ticks": ""
            },
            "colorscale": [
             [
              0,
              "#0d0887"
             ],
             [
              0.1111111111111111,
              "#46039f"
             ],
             [
              0.2222222222222222,
              "#7201a8"
             ],
             [
              0.3333333333333333,
              "#9c179e"
             ],
             [
              0.4444444444444444,
              "#bd3786"
             ],
             [
              0.5555555555555556,
              "#d8576b"
             ],
             [
              0.6666666666666666,
              "#ed7953"
             ],
             [
              0.7777777777777778,
              "#fb9f3a"
             ],
             [
              0.8888888888888888,
              "#fdca26"
             ],
             [
              1,
              "#f0f921"
             ]
            ],
            "type": "surface"
           }
          ],
          "table": [
           {
            "cells": {
             "fill": {
              "color": "#EBF0F8"
             },
             "line": {
              "color": "white"
             }
            },
            "header": {
             "fill": {
              "color": "#C8D4E3"
             },
             "line": {
              "color": "white"
             }
            },
            "type": "table"
           }
          ]
         },
         "layout": {
          "annotationdefaults": {
           "arrowcolor": "#2a3f5f",
           "arrowhead": 0,
           "arrowwidth": 1
          },
          "autotypenumbers": "strict",
          "coloraxis": {
           "colorbar": {
            "outlinewidth": 0,
            "ticks": ""
           }
          },
          "colorscale": {
           "diverging": [
            [
             0,
             "#8e0152"
            ],
            [
             0.1,
             "#c51b7d"
            ],
            [
             0.2,
             "#de77ae"
            ],
            [
             0.3,
             "#f1b6da"
            ],
            [
             0.4,
             "#fde0ef"
            ],
            [
             0.5,
             "#f7f7f7"
            ],
            [
             0.6,
             "#e6f5d0"
            ],
            [
             0.7,
             "#b8e186"
            ],
            [
             0.8,
             "#7fbc41"
            ],
            [
             0.9,
             "#4d9221"
            ],
            [
             1,
             "#276419"
            ]
           ],
           "sequential": [
            [
             0,
             "#0d0887"
            ],
            [
             0.1111111111111111,
             "#46039f"
            ],
            [
             0.2222222222222222,
             "#7201a8"
            ],
            [
             0.3333333333333333,
             "#9c179e"
            ],
            [
             0.4444444444444444,
             "#bd3786"
            ],
            [
             0.5555555555555556,
             "#d8576b"
            ],
            [
             0.6666666666666666,
             "#ed7953"
            ],
            [
             0.7777777777777778,
             "#fb9f3a"
            ],
            [
             0.8888888888888888,
             "#fdca26"
            ],
            [
             1,
             "#f0f921"
            ]
           ],
           "sequentialminus": [
            [
             0,
             "#0d0887"
            ],
            [
             0.1111111111111111,
             "#46039f"
            ],
            [
             0.2222222222222222,
             "#7201a8"
            ],
            [
             0.3333333333333333,
             "#9c179e"
            ],
            [
             0.4444444444444444,
             "#bd3786"
            ],
            [
             0.5555555555555556,
             "#d8576b"
            ],
            [
             0.6666666666666666,
             "#ed7953"
            ],
            [
             0.7777777777777778,
             "#fb9f3a"
            ],
            [
             0.8888888888888888,
             "#fdca26"
            ],
            [
             1,
             "#f0f921"
            ]
           ]
          },
          "colorway": [
           "#636efa",
           "#EF553B",
           "#00cc96",
           "#ab63fa",
           "#FFA15A",
           "#19d3f3",
           "#FF6692",
           "#B6E880",
           "#FF97FF",
           "#FECB52"
          ],
          "font": {
           "color": "#2a3f5f"
          },
          "geo": {
           "bgcolor": "white",
           "lakecolor": "white",
           "landcolor": "#E5ECF6",
           "showlakes": true,
           "showland": true,
           "subunitcolor": "white"
          },
          "hoverlabel": {
           "align": "left"
          },
          "hovermode": "closest",
          "mapbox": {
           "style": "light"
          },
          "paper_bgcolor": "white",
          "plot_bgcolor": "#E5ECF6",
          "polar": {
           "angularaxis": {
            "gridcolor": "white",
            "linecolor": "white",
            "ticks": ""
           },
           "bgcolor": "#E5ECF6",
           "radialaxis": {
            "gridcolor": "white",
            "linecolor": "white",
            "ticks": ""
           }
          },
          "scene": {
           "xaxis": {
            "backgroundcolor": "#E5ECF6",
            "gridcolor": "white",
            "gridwidth": 2,
            "linecolor": "white",
            "showbackground": true,
            "ticks": "",
            "zerolinecolor": "white"
           },
           "yaxis": {
            "backgroundcolor": "#E5ECF6",
            "gridcolor": "white",
            "gridwidth": 2,
            "linecolor": "white",
            "showbackground": true,
            "ticks": "",
            "zerolinecolor": "white"
           },
           "zaxis": {
            "backgroundcolor": "#E5ECF6",
            "gridcolor": "white",
            "gridwidth": 2,
            "linecolor": "white",
            "showbackground": true,
            "ticks": "",
            "zerolinecolor": "white"
           }
          },
          "shapedefaults": {
           "line": {
            "color": "#2a3f5f"
           }
          },
          "ternary": {
           "aaxis": {
            "gridcolor": "white",
            "linecolor": "white",
            "ticks": ""
           },
           "baxis": {
            "gridcolor": "white",
            "linecolor": "white",
            "ticks": ""
           },
           "bgcolor": "#E5ECF6",
           "caxis": {
            "gridcolor": "white",
            "linecolor": "white",
            "ticks": ""
           }
          },
          "title": {
           "x": 0.05
          },
          "xaxis": {
           "automargin": true,
           "gridcolor": "white",
           "linecolor": "white",
           "ticks": "",
           "title": {
            "standoff": 15
           },
           "zerolinecolor": "white",
           "zerolinewidth": 2
          },
          "yaxis": {
           "automargin": true,
           "gridcolor": "white",
           "linecolor": "white",
           "ticks": "",
           "title": {
            "standoff": 15
           },
           "zerolinecolor": "white",
           "zerolinewidth": 2
          }
         }
        },
        "title": {
         "text": "2D Semantic Projection: War vs. Love (COSINE Distance)"
        },
        "width": 900,
        "xaxis": {
         "anchor": "y",
         "domain": [
          0,
          1
         ],
         "title": {
          "text": "Distance to \"War\" (COSINE)"
         }
        },
        "yaxis": {
         "anchor": "x",
         "domain": [
          0,
          1
         ],
         "title": {
          "text": "Distance to \"Love\" (COSINE)"
         }
        }
       }
      }
     },
     "metadata": {},
     "output_type": "display_data"
    },
    {
     "name": "stdout",
     "output_type": "stream",
     "text": [
      "\n",
      "MOST CHANGED in 2D distance space\n",
      "--------------------------------------------------\n",
      "Index: 923 | Title: La Vie En Rose\n",
      "Original (War, Love): (-0.1494, 0.1379)\n",
      "Steered  (War, Love): (0.1849, 0.1205)\n",
      "Change: 0.3347\n",
      "\n",
      "Index: 902 | Title: Kari-gurashi no Arietti\n",
      "Original (War, Love): (-0.1732, 0.1786)\n",
      "Steered  (War, Love): (0.1396, 0.1640)\n",
      "Change: 0.3131\n",
      "\n",
      "Index: 935 | Title: Jeux d'enfants\n",
      "Original (War, Love): (0.0540, 0.2199)\n",
      "Steered  (War, Love): (0.3599, 0.1901)\n",
      "Change: 0.3073\n",
      "\n",
      "\n",
      "LEAST CHANGED in 2D distance space\n",
      "--------------------------------------------------\n",
      "Index: 950 | Title: Enemy at the Gates\n",
      "Original (War, Love): (0.2326, 0.0355)\n",
      "Steered  (War, Love): (0.4163, 0.0233)\n",
      "Change: 0.1840\n",
      "\n",
      "Index: 991 | Title: Kelly's Heroes\n",
      "Original (War, Love): (0.2761, 0.0592)\n",
      "Steered  (War, Love): (0.4680, 0.0438)\n",
      "Change: 0.1925\n",
      "\n",
      "Index: 979 | Title: Lethal Weapon\n",
      "Original (War, Love): (0.2588, 0.2118)\n",
      "Steered  (War, Love): (0.4524, 0.1850)\n",
      "Change: 0.1954\n",
      "\n"
     ]
    }
   ],
   "source": [
    "layer_to_steer = 11\n",
    "steering_coefficient = 1\n",
    "normalize = True\n",
    "\n",
    "steering_feature = \"War\"\n",
    "comparison_feature = \"Love\"\n",
    "\n",
    "steering_feature_texts, steering_opposite_feature_texts = import_feature_texts(f\"Features/{feature}\")\n",
    "steering_vector = get_steering_vector(model_name, feature_texts, layer_to_steer, opposite_texts=opposite_feature_texts, normalize=True)\n",
    "\n",
    "comparison_feature_texts, comparison_opposite_feature_texts = import_feature_texts(f\"Features/{comparison_feature}\")\n",
    "comparison_vector = get_steering_vector(model_name, comparison_feature_texts, layer_to_steer, opposite_texts=comparison_opposite_feature_texts, normalize=True)\n",
    "\n",
    "plot_2D_distance_projection(model, encoded_input, original_embeddings, all_texts_data, steering_vector, comparison_vector, layer_to_steer, \n",
    "                            steering_coefficient, steering_feature, comparison_feature, text_range=(900,1000), type=\"cosine\", normalize=normalize, print_differences=True) #Legg til print_differences "
   ]
  }
 ],
 "metadata": {
  "kernelspec": {
   "display_name": "embed",
   "language": "python",
   "name": "python3"
  },
  "language_info": {
   "codemirror_mode": {
    "name": "ipython",
    "version": 3
   },
   "file_extension": ".py",
   "mimetype": "text/x-python",
   "name": "python",
   "nbconvert_exporter": "python",
   "pygments_lexer": "ipython3",
   "version": "3.12.3"
  },
  "orig_nbformat": 4
 },
 "nbformat": 4,
 "nbformat_minor": 2
}
