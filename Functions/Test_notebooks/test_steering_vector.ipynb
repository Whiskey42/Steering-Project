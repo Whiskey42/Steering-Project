{
 "cells": [
  {
   "cell_type": "code",
   "execution_count": 7,
   "metadata": {},
   "outputs": [],
   "source": [
    "from Steering_vector import import_feature_texts, get_steering_vector, export_steering_vector_to_pkl, import_steering_vector_from_pkl"
   ]
  },
  {
   "cell_type": "code",
   "execution_count": 8,
   "metadata": {},
   "outputs": [
    {
     "name": "stdout",
     "output_type": "stream",
     "text": [
      "Opposite file not found: Features/Baseline/opposite.txt\n",
      "Steering vector for 'Baseline' (layer 11) exported to steering_vector.pkl\n"
     ]
    }
   ],
   "source": [
    "# Import feature texts\n",
    "feature = \"Baseline\"\n",
    "layer_to_steer = 11\n",
    "#feature_texts, opposite_feature_texts = import_feature_texts(\"#Path/To/Your/FeatureTexts\")\n",
    "feature_texts, opposite_feature_texts = import_feature_texts(f\"Features/{feature}\")\n",
    "\n",
    "# Compute steering vector\n",
    "model_name = \"sentence-transformers/all-MiniLM-L12-v2\"\n",
    "steering_vector = get_steering_vector(model_name, feature_texts, layer_to_steer=layer_to_steer, opposite_texts=opposite_feature_texts, normalize=True)\n",
    "\n",
    "# Export steering vector to pkl\n",
    "export_steering_vector_to_pkl(steering_vector, \"steering_vector.pkl\", feature_name=feature, layer_to_steer=layer_to_steer)\n",
    "\n",
    "# Import steering vector from pkl - examples:\n",
    "# Get specific vector for specific layer\n",
    "#imported_steering_vector = import_steering_vector_from_pkl(\"steering_vector.pkl\", feature_name=\"War\", layer_to_steer=11)\n",
    "\n",
    "# Get all layers for a feature (returns {layer: vector} dict)\n",
    "#all_love_vectors = import_steering_vector_from_pkl(\"steering_vector.pkl\", feature_name=\"Love\")\n",
    "\n",
    "# Get everything (returns full structure)\n",
    "#all_data = import_steering_vector_from_pkl(\"steering_vector.pkl\")\n",
    "\n",
    "# Clear steering vectors - examples:\n",
    "# Clear specific feature\n",
    "#clear_steering_vectors_from_pkl(\"steering_vector.pkl\", feature_name=\"Love\")\n",
    "\n",
    "# Clear all features (start completely fresh)\n",
    "#clear_steering_vectors_from_pkl(\"steering_vector.pkl\")"
   ]
  },
  {
   "cell_type": "code",
   "execution_count": 10,
   "metadata": {},
   "outputs": [
    {
     "name": "stdout",
     "output_type": "stream",
     "text": [
      "\n",
      "=== Processing feature: Love ===\n",
      "Opposite file not found: Features/Love/opposite.txt\n",
      "Steering vector for 'Love' (layer 0) exported to steering_vector.pkl\n",
      "Steering vector for 'Love' (layer 1) exported to steering_vector.pkl\n",
      "Steering vector for 'Love' (layer 2) exported to steering_vector.pkl\n",
      "Steering vector for 'Love' (layer 3) exported to steering_vector.pkl\n",
      "Steering vector for 'Love' (layer 4) exported to steering_vector.pkl\n",
      "Steering vector for 'Love' (layer 5) exported to steering_vector.pkl\n",
      "Steering vector for 'Love' (layer 6) exported to steering_vector.pkl\n",
      "Steering vector for 'Love' (layer 7) exported to steering_vector.pkl\n",
      "Steering vector for 'Love' (layer 8) exported to steering_vector.pkl\n",
      "Steering vector for 'Love' (layer 9) exported to steering_vector.pkl\n",
      "Steering vector for 'Love' (layer 10) exported to steering_vector.pkl\n",
      "Steering vector for 'Love' (layer 11) exported to steering_vector.pkl\n",
      "Steering vector for 'Love' (layer 12) exported to steering_vector.pkl\n",
      "\n",
      "=== Processing feature: War ===\n",
      "Steering vector for 'War' (layer 0) exported to steering_vector.pkl\n",
      "Steering vector for 'War' (layer 1) exported to steering_vector.pkl\n",
      "Steering vector for 'War' (layer 2) exported to steering_vector.pkl\n",
      "Steering vector for 'War' (layer 3) exported to steering_vector.pkl\n",
      "Steering vector for 'War' (layer 4) exported to steering_vector.pkl\n",
      "Steering vector for 'War' (layer 5) exported to steering_vector.pkl\n",
      "Steering vector for 'War' (layer 6) exported to steering_vector.pkl\n",
      "Steering vector for 'War' (layer 7) exported to steering_vector.pkl\n",
      "Steering vector for 'War' (layer 8) exported to steering_vector.pkl\n",
      "Steering vector for 'War' (layer 9) exported to steering_vector.pkl\n",
      "Steering vector for 'War' (layer 10) exported to steering_vector.pkl\n",
      "Steering vector for 'War' (layer 11) exported to steering_vector.pkl\n",
      "Steering vector for 'War' (layer 12) exported to steering_vector.pkl\n",
      "\n",
      "=== Processing feature: Baseline ===\n",
      "Opposite file not found: Features/Baseline/opposite.txt\n",
      "Steering vector for 'Baseline' (layer 0) exported to steering_vector.pkl\n",
      "Steering vector for 'Baseline' (layer 1) exported to steering_vector.pkl\n",
      "Steering vector for 'Baseline' (layer 2) exported to steering_vector.pkl\n",
      "Steering vector for 'Baseline' (layer 3) exported to steering_vector.pkl\n",
      "Steering vector for 'Baseline' (layer 4) exported to steering_vector.pkl\n",
      "Steering vector for 'Baseline' (layer 5) exported to steering_vector.pkl\n",
      "Steering vector for 'Baseline' (layer 6) exported to steering_vector.pkl\n",
      "Steering vector for 'Baseline' (layer 7) exported to steering_vector.pkl\n",
      "Steering vector for 'Baseline' (layer 8) exported to steering_vector.pkl\n",
      "Steering vector for 'Baseline' (layer 9) exported to steering_vector.pkl\n",
      "Steering vector for 'Baseline' (layer 10) exported to steering_vector.pkl\n",
      "Steering vector for 'Baseline' (layer 11) exported to steering_vector.pkl\n",
      "Steering vector for 'Baseline' (layer 12) exported to steering_vector.pkl\n",
      "\n",
      "=== Processing feature: Norway ===\n",
      "Steering vector for 'Norway' (layer 0) exported to steering_vector.pkl\n",
      "Steering vector for 'Norway' (layer 1) exported to steering_vector.pkl\n",
      "Steering vector for 'Norway' (layer 2) exported to steering_vector.pkl\n",
      "Steering vector for 'Norway' (layer 3) exported to steering_vector.pkl\n",
      "Steering vector for 'Norway' (layer 4) exported to steering_vector.pkl\n",
      "Steering vector for 'Norway' (layer 5) exported to steering_vector.pkl\n",
      "Steering vector for 'Norway' (layer 6) exported to steering_vector.pkl\n",
      "Steering vector for 'Norway' (layer 7) exported to steering_vector.pkl\n",
      "Steering vector for 'Norway' (layer 8) exported to steering_vector.pkl\n",
      "Steering vector for 'Norway' (layer 9) exported to steering_vector.pkl\n",
      "Steering vector for 'Norway' (layer 10) exported to steering_vector.pkl\n",
      "Steering vector for 'Norway' (layer 11) exported to steering_vector.pkl\n",
      "Steering vector for 'Norway' (layer 12) exported to steering_vector.pkl\n"
     ]
    }
   ],
   "source": [
    "features = [\"Love\", \"War\", \"Baseline\", \"Norway\"]\n",
    "model_name = \"sentence-transformers/all-MiniLM-L12-v2\"\n",
    "file_name = \"steering_vector.pkl\"\n",
    "\n",
    "for feature in features:\n",
    "    print(f\"\\n=== Processing feature: {feature} ===\")\n",
    "\n",
    "    feature_texts, opposite_feature_texts = import_feature_texts(f\"Features/{feature}\")\n",
    "\n",
    "    for layer in range(13):  # 0–12 inclusive\n",
    "        steering_vector = get_steering_vector(\n",
    "            model_name=model_name,\n",
    "            sample_texts=feature_texts,\n",
    "            layer_to_steer=layer,\n",
    "            opposite_texts=opposite_feature_texts,\n",
    "            normalize=True\n",
    "        )\n",
    "        export_steering_vector_to_pkl(\n",
    "            steering_vector,\n",
    "            file_name=file_name,\n",
    "            feature_name=feature,\n",
    "            layer_to_steer=layer\n",
    "        )\n"
   ]
  },
  {
   "cell_type": "code",
   "execution_count": 11,
   "metadata": {},
   "outputs": [
    {
     "name": "stdout",
     "output_type": "stream",
     "text": [
      "Steering vectors imported from steering_vector.pkl\n",
      "Available steering vectors: 'Love' (layers: [0, 1, 2, 3, 4, 5, 6, 7, 8, 9, 10, 11, 12]), 'War' (layers: [0, 1, 2, 3, 4, 5, 6, 7, 8, 9, 10, 11, 12]), 'Norway' (layers: [0, 1, 2, 3, 4, 5, 6, 7, 8, 9, 10, 11, 12]), 'Baseline' (layers: [0, 1, 2, 3, 4, 5, 6, 7, 8, 9, 10, 11, 12])\n",
      "Returning all steering vector data\n"
     ]
    }
   ],
   "source": [
    "steering_vector = import_steering_vector_from_pkl(\"steering_vector.pkl\")"
   ]
  }
 ],
 "metadata": {
  "kernelspec": {
   "display_name": "embed",
   "language": "python",
   "name": "python3"
  },
  "language_info": {
   "codemirror_mode": {
    "name": "ipython",
    "version": 3
   },
   "file_extension": ".py",
   "mimetype": "text/x-python",
   "name": "python",
   "nbconvert_exporter": "python",
   "pygments_lexer": "ipython3",
   "version": "3.12.3"
  },
  "orig_nbformat": 4
 },
 "nbformat": 4,
 "nbformat_minor": 2
}
